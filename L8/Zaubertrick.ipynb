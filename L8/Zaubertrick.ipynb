{
 "cells": [
  {
   "cell_type": "markdown",
   "id": "e786221e-e56b-448f-b0da-ce70615b59e6",
   "metadata": {
    "tags": []
   },
   "source": [
    "### Zaubertrick\n",
    "Denke dir eine Zahl von 0 bis und mit 63.\n",
    "Dir werden dann Karten mit Zahlen gezeigt, und du wirst sechs Mal gefragt, ob deine Zahl auf der Karte zu sehen ist.\n",
    "\n",
    "> ```\n",
    " 4  5  6  7 12 13 \n",
    "14 15 20 21 22 23 \n",
    "28 29 30 31 36 37 \n",
    "38 39 44 45 46 47 \n",
    "52 53 54 55 60 61 \n",
    "62 63  \n",
    "\n",
    ">  Ist deine Zahl zu sehen? [y/n]\n",
    "  \n",
    "Dann wird deine Zahl genannt.  \n",
    "\n",
    "**Erkl&auml;rung**:  \n",
    "Die erste Zahl auf den sechs Karten ist jeweils  \n",
    "\n",
    "$$ 1= 2^0, 2=2^1, 4= 2^2, 8=2^3, 16 = 2^4 \\text{ und } 32 = 3^5.$$  \n",
    "\n",
    "Jede Zahl von 0 bis 63 kann in der Form  \n",
    "\n",
    "$$0bz_5z_4z_3z_2z_1z_0 \\text{ mit } z_i \\text{ gleich 0 oder 1}$$ \n",
    "\n",
    "geschrieben werden, z.B. `11 = 0b001011`.\n",
    "Genau dann wenn z_i gleich 1 ist wird die Zahl auf der (i+1)-ten Karte gef&uuml;hrt (z.B.\n",
    "11 auf den Karten 1,2 und 4), und die Zahl ist die Summe der jeweils ersten Zahl auf diesen Karten.\n",
    "\n",
    "\n",
    "**Auspacken von Iterables  beim Funktionsaufruf mit `*<iterable>`**\n",
    "- `f(*[1, 2, 3])` wird zu `f(1, 2, 3)`,\n",
    "- `f(*(1, 2))` wird zu `f(1, 2)`,\n",
    "- `f(*'abc')` zu `f('a', 'b', 'c')`.  \n",
    "\n",
    "Typische Anwendungen:\n",
    "```python\n",
    "names = ['Alice', 'Bob', 'Carl']\n",
    "print(*names, sep= ', ')\n",
    "print('1. {}, 2. {}, 3. {}'.format(*names))\n",
    "```"
   ]
  },
  {
   "cell_type": "code",
   "execution_count": null,
   "id": "ec037644-1c83-4dc5-aa96-91bf3d1cdf20",
   "metadata": {},
   "outputs": [],
   "source": [
    "import math\n",
    "\n",
    "def get_fstring(n, width):\n",
    "    ncols = math.ceil((math.sqrt(n)))\n",
    "    ff = '{{:>{width}}} '.format(width = width)\n",
    "    fstring =  '\\n'.join([ff * ncols] * ncols)\n",
    "    return fstring, ncols ** 2\n",
    "\n",
    "def show_numbers(numbers):\n",
    "    width = len(str(max(numbers))) \n",
    "    fstring, n_fields = get_fstring(len(numbers), width)\n",
    "    \n",
    "    n_numbers = len(numbers)  \n",
    "    items = numbers + [''] * (n_fields - n_numbers)   \n",
    "   \n",
    "    print(fstring.format(*items[:n_fields]))"
   ]
  },
  {
   "cell_type": "code",
   "execution_count": 28,
   "id": "5ebdb757-ffcb-4f6f-bc01-a2f064bbf236",
   "metadata": {},
   "outputs": [],
   "source": [
    "# 6 Karten mit Zahlen\n",
    "def get_cards():\n",
    "    '''return a list of lists of numbers in range(64)\n",
    "       the numbers in the ith list have the ith bit set\n",
    "    '''   \n",
    "    cards = []\n",
    "    for i in range(6):\n",
    "        card = []\n",
    "        for  n in range(64):\n",
    "            if 1 << i & n:\n",
    "                card.append(n)\n",
    "        cards.append(card)\n",
    "                    \n",
    "    return cards                    "
   ]
  },
  {
   "cell_type": "code",
   "execution_count": null,
   "id": "259b42eb-716b-4ada-bc15-38a2bbf0bc9d",
   "metadata": {},
   "outputs": [
    {
     "name": "stdout",
     "output_type": "stream",
     "text": [
      "Denke dir eine Zahl von 0 bis und mit  63\n",
      " 1  3  5  7  9 11 \n",
      "13 15 17 19 21 23 \n",
      "25 27 29 31 33 35 \n",
      "37 39 41 43 45 47 \n",
      "49 51 53 55 57 59 \n",
      "61 63             \n"
     ]
    }
   ],
   "source": [
    "# Zahl erraten\n",
    "cards = get_cards()\n",
    "print('Denke dir eine Zahl von 0 bis und mit  63')\n",
    "zahl = 0\n",
    "for i, card in enumerate(cards):\n",
    "    show_numbers(card)\n",
    "    answer = input('Ist deine Zahl zu sehen? [y/n]')\n",
    "    if 'Y' in answer.upper():\n",
    "        zahl = zahl + card[0] \n",
    "print('Deine Zahl ist', zahl)    "
   ]
  },
  {
   "cell_type": "code",
   "execution_count": null,
   "id": "d4ac230e-00e1-4ffb-99aa-1299297a5637",
   "metadata": {},
   "outputs": [],
   "source": []
  }
 ],
 "metadata": {
  "kernelspec": {
   "display_name": "Python 3 (ipykernel)",
   "language": "python",
   "name": "python3"
  },
  "language_info": {
   "codemirror_mode": {
    "name": "ipython",
    "version": 3
   },
   "file_extension": ".py",
   "mimetype": "text/x-python",
   "name": "python",
   "nbconvert_exporter": "python",
   "pygments_lexer": "ipython3",
   "version": "3.9.10"
  }
 },
 "nbformat": 4,
 "nbformat_minor": 5
}
