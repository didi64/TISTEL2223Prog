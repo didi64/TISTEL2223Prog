{
 "cells": [
  {
   "cell_type": "markdown",
   "id": "88df95fd-5506-478c-9b42-818827d7504f",
   "metadata": {
    "tags": []
   },
   "source": [
    "### Lektion 8, &Uuml;berblick und weitere Resourcen\n",
    "\n",
    "- Dictionaries aus Text(files) erstellen.  \n",
    "  Daten zu Schweizer St&auml;te mit mehr als 10'000 Einwohnern sammeln, putzen, und\n",
    "  darstellen und auswerten.\n",
    "- Mehr zu Funktionen \n",
    "  - Funktionen mit Default-Argumenten  \n",
    "  - Argumente **by position** und als **key-value** Paar &uuml;bergeben\n",
    "  - Funktionen definieren, die eine variable Anzahl Argumente entgegennehmen k&ouml;nnen  \n",
    "    wie z.B. `print` und `str.format`\n",
    "- Das Canvas-Widgets  \n",
    "  Eine Leinwand zum zeichnen"
   ]
  },
  {
   "cell_type": "code",
   "execution_count": null,
   "id": "57bfec6b-ac0e-4a1b-aeba-fdd80da8864e",
   "metadata": {},
   "outputs": [],
   "source": []
  }
 ],
 "metadata": {
  "kernelspec": {
   "display_name": "Python 3 (ipykernel)",
   "language": "python",
   "name": "python3"
  },
  "language_info": {
   "codemirror_mode": {
    "name": "ipython",
    "version": 3
   },
   "file_extension": ".py",
   "mimetype": "text/x-python",
   "name": "python",
   "nbconvert_exporter": "python",
   "pygments_lexer": "ipython3",
   "version": "3.9.10"
  }
 },
 "nbformat": 4,
 "nbformat_minor": 5
}
