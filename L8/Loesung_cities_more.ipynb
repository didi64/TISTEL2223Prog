{
 "cells": [
  {
   "cell_type": "markdown",
   "id": "6f4ccffe-3fb9-49ff-ac25-47cb3f49a532",
   "metadata": {},
   "source": [
    "### Scheizer Städte mit mehr als 10'000 Einwohner"
   ]
  },
  {
   "cell_type": "markdown",
   "id": "64b6d0ad-8022-4c10-8771-795b8e41b597",
   "metadata": {},
   "source": [
    "***\n",
    "&Ouml;ffne cities.txt, lies alle Zeilen ein und entferne white-space von rechts\n",
    "***"
   ]
  },
  {
   "cell_type": "code",
   "execution_count": null,
   "id": "8fb1a29c-ac42-4352-b3f4-d98054adf9a4",
   "metadata": {},
   "outputs": [],
   "source": [
    "lines = []\n",
    "with open('cities.txt', mode = 'r') as f:\n",
    "    for line in f:\n",
    "        lines.append(line.rstrip())\n",
    "  \n",
    "# gib zur Kontrolle die ersten 4 Zeilen aus\n",
    "lines[:4]        "
   ]
  },
  {
   "cell_type": "code",
   "execution_count": null,
   "id": "56083f07-3a24-4b36-bf89-c59dfb9080ff",
   "metadata": {},
   "outputs": [],
   "source": [
    "# ebenso die letzten 2 Zeilen\n",
    "lines[-2:] "
   ]
  },
  {
   "cell_type": "markdown",
   "id": "4b4535ab-ca2c-451f-8478-d1f23841d254",
   "metadata": {},
   "source": [
    "***\n",
    "Trenne Zeilen beim Tabulator '\\t', entferne Spaces von rechts,\n",
    "verwandle rechte Spalte in Integers. Ersetzte vorg&auml;ngig\n",
    "`\"'\"` duch `''` mit `str.replace(\"'\",'')`.\n",
    "***"
   ]
  },
  {
   "cell_type": "code",
   "execution_count": null,
   "id": "55fc40b5-ccd6-4ca7-9b42-e0a93b447ae1",
   "metadata": {},
   "outputs": [],
   "source": [
    "table_cities = []\n",
    "for row in lines:\n",
    "    cols = row.split('\\t')\n",
    "    cols = [s.strip() for s in cols]\n",
    "    last = cols[-1]\n",
    "    population  = int(last.replace(\"'\",''))\n",
    "    cols[-1] = population\n",
    "    table_cities.append(cols[1:])"
   ]
  },
  {
   "cell_type": "code",
   "execution_count": null,
   "id": "6b3c0a24-204b-4385-8c3e-85f20244d031",
   "metadata": {},
   "outputs": [],
   "source": [
    "table_cities[:3]"
   ]
  },
  {
   "cell_type": "code",
   "execution_count": null,
   "id": "bbf23156-45c1-4b30-8fc1-5ed67d4bbe1b",
   "metadata": {},
   "outputs": [],
   "source": [
    "table_cities[-2:]"
   ]
  },
  {
   "cell_type": "markdown",
   "id": "49af09ea-5b72-4e02-9558-a741bf322a59",
   "metadata": {},
   "source": [
    "***\n",
    "Als Tabelle mit `table2str`\n",
    "***"
   ]
  },
  {
   "cell_type": "code",
   "execution_count": null,
   "id": "8884429a-481d-49c0-8eef-ce6fdbdcfc8c",
   "metadata": {
    "tags": []
   },
   "outputs": [],
   "source": [
    "from toolbox import print_as_table\n",
    "print_as_table(['Stadt', 'Kanton', 'Einwohner'], table_cities[:])"
   ]
  },
  {
   "cell_type": "markdown",
   "id": "ac915586-d63e-4fe8-82ee-db5e03fb629d",
   "metadata": {},
   "source": [
    "***\n",
    "Dictionary erstellen mit St&auml;dtenamen als Keys.  \n",
    "Die Werte sind Dictionaries der Form  \n",
    "`{'KANTON': 'ZH', 'EINWOHNER': 396027}`\n",
    "***"
   ]
  },
  {
   "cell_type": "code",
   "execution_count": 8,
   "id": "e2cafad1-a63d-45e5-bd26-12f9e54286a5",
   "metadata": {},
   "outputs": [],
   "source": [
    "cities = {}\n",
    "keys = ['KANTON', 'EINWOHNER']\n",
    "for row in table_cities:\n",
    "    cities[row[0]] = dict(zip(keys,row[1:]))"
   ]
  },
  {
   "cell_type": "code",
   "execution_count": 9,
   "id": "23bdabad-9665-4658-bf3e-be3c27d929ed",
   "metadata": {},
   "outputs": [
    {
     "data": {
      "text/plain": [
       "{'Zürich': {'KANTON': 'ZH', 'EINWOHNER': 396027},\n",
       " 'Genf': {'KANTON': 'GE', 'EINWOHNER': 194565}}"
      ]
     },
     "execution_count": 9,
     "metadata": {},
     "output_type": "execute_result"
    }
   ],
   "source": [
    "{k:cities[k] for k in list(cities)[:2]}"
   ]
  },
  {
   "cell_type": "code",
   "execution_count": 10,
   "id": "2b4d0dc9-5f8f-44f8-821b-6cf1b07b06a9",
   "metadata": {},
   "outputs": [
    {
     "data": {
      "text/plain": [
       "{'Zollikofen': {'KANTON': 'BE', 'EINWOHNER': 10097},\n",
       " 'Risch': {'KANTON': 'ZG', 'EINWOHNER': 10036}}"
      ]
     },
     "execution_count": 10,
     "metadata": {},
     "output_type": "execute_result"
    }
   ],
   "source": [
    "{k:cities[k] for k in list(cities)[-2:]}"
   ]
  },
  {
   "cell_type": "markdown",
   "id": "d3e9ffee-7c83-4888-a709-3ccdff7a296c",
   "metadata": {},
   "source": [
    "***\n",
    "Frage nach Stadt und gib Einwohnerzahl aus\n",
    "***"
   ]
  },
  {
   "cell_type": "code",
   "execution_count": 12,
   "id": "ec416cba-19f5-4ce9-9afa-ddc7e4e8c3cf",
   "metadata": {},
   "outputs": [
    {
     "name": "stdin",
     "output_type": "stream",
     "text": [
      "Stadt Bern\n"
     ]
    },
    {
     "name": "stdout",
     "output_type": "stream",
     "text": [
      "Bern hat 140634 Einwohner\n"
     ]
    }
   ],
   "source": [
    "city = input('Stadt')\n",
    "if city in cities:\n",
    "    population = cities[city].get('EINWOHNER', '?')\n",
    "    print('{} hat {} Einwohner'.format(city, population))\n",
    "else:\n",
    "    print('{} nicht gefunden'.format(city))"
   ]
  },
  {
   "cell_type": "markdown",
   "id": "958aa1dc-137a-4bba-9052-c9ecc1f842a6",
   "metadata": {},
   "source": [
    "***\n",
    "**St&auml;dte pro Kanton**\n",
    "***"
   ]
  },
  {
   "cell_type": "code",
   "execution_count": 14,
   "id": "0e479f5a-255d-4197-8b34-d70fb3b48e54",
   "metadata": {},
   "outputs": [],
   "source": [
    "# Staedte pro Kanton\n",
    "kt_cities = {}\n",
    "for city, kt, n in table_cities:\n",
    "    kt_cities.setdefault(kt, []).append(city)\n",
    "  \n",
    "# kt_cities"
   ]
  },
  {
   "cell_type": "code",
   "execution_count": 15,
   "id": "27ec7133-11cb-4d76-ad41-e246e2061ff8",
   "metadata": {},
   "outputs": [
    {
     "data": {
      "text/plain": [
       "29"
      ]
     },
     "execution_count": 15,
     "metadata": {},
     "output_type": "execute_result"
    }
   ],
   "source": [
    "kt_count = {}\n",
    "for kt, cities in kt_cities.items():\n",
    "    kt_count[kt] = len(cities)\n",
    "\n",
    "kt_count['ZH']"
   ]
  },
  {
   "cell_type": "markdown",
   "id": "8909bbff-159f-4fb0-ab3d-835ed4aa83f3",
   "metadata": {},
   "source": [
    "### Dict-Comprehension  \n",
    "Analog zu List-Comprehension l&auml;sst sich auch ein Dictionary mittels Comprehension erstellen.  \n"
   ]
  },
  {
   "cell_type": "code",
   "execution_count": 17,
   "id": "04ce0d43-ab17-42f1-894a-b9e6f94890c3",
   "metadata": {},
   "outputs": [
    {
     "data": {
      "text/plain": [
       "{'ZH': 29,\n",
       " 'GE': 12,\n",
       " 'BS': 2,\n",
       " 'BE': 16,\n",
       " 'VD': 12,\n",
       " 'LU': 5,\n",
       " 'SG': 8,\n",
       " 'TI': 4,\n",
       " 'NE': 5,\n",
       " 'FR': 3,\n",
       " 'SH': 2,\n",
       " 'GR': 2,\n",
       " 'VS': 5,\n",
       " 'ZG': 4,\n",
       " 'TG': 6,\n",
       " 'AG': 10,\n",
       " 'BL': 10,\n",
       " 'GL': 2,\n",
       " 'SO': 3,\n",
       " 'SZ': 5,\n",
       " 'AR': 1,\n",
       " 'JU': 1,\n",
       " 'OW': 1}"
      ]
     },
     "execution_count": 17,
     "metadata": {},
     "output_type": "execute_result"
    }
   ],
   "source": [
    "kt_count = {kt: len(cities) for kt, cities in kt_cities.items()}\n",
    "kt_count"
   ]
  },
  {
   "cell_type": "code",
   "execution_count": null,
   "id": "e081fa8d-73dd-4b34-abef-e90bfdf731d9",
   "metadata": {},
   "outputs": [],
   "source": [
    "from Levenshtein import distance\n",
    "def find_city(name, cities):\n",
    "    if name in cities:\n",
    "        return name\n",
    "    \n",
    "    name = name.upper()\n",
    "    closest_city = None\n",
    "    dist = 1000\n",
    "    \n",
    "    for city in cities:\n",
    "        d = distance(city.upper(), name)\n",
    "        if d < dist:\n",
    "            dist = d\n",
    "            closest_city = city\n",
    "    return closest_city, dist\n",
    "    "
   ]
  },
  {
   "cell_type": "code",
   "execution_count": null,
   "id": "28e520db-dc9f-4f2a-8733-49c36a783b45",
   "metadata": {},
   "outputs": [],
   "source": [
    "find_city('bienne', cities)"
   ]
  },
  {
   "cell_type": "code",
   "execution_count": null,
   "id": "3f9deb97-7ee9-421c-b2b8-68c0e3fca01f",
   "metadata": {},
   "outputs": [],
   "source": [
    "def find_city(name, cities):\n",
    "    if name in cities:\n",
    "        return name\n",
    "    \n",
    "    name = name.upper()\n",
    "    for city in cities:\n",
    "        \n",
    "        if city.upper().startswith(name):\n",
    "            return city"
   ]
  },
  {
   "cell_type": "code",
   "execution_count": null,
   "id": "5a47edd1-1f95-4cfa-b775-66e95a0b3e08",
   "metadata": {},
   "outputs": [],
   "source": [
    "find_city('Biel', cities)"
   ]
  },
  {
   "cell_type": "code",
   "execution_count": null,
   "id": "f140742b-f33e-4a03-b59b-426a913a0b7e",
   "metadata": {},
   "outputs": [],
   "source": [
    "city = input('Stadt')\n",
    "key = find_city(city, cities)\n"
   ]
  },
  {
   "cell_type": "code",
   "execution_count": null,
   "id": "10a4b967-1c0b-4035-ba61-21209f92e7a7",
   "metadata": {},
   "outputs": [],
   "source": [
    "# Staedte pro Kanton\n",
    "d = {}\n",
    "for city, kt, n in table_cities:\n",
    "    d.setdefault(kt, []).append(city)\n",
    "\n",
    "# Staedte pro Kanton mit Einwohnerzahl\n",
    "d = {}\n",
    "for city, kt, n in table_cities:\n",
    "    d.setdefault(kt, []).append((city, n))    \n",
    "  \n",
    "\n",
    "\n",
    "d3 = {kt:cities[:3] for kt, cities in d.items()}\n",
    "d3"
   ]
  },
  {
   "cell_type": "code",
   "execution_count": null,
   "id": "cd8ae815-d899-4f8a-9f26-dea8fa83e57f",
   "metadata": {},
   "outputs": [],
   "source": [
    "d_ = {kt: [(city, cities[city]['EINWOHNER']) for city in cities_kt]\\\n",
    "      for kt, cities_kt in d.items()}\n",
    "d_\n",
    "\n",
    "# {kt: len(lst) for kt, lst in d_.items()}\n",
    "# dn = {kt: len(d_[kt]) for kt in d_}\n",
    "# dn"
   ]
  },
  {
   "cell_type": "code",
   "execution_count": null,
   "id": "393cda1d-ff70-498a-887f-2f35f924d986",
   "metadata": {},
   "outputs": [],
   "source": [
    "values = sorted(dn.values())\n",
    "values"
   ]
  },
  {
   "cell_type": "code",
   "execution_count": null,
   "id": "550407f7-0006-4b1d-8fd2-fae6c78910dd",
   "metadata": {},
   "outputs": [],
   "source": [
    "sorted(dn.items(), key=lambda x: x[1], reverse=True)\n",
    "dict(sorted(dn.items(), key=lambda x: x[1], reverse=True))"
   ]
  },
  {
   "cell_type": "code",
   "execution_count": null,
   "id": "3beb36dd-c4c6-4b26-ad26-cbc278412ba1",
   "metadata": {},
   "outputs": [],
   "source": []
  },
  {
   "cell_type": "code",
   "execution_count": null,
   "id": "2c80c045-86fb-47c2-9bf7-bc214296b141",
   "metadata": {},
   "outputs": [],
   "source": [
    "lines = '''\\\n",
    "AG \tAargau\n",
    "AI \tAppenzell Innerrhoden\n",
    "AR \tAppenzell Ausserrhoden\n",
    "BE \tBern\n",
    "BL \tBasel-Landschaft\n",
    "BS \tBasel-Stadt\n",
    "FR \tFreiburg\n",
    "GE \tGenf\n",
    "GL \tGlarus\n",
    "GR \tGraubünden\n",
    "JU \tJura\n",
    "LU \tLuzern\n",
    "NE \tNeuenburg\n",
    "NW \tNidwalden\n",
    "OW \tObwalden\n",
    "SG \tSt. Gallen\n",
    "SH \tSchaffhausen\n",
    "SO \tSolothurn\n",
    "SZ \tSchwyz\n",
    "TG \tThurgau\n",
    "TI \tTessin\n",
    "UR \tUri\n",
    "VD \tWaadt\n",
    "VS \tWallis\n",
    "ZG \tZug\n",
    "ZH \tZürich\\\n",
    "'''"
   ]
  },
  {
   "cell_type": "code",
   "execution_count": null,
   "id": "bffc84df-705b-44a5-b95e-3f158da16aa7",
   "metadata": {},
   "outputs": [],
   "source": [
    "lines.split('\\n')"
   ]
  },
  {
   "cell_type": "code",
   "execution_count": null,
   "id": "cbe630a4-4f21-456e-ba82-c46c84299179",
   "metadata": {},
   "outputs": [],
   "source": [
    "tt = {}\n",
    "for line in lines.split('\\n'):\n",
    "    key, val = [word.strip() for word in line.split('\\t')]\n",
    "    tt[key] = val\n",
    "tt    "
   ]
  },
  {
   "cell_type": "code",
   "execution_count": null,
   "id": "6891eea6-dc8b-4742-b0b8-6e3e036f815e",
   "metadata": {},
   "outputs": [],
   "source": []
  }
 ],
 "metadata": {
  "kernelspec": {
   "display_name": "Python 3 (ipykernel)",
   "language": "python",
   "name": "python3"
  },
  "language_info": {
   "codemirror_mode": {
    "name": "ipython",
    "version": 3
   },
   "file_extension": ".py",
   "mimetype": "text/x-python",
   "name": "python",
   "nbconvert_exporter": "python",
   "pygments_lexer": "ipython3",
   "version": "3.9.10"
  }
 },
 "nbformat": 4,
 "nbformat_minor": 5
}
