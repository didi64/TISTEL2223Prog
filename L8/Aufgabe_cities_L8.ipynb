{
 "cells": [
  {
   "cell_type": "markdown",
   "id": "f105f962-9a4e-4430-b919-0fb5287fa5e5",
   "metadata": {},
   "source": [
    "### Scheizer Städte mit mehr als 10'000 Einwohner¶\n",
    "Wir sammeln einige Daten zu Schweizer St&auml;dten."
   ]
  },
  {
   "cell_type": "markdown",
   "id": "12bb61fd-ccc5-47a0-ba9e-28fae30e7513",
   "metadata": {},
   "source": [
    "**Aufgabe 1**  \n",
    "- Copy/Paste diese [St&auml;dtetabelle](https://www.conviva-plus.ch/?page=2308) in eine\n",
    "Notebookzelle.\n",
    "F&uuml;ge dann `%%file cities.txt` als erste Zeile ein und f&uuml;hre die Zelle aus.\n",
    "Die Zelle wird in das  Textfile `cities.txt` geschreiben.\n",
    "- &Ouml;ffne das File mit Python, putze die Daten, und erstelle eine Liste der Form  \n",
    "  ```python  \n",
    "  [['Zürich', 'ZH', 396027],\n",
    "   ['Genf', 'GE', 194565],\n",
    "   ... \n",
    "  ]\n",
    "  ```  \n",
    "  Die Zahlen sollen als Integer gespeichert sein.  \n",
    "  Gib die ersten 3 und die letzten 2 Zeilen aus.\n",
    "- Benutze die Funktion `print_as_table` im Modul `toolbox` um die Daten in Tabellenform auszugeben.\n",
    "- Erstelle einen Dictionary der Form  \n",
    "```python\n",
    "{'Zürich': {'KANTON': 'ZH', 'EINWOHNER': 396027},\n",
    " 'Genf': {'KANTON': 'GE', 'EINWOHNER': 194565},\n",
    " 'Basel': {'KANTON': 'BS', 'EINWOHNER': 168620},  \n",
    " ...\n",
    "}\n",
    "```\n",
    "Gib die ersten 2 und die letzten 2 key-value Paare aus \n",
    "- Lies eine Stadt ein(mit `input`). Gib die Einwohnerzahl aus, falls die Stadt ein key in obigem Dictionary ist, anderfalls ' Stadt nicht gefunden'. \n",
    "- Erstelle einen Dictionary der Form  \n",
    "```python\n",
    "{'ZH': ['Zürich', 'Winterthur', ...],\n",
    " ...\n",
    " 'OW': ['Sarnen']\n",
    "}\n",
    "```  \n",
    "der zu jedem Kantonsk&uuml;rzel eine Liste von Tupeln enth&auml;lt (Stadt, Bev&ouml;lkerungszahl).  \n",
    "Mache daraus einen Dictionary der Form  \n",
    "```python\n",
    "{'ZH': 29,\n",
    " ...\n",
    " 'OW': 1\n",
    "}\n",
    "```  \n",
    "der anzeigt, wieviele St&auml;dte mit mehr als 10'000 Einwohnern es in diesem Kanton gibt."
   ]
  },
  {
   "cell_type": "code",
   "execution_count": null,
   "id": "7067af96-5320-45b8-b1f5-6e57ba16c7c8",
   "metadata": {},
   "outputs": [],
   "source": []
  }
 ],
 "metadata": {
  "kernelspec": {
   "display_name": "Python 3 (ipykernel)",
   "language": "python",
   "name": "python3"
  },
  "language_info": {
   "codemirror_mode": {
    "name": "ipython",
    "version": 3
   },
   "file_extension": ".py",
   "mimetype": "text/x-python",
   "name": "python",
   "nbconvert_exporter": "python",
   "pygments_lexer": "ipython3",
   "version": "3.9.10"
  }
 },
 "nbformat": 4,
 "nbformat_minor": 5
}
