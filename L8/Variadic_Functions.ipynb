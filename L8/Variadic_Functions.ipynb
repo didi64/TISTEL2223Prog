{
 "cells": [
  {
   "cell_type": "markdown",
   "id": "c9f44401-b0d6-4b78-908a-0ae34aa06061",
   "metadata": {},
   "source": [
    "### Funktionen mit einer variablen Anzahl Argumente\n",
    "Funktionen mit einer variablen Anzahl Argumente nennt man auch **variadic functions**.  \n",
    "Beispiele sind  `print`, `str.format`, `max` ...  \n",
    "Solche Funktionen k&ouml;nnen wie folgt definiert werden:\n",
    "\n",
    "- Variable Anzahl **positional** Argumente:  \n",
    "  Alle positional Argumente werden in ein Tupel `args` gepackt \n",
    "\n",
    "```python\n",
    "def f(*args):\n",
    "    <Code>\n",
    "```\n",
    "\n",
    "- Variable Anzahl **keyword** Argumente:  \n",
    "  Alle keyword Argumente werden in einen Dictionary `kwargs` gepackt \n",
    "  \n",
    "```python\n",
    "def f(**kwargs):\n",
    "    <Code>   \n",
    "```\n",
    "\n",
    "- Variable Anzahl **positional** und **keyword** Argumente:  \n",
    "  Die positional Argumente m&uuml;ssen vor den keyword Argumenten stehen.  \n",
    "  **Vor** `*args` k&ouml;nnen noch weitere positional Argumente stehen,\n",
    "  **vor** `**kwargs` k&ouml;nnen noch weitere default Argumente stehen (keyword Argument mit Default-Wert).\n",
    "  \n",
    "```python\n",
    "def f(*args, **kwargs):\n",
    "    <Code>  \n",
    "    \n",
    "def f(x, y, *args, z=5, **kwargs):\n",
    "    <Code>     \n",
    "```"
   ]
  },
  {
   "cell_type": "markdown",
   "id": "afd271b3-f00a-4364-8eaf-80f27720b288",
   "metadata": {},
   "source": [
    "***\n",
    "Beispiele vordefinierter Funktionen mit\n",
    "variabler Anzahl von Argumenten\n",
    "***"
   ]
  },
  {
   "cell_type": "code",
   "execution_count": null,
   "id": "68f652b7-839b-4b8d-9120-94b07b3efcfc",
   "metadata": {},
   "outputs": [],
   "source": [
    "help(str.format)"
   ]
  },
  {
   "cell_type": "code",
   "execution_count": null,
   "id": "db5c08fb-a35f-4ef8-b084-9e26d3c98cfe",
   "metadata": {},
   "outputs": [],
   "source": [
    "s = '{first} {} {third}'\n",
    "\n",
    "# beachte: das 'positional' Argument 'variadic' muss vor \n",
    "# den keyword Argumenten uebergeben werden\n",
    "s.format('variadic', first = 'A', third = 'function')\n",
    "\n",
    "# s.format(first = 'A', 'variadic', third = 'function')"
   ]
  },
  {
   "cell_type": "code",
   "execution_count": null,
   "id": "91d022f4-a2b9-4af3-b09f-99833d1ca6f8",
   "metadata": {},
   "outputs": [],
   "source": [
    "print(1, 2, 3, sep = '; ', end = '\\n')"
   ]
  },
  {
   "cell_type": "code",
   "execution_count": null,
   "id": "7aba9422-abc3-462d-a107-3803a825ce38",
   "metadata": {},
   "outputs": [],
   "source": [
    "max(1, 2, 3)"
   ]
  },
  {
   "cell_type": "markdown",
   "id": "22290c5c-6fb8-4472-888e-c2989aa4bd3b",
   "metadata": {},
   "source": [
    "***\n",
    "Definition von Funktionen mit variabler Anzahl Argumenten.  \n",
    "Die definierten Funktionen geben jeweils die &uuml;bergebenen Argumente aus.\n",
    "***"
   ]
  },
  {
   "cell_type": "code",
   "execution_count": 137,
   "id": "e4cbfa2d-f34e-452e-bc64-d5b88eb5f723",
   "metadata": {},
   "outputs": [],
   "source": [
    "def f(*args):\n",
    "    print('Positional Arguments passed to f:', args)\n",
    "    \n",
    "def g(**kwargs):\n",
    "    print('Keyword Arguments passed to g:', kwargs)\n",
    "    \n",
    "def h(*args, **kwargs):\n",
    "    print('Positional Arguments passed to h', end = ': ')\n",
    "    for arg in args:\n",
    "        print(arg, end = ', ')\n",
    "        \n",
    "    print('\\nKeyword Arguments passed to h', end = ': ')    \n",
    "    for k,v in kwargs.items():\n",
    "        print('{} = {}'.format(k, v), end = ', ')    "
   ]
  },
  {
   "cell_type": "code",
   "execution_count": 138,
   "id": "2f7ccff5-f943-4226-a139-6eb8d7a83fbb",
   "metadata": {},
   "outputs": [
    {
     "name": "stdout",
     "output_type": "stream",
     "text": [
      "Positional Arguments passed to f: (1, 2, 3)\n",
      "Keyword Arguments passed to g: {'a': 1, 'b': 2}\n",
      "Positional Arguments passed to h: 1, 2, \n",
      "Keyword Arguments passed to h: x = 2, y = 4, "
     ]
    }
   ],
   "source": [
    "f(1, 2, 3)\n",
    "g(a=1, b=2)   \n",
    "h(1, 2, x=2, y=4)  "
   ]
  },
  {
   "cell_type": "markdown",
   "id": "2197f894-875c-443a-ad40-aac7223e2bc3",
   "metadata": {},
   "source": [
    "***\n",
    "Beispiel mit einem Default-Argument\n",
    "***"
   ]
  },
  {
   "cell_type": "code",
   "execution_count": 119,
   "id": "6e6dc9a0-8420-4335-8c94-79585a8af1c5",
   "metadata": {},
   "outputs": [],
   "source": [
    "def h(x, *args, y, z=1, **kwargs,):\n",
    "    print('Argumente aus args:')\n",
    "    for arg in (x,) + args + (y, ):\n",
    "        print(arg, end = ', ')\n",
    "    \n",
    "    print('\\nKeyword Arguments aus kwargs:')    \n",
    "    for k,v in kwargs.items():\n",
    "        print('{} = {}'.format(k, v), end = ', ')\n",
    "        \n",
    "    print('\\nsonstige Argumente:')\n",
    "    print('x = {}, y = {}, z= {}\\n'.format(x, y, z))"
   ]
  },
  {
   "cell_type": "code",
   "execution_count": 121,
   "id": "214bfbe0-6b1b-4f34-b336-d783a52ef6c2",
   "metadata": {},
   "outputs": [
    {
     "name": "stdout",
     "output_type": "stream",
     "text": [
      "Argumente aus args:\n",
      "1, 2, 3, \n",
      "Keyword Arguments aus kwargs:\n",
      "w = 5, \n",
      "sonstige Argumente:\n",
      "x = 1, y = 3, z= 1\n",
      "\n",
      "Argumente aus args:\n",
      "1, 2, 3, \n",
      "Keyword Arguments aus kwargs:\n",
      "w = 5, foo = bar, \n",
      "sonstige Argumente:\n",
      "x = 1, y = 3, z= 4\n",
      "\n"
     ]
    }
   ],
   "source": [
    "h(1, 2, y = 3, w = 5)  \n",
    "h(1, 2, y = 3, z = 4, w = 5, foo = 'bar')  "
   ]
  },
  {
   "cell_type": "markdown",
   "id": "fd108b84-da72-43c7-a6fd-725bd803e565",
   "metadata": {},
   "source": [
    "### Aufgabe"
   ]
  },
  {
   "cell_type": "code",
   "execution_count": 140,
   "id": "df7f1e06-f505-43d5-90b1-4980d0bef3cf",
   "metadata": {},
   "outputs": [
    {
     "name": "stdout",
     "output_type": "stream",
     "text": [
      "    0.55 m\n",
      "   12.00 m\n",
      "   34.00 m\n",
      "==========\n",
      "   46.55 m\n"
     ]
    }
   ],
   "source": [
    "import solutions_variadic_functions as S\n",
    "units = {'baseunit' : 'm',\n",
    "         'mm': 0.001,\n",
    "         'cm': 0.01,\n",
    "         'm' : 1.0,\n",
    "         'km': 1000.0,\n",
    "         }    \n",
    "\n",
    "args = [(546, 'mm'), \n",
    "        (1200, 'cm'), \n",
    "        (0.034, 'km')\n",
    "       ]\n",
    "\n",
    "S.add(*args, **units)\n",
    "# S.add((1,'km'), (20, 'cm'), *args, **units)"
   ]
  },
  {
   "cell_type": "markdown",
   "id": "e57256e4-5f01-4923-aa9e-06debfdeae06",
   "metadata": {},
   "source": [
    "Sei `args` eine Liste von Paaren (Zahl, Einheit), und \n",
    "`units` ein Dictionary, der Basiseinheit und Umrechnugsfaktoren enth&auml;lt.  \n",
    "\n",
    "Schreibe eine Funktion `add(*args, **units)`, die den gleichen Output wie `S.add` produziert.\n",
    "\n",
    "**Hinweis**:  \n",
    "Verwende `'{:6.2f}'.format(n)`, um die Zahl `n`  auf 2-Stellen gerundet, rechtsb&uuml;ndig mit L&auml;nge  6 auszugeben. "
   ]
  },
  {
   "cell_type": "code",
   "execution_count": 139,
   "id": "0d751851-6344-4b9e-bc0e-1a013e5fac7e",
   "metadata": {
    "tags": []
   },
   "outputs": [
    {
     "name": "stdout",
     "output_type": "stream",
     "text": [
      "1234.00\n",
      "123.00\n",
      " 12.00\n",
      "  1.00\n"
     ]
    }
   ],
   "source": [
    "for n in [1234,  123 , 12, 1]:\n",
    "    print('{:6.2f}'.format(n))"
   ]
  }
 ],
 "metadata": {
  "kernelspec": {
   "display_name": "Python 3 (ipykernel)",
   "language": "python",
   "name": "python3"
  },
  "language_info": {
   "codemirror_mode": {
    "name": "ipython",
    "version": 3
   },
   "file_extension": ".py",
   "mimetype": "text/x-python",
   "name": "python",
   "nbconvert_exporter": "python",
   "pygments_lexer": "ipython3",
   "version": "3.9.10"
  }
 },
 "nbformat": 4,
 "nbformat_minor": 5
}
