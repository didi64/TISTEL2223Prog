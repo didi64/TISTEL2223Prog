{
 "cells": [
  {
   "cell_type": "markdown",
   "id": "73ee439d-641c-4797-83f1-4620fece00ad",
   "metadata": {},
   "source": [
    "### CH-Flagge zeichnen\n",
    "- [Abmessungen der Schweizer Fahne](https://www.fahnenwelt.ch/masse-schweizerfahne-a-52.html)\n",
    "- [Weitere Landesflaggen:](https://www.worldometers.info/geography/flags-of-the-world/)\n",
    "  Einige einfach zu zeichnende Fahnen:\n",
    "Belgien,\n",
    "Dänemark,\n",
    "Deutschland,\n",
    "Finnland,\n",
    "Frankreich,\n",
    "Griechenland,\n",
    "Irland,\n",
    "Island,\n",
    "Israel,\n",
    "Italien,\n",
    "Japan,\n",
    "Luxenburg,\n",
    "Monaco,\n",
    "Norwegen,\n",
    "Oesterreich,\n",
    "Polen,\n",
    "Rumänien,\n",
    "Russland,\n",
    "Schweden,\n",
    "Ukraine,..."
   ]
  },
  {
   "cell_type": "code",
   "execution_count": null,
   "id": "c15fa2ef-ce40-4d88-b878-569473106a3b",
   "metadata": {},
   "outputs": [],
   "source": [
    "import math\n",
    "from ipycanvas import Canvas"
   ]
  },
  {
   "cell_type": "code",
   "execution_count": null,
   "id": "8dece540-1f83-4f19-b8c8-f01579b80722",
   "metadata": {},
   "outputs": [],
   "source": [
    "WIDTH, HEIGHT = (200, 200)\n",
    "canvas = Canvas(width = WIDTH, height = HEIGHT, \n",
    "                layout = {'border' : '2px solid black'}\n",
    "               )\n",
    "display(canvas)"
   ]
  },
  {
   "cell_type": "code",
   "execution_count": null,
   "id": "0ddae67e-94e4-43aa-b7c7-7ad88bac6dbc",
   "metadata": {},
   "outputs": [],
   "source": [
    "# rote Grundierung\n",
    "canvas.fill_style = 'red'\n",
    "canvas.fill_rect(0,0, WIDTH, HEIGHT)"
   ]
  },
  {
   "cell_type": "code",
   "execution_count": null,
   "id": "e461ee4c-ebe1-44de-9b2f-cce508272243",
   "metadata": {},
   "outputs": [],
   "source": [
    "# weisses Kreuz\n",
    "canvas.fill_style = 'white'\n",
    "mx, my = WIDTH / 2, HEIGHT / 2\n",
    "# verticaler Streifen\n",
    "canvas.fill_rect(4*WIDTH/10, HEIGHT/6 , 2*WIDTH/10, 2*HEIGHT/3)\n",
    "# horizontaler Streifen\n",
    "canvas.fill_rect(WIDTH/6, 4* HEIGHT/10 , 2*WIDTH/3, 2*HEIGHT/10)"
   ]
  },
  {
   "cell_type": "code",
   "execution_count": null,
   "id": "a2e11930-dacf-4b3f-987c-23271a70d5c0",
   "metadata": {},
   "outputs": [],
   "source": [
    "# schwarzer Rahmen\n",
    "canvas.line_width = 1\n",
    "canvas.stroke_style = 'black'\n",
    "canvas.stroke_rect(0, 0, WIDTH, HEIGHT)"
   ]
  },
  {
   "cell_type": "code",
   "execution_count": null,
   "id": "072cd751-d557-4fb7-b795-5ff09ea93db6",
   "metadata": {},
   "outputs": [],
   "source": [
    "canvas.clear()"
   ]
  },
  {
   "cell_type": "code",
   "execution_count": null,
   "id": "aab565fd-d774-450d-b284-163f3763cc72",
   "metadata": {},
   "outputs": [],
   "source": [
    "def draw_CH_flag(canvas, pos, width, height):\n",
    "    x0, y0 = pos\n",
    "    # rote Grundierung\n",
    "    canvas.fill_style = 'red'\n",
    "    canvas.fill_rect(x0, y0, width, height)\n",
    "    \n",
    "    # weisses Kreuz\n",
    "    canvas.fill_style = 'white'\n",
    "    mx, my = width / 2, height / 2\n",
    "    # verticaler Streifen\n",
    "    canvas.fill_rect(x0 + 4*width/10, y0 + height/6, 2*width/10, 2*height/3)\n",
    "    # horizontaler Streifen\n",
    "    canvas.fill_rect(x0 + width/6, y0 + 4*height/10, 2*width/3, 2*height/10)\n",
    "   \n",
    "    # schwarzer Rahmen\n",
    "    canvas.line_width = 1\n",
    "    canvas.stroke_style = 'black'\n",
    "    canvas.stroke_rect(x0, y0, width, height)    "
   ]
  },
  {
   "cell_type": "code",
   "execution_count": null,
   "id": "2fa69efa-61da-498e-9a14-7f01b33072fc",
   "metadata": {},
   "outputs": [],
   "source": [
    "canvas.clear()"
   ]
  },
  {
   "cell_type": "code",
   "execution_count": null,
   "id": "542eb560-997d-489d-b91f-41b01171c892",
   "metadata": {},
   "outputs": [],
   "source": [
    "canvas.fill_style = 'gray'\n",
    "canvas.fill_rect(0, 0, WIDTH, HEIGHT)"
   ]
  },
  {
   "cell_type": "code",
   "execution_count": null,
   "id": "e0172ee6-ea63-4913-82e0-90cb69a6e9b7",
   "metadata": {},
   "outputs": [],
   "source": [
    "draw_CH_flag(canvas, (25, 25), 150, 150)"
   ]
  },
  {
   "cell_type": "code",
   "execution_count": null,
   "id": "9ad61f8f-687a-48f6-ab3e-c7a65f3553c5",
   "metadata": {},
   "outputs": [],
   "source": [
    "for pos in [(0,0), (0,175), (175,0), (175, 175)]:\n",
    "    draw_CH_flag(canvas, pos, 25, 25)"
   ]
  },
  {
   "cell_type": "code",
   "execution_count": null,
   "id": "5ef588fe-9f53-4239-a9fe-1cf753a1914f",
   "metadata": {},
   "outputs": [],
   "source": []
  }
 ],
 "metadata": {
  "kernelspec": {
   "display_name": "Python 3 (ipykernel)",
   "language": "python",
   "name": "python3"
  },
  "language_info": {
   "codemirror_mode": {
    "name": "ipython",
    "version": 3
   },
   "file_extension": ".py",
   "mimetype": "text/x-python",
   "name": "python",
   "nbconvert_exporter": "python",
   "pygments_lexer": "ipython3",
   "version": "3.9.10"
  }
 },
 "nbformat": 4,
 "nbformat_minor": 5
}
