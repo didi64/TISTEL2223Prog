{
 "cells": [
  {
   "cell_type": "markdown",
   "id": "47932de1-a613-477e-b66f-10df1395d707",
   "metadata": {},
   "source": [
    "### Experimente mit zip und dem Unpacking-Operator `*`"
   ]
  },
  {
   "cell_type": "markdown",
   "id": "7d8b1b13-57c1-4116-8f6c-303301c53e82",
   "metadata": {},
   "source": [
    "**Auspacken von Iterables beim Funktionsaufruf**:\n",
    "- Unpacking eines Iterables mit `*<iterable>`:  \n",
    "  - `f(*[1, 2, 3])` wird zu `f(1, 2, 3)`.  \n",
    "  -  `f(*'abc')` zu `f('a', 'b', 'c')`.   \n",
    "  Der Operator __*__ packt die Elemente des Iterable aus.  \n",
    "\n",
    "Beispiel:  \n",
    "`print(*['Hello,', 'world!'])` verh&auml;lt sich wie `print('Hello,', 'world!')`"
   ]
  },
  {
   "cell_type": "code",
   "execution_count": 7,
   "id": "93d8ea30-721e-4850-9d10-7a3e2dbc2c9a",
   "metadata": {},
   "outputs": [
    {
     "name": "stdout",
     "output_type": "stream",
     "text": [
      "Hello, world!\n",
      "Hello, world!\n"
     ]
    }
   ],
   "source": [
    "print(*['Hello,', 'world!'])\n",
    "print('Hello,', 'world!')"
   ]
  },
  {
   "cell_type": "code",
   "execution_count": 1,
   "id": "5292cd5a-c97e-4dee-a714-f1b810492674",
   "metadata": {},
   "outputs": [
    {
     "name": "stdout",
     "output_type": "stream",
     "text": [
      "f b b\n",
      "o a a\n",
      "o r z\n"
     ]
    }
   ],
   "source": [
    "for x,y,z in zip('foo', 'bar', 'baz'):\n",
    "    print(x, y, z)"
   ]
  },
  {
   "cell_type": "code",
   "execution_count": 3,
   "id": "fb2129d0-c7dc-4355-89fc-a4f64b5cf014",
   "metadata": {},
   "outputs": [
    {
     "name": "stdout",
     "output_type": "stream",
     "text": [
      "('f', 'b', 'b')\n",
      "('o', 'a', 'a')\n",
      "('o', 'r', 'z')\n"
     ]
    }
   ],
   "source": [
    "for tp in zip('foo', 'bar', 'baz'):\n",
    "    print(tp)"
   ]
  },
  {
   "cell_type": "code",
   "execution_count": 2,
   "id": "a8358608-57b5-4df8-826f-8e0d160ea6e8",
   "metadata": {},
   "outputs": [
    {
     "name": "stdout",
     "output_type": "stream",
     "text": [
      "f b b\n",
      "o a a\n",
      "o r z\n"
     ]
    }
   ],
   "source": [
    "for tp in zip('foo', 'bar', 'baz'):\n",
    "    print(tp[0], tp[1], tp[2])"
   ]
  },
  {
   "cell_type": "code",
   "execution_count": null,
   "id": "9023cc08-d06b-428e-9912-3aa9841fb0c2",
   "metadata": {},
   "outputs": [],
   "source": [
    "for tp in zip('foo', 'bar', 'baz'):\n",
    "    x, y, z = tp\n",
    "    print(x, y, z)"
   ]
  },
  {
   "cell_type": "code",
   "execution_count": 5,
   "id": "27390490-6b09-4260-a654-51703b0d8746",
   "metadata": {},
   "outputs": [
    {
     "name": "stdout",
     "output_type": "stream",
     "text": [
      "f b b\n",
      "o a a\n",
      "o r z\n"
     ]
    }
   ],
   "source": [
    "for tp in zip('foo', 'bar', 'baz'):\n",
    "    print(*tp)"
   ]
  },
  {
   "cell_type": "code",
   "execution_count": 11,
   "id": "c6e70495-f863-4278-8f69-288dcafb0e30",
   "metadata": {},
   "outputs": [
    {
     "name": "stdout",
     "output_type": "stream",
     "text": [
      "f b b\n",
      "o a a\n",
      "o r z\n"
     ]
    }
   ],
   "source": [
    "words  = ['foo', 'bar', 'baz']\n",
    "for tp in zip(*words):\n",
    "    print(*tp)"
   ]
  },
  {
   "cell_type": "code",
   "execution_count": 9,
   "id": "42ec7f94-a98f-4aa3-a457-d6b19cba9ae7",
   "metadata": {},
   "outputs": [
    {
     "data": {
      "text/plain": [
       "[('f', 'b', 'b'), ('o', 'a', 'a'), ('o', 'r', 'z')]"
      ]
     },
     "execution_count": 9,
     "metadata": {},
     "output_type": "execute_result"
    }
   ],
   "source": [
    "words  = ['foo', 'bar', 'baz']\n",
    "list(zip(*words))"
   ]
  },
  {
   "cell_type": "code",
   "execution_count": 12,
   "id": "1af18fe9-45af-4051-a4a0-89dde70a3abb",
   "metadata": {},
   "outputs": [
    {
     "data": {
      "text/plain": [
       "['fbb', 'oaa', 'orz']"
      ]
     },
     "execution_count": 12,
     "metadata": {},
     "output_type": "execute_result"
    }
   ],
   "source": [
    "words  = ['foo', 'bar', 'baz']\n",
    "[''.join(x) for x in zip(*words)]"
   ]
  },
  {
   "cell_type": "code",
   "execution_count": null,
   "id": "538b4558-a80f-4598-a7c4-afba8ea7cba2",
   "metadata": {},
   "outputs": [],
   "source": []
  }
 ],
 "metadata": {
  "kernelspec": {
   "display_name": "Python 3 (ipykernel)",
   "language": "python",
   "name": "python3"
  },
  "language_info": {
   "codemirror_mode": {
    "name": "ipython",
    "version": 3
   },
   "file_extension": ".py",
   "mimetype": "text/x-python",
   "name": "python",
   "nbconvert_exporter": "python",
   "pygments_lexer": "ipython3",
   "version": "3.9.10"
  }
 },
 "nbformat": 4,
 "nbformat_minor": 5
}
