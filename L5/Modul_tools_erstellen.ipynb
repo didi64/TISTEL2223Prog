{
 "cells": [
  {
   "cell_type": "markdown",
   "id": "de1578f2-982e-4aaa-a5dc-121f298c9b88",
   "metadata": {},
   "source": [
    "### Modul erstellen\n",
    "Die einfachste Form eines Modules ist ein`.py` File mit Pythoncode. Mit\n",
    "```python\n",
    "import example\n",
    "```\n",
    "wird das Modul `example` importiert:\n",
    "- das File `example.py` wird genau einmal ausgef&uuml;hrt.\n",
    "  Soll das File ein weiters Mal ausgef&uuml;hrt werden, z.B. weil es modifiziert wurde, muss zuerst der Kernel neu gestartet werden.\n",
    "- alle im Modul definierten Funktionen und Variablen sind nun mittels\n",
    "`example.some_function()`, bez. `example.some_variable` ansprechbar.\n",
    "- die Liste `sys.path` legt fest, wo &uuml;berall nach dem Modul gesucht wird.  \n",
    "\n",
    "Nach\n",
    "```python\n",
    "from example import foo\n",
    "```\n",
    "ist die in `example.py` definierte Funktion `foo`  mit \n",
    "`foo` ansprechbar. Ein allf&auml;lliger Wert der Variable `foo` wird dabei &uuml;berschrieben."
   ]
  },
  {
   "cell_type": "code",
   "execution_count": 6,
   "id": "c842ba1a-03b2-4353-8971-b1158af43522",
   "metadata": {},
   "outputs": [
    {
     "data": {
      "text/plain": [
       "['/home/jovyan/work/TISTEL2223Prog/src',\n",
       " '/home/jovyan/work/modules',\n",
       " '/home/jovyan/work/TISTEL2223Prog/L5',\n",
       " '/opt/conda/lib/python39.zip',\n",
       " '/opt/conda/lib/python3.9',\n",
       " '/opt/conda/lib/python3.9/lib-dynload',\n",
       " '',\n",
       " '/opt/conda/lib/python3.9/site-packages']"
      ]
     },
     "execution_count": 6,
     "metadata": {},
     "output_type": "execute_result"
    }
   ],
   "source": [
    "sys.path"
   ]
  },
  {
   "cell_type": "markdown",
   "id": "59f6735f-2874-4981-9583-02379357f6a8",
   "metadata": {},
   "source": [
    "Zuerst wird in den Verzeichnissen\n",
    "```python\n",
    "    '/opt/conda/lib/python39.zip',\n",
    "    '/opt/conda/lib/python3.9',\n",
    "    '/opt/conda/lib/python3.9/lib-dynload',\n",
    "    '',\n",
    "    '/opt/conda/lib/python3.9/site-packages'\n",
    "```\n",
    "gesucht, dann in\n",
    "```python\n",
    "    '/home/jovyan/work/TISTEL2223Prog/src',\n",
    "    '/home/jovyan/work/modules',\n",
    "    '/home/jovyan/work/TISTEL2223Prog/L5'\n",
    "```\n",
    "`''` sucht im aktuellen Verseichnis,  \n",
    "`'/home/jovyan/work/TISTEL2223Prog/L5'` wurde beim &Ouml;ffnen\n",
    "des Notebooks `Erstelle_Module.ipynb` automatisch zu `sys.path` hinzugef&uuml;gt, da \n",
    "dieses Notebook in diesem Verzeichnis liegt."
   ]
  },
  {
   "cell_type": "markdown",
   "id": "65d92798-61e0-4f1e-8ec6-cd6dce580db5",
   "metadata": {},
   "source": [
    "***\n",
    "Modul `tools.py` im Verzeichnis \n",
    "`/home/jovyan//work/modules/` erstellen.\n",
    "***"
   ]
  },
  {
   "cell_type": "code",
   "execution_count": null,
   "id": "8b6c566f-9ff2-4d3e-989a-cca7c25571b5",
   "metadata": {},
   "outputs": [],
   "source": [
    "%%file ~/work/modules/tools.py\n",
    "\n",
    "def sign(n):\n",
    "    '''returns the sign of the number n'''\n",
    "    if n < 0:\n",
    "        return -1\n",
    "    elif n > 0:\n",
    "        return 1\n",
    "    else:\n",
    "        return 0      \n",
    "    \n",
    "def _print_as_tuple(tp, widths):  \n",
    "    '''gib tp als Tabellenzeile aus mit Spaltenbreite width'''  \n",
    "    cols = []\n",
    "    for item, width in zip(tp, widths):\n",
    "        s = item.ljust(width)\n",
    "        cols.append(s)\n",
    "\n",
    "    s = '|'\n",
    "    for col in cols:\n",
    "        s = s + col + '|'\n",
    "    print(s)    \n",
    "\n",
    "def _get_widths(header, data_rows):\n",
    "    '''gibt tuple mit den maximalen Spaltenbreiten \n",
    "       von header und data_rows zurueck\n",
    "    '''   \n",
    "\n",
    "    widths = [0] * len(header) \n",
    "    for row in [header] + data_rows:\n",
    "        for i, item in enumerate(row):\n",
    "            new_width = max(widths[i], len(item))\n",
    "            widths[i] = new_width\n",
    "\n",
    "    return widths    \n",
    "\n",
    "def print_as_table(header, data_rows):    \n",
    "    '''Gib header und data_rows in Tabellenform aus\n",
    "    \n",
    "       header: Tuple mit Spaltennamen\n",
    "       data_rows: Liste von Tupeln mit Spalteneintraegen \n",
    "    '''\n",
    "    col_widths = _get_widths(header, data_rows)\n",
    "    hline = []\n",
    "    for width in col_widths:\n",
    "        hline.append('=' * width)\n",
    "\n",
    "\n",
    "    rows = [header, hline] + data_rows\n",
    "    for row in rows:\n",
    "        _print_as_tuple(row, col_widths)    "
   ]
  },
  {
   "cell_type": "code",
   "execution_count": null,
   "id": "63e8c5c7-3ddc-4609-8655-ab56d58ccf50",
   "metadata": {},
   "outputs": [],
   "source": [
    "import tools"
   ]
  },
  {
   "cell_type": "code",
   "execution_count": null,
   "id": "5b1842a6-44d5-4ff3-98a7-b7b444cb210b",
   "metadata": {},
   "outputs": [],
   "source": [
    "help(tools)"
   ]
  },
  {
   "cell_type": "code",
   "execution_count": null,
   "id": "44af3e80-951b-4fe5-b263-8a188166210a",
   "metadata": {},
   "outputs": [],
   "source": [
    "# imports testen\n",
    "header = ('Name', 'Vorname')\n",
    "rows   =  [('Hans', 'Muster'), ('Anna', 'Meier')]\n",
    "print_as_table(header, rows)\n",
    "print()\n",
    "print(sign(-10),sign(0),sign(5))"
   ]
  },
  {
   "cell_type": "markdown",
   "id": "a20890f8-0f41-4f41-9461-17cb562fd97b",
   "metadata": {},
   "source": [
    "***\n",
    "```from tools import sign``` &uuml;berschreibt `sign`.\n",
    "***"
   ]
  },
  {
   "cell_type": "code",
   "execution_count": null,
   "id": "8bcff8c6-2017-4275-ac7b-608057670d59",
   "metadata": {},
   "outputs": [],
   "source": [
    "def sign():\n",
    "    print('test')"
   ]
  },
  {
   "cell_type": "code",
   "execution_count": null,
   "id": "7176a1bd-cc91-4609-a3df-3fca3d680897",
   "metadata": {},
   "outputs": [],
   "source": [
    "sign()    "
   ]
  },
  {
   "cell_type": "code",
   "execution_count": null,
   "id": "11db7ab8-019b-4997-88a8-b17e36d56a19",
   "metadata": {},
   "outputs": [],
   "source": [
    "from tools import sign"
   ]
  },
  {
   "cell_type": "code",
   "execution_count": null,
   "id": "059dbe16-f041-4597-9997-97029354d43a",
   "metadata": {},
   "outputs": [],
   "source": [
    "sign(4)"
   ]
  },
  {
   "cell_type": "code",
   "execution_count": null,
   "id": "e01297d3-ce11-4ab8-b02e-4767d201ef78",
   "metadata": {},
   "outputs": [],
   "source": []
  }
 ],
 "metadata": {
  "kernelspec": {
   "display_name": "Python 3 (ipykernel)",
   "language": "python",
   "name": "python3"
  },
  "language_info": {
   "codemirror_mode": {
    "name": "ipython",
    "version": 3
   },
   "file_extension": ".py",
   "mimetype": "text/x-python",
   "name": "python",
   "nbconvert_exporter": "python",
   "pygments_lexer": "ipython3",
   "version": "3.9.10"
  }
 },
 "nbformat": 4,
 "nbformat_minor": 5
}
