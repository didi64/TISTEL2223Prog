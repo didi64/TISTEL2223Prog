{
 "cells": [
  {
   "cell_type": "markdown",
   "id": "5a967b7f-62cd-4c38-8149-bb268f1ab239",
   "metadata": {},
   "source": [
    "### Zahlratespiel fertig stellen"
   ]
  },
  {
   "cell_type": "code",
   "execution_count": 3,
   "id": "62ed7ece-28aa-41f1-a908-2aba615bcd8d",
   "metadata": {},
   "outputs": [],
   "source": [
    "from tools import print_as_table, sign"
   ]
  },
  {
   "cell_type": "code",
   "execution_count": 4,
   "id": "e4b56827-9d04-4b82-af59-8477055b0e5e",
   "metadata": {},
   "outputs": [
    {
     "name": "stdout",
     "output_type": "stream",
     "text": [
      " | Name | Vorname | \n",
      " | ==== | ======= | \n",
      " | Hans | Muster  | \n",
      " | Anna | Meier   | \n",
      "\n",
      "-1 0 1\n"
     ]
    }
   ],
   "source": [
    "# imports testen\n",
    "header = ('Name', 'Vorname')\n",
    "rows   =  [('Hans', 'Muster'), ('Anna', 'Meier')]\n",
    "print_as_table(header, rows)\n",
    "print()\n",
    "print(sign(-10),sign(0),sign(5))"
   ]
  },
  {
   "cell_type": "markdown",
   "id": "7644765d-e698-4b8d-9488-e005a1789dee",
   "metadata": {},
   "source": [
    "### Aufgabe\n",
    "- Was macht die Funktion `randint` im Module `random`?  \n",
    "  Importiere das Module mit `import random` und\n",
    "  tippe `help(random)` und `help(random.randint)`\n",
    "- Schreibe eine Funktion `print_history(history)`, die eine  \n",
    "Liste `history` von Tupeln der Form `[(3, 'too big'), (2, 'correct')]` wie Folgt darstellt:  \n",
    "```\n",
    "|Nr.|guess|comment|\n",
    "|===|=====|=======|\n",
    "|1  |3    |too big|\n",
    "|2  |2    |correct|\n",
    "```\n",
    "Benutze dabei die Funktion `print_as_table`.\n",
    "\n",
    "- Schreibe eine Funktion `eval_guess(guess, nbr)`, die\n",
    "  zwei Werte zur&uuml;ck gibt, `is_ok` und `feedback`. \n",
    "  `is_ok` ist je nach Fall `True` oder `False`, und `feedback` ist\n",
    "  `'too big'`, `'too small'` oder `'correct'`.\n",
    "  \n",
    "- Schreibe eine Funktion `guess_number(nbr)`, die solange nach einem Integer von 1 bis 5 fr&auml;gt, bis `nbr` eingegeben wird.  \n",
    "F&uuml;r jeden Versuch wird ein Tuple `(is_ok, feedback)` an eine Liste angeh&auml;ngt.\n",
    "Wird die Zahl erraten, wird diese Liste zur&uuml;ckgegeben.\n"
   ]
  },
  {
   "cell_type": "markdown",
   "id": "79561d12-dc93-4447-b171-6abb75ebc23d",
   "metadata": {},
   "source": [
    "### Aufgabe\n",
    "Erweitere nun die Funktion `guess_number()` zu einer\n",
    "Funktion `play_game(lower, upper)`, die eine Zufallszahl zwischen `lower` und `upper` erzeugt, und dann diese Zahl\n",
    "erraten l&auml;sst.  \n",
    "Es wird ausgegeben, wie viele Versuche gebraucht wurden, sowie in tabellarischer Form,\n",
    "alle Versuche mit Bewertung."
   ]
  },
  {
   "cell_type": "code",
   "execution_count": null,
   "id": "fc5a3b55-4adc-4813-be5d-0640ace14734",
   "metadata": {},
   "outputs": [],
   "source": []
  }
 ],
 "metadata": {
  "kernelspec": {
   "display_name": "Python 3 (ipykernel)",
   "language": "python",
   "name": "python3"
  },
  "language_info": {
   "codemirror_mode": {
    "name": "ipython",
    "version": 3
   },
   "file_extension": ".py",
   "mimetype": "text/x-python",
   "name": "python",
   "nbconvert_exporter": "python",
   "pygments_lexer": "ipython3",
   "version": "3.9.10"
  }
 },
 "nbformat": 4,
 "nbformat_minor": 5
}
