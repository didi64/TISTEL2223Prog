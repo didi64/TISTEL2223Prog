{
 "cells": [
  {
   "cell_type": "markdown",
   "id": "b3c3c12e-7d03-4f6b-a55f-63161681d37e",
   "metadata": {},
   "source": [
    "### List-Comprehension\n",
    "siehe auch\n",
    "https://www.w3schools.com/python/python_lists_comprehension.asp\n",
    "\n",
    "- Eine Liste kann man auch kreieren durch Aussondern von Elementen aus einem Objekt, das iterable ist.\n",
    "- `lst = [<Ausdruck in x> for x in <iterable>]`  \n",
    "  ist Kurzform f&uuml;r\n",
    "\n",
    "```python\n",
    "lst = []\n",
    "for x in <iterable>:\n",
    "    item = <Ausdruck in x>\n",
    "    lst.append(item)\n",
    "```\n",
    "- `lst = [<Ausdruck in x> for x in <iterable> if <expression>]`  \n",
    "  ist Kurzform f&uuml;r\n",
    "\n",
    "```python\n",
    "lst = []\n",
    "for x in <iterable>:\n",
    "    if <Bedingung>:\n",
    "        item = <Ausdruck in x>\n",
    "        lst.append(item)\n",
    "```"
   ]
  },
  {
   "cell_type": "code",
   "execution_count": 17,
   "id": "53836e3c-203f-4b10-9a45-e9246824f1f2",
   "metadata": {},
   "outputs": [
    {
     "data": {
      "text/plain": [
       "[1, 2, 3, 4, 5]"
      ]
     },
     "execution_count": 17,
     "metadata": {},
     "output_type": "execute_result"
    }
   ],
   "source": [
    "# kreiert eine Liste mit den Zahlen 1 bis 5\n",
    "[i for i in range(1,6)] "
   ]
  },
  {
   "cell_type": "code",
   "execution_count": 10,
   "id": "b8347034-052a-433d-b382-7b4492d6db5e",
   "metadata": {},
   "outputs": [
    {
     "data": {
      "text/plain": [
       "[1, 2, 3, 4, 5]"
      ]
     },
     "execution_count": 10,
     "metadata": {},
     "output_type": "execute_result"
    }
   ],
   "source": [
    "lst = []\n",
    "for i in range(1,6):\n",
    "    lst.append(i)\n",
    "lst   "
   ]
  },
  {
   "cell_type": "code",
   "execution_count": 19,
   "id": "d76e9f3f-7bee-43e6-b442-7df3f0bce6b0",
   "metadata": {},
   "outputs": [
    {
     "data": {
      "text/plain": [
       "[2, 4, 6, 8, 10]"
      ]
     },
     "execution_count": 19,
     "metadata": {},
     "output_type": "execute_result"
    }
   ],
   "source": [
    "# Liste mit den ersten 5 geraden Zahlen\n",
    "[(i + 1) * 2 for i in range(5)] "
   ]
  },
  {
   "cell_type": "code",
   "execution_count": 11,
   "id": "5c233188-af17-4def-a301-345dea4010bb",
   "metadata": {},
   "outputs": [
    {
     "data": {
      "text/plain": [
       "['H', 'A', 'L', 'L', 'O']"
      ]
     },
     "execution_count": 11,
     "metadata": {},
     "output_type": "execute_result"
    }
   ],
   "source": [
    "[ch.upper() for ch in 'hallo'] "
   ]
  },
  {
   "cell_type": "markdown",
   "id": "52b6f3c8-8793-408e-9123-7eaf3309ebf2",
   "metadata": {},
   "source": [
    "**Der `in` Operator**  (Membership Test)  \n",
    "(siehe auch [docs.python.org](https://docs.python.org/3/reference/expressions.html#membership-test-operations))  \n",
    "Ist `obj` iterable, so ist `x in obj` gleich `True` falls `x` im Iteralbe `obj` vorkommt, sonst `False`.\n"
   ]
  },
  {
   "cell_type": "code",
   "execution_count": 20,
   "id": "a47c8420-9c8e-4d3f-b038-8094c9c56ef8",
   "metadata": {},
   "outputs": [
    {
     "data": {
      "text/plain": [
       "['a', 'o']"
      ]
     },
     "execution_count": 20,
     "metadata": {},
     "output_type": "execute_result"
    }
   ],
   "source": [
    "# Sammle alle Vokale die in einem Wort vorkommen\n",
    "\n",
    "VOWELS = 'AEIOU'\n",
    "word   = 'hallo'\n",
    "\n",
    "lst = [ch for ch in word if ch.upper() in VOWELS]\n",
    "lst"
   ]
  },
  {
   "cell_type": "code",
   "execution_count": 15,
   "id": "b76263f9-7c9a-4763-99dc-a4b6f1af63bd",
   "metadata": {},
   "outputs": [
    {
     "data": {
      "text/plain": [
       "['a', 'o']"
      ]
     },
     "execution_count": 15,
     "metadata": {},
     "output_type": "execute_result"
    }
   ],
   "source": [
    "VOWELS = 'AEIOU'\n",
    "word   = 'hallo'\n",
    "\n",
    "lst = []\n",
    "for ch in word:\n",
    "    if ch.upper() in VOWELS:\n",
    "        lst.append(ch)\n",
    "lst        "
   ]
  },
  {
   "cell_type": "code",
   "execution_count": null,
   "id": "c0ee3ad8-0816-4c26-87ad-5b365622ca2e",
   "metadata": {},
   "outputs": [],
   "source": [
    "# ueber Tuple iterieren, dann Tuple auspacken\n",
    "fractions = [(1,3), (1,4), (1,6)]\n",
    "['{}/{}'.format(*tp) for tp in fractions]"
   ]
  },
  {
   "cell_type": "code",
   "execution_count": 16,
   "id": "aeb9e41a-a529-4922-94fa-94eb4899b11c",
   "metadata": {},
   "outputs": [
    {
     "data": {
      "text/plain": [
       "['1/3', '1/4', '1/6']"
      ]
     },
     "execution_count": 16,
     "metadata": {},
     "output_type": "execute_result"
    }
   ],
   "source": [
    "# Tuple beim Iterieren auspacken\n",
    "fractions = [(1,3), (1,4), (1,6)]\n",
    "['{}/{}'.format(x, y) for x, y in fractions]"
   ]
  },
  {
   "cell_type": "markdown",
   "id": "917a672b-d110-4b93-9e8e-a691ef1b0188",
   "metadata": {},
   "source": [
    "### Tuple-Comprehension\n",
    "Analog zu List-Comprehension. Z.B.  \n",
    "- `tp = tupel(<Ausdruck in x> for x in <iterable>)`  \n",
    "  ist Kurzform von\n",
    "\n",
    "```python\n",
    "tp = []\n",
    "for x in <iterable>:\n",
    "    item = <Ausdruck in x>\n",
    "    tp.append(item)\n",
    "t= tuple(tp)    \n",
    "```"
   ]
  },
  {
   "cell_type": "code",
   "execution_count": null,
   "id": "576f5e4e-9089-4d99-be8e-34e3dba35ab1",
   "metadata": {},
   "outputs": [
    {
     "data": {
      "text/plain": [
       "(0, 1, 4, 9, 16)"
      ]
     },
     "execution_count": 3,
     "metadata": {},
     "output_type": "execute_result"
    }
   ],
   "source": [
    "tp = tuple(x ** 2 for x in range(5))\n",
    "tp"
   ]
  },
  {
   "cell_type": "markdown",
   "id": "2e16c76d-16a7-4185-9f83-3d502a95a146",
   "metadata": {},
   "source": [
    "### Aufgaben\n",
    "Vereinfache mit Listcomprehension:  \n",
    "\n",
    "```python  \n",
    "# 1)\n",
    "header = ('First Name', 'Last Name', 'Email')\n",
    "widths = []\n",
    "for h in header:\n",
    "    widths.append(len(h))  \n",
    "\n",
    "widths\n",
    "\n",
    "# 2)\n",
    "header = ('First Name', 'Last Name', 'Email')\n",
    "width = 15\n",
    "items = []\n",
    "for item in header:\n",
    "    items.append(item.ljust(item, width)) \n",
    "\n",
    "items\n",
    "\n",
    "# 3)\n",
    "header = ('First Name', 'Last Name', 'Email')\n",
    "widths = [10, 9, 5]\n",
    "items = []\n",
    "for h, width in zip(header, widths):\n",
    "    items.append(h.ljust(width))\n",
    "    \n",
    "items\n",
    "```"
   ]
  }
 ],
 "metadata": {
  "kernelspec": {
   "display_name": "Python 3 (ipykernel)",
   "language": "python",
   "name": "python3"
  },
  "language_info": {
   "codemirror_mode": {
    "name": "ipython",
    "version": 3
   },
   "file_extension": ".py",
   "mimetype": "text/x-python",
   "name": "python",
   "nbconvert_exporter": "python",
   "pygments_lexer": "ipython3",
   "version": "3.9.10"
  }
 },
 "nbformat": 4,
 "nbformat_minor": 5
}
