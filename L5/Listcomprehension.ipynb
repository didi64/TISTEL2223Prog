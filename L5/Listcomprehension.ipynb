{
 "cells": [
  {
   "cell_type": "markdown",
   "id": "b3c3c12e-7d03-4f6b-a55f-63161681d37e",
   "metadata": {},
   "source": [
    "### List-Comprehension\n",
    "siehe auch\n",
    "https://www.w3schools.com/python und\n",
    "https://docs.python.org/3/tutorial/datastructures.html#list-comprehensions\n",
    "\n",
    "Eine Liste kann man kreieren durch Aussondern von Elementen aus einem Objekt, das iterable ist.\n",
    "- `lst = [<Ausdruck in x> for x in <iterable>]`  \n",
    "  ist Kurzform f&uuml;r\n",
    "\n",
    "```python\n",
    "lst = []\n",
    "for x in <iterable>:\n",
    "    item = <Ausdruck in x>\n",
    "    lst.append(item)\n",
    "```\n",
    "- `lst = [<Ausdruck in x> for x in <iterable> if <expression>]`  \n",
    "  ist Kurzform f&uuml;r\n",
    "\n",
    "```python\n",
    "lst = []\n",
    "for x in <iterable>:\n",
    "    if <Bedingung>:\n",
    "        item = <Ausdruck in x>\n",
    "        lst.append(item)\n",
    "```"
   ]
  },
  {
   "cell_type": "code",
   "execution_count": 1,
   "id": "53836e3c-203f-4b10-9a45-e9246824f1f2",
   "metadata": {},
   "outputs": [
    {
     "data": {
      "text/plain": [
       "[1, 4, 9, 16, 25]"
      ]
     },
     "execution_count": 1,
     "metadata": {},
     "output_type": "execute_result"
    }
   ],
   "source": [
    "# kreiert eine Liste mit den ersten 5 Quadratzahlen\n",
    "[i ** 2 for i in range(1,6)] "
   ]
  },
  {
   "cell_type": "code",
   "execution_count": 2,
   "id": "d76e9f3f-7bee-43e6-b442-7df3f0bce6b0",
   "metadata": {},
   "outputs": [
    {
     "data": {
      "text/plain": [
       "[4, 16, 36, 64, 100]"
      ]
     },
     "execution_count": 2,
     "metadata": {},
     "output_type": "execute_result"
    }
   ],
   "source": [
    "# Liste mit den Quadraten der ersten 5 geraden Zahlen\n",
    "[(2*i) ** 2 for i in range(1, 6)] "
   ]
  },
  {
   "cell_type": "code",
   "execution_count": 5,
   "id": "ede0915c-a48f-4e52-9097-34d2fd89a2e0",
   "metadata": {},
   "outputs": [
    {
     "data": {
      "text/plain": [
       "[4, 16, 36, 64, 100]"
      ]
     },
     "execution_count": 5,
     "metadata": {},
     "output_type": "execute_result"
    }
   ],
   "source": [
    "# Liste mit den Quadraten der ersten 5 geraden Zahlen\n",
    "[i ** 2 for i in range(11) if 0 < i and i % 2 == 0] "
   ]
  },
  {
   "cell_type": "code",
   "execution_count": 11,
   "id": "5c233188-af17-4def-a301-345dea4010bb",
   "metadata": {},
   "outputs": [
    {
     "data": {
      "text/plain": [
       "['H', 'A', 'L', 'L', 'O']"
      ]
     },
     "execution_count": 11,
     "metadata": {},
     "output_type": "execute_result"
    }
   ],
   "source": [
    "[ch.upper() for ch in 'hallo'] "
   ]
  },
  {
   "cell_type": "markdown",
   "id": "52b6f3c8-8793-408e-9123-7eaf3309ebf2",
   "metadata": {},
   "source": [
    "**Bemerkung**  (Membership Test)  \n",
    "Ist `obj` iterable, so ist `x in obj` gleich `True` falls `x` im Iterable `obj` vorkommt, sonst `False`\n",
    "(siehe auch [docs.python.org](https://docs.python.org/3/reference/expressions.html#membership-test-operations))  "
   ]
  },
  {
   "cell_type": "code",
   "execution_count": 20,
   "id": "a47c8420-9c8e-4d3f-b038-8094c9c56ef8",
   "metadata": {},
   "outputs": [
    {
     "data": {
      "text/plain": [
       "['a', 'o']"
      ]
     },
     "execution_count": 20,
     "metadata": {},
     "output_type": "execute_result"
    }
   ],
   "source": [
    "# Sammle alle Vokale die in einem Wort vorkommen\n",
    "\n",
    "VOWELS = 'AEIOU'\n",
    "word   = 'hallo'\n",
    "\n",
    "lst = [ch for ch in word if ch.upper() in VOWELS]\n",
    "lst"
   ]
  },
  {
   "cell_type": "markdown",
   "id": "917a672b-d110-4b93-9e8e-a691ef1b0188",
   "metadata": {},
   "source": [
    "### Tuple-Comprehension\n",
    "Analog zu List-Comprehension. Z.B.  \n",
    "`tp = tupel(<Ausdruck in x> for x in <iterable>)`  \n",
    "  hat den gleichen Effekt wie\n",
    "\n",
    "```python\n",
    "tp = []\n",
    "for x in <iterable>:\n",
    "    item = <Ausdruck in x>\n",
    "    tp.append(item)\n",
    "t = tuple(tp)    \n",
    "```"
   ]
  },
  {
   "cell_type": "code",
   "execution_count": 6,
   "id": "576f5e4e-9089-4d99-be8e-34e3dba35ab1",
   "metadata": {},
   "outputs": [
    {
     "data": {
      "text/plain": [
       "('h', 'l', 'l')"
      ]
     },
     "execution_count": 6,
     "metadata": {},
     "output_type": "execute_result"
    }
   ],
   "source": [
    "tp = tuple(ch for ch in 'hallo' if ch in 'hll')\n",
    "tp"
   ]
  },
  {
   "cell_type": "markdown",
   "id": "2e16c76d-16a7-4185-9f83-3d502a95a146",
   "metadata": {},
   "source": [
    "### Aufgaben\n",
    "Vereinfache mit Listcomprehension:  \n",
    "\n",
    "```python  \n",
    "# 1)\n",
    "header = ('First Name', 'Last Name', 'Email')\n",
    "widths = []\n",
    "for h in header:\n",
    "    widths.append(len(h))  \n",
    "\n",
    "widths\n",
    "\n",
    "\n",
    "# 2)\n",
    "header = ('First Name', 'Last Name', 'Email')\n",
    "widths = [10, 9, 5]\n",
    "items = []\n",
    "for h, width in zip(header, widths):\n",
    "    items.append(h.ljust(width))\n",
    "    \n",
    "items\n",
    "\n",
    "# 3)\n",
    "matrix = []\n",
    "for i in range(4):\n",
    "    row = []\n",
    "    for j in range(3):\n",
    "        row.append((i,j))\n",
    "    matrix.append(row)    \n",
    "\n",
    "matrix\n",
    "\n",
    "# 4)\n",
    "def get_cards():\n",
    "    '''return a list of lists of numbers in range(16)\n",
    "       the numbers in the ith list have the ith bit set\n",
    "    '''   \n",
    "    cards = []\n",
    "    for i in range(4):\n",
    "        card = []\n",
    "        for  n in range(16):\n",
    "            if 1 << i & n:\n",
    "                card.append(n)\n",
    "        cards.append(card)\n",
    "                    \n",
    "    return cards         \n",
    "```\n",
    "\n",
    "Erstelle folgende Liste auf verschiedene Weisen (nicht nur mit Listcomprehension):  \n",
    "`[(1,'a'),...,(8,'h')]`"
   ]
  },
  {
   "cell_type": "code",
   "execution_count": null,
   "id": "dde83e19-05a4-4965-80ae-7680f99d319b",
   "metadata": {},
   "outputs": [],
   "source": []
  }
 ],
 "metadata": {
  "kernelspec": {
   "display_name": "Python 3 (ipykernel)",
   "language": "python",
   "name": "python3"
  },
  "language_info": {
   "codemirror_mode": {
    "name": "ipython",
    "version": 3
   },
   "file_extension": ".py",
   "mimetype": "text/x-python",
   "name": "python",
   "nbconvert_exporter": "python",
   "pygments_lexer": "ipython3",
   "version": "3.9.10"
  }
 },
 "nbformat": 4,
 "nbformat_minor": 5
}
