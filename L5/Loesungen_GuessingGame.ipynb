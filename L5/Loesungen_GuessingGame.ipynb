{
 "cells": [
  {
   "cell_type": "markdown",
   "id": "3d01cc3d-12f9-4306-9d48-b63938d31122",
   "metadata": {},
   "source": [
    "### L&ouml;sungen Guessing Game"
   ]
  },
  {
   "cell_type": "code",
   "execution_count": 10,
   "id": "7136624b-556b-452c-8f05-f8a032a972d0",
   "metadata": {},
   "outputs": [],
   "source": [
    "import random\n",
    "from tools import print_as_table, sign"
   ]
  },
  {
   "cell_type": "code",
   "execution_count": 23,
   "id": "974f28ec-dc74-4fb4-8126-9980503371a5",
   "metadata": {},
   "outputs": [],
   "source": [
    "# help(random)"
   ]
  },
  {
   "cell_type": "code",
   "execution_count": 21,
   "id": "4c6e1284-c86e-4725-95c8-95764345ea3f",
   "metadata": {},
   "outputs": [
    {
     "name": "stdout",
     "output_type": "stream",
     "text": [
      "Help on method randint in module random:\n",
      "\n",
      "randint(a, b) method of random.Random instance\n",
      "    Return random integer in range [a, b], including both end points.\n",
      "\n"
     ]
    }
   ],
   "source": [
    "help(random.randint)"
   ]
  },
  {
   "cell_type": "code",
   "execution_count": 11,
   "id": "8eaa16dc-3a8c-4dfd-8404-ca80af1c38ac",
   "metadata": {},
   "outputs": [],
   "source": [
    "def print_history(history):\n",
    "    header = ('Nr.', 'Guess', 'Comment')\n",
    "    rows = []\n",
    "    for i, (guess, feedback) in enumerate(history):\n",
    "        row = (str(i+1), str(guess), feedback) \n",
    "        rows.append(row)\n",
    "        \n",
    "    print_as_table(header, rows)"
   ]
  },
  {
   "cell_type": "code",
   "execution_count": 12,
   "id": "58a3ae38-9d29-400b-b554-bdec0ef98f94",
   "metadata": {},
   "outputs": [
    {
     "name": "stdout",
     "output_type": "stream",
     "text": [
      " | Nr. | Guess | Comment | \n",
      " | === | ===== | ======= | \n",
      " | 1   | 3     | too big | \n",
      " | 2   | 2     | correct | \n"
     ]
    }
   ],
   "source": [
    "history = [(3, 'too big'), (2, 'correct')]\n",
    "print_history(history)"
   ]
  },
  {
   "cell_type": "code",
   "execution_count": 13,
   "id": "e91b259b-d0e8-4a86-9cca-6071e1fea8b2",
   "metadata": {},
   "outputs": [],
   "source": [
    "def eval_guess(guess, n):\n",
    "    '''returns a tuple (is_ok, comment)\n",
    "       is_ok: True, if guess equals n\n",
    "       comment: 'too big', 'correct' or 'too small'\n",
    "    '''\n",
    "    comments = {1: 'too big', \n",
    "                0: 'correct', \n",
    "                -1:'too small',\n",
    "               }\n",
    "    \n",
    "    is_ok = guess == n\n",
    "    key = sign(guess - n)\n",
    "    return is_ok, comments[key]"
   ]
  },
  {
   "cell_type": "code",
   "execution_count": 14,
   "id": "1078af26-8711-4773-8d31-229564d6b9da",
   "metadata": {},
   "outputs": [
    {
     "data": {
      "text/plain": [
       "(False, 'too small')"
      ]
     },
     "execution_count": 14,
     "metadata": {},
     "output_type": "execute_result"
    }
   ],
   "source": [
    "eval_guess(3, 4)"
   ]
  },
  {
   "cell_type": "code",
   "execution_count": 15,
   "id": "82ebf53e-0711-40d1-8f19-1a84d4000112",
   "metadata": {},
   "outputs": [],
   "source": [
    "def guess_number(nbr):\n",
    "    '''frage nach einer Zahl zw.1 und 5 bis nbr eingegeben wird.\n",
    "       gib eine Liste zurueck, fuer jeden Rateversuch eine Bewertung enthaelt\n",
    "    '''   \n",
    "    history = []\n",
    "    is_correct = False\n",
    "    while not is_correct:\n",
    "        n = int(input('Zahl zwischen 1 und 5:'))\n",
    "        is_correct, comment = eval_guess(n, nbr)\n",
    "        \n",
    "        history.append((n, comment))    \n",
    "        print(comment)\n",
    "        \n",
    "    return history"
   ]
  },
  {
   "cell_type": "code",
   "execution_count": 16,
   "id": "4afa8af8-ad47-4c84-b4d4-e8282546ee1a",
   "metadata": {},
   "outputs": [
    {
     "name": "stdin",
     "output_type": "stream",
     "text": [
      "Zahl zwischen 1 und 5: 4\n"
     ]
    },
    {
     "name": "stdout",
     "output_type": "stream",
     "text": [
      "correct\n"
     ]
    },
    {
     "data": {
      "text/plain": [
       "[(4, 'correct')]"
      ]
     },
     "execution_count": 16,
     "metadata": {},
     "output_type": "execute_result"
    }
   ],
   "source": [
    "guess_number(4)"
   ]
  },
  {
   "cell_type": "markdown",
   "id": "c55d20ac-4386-4589-9935-995ac5193a20",
   "metadata": {},
   "source": [
    "***\n",
    "Die Funktion `play_game`\n",
    "***"
   ]
  },
  {
   "cell_type": "code",
   "execution_count": 17,
   "id": "4b041606-7aab-4b8a-b472-f395dcd52933",
   "metadata": {},
   "outputs": [],
   "source": [
    "def play_game(lower, upper):\n",
    "    '''guess a random Integer between lower and upper,\n",
    "       lower and upper are included\n",
    "    '''   \n",
    "    nbr = random.randint(lower, upper)\n",
    "    history = []\n",
    "    \n",
    "    is_correct = False\n",
    "    while not is_correct:\n",
    "        n = int(input('Zahl zwischen {lower} und {upper}? '\\\n",
    "                  .format(lower=lower, upper=upper)))\n",
    "        \n",
    "        is_correct, comment = eval_guess(n, nbr)\n",
    "        \n",
    "        history.append((n, comment))    \n",
    "        print(comment)\n",
    "        \n",
    "    print('Congrats! You guessed the number {N} in {n} tries.'\\\n",
    "          .format(N=nbr, n=len(history)))\n",
    "    print()\n",
    "    print_history(history)"
   ]
  },
  {
   "cell_type": "code",
   "execution_count": 20,
   "id": "699808a6-1cc6-4bf5-824b-838ea7edcae2",
   "metadata": {},
   "outputs": [
    {
     "name": "stdin",
     "output_type": "stream",
     "text": [
      "Zahl zwischen 1 und 5?  1\n"
     ]
    },
    {
     "name": "stdout",
     "output_type": "stream",
     "text": [
      "too small\n"
     ]
    },
    {
     "name": "stdin",
     "output_type": "stream",
     "text": [
      "Zahl zwischen 1 und 5?  2\n"
     ]
    },
    {
     "name": "stdout",
     "output_type": "stream",
     "text": [
      "too small\n"
     ]
    },
    {
     "name": "stdin",
     "output_type": "stream",
     "text": [
      "Zahl zwischen 1 und 5?  3\n"
     ]
    },
    {
     "name": "stdout",
     "output_type": "stream",
     "text": [
      "too small\n"
     ]
    },
    {
     "name": "stdin",
     "output_type": "stream",
     "text": [
      "Zahl zwischen 1 und 5?  4\n"
     ]
    },
    {
     "name": "stdout",
     "output_type": "stream",
     "text": [
      "correct\n",
      "Congrats! You guessed the number 4 in 4 tries.\n",
      "\n",
      " | Nr. | Guess | Comment   | \n",
      " | === | ===== | ========= | \n",
      " | 1   | 1     | too small | \n",
      " | 2   | 2     | too small | \n",
      " | 3   | 3     | too small | \n",
      " | 4   | 4     | correct   | \n"
     ]
    }
   ],
   "source": [
    "play_game(1, 5)"
   ]
  },
  {
   "cell_type": "code",
   "execution_count": null,
   "id": "137186fa-d05c-43da-8a73-25f3f6affd93",
   "metadata": {},
   "outputs": [],
   "source": []
  }
 ],
 "metadata": {
  "kernelspec": {
   "display_name": "Python 3 (ipykernel)",
   "language": "python",
   "name": "python3"
  },
  "language_info": {
   "codemirror_mode": {
    "name": "ipython",
    "version": 3
   },
   "file_extension": ".py",
   "mimetype": "text/x-python",
   "name": "python",
   "nbconvert_exporter": "python",
   "pygments_lexer": "ipython3",
   "version": "3.9.10"
  }
 },
 "nbformat": 4,
 "nbformat_minor": 5
}
