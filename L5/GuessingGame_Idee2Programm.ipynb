{
 "cells": [
  {
   "cell_type": "markdown",
   "id": "6cd8db94-0f3c-4d1c-8916-b300115d7158",
   "metadata": {},
   "source": [
    "### Ein Ratespiel programmieren\n",
    "Wir wollen ein Programm schreiben, dass uns eine Zufallszahl zwischen 1 und 10 erraten l&auml;sst.\n",
    "Nach jedem Versuch wird mitgeteilt, ob wir zu gross oder zu klein geraten haben.  "
   ]
  },
  {
   "cell_type": "markdown",
   "id": "2f83b117-4844-4b55-9dde-b234665db73b",
   "metadata": {},
   "source": [
    "### Von der Idee zum Programm\n",
    "- Was genau soll das Programm tun?  \n",
    "  Spezifikation erstellen\n",
    "  \n",
    "- Wie kann man das tun?  \n",
    "  - Aufgabe in kleine, einfache Teilaufgaben zerlegen\n",
    "  - Experimentelle Phase:  \n",
    "    finde L&ouml;sungen f&uuml;r einzelne kleine Teilprobleme  \n",
    "       \n",
    "  - ev. Prototyp erstellen (minimalistische L&ouml;sung, \n",
    "  nicht essentielle Features weglassen, z.B. Zufallszahl ist immer 4, Versuche noch nicht ausgeben)    \n",
    "\n",
    "  - Pseudo Code\n",
    "  - Python \n",
    "  - Programm testen und allenfalls modifizieren"
   ]
  },
  {
   "cell_type": "markdown",
   "id": "1dbd2b01-717c-417e-80f3-1c6a4562e3a4",
   "metadata": {},
   "source": [
    "**Spezifikation**:\n",
    "\n",
    "- Eine Zufallszahl zwischen 1 und 10 wird gew&auml;hlt.\n",
    "- Der Benutzer wird solange zur Eingabe einer Zahl aufgefordert, bis er die Zahl erraten hat.  \n",
    "  Es wird ausgegeben, ob die Zahl zu gross oder zu klein ist.\n",
    "- Wurde die Zahl erraten, werden Anzahl Versuche ausgebegen.  \n",
    "  In tabellarischer Form werden alle Versuche und ihre Bewertung (zu gross, zu klein, korrekt) ausgegeben.\n"
   ]
  },
  {
   "cell_type": "markdown",
   "id": "c2443193-6767-49b5-8c1b-91039b9a3df5",
   "metadata": {},
   "source": [
    "**Lose Teilprobleme**:  \n",
    "- Zufallszahl erzeugen  \n",
    "- Integer als Input bekommen  \n",
    "- Vermutung evaluieren: richtig, zu klein, zu gross \n",
    "- Versuche in geeigneter Form abspeichern  \n",
    "- solange nach Zahl fragen, bis Zahl gleich Zufallszahl\n",
    "- Versuche formatiert ausgeben  "
   ]
  },
  {
   "cell_type": "markdown",
   "id": "7bc4e304-7c95-4a23-8e97-7990e6b1ce4c",
   "metadata": {},
   "source": [
    "**Pseudocode**:\n",
    "```python\n",
    "nbr = zufallszahl zw. 1 und 10\n",
    "history = []\n",
    "\n",
    "wiederhole bis Zahl erraten:\n",
    "    n = eingegebene_Zahl\n",
    "    feedback = evaluate(n) # [ok, zu klein, zu gross]\n",
    "    history.append((n, feedback))\n",
    "    \n",
    "show_history(history) # history tabellarisch ausgeben\n",
    "```\n"
   ]
  },
  {
   "cell_type": "markdown",
   "id": "89841157-a70d-4b4c-9c60-f597290b22d7",
   "metadata": {},
   "source": [
    "***\n",
    "**Code eines Prototypes**\n",
    "***"
   ]
  },
  {
   "cell_type": "code",
   "execution_count": null,
   "id": "2e45a183-d322-4797-9e15-cf5f6e3123b2",
   "metadata": {},
   "outputs": [],
   "source": [
    "import tools\n",
    "\n",
    "# zu erratende Zahl, spaeter dann Zufallszahl\n",
    "NBR = 4\n",
    "\n",
    "feedback = {-1: 'too small;',\n",
    "            0:  'correct',\n",
    "            1:  'too big'\n",
    "           }\n",
    "\n",
    "# Frage nach Zahl bis NBR eingegeben wird\n",
    "guess = None\n",
    "while guess != NBR:\n",
    "    n = input('Zahl zwischen 1 und 10')\n",
    "    guess = int(n)\n",
    "    key = tools.sign(guess - NBR)\n",
    "    print(feedback[key])"
   ]
  },
  {
   "cell_type": "code",
   "execution_count": null,
   "id": "6512ea04-8b72-4426-81bc-26c26cd23a5e",
   "metadata": {},
   "outputs": [],
   "source": []
  }
 ],
 "metadata": {
  "kernelspec": {
   "display_name": "Python 3 (ipykernel)",
   "language": "python",
   "name": "python3"
  },
  "language_info": {
   "codemirror_mode": {
    "name": "ipython",
    "version": 3
   },
   "file_extension": ".py",
   "mimetype": "text/x-python",
   "name": "python",
   "nbconvert_exporter": "python",
   "pygments_lexer": "ipython3",
   "version": "3.9.10"
  }
 },
 "nbformat": 4,
 "nbformat_minor": 5
}
