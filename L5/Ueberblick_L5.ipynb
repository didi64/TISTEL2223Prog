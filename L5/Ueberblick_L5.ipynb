{
 "cells": [
  {
   "cell_type": "markdown",
   "id": "88df95fd-5506-478c-9b42-818827d7504f",
   "metadata": {},
   "source": [
    "### Lektion 5, &Uuml;berblick und weitere Resourcen\n",
    "\n",
    "- Zahlenratespiel programmieren\n",
    "- While-Loops  [w3schools.com, while-loops](https://www.w3schools.com/python/python_while_loops.asp)\n",
    "- Listcomprehension, siehe [w3schools](https://www.w3schools.com/python/python_lists_comprehension.asp) und [docs.python.org](https://docs.python.org/3/tutorial/datastructures.html#list-comprehensions)"
   ]
  },
  {
   "cell_type": "code",
   "execution_count": null,
   "id": "6811f9ab-935d-40f2-bd26-80d6c177aef9",
   "metadata": {},
   "outputs": [],
   "source": []
  }
 ],
 "metadata": {
  "kernelspec": {
   "display_name": "Python 3 (ipykernel)",
   "language": "python",
   "name": "python3"
  },
  "language_info": {
   "codemirror_mode": {
    "name": "ipython",
    "version": 3
   },
   "file_extension": ".py",
   "mimetype": "text/x-python",
   "name": "python",
   "nbconvert_exporter": "python",
   "pygments_lexer": "ipython3",
   "version": "3.9.10"
  }
 },
 "nbformat": 4,
 "nbformat_minor": 5
}
