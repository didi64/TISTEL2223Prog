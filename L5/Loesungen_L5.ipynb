{
 "cells": [
  {
   "cell_type": "markdown",
   "id": "5e3b7c54-19ab-43c6-bd83-1fa30dd51201",
   "metadata": {},
   "source": [
    "### L&ouml;sungen Lektion 5"
   ]
  },
  {
   "cell_type": "code",
   "execution_count": null,
   "id": "d5fbf6c6-189e-47d2-967a-670031dbfac9",
   "metadata": {},
   "outputs": [],
   "source": []
  },
  {
   "cell_type": "markdown",
   "id": "13793b30-de67-4d2b-8a54-91a47e16d274",
   "metadata": {},
   "source": [
    "***\n",
    "While-Loops\n",
    "***"
   ]
  },
  {
   "cell_type": "code",
   "execution_count": 35,
   "id": "b8998827-28ac-4533-a6f7-0ac767c2b6e6",
   "metadata": {},
   "outputs": [],
   "source": [
    "# Frage nach Zahl, bis number eingeben wird\n",
    "def read_number(number):\n",
    "    nbr = None\n",
    "    while nbr != number: \n",
    "        nbr = input('Gib {} ein:'.format(number))\n",
    "        nbr = int(nbr)\n",
    "    print('ok, got', nbr)    "
   ]
  },
  {
   "cell_type": "code",
   "execution_count": 36,
   "id": "1adfa3a8-4e9b-4243-a8c9-ee7d3ea87c73",
   "metadata": {},
   "outputs": [
    {
     "name": "stdin",
     "output_type": "stream",
     "text": [
      "Gib 5 ein: 5\n"
     ]
    },
    {
     "name": "stdout",
     "output_type": "stream",
     "text": [
      "ok, got 5\n"
     ]
    }
   ],
   "source": [
    "read_number(5)"
   ]
  },
  {
   "cell_type": "code",
   "execution_count": 37,
   "id": "9ec9361c-7113-4052-8343-a880b19021ff",
   "metadata": {},
   "outputs": [],
   "source": [
    "# Variante\n",
    "def read_number_1(number):\n",
    "    nbr = None\n",
    "    while True: \n",
    "        nbr = input('Gib {} ein:'.format(number))\n",
    "        if number  == int(nbr):\n",
    "            break\n",
    "    print('ok, got', nbr)    "
   ]
  },
  {
   "cell_type": "code",
   "execution_count": 38,
   "id": "ecfdeb4b-705d-4192-87c2-f9db08fece9b",
   "metadata": {},
   "outputs": [
    {
     "name": "stdin",
     "output_type": "stream",
     "text": [
      "Gib 4 ein: 3\n",
      "Gib 4 ein: 4\n"
     ]
    },
    {
     "name": "stdout",
     "output_type": "stream",
     "text": [
      "ok, got 4\n"
     ]
    }
   ],
   "source": [
    "read_number_1(4)"
   ]
  },
  {
   "cell_type": "code",
   "execution_count": null,
   "id": "a914daf9-bfbf-41d7-b0d6-b5684771d83d",
   "metadata": {},
   "outputs": [],
   "source": [
    "def find_first1(s, ch):\n",
    "    i = 0\n",
    "    # erhoehe i solange s[i] definiert und verschieden von ch\n",
    "    while i < len(s) and s[i] != ch:\n",
    "        i = i + 1\n",
    "\n",
    "    # wurde ch gefunden, ist i noch < len(s)?    \n",
    "    if i == len(s):\n",
    "        return -1\n",
    "    else:\n",
    "        return i"
   ]
  },
  {
   "cell_type": "code",
   "execution_count": null,
   "id": "40921597-9e8c-473a-8a5f-baf895821b2e",
   "metadata": {},
   "outputs": [],
   "source": [
    "# while-Schleife bei Erfolg mit return verlassen\n",
    "def find_first2(s, ch):\n",
    "    i = 0\n",
    "    while i < len(s):\n",
    "        if s[i] == ch:\n",
    "            return i\n",
    "        i = i + 1\n",
    "        \n",
    "    return -1     "
   ]
  },
  {
   "cell_type": "code",
   "execution_count": null,
   "id": "c01cc4e2-afd2-488e-9b04-22ea17a3c581",
   "metadata": {},
   "outputs": [],
   "source": [
    "# weitere Variante\n",
    "def find_first3(s, ch):\n",
    "    i = 0\n",
    "    while True: \n",
    "        if i >= len(s):\n",
    "            return -1\n",
    "        if s[i] == ch:\n",
    "            return i\n",
    "        \n",
    "        i = i + 1"
   ]
  },
  {
   "cell_type": "markdown",
   "id": "b8104455-77b9-4ce3-86d9-6660b5df0985",
   "metadata": {},
   "source": [
    "**Bemerkung**:  \n",
    "Die Methode `str.find` macht genau was unser `find_first` tut.  "
   ]
  },
  {
   "cell_type": "code",
   "execution_count": 43,
   "id": "a531f89e-a372-4a9c-b3d6-bc1daf83e040",
   "metadata": {},
   "outputs": [
    {
     "name": "stdout",
     "output_type": "stream",
     "text": [
      "4\n",
      "-1\n",
      "2\n"
     ]
    }
   ],
   "source": [
    "print('Hallo'.find('o'))\n",
    "print('Hallo'.find('x'))\n",
    "print('Hallo'.find('ll')) # findet nicht nur Zeichen, sondern Teilstrings"
   ]
  },
  {
   "cell_type": "markdown",
   "id": "e9418812-8aee-47f0-b8a6-46e5b6c29b1c",
   "metadata": {},
   "source": [
    "***\n",
    "Listcomprehension\n",
    "***"
   ]
  },
  {
   "cell_type": "code",
   "execution_count": null,
   "id": "f3af60af-1ed3-4d36-a9d7-6d0322d140be",
   "metadata": {},
   "outputs": [],
   "source": [
    "# 1)\n",
    "header = ('First Name', 'Last Name', 'Email')\n",
    "widths = [len(h) for h in header]\n",
    "widths"
   ]
  },
  {
   "cell_type": "code",
   "execution_count": null,
   "id": "d801cde4-e4e0-4a29-8a0c-f0211aff0768",
   "metadata": {},
   "outputs": [],
   "source": [
    "header = ('First Name', 'Last Name', 'Email')\n",
    "widths = [10, 9, 5]\n",
    "items = [h.ljust(width) for h, width in zip(header, widths)]\n",
    "items"
   ]
  },
  {
   "cell_type": "code",
   "execution_count": null,
   "id": "fbbbe355-42da-4efa-9823-bbf4c0d849a0",
   "metadata": {},
   "outputs": [],
   "source": [
    "matrix = [[(i, j) for j in range(3)] for i in range(4)]\n",
    "matrix"
   ]
  },
  {
   "cell_type": "code",
   "execution_count": null,
   "id": "d72838d6-a8fe-444a-b37a-3d62bd9cbab5",
   "metadata": {},
   "outputs": [],
   "source": [
    "# 4)\n",
    "def get_cards():\n",
    "    '''return a list of lists of numbers in range(16)\n",
    "       the numbers in the ith list have the ith bit set\n",
    "    '''   \n",
    "    return [[n for n in range(16) if  1 << i & n] for i in range(4)]"
   ]
  },
  {
   "cell_type": "code",
   "execution_count": null,
   "id": "584d2a6a-1802-4be0-bddb-d12e0aaf34c4",
   "metadata": {},
   "outputs": [],
   "source": [
    "cards = get_cards()\n",
    "cards"
   ]
  },
  {
   "cell_type": "markdown",
   "id": "1305d07d-b621-4a7c-aa1e-068e6988b1f1",
   "metadata": {},
   "source": [
    "***\n",
    "Liste \n",
    "```python  \n",
    "[('1', 'A'), ('2', 'B'), ('3', 'C'), ('4', 'D'),\n",
    " ('5', 'E'), ('6', 'F'), ('7', 'G'), ('8', 'H')\n",
    "]\n",
    "```\n",
    "erstellen\n",
    "***"
   ]
  },
  {
   "cell_type": "code",
   "execution_count": 44,
   "id": "9237e16a-eed9-4f1b-b1d5-055aa452d42b",
   "metadata": {},
   "outputs": [
    {
     "data": {
      "text/plain": [
       "[('1', 'A'),\n",
       " ('2', 'B'),\n",
       " ('3', 'C'),\n",
       " ('4', 'D'),\n",
       " ('5', 'E'),\n",
       " ('6', 'F'),\n",
       " ('7', 'G'),\n",
       " ('8', 'H')]"
      ]
     },
     "execution_count": 44,
     "metadata": {},
     "output_type": "execute_result"
    }
   ],
   "source": [
    "list(zip('12345678', 'ABCDEFGH'))"
   ]
  },
  {
   "cell_type": "code",
   "execution_count": null,
   "id": "96482fd5-c7cc-4903-bf17-a8bc02455852",
   "metadata": {},
   "outputs": [],
   "source": [
    "list(enumerate('ABCDEFGH', start = 1))"
   ]
  },
  {
   "cell_type": "code",
   "execution_count": null,
   "id": "6e325aa6-53f5-4ade-8aec-4981ea8235da",
   "metadata": {},
   "outputs": [],
   "source": [
    "[(i + 1, ch) for i,ch in enumerate('ABCDEFGH')]"
   ]
  },
  {
   "cell_type": "code",
   "execution_count": null,
   "id": "80cbcf2e-1c1a-45b2-a684-f8cdd58c2370",
   "metadata": {},
   "outputs": [],
   "source": [
    "s = 'ABCDEFGH'\n",
    "[(i + 1, s[i]) for i in range(len(s))]"
   ]
  },
  {
   "cell_type": "code",
   "execution_count": null,
   "id": "fbfdc0e5-7e0c-44f7-9409-881e1d8b39e1",
   "metadata": {},
   "outputs": [],
   "source": [
    "[(i + 1, chr(ord('A') + i)) for i in range(8)]"
   ]
  },
  {
   "cell_type": "markdown",
   "id": "89e6df4b-a28d-4423-98f6-e91cd6826774",
   "metadata": {},
   "source": [
    "***\n",
    "Dictionaries\n",
    "***"
   ]
  },
  {
   "cell_type": "code",
   "execution_count": 28,
   "id": "06109782-d2fd-4b7e-b77f-d2c294c8fc20",
   "metadata": {},
   "outputs": [
    {
     "data": {
      "text/plain": [
       "{'a': 3, 'b': 2, 'c': 4}"
      ]
     },
     "execution_count": 28,
     "metadata": {},
     "output_type": "execute_result"
    }
   ],
   "source": [
    "# Vorkommen der Buchstaben zaehlen\n",
    "\n",
    "s = 'abcabaccc' \n",
    "character_count = {}\n",
    "\n",
    "for ch in s :\n",
    "    character_count[ch] = character_count.get(ch, 0) + 1\n",
    "    \n",
    "character_count   "
   ]
  },
  {
   "cell_type": "code",
   "execution_count": 29,
   "id": "c34b1dbf-d1d6-44b7-b20d-9eb200867c2a",
   "metadata": {},
   "outputs": [
    {
     "data": {
      "text/plain": [
       "{'a': 3, 'b': 2, 'c': 4}"
      ]
     },
     "execution_count": 29,
     "metadata": {},
     "output_type": "execute_result"
    }
   ],
   "source": [
    "s = 'abcabaccc' \n",
    "character_count = {}\n",
    "\n",
    "for ch in s :\n",
    "    if ch not in character_count:\n",
    "        character_count[ch] = 1\n",
    "    else:    \n",
    "        character_count[ch] += 1\n",
    "    \n",
    "character_count   "
   ]
  },
  {
   "cell_type": "code",
   "execution_count": 30,
   "id": "653dc09d-f97c-40b8-9214-3d438d620458",
   "metadata": {},
   "outputs": [
    {
     "data": {
      "text/plain": [
       "{'a': [0, 3, 5], 'b': [1, 4], 'c': [2, 6, 7, 8]}"
      ]
     },
     "execution_count": 30,
     "metadata": {},
     "output_type": "execute_result"
    }
   ],
   "source": [
    "# Positionen der Buchstaben ermitteln\n",
    "# d = {'a': [0,3,5],...}\n",
    "\n",
    "s = 'abcabaccc' \n",
    "character_positions = {}\n",
    "\n",
    "for i, ch in enumerate(s):\n",
    "    character_positions.setdefault(ch, []).append(i)\n",
    "    \n",
    "character_positions "
   ]
  },
  {
   "cell_type": "code",
   "execution_count": 32,
   "id": "f95e7520-f49c-4097-b005-f65d53940354",
   "metadata": {},
   "outputs": [
    {
     "data": {
      "text/plain": [
       "{'a': [0, 3, 5], 'b': [1, 4], 'c': [2, 6, 7, 8]}"
      ]
     },
     "execution_count": 32,
     "metadata": {},
     "output_type": "execute_result"
    }
   ],
   "source": [
    "s = 'abcabaccc' \n",
    "character_positions = {}\n",
    "\n",
    "for i, ch in enumerate(s):\n",
    "    if ch not in character_positions:\n",
    "        character_positions[ch] = [i]\n",
    "    else:\n",
    "        character_positions[ch].append(i)\n",
    "    \n",
    "character_positions "
   ]
  },
  {
   "cell_type": "code",
   "execution_count": null,
   "id": "25a66874-ea44-4da6-b332-943a93de27a1",
   "metadata": {},
   "outputs": [],
   "source": []
  }
 ],
 "metadata": {
  "kernelspec": {
   "display_name": "Python 3 (ipykernel)",
   "language": "python",
   "name": "python3"
  },
  "language_info": {
   "codemirror_mode": {
    "name": "ipython",
    "version": 3
   },
   "file_extension": ".py",
   "mimetype": "text/x-python",
   "name": "python",
   "nbconvert_exporter": "python",
   "pygments_lexer": "ipython3",
   "version": "3.9.10"
  }
 },
 "nbformat": 4,
 "nbformat_minor": 5
}
