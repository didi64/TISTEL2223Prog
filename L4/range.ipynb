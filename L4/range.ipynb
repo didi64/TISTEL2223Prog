{
 "cells": [
  {
   "cell_type": "markdown",
   "id": "98168b2b-af4d-4dc5-b6e0-e748eb9157bc",
   "metadata": {
    "tags": []
   },
   "source": [
    "### Die Funktion range\n",
    "- ```range(100)``` kreiert ein **iterierbares Objekt**.  \n",
    "  Die **Elemente** 0,..,99 werden **erst bei Bedarf erzeugt**.  \n",
    "  Typische Verwendungsweisen:\n",
    "  - `for i in range(5):`\n",
    "  - `list(range(5)) `     \n",
    "- `range` kann auch mit 2 oder 3 Argumenten aufgerufen werden:  \n",
    "  `range(von, bis_vor)` und `range(von, bis_vor, schrittweite)`  \n",
    "  `schrittweite` darf negativ sein (falls `von < bis_vor`)"
   ]
  },
  {
   "cell_type": "code",
   "execution_count": null,
   "id": "155de976-1f26-4c41-a13d-2a973e64fedf",
   "metadata": {},
   "outputs": [],
   "source": [
    "%%time # stoppt Ausfuehrungszeit des Codes in dieser Zelle\n",
    "for i in range(1000000000): \n",
    "    print(i, end=', ')\n",
    "    if i == 5:\n",
    "        break"
   ]
  },
  {
   "cell_type": "code",
   "execution_count": null,
   "id": "48b1d6e0-0bf4-439b-8a29-aa9fe922c21e",
   "metadata": {},
   "outputs": [],
   "source": [
    "list(range(5))"
   ]
  },
  {
   "cell_type": "code",
   "execution_count": null,
   "id": "5311a182-7c64-4dfc-a39c-beec06e9e248",
   "metadata": {},
   "outputs": [],
   "source": [
    "list(range(1, 5)) "
   ]
  },
  {
   "cell_type": "code",
   "execution_count": null,
   "id": "281972d0-98e8-4f97-84b1-fd6b54b32bcd",
   "metadata": {},
   "outputs": [],
   "source": [
    "list(range(1, 10, 2))"
   ]
  },
  {
   "cell_type": "code",
   "execution_count": null,
   "id": "5582d9e7-d09d-4785-a10d-a739f23e5346",
   "metadata": {},
   "outputs": [],
   "source": [
    "list(range(10, 0, -1))"
   ]
  },
  {
   "cell_type": "code",
   "execution_count": null,
   "id": "11c61c3e-6c33-45a2-b3e6-ba44edb33ad9",
   "metadata": {},
   "outputs": [],
   "source": [
    "list(range(9, -1, -1))"
   ]
  },
  {
   "cell_type": "markdown",
   "id": "bfa32b03-00c6-4fee-95bc-0a1b2c0f186d",
   "metadata": {},
   "source": [
    "### Aufgabe:\n",
    "- erzeuge eine Liste mit allen geraden Zahlen von 2 bis und mit 100\n",
    "- erzeuge eine Liste mit allen ungeraden Zahlen von 1 bis und mit 99\n",
    "- berechne die Summe 2  + 4 + ... + 100\n",
    "- berechne die Summe 1 + 3 + ... + 99\n",
    " **Hint**: `sum(<iterable>)` berechnet die Summe aller Elemente von `<iterable>`, falls `<iterable>` nur Zahlen enth&auml;lt"
   ]
  }
 ],
 "metadata": {
  "kernelspec": {
   "display_name": "Python 3 (ipykernel)",
   "language": "python",
   "name": "python3"
  },
  "language_info": {
   "codemirror_mode": {
    "name": "ipython",
    "version": 3
   },
   "file_extension": ".py",
   "mimetype": "text/x-python",
   "name": "python",
   "nbconvert_exporter": "python",
   "pygments_lexer": "ipython3",
   "version": "3.9.10"
  }
 },
 "nbformat": 4,
 "nbformat_minor": 5
}
