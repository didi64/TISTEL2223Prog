{
 "cells": [
  {
   "cell_type": "markdown",
   "id": "f0121ae6-9588-4af1-800d-c1657923df9e",
   "metadata": {},
   "source": [
    "### Operatoren \n",
    "- Einstellige Operatoren:  \n",
    "    - `-`, `not`  \n",
    "- Zweistellige Operatoren:\n",
    "    - `+, -, *, /, //, %, **, and, or, ==, <, in, not in, is not, ...`\n",
    "\n",
    "Bei fehlender Klammerung\n",
    "- werden **zuerst** die Operatoren mit der **h&ouml;chsten Priorit&auml;t** ausgewertet  \n",
    "- bei **gleicher Priorit&auml;t** wird **von links nach rechts** ausgewertet   "
   ]
  },
  {
   "cell_type": "markdown",
   "id": "fd893ade-a6b9-49a7-9a2d-68eb4e1b7f8e",
   "metadata": {},
   "source": [
    "### Operatorpriorit&auml;ten (von hoch nach tief):\n",
    "(siehe auch [operator-precedence](https://docs.python.org/3/reference/expressions.html#operator-precedence))\n",
    "\n",
    "<table>\n",
    "    <tr>\n",
    "         <th>Operator</th><th>Meaning</th>\n",
    "    </tr>\n",
    "    <tr>\n",
    "        <td><code>**</code></td>\n",
    "        <td>hoch</td>\n",
    "    </tr>\n",
    "    <tr>\n",
    "         <td><code>-x</code></td>\n",
    "         <td>Negation</td>\n",
    "    </tr>\n",
    "    <tr>\n",
    "        <td><code>*</code>, <code>/</code>, <code>//</code>, <code>%</code></td>\n",
    "        <td>Multiplikation, Division, Ganzahl-Division, Rest</td>\n",
    "    </tr>\n",
    "    <tr>\n",
    "      <td><code>+</code>, <code>-</code></td>\n",
    "      <td>Addition, Subtraktion</td>\n",
    "    </tr>\n",
    "    <tr>\n",
    "      <td><code>==</code>, <code>!=</code>, <code>&gt;</code>, <code>&gt;=</code>,                 <code>&lt;</code>, <code>&lt;=</code>,<br> <code>is</code>, <code>is not</code>,             <code>in</code>, <code>not in</code>\n",
    "      </td>\n",
    "      <td>Vergleiche, teste ob in Iterable  </td>\n",
    "    </tr>\n",
    "    <tr>\n",
    "      <td><code>not</code></td>\n",
    "      <td>logisches NOT</td>\n",
    "    </tr>\n",
    "    <tr>\n",
    "        <td><code>and</code></td>\n",
    "        <td>logisches AND</td>\n",
    "    </tr>\n",
    "     <tr>\n",
    "        <td><code>or</code></td>\n",
    "        <td>logisches OR</td>\n",
    "     </tr>\n",
    " </table>\n",
    " \n",
    "Wenn unsicher bez&uuml;glich der Operatorpriorit&auml;t:  \n",
    "**Lieber zuviele als zuwenige Klammern**."
   ]
  },
  {
   "cell_type": "markdown",
   "id": "bd0205db-c9b8-44d7-b5fd-7322cfebd59d",
   "metadata": {},
   "source": [
    "### Beispiele:\n",
    "- `1 - 2 + 3 - 4` ist `(((1 - 2) + 3) -4)`  \n",
    "  '+' und '-' haben gleiche Priorit&auml;t. Auswerten von links nach rechts.\n",
    "- `5 + 5 * 5` ist  `5 + (5 * 5)`  \n",
    "  `*` hat h&ouml;here Priorit&auml;t als '+'\n",
    "- `-2 ** 2 * 3` ist `(-(2**2)) * 3)`\n",
    "- `x and not y or a and b` ist `(x and (not y)) or (a and b)`"
   ]
  }
 ],
 "metadata": {
  "kernelspec": {
   "display_name": "Python 3 (ipykernel)",
   "language": "python",
   "name": "python3"
  },
  "language_info": {
   "codemirror_mode": {
    "name": "ipython",
    "version": 3
   },
   "file_extension": ".py",
   "mimetype": "text/x-python",
   "name": "python",
   "nbconvert_exporter": "python",
   "pygments_lexer": "ipython3",
   "version": "3.9.10"
  }
 },
 "nbformat": 4,
 "nbformat_minor": 5
}
