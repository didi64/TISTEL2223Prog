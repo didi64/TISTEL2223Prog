{
 "cells": [
  {
   "cell_type": "markdown",
   "id": "ac25f6f0-f79b-48e5-820c-8b223e3d09e2",
   "metadata": {
    "jp-MarkdownHeadingCollapsed": true,
    "tags": []
   },
   "source": [
    "### Indexing (`s[0], tp[-1]`, ...) und Slicing (`lst[:3]`, `s[::-1]`,...)\n",
    "- **Indexing**: **Zugriff** auf ein **Zeichen** eines Stings oder **Element** eines Tupels oder Liste\n",
    "- **Slicing**: **Erstellen** eines **Teilstings** (**Teiltuple**, **Teilliste**)\n",
    "\n",
    "(siehe auch [w3schools.com, lists_access](https://www.w3schools.com/python/python_lists_access.asp), \n",
    "[docs.python, lists](https://docs.python.org/3/tutorial/introduction.html#lists))\n",
    "\n",
    "- **Zugriff auf Element** eines Strings (Tupel oder Liste) `s` der L&auml;nge n.\n",
    "  - Ist 0<= i < n, so liefert `s[i]` das i-te Zeichen von `s`.\n",
    "  - Ist 1 <= i <= n, so liefert `s[-i]` das (n-i)te Zeichen, z.B. `s[-1]` das letzte, `s[-2]` das 2.-letzte.   \n",
    "  - F&uuml;r alle anderen Werte von i wird ein  `IndexError` ausgel&ouml;st.  \n",
    "  \n",
    "  \n",
    "- **Slice Notation**: `s[von:bis_vor]` und `s[von:bis_vor:schrittweite]`  \n",
    "liefert einen **neuen** String (Tupel oder Liste) bestehend aus den selektierten Elementen.  \n",
    "    - `s[von:bis_vor]` erzeugt ein Objekt mit den Elementen \n",
    "      `s[von]`,..., `s[bis_vor - 1]`.  \n",
    "      Fehlt `von` oder `bis_vor` \n",
    "     wird alles vom Anfang, bez. bis zum Ende genommen.  \n",
    "      `s[:-1]` ist `s` ohne das letzte Element.\n",
    "    - `s[von:bis_vor:schrittweite]` erzeugt ein Objekt mit den Elementen\n",
    "      > `s[von]`, `s[von + schrittweite]`,  ..., `s[von + n * schrittweite]`,  \n",
    "      \n",
    "      wo n maximal, so dass `von + n * schrittweite` kleiner als `bis_vor`.\n",
    "    \n",
    "  Eine negative `schrittweite` ist erlaubt (nur sinnvoll wenn `vor` gr&ouml;sser als `bis_vor`).\n",
    "  \n",
    "- **Slice-Zuweisungen** bei Listen    \n",
    "    - `lst[von:] = <Iterable>`  \n",
    "       Die Elemente im Endst&uuml;ck `lst[von:]` der Liste werden durch die Elemente des Iterables **ersetzt**.\n",
    "    - `lst[von:bis] = <Iterable>`  \n",
    "       Die Teilliste `lst[von:bis]` wird durch `list(<iterable>)` **ersetzt**.\n",
    "    - `lst[von:bis:schrittweite] = <Iterable>`  \n",
    "      - `schrittweite` gleich 1, siehe oben.\n",
    "      - `schrittweite` gr&ouml;sser 1:  \n",
    "        haben `lst[von:bis:schrittweite]` und `list(<Iterable>)` gleichviele Elemente, so\n",
    "        wird `lst[von:bis:schrittweite]` mit den Elementen des Iterables **ersetzt**,\n",
    "        anderfalls wird ein `ValueError` erzeugt."
   ]
  },
  {
   "cell_type": "markdown",
   "id": "72bbe1c4-81dc-402a-9a39-a9a641f25436",
   "metadata": {},
   "source": [
    "### Beispiele f&uuml;r str[von:bis_vor]:"
   ]
  },
  {
   "cell_type": "code",
   "execution_count": null,
   "id": "03875ea2-4169-4a2a-afdb-fba45ef3d9fe",
   "metadata": {},
   "outputs": [],
   "source": [
    "s = '0123456789'\n",
    "print('s[3:5] =', s[3:5])\n",
    "print('s[3:] =',  s[3:])\n",
    "print('s[:7] =', s[:7])\n",
    "print('s[3:7] =', s[3:7])\n",
    "print('s[:] =',   s[:])"
   ]
  },
  {
   "cell_type": "markdown",
   "id": "42ed3d61-dace-4f20-9bc1-58cc42085bac",
   "metadata": {},
   "source": [
    "### Z&auml;hlen vom Schluss her"
   ]
  },
  {
   "cell_type": "code",
   "execution_count": null,
   "id": "db6de536-8767-4816-97db-38492360da70",
   "metadata": {},
   "outputs": [],
   "source": [
    "lst = list('01234')\n",
    "print('lst[1:-1] = ', lst[1:-1])\n",
    "print('lst[:-1] = ', lst[:-1])\n",
    "print('lst[:-2] =', lst[:-2])"
   ]
  },
  {
   "cell_type": "markdown",
   "id": "09bd44d1-bdd2-4af3-9a75-4054dd6c924b",
   "metadata": {},
   "source": [
    "### Beispiele f&uuml;r str[von:bis_vor:schrittweite]:"
   ]
  },
  {
   "cell_type": "code",
   "execution_count": null,
   "id": "0f0f5e93-ded1-4fba-a120-077e63114245",
   "metadata": {},
   "outputs": [],
   "source": [
    "s = '0123456789'\n",
    "print('s[1:9:2] =', s[1:9:2])\n",
    "print('s[::2] =', s[::2])\n",
    "print('s[9:1:-1] =', s[9:1:-1])\n",
    "print('s[::-1] =', s[::-1]) # Das wichtigste Beispiel in dieser Gruppe!"
   ]
  },
  {
   "cell_type": "markdown",
   "id": "cf08475f-e4e7-4441-8042-a7a3b32b71fd",
   "metadata": {},
   "source": [
    "### Zuweisungen mit Slice-Notation"
   ]
  },
  {
   "cell_type": "code",
   "execution_count": null,
   "id": "f828c2c7-06cc-4cde-affd-428597f1de41",
   "metadata": {},
   "outputs": [],
   "source": [
    "nbrs = [0, 1, 2, 3, 4]\n",
    "nbrs[2:] = [0,0]      \n",
    "nbrs"
   ]
  },
  {
   "cell_type": "code",
   "execution_count": null,
   "id": "cd33cd11-a0bd-41da-b334-79b2949047fe",
   "metadata": {},
   "outputs": [],
   "source": [
    "nbrs = [0, 1, 2, 3, 4]\n",
    "nbrs[2:3] = []      \n",
    "nbrs"
   ]
  },
  {
   "cell_type": "code",
   "execution_count": null,
   "id": "16a516aa-ed15-4c9a-80d8-99908832c25d",
   "metadata": {},
   "outputs": [],
   "source": [
    "nbrs = [0, 1, 2, 3, 4]\n",
    "nbrs[2:3] = [0,0,0]      \n",
    "nbrs"
   ]
  },
  {
   "cell_type": "markdown",
   "id": "59896a09-bb7e-41a2-9028-827747f653b3",
   "metadata": {},
   "source": [
    "### Aufgaben\n",
    "Benutze Slice-Notation um\n",
    "- aus dem String `'einszwei'` den String\n",
    "`'eins zwei'` zu erstellen (Zeichen ' ' einf&uuml;gen).\n",
    "- aus dem String `'eins zwei'` den String\n",
    "`'einszwei'` zu erstellen (Zeichen ' ' entfernen).\n",
    "- zu testen, ob ein Wort ein Palindrom ist (z.B. 'Radar', vorw&auml;rts gleich r&uuml;ckw&auml;rts).\n",
    "- alle geraden Zahlen in der Liste `[0, 1, 2, 3, 4, 5, 6]` durch `0` zu ersetzen."
   ]
  }
 ],
 "metadata": {
  "kernelspec": {
   "display_name": "Python 3 (ipykernel)",
   "language": "python",
   "name": "python3"
  },
  "language_info": {
   "codemirror_mode": {
    "name": "ipython",
    "version": 3
   },
   "file_extension": ".py",
   "mimetype": "text/x-python",
   "name": "python",
   "nbconvert_exporter": "python",
   "pygments_lexer": "ipython3",
   "version": "3.9.10"
  }
 },
 "nbformat": 4,
 "nbformat_minor": 5
}
