{
 "cells": [
  {
   "cell_type": "markdown",
   "id": "40dd8772-0589-4bfd-b6e4-e1fe690c7170",
   "metadata": {},
   "source": [
    "### Arbeiten mit Textfiles\n",
    "Ein Textfile enth&auml;lt Zeilen (Strings).  \n",
    "Der Newline-Charater  `\\n` markiert dabei das Zeilenende.\n",
    "\n",
    "- werden Zeilen in ein Textfile geschreiben, sollte jede Zeile mit `\\n` enden.\n",
    "- wird eine Zeile gelesen, so ist das letzte Zeichen ein `\\n` (ausser ev. bei der letzten Zeile)\n",
    "\n",
    "\n",
    "Python stellt folgendes Konstrukt zur Bearbeitung von Files zur Verf&uuml;gung:\n",
    "\n",
    "```python\n",
    "with open(<filename>, mode = <mode>) as f:\n",
    "    <Code>\n",
    "```\n",
    "**Erl&auml;uterungen**:  `with  open(<filename>, mode = <mode>) as f:`  \n",
    "&ouml;ffnet/erstellt ein File und kreiert ein Fileobjekt, `f`.  \n",
    "**Nach Abarbeitung** des Blocks `<Code>` wird das **File wieder geschlossen**.\n",
    "    \n",
    "- `<mode>`: **'w'**, **'r'** oder **'a'** (write, read, append) i.e. ((&uuml;ber)schreiben, lesen, anh&auml;ngen)\n",
    "  \n",
    "Das Fileobjekt `f` hat u.a. folgende Methoden:\n",
    "  - `f.read() -> String` alles lesen,\n",
    "  - `f.readlines() -> Liste von Strings` alle Zeilen lesen\n",
    "  - `f.write(text)` text (String) anh&auml;ngen\n",
    "  - `f.writelines(lines)` lines (Liste von Strings) anh&auml;ngen\n",
    " \n",
    "Wurde ein File zum Lesen ge&ouml;ffnet, so kann man mit\n",
    "\n",
    "```python\n",
    "for line in f:\n",
    "    <code>\n",
    "```\n",
    "\n",
    "&uuml;ber die Zeilen (Strings) des Fileobjekts `f` iterieren"
   ]
  },
  {
   "cell_type": "markdown",
   "id": "15471e51-f178-47e0-a9da-fa9c2b81bebf",
   "metadata": {},
   "source": [
    "***\n",
    "**Bereitstellung von Text und Zeilen zum Experimentieren mit Files**\n",
    "***"
   ]
  },
  {
   "cell_type": "code",
   "execution_count": null,
   "id": "d9561669-eed2-4eb1-8b63-cc6640c98374",
   "metadata": {},
   "outputs": [],
   "source": [
    "TEXT = '''\\\n",
    "Text für ein Textfile\n",
    "---------------------\n",
    "1. Zeile\n",
    "2. Zeile\n",
    "'''\n",
    "MORE_TEXT = '''\\\n",
    "3. Zeile\n",
    "4. Zeile\n",
    "'''\n",
    "LINES = [line + '\\n' for line in TEXT.split('\\n') if line]\n",
    "MORE_LINES = [line + '\\n' for line in MORE_TEXT.split('\\n') if line]"
   ]
  },
  {
   "cell_type": "code",
   "execution_count": null,
   "id": "4c855d1f-9ac8-4e89-88ee-e686a17fcf53",
   "metadata": {},
   "outputs": [],
   "source": [
    "TEXT"
   ]
  },
  {
   "cell_type": "code",
   "execution_count": null,
   "id": "01f99824-2d91-4203-b0fb-3e078482613c",
   "metadata": {},
   "outputs": [],
   "source": [
    "LINES"
   ]
  },
  {
   "cell_type": "markdown",
   "id": "beb248b4-473d-4421-bac3-27997d566816",
   "metadata": {
    "jupyter": {
     "outputs_hidden": true
    },
    "tags": []
   },
   "source": [
    "***\n",
    "**Lesen/Schreiben**: alles auf einmal \n",
    "***"
   ]
  },
  {
   "cell_type": "code",
   "execution_count": null,
   "id": "76923dd6-fec5-41ef-a2df-5ad8b57a5539",
   "metadata": {},
   "outputs": [],
   "source": [
    "#File erstellen/ueberschreiben\n",
    "with  open('test.txt', mode = 'w') as f:\n",
    "    f.write(TEXT)  "
   ]
  },
  {
   "cell_type": "code",
   "execution_count": null,
   "id": "af4e3c87-331c-40ad-9c9f-6ec3e94d5990",
   "metadata": {},
   "outputs": [],
   "source": [
    "# an File anhaengen\n",
    "with  open('test.txt', mode = 'a') as f:\n",
    "    f.write(MORE_TEXT)  "
   ]
  },
  {
   "cell_type": "code",
   "execution_count": null,
   "id": "1772e578-0526-4b53-8dfc-f7ad9e6dc1c3",
   "metadata": {},
   "outputs": [],
   "source": [
    "# File lesen\n",
    "with  open('test.txt', mode = 'r') as f:\n",
    "    text = f.read()\n",
    "print(text)   "
   ]
  },
  {
   "cell_type": "markdown",
   "id": "eadb64aa-9033-4708-9f48-678fe0e63567",
   "metadata": {},
   "source": [
    "***\n",
    "**Zeilenweise Lesen/Schreiben**: \n",
    "***"
   ]
  },
  {
   "cell_type": "code",
   "execution_count": null,
   "id": "ea62b600-cb51-43fa-8251-da31a3f902b0",
   "metadata": {},
   "outputs": [],
   "source": [
    "# file test.txt wird ueberschrieben\n",
    "with  open('test.txt', mode = 'w') as f:\n",
    "    f.writelines(LINES)"
   ]
  },
  {
   "cell_type": "code",
   "execution_count": null,
   "id": "e41d8715-522a-4c91-900d-116094390901",
   "metadata": {},
   "outputs": [],
   "source": [
    "with  open('test.txt', mode = 'r') as f:\n",
    "    lines = f.readlines()\n",
    "lines    "
   ]
  },
  {
   "cell_type": "markdown",
   "id": "a4145cb7-c3d3-4941-98c7-613c02eb47fa",
   "metadata": {},
   "source": [
    "***\n",
    "**&uuml;ber Zeilen des Files iterieren**: \n",
    "***"
   ]
  },
  {
   "cell_type": "code",
   "execution_count": null,
   "id": "3d89b385-c5af-4bae-a8ef-5f80da0f04d0",
   "metadata": {},
   "outputs": [],
   "source": [
    "with  open('test.txt', mode = 'r') as f:\n",
    "    lines = []\n",
    "    for line in f:\n",
    "        lines.append(line)\n",
    "lines  "
   ]
  },
  {
   "cell_type": "markdown",
   "id": "5fd5b9a2-71d3-4129-8977-b82dee9469b8",
   "metadata": {},
   "source": [
    "***\n",
    "**File in Zelle &ouml;ffnen**\n",
    "***"
   ]
  },
  {
   "cell_type": "code",
   "execution_count": null,
   "id": "5539e5a2-06ed-4431-b9e8-32c21ec6d48a",
   "metadata": {},
   "outputs": [],
   "source": [
    "%load test.txt"
   ]
  },
  {
   "cell_type": "markdown",
   "id": "17755cde-e3af-44f5-a0a4-55b80038f294",
   "metadata": {},
   "source": [
    "### Aufgabe\n",
    "Die n&auml;chste Zelle schreibt die Abschlusstabelle der Fussball Super League 2021/2022 in\n",
    "das File 'superleague21_22.csv'.  \n",
    "Schreibe Code, welcher dieses File einliest und die Tabelle mit Hilfe unserer Funktion \n",
    "table2str ausgibt.  \n",
    "**Hinweise**:\n",
    "- Wende auf jede Zeile die Methode `str.rstrip()` an. \n",
    "  Diese Methode gibt einen String zur&uuml;ck, bei dem von rechts her alle \n",
    "  **white-space-character** (new-line, space, tab) entfernt sind.\n",
    "- Verwende dann die Methode `str.split(sep)`. Diese trennt den String beim Zeichen `sep` und gibt das Resultat als Liste zur&uuml;ck (siehe unten).  "
   ]
  },
  {
   "cell_type": "code",
   "execution_count": null,
   "id": "c88435c6-263a-4b20-b849-7cee1e35085b",
   "metadata": {},
   "outputs": [],
   "source": [
    "'a,b  \\n'.rstrip(), 'a, b, c'.split(',')"
   ]
  },
  {
   "cell_type": "code",
   "execution_count": null,
   "id": "ed7402fd-9642-41e6-b351-6e117418ad10",
   "metadata": {},
   "outputs": [],
   "source": [
    "%%file superleague21_22.csv\n",
    "# Abschlusstabelle der schweizer Raiffeisen Super League 2021/2022\n",
    "Mannschaft,Sp.,S,U,V,Tore,Diff.,Pkt\n",
    "FC Zürich,36,23,7,6,78:46,32,76\n",
    "FC Basel,36,15,17,4,70:41,29,62\n",
    "Y.B. Bern,36,16,12,8,80:50,30,60\n",
    "Lugano,36,16,6,14,50:54,-4,54\n",
    "St. Gallen,36,14,8,14,68:63,5,50\n",
    "Genf,36,12,8,16,50:66,16,44\n",
    "Sion,36,11,8,17,46:67,-21,41\n",
    "Gr. Zürich,36,9,13,14,54:58,-4,40\n",
    "Luzern,36,9,13,14,52:64,-12,40\n",
    "Lausanne,36,4,10,22,37:76,-39,22\n"
   ]
  },
  {
   "cell_type": "code",
   "execution_count": null,
   "id": "4a275d9e-e881-4580-a9bf-4926f1832cdd",
   "metadata": {},
   "outputs": [],
   "source": [
    "# damit toolbox importiert werden kann\n",
    "# import sys\n",
    "# if '/home/jovyan/work/NIA22Prog/src' not in sys.path:\n",
    "#     sys.path.insert(0, '/home/jovyan/work/NIA22Prog/src') "
   ]
  },
  {
   "cell_type": "code",
   "execution_count": null,
   "id": "550ba5a8-da7e-46e4-a1cf-1972cd9a902f",
   "metadata": {},
   "outputs": [],
   "source": [
    "from toolbox import table2str\n",
    "help(table2str)\n",
    "# dein Code"
   ]
  },
  {
   "cell_type": "code",
   "execution_count": null,
   "id": "323abb31-6e03-48ce-9a23-cbceeedfa0bc",
   "metadata": {},
   "outputs": [],
   "source": []
  }
 ],
 "metadata": {
  "kernelspec": {
   "display_name": "Python 3 (ipykernel)",
   "language": "python",
   "name": "python3"
  },
  "language_info": {
   "codemirror_mode": {
    "name": "ipython",
    "version": 3
   },
   "file_extension": ".py",
   "mimetype": "text/x-python",
   "name": "python",
   "nbconvert_exporter": "python",
   "pygments_lexer": "ipython3",
   "version": "3.9.10"
  }
 },
 "nbformat": 4,
 "nbformat_minor": 5
}
