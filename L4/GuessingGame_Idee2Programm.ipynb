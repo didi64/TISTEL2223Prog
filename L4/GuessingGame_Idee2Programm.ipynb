{
 "cells": [
  {
   "cell_type": "markdown",
   "id": "6cd8db94-0f3c-4d1c-8916-b300115d7158",
   "metadata": {},
   "source": [
    "### Ein Ratespiel programmieren\n",
    "Wir wollen ein Programm schreiben, dass uns eine Zufallszahl zwischen 1 und 10 erraten l&auml;sst.\n",
    "Nach jedem Versuch wird mitgeteilt, ob wir zu gross oder zu klein geraten haben.  \n",
    "\n",
    "Nachstehende Zelle f&uuml;hrt das Programm aus:\n",
    "- `import guessing_game` sucht nach dem File `guessing_game.py` und f&uuml;hrt dieses aus. Der volle Filename ist dann in `guessing_game.__file__` gespeichert.  \n",
    "  **Gesucht** wird in den Verzeichnissen in der Liste **`sys.path`**. Verschiedene Konfigurationsdateien erstellen diese Liste, die aber auch direkt modifiziert werden kann.\n",
    "\n",
    "\n",
    "- `guessing_game.play_game()` ruft die in `guessing_game.py` definierte Funktion `play_game()` auf.  \n",
    "\n",
    "Python Files kann man auch direkt mit \n",
    "```\n",
    "%run <.py-File>\n",
    "```  \n",
    "\n",
    "starten, z.B.\n",
    "```\n",
    "%run test.py\n",
    "``` \n",
    "falls `test.py` existiert und im gleichen Vewrzeichnis liegt wie dieses Notebook.  \n",
    "Alternativ kann mit\n",
    "\n",
    "```%run $file_name```  \n",
    "\n",
    "das in der Variable `file_name` gespeicherte .py-File ausgef&uuml;hrt werden.  \n"
   ]
  },
  {
   "cell_type": "code",
   "execution_count": null,
   "id": "238b746d-31b2-48a8-ba94-b50b34bf6fa1",
   "metadata": {},
   "outputs": [],
   "source": [
    "import guessing_game\n",
    "# guessing_game.play_game()"
   ]
  },
  {
   "cell_type": "code",
   "execution_count": null,
   "id": "9df401e4-dfca-42aa-a4f1-b06f1f7b91aa",
   "metadata": {},
   "outputs": [],
   "source": [
    "# Pfad und Filename von guessing_game.py\n",
    "guessing_game.__file__"
   ]
  },
  {
   "cell_type": "code",
   "execution_count": null,
   "id": "b88b53a3-9113-4138-ae77-25647a55203e",
   "metadata": {},
   "outputs": [],
   "source": [
    "# guessing_game.py ausfuehren\n",
    "# %run $guessing_game.__file__"
   ]
  },
  {
   "cell_type": "code",
   "execution_count": null,
   "id": "361d1cd8-9470-48f4-be0e-1009e73f3e0a",
   "metadata": {},
   "outputs": [],
   "source": [
    "# guessing_game in dieser Zelle anzeigen\n",
    "# %load $guessing_game.__file__"
   ]
  },
  {
   "cell_type": "markdown",
   "id": "2f83b117-4844-4b55-9dde-b234665db73b",
   "metadata": {},
   "source": [
    "### Von der Idee zum Programm\n",
    "- Was genau soll das Programm tun?  \n",
    "  Spezifikation erstellen\n",
    "  \n",
    "- Wie kann man das tun?  \n",
    "  - Aufgabe in kleine, einfache Teilaufgaben zerlegen\n",
    "  - Experimentelle Phase:  \n",
    "    finde L&ouml;sungen f&uuml;r einzelne kleine Teilprobleme  \n",
    "       \n",
    "  - ev. Prototyp erstellen (minimalistische L&ouml;sung, \n",
    "  nicht essentialle Features weglassen, z.B. Zufallszahl ist immer 4, Versuche noch nicht ausgeben)    \n",
    "\n",
    "  - Pseudo Code\n",
    "  - Python \n",
    "  - Programm testen und allenfalls modifizieren"
   ]
  },
  {
   "cell_type": "markdown",
   "id": "1dbd2b01-717c-417e-80f3-1c6a4562e3a4",
   "metadata": {},
   "source": [
    "**Spezifikation**:\n",
    "\n",
    "- Eine Zufallszahl zwischen 1 und 10 wird gew&auml;hlt.\n",
    "- Der Benutzer wird solange zur Eingabe einer Zahl aufgefordert, bis er die Zahl erraten hat.  \n",
    "  Es wird ausgegeben, ob die Zahl zu gross oder zu klein ist.\n",
    "- Wurde die Zahl erraten, werden Anzahl Versuche ausgebegen.  \n",
    "  In tabellarischer Form werden alle Versuche und ihre Bewertung (zu gross, zu klein, korrekt) ausgegeben.\n"
   ]
  },
  {
   "cell_type": "markdown",
   "id": "c2443193-6767-49b5-8c1b-91039b9a3df5",
   "metadata": {},
   "source": [
    "**Lose Teilprobleme**:  \n",
    "- Zufallszahl erzeugen  \n",
    "- Interger als Input bekommen  \n",
    "- Vermutung evaluieren: richtig, zu klein, zu gross \n",
    "- Versuche in geeigneter Form abspeichern  \n",
    "- Versuche formatiert ausgeben  \n",
    "- solange nach Zahl fragen, bis Zahl gleich Zufallszahl\n"
   ]
  },
  {
   "cell_type": "markdown",
   "id": "7bc4e304-7c95-4a23-8e97-7990e6b1ce4c",
   "metadata": {},
   "source": [
    "**Pseudocode**:\n",
    "```python\n",
    "nbr = zufallszahl zw. 1 und 5\n",
    "history = []\n",
    "\n",
    "wiederhole bis Zahl erraten:\n",
    "    n = eingegebene_Zahl\n",
    "    comment = evaluate(n) # [ok, zu klein, zu gross]\n",
    "    history.append((n, comment))\n",
    "    \n",
    "show_history(history) # history tabellarisch ausgeben\n",
    "```\n"
   ]
  },
  {
   "cell_type": "markdown",
   "id": "89841157-a70d-4b4c-9c60-f597290b22d7",
   "metadata": {},
   "source": [
    "***\n",
    "**Code eines Prototypes**\n",
    "***"
   ]
  },
  {
   "cell_type": "code",
   "execution_count": null,
   "id": "2e45a183-d322-4797-9e15-cf5f6e3123b2",
   "metadata": {},
   "outputs": [],
   "source": [
    "from toolbox import sign\n",
    "\n",
    "# obere und untere Schranke der zu erratenden Zahl\n",
    "LOWER = 1\n",
    "UPPER = 5\n",
    "\n",
    "# zu erratende Zahl, spaeter dann Zufallszahl\n",
    "NBR = 4\n",
    "\n",
    "# feedback\n",
    "feedback = {-1: 'too small;',\n",
    "            0:  'correct',\n",
    "            1:  'too big'\n",
    "           }\n",
    "\n",
    "# Frage nach Zahl n, bis guess = int(n) gleich NBR\n",
    "guess = None\n",
    "while guess != NBR:\n",
    "    n = input('Zahl zwischen {a} und {b}'.format(a=LOWER, b=UPPER))\n",
    "    guess = int(n)\n",
    "    key = sign(guess - NBR)\n",
    "    print(feedback[key])"
   ]
  }
 ],
 "metadata": {
  "kernelspec": {
   "display_name": "Python 3 (ipykernel)",
   "language": "python",
   "name": "python3"
  },
  "language_info": {
   "codemirror_mode": {
    "name": "ipython",
    "version": 3
   },
   "file_extension": ".py",
   "mimetype": "text/x-python",
   "name": "python",
   "nbconvert_exporter": "python",
   "pygments_lexer": "ipython3",
   "version": "3.9.10"
  }
 },
 "nbformat": 4,
 "nbformat_minor": 5
}
