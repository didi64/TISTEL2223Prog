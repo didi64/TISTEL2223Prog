{
 "cells": [
  {
   "cell_type": "markdown",
   "id": "6cd8db94-0f3c-4d1c-8916-b300115d7158",
   "metadata": {},
   "source": [
    "### Ein Ratespiel programmieren\n",
    "Wir wollen ein Programm schreiben, dass uns eine Zufallszahl zwischen 0 und 10 erraten l&auml;sst.\n",
    "Nach jedem Versuch wird mitgeteilt, ob wir zu gross oder zu klein geraten haben.  \n",
    "Nachstehende Zelle f&uuml;hrt das Programm aus."
   ]
  },
  {
   "cell_type": "code",
   "execution_count": 1,
   "id": "f5854f15-317e-4187-88d6-d70e2cd3a4d9",
   "metadata": {},
   "outputs": [
    {
     "name": "stdin",
     "output_type": "stream",
     "text": [
      "Zahl zwischen 0 und 10?  5\n"
     ]
    },
    {
     "name": "stdout",
     "output_type": "stream",
     "text": [
      "too big\n"
     ]
    },
    {
     "name": "stdin",
     "output_type": "stream",
     "text": [
      "Zahl zwischen 0 und 10?  3\n"
     ]
    },
    {
     "name": "stdout",
     "output_type": "stream",
     "text": [
      "too small\n"
     ]
    },
    {
     "name": "stdin",
     "output_type": "stream",
     "text": [
      "Zahl zwischen 0 und 10?  4\n"
     ]
    },
    {
     "name": "stdout",
     "output_type": "stream",
     "text": [
      "correct\n",
      "Congrats! You guessed the number 4 in 3 tries.\n",
      "\n",
      " │ Nr. │ guess │ comment   │ \n",
      " │ ━━━ │ ━━━━━ │ ━━━━━━━━━ │ \n",
      " │ 0   │ 5     │ too big   │ \n",
      " │ 1   │ 3     │ too small │ \n",
      " │ 2   │ 4     │ correct   │ \n"
     ]
    }
   ],
   "source": [
    "import guessing_game\n",
    "guessing_game.play_game()"
   ]
  },
  {
   "cell_type": "markdown",
   "id": "2f83b117-4844-4b55-9dde-b234665db73b",
   "metadata": {},
   "source": [
    "### Von der Idee zum Programm\n",
    "- Was genau soll das Programm tun?  \n",
    "  Spezifikation erstellen\n",
    "  \n",
    "- Wie kann man das tun?  \n",
    "  - Aufgabe in kleine, einfache Teilaufgaben zerlegen\n",
    "  - Experimentelle Phase:  \n",
    "    finde L&ouml;sungen f&uuml;r einzelne kleine Teilprobleme  \n",
    "       \n",
    "  - ev. Prototyp erstellen (minimalistische L&ouml;sung, \n",
    "  nicht essentialle Features weglassen, z.B. Zufallszahl ist immer 5, Versuche noch nicht ausgeben)    \n",
    "\n",
    "  - Pseudo Code\n",
    "  - Python \n",
    "  - Programm testen und allenfalls modifizieren"
   ]
  },
  {
   "cell_type": "markdown",
   "id": "1dbd2b01-717c-417e-80f3-1c6a4562e3a4",
   "metadata": {},
   "source": [
    "**Spezifikation**:\n",
    "\n",
    "- Eine Zufallszahl zwischen 1 und 10 wird gew&auml;hlt.\n",
    "- Der Benutzer wird solange zur Eingabe einer Zahl aufgefordert, bis er die Zahl erraten hat.  \n",
    "  Es wird ausgegeben, ob die Zahl zu gross oder zu klein ist.\n",
    "- Wurde die Zahl erraten, werden Anzahl Versuche ausgebegen.  \n",
    "  In tabellarischer Form werden alle Versuche und ihre Bewertung (zu gross, zu klein, korrekt) ausgegeben.\n"
   ]
  },
  {
   "cell_type": "markdown",
   "id": "c2443193-6767-49b5-8c1b-91039b9a3df5",
   "metadata": {},
   "source": [
    "**Lose Teilprobleme**:  \n",
    "- Zufallszahl erzeugen  \n",
    "- Interger als Input bekommen  \n",
    "- Vermutung evaluieren: richtig, zu klein, zu gross \n",
    "- Versuche in geeigneter Form abspeichern  \n",
    "- Versuche formatiert ausgeben  \n",
    "- solange nach Zahl fragen, bis Zahl gleich Zufallszahl\n"
   ]
  },
  {
   "cell_type": "code",
   "execution_count": null,
   "id": "1c7a0146-7368-49b6-ab1a-c652f08f78b8",
   "metadata": {},
   "outputs": [],
   "source": []
  },
  {
   "cell_type": "markdown",
   "id": "7bc4e304-7c95-4a23-8e97-7990e6b1ce4c",
   "metadata": {},
   "source": [
    "**Pseudocode**:\n",
    "```python\n",
    "nbr = zufallszahl zw. 1 und 5\n",
    "history = []\n",
    "\n",
    "wiederhole bis Zahl erraten:\n",
    "    n = eingegebene_Zahl\n",
    "    comment = evaluate(n) # [ok, zu klein, zu gross]\n",
    "    history.append((n, comment))\n",
    "    \n",
    "show_history(history) # history tabellarisch ausgeben\n",
    "```\n"
   ]
  },
  {
   "cell_type": "markdown",
   "id": "89841157-a70d-4b4c-9c60-f597290b22d7",
   "metadata": {},
   "source": [
    "***\n",
    "**Code eines Prototypes**\n",
    "***"
   ]
  },
  {
   "cell_type": "code",
   "execution_count": null,
   "id": "2e45a183-d322-4797-9e15-cf5f6e3123b2",
   "metadata": {},
   "outputs": [],
   "source": [
    "# obere und untere Schranke der zu erratenden Zahl\n",
    "LOWER = 1\n",
    "UPPER = 5\n",
    "\n",
    "# zu erratende Zahl, spaeter dann Zufallszahl\n",
    "nbr = 4\n",
    "\n",
    "n = None\n",
    "\n",
    "# Frage nach Zahl n, bis n gleich nbr\n",
    "while n != nbr:\n",
    "    n = input('Zahl zwischen {a} und {b}'.format(a=LOWER, b=UPPER))\n",
    "    n = int(n)\n",
    "    \n",
    "    if  n < nbr:\n",
    "        print('too small')\n",
    "    elif n == nbr:\n",
    "        print('correct')\n",
    "    else:    \n",
    "        print('too big')    "
   ]
  }
 ],
 "metadata": {
  "kernelspec": {
   "display_name": "Python 3 (ipykernel)",
   "language": "python",
   "name": "python3"
  },
  "language_info": {
   "codemirror_mode": {
    "name": "ipython",
    "version": 3
   },
   "file_extension": ".py",
   "mimetype": "text/x-python",
   "name": "python",
   "nbconvert_exporter": "python",
   "pygments_lexer": "ipython3",
   "version": "3.9.10"
  }
 },
 "nbformat": 4,
 "nbformat_minor": 5
}
