{
 "cells": [
  {
   "cell_type": "markdown",
   "id": "5f0a397e-4d39-42ec-8e43-da207ba20adb",
   "metadata": {},
   "source": [
    "### Hin und her zwischen Strings und Listen\n",
    "- Die Methode `str.split(self, sep)` spaltet den String `self` an den durch den String `sep` markierten stellen.  \n",
    "  Die einzelnen Teile werden als Liste zur&uuml;ckgegeben.\n",
    "  `str.split()` trennt bei `whitespace` (Leerzeichen, Tabs, Zeilenumbr&uuml;chen,...)\n",
    "- Die Methode `str.join(self, words)` f&uuml;gt eine Liste `words` von Strings wieder zu einem String zusammen. Die einzelnen Strings werden durch den String `self` voneinander getrennt. \n",
    " - Die Methode `str.strip(self)` entfernt allen `whitespace` von Anfang und Ende des Strings `self`.\n",
    " \n",
    "**Bemerkung**:  \n",
    "`str.join(', ', ['Foo', 'Bar'])` ist &auml;quivalent zu  \n",
    "`', '.join(['Foo', 'Bar'])`"
   ]
  },
  {
   "cell_type": "markdown",
   "id": "d9b18308-af47-45a4-9cef-da1785bf939b",
   "metadata": {},
   "source": [
    "***\n",
    "Beispiele\n",
    "***"
   ]
  },
  {
   "cell_type": "code",
   "execution_count": null,
   "id": "c2dac7f9-73f2-4fa1-8739-b83ff365956e",
   "metadata": {},
   "outputs": [],
   "source": [
    "methods = ['split', 'join', 'strip']\n",
    "results = [str.split('eins zwei  drei'),\n",
    "           str.join(', ',['foo', 'bar']),\n",
    "           str.strip('   Foo\\n'),\n",
    "          ]\n",
    "\n",
    "for method, res in zip(methods, results):\n",
    "    print(method, res, sep = ': ')"
   ]
  },
  {
   "cell_type": "code",
   "execution_count": null,
   "id": "24405f0a-efb9-4c35-a8eb-1cf7be0327c6",
   "metadata": {},
   "outputs": [],
   "source": [
    "results = ['eins zwei  drei'.split(),\n",
    "           ', '.join(['foo', 'bar']),\n",
    "           '   Foo\\n'.strip(),\n",
    "           ]\n",
    "\n",
    "for method, res in zip(methods, results):\n",
    "    print(method, res, sep = ': ')"
   ]
  },
  {
   "cell_type": "markdown",
   "id": "380c705d-aa44-48cb-9121-1e8aeee4663e",
   "metadata": {},
   "source": [
    "***\n",
    "Entfernen von `whitespace`\n",
    "***"
   ]
  },
  {
   "cell_type": "code",
   "execution_count": null,
   "id": "e9c6ace3-f62a-4a82-961b-3c9e75b4295a",
   "metadata": {},
   "outputs": [],
   "source": [
    "words = 'foo, bar , baz,  BAR\\n'\n",
    "words.split(',') "
   ]
  },
  {
   "cell_type": "code",
   "execution_count": null,
   "id": "d17c946d-1c62-4b4f-ade9-f210b3d815ae",
   "metadata": {},
   "outputs": [],
   "source": [
    "words = 'foo, bar, baz,  BAR'\n",
    "word_list = words.split(',')\n",
    "\n",
    "# ersetze word in der Liste words durch word.strip()\n",
    "for i, word in enumerate(word_list):\n",
    "    word_list[i] = word.strip()\n",
    "    \n",
    "word_list    "
   ]
  },
  {
   "cell_type": "markdown",
   "id": "45eeb576-dc5a-4f65-a8c7-8c1f35042221",
   "metadata": {},
   "source": [
    "***\n",
    "Liste zu einem String zusammenf&uuml;gen\n",
    "***"
   ]
  },
  {
   "cell_type": "code",
   "execution_count": null,
   "id": "05a4d822-8857-4fa1-8819-8aad1f5cd711",
   "metadata": {},
   "outputs": [],
   "source": [
    "' | '.join(word_list)"
   ]
  },
  {
   "cell_type": "markdown",
   "id": "c76a3f07-692e-49d4-b0bb-e7982342d654",
   "metadata": {},
   "source": [
    "***\n",
    "Um den Separator auch am Angang und Ende hinzuzuf&uuml;gen, kann man z.B.\n",
    "die Liste am Anfang  und Ende um einen leeren String `''` erweitern.\n",
    "***"
   ]
  },
  {
   "cell_type": "code",
   "execution_count": null,
   "id": "968cedbf-e152-405f-a091-013e46997923",
   "metadata": {},
   "outputs": [],
   "source": [
    "' | '.join([''] + word_list + [''])"
   ]
  },
  {
   "cell_type": "markdown",
   "id": "704ada76-a805-4455-bb82-63d884fb63e4",
   "metadata": {},
   "source": [
    "### Aufgaben\n",
    "\n",
    "- Fabriziere aus\n",
    "```python\n",
    "data_rows = [('Anna',  'Meier', 'Anna.Meier@foo.ch'), \n",
    "              ('Hans', 'Mustermann', 'Hans.Mustermann@foo.ch'),\n",
    "        ]\n",
    "```\n",
    "\n",
    "einen String `output`, so dass `print(output)` Folgendes ausgibt:\n",
    "\n",
    "```\n",
    "Anna, Meier, Anna.Meier@foo.ch\n",
    "Hans, Mustermann, Hans.Mustermann@foo.ch\n",
    "```\n",
    "\n",
    "- Benutze die Funktion `pad_words` (siehe n&auml;chste Zelle) um die Tabelle\n",
    "\n",
    "```python\n",
    "header    = ('First Name', 'Last Name', 'Email')\n",
    "data_rows =  [('Anna',  'Meier', 'Anna.Meier@foo.ch'), \n",
    "              ('Hans', 'Mustermann', 'Hans.Mustermann@foo.ch'),\n",
    "             ]\n",
    "```\n",
    "\n",
    "  in der Form \n",
    "  \n",
    "```  \n",
    " | First Name      | Last Name       | Email                     | \n",
    " | Anna            | Meier           | Anna.Meier@foo.ch         | \n",
    " | Hans            | Mustermann      | Hans.Mustermann@foo.ch    | \n",
    "```\n",
    "\n",
    "auszugeben.\n",
    " \n",
    "\n",
    "\n"
   ]
  },
  {
   "cell_type": "code",
   "execution_count": null,
   "id": "5c4c6fa6-3ce2-49cb-8a24-19db6fdeab0f",
   "metadata": {},
   "outputs": [],
   "source": [
    "def pad_words(words, widths):\n",
    "    res = []\n",
    "    for word, width in zip(words, widths):\n",
    "        padded_word = word.ljust(width)\n",
    "        res.append(padded_word)\n",
    "    return res"
   ]
  },
  {
   "cell_type": "code",
   "execution_count": null,
   "id": "2198613a-96d0-4a97-9158-225ed4cc75e7",
   "metadata": {},
   "outputs": [],
   "source": []
  }
 ],
 "metadata": {
  "kernelspec": {
   "display_name": "Python 3 (ipykernel)",
   "language": "python",
   "name": "python3"
  },
  "language_info": {
   "codemirror_mode": {
    "name": "ipython",
    "version": 3
   },
   "file_extension": ".py",
   "mimetype": "text/x-python",
   "name": "python",
   "nbconvert_exporter": "python",
   "pygments_lexer": "ipython3",
   "version": "3.9.10"
  }
 },
 "nbformat": 4,
 "nbformat_minor": 5
}
