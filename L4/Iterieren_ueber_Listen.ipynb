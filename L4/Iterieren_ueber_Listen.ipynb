{
 "cells": [
  {
   "cell_type": "markdown",
   "id": "2713f052-8b02-4423-a8c7-615f2a80db14",
   "metadata": {},
   "source": [
    "# Iterieren &uuml;ber Listen\n",
    "H&auml;ufige Verwendungsweisen:\n",
    "- alle Elemente durchlaufen\n",
    "- alle Paare (Index, Element) durchlaufen\n",
    "- &uuml;ber mehrere Listen simultan iterieren (Reissverschluss)"
   ]
  },
  {
   "cell_type": "code",
   "execution_count": null,
   "id": "0aad3083-e568-40e2-b47e-cb8a4eee4fc2",
   "metadata": {},
   "outputs": [],
   "source": [
    "fruits = ['apple', 'banana', 'cherry', 'apple', 'cherry']"
   ]
  },
  {
   "cell_type": "markdown",
   "id": "3065abff-ac94-4634-8240-9f0e6d101575",
   "metadata": {},
   "source": [
    "***\n",
    "In vielen Programmiersprachen iteriert man so durch diese Liste:\n",
    "***"
   ]
  },
  {
   "cell_type": "code",
   "execution_count": null,
   "id": "901a8921-2ba9-43b7-94d7-d8e380134e24",
   "metadata": {},
   "outputs": [],
   "source": [
    "n = len(fruits) # Laenge der Liste\n",
    "for i in range(n):\n",
    "    print(fruits[i], end=', ')"
   ]
  },
  {
   "cell_type": "markdown",
   "id": "423e296e-8056-45e1-ae67-80622c788301",
   "metadata": {},
   "source": [
    "***\n",
    "In **Python** macht man das **besser** so:\n",
    "***"
   ]
  },
  {
   "cell_type": "code",
   "execution_count": null,
   "id": "eb89f6be-1c9e-49ce-b4dc-74b69c778e42",
   "metadata": {},
   "outputs": [],
   "source": [
    "for fruit in fruits:\n",
    "    print(fruit, end=', ')"
   ]
  },
  {
   "cell_type": "markdown",
   "id": "a6b8a362-d0a9-4bc7-b9b5-5abca844900c",
   "metadata": {},
   "source": [
    "***\n",
    "Oft braucht man auch den Index der Elemente.    \n",
    "In vielen Sprachen macht man das so:\n",
    "***"
   ]
  },
  {
   "cell_type": "code",
   "execution_count": null,
   "id": "8483aeb9-a970-4fc3-8bbb-3554e18ba4f5",
   "metadata": {},
   "outputs": [],
   "source": [
    "n = len(fruits)\n",
    "for i in range(n):\n",
    "    print(i, '--->', fruits[i])"
   ]
  },
  {
   "cell_type": "markdown",
   "id": "be00cf96-103d-4b22-992f-a741594f7142",
   "metadata": {},
   "source": [
    "***\n",
    "In **Python** macht man das **besser** so:\n",
    "***"
   ]
  },
  {
   "cell_type": "code",
   "execution_count": null,
   "id": "e6e42fa5-e727-4184-8b06-b4656d75d912",
   "metadata": {},
   "outputs": [],
   "source": [
    "for i, fruit in enumerate(fruits):\n",
    "    print(i, '--->', fruit)"
   ]
  },
  {
   "cell_type": "markdown",
   "id": "e48caafc-068c-45ef-a31f-c59d28c712a1",
   "metadata": {},
   "source": [
    "***\n",
    "Oft muss man simultan &uuml;ber mehrere Listen iterieren.  \n",
    "In vielen Sprachen macht man das so:\n",
    "***"
   ]
  },
  {
   "cell_type": "code",
   "execution_count": null,
   "id": "a6649fb6-181f-45f5-a7a5-8957da5ca848",
   "metadata": {},
   "outputs": [],
   "source": [
    "number_list = [1, 2, 3, 4]\n",
    "str_list = ['one', 'two', 'three']\n",
    "\n",
    "len1 = len(number_list)\n",
    "len2 = len(str_list)\n",
    "n = min(len1, len2)\n",
    "for i in range(n):\n",
    "    print(number_list[i], '--->', str_list[i])"
   ]
  },
  {
   "cell_type": "markdown",
   "id": "96c1069c-9ef3-4d7e-be3d-2cdcf5587a90",
   "metadata": {},
   "source": [
    "***\n",
    "In **Python** macht man das **besser** so:\n",
    "***"
   ]
  },
  {
   "cell_type": "code",
   "execution_count": null,
   "id": "4afc84e5-5100-48bc-bc7e-8f85169fa97a",
   "metadata": {},
   "outputs": [],
   "source": [
    "for zahl, wort in zip(number_list, str_list):\n",
    "    print(zahl, '--->', wort)"
   ]
  },
  {
   "cell_type": "markdown",
   "id": "f9bcdbfa-708e-408a-b059-eccfebfeeb6e",
   "metadata": {},
   "source": [
    "***\n",
    "Das geht auch f&uuml;r mehr als zwei Listen:\n",
    "***"
   ]
  },
  {
   "cell_type": "code",
   "execution_count": null,
   "id": "5406f2b2-949e-46e5-acbe-c0d5aabb6968",
   "metadata": {},
   "outputs": [],
   "source": [
    "numbers = [1, 2, 3, 4]\n",
    "words = ['one', 'two', 'three']\n",
    "words_in_caps = ['ONE', 'TWO', 'THREE'] \n",
    "\n",
    "iterable = zip(numbers, words, words_in_caps) \n",
    "for number, word, word_in_caps in iterable: \n",
    "    print(number, '--->', word, '--->', word_in_caps)"
   ]
  },
  {
   "cell_type": "markdown",
   "id": "10f26fe0-1806-4e1a-bdf8-99602b4b862f",
   "metadata": {},
   "source": [
    "### Weitere Beispiele"
   ]
  },
  {
   "cell_type": "code",
   "execution_count": null,
   "id": "6ae0f16b-5d69-4beb-a757-f608f96df50e",
   "metadata": {},
   "outputs": [],
   "source": [
    "widths = (5, 10, 8)\n",
    "row   = ('a' * 4, 'b' * 8, 'c' * 6)\n",
    "\n",
    "for text, width in zip(row, widths):\n",
    "    padded_item = text.ljust(width)\n",
    "    print(padded_item)"
   ]
  },
  {
   "cell_type": "code",
   "execution_count": null,
   "id": "fcc0c650-9dec-4872-a6fc-6978d78e50f7",
   "metadata": {},
   "outputs": [],
   "source": [
    "header = ('First Name', 'Last Name', 'Email')\n",
    "\n",
    "widths = []\n",
    "for h in header:\n",
    "    widths.append(len(h))\n",
    "\n",
    "widths"
   ]
  },
  {
   "cell_type": "code",
   "execution_count": null,
   "id": "e45665bf-72e0-4207-9d72-efe77f01e2aa",
   "metadata": {},
   "outputs": [],
   "source": [
    "rows =  [('Anna',  'Meier', 'Anna.Meier@foo.ch'), \n",
    "         ('Hans', 'Mustermann', 'Hans.Mustermann@foo.ch'),\n",
    "        ]\n",
    "\n",
    "# update widths\n",
    "for row in rows:\n",
    "    for i, item in enumerate(row):\n",
    "        widths[i] = max(widths[i], len(item))\n",
    "            \n",
    "widths  "
   ]
  },
  {
   "cell_type": "code",
   "execution_count": null,
   "id": "db8f3b82-c997-4dc4-a584-daa3cf2aef8d",
   "metadata": {},
   "outputs": [],
   "source": [
    "def pad_items(items, widths):\n",
    "    res = []\n",
    "    for col, width in zip(items, widths):\n",
    "        res.append(col.ljust(width))\n",
    "    return res\n",
    "\n",
    "for row in [header] + rows:\n",
    "    fstring = ('| {} ') * len(row) + '|'\n",
    "    args = pad_items(row, widths)\n",
    "    print(fstring.format(*args))"
   ]
  }
 ],
 "metadata": {
  "kernelspec": {
   "display_name": "Python 3 (ipykernel)",
   "language": "python",
   "name": "python3"
  },
  "language_info": {
   "codemirror_mode": {
    "name": "ipython",
    "version": 3
   },
   "file_extension": ".py",
   "mimetype": "text/x-python",
   "name": "python",
   "nbconvert_exporter": "python",
   "pygments_lexer": "ipython3",
   "version": "3.9.10"
  }
 },
 "nbformat": 4,
 "nbformat_minor": 5
}
