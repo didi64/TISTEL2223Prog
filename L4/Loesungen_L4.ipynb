{
 "cells": [
  {
   "cell_type": "markdown",
   "id": "4c8a2cce-60b6-4a48-94a6-f4ccf7f00fda",
   "metadata": {},
   "source": [
    "### L&ouml;sungen Lektion 4"
   ]
  },
  {
   "cell_type": "markdown",
   "id": "0e6b673f-cd60-40ac-8ac0-b0375199031b",
   "metadata": {},
   "source": [
    "***\n",
    "split, join und stip\n",
    "***"
   ]
  },
  {
   "cell_type": "code",
   "execution_count": null,
   "id": "40fe70ee-9697-4e4b-87cb-85b2090083c0",
   "metadata": {},
   "outputs": [],
   "source": [
    "data_rows = [('Anna',  'Meier', 'Anna.Meier@foo.ch'), \n",
    "              ('Hans', 'Mustermann', 'Hans.Mustermann@foo.ch'),\n",
    "        ]\n",
    "\n",
    "lines = []\n",
    "for row in data_rows:\n",
    "    line = ', '.join(row)\n",
    "    lines.append(line)\n",
    "    \n",
    "output = '\\n'.join(lines)\n",
    "print(output)"
   ]
  },
  {
   "cell_type": "code",
   "execution_count": null,
   "id": "4ec9dadb-9c85-4a90-974e-a113433a14e2",
   "metadata": {},
   "outputs": [],
   "source": [
    "def pad_words(words, widths):\n",
    "    res = []\n",
    "    for word, width in zip(words, widths):\n",
    "        padded_word = word.ljust(width)\n",
    "        res.append(padded_word)\n",
    "    return res"
   ]
  },
  {
   "cell_type": "code",
   "execution_count": null,
   "id": "3ba94765-0e42-4989-92d5-81ef03386001",
   "metadata": {},
   "outputs": [],
   "source": [
    "header    = ('First Name', 'Last Name', 'Email')\n",
    "data_rows =  [('Anna',  'Meier', 'Anna.Meier@foo.ch'), \n",
    "              ('Hans', 'Mustermann', 'Hans.Mustermann@foo.ch'),\n",
    "             ]\n",
    "\n",
    "widths = (15, 15, 25)\n",
    "\n",
    "for row in [header] + data_rows:\n",
    "    words = pad_words(row, widths)\n",
    "    line = ' | '.join([''] + words + [''])\n",
    "    print(line)"
   ]
  },
  {
   "cell_type": "markdown",
   "id": "98e844fa-61ee-4850-b79d-24a444d71c52",
   "metadata": {},
   "source": [
    "***\n",
    "range\n",
    "***"
   ]
  },
  {
   "cell_type": "code",
   "execution_count": null,
   "id": "4764d1b9-d968-4688-ae31-d08db868f8bf",
   "metadata": {},
   "outputs": [],
   "source": [
    "lst_even = list(range(2, 101, 2))\n",
    "lst_odd  = list(range(1, 100, 2))\n",
    "\n",
    "sum_even = sum(range(2, 101, 2))\n",
    "sum_odd  = sum(range(1, 100, 2))\n",
    "\n",
    "\n",
    "fstring = 'head: {}, tail: {}, length: {}, sum: {}'\n",
    "\n",
    "print(fstring.format(lst_even[0:3], \n",
    "                     lst_even[-3:], \n",
    "                     len(lst_even), \n",
    "                     sum_even)\n",
    "                    )\n",
    "\n",
    "print(fstring.format(lst_odd[0:3], \n",
    "                     lst_odd[-3:], \n",
    "                     len(lst_odd), \n",
    "                     sum_odd)\n",
    "                    )"
   ]
  },
  {
   "cell_type": "code",
   "execution_count": null,
   "id": "7105e480-db16-4ba0-bbd6-9fd65a9d3411",
   "metadata": {},
   "outputs": [],
   "source": [
    "print(sum(range(1, i * 2, 2)), i ** 2)"
   ]
  },
  {
   "cell_type": "markdown",
   "id": "fb20d10c-7199-4b4b-967f-d8ce2110c21b",
   "metadata": {},
   "source": [
    "***\n",
    "Slice-Notation\n",
    "***"
   ]
  },
  {
   "cell_type": "code",
   "execution_count": null,
   "id": "73a8a681-aa43-4bda-bed2-1290f3c5c578",
   "metadata": {},
   "outputs": [],
   "source": [
    "# Zeichen einfuegen\n",
    "s = 'einszwei'\n",
    "t = s[:4] + '-' + s[4:]\n",
    "print(t) "
   ]
  },
  {
   "cell_type": "code",
   "execution_count": null,
   "id": "461fbfe0-2b3c-4c7f-ac4b-076b15bb58cb",
   "metadata": {},
   "outputs": [],
   "source": [
    "# Zeichen entfernen\n",
    "s = 'eins-zwei'\n",
    "t = s[:4] +  s[5:]\n",
    "print(t) "
   ]
  },
  {
   "cell_type": "code",
   "execution_count": null,
   "id": "eb9c8540-dd16-4d84-b871-41d67de6fa60",
   "metadata": {},
   "outputs": [],
   "source": [
    "def is_palindrom(word):\n",
    "    word = word.upper()\n",
    "    return word == word[::-1]\n",
    "\n",
    "is_palindrom('Radar')"
   ]
  },
  {
   "cell_type": "code",
   "execution_count": null,
   "id": "8b9198e4-1f6d-4a93-9fb5-3807ab3c52e3",
   "metadata": {},
   "outputs": [],
   "source": [
    "lst = [0, 1, 2, 3, 4, 5, 6]\n",
    "lst[::2] = [0] * 4\n",
    "lst"
   ]
  },
  {
   "cell_type": "code",
   "execution_count": null,
   "id": "0b7d064a-947c-4a59-b4df-536baaad21f9",
   "metadata": {},
   "outputs": [],
   "source": []
  }
 ],
 "metadata": {
  "kernelspec": {
   "display_name": "Python 3 (ipykernel)",
   "language": "python",
   "name": "python3"
  },
  "language_info": {
   "codemirror_mode": {
    "name": "ipython",
    "version": 3
   },
   "file_extension": ".py",
   "mimetype": "text/x-python",
   "name": "python",
   "nbconvert_exporter": "python",
   "pygments_lexer": "ipython3",
   "version": "3.9.10"
  }
 },
 "nbformat": 4,
 "nbformat_minor": 5
}
