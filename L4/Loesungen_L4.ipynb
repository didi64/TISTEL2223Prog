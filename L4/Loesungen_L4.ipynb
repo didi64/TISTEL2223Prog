{
 "cells": [
  {
   "cell_type": "markdown",
   "id": "4c8a2cce-60b6-4a48-94a6-f4ccf7f00fda",
   "metadata": {},
   "source": [
    "### L&ouml;sungen Lektion 4"
   ]
  },
  {
   "cell_type": "markdown",
   "id": "bf88d881-34d2-4997-8429-e61bc43d2a85",
   "metadata": {},
   "source": [
    "***\n",
    "range\n",
    "***"
   ]
  },
  {
   "cell_type": "code",
   "execution_count": null,
   "id": "87b6708d-8b96-4c1f-b9f3-50d4eff3c5ef",
   "metadata": {},
   "outputs": [],
   "source": [
    "lst_even = list(range(2, 101, 2))\n",
    "lst_odd  = list(range(1, 100, 2))\n",
    "sum_even = sum(range(2, 101, 2))\n",
    "sum_odd  = sum(range(1, 100, 2))\n",
    "\n",
    "print(lst_even[0:3], lst_even[-3:], len(lst_even), sum_even, sep = ', ')\n",
    "print(lst_odd[0:3], lst_odd[-3:], len(lst_odd), sum_odd, sep = ', ')"
   ]
  },
  {
   "cell_type": "markdown",
   "id": "e314e9ed-2dbf-42d1-b42c-47835f25f0a0",
   "metadata": {},
   "source": [
    "Der Ausdruck\n",
    "```python\n",
    "[i for i in range(1000) if sum(range(1, i * 2, 2)) != i ** 2]\n",
    "```\n",
    "\n",
    "hat den Wert `[]`.\n",
    "Das sagt uns, dass f&uuml;r alle Werte von 0<= i < 1000,\n",
    "`sum(range(1, i * 2, 2)) == i ** 2` ist.\n",
    "Dabei ist `i ** 2` die i-te Quadratzahl, und `sum(range(1, i * 2, 2))` die Summe der ersten i ungeraden Zahlen"
   ]
  },
  {
   "cell_type": "code",
   "execution_count": 1,
   "id": "a77bc2d6-e9b9-4cc3-8ac3-9d4182bc7b15",
   "metadata": {},
   "outputs": [
    {
     "data": {
      "text/plain": [
       "[1, 3, 5, 7, 9]"
      ]
     },
     "execution_count": 1,
     "metadata": {},
     "output_type": "execute_result"
    }
   ],
   "source": [
    "# die ersten 5 ungeraden Zahlen\n",
    "i = 5\n",
    "list(range(1, i * 2, 2))"
   ]
  },
  {
   "cell_type": "code",
   "execution_count": 2,
   "id": "81208941-9892-4f66-aaad-f25925981aca",
   "metadata": {},
   "outputs": [
    {
     "name": "stdout",
     "output_type": "stream",
     "text": [
      "25 25\n"
     ]
    }
   ],
   "source": [
    "print(sum(range(1, i * 2, 2)), i ** 2)"
   ]
  },
  {
   "cell_type": "markdown",
   "id": "2624b403-8217-455a-b435-43ee220db1d2",
   "metadata": {},
   "source": [
    "***\n",
    "Logische Operatoren\n",
    "***"
   ]
  },
  {
   "cell_type": "markdown",
   "id": "7a3d0fb2-dbf7-474d-ac59-ff5a890ffaeb",
   "metadata": {},
   "source": [
    "Ist `bool(lst[0])` gleich `False`, so ebenfalls `bool(lst and lst[0])`,\n",
    "und Variante 2 gibt f&auml;lschlicherweise 'Liste ist leer!' aus.\n"
   ]
  },
  {
   "cell_type": "code",
   "execution_count": 12,
   "id": "9856fffe-124a-462f-ade0-fb34a8641e7a",
   "metadata": {},
   "outputs": [
    {
     "name": "stdout",
     "output_type": "stream",
     "text": [
      "0\n",
      "Liste ist leer!\n"
     ]
    }
   ],
   "source": [
    "lst = [0]\n",
    "# lst = ['']\n",
    "# lst = [None]\n",
    "# lst = [False]\n",
    "# lst = [()]\n",
    "# lst = [[]]\n",
    "\n",
    "# Variante 1\n",
    "if lst: # Liste nicht leer\n",
    "    print(lst[0])\n",
    "else:\n",
    "    print('Liste ist leer!')\n",
    "    \n",
    "# Variante 2\n",
    "print(lst and lst[0] or 'Liste ist leer!')"
   ]
  },
  {
   "cell_type": "code",
   "execution_count": null,
   "id": "e17c4318-f61f-44dd-85e2-9c0d5a1ebf4b",
   "metadata": {},
   "outputs": [],
   "source": [
    "***\n",
    "Funktionen II\n",
    "***"
   ]
  },
  {
   "cell_type": "code",
   "execution_count": 13,
   "id": "cbb8b385-9606-4ec0-8a15-ae967e1c11c4",
   "metadata": {},
   "outputs": [
    {
     "name": "stdout",
     "output_type": "stream",
     "text": [
      "Distance from A to B: 4.0\n",
      "Distance from B to C: 5.0\n",
      "Distance from C to A: 3.0\n"
     ]
    }
   ],
   "source": [
    "A = (3,3)\n",
    "B = (3,7)\n",
    "C = (6,3)\n",
    "\n",
    "def distance(x1, y1, x2, y2):\n",
    "    '''returns distance from (x1, y1) to (x2, y2)'''\n",
    "    return ((x1 - x2) ** 2 + (y1 - y2) ** 2) ** (1 / 2)\n",
    "\n",
    "msg = 'Distance from {} to {}: {}'\n",
    "print(msg.format('A', 'B', distance(*A, *B)))\n",
    "print(msg.format('B', 'C', distance(*B, *C)))\n",
    "print(msg.format('C', 'A', distance(*C, *A)))"
   ]
  },
  {
   "cell_type": "code",
   "execution_count": 14,
   "id": "8a35d009-3f38-43e8-b8fa-1384acca4d9b",
   "metadata": {},
   "outputs": [
    {
     "name": "stdout",
     "output_type": "stream",
     "text": [
      "Liebe Anna,\n",
      " \n",
      "danke fuer deine rasch Anwort.\n",
      " \n",
      "Mit freundlichen Grüssen,\n",
      "Your Name\n",
      "\n"
     ]
    }
   ],
   "source": [
    "customers = [{'name'   : 'Anna',\n",
    "              'anrede' : 'Liebe',\n",
    "              'gruss'  : 'Mit freundlichen Grüssen',\n",
    "             },\n",
    "            ]\n",
    "            \n",
    "email_template = '''\\\n",
    "{anrede} {name},\n",
    " \n",
    "{msg}\n",
    " \n",
    "{gruss},\n",
    "{absender}\n",
    "''' \n",
    "\n",
    "def compose_email(customer, msg, absender = 'Your Name'):\n",
    "    return email_template.format(msg = msg, \n",
    "                                 absender = absender, \n",
    "                                 **customer\n",
    "                                )\n",
    "\n",
    "msg = 'danke fuer deine rasch Anwort.'\n",
    "print(compose_email(customers[0], msg))  "
   ]
  },
  {
   "cell_type": "markdown",
   "id": "90e29af6-f8b1-420f-a664-e165a7f013af",
   "metadata": {},
   "source": [
    "***\n",
    "Slice-Notation\n",
    "***"
   ]
  },
  {
   "cell_type": "code",
   "execution_count": 17,
   "id": "c3c44fbb-4a81-4e58-8551-406117e2a41f",
   "metadata": {},
   "outputs": [
    {
     "name": "stdout",
     "output_type": "stream",
     "text": [
      "eins zwei\n"
     ]
    }
   ],
   "source": [
    "# Zeichen einfuegen\n",
    "s = 'einszwei'\n",
    "t = s[:4] + ' ' + s[4:]\n",
    "print(t) "
   ]
  },
  {
   "cell_type": "code",
   "execution_count": 18,
   "id": "edccd74a-96b3-4f7d-9be0-7edfe95b3c4c",
   "metadata": {},
   "outputs": [
    {
     "name": "stdout",
     "output_type": "stream",
     "text": [
      "einszwei\n"
     ]
    }
   ],
   "source": [
    "# Zeichen entfernen\n",
    "s = 'eins zwei'\n",
    "t = s[:4] +  s[5:]\n",
    "print(t) "
   ]
  },
  {
   "cell_type": "code",
   "execution_count": 20,
   "id": "06ed4cb9-6424-4a9b-bc4d-e16b62111a2a",
   "metadata": {},
   "outputs": [
    {
     "data": {
      "text/plain": [
       "True"
      ]
     },
     "execution_count": 20,
     "metadata": {},
     "output_type": "execute_result"
    }
   ],
   "source": [
    "def is_palindrom(word):\n",
    "    word = word.upper()\n",
    "    return word == word[::-1]\n",
    "\n",
    "is_palindrom('Radar')"
   ]
  },
  {
   "cell_type": "code",
   "execution_count": 21,
   "id": "4bdc5aa7-5d24-44be-aa6d-b1e5a041a7d6",
   "metadata": {},
   "outputs": [
    {
     "data": {
      "text/plain": [
       "[0, 1, 0, 3, 0, 5, 0]"
      ]
     },
     "execution_count": 21,
     "metadata": {},
     "output_type": "execute_result"
    }
   ],
   "source": [
    "lst = [0, 1, 2, 3, 4, 5, 6]\n",
    "lst[::2] = [0] * 4\n",
    "lst"
   ]
  },
  {
   "cell_type": "code",
   "execution_count": null,
   "id": "d53b3aa4-9ba8-4582-9195-7aff85fc09f0",
   "metadata": {},
   "outputs": [],
   "source": []
  }
 ],
 "metadata": {
  "kernelspec": {
   "display_name": "Python 3 (ipykernel)",
   "language": "python",
   "name": "python3"
  },
  "language_info": {
   "codemirror_mode": {
    "name": "ipython",
    "version": 3
   },
   "file_extension": ".py",
   "mimetype": "text/x-python",
   "name": "python",
   "nbconvert_exporter": "python",
   "pygments_lexer": "ipython3",
   "version": "3.9.10"
  }
 },
 "nbformat": 4,
 "nbformat_minor": 5
}
