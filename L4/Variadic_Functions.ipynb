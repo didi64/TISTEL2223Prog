{
 "cells": [
  {
   "cell_type": "markdown",
   "id": "c9f44401-b0d6-4b78-908a-0ae34aa06061",
   "metadata": {},
   "source": [
    "### Funktionen mit einer variablen Anzahl Argumente\n",
    "(Konsituiere ev. das Notebook Packing_Unpacking)\n",
    "\n",
    "Funktionen mit einer variablen Anzahl Argumente nennt man auch **variadic functions**.  \n",
    "Beispiele sind  `print`, `max`, `str.format`, ...  \n",
    "Solche Funktionen k&ouml;nnen wie folgt definiert werden:\n",
    "\n",
    "- Variable Anzahl **positional** Argumente:  \n",
    "  Alle positional Argumente werden in ein Tupel `args` gepackt \n",
    "\n",
    "```python\n",
    "def f(*args):\n",
    "    <Code>\n",
    "```\n",
    "\n",
    "- Variable Anzahl **keyword** Argumente:  \n",
    "  Alle keyword Argumente werden in einen Dictionary `kwargs` gepackt \n",
    "  \n",
    "```python\n",
    "def f(**kwargs):\n",
    "    <Code>   \n",
    "```\n",
    "\n",
    "- Variable Anzahl **positional** und **keyword** Argumente:  \n",
    "  Die positional Argumente m&uuml;ssen vor den keyword Argumenten stehen.  \n",
    "  **Vor** `*args` k&ouml;nnen noch weitere positional Argumente stehen,\n",
    "  **vor** `**kwargs` k&ouml;nnen noch weitere keyword Argumente stehen.\n",
    "  \n",
    "```python\n",
    "def f(*args, **kwargs):\n",
    "    <Code>  \n",
    "    \n",
    "def f(x, y, *args, z=5, **kwargs):\n",
    "    <Code>     \n",
    "```"
   ]
  },
  {
   "cell_type": "markdown",
   "id": "afd271b3-f00a-4364-8eaf-80f27720b288",
   "metadata": {},
   "source": [
    "***\n",
    "Beispiele vordefinierter Funktionen mit\n",
    "variabler Anzahl von Argumenten\n",
    "***"
   ]
  },
  {
   "cell_type": "code",
   "execution_count": null,
   "id": "3e7d609c-00e2-40b7-9c37-11a5eb51e192",
   "metadata": {},
   "outputs": [],
   "source": [
    "max(1,2,3)"
   ]
  },
  {
   "cell_type": "code",
   "execution_count": null,
   "id": "91d022f4-a2b9-4af3-b09f-99833d1ca6f8",
   "metadata": {},
   "outputs": [],
   "source": [
    "print(1,2,3, end = '\\n')"
   ]
  },
  {
   "cell_type": "code",
   "execution_count": null,
   "id": "1f0be84e-e2a9-41b9-a87b-e280b9817295",
   "metadata": {},
   "outputs": [],
   "source": [
    "s = '{} {} {}'\n",
    "s.format('A', 'variadic', 'function')"
   ]
  },
  {
   "cell_type": "code",
   "execution_count": null,
   "id": "f5658cc1-5019-40c7-98be-c430fb68d7a3",
   "metadata": {},
   "outputs": [],
   "source": [
    "s = '{first} {} {third}'\n",
    "\n",
    "# beachte: das 'positional' Argument 'variadic' muss vor \n",
    "# den keyword Argumenten uebergeben werden\n",
    "s.format('variadic', first = 'A', third = 'function')"
   ]
  },
  {
   "cell_type": "code",
   "execution_count": null,
   "id": "05115b60-0244-486a-a192-34346b84cf6b",
   "metadata": {},
   "outputs": [],
   "source": [
    "# SyntaxError: positional argument follows keyword argument\n",
    "s.format(first = 'A', 'variadic', third = 'function'))"
   ]
  },
  {
   "cell_type": "markdown",
   "id": "22290c5c-6fb8-4472-888e-c2989aa4bd3b",
   "metadata": {},
   "source": [
    "***\n",
    "Definition von Funktionen mit variabler Anzahl Argumenten.  \n",
    "Die definierten Funktionen zeigen jeweils die &uuml;bergebenen Argumente an.\n",
    "***"
   ]
  },
  {
   "cell_type": "code",
   "execution_count": null,
   "id": "e4cbfa2d-f34e-452e-bc64-d5b88eb5f723",
   "metadata": {},
   "outputs": [],
   "source": [
    "def f(*x):\n",
    "    print(x)\n",
    "    \n",
    "def g(**x):\n",
    "    print(x)\n",
    "    \n",
    "def h(*args, **kwargs):\n",
    "    print('Positional Arguments:')\n",
    "    \n",
    "    for arg in args:\n",
    "        print(arg)\n",
    "        \n",
    "    print('Keyword Arguments:')    \n",
    "    \n",
    "    for k,v in kwargs.items():\n",
    "        print('{} = {}'.format(k,v))    "
   ]
  },
  {
   "cell_type": "code",
   "execution_count": null,
   "id": "2f7ccff5-f943-4226-a139-6eb8d7a83fbb",
   "metadata": {},
   "outputs": [],
   "source": [
    "f(1, 2, 3)\n",
    "g(x=1, y=2)   \n",
    "h(1, 2, x=2, y=4)  "
   ]
  },
  {
   "cell_type": "markdown",
   "id": "2197f894-875c-443a-ad40-aac7223e2bc3",
   "metadata": {},
   "source": [
    "***\n",
    "Beispiel mit einem Default-Argument\n",
    "***"
   ]
  },
  {
   "cell_type": "code",
   "execution_count": null,
   "id": "6e6dc9a0-8420-4335-8c94-79585a8af1c5",
   "metadata": {},
   "outputs": [],
   "source": [
    "def h(x, *args, y, z=1, **kwargs,):\n",
    "    print('x: ', x)\n",
    "    print('Position Arguments:')\n",
    "    \n",
    "    for arg in args:\n",
    "        print(arg)\n",
    "        \n",
    "    print('y =', y)\n",
    "    print('z =', z)\n",
    "    \n",
    "    for k,v in kwargs.items():\n",
    "        print('{} = {}'.format(k,v))\n",
    "            \n",
    "h(1, 2, y=3, w=5)  \n",
    "print()\n",
    "h(1, 2, y=3, z=4, w=5)  "
   ]
  },
  {
   "cell_type": "markdown",
   "id": "e57256e4-5f01-4923-aa9e-06debfdeae06",
   "metadata": {},
   "source": [
    "### Aufgabe\n",
    "Schreibe eine Funktion `add(x, y, *args, **units)`:\n",
    "- `x, y` und die Elemente in `args` sind Tuple der Form (Zahl, Einheit),     \n",
    "  z.B. `(2, 'mm'), (23.4, 'm')`\n",
    "- `units` ist ein Dictionary, der zu einer Einheit (key) den\n",
    "Umrechnungsfaktor (value) enth&auml;lt.  \n",
    "- Verwandle alle Wert-Einheit Paare in die Basiseinheit und z&auml;hle zusammen.\n",
    "\n",
    "**Anwendungsbeispiel**:\n",
    "```python\n",
    "units = {'baseunit' : 'm',\n",
    "         'mm': 0.001,\n",
    "         'cm': 0.01,\n",
    "         'm' : 1.0,\n",
    "         'km': 1000.0,\n",
    "         }         \n",
    "\n",
    "args = [(546, 'mm'), (1200, 'cm'), (0.034, 'km')]    \n",
    "\n",
    "# Funktionsaufruf\n",
    "add((1, 'm'), (2, 'm'), *args, **units)\n",
    "\n",
    "# Output\n",
    "     1.0 m\n",
    "     2.0 m\n",
    "     0.546 m\n",
    "    12.0 m \n",
    "    34.0 m\n",
    "===============\n",
    "    49.546 m\n",
    "```\n",
    "\n",
    "Verwende  nachstehend definierte Hilfsfunktion `fmt` um den Output zu formatieren."
   ]
  },
  {
   "cell_type": "code",
   "execution_count": null,
   "id": "0d751851-6344-4b9e-bc0e-1a013e5fac7e",
   "metadata": {},
   "outputs": [],
   "source": [
    "# Hilfsfunktion\n",
    "def fmt(nbr, width = 6):\n",
    "    '''pad nbr with ' ' so that\n",
    "       part before the decimal point has length at least width\n",
    "    '''\n",
    "  \n",
    "    s = str(nbr).split('.')\n",
    "    s[0] = s[0].rjust(width)\n",
    "    return '.'.join(s)\n",
    "\n",
    "for x in [123456, 23456, 1,10, 1.0, 100.45]:\n",
    "    print(fmt(x))"
   ]
  },
  {
   "cell_type": "code",
   "execution_count": null,
   "id": "2267d570-2287-421f-b2c2-179fb2886636",
   "metadata": {},
   "outputs": [],
   "source": [
    "def add(x, y, *args, **units):\n",
    "    # <dein Code>"
   ]
  }
 ],
 "metadata": {
  "kernelspec": {
   "display_name": "Python 3 (ipykernel)",
   "language": "python",
   "name": "python3"
  },
  "language_info": {
   "codemirror_mode": {
    "name": "ipython",
    "version": 3
   },
   "file_extension": ".py",
   "mimetype": "text/x-python",
   "name": "python",
   "nbconvert_exporter": "python",
   "pygments_lexer": "ipython3",
   "version": "3.9.10"
  }
 },
 "nbformat": 4,
 "nbformat_minor": 5
}
