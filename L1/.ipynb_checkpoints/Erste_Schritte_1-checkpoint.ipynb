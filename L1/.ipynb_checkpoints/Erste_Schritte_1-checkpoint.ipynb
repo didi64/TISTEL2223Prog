{
 "cells": [
  {
   "cell_type": "markdown",
   "id": "77e2c3ef-8d24-489a-a129-101e851a34c2",
   "metadata": {},
   "source": [
    "### Erste Schritte in Python"
   ]
  },
  {
   "cell_type": "markdown",
   "id": "b8d9a6d7-1fb2-48b7-aed3-d8a6dcc2c25e",
   "metadata": {},
   "source": [
    "Klicke in eine Zelle und \n",
    "dr&uuml;cke dann **shift+enter** um den Code in dieser Zelle auszuf&uuml;hren"
   ]
  },
  {
   "cell_type": "code",
   "execution_count": null,
   "id": "54d197bd-325e-4e20-917e-4606fa07dc78",
   "metadata": {},
   "outputs": [],
   "source": [
    "# Ein Kommentar: ein erstes Python Programm\n",
    "print('hello, world!')"
   ]
  },
  {
   "cell_type": "markdown",
   "id": "47ad74b7-6a35-4c07-a069-588f82118884",
   "metadata": {},
   "source": [
    "Klicke in obiger Zelle auf `print` und dr&uuml;cke dann **shift-tab** um Hilfe zu diesem Befehl anzuzeigen.  \n",
    "Alternative l&auml;sst sich Hilfe auch so anzeigen:"
   ]
  },
  {
   "cell_type": "code",
   "execution_count": null,
   "id": "d7ddd2c8-1007-4f9f-b551-65e11fff3010",
   "metadata": {
    "tags": []
   },
   "outputs": [],
   "source": [
    "help(print) # Hilfe zum Befehl print"
   ]
  },
  {
   "cell_type": "code",
   "execution_count": null,
   "id": "3924ea16-4c16-49eb-893c-bad1f93b2d20",
   "metadata": {},
   "outputs": [],
   "source": [
    "print('hello', end = ', ') # fuege ', ', statt newline ('\\n') zum String 'hello' hinzu\n",
    "print('world!')"
   ]
  },
  {
   "cell_type": "markdown",
   "id": "ae2154dc-aca9-41ca-a45c-7a1090d74602",
   "metadata": {},
   "source": [
    "### Python Strings\n",
    "- siehe auch https://docs.python.org/3/tutorial/introduction.html#strings"
   ]
  },
  {
   "cell_type": "markdown",
   "id": "964fcb42-499c-4783-a9d6-16cc6e111116",
   "metadata": {},
   "source": [
    "Anf&uuml;hrungszeichen und Backslash ausgeben:  \n",
    "Innerhalb einfacher oder doppelter Anf&uuml;hrungszeichen ist\n",
    "- `\\'` ein einfaches Anf&uuml;hrungszeichen\n",
    "- `\\\"` ein doppeltes Anf&uuml;hrungszeichen\n",
    "- `\\\\` ein Backslash"
   ]
  },
  {
   "cell_type": "markdown",
   "id": "8f5191ab-4f0d-4464-ba42-652b7822d465",
   "metadata": {},
   "source": [
    "### Aufgabe 1\n",
    "Definiere einen String ```s```, so dass ```print(s)``` den Output\n",
    "```\"'\\``` erzeugt."
   ]
  },
  {
   "cell_type": "markdown",
   "id": "3f74b210-e132-4067-8215-6c000fa488fe",
   "metadata": {},
   "source": [
    "**L&ouml;sung**"
   ]
  },
  {
   "cell_type": "code",
   "execution_count": null,
   "id": "a3c1658c-6136-4978-8e8a-199bfc4fb304",
   "metadata": {
    "jupyter": {
     "source_hidden": true
    },
    "tags": []
   },
   "outputs": [],
   "source": [
    "# Variante 1\n",
    "s = '\"\\'\\\\' # \" fuer \", \\' fuer ', und \\\\ fuer \\\n",
    "print(s)"
   ]
  },
  {
   "cell_type": "code",
   "execution_count": null,
   "id": "a7c980ea-0ab6-4e8d-b540-f5b717051c56",
   "metadata": {
    "jupyter": {
     "source_hidden": true
    },
    "tags": []
   },
   "outputs": [],
   "source": [
    "# Variante 2\n",
    "s = '\"' + \"'\" + '\\\\'\n",
    "print(s)\n",
    "\n",
    "# oder auch\n",
    "s = '\"' \"'\"  '\\\\'\n",
    "print(s)"
   ]
  },
  {
   "cell_type": "code",
   "execution_count": null,
   "id": "00f8c5fb-5831-48ca-a0dc-956771e5c961",
   "metadata": {
    "jupyter": {
     "source_hidden": true
    },
    "tags": []
   },
   "outputs": [],
   "source": [
    "# Variante 3\n",
    "char1 = '\"'\n",
    "char2 = \"'\"\n",
    "char3 = '\\\\'\n",
    "s = '{}{}{}'.format(char1, char2, char3)\n",
    "print(s)"
   ]
  },
  {
   "cell_type": "markdown",
   "id": "f6141678-ebc9-4836-b1e1-266b474b4309",
   "metadata": {},
   "source": [
    "### Integers, Floats und Strings\n",
    "Python ist dynamisch getypt, der Typ einer Variablen ist bestimmt durch ihren Wert\n",
    "- ```x = 3``` ist ein Integer\n",
    "- ```x = 3.0``` ist ein Float\n",
    "- ```x = 'hallo'``` ist ein String\n",
    "- ```x = [1,2,3]``` ist eine Liste"
   ]
  },
  {
   "cell_type": "code",
   "execution_count": null,
   "id": "7ded2004-4b18-4324-91be-4be6ccd4f54b",
   "metadata": {},
   "outputs": [],
   "source": [
    "x = 3\n",
    "type(x) # gibt den Typ der Variable x an.\n",
    "        # da type(x) der letzte Ausdruck dieser  Zelle ist, wird\n",
    "        # display(type(x))\n",
    "        # ausgefuehrt."
   ]
  },
  {
   "cell_type": "markdown",
   "id": "af6d1b1d-ea0d-43cb-b49d-c1cb224f33bc",
   "metadata": {},
   "source": [
    "Beachte: `display` und `print` unterscheiden sich:"
   ]
  },
  {
   "cell_type": "code",
   "execution_count": null,
   "id": "a28e443e-1d1d-486f-9440-681086c93935",
   "metadata": {},
   "outputs": [],
   "source": [
    "print('hallo')\n",
    "display('hallo')\n",
    "print(int)\n",
    "display(int)"
   ]
  },
  {
   "cell_type": "markdown",
   "id": "11c8767d-5ebc-4755-aee8-ba456eef8f22",
   "metadata": {},
   "source": [
    "### Umwandeln eines Types in einen anderen (Cast)\n",
    "- `int(x)` liefert einen Integer, falls eine Conversion m&ouml;glich ist\n",
    "- `float(x)` liefert einen Float, falls m&ouml;glich\n",
    "- `str(x)` liefert einen String, falls m&ouml;glich\n",
    "- `list(x)` liefert eine Liste, falls m&ouml;glich"
   ]
  },
  {
   "cell_type": "code",
   "execution_count": null,
   "id": "8815f540-20e1-4f8a-a10d-73e1793b743f",
   "metadata": {},
   "outputs": [],
   "source": [
    "x  = 1\n",
    "y  = 3.5\n",
    "s0 = '3'\n",
    "s1 = '3.0'\n",
    "s2 = 'drei'\n",
    "lst = [1,2,3]"
   ]
  },
  {
   "cell_type": "markdown",
   "id": "2d8d4f41-02a8-48e8-9fdd-9e104ffd2f3d",
   "metadata": {},
   "source": [
    "### Aufgabe 2\n",
    "Teste, welche der obigen Typen sich in welche anderen Typen umwandeln lassen.\n",
    "2 Beispiele sind bereits gegeben."
   ]
  },
  {
   "cell_type": "code",
   "execution_count": null,
   "id": "baa86b37-a971-4e67-8df8-b1a6b8becc73",
   "metadata": {},
   "outputs": [],
   "source": [
    "int(s0)"
   ]
  },
  {
   "cell_type": "code",
   "execution_count": null,
   "id": "d6ceb717-6805-4659-b767-9899c858c3bc",
   "metadata": {},
   "outputs": [],
   "source": [
    "list(s2)"
   ]
  },
  {
   "cell_type": "code",
   "execution_count": null,
   "id": "6643eb67-e7ba-42ce-8802-d70ed90e7bd4",
   "metadata": {
    "tags": []
   },
   "outputs": [],
   "source": [
    "msg1 = '{}: {} ({}) ist nicht in {} umwandelbar'\n",
    "msg2 = '{} ({}) --> {} ({})'\n",
    "\n",
    "for value in [x, y, s0, s1, s2, lst]:\n",
    "    for f in [int, float, str, list]:\n",
    "        if type(value) is f:\n",
    "           continue\n",
    "        \n",
    "        try:\n",
    "            casted_value = f(value)\n",
    "        except ValueError:\n",
    "            print(msg1.format('ValueError',  value.__repr__(), type(value), f))\n",
    "        except TypeError:\n",
    "            print(msg1.format('TypeError', value.__repr__(), type(value), f))\n",
    "        else:    \n",
    "            print(msg2.format(value.__repr__(), type(value), casted_value.__repr__(), f))"
   ]
  },
  {
   "cell_type": "markdown",
   "id": "01f4bf56-fa71-46a6-a5dc-079a975e1432",
   "metadata": {},
   "source": [
    "### Operationen mit Integers und Floats\n",
    "Teste was folgende Operationen machen.  \n",
    "```python\n",
    "x + y, x - y, x * y, x ** y, x / y, x // y, x % y\n",
    "```\n",
    "- Welcher Typ hat das Resultat?  \n",
    "- Kann man Strings addieren? Kann man Strings mit Integers multiplizieren?  \n",
    "- Geht das auch mit Listen statt Strings?"
   ]
  },
  {
   "cell_type": "code",
   "execution_count": null,
   "id": "f8bb3053-0715-4f8c-9113-c48b81df84c1",
   "metadata": {},
   "outputs": [],
   "source": []
  }
 ],
 "metadata": {
  "kernelspec": {
   "display_name": "Python 3 (ipykernel)",
   "language": "python",
   "name": "python3"
  },
  "language_info": {
   "codemirror_mode": {
    "name": "ipython",
    "version": 3
   },
   "file_extension": ".py",
   "mimetype": "text/x-python",
   "name": "python",
   "nbconvert_exporter": "python",
   "pygments_lexer": "ipython3",
   "version": "3.9.10"
  }
 },
 "nbformat": 4,
 "nbformat_minor": 5
}
