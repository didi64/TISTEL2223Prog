{
 "cells": [
  {
   "cell_type": "markdown",
   "id": "e3b37b38-308c-4e43-b7e6-8cd0330578ed",
   "metadata": {},
   "source": [
    "### Formatierte Ausgabe\n",
    "-  ein String kann anonyme Platzhalter ```{}``` oder\n",
    "   benannte ```{name}``` Platzhalter enthalten.\n",
    "   - mit der Methode ```str.format``` k&ouml;nnen diese Platzhalter duch Text ersetzt werden."
   ]
  },
  {
   "cell_type": "code",
   "execution_count": null,
   "id": "4e1dad3a-46ab-4825-85db-4109213b0dd6",
   "metadata": {},
   "outputs": [],
   "source": [
    "text = 'Vorname: {}, Nachname: {}'.format('Hans','Muster')\n",
    "print(text)\n",
    "text = 'Vorname: {first}, Nachname: {last}'.format(first='Hans',last='Muster')\n",
    "print(text)"
   ]
  },
  {
   "cell_type": "code",
   "execution_count": null,
   "id": "784f3fd0-be66-4c7d-9d65-3750c6fe9133",
   "metadata": {},
   "outputs": [],
   "source": [
    "vorname  = 'Hans'\n",
    "nachname = 'Muster'\n",
    "print('Vorname: {vorname}, Nachname: {nachname}'.\\\n",
    "      format(vorname=vorname, nachname=nachname))"
   ]
  },
  {
   "cell_type": "markdown",
   "id": "2289dbe9-5283-4349-8c7c-2dcab3445925",
   "metadata": {},
   "source": [
    "### Eingabe\n",
    "- mit ```s=input('schreibe etwas')``` wir der Benutzer zur Eingabe von Text aufgefordert.\n",
    "- Der Text wird als String in der Variablen ```s``` gespeichert."
   ]
  },
  {
   "cell_type": "code",
   "execution_count": null,
   "id": "48847940-5823-45ad-81b9-12a76e5360bb",
   "metadata": {},
   "outputs": [],
   "source": [
    "s = input('schreibe etwas')\n",
    "print('Deine Eingabe:', s)"
   ]
  },
  {
   "cell_type": "markdown",
   "id": "00723e6a-5f02-4290-9028-c619b659119f",
   "metadata": {},
   "source": [
    "### Aufgabe\n",
    "Schreibe ein Programm, dass dich nach deinem Namen und Jahrgang fr&auml;gt.\n",
    "Gib den Namen und das Alter aus"
   ]
  },
  {
   "cell_type": "code",
   "execution_count": null,
   "id": "f6b9bfd6-4c62-49ae-96e3-e0a7f7d2cf66",
   "metadata": {},
   "outputs": [],
   "source": [
    "name = input('Name')\n",
    "jahrgang = input('Jahrgang')\n",
    "jahrgang = # wandle den String Jahrgang in einen int um\n",
    "alter = #Berechne das Alter aus 2022 und dem Jahrgang\n",
    "print() #Gib aus <Name> ist <Alter> Jahre alt."
   ]
  },
  {
   "cell_type": "markdown",
   "id": "d2da411f-2c45-4d87-a7fb-aac82a3f8a8f",
   "metadata": {},
   "source": [
    "### Einr&uuml;cken statt '''{  }'''\n",
    "- In Python geh&ouml;rt das Einr&uuml;cken von Code zur Syntax und dient der Abgrenzung von Codebl&ouml;cken."
   ]
  },
  {
   "cell_type": "code",
   "execution_count": null,
   "id": "dea1d4ea-fb7d-4509-a46e-9df5dc5fba22",
   "metadata": {},
   "outputs": [],
   "source": [
    "# Schleife, i durchlaeuft die Werte 0,1,2\n",
    "for i in range(3):\n",
    "    print(i, end=', ')"
   ]
  },
  {
   "cell_type": "code",
   "execution_count": null,
   "id": "6eedec73-8732-4c67-872d-bcd0560e5fe4",
   "metadata": {},
   "outputs": [],
   "source": [
    "# Schleife, ch durchlaeuft die Werte 'a','b','c','d'\n",
    "for ch in 'abcd':\n",
    "    print(ch, end=', ')"
   ]
  },
  {
   "cell_type": "code",
   "execution_count": null,
   "id": "b6fc5dff-3711-4ae0-a457-d01638473044",
   "metadata": {},
   "outputs": [],
   "source": [
    "# Schleife, ch durchlaeuft die Werte 1,2,3\n",
    "for i in [1,2,3]:\n",
    "    print(ch, end=', ')"
   ]
  },
  {
   "cell_type": "code",
   "execution_count": null,
   "id": "66639c9d-2598-4cad-9d0e-8659ab03caf2",
   "metadata": {},
   "outputs": [],
   "source": [
    "# if then else\n",
    "# aendere den Wert von x und siehe was passiert\n",
    "x=1\n",
    "if x < 0:\n",
    "    print(x, 'ist kleiner als 0')\n",
    "else:\n",
    "    print(x, 'ist groesser gleich  0')"
   ]
  },
  {
   "cell_type": "code",
   "execution_count": null,
   "id": "2758a4a4-fb2f-481a-a46c-1477cedd5107",
   "metadata": {},
   "outputs": [],
   "source": [
    "# if then else\n",
    "# aendere den Wert von x und siehe was passiert\n",
    "x=1\n",
    "if x < 0:\n",
    "    print(x, 'ist kleiner als 0')\n",
    "elif x == 0:\n",
    "    print(x, 'ist gleich  0')\n",
    "else:\n",
    "    print(x, 'ist groesser als 0')"
   ]
  },
  {
   "cell_type": "code",
   "execution_count": null,
   "id": "c9a3f6d5-4e7e-47d2-9de0-a91cb1ae0747",
   "metadata": {},
   "outputs": [],
   "source": [
    "# eine Funktion definieren\n",
    "def is_even(x):\n",
    "    '''gibt True zurueck falls x gerade ist, sonst False''' # Doc-String\n",
    "    if type(x) != int:\n",
    "        raise Exception('{} ist kein Integer'.format(x))\n",
    "        \n",
    "    return x%2 == 0    "
   ]
  },
  {
   "cell_type": "code",
   "execution_count": null,
   "id": "0036bfb6-a53f-45f5-bbaa-20c6b6bc1c72",
   "metadata": {},
   "outputs": [],
   "source": [
    "# gibt den Doc-String der aus.\n",
    "help(is_even)"
   ]
  },
  {
   "cell_type": "code",
   "execution_count": null,
   "id": "597f5e37-3b72-4e0d-ae96-60683c4dee44",
   "metadata": {},
   "outputs": [],
   "source": [
    "is_even(2)"
   ]
  },
  {
   "cell_type": "markdown",
   "id": "c2ddc126-dba4-47c9-af38-8948a2cb17b2",
   "metadata": {},
   "source": [
    "### Aufgabe\n",
    "- Schreibe eine Funktion ```is_divisor_of(x,y)```, die True zurueck gibt, falls\n",
    "y die Zahl x teilt, und sonst False, falls also  ```y``` ohne Rest durch ```x``` teilbar ist.\n",
    "- Teste dein Programm"
   ]
  },
  {
   "cell_type": "code",
   "execution_count": null,
   "id": "4e836468-e672-4fb1-8c11-ec6e5c515d49",
   "metadata": {},
   "outputs": [],
   "source": [
    "def is_divisor_of(x,y):\n",
    "    #dein Code, 1-2 Zeilen"
   ]
  },
  {
   "cell_type": "code",
   "execution_count": 4,
   "id": "186a690e-df47-4ce5-b2ed-0b1e05a41820",
   "metadata": {},
   "outputs": [
    {
     "data": {
      "text/plain": [
       "True"
      ]
     },
     "execution_count": 4,
     "metadata": {},
     "output_type": "execute_result"
    }
   ],
   "source": [
    "def is_divisor_of(x,y):\n",
    "    return  x % y == 0 # True falls x ohne Rest durch y teilbar ist\n",
    "\n",
    "is_divisor_of(39,13)"
   ]
  },
  {
   "cell_type": "markdown",
   "id": "c3098665-73c0-472c-a805-43af7f08d341",
   "metadata": {},
   "source": [
    "### Aufgabe\n",
    "- Schreibe ein Programm, das ein Wort einliest und ausgibt, wie oft der Buchstabe 'a' in diesem Wort vorkommt.\n",
    "- Teste dein Programm"
   ]
  },
  {
   "cell_type": "code",
   "execution_count": null,
   "id": "12a44338-7331-4bd6-9075-5efcf4192a9f",
   "metadata": {},
   "outputs": [],
   "source": [
    "wort = # Wort einlesen.\n",
    "anzahl_a = 0\n",
    "for ch in wort:\n",
    "    # Addiere 1 zu anzahl_a falls ch == 'a'\n",
    "# gib das Resultat aus    "
   ]
  },
  {
   "cell_type": "code",
   "execution_count": 6,
   "id": "f18d67f9-c1f4-4c50-a62d-1fc2d4661c3a",
   "metadata": {},
   "outputs": [
    {
     "name": "stdin",
     "output_type": "stream",
     "text": [
      "Wort:  abakadabra\n"
     ]
    },
    {
     "name": "stdout",
     "output_type": "stream",
     "text": [
      "5\n"
     ]
    }
   ],
   "source": [
    "wort = input('Wort: ')\n",
    "anzahl_a = 0\n",
    "for ch in wort:\n",
    "    if ch == 'a':\n",
    "        anzahl_a = anzahl_a + 1\n",
    "        \n",
    "print(anzahl_a)"
   ]
  },
  {
   "cell_type": "markdown",
   "id": "2543ccd8-06cf-469f-9067-01700ac3a296",
   "metadata": {},
   "source": [
    "### Aufgabe\n",
    "\n",
    "Schreibe ein Programm, das ein Wort einliest und ausgibt, wieviele Vokale das Wort enth&auml;lt.\n",
    "\n",
    "\n",
    "\n"
   ]
  },
  {
   "cell_type": "code",
   "execution_count": null,
   "id": "69bfa2e3-1b54-4117-9436-f74de5e271f3",
   "metadata": {},
   "outputs": [],
   "source": [
    "vokale = 'aeiou'\n",
    "wort = # Wort einlesen.\n",
    "# iterieriere mit einer for Schleife &uuml;ber die Buchstaben im Wort\n",
    "# nutze die Methode ```ch = ch.lower()``` um den Buchstaben \n",
    "# in einen Kleinbuchstaben umzuwandeln.\n",
    "# test mit \"if ch in vokale:\" ob der in der Variable ch gespeicherte \n",
    "# Buchstabe im String vokale vorkommt.\n"
   ]
  },
  {
   "cell_type": "code",
   "execution_count": 9,
   "id": "ff661860-bd07-4e0f-ac5c-0caeaca5e4d8",
   "metadata": {},
   "outputs": [
    {
     "name": "stdin",
     "output_type": "stream",
     "text": [
      "Wort:  asda\n"
     ]
    },
    {
     "name": "stdout",
     "output_type": "stream",
     "text": [
      "2\n"
     ]
    }
   ],
   "source": [
    "vokale = 'aeiou'\n",
    "wort = input('Wort: ')\n",
    "\n",
    "count = 0\n",
    "for ch in wort:\n",
    "    if ch in vokale: # 'ch in vokale' ist True, falls  das Zeichen ch im String vokale vorkommt\n",
    "        count = count + 1\n",
    "        \n",
    "print(count)"
   ]
  },
  {
   "cell_type": "markdown",
   "id": "0d53079f-9d90-4257-8d75-d6d778579936",
   "metadata": {},
   "source": [
    "Wenn du alle Aufgaben gel&ouml;st hast, beginne mit dem Tutorial\n",
    "https://www.w3schools.com/python/default.asp"
   ]
  },
  {
   "cell_type": "markdown",
   "id": "17d84fd4-297d-4a84-bfe4-52154f0e9263",
   "metadata": {},
   "source": []
  }
 ],
 "metadata": {
  "kernelspec": {
   "display_name": "Python 3 (ipykernel)",
   "language": "python",
   "name": "python3"
  },
  "language_info": {
   "codemirror_mode": {
    "name": "ipython",
    "version": 3
   },
   "file_extension": ".py",
   "mimetype": "text/x-python",
   "name": "python",
   "nbconvert_exporter": "python",
   "pygments_lexer": "ipython3",
   "version": "3.9.10"
  }
 },
 "nbformat": 4,
 "nbformat_minor": 5
}
