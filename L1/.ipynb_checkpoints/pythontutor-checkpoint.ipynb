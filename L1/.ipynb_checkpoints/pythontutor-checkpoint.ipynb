{
 "cells": [
  {
   "cell_type": "markdown",
   "id": "73755292-8cba-41ab-a421-e8060411e73f",
   "metadata": {},
   "source": [
    "### Pythoncode visualisieren\n",
    "- gehe auf [Pythontutor](https://pythontutor.com/)\n",
    "- klicke auf **Start visualizing your code now**\n",
    "- copy/paste  eines  der nachstehenden Code-Beispiele\n",
    "- klicke auf **Visualize Execution**\n",
    "- klicke **next**"
   ]
  },
  {
   "cell_type": "markdown",
   "id": "a931ae78-36a3-4e7d-b026-e28722d6581f",
   "metadata": {},
   "source": [
    "**Beispiel 1:**\n",
    "Unterschiedliches Verhalten von mutable Objekten (Listen) und immutable Objekten (Strings, Tupels)\n",
    "```python\n",
    "x = 'hello,'\n",
    "y = x\n",
    "y += ' world!' # y = y + 'worlds!'\n",
    "\n",
    "\n",
    "p = (1,2,3)\n",
    "q = p\n",
    "p += (4,5) # p = p + (4,5)\n",
    "\n",
    "a = [1,2,3]\n",
    "b = a\n",
    "a = a + [4,5] # erzeugt neue Liste!\n",
    "\n",
    "r = [1,2,3]\n",
    "s = r\n",
    "r += [4,5] # r.exend([4,5]), nicht r = r + [4,5]\n",
    "```"
   ]
  },
  {
   "cell_type": "markdown",
   "id": "a73aaaa1-0e87-4657-ad7e-ee847a5c3049",
   "metadata": {},
   "source": [
    "**Beispiel 2**: Falsch Weg eine 3x2 Matrix mit 0 zu initialisieren:\n",
    "```python\n",
    "m = 3 * [2 * [0]]  # hier geht etwas schief, was?\n",
    "m[0][0] = 1        # 1. (0te) Spalte ist nun 1\n",
    "\n",
    "# Ausgabe der Matrix\n",
    "print((m[0][0], m[0][1]))\n",
    "print((m[1][0], m[1][1]))\n",
    "print((m[2][0], m[1][1]))\n",
    "```"
   ]
  },
  {
   "cell_type": "markdown",
   "id": "387f13c8-5b6c-433b-ba93-de78a570944d",
   "metadata": {},
   "source": [
    "**Beispiel 2a**: Korrekter Weg eine 3x2 Matrix mit 0 zu initialisieren:\n",
    "```python\n",
    "m=[]\n",
    "for i in range(3):\n",
    "    m.append(2 * [0]) # fuegt [0,0] als letztes Element zur Liste m hinzu\n",
    "\n",
    "# Verhalten ok?\n",
    "m[0][0] = 1   \n",
    "print((m[0][0], m[0][1]))\n",
    "print((m[1][0], m[1][1]))\n",
    "print((m[2][0], m[1][1]))\n",
    "```"
   ]
  },
  {
   "cell_type": "markdown",
   "id": "1a1b9fbb-b0eb-4033-8334-3b4b161d48eb",
   "metadata": {},
   "source": [
    "**Beispiel 2b**: Korrekter Weg eine 3x2 Matrix mit 0 zu initialisieren, kompakte Form:\n",
    "```python\n",
    "m = [2 * [0] for i in range(3)] \n",
    "\n",
    "# Verhalten ok?\n",
    "m[0][0] = 1 # Nur 1. Element der 1. Spalte ist 1\n",
    "print((m[0][0], m[0][1]))\n",
    "print((m[1][0], m[1][1]))\n",
    "print((m[2][0], m[1][1]))\n",
    "```"
   ]
  },
  {
   "cell_type": "code",
   "execution_count": null,
   "id": "e1e1ae95-3955-44c2-a261-d1d1cedfa7d9",
   "metadata": {},
   "outputs": [],
   "source": []
  },
  {
   "cell_type": "code",
   "execution_count": null,
   "id": "d1d28abb-4d33-41e6-8b09-8bcf899370b3",
   "metadata": {},
   "outputs": [],
   "source": []
  },
  {
   "cell_type": "code",
   "execution_count": 37,
   "id": "3e5db6bc-0edb-4489-8cae-1322051470a0",
   "metadata": {},
   "outputs": [
    {
     "data": {
      "text/plain": [
       "True"
      ]
     },
     "execution_count": 37,
     "metadata": {},
     "output_type": "execute_result"
    }
   ],
   "source": [
    "x = 256\n",
    "y = 256\n",
    "x is y"
   ]
  },
  {
   "cell_type": "code",
   "execution_count": 13,
   "id": "b1910c9d-0beb-4e92-9c84-1a32ac1c9853",
   "metadata": {},
   "outputs": [
    {
     "data": {
      "text/plain": [
       "('0x7f90ed201950', '0x7f90ed201950')"
      ]
     },
     "execution_count": 13,
     "metadata": {},
     "output_type": "execute_result"
    }
   ],
   "source": [
    "hex(id(x)), hex(id(y))"
   ]
  },
  {
   "cell_type": "code",
   "execution_count": 41,
   "id": "33078f0e-8760-481d-90ab-dd3f32fa7e97",
   "metadata": {},
   "outputs": [
    {
     "data": {
      "text/plain": [
       "False"
      ]
     },
     "execution_count": 41,
     "metadata": {},
     "output_type": "execute_result"
    }
   ],
   "source": [
    "x = 257\n",
    "y = 257\n",
    "x is y"
   ]
  },
  {
   "cell_type": "code",
   "execution_count": 42,
   "id": "de37cc0a-df1f-437e-a870-34053ad1debc",
   "metadata": {},
   "outputs": [
    {
     "data": {
      "text/plain": [
       "('0x7f90e81a6390', '0x7f90e81a6310')"
      ]
     },
     "execution_count": 42,
     "metadata": {},
     "output_type": "execute_result"
    }
   ],
   "source": [
    "hex(id(x)), hex(id(y))"
   ]
  },
  {
   "cell_type": "code",
   "execution_count": 19,
   "id": "3d985a27-facc-41e5-9b4a-9a0db6a20dda",
   "metadata": {},
   "outputs": [
    {
     "data": {
      "text/plain": [
       "False"
      ]
     },
     "execution_count": 19,
     "metadata": {},
     "output_type": "execute_result"
    }
   ],
   "source": [
    "x = 1.0\n",
    "y = 1.0\n",
    "x is y"
   ]
  },
  {
   "cell_type": "code",
   "execution_count": 20,
   "id": "bd577c4e-f670-4b48-bac5-67bb5d74435f",
   "metadata": {},
   "outputs": [
    {
     "data": {
      "text/plain": [
       "True"
      ]
     },
     "execution_count": 20,
     "metadata": {},
     "output_type": "execute_result"
    }
   ],
   "source": [
    "x = 'foo'\n",
    "y = 'foo'\n",
    "x is y"
   ]
  },
  {
   "cell_type": "code",
   "execution_count": 45,
   "id": "375aa00f-fa84-4dc1-ac93-8496553b2b0d",
   "metadata": {},
   "outputs": [
    {
     "data": {
      "text/plain": [
       "True"
      ]
     },
     "execution_count": 45,
     "metadata": {},
     "output_type": "execute_result"
    }
   ],
   "source": [
    "x = 'foo'\n",
    "y = 'foo'\n",
    "x is y"
   ]
  },
  {
   "cell_type": "code",
   "execution_count": 46,
   "id": "1f26b749-5947-4816-93e8-428805450714",
   "metadata": {},
   "outputs": [
    {
     "data": {
      "text/plain": [
       "False"
      ]
     },
     "execution_count": 46,
     "metadata": {},
     "output_type": "execute_result"
    }
   ],
   "source": [
    "x = 'foo'\n",
    "y = 'f' \n",
    "y += 'oo'\n",
    "x is y"
   ]
  },
  {
   "cell_type": "code",
   "execution_count": 22,
   "id": "5ef8455b-dd95-4a39-b310-990211a5a14a",
   "metadata": {},
   "outputs": [
    {
     "data": {
      "text/plain": [
       "False"
      ]
     },
     "execution_count": 22,
     "metadata": {},
     "output_type": "execute_result"
    }
   ],
   "source": [
    "x = (1,2)\n",
    "y = (1,2)\n",
    "x is y"
   ]
  },
  {
   "cell_type": "code",
   "execution_count": null,
   "id": "cba1ae84-715a-4a40-8141-15659b928a9e",
   "metadata": {},
   "outputs": [],
   "source": []
  }
 ],
 "metadata": {
  "kernelspec": {
   "display_name": "Python 3 (ipykernel)",
   "language": "python",
   "name": "python3"
  },
  "language_info": {
   "codemirror_mode": {
    "name": "ipython",
    "version": 3
   },
   "file_extension": ".py",
   "mimetype": "text/x-python",
   "name": "python",
   "nbconvert_exporter": "python",
   "pygments_lexer": "ipython3",
   "version": "3.9.10"
  }
 },
 "nbformat": 4,
 "nbformat_minor": 5
}
