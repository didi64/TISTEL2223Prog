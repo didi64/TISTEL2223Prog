{
 "cells": [
  {
   "cell_type": "markdown",
   "id": "73755292-8cba-41ab-a421-e8060411e73f",
   "metadata": {},
   "source": [
    "### Pythoncode visualisieren\n",
    "- gehe auf [Pythontutor](https://pythontutor.com/)\n",
    "- klicke auf **Start visualizing your code now**\n",
    "- copy/paste  eines  der nachstehenden Code-Beispiele\n",
    "- klicke auf **Visualize Execution**\n",
    "- klicke **next**"
   ]
  },
  {
   "cell_type": "markdown",
   "id": "a931ae78-36a3-4e7d-b026-e28722d6581f",
   "metadata": {},
   "source": [
    "**Beispiel 1:**  \n",
    "Unterschiedliches Verhalten von mutable (ver&auml;nderliche) Objekten (Listen, ...) und immutable (unver&auml;nderliche) Objekten (Integers, Strings, Tupels)\n",
    "```python\n",
    "\n",
    "# Strings addieren (aneinanderhaengen)\n",
    "x = 'hello,'\n",
    "y = x\n",
    "y += ' world!' \n",
    "\n",
    "# Tuple addieren (Elemente der beiden Tuple in ein Tuple fassen)\n",
    "p = (1,2,3)\n",
    "q = p\n",
    "p += (4,5) \n",
    "\n",
    "# Listen addieren (Elemente der beiden Listen in eine Liste fassen)\n",
    "a = [1,2,3]\n",
    "b = a\n",
    "a = a + [4,5] # erzeugt eine neue Liste!\n",
    "\n",
    "r = [1,2,3]\n",
    "s = r\n",
    "r += [4,5] # modifiziert Liste, nicht r = r + [4,5]!\n",
    "```"
   ]
  },
  {
   "cell_type": "markdown",
   "id": "a73aaaa1-0e87-4657-ad7e-ee847a5c3049",
   "metadata": {},
   "source": [
    "**Beispiel 2**  \n",
    "Falsch Weg eine 3x2 Matrix mit 0 zu initialisieren:\n",
    "```python\n",
    "mat = 3 * [2 * [0]]  # hier geht etwas schief, was?\n",
    "mat[0][0] = 1        # 1. (0te) Spalte ist nun 1\n",
    "\n",
    "# Ausgabe der Matrix\n",
    "print((mat[0][0], mat[0][1]))\n",
    "print((mat[1][0], mat[1][1]))\n",
    "print((mat[2][0], mat[1][1]))\n",
    "```"
   ]
  },
  {
   "cell_type": "markdown",
   "id": "387f13c8-5b6c-433b-ba93-de78a570944d",
   "metadata": {},
   "source": [
    "**Beispiel 2a**  \n",
    "Korrekter Weg eine 3x2 Matrix mit 0 zu initialisieren:\n",
    "```python\n",
    "mat = []\n",
    "for i in range(3):\n",
    "    mat.append(2 * [0]) # fuegt [0,0] als letztes Element zur Liste m hinzu\n",
    "\n",
    "# Verhalten ok?\n",
    "mat[0][0] = 1   \n",
    "print((mat[0][0], mat[0][1]))\n",
    "print((mat[1][0], mat[1][1]))\n",
    "print((mat[2][0], mat[1][1]))\n",
    "```"
   ]
  },
  {
   "cell_type": "markdown",
   "id": "1a1b9fbb-b0eb-4033-8334-3b4b161d48eb",
   "metadata": {},
   "source": [
    "**Beispiel 2b**  \n",
    "Korrekter Weg eine 3x2 Matrix mit 0 zu initialisieren (mit Listcomprehension):\n",
    "```python\n",
    "mat = [2 * [0] for i in range(3)] \n",
    "\n",
    "# Verhalten ok?\n",
    "mat[0][0] = 1 # Nur 1. Element der 1. Spalte ist 1\n",
    "print((mat[0][0], mat[0][1]))\n",
    "print((mat[1][0], mat[1][1]))\n",
    "print((mat[2][0], mat[1][1]))\n",
    "```"
   ]
  }
 ],
 "metadata": {
  "kernelspec": {
   "display_name": "Python 3 (ipykernel)",
   "language": "python",
   "name": "python3"
  },
  "language_info": {
   "codemirror_mode": {
    "name": "ipython",
    "version": 3
   },
   "file_extension": ".py",
   "mimetype": "text/x-python",
   "name": "python",
   "nbconvert_exporter": "python",
   "pygments_lexer": "ipython3",
   "version": "3.9.10"
  }
 },
 "nbformat": 4,
 "nbformat_minor": 5
}
