{
 "cells": [
  {
   "cell_type": "markdown",
   "id": "73755292-8cba-41ab-a421-e8060411e73f",
   "metadata": {},
   "source": [
    "### Pythoncode visualisieren\n",
    "- gehe auf [Pythontutor](https://pythontutor.com/)\n",
    "- klicke auf **Start visualizing your code now**\n",
    "- copy/paste  eines  der nachstehenden Code-Beispiele\n",
    "- klicke auf **Visualize Execution**\n",
    "- klicke **next**"
   ]
  },
  {
   "cell_type": "markdown",
   "id": "a931ae78-36a3-4e7d-b026-e28722d6581f",
   "metadata": {},
   "source": [
    "**Beispiel 1:**\n",
    "Unterschiedliches Verhalten von mutable Objekten (Listen) und immutable Objekten (Strings, Tupels)\n",
    "```python\n",
    "x = 'hello,'\n",
    "y = x\n",
    "y += ' world!' # y = y + 'worlds!'\n",
    "\n",
    "\n",
    "p = (1,2,3)\n",
    "q = p\n",
    "p += (4,5) # p = p + (4,5)\n",
    "\n",
    "a = [1,2,3]\n",
    "b = a\n",
    "a = a + [4,5] # erzeugt neue Liste!\n",
    "\n",
    "r = [1,2,3]\n",
    "s = r\n",
    "r += [4,5] # r.exend([4,5]), nicht r = r + [4,5]\n",
    "```"
   ]
  },
  {
   "cell_type": "markdown",
   "id": "a73aaaa1-0e87-4657-ad7e-ee847a5c3049",
   "metadata": {},
   "source": [
    "**Beispiel 2**: Falsch Weg eine 3x2 Matrix mit 0 zu initialisieren:\n",
    "```python\n",
    "m = 3 * [2 * [0]]  # hier geht etwas schief, was?\n",
    "m[0][0] = 1        # 1. (0te) Spalte ist nun 1\n",
    "\n",
    "# Ausgabe der Matrix\n",
    "print((m[0][0], m[0][1]))\n",
    "print((m[1][0], m[1][1]))\n",
    "print((m[2][0], m[1][1]))\n",
    "```"
   ]
  },
  {
   "cell_type": "markdown",
   "id": "387f13c8-5b6c-433b-ba93-de78a570944d",
   "metadata": {},
   "source": [
    "**Beispiel 2a**: Korrekter Weg eine 3x2 Matrix mit 0 zu initialisieren:\n",
    "```python\n",
    "m=[]\n",
    "for i in range(3):\n",
    "    m.append(2 * [0]) # fuegt [0,0] als letztes Element zur Liste m hinzu\n",
    "\n",
    "# Verhalten ok?\n",
    "m[0][0] = 1   \n",
    "print((m[0][0], m[0][1]))\n",
    "print((m[1][0], m[1][1]))\n",
    "print((m[2][0], m[1][1]))\n",
    "```"
   ]
  },
  {
   "cell_type": "markdown",
   "id": "1a1b9fbb-b0eb-4033-8334-3b4b161d48eb",
   "metadata": {},
   "source": [
    "**Beispiel 2b**: Korrekter Weg eine 3x2 Matrix mit 0 zu initialisieren, kompakte Form:\n",
    "```python\n",
    "m = [2 * [0] for i in range(3)] \n",
    "\n",
    "# Verhalten ok?\n",
    "m[0][0] = 1 # Nur 1. Element der 1. Spalte ist 1\n",
    "print((m[0][0], m[0][1]))\n",
    "print((m[1][0], m[1][1]))\n",
    "print((m[2][0], m[1][1]))\n",
    "```"
   ]
  }
 ],
 "metadata": {
  "kernelspec": {
   "display_name": "Python 3 (ipykernel)",
   "language": "python",
   "name": "python3"
  },
  "language_info": {
   "codemirror_mode": {
    "name": "ipython",
    "version": 3
   },
   "file_extension": ".py",
   "mimetype": "text/x-python",
   "name": "python",
   "nbconvert_exporter": "python",
   "pygments_lexer": "ipython3",
   "version": "3.9.10"
  }
 },
 "nbformat": 4,
 "nbformat_minor": 5
}
