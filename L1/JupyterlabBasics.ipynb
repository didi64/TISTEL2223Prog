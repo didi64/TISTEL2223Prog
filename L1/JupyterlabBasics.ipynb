{
 "cells": [
  {
   "cell_type": "markdown",
   "id": "afd47d38-c664-4680-89cf-df51d7816d6e",
   "metadata": {},
   "source": [
    "### Die wichtigsten Handgriffe im Notebook\n",
    "- Upload Pfeil: File in den im File-Menu rechts ge&ouml;ffneten Ordner uploaden\n",
    "- File Menu\n",
    "  - New Launcher oder blaues +: neues Notebook, Console, Python File,... &ouml;ffnen<br>\n",
    "    mit rechter Maustaste auf Tab mit neuen Notebook klicken und umbenennen.\n",
    "- Edit Menu\n",
    "  - Clear Ouptputs, Clear All Outputs, Move Cells Up, Move Cells Down\n",
    "- Kernel Menu  \n",
    "  - Interrupt Kernel (stoppt die Ausf&uuml;hrung von Code\n",
    "  - Restart Kernel (Reset all, &auml;hnlicher Effekt wie schliessen und wieder &ouml;ffnen)\n",
    "- Keyboard Shortcuts \n",
    "  - Control-Z: macht letzte &Auml;nderung r&uuml;ckg&auml;ngig\n",
    "  - Control-S: save\n",
    "  - Control-B: toggle File-Window\n",
    "  - X vor Zelle: l&ouml;scht die Zelle\n",
    "  - shift-Enter in Zelle: f&uuml;hrt den Code in der Zelle aus\n",
    "  - Control-/: Kommentiert/ unkommentiert selektierten Code"
   ]
  },
  {
   "cell_type": "markdown",
   "id": "63d2224c-c46c-46be-93d9-eeb80cc79be5",
   "metadata": {},
   "source": [
    "### Markdown und Code Zellen\n",
    "- Markdown-Zellen stellen Markdown Text und etwas HTML dar (diese Zelle ist eine Markdown-Zelle)<br>\n",
    "  <a href = 'https://www.ibm.com/docs/en/db2-event-store/2.0.0?topic=notebooks-markdown-jupyter-cheatsheet'>markdown-jupyter-cheatsheet</a>\n",
    "- Code-Zellen enthalten ausf&uuml;uhrbaren Python Code"
   ]
  },
  {
   "cell_type": "markdown",
   "id": "25b9a5cc-a687-4450-b850-ecaa0ccd7f21",
   "metadata": {},
   "source": [
    "### Cell Magic und Zeilen Magic (siehe auch <a href='https://ipython.readthedocs.io/en/stable/interactive/magics.html'>Jupyterlab Dokumentation</a>)\n",
    "- Cell-Magic: Befehle der Form ```%%command``` in der ersten Zeile der Zelle\n",
    "- Zeilenmagic: Befehle der Form ```%command```"
   ]
  },
  {
   "cell_type": "code",
   "execution_count": null,
   "id": "e588d874-495e-4709-9240-b54cc66c931e",
   "metadata": {},
   "outputs": [],
   "source": [
    "%%timeit # Code wird 1'000'000 mal ausgefuehrt, Ausfuehrungszeit wird gemessen\n",
    "res = 0\n",
    "for i in range(100):\n",
    "    res += i"
   ]
  },
  {
   "cell_type": "code",
   "execution_count": null,
   "id": "46cc6585-aaa7-40a1-879c-f0926aa45d29",
   "metadata": {},
   "outputs": [],
   "source": [
    "%%timeit -n 500000 # Code wird 500'000 mal ausgefuehrt.\n",
    "sum([i for i in range(100)])"
   ]
  },
  {
   "cell_type": "code",
   "execution_count": null,
   "id": "c135a614-1f65-4469-ac9e-1e47347c3b36",
   "metadata": {},
   "outputs": [],
   "source": [
    "%%file hello.py \n",
    "# Inhalt dieser Zelle wird im File hello.py gespeichert\n",
    "print('hello)"
   ]
  },
  {
   "cell_type": "code",
   "execution_count": null,
   "id": "23b62541-70e6-414e-b274-f7b2d21b7a5e",
   "metadata": {},
   "outputs": [],
   "source": [
    "%pwd #print working directory "
   ]
  },
  {
   "cell_type": "code",
   "execution_count": null,
   "id": "e395dd51-5b2d-424a-9989-cc92a60ee32c",
   "metadata": {},
   "outputs": [],
   "source": [
    "%run hello.py #fuehrt hello.py im Notebook aus."
   ]
  },
  {
   "cell_type": "code",
   "execution_count": 3,
   "id": "1df6b143-97ae-433a-ae53-9bd8d1a0b82f",
   "metadata": {},
   "outputs": [],
   "source": [
    "%load hello.py"
   ]
  },
  {
   "cell_type": "markdown",
   "id": "d662ca5c-ed9d-4846-a322-de6ec3028f85",
   "metadata": {},
   "source": [
    "### Shell Commands mit ```!command``` ausf&uuml;hren"
   ]
  },
  {
   "cell_type": "code",
   "execution_count": null,
   "id": "0099b8ce-3b91-463e-99c0-a39190dd9bf5",
   "metadata": {},
   "outputs": [],
   "source": [
    "!cat hello.py #bash shell Befehl: gibt Inhalt von hello.py aus"
   ]
  },
  {
   "cell_type": "code",
   "execution_count": null,
   "id": "7d91ea5a-2ba4-4e89-8aff-a8f8a0186318",
   "metadata": {},
   "outputs": [],
   "source": [
    "!python hello.py #Veranlasst den Python-Interpreter das File hello.py auszufuehren "
   ]
  },
  {
   "cell_type": "code",
   "execution_count": null,
   "id": "fc511543-5c79-4ea5-a6c4-d35d93c3517f",
   "metadata": {},
   "outputs": [],
   "source": [
    "!ls *.ipynb # alle .ipynb Files im aktuellen Verzeichnis anzeigen"
   ]
  },
  {
   "cell_type": "code",
   "execution_count": null,
   "id": "922880ee-3fa1-403c-8735-f10c8a03aad9",
   "metadata": {},
   "outputs": [],
   "source": []
  }
 ],
 "metadata": {
  "kernelspec": {
   "display_name": "Python 3 (ipykernel)",
   "language": "python",
   "name": "python3"
  },
  "language_info": {
   "codemirror_mode": {
    "name": "ipython",
    "version": 3
   },
   "file_extension": ".py",
   "mimetype": "text/x-python",
   "name": "python",
   "nbconvert_exporter": "python",
   "pygments_lexer": "ipython3",
   "version": "3.9.10"
  }
 },
 "nbformat": 4,
 "nbformat_minor": 5
}
