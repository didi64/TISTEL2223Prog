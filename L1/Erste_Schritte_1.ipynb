{
 "cells": [
  {
   "cell_type": "markdown",
   "id": "77e2c3ef-8d24-489a-a129-101e851a34c2",
   "metadata": {},
   "source": [
    "### Erste Schritte in Python"
   ]
  },
  {
   "cell_type": "markdown",
   "id": "b8d9a6d7-1fb2-48b7-aed3-d8a6dcc2c25e",
   "metadata": {},
   "source": [
    "Dr&uuml;cke **shift+enter** um den Code in nachstehender Zelle auszuf&uuml;hren"
   ]
  },
  {
   "cell_type": "code",
   "execution_count": null,
   "id": "54d197bd-325e-4e20-917e-4606fa07dc78",
   "metadata": {},
   "outputs": [],
   "source": [
    "# A comment: a first python program\n",
    "print('hello, world!')"
   ]
  },
  {
   "cell_type": "code",
   "execution_count": null,
   "id": "d7ddd2c8-1007-4f9f-b551-65e11fff3010",
   "metadata": {
    "tags": []
   },
   "outputs": [],
   "source": [
    "help(print)"
   ]
  },
  {
   "cell_type": "code",
   "execution_count": null,
   "id": "3924ea16-4c16-49eb-893c-bad1f93b2d20",
   "metadata": {},
   "outputs": [],
   "source": [
    "print('hello', end =', ') #fuege ', ', statt newline ('\\n') zum String 'hello' hinzu\n",
    "print('world!')"
   ]
  },
  {
   "cell_type": "markdown",
   "id": "ae2154dc-aca9-41ca-a45c-7a1090d74602",
   "metadata": {},
   "source": [
    "### Python Strings\n",
    "- siehe auch https://docs.python.org/3/tutorial/introduction.html#strings"
   ]
  },
  {
   "cell_type": "markdown",
   "id": "8f5191ab-4f0d-4464-ba42-652b7822d465",
   "metadata": {},
   "source": [
    "### Aufgabe 1\n",
    "Definiere einen String ```s```, so dass ```print(s)``` den Output\n",
    "```\"'\\``` erzeugt."
   ]
  },
  {
   "cell_type": "markdown",
   "id": "3f74b210-e132-4067-8215-6c000fa488fe",
   "metadata": {},
   "source": [
    "**L&ouml;sung**"
   ]
  },
  {
   "cell_type": "code",
   "execution_count": null,
   "id": "a3c1658c-6136-4978-8e8a-199bfc4fb304",
   "metadata": {
    "tags": []
   },
   "outputs": [],
   "source": [
    "# Variante 1\n",
    "s = '\"\\'\\\\' # \" fuer \", \\' fuer ', und \\\\ fuer \\\n",
    "print(s)"
   ]
  },
  {
   "cell_type": "code",
   "execution_count": null,
   "id": "a7c980ea-0ab6-4e8d-b540-f5b717051c56",
   "metadata": {},
   "outputs": [],
   "source": [
    "# Variante 2\n",
    "s = '\"' + \"'\" + '\\\\'\n",
    "print(s)"
   ]
  },
  {
   "cell_type": "markdown",
   "id": "f6141678-ebc9-4836-b1e1-266b474b4309",
   "metadata": {},
   "source": [
    "### Integers, Floats und Strings\n",
    "Python ist dynamisch getypt, der Typ einer Variablen ist bestimmt durch ihren Wert\n",
    "- ```x=3``` ist ein Integer\n",
    "- ```x=3.0``` ist ein Float\n",
    "- ```x='hallo'``` ist ein String\n",
    "- ```x=[1,2,3]``` ist eine Liste"
   ]
  },
  {
   "cell_type": "code",
   "execution_count": null,
   "id": "5acfdd83-5bbc-4284-a674-6ce776c641af",
   "metadata": {},
   "outputs": [],
   "source": [
    "x=3\n",
    "type(x) # gib den Typ der Variable x an.# type(x) ist ein Ausdruck. \n",
    "        # ist der letzte Ausdruck einer Zelle ein Ausdruck, \n",
    "        # wird dieser automatisch ausgegeben."
   ]
  },
  {
   "cell_type": "markdown",
   "id": "557fb566-7ff5-4710-ba01-10e9bc85e922",
   "metadata": {},
   "source": [
    "### Aufgabe 2\n",
    "Gib wie oben den Typ eines Floats, Strings und List aus."
   ]
  },
  {
   "cell_type": "code",
   "execution_count": null,
   "id": "fbd3bb47-6d33-46ff-876b-1afa5e6342cd",
   "metadata": {},
   "outputs": [],
   "source": []
  },
  {
   "cell_type": "markdown",
   "id": "11c8767d-5ebc-4755-aee8-ba456eef8f22",
   "metadata": {},
   "source": [
    "### Umwandeln eines Types in einen anderen (Cast)\n",
    "- ```int(x)``` liefert einen Integer, falls eine Conversion moeglich ist\n",
    "- ```float(x)``` liefert einen Float, falls moeglich\n",
    "- ```str(x)``` liefert einen String, falls moeglich\n",
    "- ```list(x)``` liefert eine Liste, falls moeglich"
   ]
  },
  {
   "cell_type": "code",
   "execution_count": null,
   "id": "8815f540-20e1-4f8a-a10d-73e1793b743f",
   "metadata": {},
   "outputs": [],
   "source": [
    "x  = 1\n",
    "y  = 3.5\n",
    "s0 = '3'\n",
    "s1 = '3.0'\n",
    "s2 = 'drei'\n",
    "l = [1,2,3]"
   ]
  },
  {
   "cell_type": "markdown",
   "id": "2d8d4f41-02a8-48e8-9fdd-9e104ffd2f3d",
   "metadata": {},
   "source": [
    "### Aufgabe 3\n",
    "Teste, welche der obigen Typen sich in welche anderen Typen umwandeln lassen.\n",
    "2 Beispiele sind bereits gegeben."
   ]
  },
  {
   "cell_type": "code",
   "execution_count": null,
   "id": "baa86b37-a971-4e67-8df8-b1a6b8becc73",
   "metadata": {},
   "outputs": [],
   "source": [
    "int(s0)"
   ]
  },
  {
   "cell_type": "code",
   "execution_count": null,
   "id": "d6ceb717-6805-4659-b767-9899c858c3bc",
   "metadata": {},
   "outputs": [],
   "source": [
    "list(s2)"
   ]
  },
  {
   "cell_type": "markdown",
   "id": "01f4bf56-fa71-46a6-a5dc-079a975e1432",
   "metadata": {},
   "source": [
    "### Operationen mit Integers und Floats\n",
    "- Integers: '''x+y, x-y, x*y, x**y, x/y, x//y, x%y```\n",
    "  - Teste was diese Operationen machen. Welcher Typ hat das Resultat? \n",
    "  - Welche Operationen funktionieren auf bei Floats, Strings und Listen?"
   ]
  },
  {
   "cell_type": "code",
   "execution_count": null,
   "id": "0dd9d292-1472-4e14-bca1-ca7b997f321e",
   "metadata": {},
   "outputs": [],
   "source": [
    "3+4"
   ]
  },
  {
   "cell_type": "markdown",
   "id": "88b73650-2f33-4d56-85af-e1cd79d87027",
   "metadata": {},
   "source": [
    "### Teile das Notebook mit mir\n",
    "- Falls nicht bereits getan, f&uuml;hre folgende Befehle in der Notebook Console aus und ersetze\n",
    "  Vorname Nachname entsprechend.\n",
    "```\n",
    "$ cd work\n",
    "$ echo \"Vorname Nachname\" > .username.txt\n",
    "```\n",
    "\n",
    "  \n",
    "- Dr&uuml;cke Control-S um das Notebook zu speichern.  \n",
    "  F&uuml;hre den Befehl ```!share``` in einer neuen Zelle aus."
   ]
  },
  {
   "cell_type": "code",
   "execution_count": null,
   "id": "cd4b1444-7575-4b5c-9acf-c75798691e6c",
   "metadata": {},
   "outputs": [],
   "source": [
    "!share"
   ]
  }
 ],
 "metadata": {
  "kernelspec": {
   "display_name": "Python 3 (ipykernel)",
   "language": "python",
   "name": "python3"
  },
  "language_info": {
   "codemirror_mode": {
    "name": "ipython",
    "version": 3
   },
   "file_extension": ".py",
   "mimetype": "text/x-python",
   "name": "python",
   "nbconvert_exporter": "python",
   "pygments_lexer": "ipython3",
   "version": "3.9.10"
  }
 },
 "nbformat": 4,
 "nbformat_minor": 5
}
