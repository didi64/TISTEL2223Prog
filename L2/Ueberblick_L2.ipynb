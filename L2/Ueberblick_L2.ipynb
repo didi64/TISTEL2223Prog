{
 "cells": [
  {
   "cell_type": "markdown",
   "id": "a355e44e-db5e-4f5b-8b90-8e9ff03a4378",
   "metadata": {},
   "source": [
    "### Lektion 2, &Uuml;berblick und weitere Resourcen"
   ]
  },
  {
   "cell_type": "markdown",
   "id": "a8e40f2e-9101-40e5-b307-06b7cf65a2bf",
   "metadata": {},
   "source": [
    "Python ist eine interpretierte und dynamisch getypte Sprache\n",
    "\n",
    "Syntax und Semantik \n",
    "- [Syntax, W3Schools](https://www.w3schools.com/python/python_syntax.asp)\n",
    "\n",
    "Input/Output, formatierte Ausgabe\n",
    "- [Strings, W3Schools](https://www.w3schools.com/python/python_strings.asp)\n",
    "- [Strings, Python-Tutorial](https://docs.python.org/3/tutorial/introduction.html#strings)\n",
    "- [Input, W3Schools](https://www.w3schools.com/python/ref_func_input.asp)\n",
    "- [string.format, W3Schools](https://www.w3schools.com/python/ref_string_format.asp)\n",
    "\n",
    "Variabeln\n",
    "- [Variabeln, W3Schools](https://www.w3schools.com/python/python_variables_names.asp)\n",
    "\n",
    "Multiassignments, Packing, Unpacking\n",
    "- [Multiassignments, W3Schools](https://www.w3schools.com/python/python_variables_multiple.asp)\n",
    "- [Unpacking tuples, W3Schools](https://www.w3schools.com/python/python_tuples_unpack.asp)\n",
    "\n",
    "Basic Types  \n",
    "- [Datatypen, W3Schools](https://www.w3schools.com/python/python_datatypes.asp)"
   ]
  },
  {
   "cell_type": "code",
   "execution_count": null,
   "id": "1fa1a6da-9daa-43e3-9a7e-0c03ecdd6f67",
   "metadata": {},
   "outputs": [],
   "source": []
  }
 ],
 "metadata": {
  "kernelspec": {
   "display_name": "Python 3 (ipykernel)",
   "language": "python",
   "name": "python3"
  },
  "language_info": {
   "codemirror_mode": {
    "name": "ipython",
    "version": 3
   },
   "file_extension": ".py",
   "mimetype": "text/x-python",
   "name": "python",
   "nbconvert_exporter": "python",
   "pygments_lexer": "ipython3",
   "version": "3.9.10"
  }
 },
 "nbformat": 4,
 "nbformat_minor": 5
}
