{
 "cells": [
  {
   "cell_type": "markdown",
   "id": "7bec3a79-4d44-434d-9986-08ab1e50048b",
   "metadata": {},
   "source": [
    "### Syntax und Semantik\n",
    "\n",
    "Die **Syntax** einer Sprache beschreibt die W&ouml;rter und Grammatik der Sprache. \n",
    "Nicht nur nat&uuml;rliche Sprachen (z.B. Deutsch), sondern auch Programmiersprachen wie Python haben eine Grammatik, \n",
    "eine Menge von Regeln welche definieren ob ein Satz korrekt (**wohlgeformt**) ist.\n",
    "\n",
    "Ein Text besteht aus einer Folge von **S&auml;tzen**.\n",
    "Ein Programm ist eine Folge von **Anweisungen** (statements). Einfache Anweisungen sind **Funktionsaufrufe** und\n",
    "**Zuweisungen** (assignments). Zusammengesetzte Anweisungen werden aus [Schl&uuml;sselw&ouml;rtern](https://www.w3schools.com/python/python_ref_keywords.asp) und  Anweisungen konstruiert.\n",
    "\n",
    "\n",
    "- Funktionsaufrufe haben die Form  \n",
    "  `<funktionsname>(<parameter>)`:\n",
    "  \n",
    "```python\n",
    "  some_function()\n",
    "  is_even(4)\n",
    "```\n",
    "  Funktionsaufrufe sind sowohl Ausdr&uuml;cke wie Anweisungen.\n",
    "- Zuweisungen haben die Form  \n",
    "  `<variabelnamen> = <ausdruck>`,  \n",
    "  \n",
    "  \n",
    "```python \n",
    "x = (2 + 3) * 5\n",
    "x = 'foo' + 'bar'\n",
    "x = f()\n",
    "```\n",
    "- Ein Ausdruck (expression) ist \n",
    "  - ein Variabelnamen (identifier),\n",
    "  - ein Literal ( `1`, `'foo'`, `[1,2,3]`, ...)\n",
    "  - ein Funktionsaufruf ( `f()` )\n",
    "  - eine Komination von Ausdr&uuml;cken, welcher ein Wert zugewiesen werden kann (siehe rechte Seite obiger Zuweisungen)\n",
    "\n",
    "- Zusammengesetzte Anweisungen sind z.B. Konstruktionen der Form  \n",
    "\n",
    "```python\n",
    "def <funktionsname>(<parameter>):\n",
    "    <anweisungen>\n",
    "\n",
    "while <bedingung>:\n",
    "    <anweisungen>\n",
    "    \n",
    "```  \n",
    "**Beachte**: In Python ist das Einr&uuml;cken teil der Syntax.\n",
    "Die Codebl&ouml;cke m&uuml;ssen einger&uuml;ckt sein. \n",
    "Der **Standard ist 4 Leerzeichen**.\n",
    "\n",
    "\n",
    "\n",
    "Die **Semantik** beschreibt die Bedeutung von Sprachkonstrukten.\n",
    "Die Semantik eines Programms beschreibt was das Programm tut (wie &auml;ndert sich der Zustand des Prozessors, des Computerspeichers, der Variabeln, ...).\n",
    "Ein Programm ist **semantisch korrekt**, falls es tut was es soll (seiner Spezifikation gen&uuml;gt).\n",
    "\n",
    "\n",
    "**Inkorrekt** geformte Ausdr&uuml;cke und Anweisungen sind **Syntaxfehler**.\n",
    "Syntaxfehler\n",
    "sind einfach zu erkennen und werden vom Interpreter (od. Entwicklungsumgebung) erkannt.<br>\n",
    "**Semantikfehler** sind einerseits Programmteile, die **nicht das Intendierte tun**, andererseits\n",
    "die Verwendung von **nicht definierten** Variablen oder Variablen eines **falschen Typs** in einem Ausdruck.<br>\n",
    "Gewisse **Semantikfehler** werden zur Laufzeit des Programms vom Interpreter bemerkt (undefinierte Variablen, falscher Typ).\n",
    "Ob ein Programm seine Spezifikation erf&uuml;llt ist nicht einfach feststellbar."
   ]
  },
  {
   "cell_type": "markdown",
   "id": "87c86358-d4f8-49a1-9887-9c589d389508",
   "metadata": {},
   "source": [
    "***\n",
    "Beispiele von Syntaxfehlern\n",
    "***"
   ]
  },
  {
   "cell_type": "code",
   "execution_count": 2,
   "id": "4904f357-c621-4061-8fd8-262e0c3cb907",
   "metadata": {},
   "outputs": [
    {
     "ename": "SyntaxError",
     "evalue": "EOL while scanning string literal (2795934499.py, line 1)",
     "output_type": "error",
     "traceback": [
      "\u001b[0;36m  Input \u001b[0;32mIn [2]\u001b[0;36m\u001b[0m\n\u001b[0;31m    x = 'Hallo\u001b[0m\n\u001b[0m              ^\u001b[0m\n\u001b[0;31mSyntaxError\u001b[0m\u001b[0;31m:\u001b[0m EOL while scanning string literal\n"
     ]
    }
   ],
   "source": [
    "x = 'Hallo\n",
    "y = (2 + (3*5)"
   ]
  },
  {
   "cell_type": "code",
   "execution_count": 3,
   "id": "45956a87-4d3f-400a-9e8d-cce64827256a",
   "metadata": {},
   "outputs": [
    {
     "ename": "IndentationError",
     "evalue": "expected an indented block (2222101100.py, line 2)",
     "output_type": "error",
     "traceback": [
      "\u001b[0;36m  Input \u001b[0;32mIn [3]\u001b[0;36m\u001b[0m\n\u001b[0;31m    print('foo')\u001b[0m\n\u001b[0m    ^\u001b[0m\n\u001b[0;31mIndentationError\u001b[0m\u001b[0;31m:\u001b[0m expected an indented block\n"
     ]
    }
   ],
   "source": [
    "def f():\n",
    "print('foo') "
   ]
  },
  {
   "cell_type": "code",
   "execution_count": 4,
   "id": "bb591969-8a66-4e42-81f5-18e5ff090715",
   "metadata": {},
   "outputs": [
    {
     "ename": "SyntaxError",
     "evalue": "invalid syntax (1364318449.py, line 1)",
     "output_type": "error",
     "traceback": [
      "\u001b[0;36m  Input \u001b[0;32mIn [4]\u001b[0;36m\u001b[0m\n\u001b[0;31m    def f()\u001b[0m\n\u001b[0m           ^\u001b[0m\n\u001b[0;31mSyntaxError\u001b[0m\u001b[0;31m:\u001b[0m invalid syntax\n"
     ]
    }
   ],
   "source": [
    "def f()\n",
    "    print('foo')   "
   ]
  },
  {
   "cell_type": "markdown",
   "id": "54f91dea-ce09-4006-8674-018f2df3a456",
   "metadata": {},
   "source": [
    "***\n",
    "Beispiele von Semantikfehlern\n",
    "***"
   ]
  },
  {
   "cell_type": "code",
   "execution_count": 5,
   "id": "cd9b9ed7-5a4a-409d-9c2d-29fcfc521f93",
   "metadata": {},
   "outputs": [
    {
     "ename": "NameError",
     "evalue": "name 'some_undefined_variable' is not defined",
     "output_type": "error",
     "traceback": [
      "\u001b[0;31m---------------------------------------------------------------------------\u001b[0m",
      "\u001b[0;31mNameError\u001b[0m                                 Traceback (most recent call last)",
      "Input \u001b[0;32mIn [5]\u001b[0m, in \u001b[0;36m<cell line: 2>\u001b[0;34m()\u001b[0m\n\u001b[1;32m      1\u001b[0m \u001b[38;5;66;03m# Verwendung einer undefiniterten Variable\u001b[39;00m\n\u001b[0;32m----> 2\u001b[0m \u001b[38;5;28mprint\u001b[39m(\u001b[43msome_undefined_variable\u001b[49m)\n",
      "\u001b[0;31mNameError\u001b[0m: name 'some_undefined_variable' is not defined"
     ]
    }
   ],
   "source": [
    "# Verwendung einer undefiniterten Variable\n",
    "print(some_undefined_variable)"
   ]
  },
  {
   "cell_type": "code",
   "execution_count": 1,
   "id": "cc3c5c07-cafe-46ad-a3a0-bb47a6500854",
   "metadata": {},
   "outputs": [
    {
     "ename": "TypeError",
     "evalue": "can only concatenate str (not \"int\") to str",
     "output_type": "error",
     "traceback": [
      "\u001b[0;31m---------------------------------------------------------------------------\u001b[0m",
      "\u001b[0;31mTypeError\u001b[0m                                 Traceback (most recent call last)",
      "Input \u001b[0;32mIn [1]\u001b[0m, in \u001b[0;36m<cell line: 4>\u001b[0;34m()\u001b[0m\n\u001b[1;32m      1\u001b[0m \u001b[38;5;66;03m# Verwendung einer Variable von falschen Typ\u001b[39;00m\n\u001b[1;32m      2\u001b[0m \u001b[38;5;66;03m# kann nicht String und Integer addieren \u001b[39;00m\n\u001b[1;32m      3\u001b[0m x \u001b[38;5;241m=\u001b[39m \u001b[38;5;124m'\u001b[39m\u001b[38;5;124m2\u001b[39m\u001b[38;5;124m'\u001b[39m\n\u001b[0;32m----> 4\u001b[0m \u001b[38;5;28mprint\u001b[39m(\u001b[43mx\u001b[49m\u001b[43m \u001b[49m\u001b[38;5;241;43m+\u001b[39;49m\u001b[43m \u001b[49m\u001b[38;5;241;43m2\u001b[39;49m)\n",
      "\u001b[0;31mTypeError\u001b[0m: can only concatenate str (not \"int\") to str"
     ]
    }
   ],
   "source": [
    "# Verwendung einer Variable von falschen Typ,\n",
    "# kann nicht String und Integer addieren \n",
    "x = '2'\n",
    "print(x + 2)"
   ]
  },
  {
   "cell_type": "code",
   "execution_count": 10,
   "id": "350b52fb-2d80-45fa-aa35-2d8687022b07",
   "metadata": {},
   "outputs": [
    {
     "data": {
      "text/plain": [
       "10"
      ]
     },
     "execution_count": 10,
     "metadata": {},
     "output_type": "execute_result"
    }
   ],
   "source": [
    "# off by 1 error\n",
    "def summe_der_zahlen_von_1_bis_n(n):\n",
    "    res = 0\n",
    "    for i in range(n):\n",
    "        res = res + i\n",
    "    return res    \n",
    "\n",
    "summe_der_zahlen_von_1_bis_n(5) # gibt 10, richtig ist 15"
   ]
  },
  {
   "cell_type": "markdown",
   "id": "ccbf8262-0193-4394-956d-3cadd33ffecb",
   "metadata": {},
   "source": [
    "### Aufgabe\n",
    "Korrigiere obige Fehler."
   ]
  },
  {
   "cell_type": "code",
   "execution_count": null,
   "id": "27b9297c-df67-4e47-a7c2-c80f53b9ecf5",
   "metadata": {},
   "outputs": [],
   "source": []
  }
 ],
 "metadata": {
  "kernelspec": {
   "display_name": "Python 3 (ipykernel)",
   "language": "python",
   "name": "python3"
  },
  "language_info": {
   "codemirror_mode": {
    "name": "ipython",
    "version": 3
   },
   "file_extension": ".py",
   "mimetype": "text/x-python",
   "name": "python",
   "nbconvert_exporter": "python",
   "pygments_lexer": "ipython3",
   "version": "3.9.10"
  }
 },
 "nbformat": 4,
 "nbformat_minor": 5
}
