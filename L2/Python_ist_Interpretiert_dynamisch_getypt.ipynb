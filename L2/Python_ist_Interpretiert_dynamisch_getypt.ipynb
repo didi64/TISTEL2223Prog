{
 "cells": [
  {
   "cell_type": "markdown",
   "id": "9de98e30-8874-4bfd-ac54-ff36624f6d8e",
   "metadata": {},
   "source": [
    "### Python ist eine **interpretierte** und **dynamisch getypte** Sprache\n",
    "\n",
    "- In statisch getypten Sprachen kann man nicht einfach Variablen Werte zuweisen.\n",
    "Variabeln m&uuml;ssen vorg&auml;ngig deklariert werden. \n",
    "Es muss festgelegt werden, Objekte welchen Typs in einer Variable gespeichert werden k&ouml;nnen, z.B.\n",
    "Integers, Strings oder Listen.\n",
    "\n",
    "- In Python (und anderen dynamisch getypten Sprachen) \n",
    "kann man einfach Variablen Werte/Objekte zuweisen.\n",
    "Der Typ der Variable ist dann der Typ des gespeicherten/referenzierten Objekts.\n",
    "Der Typ einer Variable kann sich w&auml;hrend der Laufzeit der Programms &auml;andern.\n",
    "\n",
    "\n",
    "Man unterscheidet zwischen \n",
    "**interpretierten** und **kompilierten** Programmiersprachen.\n",
    "\n",
    "Beispiele von interpretierten und kompilierten Sprachen:\n",
    "- [interpretierte Sprachen](https://en.wikipedia.org/wiki/List_of_programming_languages_by_type#Interpreted_languages)\n",
    "\n",
    "- [kompilierten Sprachen](https://en.wikipedia.org/wiki/List_of_programming_languages_by_type#Compiled_languages)\n",
    "\n",
    "Einige Unterschiede: siehe z.B. [geeksforgeeks.org](https://www.geeksforgeeks.org/difference-between-compiled-and-interpreted-language) und [gnulinux.ch](https://gnulinux.ch/interpretiert-versus-kompiliert)"
   ]
  },
  {
   "cell_type": "code",
   "execution_count": null,
   "id": "45c5ff4e-81c2-4da4-b5b5-b8cfea05aeb7",
   "metadata": {},
   "outputs": [],
   "source": []
  }
 ],
 "metadata": {
  "kernelspec": {
   "display_name": "Python 3 (ipykernel)",
   "language": "python",
   "name": "python3"
  },
  "language_info": {
   "codemirror_mode": {
    "name": "ipython",
    "version": 3
   },
   "file_extension": ".py",
   "mimetype": "text/x-python",
   "name": "python",
   "nbconvert_exporter": "python",
   "pygments_lexer": "ipython3",
   "version": "3.9.10"
  }
 },
 "nbformat": 4,
 "nbformat_minor": 5
}
