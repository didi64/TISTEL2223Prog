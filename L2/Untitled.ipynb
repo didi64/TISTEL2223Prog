{
 "cells": [
  {
   "cell_type": "code",
   "execution_count": null,
   "id": "c86f1705-075c-4580-902f-63f3b4fadfde",
   "metadata": {},
   "outputs": [],
   "source": [
    "fo"
   ]
  }
 ],
 "metadata": {
  "kernelspec": {
   "display_name": "Python 3 (ipykernel)",
   "language": "python",
   "name": "python3"
  },
  "language_info": {
   "codemirror_mode": {
    "name": "ipython",
    "version": 3
   },
   "file_extension": ".py",
   "mimetype": "text/x-python",
   "name": "python",
   "nbconvert_exporter": "python",
   "pygments_lexer": "ipython3",
   "version": "3.9.10"
  }
 },
 "nbformat": 4,
 "nbformat_minor": 5
}
