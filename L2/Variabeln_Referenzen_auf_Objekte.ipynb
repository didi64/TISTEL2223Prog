{
 "cells": [
  {
   "cell_type": "markdown",
   "id": "7cbf3f52-f247-49e8-8844-ddbfdaf91ade",
   "metadata": {},
   "source": [
    "### Variabelname / Bezeichner (Identifier)\n",
    "**Klicke im  Run -> Run all Cells** um alle Bilder zu laden\n",
    "- g&uuml;ltige Variabelnamen enthalten folgende Zeichen:\n",
    "  - ```_``` (underscore)\n",
    "  - ```0..9```  (Ziffern)\n",
    "  - ```A..Za..z``` (Klein- und Grossbuchstaben)  \n",
    "- g&uuml;ltige Variabelnamen d&uuml;rfen **nicht  mit einer Ziffer beginnen** \n",
    "- g&uuml;ltige Variabelnamen d&uuml;rfen **keine reserviertes Wort** (keyword) sein: ```False, None, True, ..., def, for, if, then, ...``` sein.\n",
    "  "
   ]
  },
  {
   "cell_type": "markdown",
   "id": "162f93ae-dcac-4388-b601-57cba651b610",
   "metadata": {},
   "source": [
    "**Liste aller reservierten W&ouml;rter**\n",
    "```['False',\n",
    " 'None',\n",
    " 'True',\n",
    " 'and',\n",
    " 'as',\n",
    " 'assert',\n",
    " 'async',\n",
    " 'await',\n",
    " 'break',\n",
    " 'class',\n",
    " 'continue',\n",
    " 'def',\n",
    " 'del',\n",
    " 'elif',\n",
    " 'else',\n",
    " 'except',\n",
    " 'finally',\n",
    " 'for',\n",
    " 'from',\n",
    " 'global',\n",
    " 'if',\n",
    " 'import',\n",
    " 'in',\n",
    " 'is',\n",
    " 'lambda',\n",
    " 'nonlocal',\n",
    " 'not',\n",
    " 'or',\n",
    " 'pass',\n",
    " 'raise',\n",
    " 'return',\n",
    " 'try',\n",
    " 'while',\n",
    " 'with',\n",
    " 'yield']```"
   ]
  },
  {
   "cell_type": "markdown",
   "id": "cf0910fb-e6b3-460b-bab2-ffc8f1396ff0",
   "metadata": {},
   "source": [
    "### Einige Konventionen zur Wahl von Variabelnamen\n",
    "Das Einhalten von Konventionen erleichtert das Lesen von Code und hilft, **unbeabsichtigtes &Uuml;berschreiben von \n",
    "bereits definierten Variabeln** zu vermeiden.\n",
    "\n",
    "- **nicht** mit **```_```** beginnen!  \n",
    "Variabelnamen, die mit ```_``` beginnen, sind **f&uuml;r spezielle Zwecke reserviert**\n",
    "- (normale) Variabeln: **beschreibend**, klein, snake_case.  \n",
    "  `books, author, is_even, ... `\n",
    "- Laufvariablen: F&uuml;r Integers: ```i,j,k,n,...```, f&uuml;r Floats: ```x,y,z,...```, f&uuml;r Zeichen: ```ch```\n",
    "- Konstanten, d.h. Variablen, deren Wert nicht modifiziert wird: GROSS, SNAKE_CASE:  \n",
    "  `PI = 3.1415926535`, `MAX_LEN = 20`, `WINDOW_SIZE = (300, 200)`\n",
    "- Modulnamen: klein, snake_case.  \n",
    "  `turtle, some_module, ...`\n",
    "- Klassen: Gross, CamelCase.  \n",
    "  `Turtle, SyntaxError, MyClass, ...`"
   ]
  },
  {
   "cell_type": "markdown",
   "id": "782b1c54-781c-49d6-8ef0-f02e65b4f12e",
   "metadata": {},
   "source": [
    "***\n",
    "**Beispiele**\n",
    "***"
   ]
  },
  {
   "cell_type": "code",
   "execution_count": 1,
   "id": "7c03e8f7-0e72-4c88-ab5a-880f5e958506",
   "metadata": {},
   "outputs": [
    {
     "name": "stdout",
     "output_type": "stream",
     "text": [
      "0, 1, 2, 3, 4, "
     ]
    }
   ],
   "source": [
    "#Laufvariablen\n",
    "for i in range(5):\n",
    "    print(i, end = ', ')"
   ]
  },
  {
   "cell_type": "code",
   "execution_count": 2,
   "id": "e0da1b27-f322-4502-93e1-29cd097e8cb0",
   "metadata": {},
   "outputs": [
    {
     "name": "stdout",
     "output_type": "stream",
     "text": [
      "a, b, c, "
     ]
    }
   ],
   "source": [
    "for ch in 'abc':\n",
    "    print(ch, end = ', ')"
   ]
  },
  {
   "cell_type": "code",
   "execution_count": 3,
   "id": "6942112b-0f18-445a-aa97-bb91c6e57cd5",
   "metadata": {},
   "outputs": [
    {
     "data": {
      "text/plain": [
       "True"
      ]
     },
     "execution_count": 3,
     "metadata": {},
     "output_type": "execute_result"
    }
   ],
   "source": [
    "# Variabelname fuer Funktion\n",
    "def is_even(n):\n",
    "    return n % 2 == 0\n",
    "\n",
    "is_even(2)    "
   ]
  },
  {
   "cell_type": "code",
   "execution_count": 4,
   "id": "321c916d-9e36-4f34-8b05-f9e36622b37f",
   "metadata": {},
   "outputs": [
    {
     "name": "stdout",
     "output_type": "stream",
     "text": [
      "NR  TITLE               AUTHOR\n",
      "============================================\n",
      "1.  Moby-Dick           Melville\n",
      "2.  Schuld und Sühne    Dostojewski\n"
     ]
    }
   ],
   "source": [
    "# Constants\n",
    "IDX_WIDTH = 4\n",
    "COL_WIDTH = 20\n",
    "\n",
    "#list of Books\n",
    "books = [('Moby-Dick', 'Melville'), ('Schuld und Sühne', 'Dostojewski')]\n",
    "\n",
    "print('{idx}{col1}{col2}'.\\\n",
    "      format(idx = 'NR'.ljust(IDX_WIDTH),\n",
    "             col1 = 'TITLE'.ljust(COL_WIDTH),\n",
    "             col2 = 'AUTHOR')\n",
    "     )\n",
    "\n",
    "print((IDX_WIDTH + 2*COL_WIDTH) * '=')\n",
    "for i, book in enumerate(books):\n",
    "    nth    = str(i+1) + '.'\n",
    "    title  = book[0]\n",
    "    author = book[1]\n",
    "    print('{nr}{title}{author}'.\\\n",
    "          format(nr     = nth.ljust(IDX_WIDTH),\\\n",
    "                 title  = title.ljust(COL_WIDTH),\\\n",
    "                 author = author)\n",
    "         )"
   ]
  },
  {
   "cell_type": "markdown",
   "id": "760bceae-5a70-4d0c-8ea8-e59b737e6c2f",
   "metadata": {},
   "source": [
    "*** "
   ]
  },
  {
   "cell_type": "code",
   "execution_count": 5,
   "id": "314f8c26-8238-4751-a087-01a782f51d55",
   "metadata": {
    "jupyter": {
     "source_hidden": true
    },
    "tags": []
   },
   "outputs": [
    {
     "data": {
      "text/markdown": [
       "### Variabeln Werte (Referenzen auf Objekte) zuweisen, auf Objekte zugreifen  \n",
       "Sieht der Python Interpreter eine Anweisung (statement) der Form  \n",
       "\n",
       "> `x = 'Ein String'`  \n",
       "\n",
       "so kreiert er ein Objekt vom Typ `str` und legt dies an einer bestimmetn Adresse im Speicher ab. Diese Adresse (Referenz) wird in der Variable mit Namen ```x``` gespeichert. \n",
       "Mit diesem Namen kann man das Objekt ansprechen:\n",
       "\n",
       "-  `print(x)` (gibt das von  `x` referenzierte Objekt aus)\n",
       "- `y = x` (die Variable mit Namen `y` referenziert nun das gleiche Objekt wie ```x```)\n",
       "\n",
       "\n",
       "**<center>Situation nach `x='abc', y = x`</center>**\n",
       "<img src='../../TISTEL2223Prog/images/variables1.png'>\n",
       "\n",
       "\n",
       "Je nach Typ eines Objektes stehen verschiedene Methoden zur Verf&uuml;gung, welche man\n",
       "auf das Objekt anwenden kann. Sieht der Python Interpreter eine Anweisung der Form\n",
       "`x.upper()` geschieht in etwas Folgendes:\n",
       "\n",
       "- Der Typ von `x` (dem von `x` referenzierten Objekt) wird ermittelt (in diesem Beispiel `str`)\n",
       "- Es wrid gepr&uuml;ft, ob der Typ `str` eine Methode `upper` hat\n",
       "  - Falls ja, wird diese Methode auf `x` angewandt, d.h.\n",
       "  `str.upper(x)` wird aufgerufen.\n",
       "  \n",
       "  - Falls nein, wird die eine Fehlermeldung ausgegeben, z.B.\n",
       "    `x.foo()` erzeugt die Fehlermeldung \n",
       "    `AttributeError: 'str' object has no attribute 'foo'`\n",
       "\n",
       "\n",
       "-  `x.upper()` ruft die Methode `str.upper(x)` aus (welche eine neues Objekt vom Typ `str` zur&uuml;ck gibt).\n",
       "- `x[0]` ruft die Methode `str.__getitem__(x,0)` aus\n",
       "(welche das erste Zeichen des Strings `x` zur&uuml;ck gibt)  \n",
       "- `x + x` ruft die Methode `str.__add__(x,x)` aus, welche\n",
       "einen neuen String zur&uuml;ck gibt, `x` konkateniert mit 'x'\n",
       "\n",
       "**<center>Situation nach `text='abc'`</center>**\n",
       "<img src='../../TISTEL2223Prog/images/variables2.png'>\n"
      ],
      "text/plain": [
       "<IPython.core.display.Markdown object>"
      ]
     },
     "execution_count": 5,
     "metadata": {},
     "output_type": "execute_result"
    }
   ],
   "source": [
    "from IPython.display import Image, Markdown\n",
    "import hacks\n",
    "imgs = ['images/variables1.png', 'images/variables2.png']\n",
    "imgs = hacks.fix_paths(imgs)\n",
    "md='''\\\n",
    "### Variabeln Werte (Referenzen auf Objekte) zuweisen, auf Objekte zugreifen  \n",
    "Sieht der Python Interpreter eine Anweisung (statement) der Form  \n",
    "\n",
    "> `x = 'Ein String'`  \n",
    "\n",
    "so kreiert er ein Objekt vom Typ `str` und legt dies an einer bestimmetn Adresse im Speicher ab. Diese Adresse (Referenz) wird in der Variable mit Namen ```x``` gespeichert. \n",
    "Mit diesem Namen kann man das Objekt ansprechen:\n",
    "\n",
    "-  `print(x)` (gibt das von  `x` referenzierte Objekt aus)\n",
    "- `y = x` (die Variable mit Namen `y` referenziert nun das gleiche Objekt wie ```x```)\n",
    "\n",
    "\n",
    "**<center>Situation nach `x='abc', y = x`</center>**\n",
    "<img src='{}'>\n",
    "\n",
    "\n",
    "Je nach Typ eines Objektes stehen verschiedene Methoden zur Verf&uuml;gung, welche man\n",
    "auf das Objekt anwenden kann. Sieht der Python Interpreter eine Anweisung der Form\n",
    "`x.upper()` geschieht in etwas Folgendes:\n",
    "\n",
    "- Der Typ von `x` (dem von `x` referenzierten Objekt) wird ermittelt (in diesem Beispiel `str`)\n",
    "- Es wrid gepr&uuml;ft, ob der Typ `str` eine Methode `upper` hat\n",
    "  - Falls ja, wird diese Methode auf `x` angewandt, d.h.\n",
    "  `str.upper(x)` wird aufgerufen.\n",
    "  \n",
    "  - Falls nein, wird die eine Fehlermeldung ausgegeben, z.B.\n",
    "    `x.foo()` erzeugt die Fehlermeldung \n",
    "    `AttributeError: 'str' object has no attribute 'foo'`\n",
    "\n",
    "\n",
    "-  `x.upper()` ruft die Methode `str.upper(x)` aus (welche eine neues Objekt vom Typ `str` zur&uuml;ck gibt).\n",
    "- `x[0]` ruft die Methode `str.__getitem__(x,0)` aus\n",
    "(welche das erste Zeichen des Strings `x` zur&uuml;ck gibt)  \n",
    "- `x + x` ruft die Methode `str.__add__(x,x)` aus, welche\n",
    "einen neuen String zur&uuml;ck gibt, `x` konkateniert mit 'x'\n",
    "\n",
    "**<center>Situation nach `text='abc'`</center>**\n",
    "<img src='{}'>\n",
    "'''.format(*imgs)\n",
    "Markdown(md)"
   ]
  },
  {
   "cell_type": "markdown",
   "id": "78b08992-0ce8-46d8-9d4b-678cce3b9da6",
   "metadata": {},
   "source": [
    "***"
   ]
  },
  {
   "cell_type": "code",
   "execution_count": 6,
   "id": "c634758d-24ba-420b-ae8f-e432a4c100df",
   "metadata": {},
   "outputs": [
    {
     "name": "stdout",
     "output_type": "stream",
     "text": [
      "<method 'upper' of 'str' objects>\n",
      "ABC\n",
      "a\n",
      "abcabc\n"
     ]
    }
   ],
   "source": [
    "x = 'abc'\n",
    "print(str.upper)\n",
    "print(x.upper())\n",
    "print(x[0])\n",
    "print(x + x)"
   ]
  },
  {
   "cell_type": "markdown",
   "id": "c6d00ce5-7bdd-4b4a-8021-d1dbc7c4097d",
   "metadata": {},
   "source": [
    "### Anonyme Objekte\n",
    "- Der Ausdruck (expression) `'foo'` ist ein **Stringliteral**.  \n",
    "  Sieht der Python Interpreter ein Literal, wird ein entsprechendes Objekt erzeugt, auf das man direkt zugreifen kann.\n",
    "-  Die Methode `str.upper` gibt ein Objekt vom Typ `str` zur&uuml;ck, auf das man ebenfalls direkt zugreifen kann, z.B. `'foo'.upper()[0]`\n"
   ]
  },
  {
   "cell_type": "code",
   "execution_count": 7,
   "id": "709ba0eb-3166-4bf0-8d08-f6871b3a6824",
   "metadata": {},
   "outputs": [
    {
     "data": {
      "text/plain": [
       "'F'"
      ]
     },
     "execution_count": 7,
     "metadata": {},
     "output_type": "execute_result"
    }
   ],
   "source": [
    "'foo'.upper()[0]"
   ]
  },
  {
   "cell_type": "code",
   "execution_count": 8,
   "id": "f9c4d65b-2fa2-42a5-9111-89ce580a4ed6",
   "metadata": {},
   "outputs": [
    {
     "data": {
      "text/plain": [
       "'Hello'"
      ]
     },
     "execution_count": 8,
     "metadata": {},
     "output_type": "execute_result"
    }
   ],
   "source": [
    "'heLlO'.lower().capitalize()"
   ]
  },
  {
   "cell_type": "code",
   "execution_count": 9,
   "id": "469f4af0-1928-4368-b682-21f09401fc8f",
   "metadata": {
    "jupyter": {
     "source_hidden": true
    },
    "tags": []
   },
   "outputs": [
    {
     "data": {
      "text/markdown": [
       "### Methoden eines Objekts anzeigen\n",
       "Um z.B. die Methoden des Types ```str``` anzuzeigen, tippe in einer Code-Zelle\n",
       "- `str.` dann \\<tab\\>\n",
       "- `'bla'.` dann \\<tab\\>\n",
       "- `x.` dann \\<tab\\>, falls `x` eine Variable ist, die ein Objekt vom Typ `str` benennt\n",
       "<table>\n",
       "  <tr>\n",
       "    <td><img src='../../TISTEL2223Prog/images/str_methods_1.png'></td>\n",
       "    <td><img src='../../TISTEL2223Prog/images/str_methods_2.png'></td>\n",
       "    <td><img src='../../TISTEL2223Prog/images/str_methods_3.png'></td>\n",
       "  </tr>\n",
       "</table>"
      ],
      "text/plain": [
       "<IPython.core.display.Markdown object>"
      ]
     },
     "execution_count": 9,
     "metadata": {},
     "output_type": "execute_result"
    }
   ],
   "source": [
    "import hacks\n",
    "from IPython.display import Image, Markdown\n",
    "\n",
    "imgs = ['images/str_methods_1.png', 'images/str_methods_2.png', 'images/str_methods_3.png']\n",
    "imgs = hacks.fix_paths(imgs)\n",
    "md1='''\\\n",
    "### Methoden eines Objekts anzeigen\n",
    "Um z.B. die Methoden des Types ```str``` anzuzeigen, tippe in einer Code-Zelle\n",
    "- `str.` dann \\<tab\\>\n",
    "- `'bla'.` dann \\<tab\\>\n",
    "- `x.` dann \\<tab\\>, falls `x` eine Variable ist, die ein Objekt vom Typ `str` benennt\n",
    "<table>\n",
    "  <tr>\n",
    "    <td><img src='{}'></td>\n",
    "    <td><img src='{}'></td>\n",
    "    <td><img src='{}'></td>\n",
    "  </tr>\n",
    "</table>'''.format(*imgs)\n",
    "Markdown(md1)"
   ]
  },
  {
   "cell_type": "markdown",
   "id": "0dde9e1b-ff61-4eec-971d-81035d8a77f2",
   "metadata": {
    "tags": []
   },
   "source": [
    "### Aufgaben\n",
    "- Betrachte den String 'abcde'.  \n",
    "  Benutze die String-Methode `find` um die Position des Zeichens 'c' zu bestimmen.  Rufe die Methode `find` auf verschiedene Arten auf.\n",
    "- Finde nun die Position des Zeichens 'c' mit der Methode\n",
    "`index`. Was ist der Unterschied zwischen `find` und `index`?"
   ]
  },
  {
   "cell_type": "code",
   "execution_count": null,
   "id": "3613a0fd-ba5b-467d-8683-5507d7a158dc",
   "metadata": {},
   "outputs": [],
   "source": []
  }
 ],
 "metadata": {
  "kernelspec": {
   "display_name": "Python 3 (ipykernel)",
   "language": "python",
   "name": "python3"
  },
  "language_info": {
   "codemirror_mode": {
    "name": "ipython",
    "version": 3
   },
   "file_extension": ".py",
   "mimetype": "text/x-python",
   "name": "python",
   "nbconvert_exporter": "python",
   "pygments_lexer": "ipython3",
   "version": "3.9.10"
  }
 },
 "nbformat": 4,
 "nbformat_minor": 5
}
