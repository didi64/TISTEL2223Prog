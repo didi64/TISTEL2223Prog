{
 "cells": [
  {
   "cell_type": "markdown",
   "id": "5daedda9-6860-440b-9c89-3b03c3656e88",
   "metadata": {},
   "source": [
    "### L&ouml;sungen zu den Aufgaben in den Notebooks der Lektion 2"
   ]
  },
  {
   "cell_type": "markdown",
   "id": "df7d9d88-6f17-408f-8f9a-c2c19e56af1e",
   "metadata": {},
   "source": [
    "***\n",
    "Syntax und Semantik\n",
    "***"
   ]
  },
  {
   "cell_type": "code",
   "execution_count": null,
   "id": "49742643-072d-4a97-862b-654aad209b94",
   "metadata": {},
   "outputs": [],
   "source": [
    "x = 'Hallo' \n",
    "y = (2 + (3*5))"
   ]
  },
  {
   "cell_type": "code",
   "execution_count": null,
   "id": "b1c2cd32-06a6-4eda-911d-0782f9ac8684",
   "metadata": {},
   "outputs": [],
   "source": [
    "def f():\n",
    "    print('foo') "
   ]
  },
  {
   "cell_type": "code",
   "execution_count": null,
   "id": "1fca3988-1f78-49f6-95cc-17d17aba288d",
   "metadata": {},
   "outputs": [],
   "source": [
    "# Verwendung einer undefiniterten Variable\n",
    "some_undefined_variable = 'nicht mehr undefiniert'\n",
    "print(some_undefined_variable)"
   ]
  },
  {
   "cell_type": "code",
   "execution_count": null,
   "id": "8dab72ed-6caf-45c7-8268-f1378507dcd8",
   "metadata": {},
   "outputs": [],
   "source": [
    "x = '2'\n",
    "print(x + '2') # 2 Strings addieren\n",
    "print(int(x) + 2) # String x in Integer umwandeln"
   ]
  },
  {
   "cell_type": "code",
   "execution_count": null,
   "id": "adef4e29-a80a-4868-867b-ba0ef77620b1",
   "metadata": {},
   "outputs": [],
   "source": [
    "def summe_der_zahlen_von_1_bis_n(n):\n",
    "    res = 0\n",
    "    for i in range(n + 1):\n",
    "        res = res + i\n",
    "    return res    \n",
    "\n",
    "summe_der_zahlen_von_1_bis_n(5) "
   ]
  },
  {
   "cell_type": "markdown",
   "id": "37b490dd-e36a-4230-812c-af7bb58b52b0",
   "metadata": {},
   "source": [
    "***\n",
    "Input/Output\n",
    "***"
   ]
  },
  {
   "cell_type": "code",
   "execution_count": null,
   "id": "c1c37760-63f4-467e-a23f-ad1796952979",
   "metadata": {},
   "outputs": [],
   "source": [
    "# Frage nach Name und Jahrgang, gib Name und Alter aus\n",
    "name = input('Name:')\n",
    "jahrgang = input('Jahrgang:')\n",
    "alter = 2022 - int(jahrgang)\n",
    "print('{name} ist {alter} Jahre alt'\\\n",
    "      .format(name = name, alter = alter)) "
   ]
  },
  {
   "cell_type": "code",
   "execution_count": null,
   "id": "bed59fb7-c884-4342-915f-0b2ea59320a8",
   "metadata": {},
   "outputs": [],
   "source": [
    "# Variante 1\n",
    "COL_WIDTH = 15\n",
    "print('|{}|{}|'.format('Vorname'.ljust(COL_WIDTH) , 'Nachname'.ljust(COL_WIDTH) ))\n",
    "print('|{}|{}|'.format(COL_WIDTH * '=', COL_WIDTH  * '='))\n",
    "print('|{}|{}|'.format('Hans'.ljust(COL_WIDTH) , 'Muster'.ljust(COL_WIDTH) ))"
   ]
  },
  {
   "cell_type": "code",
   "execution_count": null,
   "id": "6f6b746f-5ea2-4563-a794-6073714b5201",
   "metadata": {},
   "outputs": [],
   "source": [
    "# Variante 2\n",
    "FSTRING = '|{}|{}|'\n",
    "COL_WIDTH = 15\n",
    "\n",
    "HEADER = ('Vorname'.ljust(COL_WIDTH), 'Nachname'.ljust(COL_WIDTH))\n",
    "hline = (COL_WIDTH * '=', COL_WIDTH  * '=')\n",
    "name = ('Hans'.ljust(COL_WIDTH), 'Muster'.ljust(COL_WIDTH))\n",
    "\n",
    "print(FSTRING.format(HEADER[0], HEADER[1]))\n",
    "print(FSTRING.format(hline[0], hline[1]))\n",
    "print(FSTRING.format(name[0], name[1]))"
   ]
  },
  {
   "cell_type": "markdown",
   "id": "29675954-1e3c-4a80-ad4e-5117b5e83fea",
   "metadata": {},
   "source": [
    "***\n",
    "Variabeln und Referenzen auf Objekte  \n",
    "**Unterschied** von `str.find` und `str.index`:   \n",
    "Wird das Zeichen nicht gefunden, gibt `str.find` `-1` zur&uuml;ck, `str.index` erzeugt einen Fehler.\n",
    "***"
   ]
  },
  {
   "cell_type": "code",
   "execution_count": null,
   "id": "387780de-6fe6-4721-9d11-e20ceef694bd",
   "metadata": {},
   "outputs": [],
   "source": [
    "# help(str.find)\n",
    "# help(str.index)\n",
    "s = 'abcde'\n",
    "idx = 'abcde'.find('c')\n",
    "print(idx)\n",
    "\n",
    "idx = s.find('c')\n",
    "print(idx)\n",
    "\n",
    "idx = str.find(s, 'c')\n",
    "print(idx)"
   ]
  },
  {
   "cell_type": "code",
   "execution_count": null,
   "id": "4ec7f5fd-1977-4ef5-ad5c-e769d066843e",
   "metadata": {},
   "outputs": [],
   "source": [
    "'abcde'.find('f')"
   ]
  },
  {
   "cell_type": "code",
   "execution_count": null,
   "id": "bb6497e6-99d0-406d-843a-16eb214b184d",
   "metadata": {},
   "outputs": [],
   "source": [
    "'abcde'.index('f')"
   ]
  },
  {
   "cell_type": "markdown",
   "id": "d036e17c-3f32-428b-8d16-badfb41b4e77",
   "metadata": {},
   "source": [
    "***\n",
    "Basic Types\n",
    "***"
   ]
  },
  {
   "cell_type": "code",
   "execution_count": null,
   "id": "6d4947af-353f-4320-807e-270d6694971d",
   "metadata": {},
   "outputs": [],
   "source": [
    "t = ('erstes Element', 'zweites Element')\n",
    "print(t[1])"
   ]
  },
  {
   "cell_type": "code",
   "execution_count": null,
   "id": "9b3f878c-bee6-40cc-ac38-fb7359385f81",
   "metadata": {},
   "outputs": [],
   "source": [
    "t[1] = 'foo'"
   ]
  },
  {
   "cell_type": "code",
   "execution_count": null,
   "id": "4ead247c-2607-45e7-8843-5909a93d54b2",
   "metadata": {},
   "outputs": [],
   "source": [
    "t_as_list = list(t)\n",
    "t_as_list"
   ]
  },
  {
   "cell_type": "code",
   "execution_count": null,
   "id": "e6fa1335-e00f-4035-8e36-573815710642",
   "metadata": {},
   "outputs": [],
   "source": [
    "t_as_list[1] = 'foo'\n",
    "t_as_list"
   ]
  },
  {
   "cell_type": "code",
   "execution_count": null,
   "id": "11ca46df-0f4c-4653-a204-27115edb7bd1",
   "metadata": {},
   "outputs": [],
   "source": [
    "t1 = tuple(t_as_list)\n",
    "t1"
   ]
  },
  {
   "cell_type": "code",
   "execution_count": null,
   "id": "18a65f03-616e-4139-a9e1-9df21ffbde49",
   "metadata": {},
   "outputs": [],
   "source": [
    "help(list.pop)"
   ]
  },
  {
   "cell_type": "code",
   "execution_count": null,
   "id": "8aab2708-ee25-4ccd-a544-1a69301984e3",
   "metadata": {},
   "outputs": [],
   "source": [
    "lst = [0, 1, 2, 3]\n",
    "print('Liste:', lst)\n",
    "\n",
    "last = lst.pop()\n",
    "print(last)\n",
    "print('Liste:', lst)\n",
    "\n",
    "first = lst.pop(0)\n",
    "print(first)\n",
    "print('Liste:', lst)"
   ]
  }
 ],
 "metadata": {
  "kernelspec": {
   "display_name": "Python 3 (ipykernel)",
   "language": "python",
   "name": "python3"
  },
  "language_info": {
   "codemirror_mode": {
    "name": "ipython",
    "version": 3
   },
   "file_extension": ".py",
   "mimetype": "text/x-python",
   "name": "python",
   "nbconvert_exporter": "python",
   "pygments_lexer": "ipython3",
   "version": "3.9.10"
  }
 },
 "nbformat": 4,
 "nbformat_minor": 5
}
