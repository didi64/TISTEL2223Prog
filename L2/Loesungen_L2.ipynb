{
 "cells": [
  {
   "cell_type": "markdown",
   "id": "5daedda9-6860-440b-9c89-3b03c3656e88",
   "metadata": {},
   "source": [
    "### L&ouml;sungen zu den Aufgaben in den Notebooks der Lektion 2"
   ]
  },
  {
   "cell_type": "markdown",
   "id": "df7d9d88-6f17-408f-8f9a-c2c19e56af1e",
   "metadata": {},
   "source": [
    "***\n",
    "Syntax und Semantik\n",
    "***"
   ]
  },
  {
   "cell_type": "code",
   "execution_count": null,
   "id": "49742643-072d-4a97-862b-654aad209b94",
   "metadata": {},
   "outputs": [],
   "source": [
    "x = 'Hallo' \n",
    "y = (2 + (3*5))"
   ]
  },
  {
   "cell_type": "code",
   "execution_count": null,
   "id": "b1c2cd32-06a6-4eda-911d-0782f9ac8684",
   "metadata": {},
   "outputs": [],
   "source": [
    "def f():\n",
    "    print('foo') "
   ]
  },
  {
   "cell_type": "code",
   "execution_count": 3,
   "id": "1fca3988-1f78-49f6-95cc-17d17aba288d",
   "metadata": {},
   "outputs": [
    {
     "name": "stdout",
     "output_type": "stream",
     "text": [
      "nicht mehr undefiniert\n"
     ]
    }
   ],
   "source": [
    "# Verwendung einer undefiniterten Variable\n",
    "some_undefined_variable = 'nicht mehr undefiniert'\n",
    "print(some_undefined_variable)"
   ]
  },
  {
   "cell_type": "code",
   "execution_count": 4,
   "id": "8dab72ed-6caf-45c7-8268-f1378507dcd8",
   "metadata": {},
   "outputs": [
    {
     "name": "stdout",
     "output_type": "stream",
     "text": [
      "22\n",
      "4\n"
     ]
    }
   ],
   "source": [
    "x = '2'\n",
    "print(x + '2') # 2 Strings addieren\n",
    "print(int(x) + 2) # String x in Integer umwandeln"
   ]
  },
  {
   "cell_type": "code",
   "execution_count": 9,
   "id": "adef4e29-a80a-4868-867b-ba0ef77620b1",
   "metadata": {},
   "outputs": [
    {
     "data": {
      "text/plain": [
       "15"
      ]
     },
     "execution_count": 9,
     "metadata": {},
     "output_type": "execute_result"
    }
   ],
   "source": [
    "def summe_der_zahlen_von_1_bis_n(n):\n",
    "    res = 0\n",
    "    for i in range(n + 1):\n",
    "        res = res + i\n",
    "    return res    \n",
    "\n",
    "summe_der_zahlen_von_1_bis_n(5) "
   ]
  },
  {
   "cell_type": "code",
   "execution_count": null,
   "id": "238321fd-bcc2-444a-9034-5a2ee2265ba6",
   "metadata": {},
   "outputs": [],
   "source": []
  }
 ],
 "metadata": {
  "kernelspec": {
   "display_name": "Python 3 (ipykernel)",
   "language": "python",
   "name": "python3"
  },
  "language_info": {
   "codemirror_mode": {
    "name": "ipython",
    "version": 3
   },
   "file_extension": ".py",
   "mimetype": "text/x-python",
   "name": "python",
   "nbconvert_exporter": "python",
   "pygments_lexer": "ipython3",
   "version": "3.9.10"
  }
 },
 "nbformat": 4,
 "nbformat_minor": 5
}
