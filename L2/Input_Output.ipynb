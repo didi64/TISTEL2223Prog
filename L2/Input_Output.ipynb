{
 "cells": [
  {
   "cell_type": "markdown",
   "id": "d2ad982a-86ee-4260-a31a-713249e2c319",
   "metadata": {},
   "source": [
    "### Input / Output\n",
    "Benutzer zur Eingabe von Text auffordern. Text formatiert ausgeben.\n",
    "- mit `text = input('Dein Text?')` wird der Benutzer aufgefordert, Text einzugeben.  \n",
    "  Der eingegebene Text wird in der Variable `text` als String gespeichert.\n",
    "- `print(x)` gibt das Objekt `x` aus.  \n",
    "- `print(x)` ist die Kurzform von `print(x, end = '\\n')`:  \n",
    "   gibt `x` gefolgt von einem Zeilenumbruch aus.  \n",
    "  `print(x, end = ', ')` gibt `x` gefolgt von `', '` aus.\n",
    "  \n",
    "Mehr zur Funktion [input](https://www.w3schools.com/python/ref_func_input.asp)  \n",
    "Mehr zur Methode [str.format](https://docs.python.org/3/tutorial/inputoutput.html#the-string-format-method)"
   ]
  },
  {
   "cell_type": "markdown",
   "id": "5a4707e4-3f85-4c13-b768-a3f391718d87",
   "metadata": {},
   "source": [
    "***\n",
    "Frage nach einer Zahl und gib ihr Quadrat aus\n",
    "***"
   ]
  },
  {
   "cell_type": "code",
   "execution_count": null,
   "id": "bf004610-2f5c-4b82-a5eb-f43afe25ec07",
   "metadata": {},
   "outputs": [],
   "source": [
    "n = input('Gib einen Integer ein:')\n",
    "# print(type(n))\n",
    "# n = int(n)\n",
    "print('Das Quadrat deiner Zahl ist', n**2)"
   ]
  },
  {
   "cell_type": "markdown",
   "id": "27e7a795-bfd0-4abf-b503-ed65ee0392f6",
   "metadata": {},
   "source": [
    "### Aufgabe\n",
    "Fordere zur Eingabe von Name und Jahrgang auf.  \n",
    "Bereche das Alter, und gib etwas in der Form 'Alice ist 20 Jahre alt' aus."
   ]
  },
  {
   "cell_type": "markdown",
   "id": "65d5dfb0-4d81-4ee4-8db0-4c7b2ba7b794",
   "metadata": {},
   "source": [
    "### Strings formatieren mit `str.format`\n",
    "- Ein Stringliteral kann\n",
    "  - anonyme Platzhalter `'Vorname: {}, Name: {}'`   \n",
    "  - nummerierte Platzhalter `'Vorname: {1}, Name: {0}'` \n",
    "  - benamste Platzhalter `'Vorname: {vorname}, Name: {name}'`  \n",
    "  enthalten.\n",
    "- Mit der str.format Methode kann man die Platzhalter durch Strings substituieren.  \n",
    "- Ist `s` ein String, so resultiert `s.format(...)` in `str.format(s,...)`"
   ]
  },
  {
   "cell_type": "code",
   "execution_count": null,
   "id": "ff58bd94-9fc1-46ee-91ef-1153f1e9a215",
   "metadata": {},
   "outputs": [],
   "source": [
    "'String mit Platzhalter: {}'.format('Substitutionstext')"
   ]
  },
  {
   "cell_type": "code",
   "execution_count": null,
   "id": "0970e148-c58a-40cd-9f28-a3aad71a0121",
   "metadata": {},
   "outputs": [],
   "source": [
    "'String mit 2 Platzhalter: {} und {}'.format('text1', 'text2')"
   ]
  },
  {
   "cell_type": "code",
   "execution_count": null,
   "id": "2ce4f75f-3d2a-475d-b591-1a13b1a684c3",
   "metadata": {},
   "outputs": [],
   "source": [
    "s1 = 'Vorname: {}, Name: {}'\n",
    "s2 = 'Vorname: {1}, Name: {0}'\n",
    "s3 = 'Vorname: {vorname}, Name: {name}'\n",
    "\n",
    "print(s1.format('Hans', 'Muster'))\n",
    "print(str.format(s1, 'Hans', 'Muster'))\n",
    "print(s2.format('Muster', 'Hans'))\n",
    "print(s3.format(name = 'Muster', vorname = 'Hans'))"
   ]
  },
  {
   "cell_type": "markdown",
   "id": "c3c30f7a-cdd3-4b51-bd96-9503a3880280",
   "metadata": {},
   "source": [
    "### Weitere Methoden des Types String \n",
    "- `str.lower`\n",
    "- `str.upper`\n",
    "- `str.capitalize`\n",
    "- `str.center`\n",
    "- `str.ljust`\n",
    "- `str.rjust`  \n",
    "\n",
    "**Hinweise**: `'hallo'.upper()` ruft  `str.upper('hallo')` auf.\n",
    "\n",
    "**Probiere aus**, was diese Methoden tun. Vergleiche mit dem Output von `help(str.lower)`, ... "
   ]
  },
  {
   "cell_type": "markdown",
   "id": "9579cb20-87b8-4e07-b0b0-1e6626c3e0c7",
   "metadata": {},
   "source": [
    "### Operationen auf Strings\n",
    "- 2 Strings kann man mit ```+``` konkatenieren\n",
    "- Einen String und einen Integer kann man mit ```*``` multiplizieren  \n",
    "\n",
    "**Aufgabe**  \n",
    "Gib \n",
    "```\n",
    "|Vorname        |Nachname       |\n",
    "|===============|===============|\n",
    "|Hans           |Muster         |\n",
    "```\n",
    "aus. Benutze dabei die String Methoden `format, ljust`, sowie `+` und `*`."
   ]
  },
  {
   "cell_type": "code",
   "execution_count": null,
   "id": "f22ff755-1abf-49fa-9f4b-f035e1a1a725",
   "metadata": {},
   "outputs": [],
   "source": []
  }
 ],
 "metadata": {
  "kernelspec": {
   "display_name": "Python 3 (ipykernel)",
   "language": "python",
   "name": "python3"
  },
  "language_info": {
   "codemirror_mode": {
    "name": "ipython",
    "version": 3
   },
   "file_extension": ".py",
   "mimetype": "text/x-python",
   "name": "python",
   "nbconvert_exporter": "python",
   "pygments_lexer": "ipython3",
   "version": "3.9.10"
  }
 },
 "nbformat": 4,
 "nbformat_minor": 5
}
