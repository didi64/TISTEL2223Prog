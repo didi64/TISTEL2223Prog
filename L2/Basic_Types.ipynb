{
 "cells": [
  {
   "cell_type": "markdown",
   "id": "f27d3399-b771-46f9-aab3-8988b850987e",
   "metadata": {},
   "source": [
    "### Python's (built-in) (Daten)Typen\n",
    "Siehe auch [w3schools, datatypes](https://www.w3schools.com/python/python_datatypes.asp)\n",
    "- Typen sind Objekte eines bestimmten Typs, z.B. `int, float, str, list, ...`\n",
    "In Python stehen die Typen\n",
    "**Integer** (`int`),\n",
    "**Fliesskommazahl** (`float`),\n",
    "**String** (`str`),\n",
    "**Tuple** (`tuple`),\n",
    "**Liste** (`list`),\n",
    "**None** (`None`),\n",
    "**Boolean** (`bool`),\n",
    "**Dictionary** (`dict`) und **Menge** (`set`)\n",
    "zur Verf&uuml;gung.\n",
    "- jeder Typ stellt Methoden zur Verf&uuml;gung, die auf ein Objekt dieses Typs angewandt werden k&ouml;nnen:  \n",
    "Ist `x` ein Objekt vom Typ `bar` und gibt es eine Methode\n",
    "`bar.foo`, so \n",
    "ruft `x.foo()` `bar.foo(x)` auf.\n",
    "- Ist `x` ein Objekt, so gibt `type(x)` den Typ von `x` aus  \n",
    "- Typen sind entweder **`immutable`** oder **`mutable`**, manche sind **`iterable`**:\n",
    "  - **immutable** (nicht modifizierbar): `int, float, string, bool, tupel, None`      \n",
    "  Diese Typen verhalten sich als ob ihr Wert direkt in der Variable gespeichert w&auml;re.\n",
    "  - **mutable** (modifizierbar)  `list, set, dict`\n",
    "  - Die Typen `str, tuple, list, set, dict` sind **`iterable`**.  \n",
    "  Ist `x`  iterable, kann man mit  \n",
    "  ```python\n",
    "  for item in x:\n",
    "         print(item)\n",
    "  ```       \n",
    "  &uuml;ber die Elemente von `x` iterieren.  \n",
    "- **Typenumwandlung/Cast**:  \n",
    "  "
   ]
  },
  {
   "cell_type": "code",
   "execution_count": null,
   "id": "70b95c62-0c0c-426c-84bc-0d79de1040d9",
   "metadata": {},
   "outputs": [],
   "source": [
    "print(type('abc')) \n",
    "print(type('abc') == str) # True\n",
    "type('abc') == 'str' # False, links steht ein Type, rechts ein String!"
   ]
  },
  {
   "cell_type": "markdown",
   "id": "7bc3d5c5-c501-4142-bb4e-dc057e3bc08d",
   "metadata": {},
   "source": [
    "### Integer (```int```)\n",
    "- immutable\n",
    "- Operationen: ```+, -, *, /, //, %, **```\n",
    "- Auf Integer anwendbare Funktionen: ```abs(x)``` (Betrag von ```x```, $abs(-2) = |-2| =2$)\n",
    "**Bemerkungen**:\n",
    "- ```x/y``` ist immer ein ```float```\n",
    "- ```x/0``` erzeugt einen ```ZeroDivisionError```\n",
    "- Python kann mit beliebig grossen Integern rechnen"
   ]
  },
  {
   "cell_type": "code",
   "execution_count": 1,
   "id": "6fd86d9b-2040-492b-9abc-6d3f38c1ea18",
   "metadata": {},
   "outputs": [
    {
     "name": "stdout",
     "output_type": "stream",
     "text": [
      "2\n",
      "2.0 <class 'float'>\n",
      "179769313486231590772930519078902473361797697894230657273430081157732675805500963132708477322407536021120113879871393357658789768814416622492847430639474124377767893424865485276302219601246094119453082952085005768838150682342462881473913110540827237163350510684586298239947245938479716304835356329624224137216\n"
     ]
    }
   ],
   "source": [
    "print(abs(-2))\n",
    "print(2/1, type(2/1))\n",
    "print(2**(2**10))"
   ]
  },
  {
   "cell_type": "markdown",
   "id": "ee717fbf-0e3a-4e48-823c-7bb6754b07f8",
   "metadata": {},
   "source": [
    "### Fliesskommazahlen (```float```)\n",
    "- immutable\n",
    "- Operatonen: +, -, *, /, //, %, **\n",
    "\n",
    "**Bemerkungen**\n",
    "- Ein `float` kann nur Zahlen in einem bestimmten Intervall mit limitierter Genauigkeit abspeichern.\n",
    "  Die Details sind abh&auml;ngig von der Architektur des Computers auf dem der Python Interpreter l&auml;uft.\n",
    "  Typischerweise stehen 64 Bits zur Verf&uuml;gung um einen `float` zu speichern.\n",
    "  Siehe z.B. <a href = 'https://en.wikipedia.org/wiki/Double-precision_floating-point_format#IEEE_754_double-precision_binary_floating-point_format:_binary64'>hier.</a>  \n",
    "  **Overflow-Effekte**\n",
    " - Fliesskommazahlen werden intern als Bin&auml;zahlen gespeichert.  \n",
    " - So wie sich z.B. $\\frac{1}{3}$ nicht exakt als Dezimalzahl darstellen l&auml;sst, kann man z.B.\n",
    "   0.1 nicht exakt mit einer  Bin&auml;zahlen darstellen.\n",
    " - z.B. ist `0.1 + 0.1 + 0.1 == 0.3` falsch!  (Rundungsfehler)  \n",
    "   besser: Teste ob absolute Differenz klein\n",
    "   ```python\n",
    "   abs(0.1 + 0.1 + 0.1 - 0.3) < 0.0000000001\n",
    "   \n",
    "   #oder\n",
    "   import math\n",
    "   math.isclose(0.1 + 0.1 + 0.1, 0.3)\n",
    "   ```   "
   ]
  },
  {
   "cell_type": "code",
   "execution_count": 2,
   "id": "07ef179c-ceaf-46da-8898-30cc0dc8bbd2",
   "metadata": {},
   "outputs": [
    {
     "name": "stdout",
     "output_type": "stream",
     "text": [
      "kleinster Float: 1.7976931348623157e+308\n",
      "groesster Float: 2.2250738585072014e-308\n",
      "1.0\n"
     ]
    }
   ],
   "source": [
    "# importiert das Modul sys\n",
    "import sys\n",
    "\n",
    "# sys.float_info.max, sys.float_info.min: groesste, \n",
    "# bez. kleinste positive Zahl, die in einem float gespeichert werden kann\n",
    "MIN_FLOAT, MAX_FLOAT = sys.float_info.max, sys.float_info.min\n",
    "\n",
    "print('kleinster Float: {}\\ngroesster Float: {}'.format(MIN_FLOAT, MAX_FLOAT))\n",
    "print(MAX_FLOAT + 1) # overflow! "
   ]
  },
  {
   "cell_type": "code",
   "execution_count": 17,
   "id": "4835e4e8-e361-4066-b11e-1ae9890a9f2e",
   "metadata": {},
   "outputs": [
    {
     "data": {
      "text/plain": [
       "False"
      ]
     },
     "execution_count": 17,
     "metadata": {},
     "output_type": "execute_result"
    }
   ],
   "source": [
    "0.1 + 0.1 + 0.1 == 0.3 # teste auf Gleichheit"
   ]
  },
  {
   "cell_type": "code",
   "execution_count": 18,
   "id": "46d490a0-254c-49d7-b947-eb793a2013e0",
   "metadata": {},
   "outputs": [
    {
     "data": {
      "text/plain": [
       "-5.551115123125783e-17"
      ]
     },
     "execution_count": 18,
     "metadata": {},
     "output_type": "execute_result"
    }
   ],
   "source": [
    "0.3 - (0.1 + 0.1 + 0.1)"
   ]
  },
  {
   "cell_type": "code",
   "execution_count": 22,
   "id": "9cd70002-5d44-46d9-88cb-de84f15b2dcd",
   "metadata": {},
   "outputs": [
    {
     "data": {
      "text/plain": [
       "True"
      ]
     },
     "execution_count": 22,
     "metadata": {},
     "output_type": "execute_result"
    }
   ],
   "source": [
    "abs(0.1 + 0.1 + 0.1 - 0.3) < 0.0000000000001"
   ]
  },
  {
   "cell_type": "code",
   "execution_count": 20,
   "id": "4e05498c-b07c-4358-95bf-e36805d5f525",
   "metadata": {},
   "outputs": [
    {
     "data": {
      "text/plain": [
       "True"
      ]
     },
     "execution_count": 20,
     "metadata": {},
     "output_type": "execute_result"
    }
   ],
   "source": [
    "import math\n",
    "math.isclose(0.1 + 0.1 + 0.1, 0.3)"
   ]
  },
  {
   "cell_type": "markdown",
   "id": "27faee34-c90d-4dce-9ede-3a7a8b5ddaab",
   "metadata": {},
   "source": [
    "### Strings (`str`)\n",
    "- Strings sind **immutable** und **iterable**\n",
    "- Viele n&uuml;tzliche Methoden: `upper, lower, ...`"
   ]
  },
  {
   "cell_type": "code",
   "execution_count": null,
   "id": "7f37f09b-1c9e-426f-b120-07fc03020cf2",
   "metadata": {},
   "outputs": [],
   "source": [
    "# Strings sind immutable und iterable\n",
    "x = 'heLlO'\n",
    "print(x.upper())\n",
    "print(x.lower().capitalize())"
   ]
  },
  {
   "cell_type": "markdown",
   "id": "a72109b5-8299-41e4-a5c9-22b021ef368b",
   "metadata": {},
   "source": [
    "### Tuples (`tuple`)\n",
    "- Tuples sind **immutable** und **iterable**\n",
    "- Tuple mit nur einem Element werden so kreiert:\n",
    "  - `t = ('a', )`, `t = (1, )`\n",
    "  **Achtung**: `t = ('a')` und `t = (1)`  liefert einen\n",
    "  String, bew. ein Integer"
   ]
  },
  {
   "cell_type": "code",
   "execution_count": 1,
   "id": "558148a1-271a-494b-a48c-bad23c836aa0",
   "metadata": {},
   "outputs": [
    {
     "name": "stdout",
     "output_type": "stream",
     "text": [
      "Vornamen:  Hans\n",
      "Nachnamen:  Muster\n",
      "tuple:  (1,)\n",
      "Integer:  1\n"
     ]
    }
   ],
   "source": [
    "name = ('Hans', 'Muster')\n",
    "print('Vornamen: ', name[0])\n",
    "print('Nachnamen: ', name[1]) \n",
    "print('tuple: ',(1, ))\n",
    "print('Integer: ', (1))"
   ]
  },
  {
   "cell_type": "code",
   "execution_count": 25,
   "id": "34078ac6-b82e-484e-b663-32a2a5afe8a4",
   "metadata": {},
   "outputs": [
    {
     "name": "stdout",
     "output_type": "stream",
     "text": [
      "a <class 'str'>\n",
      "('a',) <class 'tuple'>\n"
     ]
    }
   ],
   "source": [
    "x = ('a')\n",
    "y = ('a', )\n",
    "print(x, type(x))\n",
    "print(y, type(y))"
   ]
  },
  {
   "cell_type": "markdown",
   "id": "3993f72c-2c0f-41c7-9d36-e90b0fe807b4",
   "metadata": {},
   "source": [
    "### Listen (`list`)\n",
    "- Listen sind **mutable** und **iterable**\n",
    "- Listen haben viele Methoden (`append`, `extend`, `pop`, ...)"
   ]
  },
  {
   "cell_type": "code",
   "execution_count": null,
   "id": "17165599-fff1-4eb1-b072-34c60393abf4",
   "metadata": {},
   "outputs": [],
   "source": [
    "x = [1,2,3]\n",
    "y = x     # x und y referenzieren beide die gleiche Liste [1,2,3]\n",
    "print(x)\n",
    "print(y)\n",
    "\n",
    "x[0] = 0    # Liste wird modifiziert\n",
    "            # x und y referenzieren nach wie vor die gleiche Liste,\n",
    "            # die modifizierte Liste [1,2,3,4]\n",
    "        \n",
    "print(x)\n",
    "print(y)\n",
    "\n",
    "print(x.pop()) # letztes Element von ```x``` wird ausgegeben und \n",
    "               # aus der Liste entfernt\n",
    "    \n",
    "print(x)\n",
    "print(y)"
   ]
  },
  {
   "cell_type": "markdown",
   "id": "350d9fde-a4b4-49ce-9626-704604fbea95",
   "metadata": {},
   "source": [
    "### None (`None`)\n",
    "- Es git nur ein Objekt vom Typ `None`, n&auml;mlich `None`\n",
    "- Objekte von Typ `None` sind **immutable** "
   ]
  },
  {
   "cell_type": "markdown",
   "id": "5549be5a-09b6-41a5-9ff0-79ae527fc6dd",
   "metadata": {},
   "source": [
    "<a id='booleans'></a>\n",
    "### Booleans (`bool`)\n",
    "- Booleans sind **immutable**\n",
    "- Es gibt nur 2 Objekte von Typ `bool`: `True` und `False`\n",
    "- jedes Objekt kann in den Typ `bool` umgewandelt werden:   \n",
    "   - `0`, `None` und Iterables ohne Elemente werden zu `False`\n",
    "   - alle anderen werden zu `True`"
   ]
  },
  {
   "cell_type": "code",
   "execution_count": 31,
   "id": "6b5d315f-eef1-422a-b3fc-ff87236b0349",
   "metadata": {},
   "outputs": [
    {
     "name": "stdout",
     "output_type": "stream",
     "text": [
      "False False False False False\n",
      "True True True True\n"
     ]
    }
   ],
   "source": [
    "print(bool(None), bool(''), bool(0), bool(()), bool([]))\n",
    "print(bool('0'), bool(1), bool((1,)), bool([1,2,3]))"
   ]
  },
  {
   "cell_type": "markdown",
   "id": "94a29670-8666-45b6-b042-392264949297",
   "metadata": {},
   "source": [
    "### Dictionaries (dict)\n",
    "- Dictionaires sind **mutable** und **iterable**\n",
    "- Dictionaries enthalten sog. Key-Value (Schl&uuml;ssel-Wert) Paare:  \n",
    "  `d = {0: 'Element mit key=0', 'cat': 'Katze'}`\n",
    "  jedes **immutable** Objekt ist ein g&uuml;ltiger Key,\n",
    "  jedes Objekt ist ein g&uuml;ltiger Value,\n",
    "- Falls `k` ein Key des Dictionary `d` ist, liefert `d[k]` den zugeh&ouml;rigen Wert  "
   ]
  },
  {
   "cell_type": "code",
   "execution_count": null,
   "id": "99f22e10-62b6-40bd-9fd6-ec587bae6358",
   "metadata": {},
   "outputs": [],
   "source": [
    "d = {4: 'left', 8: 'up'}\n",
    "d[4]"
   ]
  },
  {
   "cell_type": "code",
   "execution_count": null,
   "id": "b1fff40e-c4bf-49b6-8878-f03c1597cf37",
   "metadata": {},
   "outputs": [],
   "source": [
    "d = {'cat': 'Katze', 'House': 'Hause'}\n",
    "d['cat']"
   ]
  },
  {
   "cell_type": "markdown",
   "id": "ff3b7168-8e3f-406d-ac87-56a29ac921fa",
   "metadata": {},
   "source": [
    "### Mengen (`set`)\n",
    "- Mengen sind **mutable** und **iterable**\n",
    "- eine Menge kann ein Element nur einmal enthalten\n",
    "- Mengen sind ungeordnet, iteriert man &uuml;ber die Elemente einer Menge, ist die\n",
    "Reihenfolge zuf&auml;llig. Mengen haben z.B. kein 0tes Element"
   ]
  },
  {
   "cell_type": "code",
   "execution_count": 5,
   "id": "6b78b8bc-c7e8-45f6-9da6-7a2eefb8200f",
   "metadata": {},
   "outputs": [
    {
     "name": "stdout",
     "output_type": "stream",
     "text": [
      "{1, 3}\n",
      "{1, 3, 'a'}\n",
      "1\n",
      "3\n",
      "a\n",
      "Das Element 1 wird aus der Menge entfernt\n",
      "{3, 'a'}\n"
     ]
    }
   ],
   "source": [
    "s = set((3,1))\n",
    "print(s)\n",
    "# s[0] TypeError: 'set' object is not subscriptable\n",
    "s.add('a')\n",
    "print(s)\n",
    "for el in s:\n",
    "    print(el)\n",
    "print('Das Element', s.pop(), 'wird aus der Menge entfernt')   \n",
    "print(s)"
   ]
  },
  {
   "cell_type": "markdown",
   "id": "33c17359-d56e-4981-927e-40b7249f485e",
   "metadata": {},
   "source": [
    "### Umwandeln eines Types in einen anderen (Cast)\n",
    "- `int(x)` liefert einen Integer, falls eine Conversion m&ouml;glich ist\n",
    "- `float(x)` liefert einen Float, falls m&ouml;glich\n",
    "- `str(x)` liefert einen String, falls m&ouml;glich\n",
    "- `list(x)` liefert eine Liste, falls m&ouml;glich\n",
    "- analog f&uuml;r `tuple`, `bool`, `set` und `dict`"
   ]
  },
  {
   "cell_type": "markdown",
   "id": "ef7c1c8c-9e45-4587-bfc1-1d66c9550991",
   "metadata": {},
   "source": [
    "### Aufgabe\n",
    "Erzeuge ein Tuple mit 2 Elementen.\n",
    "- gib das 2. Element aus\n",
    "- versuche das 2. Element durch ein anderes zu ersetzen. Wieso funktioniert das nicht?\n",
    "- Verwandle das Tuple in eine Liste, und nimm nun die Ersetzung vor\n",
    "- Verwandle die Liste wieder in ein Tuple\n",
    "- was macht die Methode list.pop() ?"
   ]
  },
  {
   "cell_type": "code",
   "execution_count": null,
   "id": "ae43bdbd-159e-4415-941f-6e3b46a505c5",
   "metadata": {},
   "outputs": [],
   "source": []
  }
 ],
 "metadata": {
  "kernelspec": {
   "display_name": "Python 3 (ipykernel)",
   "language": "python",
   "name": "python3"
  },
  "language_info": {
   "codemirror_mode": {
    "name": "ipython",
    "version": 3
   },
   "file_extension": ".py",
   "mimetype": "text/x-python",
   "name": "python",
   "nbconvert_exporter": "python",
   "pygments_lexer": "ipython3",
   "version": "3.9.10"
  }
 },
 "nbformat": 4,
 "nbformat_minor": 5
}
