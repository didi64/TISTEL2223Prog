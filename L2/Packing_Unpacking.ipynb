{
 "cells": [
  {
   "cell_type": "markdown",
   "id": "3e278f22-f61a-44db-9069-833b44a52db4",
   "metadata": {},
   "source": [
    "### Multiassignments, Packing und Unpacking\n",
    "- `x, y = 1, 'a'` (**Multiassignment**, dasselbe wie \n",
    "\n",
    "```python\n",
    "x = 1\n",
    "y = 'a'\n",
    "```  \n",
    "\n",
    "- sehr n&uuml;tzlich um die Werte 2er Variablen zu tauschen\n",
    "> `x, y = y, x`\n",
    "\n",
    "- `x = 1, 2, 3` (**Packing**: dasselbe wie  \n",
    "\n",
    "```python\n",
    "x = (1, 2, 3)  \n",
    "```  \n",
    "\n",
    "- `x, y, z = 'abc'`    (**Unpacking** eines Iterables mit 3 Elementen: dasselbe wie\n",
    "\n",
    "\n",
    "```python\n",
    "x = 'abc'[0]\n",
    "y = 'abc'[1]\n",
    "z = 'abc'[2]\n",
    "```"
   ]
  },
  {
   "cell_type": "code",
   "execution_count": null,
   "id": "f46e2442-add8-4e3e-ac99-59e4f602ce7c",
   "metadata": {},
   "outputs": [],
   "source": [
    "# Werte tauschen\n",
    "x, y = 2, 3\n",
    "print(x,y)\n",
    "x,y = y, x\n",
    "print(x,y)"
   ]
  },
  {
   "cell_type": "code",
   "execution_count": null,
   "id": "8fbf587a-7daf-45bc-8a1f-d87ded9c64c4",
   "metadata": {},
   "outputs": [],
   "source": [
    "# Werte tauchen ohne Multiassignment\n",
    "x, y = 2, 3\n",
    "print(x,y)\n",
    "tmp = x\n",
    "x = y\n",
    "y = tmp\n",
    "print(x,y)"
   ]
  },
  {
   "cell_type": "code",
   "execution_count": null,
   "id": "c1ca8f16-477d-47ff-81a9-de5fefff0fc4",
   "metadata": {},
   "outputs": [],
   "source": [
    "x, y, z = 'abc'\n",
    "print(x,y,z)"
   ]
  },
  {
   "cell_type": "code",
   "execution_count": null,
   "id": "edb65732-6e3e-4445-8ffc-0b3022f4b007",
   "metadata": {},
   "outputs": [],
   "source": [
    "x, y =  (1, 2)\n",
    "print(x,y)"
   ]
  },
  {
   "cell_type": "code",
   "execution_count": null,
   "id": "431abce9-d3ac-4e2b-b8fb-8341e67874d3",
   "metadata": {},
   "outputs": [],
   "source": [
    "name, vorname = ('Hans', 'Muster')\n",
    "print(name, vorname)"
   ]
  },
  {
   "cell_type": "code",
   "execution_count": null,
   "id": "cd363748-a549-4457-88b4-cc29f1ce71f2",
   "metadata": {},
   "outputs": [],
   "source": [
    "x, y = [1,2,3] # too many values to unpack (expected 2)"
   ]
  }
 ],
 "metadata": {
  "kernelspec": {
   "display_name": "Python 3 (ipykernel)",
   "language": "python",
   "name": "python3"
  },
  "language_info": {
   "codemirror_mode": {
    "name": "ipython",
    "version": 3
   },
   "file_extension": ".py",
   "mimetype": "text/x-python",
   "name": "python",
   "nbconvert_exporter": "python",
   "pygments_lexer": "ipython3",
   "version": "3.9.10"
  }
 },
 "nbformat": 4,
 "nbformat_minor": 5
}
