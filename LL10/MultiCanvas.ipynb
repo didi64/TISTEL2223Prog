{
 "cells": [
  {
   "cell_type": "markdown",
   "id": "f6108091-bd60-4d28-a84e-5a61022aabf4",
   "metadata": {},
   "source": [
    "### Das MultiCanvas-Widget  \n",
    "siehe auch [ipycanvas.readthedocs.io](https://ipycanvas.readthedocs.io/en/latest/basic_usage.html)\n",
    "- Ein MultiCanvas Objekt besteht aus mehreren &uuml;bereinanderliegenden Canvas-Objekten.\n",
    "Z.B.  \n",
    "`mcanvas = MultiCanvas(3, width=200, height=200)` enth&auml;lt die 3 Canvas-Objekte\n",
    "`mcanvas[0]`, `mcanvas[1]` und `mcanvas[2]`.   \n",
    "\n",
    "- `mcanvas[0]` liegt zuunterst, `mcanvas[2]` zuoberst.  \n",
    "  Zeichnungen auf einer oberen Schicht &uuml;berdecken diejenigen auf tiefer liegenden Schichten. \n",
    "- Es lassen sich  Callbacks f&uuml;r die Mouseevents \n",
    "`on_mouse_down`, `on_mouse_up` und `on_mouse_move`\n",
    "registrieren."
   ]
  },
  {
   "cell_type": "code",
   "execution_count": null,
   "id": "a31c7d2b-bfec-4c97-bc0a-f82fa485dc08",
   "metadata": {},
   "outputs": [],
   "source": [
    "from ipycanvas import MultiCanvas"
   ]
  },
  {
   "cell_type": "code",
   "execution_count": null,
   "id": "0ccd5264-cf34-4780-b6ed-e95d22763dd5",
   "metadata": {},
   "outputs": [],
   "source": [
    "SIZE = 200 \n",
    "mcanvas = MultiCanvas(3, width = SIZE, height = SIZE, \n",
    "                layout = {'border' : '2px solid black'}\n",
    "               )\n",
    "\n",
    "background   = mcanvas[0]\n",
    "middleground = mcanvas[1]\n",
    "foreground   = mcanvas[2]\n",
    "\n",
    "display(mcanvas)"
   ]
  },
  {
   "cell_type": "code",
   "execution_count": null,
   "id": "343c500c-2d25-481e-aaf4-9f291579237a",
   "metadata": {},
   "outputs": [],
   "source": [
    "foreground.fill_style = 'red'\n",
    "middleground.fill_style = 'orange'\n",
    "background.fill_style = 'blue'\n",
    "\n",
    "foreground.fill_rect(0, 0, 100)\n",
    "background.fill_rect(50, 50, 100)\n",
    "foreground.fill_rect(100, 100, 100)\n",
    "middleground.fill_circle(100, 100, radius = 30)"
   ]
  },
  {
   "cell_type": "code",
   "execution_count": null,
   "id": "fee55a5c-a567-4dcf-b0d0-27f2b553223e",
   "metadata": {},
   "outputs": [],
   "source": [
    "mcanvas.clear()"
   ]
  },
  {
   "cell_type": "code",
   "execution_count": null,
   "id": "a5d25379-b9ac-4dd7-8923-daf2b4b9d835",
   "metadata": {},
   "outputs": [],
   "source": [
    "foreground.clear()"
   ]
  },
  {
   "cell_type": "code",
   "execution_count": null,
   "id": "dfcaf713-ea8b-4837-bb24-df59315323d2",
   "metadata": {},
   "outputs": [],
   "source": [
    "middleground.clear()"
   ]
  },
  {
   "cell_type": "markdown",
   "id": "659ca11c-96c2-4a6b-b1ee-ea8fed0cd25f",
   "metadata": {},
   "source": [
    "***\n",
    "**Callbacks f&uuml;r Mouse-Events**  \n",
    "***"
   ]
  },
  {
   "cell_type": "code",
   "execution_count": null,
   "id": "17b7bb0e-b140-4688-8cd1-4d86ebbc3d96",
   "metadata": {},
   "outputs": [],
   "source": [
    "def start_drawing(x,y):\n",
    "    foreground.draw = True\n",
    "def end_drawing(x,y):\n",
    "    foreground.draw = False\n",
    "def draw(x,y):\n",
    "    if foreground.draw:\n",
    "        foreground.fill_circle(x,y,3)"
   ]
  },
  {
   "cell_type": "code",
   "execution_count": null,
   "id": "1b9ce6ea-839b-4fd5-9dd3-596901ddac29",
   "metadata": {},
   "outputs": [],
   "source": [
    "# callbacks registrieren\n",
    "# die uebergebene Funktion f wird beim Eintreffen des entsprechenden \n",
    "# Mouse-Events mit den Argumenten f(x,y) aufgerufen.\n",
    "# x,y sind die Koordinaten der Mouse-Position\n",
    "mcanvas.on_mouse_down(start_drawing)\n",
    "mcanvas.on_mouse_up(end_drawing)\n",
    "mcanvas.on_mouse_move(draw)\n",
    "\n",
    "foreground.fill_style = 'yellow'\n",
    "display(mcanvas)"
   ]
  },
  {
   "cell_type": "code",
   "execution_count": null,
   "id": "908ef571-0d80-487f-a8f5-7f9d681aeda1",
   "metadata": {},
   "outputs": [],
   "source": []
  }
 ],
 "metadata": {
  "kernelspec": {
   "display_name": "Python 3 (ipykernel)",
   "language": "python",
   "name": "python3"
  },
  "language_info": {
   "codemirror_mode": {
    "name": "ipython",
    "version": 3
   },
   "file_extension": ".py",
   "mimetype": "text/x-python",
   "name": "python",
   "nbconvert_exporter": "python",
   "pygments_lexer": "ipython3",
   "version": "3.9.10"
  }
 },
 "nbformat": 4,
 "nbformat_minor": 5
}
