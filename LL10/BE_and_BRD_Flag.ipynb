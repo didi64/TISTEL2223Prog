{
 "cells": [
  {
   "cell_type": "markdown",
   "id": "ef2de3e0-bbb9-4760-8cdc-94fb691a1229",
   "metadata": {},
   "source": [
    "### Deutsche und Belgische Flagge"
   ]
  },
  {
   "cell_type": "markdown",
   "id": "184c57de-9888-4cb0-a44e-6672bdd61de2",
   "metadata": {},
   "source": [
    "### Aufgabe \n",
    "Schreibe eine Funktion \n",
    "`draw_<Laendercode>_flag(canvas, pos, size)`, welche\n",
    "die Flagge des entsprechenden Landes innerhalb eines Quadrats mit Seitenl&auml;nge `size` an der Position `pos = (x,y)` zeichnet."
   ]
  },
  {
   "cell_type": "code",
   "execution_count": null,
   "id": "113f1355-2970-44b1-b4f7-9cc17b886028",
   "metadata": {},
   "outputs": [],
   "source": [
    "from ipycanvas import Canvas"
   ]
  },
  {
   "cell_type": "code",
   "execution_count": null,
   "id": "fa2d6bce-6749-4083-8e88-85282ba53a79",
   "metadata": {},
   "outputs": [],
   "source": [
    "WIDTH, HEIGHT = (200, 200)\n",
    "canvas = Canvas(width = WIDTH, height = HEIGHT, \n",
    "                layout = {'border' : '2px solid blue'}\n",
    "               )\n",
    "display(canvas)"
   ]
  },
  {
   "cell_type": "code",
   "execution_count": null,
   "id": "6df26ba3-8f9c-4b53-b187-ca5d6e220d9f",
   "metadata": {
    "tags": []
   },
   "outputs": [],
   "source": [
    "canvas.clear()\n",
    "canvas.fill_style = 'gray'\n",
    "\n",
    "# color background\n",
    "size = 100\n",
    "canvas.fill_rect(0, 0, size)\n",
    "\n",
    "# zeichen 3 Streifen, width = size, height = 1/5 * size\n",
    "# obere linke Ecke der Streifen: \n",
    "# (0, 1/5 *size), (0, 2/5 *size), (0, 3/5 *size)\n",
    "# kein Streifen mit Ecken (0, 0) und (0, 4/5 *size)\n",
    "\n",
    "for i, color in [(1, 'black'), (2, 'red'), (3, 'yellow')]:\n",
    "    canvas.fill_style = color\n",
    "    canvas.fill_rect(0, i/5 * size, width = size, height = size/5)"
   ]
  },
  {
   "cell_type": "code",
   "execution_count": null,
   "id": "8fa74aea-c892-4f24-bea0-ddbb080ddf66",
   "metadata": {
    "tags": []
   },
   "outputs": [],
   "source": [
    "def draw_BRD_flag(canvas, pos, size):\n",
    "    '''BRD Flagge: Seitenverhaeltnis Hoehe:Breite = 3:5,\n",
    "       3 horizontale Streifen: schwarz, gel, rot\n",
    "    '''   \n",
    "    x0, y0 = pos\n",
    "    canvas.fill_style = 'gray'\n",
    "    canvas.fill_rect(x0, y0, size)\n",
    "\n",
    "    for i, color in [(1, 'black'), (2, 'red'), (3, 'yellow')]:\n",
    "        canvas.fill_style = color\n",
    "        canvas.fill_rect(x0, y0 + i/5 * size, width = size, height = size/5)  "
   ]
  },
  {
   "cell_type": "code",
   "execution_count": null,
   "id": "c805a26e-c4a0-481c-ad17-8945f8146369",
   "metadata": {},
   "outputs": [],
   "source": [
    "canvas.clear()\n",
    "draw_BRD_flag(canvas, (20, 50), 100)"
   ]
  },
  {
   "cell_type": "code",
   "execution_count": null,
   "id": "424a463f-5726-425b-8420-53a3fc60372d",
   "metadata": {},
   "outputs": [],
   "source": [
    "def draw_BE_flag(canvas, pos, size):\n",
    "    '''Be Flagge: Seitenverhaeltnis Hoehe:Breite = 13:15,\n",
    "       3 vertikale Streifen: schwarz, gelb, rot\n",
    "    '''\n",
    "    x0, y0 = pos\n",
    "    canvas.fill_style = 'gray'\n",
    "    canvas.fill_rect(x0, y0, size)\n",
    "   \n",
    "    for i, color in enumerate(('black', 'yellow', 'red')):\n",
    "        canvas.fill_style = color\n",
    "        canvas.fill_rect(x0 + i/3 * size, y0 + 1/15 * size, width = size/3, height = 13/15*size)"
   ]
  },
  {
   "cell_type": "code",
   "execution_count": null,
   "id": "bfc468d4-3993-4c9e-beaf-dc83a88ff1a8",
   "metadata": {},
   "outputs": [],
   "source": [
    "canvas.clear()\n",
    "draw_BE_flag(canvas, (20,20), 100)"
   ]
  },
  {
   "cell_type": "code",
   "execution_count": null,
   "id": "be281f3a-2852-4e86-83d2-4cb970d258c0",
   "metadata": {},
   "outputs": [],
   "source": []
  }
 ],
 "metadata": {
  "kernelspec": {
   "display_name": "Python 3 (ipykernel)",
   "language": "python",
   "name": "python3"
  },
  "language_info": {
   "codemirror_mode": {
    "name": "ipython",
    "version": 3
   },
   "file_extension": ".py",
   "mimetype": "text/x-python",
   "name": "python",
   "nbconvert_exporter": "python",
   "pygments_lexer": "ipython3",
   "version": "3.9.10"
  }
 },
 "nbformat": 4,
 "nbformat_minor": 5
}
