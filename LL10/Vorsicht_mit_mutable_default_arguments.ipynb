{
 "cells": [
  {
   "cell_type": "markdown",
   "id": "72d24a84-a26b-4deb-ad0f-17fe4c924dd9",
   "metadata": {},
   "source": [
    "### **Vorsicht** mit **mutable** Default-Argumenten\n",
    "Die Funktion `add_to_list` soll Items in eine Liste packen, oder an eine bestehende Liste anh&auml;ngen und diese Liste zur&uuml;ckgeben.\n",
    "\n",
    "```python\n",
    "list1 = add_to_list(1,2,3)            # list1 = [1, 2, 3]\n",
    "list2 = add_to_list(3,4, lst = list1) # list2 = [1, 2, 3, 4, 5]\n",
    "list3 = add_to_list('foo', 'bar')     # list3 = ['foo', 'bar']\n",
    "```\n",
    "Nachstehend definierte Funktion `add_to_list` l&ouml;st diese Problem **nicht**.\n",
    "Ein mutable Default-Argument sollte nicht modifiziert werden!  \n",
    "\n",
    "Die Funktion `add_to_list_` zeigt eine **korrekte** L&ouml;sung.\n"
   ]
  },
  {
   "cell_type": "code",
   "execution_count": null,
   "id": "a56a6ca9-c5f5-4e5f-84c9-214da432c547",
   "metadata": {},
   "outputs": [],
   "source": [
    "def add_to_list(*items, lst = []):\n",
    "    '''das Default-Argument 'lst' enthaelt eine Referenz auf eine\n",
    "       im Moment (Zeitpunkt der Ausfuehrung diese Codes) leere Liste\n",
    "    '''   \n",
    "    for item in items:\n",
    "        lst.append(item)\n",
    "        \n",
    "    # lst zeigt immer noch auf die gleiche Liste, \n",
    "    # die nun jedoch nicht mehr leer ist    \n",
    "    return lst    "
   ]
  },
  {
   "cell_type": "code",
   "execution_count": null,
   "id": "24c4e797-579d-4cb1-8d2f-c44319cbdd25",
   "metadata": {},
   "outputs": [],
   "source": [
    "add_to_list(1,2,3)"
   ]
  },
  {
   "cell_type": "code",
   "execution_count": null,
   "id": "34aae7d3-d8b5-4e4b-b161-28ca06447357",
   "metadata": {},
   "outputs": [],
   "source": [
    "add_to_list(1,2,3)"
   ]
  },
  {
   "cell_type": "code",
   "execution_count": null,
   "id": "a04a1b0a-2af9-44df-bb2a-d3aa3d184890",
   "metadata": {},
   "outputs": [],
   "source": [
    "# clears the list, that the default argument lst references\n",
    "l = add_to_list()\n",
    "l.clear()"
   ]
  },
  {
   "cell_type": "code",
   "execution_count": null,
   "id": "b90c1e15-1306-47ce-8c22-62998361ef02",
   "metadata": {},
   "outputs": [],
   "source": [
    "add_to_list(1,2,3)"
   ]
  },
  {
   "cell_type": "code",
   "execution_count": null,
   "id": "79505f25-a65c-4b0d-a3a4-c334984191e8",
   "metadata": {},
   "outputs": [],
   "source": [
    "# aendert NICHT die Liste welche das Default-Argument lst referenziert,\n",
    "# nur die Variable 'l' enthaelt nun eine Referenz auf eine neue Liste ['foo']\n",
    "l = add_to_list()\n",
    "l = ['foo']"
   ]
  },
  {
   "cell_type": "code",
   "execution_count": null,
   "id": "6a4408bb-3aa5-46d7-b7d3-fe57aa229631",
   "metadata": {},
   "outputs": [],
   "source": [
    "add_to_list('bar')"
   ]
  },
  {
   "cell_type": "markdown",
   "id": "38df655b-a2eb-41f0-82ac-a0dba623b6ac",
   "metadata": {},
   "source": [
    "***\n",
    "**Korrekte L&ouml;sung**\n",
    "***"
   ]
  },
  {
   "cell_type": "code",
   "execution_count": null,
   "id": "007389a4-fb03-49d4-9ed6-b58f36056ef7",
   "metadata": {},
   "outputs": [],
   "source": [
    "def add_to_list_(*items, lst = None):\n",
    "    '''haengt items an die Liste lst an \n",
    "       wird keine Liste als 2. Argument uebergeben, wird eine neue Liste erzeugt\n",
    "    '''   \n",
    "    if lst is None:\n",
    "        lst = []\n",
    "    \n",
    "    for item in items:\n",
    "        lst.append(item)\n",
    "        \n",
    "    return lst    "
   ]
  },
  {
   "cell_type": "code",
   "execution_count": null,
   "id": "e0056683-e421-4085-ab89-ecc81f3273cb",
   "metadata": {},
   "outputs": [],
   "source": [
    "add_to_list_(1,2,3)"
   ]
  },
  {
   "cell_type": "code",
   "execution_count": null,
   "id": "7d8dd9e1-e20c-4717-af5e-dfde05329689",
   "metadata": {},
   "outputs": [],
   "source": [
    "add_to_list_(1,2,3)"
   ]
  },
  {
   "cell_type": "code",
   "execution_count": null,
   "id": "93470e7c-33a5-4aac-b527-0c582dd8c18f",
   "metadata": {},
   "outputs": [],
   "source": [
    "list1 = add_to_list_(1,2,3)            # list1 = [1, 2, 3]\n",
    "print(list1)\n",
    "list2 = add_to_list_(4,5, lst = list1) # list2 = [1, 2, 3, 4, 5]\n",
    "print(list2)\n",
    "list3 = add_to_list_('foo', 'bar')     # list3 = ['foo', 'bar']\n",
    "print(list3)"
   ]
  },
  {
   "cell_type": "markdown",
   "id": "7b3e4bf7-30c3-4859-88f7-56b2a3b843f1",
   "metadata": {},
   "source": [
    "***\n",
    "**Wieso enthalten** `list1` **und** `list2` **nun die gleichen Elemente?**  \n",
    "`list1` und  `list2` referenzieren sogar das gleiche Objekt.\n",
    "***"
   ]
  },
  {
   "cell_type": "code",
   "execution_count": null,
   "id": "c4dadc90-20f9-499a-ac5c-2b2231523e46",
   "metadata": {},
   "outputs": [],
   "source": [
    "list1, list2, list3"
   ]
  },
  {
   "cell_type": "code",
   "execution_count": null,
   "id": "a10a0629-9971-4f9e-974a-daaed4e5446f",
   "metadata": {},
   "outputs": [],
   "source": [
    "# True falls list1 und list2 die gleichen Elemente enthalten\n",
    "list1 == list2"
   ]
  },
  {
   "cell_type": "code",
   "execution_count": null,
   "id": "032452b9-f055-4a25-8902-b8046438236c",
   "metadata": {},
   "outputs": [],
   "source": [
    "# True falls list1 und list2 das gleiche Objekt referenzieren \n",
    "list1 is list2"
   ]
  },
  {
   "cell_type": "code",
   "execution_count": null,
   "id": "c4aaf83e-2c0e-4d3b-962d-4ac2c357152b",
   "metadata": {},
   "outputs": [],
   "source": [
    "list1.clear()\n",
    "list1.append('test')\n",
    "list2"
   ]
  },
  {
   "cell_type": "code",
   "execution_count": null,
   "id": "53843e3a-d5a4-454f-89cb-501da07ebf6c",
   "metadata": {},
   "outputs": [],
   "source": []
  }
 ],
 "metadata": {
  "kernelspec": {
   "display_name": "Python 3 (ipykernel)",
   "language": "python",
   "name": "python3"
  },
  "language_info": {
   "codemirror_mode": {
    "name": "ipython",
    "version": 3
   },
   "file_extension": ".py",
   "mimetype": "text/x-python",
   "name": "python",
   "nbconvert_exporter": "python",
   "pygments_lexer": "ipython3",
   "version": "3.9.10"
  }
 },
 "nbformat": 4,
 "nbformat_minor": 5
}
