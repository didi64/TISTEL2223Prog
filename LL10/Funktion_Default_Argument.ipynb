{
 "cells": [
  {
   "cell_type": "markdown",
   "id": "ead78776-d6fa-4f54-b142-9073cb621b85",
   "metadata": {},
   "source": [
    "### Typische Verwendungen von Default-Argumenten  \n",
    "\n",
    "Die ersten beiden Zellen illustrieren das ein Default-Argument werden **nur zum Zeitpunkt der Funktionsdefinition ausgewertet wird und  diesen Wert beh&auml;lt**!  \n",
    "Dann folgt ein l&auml;ngeres Anwendungsbeispiel.\n",
    "\n",
    "Das wichtigste zu Default-Argumenten: [docs.python.org/3/tutorial/controlflow.html#default-argument-values](https://docs.python.org/3/tutorial/controlflow.html#default-argument-values)  "
   ]
  },
  {
   "cell_type": "code",
   "execution_count": null,
   "id": "842ad232-f93b-464d-845e-d9c77b83d220",
   "metadata": {},
   "outputs": [],
   "source": [
    "x = 42\n",
    "def f(arg = x):\n",
    "    print(arg) "
   ]
  },
  {
   "cell_type": "code",
   "execution_count": null,
   "id": "baac2f49-97bb-479c-b7d1-bda41dd95216",
   "metadata": {},
   "outputs": [],
   "source": [
    "x = 0\n",
    "f()\n",
    "f(arg = 5)\n",
    "f()"
   ]
  },
  {
   "cell_type": "code",
   "execution_count": null,
   "id": "fbf39785-c393-4b07-ac44-ccbcba39433a",
   "metadata": {},
   "outputs": [],
   "source": [
    "def run():\n",
    "    _callback()\n",
    "    \n",
    "def set_callback(callback):\n",
    "    '''weise der globalen Variable _callback die\n",
    "       uebergebene Funktion callback zu\n",
    "    '''   \n",
    "    global _callback \n",
    "    _callback = callback"
   ]
  },
  {
   "cell_type": "code",
   "execution_count": null,
   "id": "62bccf6a-7897-4acf-a101-4f86bc99d23b",
   "metadata": {},
   "outputs": [],
   "source": [
    "# _callback setzen\n",
    "set_callback(lambda: print('App is running ...'))\n",
    "run() "
   ]
  },
  {
   "cell_type": "markdown",
   "id": "fb9a8476-b1eb-411b-8a79-cf86f9d693ae",
   "metadata": {},
   "source": [
    "***\n",
    "`run()` soll Message auf Leinwand ausgeben.\n",
    "***"
   ]
  },
  {
   "cell_type": "code",
   "execution_count": null,
   "id": "7b74a8f3-b5ec-4382-9b97-9e180e164aec",
   "metadata": {},
   "outputs": [],
   "source": [
    "from ipycanvas import Canvas\n",
    "canvas = Canvas(width = 200, height = 100, \n",
    "                layout = {'border' : '2px solid black'}\n",
    "               )\n",
    "\n",
    "def write_on_canvas(text = 'App is running ...'):\n",
    "    '''Achtung: das Ueberschreiben der globale Variable 'canvas'\n",
    "       aendert das Verhalten der Funktion\n",
    "    '''   \n",
    "    canvas.clear()\n",
    "    canvas.fill_text(text, 10, 20)\n",
    "    \n",
    "display(canvas)"
   ]
  },
  {
   "cell_type": "code",
   "execution_count": null,
   "id": "8bb4bfce-67de-4768-90ed-91f1f1be2f58",
   "metadata": {},
   "outputs": [],
   "source": [
    "write_on_canvas('blabla')"
   ]
  },
  {
   "cell_type": "code",
   "execution_count": null,
   "id": "d82b7218-2bee-4d50-a05d-81617dc35d59",
   "metadata": {},
   "outputs": [],
   "source": [
    "set_callback(write_on_canvas)\n",
    "run()"
   ]
  },
  {
   "cell_type": "markdown",
   "id": "d7e9a18c-8a68-4e55-a78e-4d87fca3082d",
   "metadata": {},
   "source": [
    "***\n",
    "**Problem mit obigem Code**:  \n",
    "Wird der globalen  Variable `canvas` ein anderes Objekt zugewiesen, z.B. `None`,\n",
    "so ist`canvas.clear()` nicht mehr korrekter Python Code und es wird ein Fehler erzeugt.\n",
    "***"
   ]
  },
  {
   "cell_type": "code",
   "execution_count": null,
   "id": "54100337-ca89-4d75-a046-7df3d8e1ef3b",
   "metadata": {},
   "outputs": [],
   "source": [
    "# macht 'write_on_canvas' und 'run' kaputt\n",
    "canvas = None\n",
    "\n",
    "# write_on_canvas('blabla')\n",
    "# run()"
   ]
  },
  {
   "cell_type": "markdown",
   "id": "07c4accd-7d57-4fbf-8427-d3ad360b8fe0",
   "metadata": {},
   "source": [
    "### Aufgabe:  \n",
    "Modifiziere  `write_on_canvas`, so dass sich das Verhalten dieser Funktion nicht &auml;ndert, falls die globale Variable `canvas` &uuml;berschrieben wird."
   ]
  },
  {
   "cell_type": "markdown",
   "id": "0a07504b-555c-4f2a-897e-051fa0ea6649",
   "metadata": {},
   "source": [
    "### L&ouml;sung I  \n",
    "Canvas-Objekt in Definition von `write_on_canvas` mittels Default-Argument fixieren.  "
   ]
  },
  {
   "cell_type": "code",
   "execution_count": null,
   "id": "a2dcae7c-5f94-4f0f-8b36-6a79f82ffb66",
   "metadata": {},
   "outputs": [],
   "source": [
    "from ipycanvas import Canvas\n",
    "canvas = Canvas(width = 200, height = 100, \n",
    "                layout = {'border' : '2px solid black'}\n",
    "               )\n",
    "def write_on_canvas(text = 'App is running ...', cv = canvas):\n",
    "    '''das Default-Argument cv enthaelt nun eine\n",
    "       Referenz auf das Objekt canvas.\n",
    "       Der Wert von cv aendert nicht mehr\n",
    "       (ausser er wird beim Funktionsaufruf ueberschrieben)\n",
    "    '''   \n",
    "    cv.clear()\n",
    "    cv.fill_text(text, 10, 20)\n",
    "\n",
    "display(canvas)"
   ]
  },
  {
   "cell_type": "code",
   "execution_count": null,
   "id": "4a74edd1-68d1-460a-96f0-b29d022a17c7",
   "metadata": {},
   "outputs": [],
   "source": [
    "set_callback(write_on_canvas)\n",
    "canvas = None\n",
    "# write_on_canvas('Test')\n",
    "# write_on_canvas()\n",
    "run()"
   ]
  },
  {
   "cell_type": "markdown",
   "id": "7289255c-d65e-401a-9d2f-3941c538dd27",
   "metadata": {},
   "source": [
    "### L&ouml;sung II  \n",
    "Bestehende Funktion modifizieren:  \n",
    "Nachstehend definierte Funktion `write_on_canvas(canvas, text)`\n",
    "gibt `text` auf der Leinwand `canvas` aus.  \n",
    "Wir definieren eine neue Funktion,\n",
    "die `write_on_canvas` mit den gew&uuml;schten Argumenten aufruft."
   ]
  },
  {
   "cell_type": "code",
   "execution_count": null,
   "id": "d1e13033-b0b8-40e1-bbfd-8b67840ad217",
   "metadata": {},
   "outputs": [],
   "source": [
    "from ipycanvas import Canvas\n",
    "canvas = Canvas(width = 200, height = 100, \n",
    "                layout = {'border' : '2px solid black'}\n",
    "               )\n",
    "\n",
    "def write_on_canvas(canvas, text):\n",
    "    '''gibt text auf canvas aus'''\n",
    "    canvas.clear()\n",
    "    canvas.fill_text(text, 10, 20)\n",
    "\n",
    "# fixiere die Argumente 'text' und 'canvas' \n",
    "callback = lambda text = 'Blababla', canvas = canvas: write_on_canvas(canvas, text)\n",
    "\n",
    "# Variante, ohne lambda\n",
    "# def callback(text = 'Blababla', canvas = canvas):\n",
    "#     write_on_canvas(canvas, text)\n",
    "\n",
    "set_callback(callback)    \n",
    "display(canvas)"
   ]
  },
  {
   "cell_type": "code",
   "execution_count": null,
   "id": "f7893c7f-3a47-4150-8400-df9cc0cea957",
   "metadata": {},
   "outputs": [],
   "source": [
    "canvas = None\n",
    "# write_on_canvas('Test', canvas)\n",
    "run()"
   ]
  },
  {
   "cell_type": "code",
   "execution_count": null,
   "id": "e4456543-a49a-4f52-8dbc-6340134e4647",
   "metadata": {},
   "outputs": [],
   "source": []
  }
 ],
 "metadata": {
  "kernelspec": {
   "display_name": "Python 3 (ipykernel)",
   "language": "python",
   "name": "python3"
  },
  "language_info": {
   "codemirror_mode": {
    "name": "ipython",
    "version": 3
   },
   "file_extension": ".py",
   "mimetype": "text/x-python",
   "name": "python",
   "nbconvert_exporter": "python",
   "pygments_lexer": "ipython3",
   "version": "3.9.10"
  }
 },
 "nbformat": 4,
 "nbformat_minor": 5
}
