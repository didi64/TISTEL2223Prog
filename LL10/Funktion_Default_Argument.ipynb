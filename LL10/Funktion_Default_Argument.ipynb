{
 "cells": [
  {
   "cell_type": "markdown",
   "id": "ead78776-d6fa-4f54-b142-9073cb621b85",
   "metadata": {},
   "source": [
    "### Welchen Wert hat ein Default-Argument?\n",
    "\n",
    "Siehe auch [docs.python](https://docs.python.org/3/tutorial/controlflow.html#default-argument-values)"
   ]
  },
  {
   "cell_type": "code",
   "execution_count": null,
   "id": "fbf39785-c393-4b07-ac44-ccbcba39433a",
   "metadata": {},
   "outputs": [],
   "source": [
    "def run():\n",
    "    _callback()\n",
    "    \n",
    "def set_callback(callback):\n",
    "    '''weise der globalen Variable _callback die\n",
    "       uebergebene Funktion callback zu\n",
    "    '''   \n",
    "    global _callback \n",
    "    _callback = callback"
   ]
  },
  {
   "cell_type": "code",
   "execution_count": 156,
   "id": "244a4f49-a794-4e56-a57a-c3434e65a707",
   "metadata": {},
   "outputs": [
    {
     "ename": "NameError",
     "evalue": "name '_callback' is not defined",
     "output_type": "error",
     "traceback": [
      "\u001b[0;31m---------------------------------------------------------------------------\u001b[0m",
      "\u001b[0;31mNameError\u001b[0m                                 Traceback (most recent call last)",
      "Input \u001b[0;32mIn [156]\u001b[0m, in \u001b[0;36m<cell line: 4>\u001b[0;34m()\u001b[0m\n\u001b[1;32m      1\u001b[0m \u001b[38;5;66;03m# _callback nicht definiert -> NameError\u001b[39;00m\n\u001b[1;32m      2\u001b[0m \u001b[38;5;66;03m# falls _callback definiert, loesche Variable mit 'del _callback'\u001b[39;00m\n\u001b[1;32m      3\u001b[0m \u001b[38;5;28;01mdel\u001b[39;00m _callback\n\u001b[0;32m----> 4\u001b[0m \u001b[43mrun\u001b[49m\u001b[43m(\u001b[49m\u001b[43m)\u001b[49m\n",
      "Input \u001b[0;32mIn [122]\u001b[0m, in \u001b[0;36mrun\u001b[0;34m()\u001b[0m\n\u001b[1;32m      4\u001b[0m \u001b[38;5;28;01mdef\u001b[39;00m \u001b[38;5;21mrun\u001b[39m():\n\u001b[0;32m----> 5\u001b[0m     \u001b[43m_callback\u001b[49m()\n",
      "\u001b[0;31mNameError\u001b[0m: name '_callback' is not defined"
     ]
    }
   ],
   "source": [
    "# _callback nicht definiert -> NameError\n",
    "# falls _callback definiert, loesche Variable mit 'del _callback'\n",
    "# del _callback\n",
    "run()"
   ]
  },
  {
   "cell_type": "code",
   "execution_count": null,
   "id": "62bccf6a-7897-4acf-a101-4f86bc99d23b",
   "metadata": {},
   "outputs": [],
   "source": [
    "# _callback setzen\n",
    "set_callback(lambda: print('App is running ...'))\n",
    "run() "
   ]
  },
  {
   "cell_type": "code",
   "execution_count": 157,
   "id": "c68b8957-3663-448d-86bc-4d16f96bd57b",
   "metadata": {},
   "outputs": [],
   "source": [
    "def _callback():\n",
    "    print('App is running ...'.upper())"
   ]
  },
  {
   "cell_type": "code",
   "execution_count": 158,
   "id": "db2ba007-21e3-4ad2-90f0-155eb8fe32de",
   "metadata": {},
   "outputs": [
    {
     "name": "stdout",
     "output_type": "stream",
     "text": [
      "APP IS RUNNING ...\n"
     ]
    }
   ],
   "source": [
    "run()"
   ]
  },
  {
   "cell_type": "markdown",
   "id": "d7e9a18c-8a68-4e55-a78e-4d87fca3082d",
   "metadata": {},
   "source": [
    "***\n",
    "**Behebe folgendes Problem mit nachstehendem Code**.  \n",
    "In der nachfolgenden Zelle wird ein `canvas`-Objekt erzeugt und eine Funktion \n",
    "`write_on_canvas(text)` definiert, welche\n",
    "die Leinwand leert und `text` auf der Leinwand ausgibt.\n",
    "\n",
    "\n",
    "`canvas` ist dabei  eine globale Variable.  \n",
    "Wird dieser Variable ein anderes Objekt zugewiesen, z.B. `None`,\n",
    "so ist`canvas.clear()` nicht mehr korrekter Python Code und es wird ein Fehler erzeugt.\n",
    "\n",
    "Wird der Variable `canvas` ein anderes Objekt mit den Methoden `clear` und `write_on_canvas` zugewiesen, so ist der Code zwar \n",
    "korrekt, aber macht nicht mehr was er soll.\n",
    "\n",
    "**Ziel**: Modifiziere  `write_on_canvas`, so dass sich das Verhalten dieser Funktion nicht mehr &auml;ndert, falls die globale Variable `canvas` &uuml;berschrieben wird."
   ]
  },
  {
   "cell_type": "code",
   "execution_count": null,
   "id": "d5756630-c9f9-45b7-844a-d815823d8905",
   "metadata": {},
   "outputs": [],
   "source": [
    "from ipycanvas import Canvas\n",
    "canvas = Canvas(width = 200, height = 100, \n",
    "                layout = {'border' : '2px solid black'}\n",
    "               )\n",
    "\n",
    "def write_on_canvas(text = 'App is running ...'):\n",
    "    '''das Ueberschreiben der globale Variable 'canvas'\n",
    "       aendert das Verhalten der Funktion\n",
    "    '''   \n",
    "    canvas.clear()\n",
    "    canvas.fill_text(text, 10, 20)\n",
    "    \n",
    "display(canvas)"
   ]
  },
  {
   "cell_type": "code",
   "execution_count": null,
   "id": "94df25ef-6421-46c5-8892-5d78808a621d",
   "metadata": {},
   "outputs": [],
   "source": [
    "write_on_canvas('blabla')"
   ]
  },
  {
   "cell_type": "code",
   "execution_count": null,
   "id": "dfb8be3d-b9c8-4f4c-853d-3946790a4ca7",
   "metadata": {},
   "outputs": [],
   "source": [
    "set_callback(write_on_canvas)\n",
    "run()"
   ]
  },
  {
   "cell_type": "code",
   "execution_count": null,
   "id": "54100337-ca89-4d75-a046-7df3d8e1ef3b",
   "metadata": {},
   "outputs": [],
   "source": [
    "# macht 'write_on_canvas' kaputt\n",
    "canvas = None\n",
    "\n",
    "# schreibt auch nicht mehr auf Canvas\n",
    "# write_on_canvas('blabla')\n",
    "# run()"
   ]
  },
  {
   "cell_type": "markdown",
   "id": "0c39615c-8eee-4c49-afe5-4c443fa08468",
   "metadata": {},
   "source": [
    "***\n",
    "Verwendung einer Klasse als Namensraum,  \n",
    "siehe auch [Class Objects, Attribute References](https://docs.python.org/3/tutorial/classes.html#class-objects)  \n",
    "**Ziel**: Python-Objekt `canvas` erstellen, welches &uuml;ber Methoden `clear` und `fill_text` verf&uuml;gt.\n",
    "***"
   ]
  },
  {
   "cell_type": "code",
   "execution_count": null,
   "id": "c3e9a936-4098-4933-9dd5-414c147792d0",
   "metadata": {},
   "outputs": [],
   "source": [
    "'''Untypische verwendung einer Klasse als Namensraum: \n",
    "   Die im eingerueckten Block definierten Funktionen leben im Namensraum\n",
    "   'canvas' und werden mit\n",
    "       canvas.clear()\n",
    "       canvas.fill_text('some text')\n",
    "   aufgerufen.    \n",
    "'''\n",
    "class canvas:\n",
    "    def clear():\n",
    "        print('clear canvas')\n",
    "    def fill_text(text, *args):\n",
    "        print(text)"
   ]
  },
  {
   "cell_type": "code",
   "execution_count": null,
   "id": "1a56d2e0-70b4-4331-8ef6-7e6263e8bc87",
   "metadata": {},
   "outputs": [],
   "source": [
    "print(canvas)\n",
    "canvas.clear()\n",
    "canvas.fill_text('schreibt nicht mehr auf Canvas')"
   ]
  },
  {
   "cell_type": "code",
   "execution_count": null,
   "id": "a14b87c3-860c-46b2-834d-c79df6c08d99",
   "metadata": {},
   "outputs": [],
   "source": [
    "# schreibt auch nicht mehr auf Canvas\n",
    "# die Variable canvas enthaelt nun eine Referenz auf die\n",
    "# oben definierte Klasse canvas\n",
    "write_on_canvas('test')\n",
    "# run()"
   ]
  },
  {
   "cell_type": "markdown",
   "id": "0a07504b-555c-4f2a-897e-051fa0ea6649",
   "metadata": {},
   "source": [
    "### L&ouml;sung I  \n",
    "Leinwand Argument in Funktionsdefinition mittels Default-Argument festlegen.  "
   ]
  },
  {
   "cell_type": "code",
   "execution_count": null,
   "id": "a2dcae7c-5f94-4f0f-8b36-6a79f82ffb66",
   "metadata": {},
   "outputs": [],
   "source": [
    "from ipycanvas import Canvas\n",
    "canvas = Canvas(width = 200, height = 100, \n",
    "                layout = {'border' : '2px solid black'}\n",
    "               )\n",
    "def write_on_canvas(text = 'App is running ...', cv = canvas):\n",
    "    '''das Default-Argument cv enthaelt nun eine\n",
    "       Referenz auf das Objekt canvas.\n",
    "       Der Wert von cv aendert nicht mehr\n",
    "       (ausser er wird beim Funktionsaufruf ueberschrieben:\n",
    "       write_on_canvas(text, cv = another_canvas_obj)\n",
    "    '''   \n",
    "    cv.clear()\n",
    "    cv.fill_text(text, 10, 20)\n",
    "\n",
    "display(canvas)"
   ]
  },
  {
   "cell_type": "code",
   "execution_count": null,
   "id": "4a74edd1-68d1-460a-96f0-b29d022a17c7",
   "metadata": {},
   "outputs": [],
   "source": [
    "set_callback(write_on_canvas)\n",
    "canvas = None\n",
    "write_on_canvas('Test')\n",
    "run()"
   ]
  },
  {
   "cell_type": "markdown",
   "id": "7289255c-d65e-401a-9d2f-3941c538dd27",
   "metadata": {},
   "source": [
    "### L&ouml;sung II  \n",
    "Bestehende Funktion modifizieren:  \n",
    "Neue Funktion erstellen (typischerweise mit Lambda-Ausdruck),\n",
    "die bestehende Funktion mit gew&uuml;nschten Argumenten aufruft.\n",
    "Die Fixierung der Argumente geschieht auch hier mittels Default-Argumenten."
   ]
  },
  {
   "cell_type": "code",
   "execution_count": null,
   "id": "d1e13033-b0b8-40e1-bbfd-8b67840ad217",
   "metadata": {},
   "outputs": [],
   "source": [
    "from ipycanvas import Canvas\n",
    "canvas = Canvas(width = 200, height = 100, \n",
    "                layout = {'border' : '2px solid black'}\n",
    "               )\n",
    "\n",
    "def write_on_canvas(canvas, text):\n",
    "    '''gibt text auf canvas aus'''\n",
    "    canvas.clear()\n",
    "    canvas.fill_text(text, 10, 20)\n",
    "\n",
    "# fixiere Argument text auf 'Experiment', fixiere 'canvas' \n",
    "# auf Wert, den die globale Variable 'canvas' jetzt hat    \n",
    "callback = lambda text = 'Experiment', canvas = canvas: write_on_canvas(canvas, text)\n",
    "\n",
    "\n",
    "# def callback(text = 'Experiment', canvas = canvas):\n",
    "#     write_on_canvas(canvas, text)\n",
    "\n",
    "set_callback(callback)    \n",
    "\n",
    "display(canvas)"
   ]
  },
  {
   "cell_type": "code",
   "execution_count": null,
   "id": "f7893c7f-3a47-4150-8400-df9cc0cea957",
   "metadata": {},
   "outputs": [],
   "source": [
    "canvas = None\n",
    "run()"
   ]
  },
  {
   "cell_type": "code",
   "execution_count": null,
   "id": "e4456543-a49a-4f52-8dbc-6340134e4647",
   "metadata": {},
   "outputs": [],
   "source": []
  }
 ],
 "metadata": {
  "kernelspec": {
   "display_name": "Python 3 (ipykernel)",
   "language": "python",
   "name": "python3"
  },
  "language_info": {
   "codemirror_mode": {
    "name": "ipython",
    "version": 3
   },
   "file_extension": ".py",
   "mimetype": "text/x-python",
   "name": "python",
   "nbconvert_exporter": "python",
   "pygments_lexer": "ipython3",
   "version": "3.9.10"
  }
 },
 "nbformat": 4,
 "nbformat_minor": 5
}
