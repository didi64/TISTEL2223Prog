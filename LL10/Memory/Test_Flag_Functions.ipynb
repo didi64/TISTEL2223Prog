{
 "cells": [
  {
   "cell_type": "markdown",
   "id": "3f949baa-37d1-4a63-a036-dbecbeb12ebf",
   "metadata": {},
   "source": [
    "### Teste Funktionen in Modul `flag_drawing_functions.py`"
   ]
  },
  {
   "cell_type": "code",
   "execution_count": null,
   "id": "66cee096-d9bd-450d-90d4-a9889ae75c55",
   "metadata": {},
   "outputs": [],
   "source": [
    "from flag_drawing_functions import *\n",
    "from ipycanvas import Canvas\n",
    "\n",
    "WIDTH, HEIGHT = (200, 200)\n",
    "canvas = Canvas(width = WIDTH, height = HEIGHT, \n",
    "                layout = {'border' : '2px solid blue'}\n",
    "               )\n",
    "display(canvas)"
   ]
  },
  {
   "cell_type": "code",
   "execution_count": null,
   "id": "c97cb756-52f0-4403-a212-16160f347551",
   "metadata": {},
   "outputs": [],
   "source": [
    "canvas.clear()\n",
    "draw_BE_flag(canvas, (0, 0), 100)\n",
    "draw_BRD_flag(canvas, (0, 100), 100)\n",
    "draw_CH_flag(canvas, (100, 100), 100)\n",
    "\n",
    "canvas.line_width = 2\n",
    "canvas.stroke_style = 'black'\n",
    "canvas.stroke_lines([(0, 100), (200, 100)])\n",
    "canvas.stroke_lines([(100, 0), (100, 200)])"
   ]
  },
  {
   "cell_type": "code",
   "execution_count": null,
   "id": "f2550699-29fe-4115-b854-512a51091736",
   "metadata": {},
   "outputs": [],
   "source": []
  }
 ],
 "metadata": {
  "kernelspec": {
   "display_name": "Python 3 (ipykernel)",
   "language": "python",
   "name": "python3"
  },
  "language_info": {
   "codemirror_mode": {
    "name": "ipython",
    "version": 3
   },
   "file_extension": ".py",
   "mimetype": "text/x-python",
   "name": "python",
   "nbconvert_exporter": "python",
   "pygments_lexer": "ipython3",
   "version": "3.9.10"
  }
 },
 "nbformat": 4,
 "nbformat_minor": 5
}
