{
 "cells": [
  {
   "cell_type": "markdown",
   "id": "3f44a8a7-3e3c-401f-8d09-8850f56819f5",
   "metadata": {},
   "source": [
    "### Memory programmieren"
   ]
  },
  {
   "cell_type": "markdown",
   "id": "eb98b213-f06a-473d-bb7e-1ffb8e2fb108",
   "metadata": {},
   "source": [
    "**Kartenstapel**: Wir implementieren den Kartenstapel als Liste,\n",
    "z.B.  \n",
    "`deck = ['A', 'C', 'B', 'B', 'A', 'C']`  \n",
    "Zum Mischeln verwenden wir die Methode `shuffle` im Modul `random`. \n",
    "\n",
    "**Spielzustand**: Der aktuelle Spielzustand speichern wir im Dictionary `state`. Hier haben wir 2 Spieler, der 1. Spieler ist am Zug und hat bereits\n",
    "die 'B's eingesammelt, und nun 'A' und 'C' aufgedeckt.\n",
    "Die 'A's liegen auf Position 0 und 5, die 'C's auf 1 und 5.\n",
    "```python\n",
    "{'nplayers': 2,\n",
    " 'player_to_move': 0,\n",
    " 'matches': {0: ['B'], 1: []},\n",
    " 'layout':  {0: 'A', 1: 'C', 4: 'A', 4: 'C':5},\n",
    " 'face_up': (0, 1),\n",
    "}\n",
    "```\n",
    "**Spielablauf**:\n",
    "Solange Karten liegen, geht das Zugsrecht reihum.\n",
    "Der Zug eines Spielers unterteilen wir in 2 Phasen: \n",
    "1. Zwei Karten aufdecken, \n",
    "2. falls Karten gleich (Match), Karten einsammeln und weiter mit Phase 1,\n",
    "   sonst Karten wieder umdrehen.  \n",
    "   Der n&auml;chste Spieler ist nun am Zug."
   ]
  },
  {
   "cell_type": "markdown",
   "id": "a7733f34-f73b-4085-b788-af6f5df6f98e",
   "metadata": {},
   "source": [
    "**Karten mischeln**"
   ]
  },
  {
   "cell_type": "code",
   "execution_count": null,
   "id": "15cb5c65-8b9a-49d1-8dde-a9b6bd387ebb",
   "metadata": {},
   "outputs": [],
   "source": [
    "import random"
   ]
  },
  {
   "cell_type": "code",
   "execution_count": null,
   "id": "7ab64451-3220-4089-bfdd-19c82a3dd78b",
   "metadata": {},
   "outputs": [],
   "source": [
    "deck = list(2*'ABC')\n",
    "random.shuffle(deck)\n",
    "deck"
   ]
  },
  {
   "cell_type": "markdown",
   "id": "baffc217-a687-4d1c-9171-455b5c2e8d2c",
   "metadata": {},
   "source": [
    "**Paare finden**"
   ]
  },
  {
   "cell_type": "code",
   "execution_count": null,
   "id": "ad590df4-efea-4062-a679-d14a3abb96a0",
   "metadata": {},
   "outputs": [],
   "source": [
    "def get_matches(deck):\n",
    "    '''gibt Dictionary der Form\n",
    "       {'A': [<index von 1. A>, <index von 2. A>], ...}\n",
    "       zurueck\n",
    "    '''   \n",
    "    matches = {}\n",
    "    for idx, card  in enumerate(deck):\n",
    "        matches.setdefault(card, []).append(idx)\n",
    "    return matches"
   ]
  },
  {
   "cell_type": "code",
   "execution_count": null,
   "id": "1d7ffe6f-9393-4cfd-b8cb-5abd9f043de6",
   "metadata": {},
   "outputs": [],
   "source": [
    "matches = get_matches(deck)\n",
    "matches"
   ]
  },
  {
   "cell_type": "markdown",
   "id": "e8968d9f-b3d8-40d1-a208-fe24cb78090a",
   "metadata": {},
   "source": [
    "**Auslegeordnung erstellen, Karten entfernen**"
   ]
  },
  {
   "cell_type": "code",
   "execution_count": null,
   "id": "e5333fcd-5623-44b6-ba8c-0eda59495c5a",
   "metadata": {},
   "outputs": [],
   "source": [
    "layout = {idx: card for idx, card in enumerate(deck)}\n",
    "layout"
   ]
  },
  {
   "cell_type": "code",
   "execution_count": null,
   "id": "f8e39fa8-f86f-4f54-bcd1-9d74a23a795a",
   "metadata": {},
   "outputs": [],
   "source": [
    "for idx in matches['A']:\n",
    "    layout.pop(idx)\n",
    "    \n",
    "layout    "
   ]
  },
  {
   "cell_type": "markdown",
   "id": "41d27f20-a595-4fc8-9f2b-c41a9752aef4",
   "metadata": {},
   "source": [
    "**Dictionary** `state` **mit** `None` **initialisieren**"
   ]
  },
  {
   "cell_type": "code",
   "execution_count": null,
   "id": "37fec276-e5be-469d-839c-1c3808f1c8c6",
   "metadata": {},
   "outputs": [],
   "source": [
    "state = dict.fromkeys([\n",
    "    'nplayers',   \n",
    "    'player_to_move',\n",
    "    'matches',  \n",
    "    'layout',        \n",
    "    'face_up',       \n",
    "])    \n",
    "state"
   ]
  },
  {
   "cell_type": "markdown",
   "id": "bff3c5a4-fc9a-4ca1-9f50-7eab47080553",
   "metadata": {},
   "source": [
    "**Dictionary** `state` **mit sinnvollen Werten updaten**"
   ]
  },
  {
   "cell_type": "code",
   "execution_count": null,
   "id": "08133076-8edb-4cde-897c-0f1a46717ee9",
   "metadata": {},
   "outputs": [],
   "source": [
    "def init(deck, nplayers = 2, player_to_move = 0):\n",
    "    random.shuffle(deck)\n",
    "    \n",
    "    state['nplayers'] = nplayers\n",
    "    state['player_to_move'] = player_to_move    \n",
    "    state['matches'] = {i: [] for i in range(nplayers)}\n",
    "    state['layout'] = {idx: card for idx, card in enumerate(deck)}\n",
    "    state['face_up'] = ()"
   ]
  },
  {
   "cell_type": "code",
   "execution_count": null,
   "id": "bb232d52-c923-4e86-a9c9-c9a214d5aafc",
   "metadata": {},
   "outputs": [],
   "source": [
    "init(deck, nplayers = 2, player_to_move = 0)\n",
    "state"
   ]
  },
  {
   "cell_type": "markdown",
   "id": "2bd0008f-9a3f-415d-9bcf-a375ffbd5886",
   "metadata": {},
   "source": [
    "### Aufgaben\n",
    "Implementiere folgende Funktionen.  \n",
    "Alle diese Funktionen greifen auf den globalen Dictionary `state` zu.  \n",
    "**Beachte**: Die Werte des Dictionaries `state` k&ouml;nnen von einer Funktion\n",
    "gelesen und modifiziert werden, ohne das `state` als globale Variable deklariert werden muss."
   ]
  },
  {
   "cell_type": "code",
   "execution_count": null,
   "id": "f4d136b5-b131-4740-862c-21b171e0ee6f",
   "metadata": {
    "tags": []
   },
   "outputs": [],
   "source": [
    "# Hilfsfunktionen\n",
    "def cards_face_up():\n",
    "    '''gib eine Liste von Tupel zurueck.\n",
    "       Jedes dieser Tupel hat die Form \n",
    "       (<index>, <Karte die an dieser Position liegt>)\n",
    "    '''\n",
    "    pass\n",
    "\n",
    "def remaining_cards():\n",
    "    '''Gib die Indizes der noch nicht eingesammelten Karten zurueck'''\n",
    "    pass\n",
    "\n",
    "def remove_cards(idxs):\n",
    "    '''idxs: Liste von Indizes der Karten, die\n",
    "       eingesammelt werden\n",
    "       entferne alle Schluessel idx in idxs aus dem\n",
    "       Dictionary state['layout']\n",
    "    '''\n",
    "    pass\n",
    "\n",
    "def next_player(match = False):\n",
    "    '''falls keine Karten mehr liegen: None ist nun am Zug\n",
    "       sonst: \n",
    "         falls match == False: naechster Spieler ist am Zug\n",
    "    '''\n",
    "    pass"
   ]
  }
 ],
 "metadata": {
  "kernelspec": {
   "display_name": "Python 3 (ipykernel)",
   "language": "python",
   "name": "python3"
  },
  "language_info": {
   "codemirror_mode": {
    "name": "ipython",
    "version": 3
   },
   "file_extension": ".py",
   "mimetype": "text/x-python",
   "name": "python",
   "nbconvert_exporter": "python",
   "pygments_lexer": "ipython3",
   "version": "3.9.10"
  }
 },
 "nbformat": 4,
 "nbformat_minor": 5
}
