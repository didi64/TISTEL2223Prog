{
 "cells": [
  {
   "cell_type": "markdown",
   "id": "33be4f4c-eb2d-4a4c-880f-c588ef8d1ce8",
   "metadata": {},
   "source": [
    "### Memory mit Flaggen auf Canvas"
   ]
  },
  {
   "cell_type": "code",
   "execution_count": null,
   "id": "33c6b9f7-7437-4133-a698-112020371fec",
   "metadata": {},
   "outputs": [],
   "source": [
    "import memory as M"
   ]
  },
  {
   "cell_type": "code",
   "execution_count": null,
   "id": "e8201ae9-ec01-4e5c-9828-4b8fe9f87aea",
   "metadata": {},
   "outputs": [],
   "source": [
    "M.init(2*list('ABCD'))\n",
    "M.set_callback(print)    "
   ]
  },
  {
   "cell_type": "code",
   "execution_count": null,
   "id": "2b76b703-90f5-42e6-8c90-084dde8228de",
   "metadata": {},
   "outputs": [],
   "source": [
    "layout = M.state['layout']\n",
    "layout"
   ]
  },
  {
   "cell_type": "code",
   "execution_count": null,
   "id": "de359ca3-2482-4913-8518-32f0592b710e",
   "metadata": {},
   "outputs": [],
   "source": [
    "matches = [(i,j) for i,x in layout.items() for j,y in layout.items() if i < j and x == y]\n",
    "matches"
   ]
  },
  {
   "cell_type": "code",
   "execution_count": null,
   "id": "bbef6df7-044d-4c9f-99de-b9b37dc71bde",
   "metadata": {},
   "outputs": [],
   "source": [
    "picks1 = matches[:2] + [(matches[2][0], matches[3][1])]\n",
    "picks2 = matches[2:] \n",
    "picks1, picks2"
   ]
  },
  {
   "cell_type": "code",
   "execution_count": null,
   "id": "6a833334-4b2b-4711-97c2-e028eb560b41",
   "metadata": {},
   "outputs": [],
   "source": [
    "for pick in picks1:\n",
    "    M.face_up(*pick)\n",
    "    M.face_down()"
   ]
  },
  {
   "cell_type": "code",
   "execution_count": null,
   "id": "fefb5f9f-cf39-4614-8ac3-a6cf171dd568",
   "metadata": {},
   "outputs": [],
   "source": [
    "for pick in picks2:\n",
    "    M.face_up(*pick)\n",
    "    M.face_down()"
   ]
  },
  {
   "cell_type": "markdown",
   "id": "18c3ebb5-ecc4-44c4-9b5d-28029887ac1c",
   "metadata": {},
   "source": [
    "***\n",
    "Wir schreiben nun eine Funktion `M.callback`, so dass der Spielzustand in einem Canvas-Widget dargestellt wird.\n",
    "***"
   ]
  },
  {
   "cell_type": "code",
   "execution_count": null,
   "id": "47453693-8580-4f9b-baaf-d9db31535293",
   "metadata": {},
   "outputs": [],
   "source": [
    "from ipycanvas import MultiCanvas\n",
    "from draw_flags import draw_CH_flag, draw_BRD_flag, draw_BE_flag"
   ]
  },
  {
   "cell_type": "markdown",
   "id": "3b5e9549-c4a9-4769-8e61-d60bd1c206ef",
   "metadata": {},
   "source": [
    "***\n",
    "Unser Deck besteht nun nicht mehr aus Buchstaben, sondern aus Funktionen.\n",
    "***"
   ]
  },
  {
   "cell_type": "code",
   "execution_count": null,
   "id": "6ecb7c5f-2252-4352-86bf-cdc28bb784e6",
   "metadata": {},
   "outputs": [],
   "source": [
    "# vgl. deck = list('ABC') * 2\n",
    "flags = [draw_CH_flag, draw_BRD_flag, draw_BE_flag] * 2\n",
    "# flags[0]\n",
    "flags[0].__name__"
   ]
  },
  {
   "cell_type": "code",
   "execution_count": null,
   "id": "715fbcac-a9a3-490d-a2c1-0700aa080f94",
   "metadata": {},
   "outputs": [],
   "source": [
    "FLAG_SIZE = 100\n",
    "width, height = (3 * FLAG_SIZE, 2 * FLAG_SIZE)\n",
    "mcanvas = MultiCanvas(2, width = width, height = height, \n",
    "                layout = {'border' : '2px solid black'}\n",
    "               )\n",
    "\n",
    "bg, fg = mcanvas\n",
    "fg.line_width = 2\n",
    "fg.stroke_style = 'black'\n",
    "bg.fill_style = 'blue'\n",
    "\n",
    "# horizonale Linie\n",
    "fg.stroke_lines([(0, height/2), (width, height/2)])\n",
    "# vertikale Linien\n",
    "for i in range(1, 3):\n",
    "    fg.stroke_lines([(i*width/3, 0), (i*width/3, height)])\n",
    "\n",
    "display(mcanvas)"
   ]
  },
  {
   "cell_type": "code",
   "execution_count": null,
   "id": "93020525-af3d-4bc5-9de5-0773ba13ffdf",
   "metadata": {
    "tags": []
   },
   "outputs": [],
   "source": [
    "# Teste Funktionen, zeichne Flaggen auf bg\n",
    "for i, flag in enumerate(flags):\n",
    "    x = (i % 3)  * FLAG_SIZE\n",
    "    y = (i // 3) * FLAG_SIZE\n",
    "    flag(bg, (x, y), FLAG_SIZE)"
   ]
  },
  {
   "cell_type": "code",
   "execution_count": null,
   "id": "29bf0373-c743-4625-b2bb-41393fa34609",
   "metadata": {},
   "outputs": [],
   "source": [
    "bg.clear()"
   ]
  },
  {
   "cell_type": "code",
   "execution_count": null,
   "id": "d18e8972-8bd0-4af1-b25d-a25087bee358",
   "metadata": {
    "tags": []
   },
   "outputs": [],
   "source": [
    "def handle_event(canvas, event, data = None):\n",
    "    \n",
    "    def get_position(idx):\n",
    "        return (FLAG_SIZE * (idx % 3), FLAG_SIZE * (idx // 3))\n",
    "    \n",
    "    canvas.fill_style = 'blue'\n",
    "    \n",
    "    if event == 'new_game':\n",
    "        canvas.clear()\n",
    "        for pos in [get_position(i) for i in range(6)]:\n",
    "            canvas.fill_rect(*pos, FLAG_SIZE)\n",
    "            \n",
    "    if event == 'phase_1':\n",
    "        (idx1, flag1), (idx2, flag2) = data\n",
    "        pos1 = get_position(idx1)\n",
    "        pos2 = get_position(idx2) \n",
    "        flag1(canvas, pos1, FLAG_SIZE)\n",
    "        flag2(canvas, pos2, FLAG_SIZE)\n",
    "    \n",
    "    if event == 'phase_2':\n",
    "        match, idxs = data\n",
    "        positions = [get_position(idx) for idx in idxs]\n",
    "        for pos in positions:\n",
    "            canvas.clear_rect(*pos, FLAG_SIZE)\n",
    "            \n",
    "        if not match:\n",
    "            for pos in positions:\n",
    "                canvas.fill_rect(*pos, FLAG_SIZE)"
   ]
  },
  {
   "cell_type": "code",
   "execution_count": null,
   "id": "0e3c65f2-9e16-4d09-bac6-a6f00288802a",
   "metadata": {},
   "outputs": [],
   "source": [
    "handle_event(bg, 'new_game')"
   ]
  },
  {
   "cell_type": "code",
   "execution_count": null,
   "id": "9ed2721c-c45e-4a4c-afc3-9c07e47232df",
   "metadata": {},
   "outputs": [],
   "source": [
    "picks = ((1, flags[1]), (3, flags[3]))\n",
    "handle_event(bg, 'phase_1', picks)"
   ]
  },
  {
   "cell_type": "code",
   "execution_count": null,
   "id": "ad1a8284-600f-4087-98a5-0eca6ff6ee52",
   "metadata": {},
   "outputs": [],
   "source": [
    "handle_event(bg, 'phase_2', (True, (1,3),))"
   ]
  },
  {
   "cell_type": "code",
   "execution_count": null,
   "id": "c4527fcc-4ba3-4621-be3f-7af9568ad468",
   "metadata": {},
   "outputs": [],
   "source": [
    "handle_event(bg, 'phase_2', (False, (1,3),))"
   ]
  },
  {
   "cell_type": "markdown",
   "id": "8fe0730c-3910-44c5-8496-5c1f1b8dc014",
   "metadata": {},
   "source": [
    "***\n",
    "**Play Memory**\n",
    "***"
   ]
  },
  {
   "cell_type": "code",
   "execution_count": null,
   "id": "7426d66d-383d-48ab-9c2d-7a9e81336018",
   "metadata": {},
   "outputs": [],
   "source": [
    "bg.clear()\n",
    "display(mcanvas)"
   ]
  },
  {
   "cell_type": "code",
   "execution_count": null,
   "id": "2ef91624-b981-4d3c-a123-1d15b0119dd4",
   "metadata": {},
   "outputs": [],
   "source": [
    "callback = lambda event, data: handle_event(bg, event, data)\n",
    "M.set_callback(callback)\n",
    "M.init(flags)"
   ]
  },
  {
   "cell_type": "code",
   "execution_count": null,
   "id": "0b91ebe7-1765-488f-9cb1-4ae6cc0358d7",
   "metadata": {},
   "outputs": [],
   "source": [
    "layout = M.state['layout']\n",
    "matches = [(i,j) for i,x in layout.items() for j,y in layout.items() if i < j and x == y]\n",
    "(a1, a2), (b1, b2), (c1, c2) = matches\n",
    "matches"
   ]
  },
  {
   "cell_type": "code",
   "execution_count": null,
   "id": "9f965e1c-3fda-4f54-8eb1-dcfb9873699b",
   "metadata": {},
   "outputs": [],
   "source": [
    "M.face_up(a1, a2)"
   ]
  },
  {
   "cell_type": "code",
   "execution_count": null,
   "id": "7c646d06-e506-454e-841a-ab599778d056",
   "metadata": {},
   "outputs": [],
   "source": [
    "M.face_down()"
   ]
  },
  {
   "cell_type": "code",
   "execution_count": null,
   "id": "490ff96e-aa55-4ae0-ba31-16f46bdf1ee9",
   "metadata": {},
   "outputs": [],
   "source": [
    "M.face_up(b1, c1)"
   ]
  },
  {
   "cell_type": "code",
   "execution_count": null,
   "id": "7a1f3e99-fa0f-4d42-aea3-eaebe9b41ea1",
   "metadata": {},
   "outputs": [],
   "source": [
    "M.face_down()"
   ]
  },
  {
   "cell_type": "code",
   "execution_count": null,
   "id": "cce0ec81-c522-4e3f-b22a-a0a6a5ad8611",
   "metadata": {},
   "outputs": [],
   "source": [
    "M.face_up(b1, b2)"
   ]
  },
  {
   "cell_type": "code",
   "execution_count": null,
   "id": "7e16f1c1-42cd-4e7e-a797-74e5423275f7",
   "metadata": {},
   "outputs": [],
   "source": [
    "M.face_down()"
   ]
  },
  {
   "cell_type": "code",
   "execution_count": null,
   "id": "124c129b-0054-4a24-b741-b7ae52ef511b",
   "metadata": {},
   "outputs": [],
   "source": [
    "M.face_up(c1, c2)"
   ]
  },
  {
   "cell_type": "code",
   "execution_count": null,
   "id": "899c1d30-10d5-4113-b490-ffaa3a355521",
   "metadata": {},
   "outputs": [],
   "source": [
    "M.face_down()"
   ]
  },
  {
   "cell_type": "code",
   "execution_count": null,
   "id": "9047453f-15a3-4de7-a903-48df618e1888",
   "metadata": {},
   "outputs": [],
   "source": [
    "# wer hat was gesammelt?\n",
    "{player:[m.__name__ for m in matches] for player, matches in M.state['matches'].items()}"
   ]
  },
  {
   "cell_type": "code",
   "execution_count": null,
   "id": "eb0a23c7-2905-4bde-bb43-fcaaa1ee4510",
   "metadata": {},
   "outputs": [],
   "source": []
  }
 ],
 "metadata": {
  "kernelspec": {
   "display_name": "Python 3 (ipykernel)",
   "language": "python",
   "name": "python3"
  },
  "language_info": {
   "codemirror_mode": {
    "name": "ipython",
    "version": 3
   },
   "file_extension": ".py",
   "mimetype": "text/x-python",
   "name": "python",
   "nbconvert_exporter": "python",
   "pygments_lexer": "ipython3",
   "version": "3.9.10"
  }
 },
 "nbformat": 4,
 "nbformat_minor": 5
}
