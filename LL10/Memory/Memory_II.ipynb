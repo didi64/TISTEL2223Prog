{
 "cells": [
  {
   "cell_type": "markdown",
   "id": "3f44a8a7-3e3c-401f-8d09-8850f56819f5",
   "metadata": {},
   "source": [
    "### Memory programmieren, Teil II"
   ]
  },
  {
   "cell_type": "markdown",
   "id": "2bd0008f-9a3f-415d-9bcf-a375ffbd5886",
   "metadata": {},
   "source": [
    "### Aufgaben\n",
    "Implementiere folgende Funktionen.  \n",
    "Alle diese Funktionen greifen auf den globalen Dictionary `state` zu.  \n",
    "**Beachte**: Die Werte des Dictionaries `state` k&ouml;nnen von einer Funktion\n",
    "gelesen und modifiziert werden, ohne das `state` als globale Variable deklariert werden muss."
   ]
  },
  {
   "cell_type": "code",
   "execution_count": null,
   "id": "f4d136b5-b131-4740-862c-21b171e0ee6f",
   "metadata": {
    "tags": []
   },
   "outputs": [],
   "source": [
    "# Hilfsfunktionen\n",
    "def cards_face_up():\n",
    "    '''gib eine Liste von Tupeln zurueck.\n",
    "       Jedes dieser Tupel hat die Form \n",
    "       (<index>, <Karte die an dieser Position liegt>)\n",
    "    '''\n",
    "    pass\n",
    "\n",
    "def remaining_cards():\n",
    "    '''Gib die Indizes der noch nicht eingesammelten Karten zurueck'''\n",
    "    pass\n",
    "\n",
    "def remove_cards(idxs):\n",
    "    '''idxs: Liste von Indizes der Karten, die\n",
    "       eingesammelt werden\n",
    "    '''\n",
    "    pass\n",
    "\n",
    "def next_player(match = False):\n",
    "    '''falls keine Karten mehr liegen: None ist nun am Zug\n",
    "       sonst: \n",
    "         falls match == False: naechster Spieler ist am Zug\n",
    "    '''\n",
    "    pass"
   ]
  },
  {
   "cell_type": "code",
   "execution_count": null,
   "id": "90f15d2b-3a45-4dff-a9b5-70a746b1ba0c",
   "metadata": {},
   "outputs": [],
   "source": [
    "# Hilfsfunktionen importieren und testen\n",
    "import memory_helpers as mh\n",
    "\n",
    "deck = list(2*'ABC')\n",
    "deck"
   ]
  },
  {
   "cell_type": "code",
   "execution_count": null,
   "id": "d5019534-5a01-4a30-9306-1a67a88f84b7",
   "metadata": {},
   "outputs": [],
   "source": [
    "state = mh.state\n",
    "state"
   ]
  },
  {
   "cell_type": "code",
   "execution_count": null,
   "id": "22840b97-dda6-4f99-94e0-5686986a5390",
   "metadata": {},
   "outputs": [],
   "source": [
    "mh.init(deck, nplayers = 2, player_to_move = 0)\n",
    "state"
   ]
  },
  {
   "cell_type": "code",
   "execution_count": null,
   "id": "e62e857b-d171-4246-9d68-d3ffb2f6e2ca",
   "metadata": {},
   "outputs": [],
   "source": [
    "mh._next_player(False)\n",
    "state['player_to_move']"
   ]
  },
  {
   "cell_type": "code",
   "execution_count": null,
   "id": "b432c6cb-9052-42a1-80ff-3eea232535a1",
   "metadata": {},
   "outputs": [],
   "source": [
    "state['face_up'] = (1,2)\n",
    "mh._cards_face_up()"
   ]
  },
  {
   "cell_type": "code",
   "execution_count": null,
   "id": "a1e7a198-3791-4d6b-93cd-2f1e61b837ba",
   "metadata": {},
   "outputs": [],
   "source": [
    "mh._remaining_cards()"
   ]
  },
  {
   "cell_type": "code",
   "execution_count": null,
   "id": "e2de9d6d-a6c6-4cf8-af56-3ad63ba47cf8",
   "metadata": {},
   "outputs": [],
   "source": [
    "mh._remove_cards((1,3))\n",
    "mh._remaining_cards()"
   ]
  },
  {
   "cell_type": "markdown",
   "id": "6e489cf7-30bb-494e-a4ef-1c23ba95207b",
   "metadata": {},
   "source": [
    "### Memory fertig stellen"
   ]
  },
  {
   "cell_type": "code",
   "execution_count": null,
   "id": "6707d359-3756-4666-9a22-cb6d1c61d269",
   "metadata": {},
   "outputs": [],
   "source": [
    "def face_up(i, j):\n",
    "    '''markiere die ite und jte Karte als 'face_up', \n",
    "       falls diese Karten noch nicht eingesammelt wurden\n",
    "    '''\n",
    "    if i in state['layout'] and j in state['layout']:\n",
    "        state['face_up'] = (i, j)\n",
    "        \n",
    "def face_down():\n",
    "    '''falls face-up Karten kein Match: drehe sie wieder um, gib Zugrecht an naechsten Spieler\n",
    "       falls face-up Karten Match: entferne Karten aus Layout und update state['matches']\n",
    "    '''\n",
    "    (idx1, card1), (idx2, card2) = mh._cards_face_up()\n",
    "    match = card1 == card2\n",
    "    \n",
    "    if match:\n",
    "        player = state['player_to_move']\n",
    "        state['matches'][player].append(card1) \n",
    "        mh._remove_cards((idx1, idx2))\n",
    "      \n",
    "    mh._next_player(match)   \n",
    "    state['face_up'] = ()  "
   ]
  },
  {
   "cell_type": "markdown",
   "id": "b9be9854-38dc-4d5d-a591-6a486dc6191f",
   "metadata": {},
   "source": [
    "***\n",
    "**Code testen**\n",
    "***"
   ]
  },
  {
   "cell_type": "code",
   "execution_count": null,
   "id": "97a8a668-5fc1-4c9e-beab-a5cad96c9e21",
   "metadata": {},
   "outputs": [],
   "source": [
    "def show_info():\n",
    "    print('Matches:', state['matches'])   \n",
    "    print('Cards face-up', mh._cards_face_up())\n",
    "    print('Player to move:', state['player_to_move'])   \n",
    "    print('Verbleibende Karten:', mh._remaining_cards())"
   ]
  },
  {
   "cell_type": "code",
   "execution_count": null,
   "id": "36ce1984-d61d-4edb-b1f9-03c586517ae5",
   "metadata": {},
   "outputs": [],
   "source": [
    "deck = list(2*'ABC')\n",
    "mh.init(deck)\n",
    "matches = mh.get_matches(deck)\n",
    "matches"
   ]
  },
  {
   "cell_type": "code",
   "execution_count": null,
   "id": "95c60060-9359-4052-8483-8289acc00cb5",
   "metadata": {},
   "outputs": [],
   "source": [
    "face_up(*matches['A'])\n",
    "show_info()"
   ]
  },
  {
   "cell_type": "code",
   "execution_count": null,
   "id": "19062b89-d324-48ed-ab11-b1585ba27726",
   "metadata": {},
   "outputs": [],
   "source": [
    "face_down()\n",
    "show_info()"
   ]
  },
  {
   "cell_type": "code",
   "execution_count": null,
   "id": "7d70ab3d-0e9e-4191-b5ba-7d2762a27f05",
   "metadata": {},
   "outputs": [],
   "source": [
    "i = matches['B'][0]\n",
    "j = matches['C'][0]\n",
    "face_up(i, j)\n",
    "show_info()"
   ]
  },
  {
   "cell_type": "code",
   "execution_count": null,
   "id": "f5451cee-ea20-4681-a613-2fb32ee79720",
   "metadata": {},
   "outputs": [],
   "source": [
    "face_down()\n",
    "show_info()"
   ]
  },
  {
   "cell_type": "code",
   "execution_count": null,
   "id": "7f92a6d1-1eb6-4e50-8fb3-20dc105184a0",
   "metadata": {},
   "outputs": [],
   "source": [
    "face_up(*matches['B'])\n",
    "show_info()"
   ]
  },
  {
   "cell_type": "code",
   "execution_count": null,
   "id": "09b7145f-5a39-4d8d-b7e9-a220539ffd56",
   "metadata": {},
   "outputs": [],
   "source": [
    "face_down()\n",
    "show_info()"
   ]
  },
  {
   "cell_type": "code",
   "execution_count": null,
   "id": "2f39b4ab-6260-4368-8d4c-fbc56a2f4452",
   "metadata": {},
   "outputs": [],
   "source": [
    "face_up(*matches['C'])\n",
    "show_info()"
   ]
  },
  {
   "cell_type": "code",
   "execution_count": null,
   "id": "aeea0671-3f31-4f34-93ff-30f8bd430404",
   "metadata": {},
   "outputs": [],
   "source": [
    "face_down()\n",
    "show_info()"
   ]
  },
  {
   "cell_type": "code",
   "execution_count": null,
   "id": "4070a37f-a86a-4561-b80c-2c0de9e0ecbf",
   "metadata": {},
   "outputs": [],
   "source": []
  }
 ],
 "metadata": {
  "kernelspec": {
   "display_name": "Python 3 (ipykernel)",
   "language": "python",
   "name": "python3"
  },
  "language_info": {
   "codemirror_mode": {
    "name": "ipython",
    "version": 3
   },
   "file_extension": ".py",
   "mimetype": "text/x-python",
   "name": "python",
   "nbconvert_exporter": "python",
   "pygments_lexer": "ipython3",
   "version": "3.9.10"
  }
 },
 "nbformat": 4,
 "nbformat_minor": 5
}
