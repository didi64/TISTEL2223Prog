{
 "cells": [
  {
   "cell_type": "markdown",
   "id": "1ae5089a-7418-468d-8077-16339dcd91d0",
   "metadata": {},
   "source": [
    "### Git und Github\n",
    "- eigener Github Account erstellen \n",
    "- erstes Git-Repo erstellen\n",
    "- Zugriff via ssh aus Container konfigurieren"
   ]
  },
  {
   "cell_type": "markdown",
   "id": "200ba14b-eccf-4682-a8db-8ed359f36a50",
   "metadata": {},
   "source": [
    "### Github Account erstellen\n",
    "Gehe auf [github.com](https://www.github.com) und klicke auf sign-up.  \n",
    "Benutze deine TEKO-Emailadresse.  "
   ]
  },
  {
   "cell_type": "markdown",
   "id": "edbfe843-8d08-4c0e-8ff9-7fb393b73667",
   "metadata": {},
   "source": [
    "### Erstes Repo erstellen\n",
    "In deinem Github Account, klicke New Repo ([ev. siehe hier](https://docs.github.com/en/repositories/creating-and-managing-repositories/creating-a-new-repository)).  \n",
    "W&auml;hle \"**private**\", \"Readme-File erstellen\" und das \"Python .gitignore-Template\"."
   ]
  },
  {
   "cell_type": "markdown",
   "id": "2f910543-9f0d-49c8-8f09-48df365be97d",
   "metadata": {},
   "source": [
    "### Zugriff via ssh aus Container konfigurieren\n",
    "- kopiere die Scripts `init_ssh` und `clone_new_repo` aus dem\n",
    "Ordner `~/work/TISTEL2223/scripts` nach `~/work/scripts`  "
   ]
  },
  {
   "cell_type": "code",
   "execution_count": 2,
   "id": "f8fd2f9b-a801-4df5-9668-71fed8109331",
   "metadata": {},
   "outputs": [],
   "source": [
    "!cp /home/jovyan/work/TISTEL2223Prog/scripts/init_ssh ~/work/scripts/.\n",
    "!cp /home/jovyan/work/TISTEL2223Prog/scripts/clone_new_repo ~/work/scripts/."
   ]
  },
  {
   "cell_type": "markdown",
   "id": "eb9fbaad-580b-4dde-b419-a4a0ee0f6cf7",
   "metadata": {},
   "source": [
    "Erstelle ein Verzeichins `~/work/.ssh` und erstellen ein ssk-Key-Pair mit dem Namen\n",
    "`id_<Vorname>` und `id_<Vorname>.pub`. \n",
    "F&uuml;hre folgenden Befehl im Jupyterlab Terminal aus, aber **ersetzte `<vorname>` mit deinem Vornamen**. Wenn nach key-phrase gefragt, dr&uuml;cke einfach enter:  \n",
    "> `$ init_ssh <vorname>`  \n",
    "\n",
    "Nachfolgende Zelle sollte nun Output der Form\n",
    "```\n",
    "drwx------ 2 jovyan users 4096 Jan  7 12:02 /home/jovyan/work/.ssh\n",
    "total 8\n",
    "-rw------- 1 jovyan 1000 419 Jan  7 10:56 id_didi\n",
    "-rw-r--r-- 1 jovyan 1000 105 Jan  7 10:56 id_didi.pub\n",
    "\n",
    "```\n",
    "produzieren"
   ]
  },
  {
   "cell_type": "code",
   "execution_count": 11,
   "id": "721b87b6-065a-439f-a77e-421193221d2f",
   "metadata": {},
   "outputs": [
    {
     "name": "stdout",
     "output_type": "stream",
     "text": [
      "drwx------ 2 jovyan users 4096 Jan  7 12:02 /home/jovyan/work/.ssh\n",
      "total 8\n",
      "-rw------- 1 jovyan 1000 419 Jan  7 10:56 id_didi\n",
      "-rw-r--r-- 1 jovyan 1000 105 Jan  7 10:56 id_didi.pub\n"
     ]
    }
   ],
   "source": [
    "!ls -ld ~/work/.ssh\n",
    "!ls -l ~/work/.ssh"
   ]
  },
  {
   "cell_type": "code",
   "execution_count": 16,
   "id": "b5344646-861e-4d17-82c8-ad9033ad06b3",
   "metadata": {},
   "outputs": [
    {
     "name": "stdout",
     "output_type": "stream",
     "text": [
      "ssh-ed25519 AAAAC3NzaC1lZDI1NTE5AAAAIP3IICC9C1kzjr4mJ+l6EkboQ1Rr6CnQqJXBiu3hEJc9 fuer git user didi\n"
     ]
    }
   ],
   "source": [
    "# public key anzeigen: ergaenze mit <vornamen>.pub\n",
    "!cat /home/jovyan/work/.ssh/id_didi.pub"
   ]
  },
  {
   "cell_type": "markdown",
   "id": "f4f5fac9-4e47-4bcc-ad81-106807cf728f",
   "metadata": {},
   "source": [
    "Im Github Account, klicke neben Profil-Pic: settings -> SSH und GPG keys -> New ssh-key \n",
    "Copy/paste dann deinen public key ins Feld key (siehe ev. auch [hier](https://docs.github.com/en/authentication/connecting-to-github-with-ssh/adding-a-new-ssh-key-to-your-github-account))  "
   ]
  },
  {
   "cell_type": "markdown",
   "id": "a8ce129b-4201-4a3e-bd3b-565667642c62",
   "metadata": {},
   "source": [
    "F&uuml;hre nun folgenden Befehl im Jupyterlab Terminal aus:  \n",
    "> `$ source clone_new_repo <github_username>/<repo-name> \"<name>\" \"<email>\"`  \n",
    "\n",
    "also z.B. `source clone_new_repo didi64/test \"Dieter Probst\" \"dieter.probst@gmail.com\"`  "
   ]
  },
  {
   "cell_type": "code",
   "execution_count": null,
   "id": "d189ca86-45fc-4829-aec3-8f0480a480a1",
   "metadata": {},
   "outputs": [],
   "source": []
  },
  {
   "cell_type": "code",
   "execution_count": null,
   "id": "fc894477-2132-4238-9056-3e6be441f61e",
   "metadata": {},
   "outputs": [],
   "source": [
    "\n"
   ]
  }
 ],
 "metadata": {
  "kernelspec": {
   "display_name": "Python 3 (ipykernel)",
   "language": "python",
   "name": "python3"
  },
  "language_info": {
   "codemirror_mode": {
    "name": "ipython",
    "version": 3
   },
   "file_extension": ".py",
   "mimetype": "text/x-python",
   "name": "python",
   "nbconvert_exporter": "python",
   "pygments_lexer": "ipython3",
   "version": "3.9.10"
  }
 },
 "nbformat": 4,
 "nbformat_minor": 5
}
