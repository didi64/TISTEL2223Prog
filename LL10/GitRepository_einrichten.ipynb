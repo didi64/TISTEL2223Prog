{
 "cells": [
  {
   "cell_type": "markdown",
   "id": "1ae5089a-7418-468d-8077-16339dcd91d0",
   "metadata": {},
   "source": [
    "### Git und Github\n",
    "- eigener Github Account erstellen \n",
    "- erstes Git-Repo erstellen\n",
    "- Zugriff via ssh aus Container konfigurieren  \n",
    "\n",
    "Wie wir noch sehen werden erm&ouml;glicht  git und Github auf bequeme Weise Notebooks mit mir zu teilen (z.B. euer Projekt).  \n",
    "Ausf&uuml;hrliche Infos zu git finden sich z.B. hier:  \n",
    "[https://git-scm.com/doc](https://git-scm.com/doc)"
   ]
  },
  {
   "cell_type": "markdown",
   "id": "200ba14b-eccf-4682-a8db-8ed359f36a50",
   "metadata": {},
   "source": [
    "### Github Account erstellen\n",
    "Gehe auf [github.com](https://www.github.com) und klicke auf sign-up.  \n",
    "Benutze deine TEKO-Emailadresse (mit ich dich finde und mit dir auf Github kollaborieren kann). "
   ]
  },
  {
   "cell_type": "markdown",
   "id": "edbfe843-8d08-4c0e-8ff9-7fb393b73667",
   "metadata": {},
   "source": [
    "### Erstes Repo erstellen\n",
    "In deinem Github Account, klicke New Repo ([ev. siehe hier](https://docs.github.com/en/repositories/creating-and-managing-repositories/creating-a-new-repository)).  \n",
    "W&auml;hle \"**private**\", \"Readme-File erstellen\" und das \"Python .gitignore-Template\"."
   ]
  },
  {
   "cell_type": "markdown",
   "id": "2f910543-9f0d-49c8-8f09-48df365be97d",
   "metadata": {},
   "source": [
    "### Zugriff via ssh aus Container konfigurieren\n",
    "- Weise nachstehenden Variablen dein Angaben zu."
   ]
  },
  {
   "cell_type": "code",
   "execution_count": null,
   "id": "cb7d649b-8e04-40b2-a809-2576ab9853ec",
   "metadata": {},
   "outputs": [],
   "source": [
    "git_name = 'didi64'\n",
    "fname = 'Dieter' \n",
    "name  = 'Probst'\n",
    "emal = 'dieter.probst@edu.teko.ch'\n",
    "print(gitaccountname, fname, name,email)"
   ]
  },
  {
   "cell_type": "markdown",
   "id": "15d05611-4b4c-44c3-9c9a-f1edd7c862d8",
   "metadata": {},
   "source": [
    "- Nachstehende Zelle kopiert die Scripts `init_ssh` und `clone_new_repo` aus dem\n",
    "Ordner `~/work/TISTEL2223/scripts` nach `~/work/scripts`  "
   ]
  },
  {
   "cell_type": "code",
   "execution_count": null,
   "id": "f8fd2f9b-a801-4df5-9668-71fed8109331",
   "metadata": {},
   "outputs": [],
   "source": [
    "src_dir    = '/home/jovyan/work/TISTEL2223Prog/scripts'\n",
    "target_dir = '/home/jovyan/work/scripts'\n",
    "!cp \"$src_dir\"/init_ssh \"$target_dir\"/.\n",
    "!cp \"$src_dir\"/clone_new_repo \"$target_dir\"/."
   ]
  },
  {
   "cell_type": "code",
   "execution_count": null,
   "id": "db36333c-2355-4ffd-a50c-77f25ce37cdc",
   "metadata": {},
   "outputs": [],
   "source": [
    "print('init_ssh', git_name)"
   ]
  },
  {
   "cell_type": "markdown",
   "id": "eb9fbaad-580b-4dde-b419-a4a0ee0f6cf7",
   "metadata": {},
   "source": [
    "- Gib im Jupyterlab Terminal den oben gezeigten Befehl ein.  \n",
    "  Ein Verzeichins `~/work/.ssh` und ein ssk-Key-Pair mit dem Namen `id_<git_name>` und `id_<git_name>.pub` werden erstellt.\n",
    "  Wenn nach key-phrase gefragt, dr&uuml;cke einfach enter.  \n",
    "\n",
    "  Nachfolgende Zelle sollte Output folgender Art produzieren:  \n",
    "  \n",
    "```\n",
    "drwx------ 2 jovyan users 4096 Jan  7 12:02 /home/jovyan/work/.ssh\n",
    "total 8\n",
    "-rw------- 1 jovyan 1000 419 Jan  7 10:56 id_didi\n",
    "-rw-r--r-- 1 jovyan 1000 105 Jan  7 10:56 id_didi.pub\n",
    "```"
   ]
  },
  {
   "cell_type": "code",
   "execution_count": null,
   "id": "721b87b6-065a-439f-a77e-421193221d2f",
   "metadata": {},
   "outputs": [],
   "source": [
    "!ls -ld ~/work/.ssh\n",
    "!ls -l ~/work/.ssh"
   ]
  },
  {
   "cell_type": "code",
   "execution_count": null,
   "id": "b5344646-861e-4d17-82c8-ad9033ad06b3",
   "metadata": {},
   "outputs": [],
   "source": [
    "# public key anzeigen: \n",
    "!cat /home/jovyan/work/.ssh/id_\"$git_name\".pub"
   ]
  },
  {
   "cell_type": "markdown",
   "id": "f4f5fac9-4e47-4bcc-ad81-106807cf728f",
   "metadata": {},
   "source": [
    "- Im Github Account, klicke neben Profil-Pic:  \n",
    "  settings -> SSH und GPG keys -> New ssh-key  \n",
    "  Copy/paste dann deinen public key ins Feld key (siehe ev. auch [hier](https://docs.github.com/en/authentication/connecting-to-github-with-ssh/adding-a-new-ssh-key-to-your-github-account))  "
   ]
  },
  {
   "cell_type": "markdown",
   "id": "a8ce129b-4201-4a3e-bd3b-565667642c62",
   "metadata": {},
   "source": [
    "- F&uuml;hre dann den in der n&auml;chsten Zelle generierten Befehl im Jupyterlab Terminal aus. "
   ]
  },
  {
   "cell_type": "code",
   "execution_count": null,
   "id": "fc894477-2132-4238-9056-3e6be441f61e",
   "metadata": {},
   "outputs": [],
   "source": [
    "print('source clone_new_repo {}/test \"{} {}\" \"{}\"'.format(git_name, fname, name, email))"
   ]
  },
  {
   "cell_type": "markdown",
   "id": "818605f7-fad2-408e-90b4-2dde3023f5e7",
   "metadata": {},
   "source": [
    "### Erste Schritte mit dem Repo\n",
    "- Navigiere links im File-Window ins Verzeichnis `git-repos/test`\n",
    "- Erstelle dort ein neues Notebook 'hello_world.iopynb' etwas Code.\n",
    "- commite das File ins lokale Repo und pushe es dann auf Github  \n",
    "  (wird nach dbei `git commit <file>` keine Commit-Message angegeben, so &ouml;ffnet sich der Editor `vi`.  \n",
    "  Um diesen zu Verlassen, dr&uuml;cke `ESC`, dann `:q!` und `enter`\n",
    "\n",
    "```\n",
    "$ git add hello_world.ipynb \n",
    "$ git commit hello_world.ipynb -m 'initial commit'\n",
    "$ git push\n",
    "\n",
    "Fuege einen Fehler in den Code ein und wiederhole\n",
    "\n",
    "$ git add hello_world.ipynb \n",
    "$ git commit hello_world.ipynb -m 'bug inserted'\n",
    "$ git push\n",
    "\n",
    "Tippe im Jupyterlab Terminal $ git log\n",
    "```\n",
    "```\n",
    ".\n",
    ".\n",
    ".\n",
    "commit cb66e164bda55c61932ad164ab5555394c738531\n",
    "Author: Dieter Probst <dieter.probst@edu.teko.ch>\n",
    "\n",
    "    initial commit\n",
    ".\n",
    ".\n",
    ".\n",
    "```\n",
    "\n",
    "Checke das urspruengliche Notebook aus\n",
    "\n",
    "```\n",
    "$ git checkout cb66e164 hello_world.ipynb\n",
    "\n",
    "in diesem Notebook: File -> reload from disk\n",
    "\n",
    "$ git add hello_world.ipynb \n",
    "$ git commit hello_world.ipynb -m 'bug fixed'\n",
    "$ git push\n",
    "```"
   ]
  },
  {
   "cell_type": "code",
   "execution_count": null,
   "id": "eeb9368b-cf9f-42e7-a9af-00e59a985ead",
   "metadata": {},
   "outputs": [],
   "source": []
  }
 ],
 "metadata": {
  "kernelspec": {
   "display_name": "Python 3 (ipykernel)",
   "language": "python",
   "name": "python3"
  },
  "language_info": {
   "codemirror_mode": {
    "name": "ipython",
    "version": 3
   },
   "file_extension": ".py",
   "mimetype": "text/x-python",
   "name": "python",
   "nbconvert_exporter": "python",
   "pygments_lexer": "ipython3",
   "version": "3.9.10"
  }
 },
 "nbformat": 4,
 "nbformat_minor": 5
}
