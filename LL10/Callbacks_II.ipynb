{
 "cells": [
  {
   "cell_type": "markdown",
   "id": "24346f47-b586-4875-8677-f774db2402f3",
   "metadata": {},
   "source": [
    "### Callbacks / Event-Handlers\n",
    " \n",
    "- In Python sind **Funktionen** wie man sagt **first class citizens**. Funktionen sind Objekte wie alle anderen und k&ouml;nnen u.a. Variabeln zugewiesen werden oder (anderen) Funktionen als Argumente &uuml;bergeben werden.  \n",
    "\n",
    "- Eine Funktion, welche einer anderen Funktion als Argument &uuml;bergeben wird, wird **Callback** genannt.\n",
    "Oft wird diese Funktion beim Eintreffen eines sog. **Events** \n",
    "(Tastendruck, Mausklick, Mausklick auf Button, Ausw&auml;hlen einer Option in einem Menu,...) aufgerufen und dann auch **Event-Handler** genannt.  \n",
    "\n",
    "- Das Sicherstellen, dass der Callback \n",
    "zu einem sp&auml;teren Zeitpunkt z.B. von einem Button-Objekt aufgerufen wird, nennt sich auch **Registrierung des Callbacks**."
   ]
  },
  {
   "cell_type": "markdown",
   "id": "75e3f98c-b7c2-49c7-984a-c5cab340742c",
   "metadata": {},
   "source": [
    "***\n",
    "**Ein erstes Beispiel**\n",
    "***"
   ]
  },
  {
   "cell_type": "code",
   "execution_count": null,
   "id": "4bd718d1-5869-4e77-815d-abe986787de0",
   "metadata": {},
   "outputs": [],
   "source": [
    "def str2list(s, f):\n",
    "    '''trenne den String s beim ',' -> Liste\n",
    "       wende f auf Listenelemente an\n",
    "    '''   \n",
    "    lst = s.split(',')\n",
    "    return [f(x) for x in lst]\n",
    "\n",
    "# wird als Callback verwendet\n",
    "def double(x):\n",
    "    return x + x"
   ]
  },
  {
   "cell_type": "code",
   "execution_count": null,
   "id": "0b73879f-0c90-4ead-97bf-aa6a561a287c",
   "metadata": {},
   "outputs": [],
   "source": [
    "s = '1,2,3,4,5'\n",
    "str2list(s, double)"
   ]
  },
  {
   "cell_type": "markdown",
   "id": "e827de2c-b86f-4b6b-ba31-6f8ec297d960",
   "metadata": {},
   "source": [
    "***\n",
    "Anstelle einer Funktion kann auch ein Objekt `obj` f&uuml;r welches\n",
    "`obj(x)` syntaktisch korrekter Code ist (ein **Callable**) &uuml;bergeben werden.\n",
    "***"
   ]
  },
  {
   "cell_type": "code",
   "execution_count": null,
   "id": "74da037c-45c6-405a-89f6-c726330d4126",
   "metadata": {},
   "outputs": [],
   "source": [
    "s = '1,2,3,4,5'\n",
    "str2list(s, int)\n",
    "# str2list(s, list)"
   ]
  },
  {
   "cell_type": "markdown",
   "id": "f9acacab-8381-4d82-8a74-7f4be59c9fcd",
   "metadata": {},
   "source": [
    "### Ein Dictionary mit Callbacks\n",
    "Wir wollen Elemente einer Liste bearbeiten.\n",
    "Je nach Typ des Listenelements soll etwas mit dem Element gemacht werden.  \n",
    "\n",
    "Wir benutzen einen Dictionary `callbacks`. \n",
    "F&uuml;r einen Typ (z.b. `int`) ist\n",
    "`callbacks[int]` z.B. eine **Liste** mit Funktionen, welche\n",
    "der Reihe nach zum Modifizieren der Listenelemente dieses Typs verwendet werden sollen.\n",
    "Z.B. Integers sollen zuerst quadriert und dann in einen String umgewandelt werden."
   ]
  },
  {
   "cell_type": "code",
   "execution_count": null,
   "id": "507df3b5-345c-4e16-953e-218e2e551e4d",
   "metadata": {},
   "outputs": [],
   "source": [
    "def pick_and_apply_callbacks(item, callbacks):\n",
    "    '''wende die Funktionen in callbacks[type(item)] \n",
    "       der Reihe nach auf item an\n",
    "       \n",
    "       gib item unveraendert zurueck falls type(item) kein Key im dict callbacks\n",
    "    '''\n",
    "    funs = callbacks.get(type(item), [])\n",
    "    for fun in funs:\n",
    "        item = fun(item)\n",
    "    return item  \n",
    "\n",
    "def process_list(lst, callbacks):\n",
    "    '''modifiziere die Elemente der Liste lst\n",
    "       mit den Funktionen im dict callbacks \n",
    "    '''\n",
    "    return [pick_and_apply_callbacks(item, callbacks) for item in lst]\n",
    "\n",
    "def square(x):\n",
    "    return x**2"
   ]
  },
  {
   "cell_type": "code",
   "execution_count": null,
   "id": "a762ca5e-071b-4775-b7e3-3cf03b998b63",
   "metadata": {},
   "outputs": [],
   "source": [
    "lst = [1, 2, 3, 'foo']\n",
    "callbacks = {int: [square, str]}\n",
    "process_list(lst, callbacks)"
   ]
  },
  {
   "cell_type": "markdown",
   "id": "825d7d46-d3a9-4c6d-a86b-217a94540978",
   "metadata": {},
   "source": [
    "\n",
    "### Callbacks verwalten\n",
    "Die Funktion   \n",
    "`register_callback(typename, fun, remove = False)`  \n",
    "erlaubt das Hinzuf&uuml;gen und Entfernen von Callbacks.   \n",
    "\n",
    "**Die Registrierung von Callbacks bei Widgets in Jupyterlab folgt im Wesentlichen diesem Muster.**"
   ]
  },
  {
   "cell_type": "code",
   "execution_count": null,
   "id": "9dba865e-542e-477a-a698-3fd7a27ec3ed",
   "metadata": {},
   "outputs": [],
   "source": [
    "# Dictionary zum Speichern der Callbacks\n",
    "callbacks = {}\n",
    "\n",
    "# Funktion zum Verwalten der Callbacks\n",
    "def register_callback(typename, fun, remove = False):\n",
    "    '''registriere fun als Callback fuer den Typ typename\n",
    "       \n",
    "       Ist remove = True, wird der Callback entfernt \n",
    "    '''\n",
    "    if remove:\n",
    "        if fun in callbacks[typename]:\n",
    "            callbacks[typename].remove(fun)\n",
    "            print('unregistered callback {} for type {}'\\\n",
    "                  .format(fun.__name__, typename.__name__)\n",
    "                 )\n",
    "        \n",
    "    elif fun in callbacks.get(typename, []):\n",
    "        print('Callback {} already registered for type {}'\\\n",
    "              .format(fun.__name__, typename.__name__)\n",
    "             )\n",
    "        \n",
    "    else:\n",
    "        callbacks.setdefault(typename,[]).append(fun)\n",
    "        print('Callback {} registered for type {}'\\\n",
    "              .format(fun.__name__,typename.__name__))"
   ]
  },
  {
   "cell_type": "markdown",
   "id": "f2ce4ae8-b7fd-4368-9189-073e2b89afe2",
   "metadata": {},
   "source": [
    "***\n",
    "**Beachte:**  \n",
    "Wird nachfolgende Zelle ein zweites Mal ausgef&uuml;hrt, so\n",
    "werden neue Funktionen `square` und `round_1` erzeugt.  \n",
    "In der n&auml;chsten Zelle werden dann diese Funktionen\n",
    "als Callbacks registriert, ohne die alten Funktionen zu entfernen.  \n",
    "\n",
    "Auf die alten Funktionen kann nun nicht mehr via die Variabelnamen \n",
    "`square` und `round_1` zugegriffen werden.\n",
    "Das **verunm&ouml;glicht das Entfernen** der alten Funktionen als Callbacks mit unserer Funktion `register_callback`.\n",
    "***"
   ]
  },
  {
   "cell_type": "code",
   "execution_count": null,
   "id": "6a30af35-c9ce-48dd-ba57-50fd517a2954",
   "metadata": {},
   "outputs": [],
   "source": [
    "# callbacks\n",
    "def square(x):\n",
    "    return x**2\n",
    "def round_1(x):\n",
    "    return round(x, 1)"
   ]
  },
  {
   "cell_type": "code",
   "execution_count": null,
   "id": "518b33d9-7898-4252-a28a-b582bf20653a",
   "metadata": {},
   "outputs": [],
   "source": [
    "# callbacks registrieren\n",
    "# Integer verdoppeln und dann in String umwandeln\n",
    "# floats auf eine Kommastelle runden\n",
    "# Bei Strings Methode capitalize anwenden \n",
    "# (ersten Buchstaben gross machen, Rest klein)\n",
    "\n",
    "callbacks = {}\n",
    "register_callback(int, square)\n",
    "register_callback(int, str)\n",
    "register_callback(float, round_1)\n",
    "register_callback(str, str.capitalize)"
   ]
  },
  {
   "cell_type": "code",
   "execution_count": null,
   "id": "c4422870-41b4-4d73-b826-1c7fd85730d3",
   "metadata": {},
   "outputs": [],
   "source": [
    "# Funktionsnamen und id (Addresse des Objekts im Speicher) \n",
    "# der Callbacks im Dictionary callbacks anzeigen\n",
    "{k: [(callback.__name__, id(callback)) for callback in v]\\\n",
    "    for k, v in callbacks.items()\n",
    "}"
   ]
  },
  {
   "cell_type": "code",
   "execution_count": null,
   "id": "78cc7ab3-ef6a-4d0c-8ada-4a3751032e00",
   "metadata": {},
   "outputs": [],
   "source": [
    "# Listenelemente modifizieren\n",
    "data = [2, 2.23, 'foo']\n",
    "process_list(data, callbacks)"
   ]
  },
  {
   "cell_type": "code",
   "execution_count": null,
   "id": "f8dc309f-357a-4db0-b78e-cb8d4f583ec2",
   "metadata": {},
   "outputs": [],
   "source": [
    "register_callback(int, square,remove = True)"
   ]
  },
  {
   "cell_type": "code",
   "execution_count": null,
   "id": "a64419c9-5e93-4441-aa57-e98ebda8ab87",
   "metadata": {},
   "outputs": [],
   "source": []
  }
 ],
 "metadata": {
  "kernelspec": {
   "display_name": "Python 3 (ipykernel)",
   "language": "python",
   "name": "python3"
  },
  "language_info": {
   "codemirror_mode": {
    "name": "ipython",
    "version": 3
   },
   "file_extension": ".py",
   "mimetype": "text/x-python",
   "name": "python",
   "nbconvert_exporter": "python",
   "pygments_lexer": "ipython3",
   "version": "3.9.10"
  }
 },
 "nbformat": 4,
 "nbformat_minor": 5
}
