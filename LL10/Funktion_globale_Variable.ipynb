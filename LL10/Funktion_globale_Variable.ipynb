{
 "cells": [
  {
   "cell_type": "markdown",
   "id": "ead78776-d6fa-4f54-b142-9073cb621b85",
   "metadata": {},
   "source": [
    "### Globale Variable mit einer Funktion &auml;ndern  \n",
    "siehe auch [pynative.com/python-global-variables/](https://pynative.com/python-global-variables/)\n",
    " "
   ]
  },
  {
   "cell_type": "markdown",
   "id": "ca0656f0-3ae9-407d-ba23-1c13f4cf53d2",
   "metadata": {},
   "source": [
    "***\n",
    "**Erl&auml;uterungen zum Code in nachfolgender Zelle, einer typischen Anwendung**:  \n",
    "- Die Funktion `run()` ruft die \n",
    "  **zum Zeitpunkt des Funktionsaufrufs** in der globalen Variable `_callback` gespeicherte Funktion mit dem Argument `'App is running ...'` auf. Die Funktion `_callback` soll diese Message in geeigneter Form darstellen.\n",
    "\n",
    "- Der Variablename `_callback` signalisiert, dass `_callback` eine **private** Variable ist und nicht direkt modifiziert werden sollte.  \n",
    "- Die Funktion `set_callback(callback)` weist der globalen Variable `_callback` eine neue Funktion zu. Dabei wird getestet, ob\n",
    "`callback` tats&auml;chlich in der Rolle einer Funktion verwendet werden kann.\n",
    "***"
   ]
  },
  {
   "cell_type": "code",
   "execution_count": null,
   "id": "7cd2b246-c4bf-418c-9018-aad831b456f0",
   "metadata": {},
   "outputs": [],
   "source": [
    "# help(callable)"
   ]
  },
  {
   "cell_type": "code",
   "execution_count": null,
   "id": "fbf39785-c393-4b07-ac44-ccbcba39433a",
   "metadata": {},
   "outputs": [],
   "source": [
    "def run():\n",
    "    _callback('App is running ...')\n",
    "    \n",
    "def set_callback(callback):\n",
    "    '''weise der globalen Variable _callback die\n",
    "       uebergebene Funktion callback zu\n",
    "    '''   \n",
    "    # die Variable _callback wird als global deklariert \n",
    "    global _callback \n",
    "    \n",
    "    # check if callback is callable, i.e. if callback(...)\n",
    "    if not callable(callback):\n",
    "        raise TypeError('callback must be callable')\n",
    "        \n",
    "    _callback = callback\n",
    "    \n",
    "# globale Variable\n",
    "_callback = print"
   ]
  },
  {
   "cell_type": "code",
   "execution_count": null,
   "id": "244a4f49-a794-4e56-a57a-c3434e65a707",
   "metadata": {},
   "outputs": [],
   "source": [
    "run()"
   ]
  },
  {
   "cell_type": "code",
   "execution_count": null,
   "id": "1a910b7b-f806-4ff7-a7ef-0d8445c8b354",
   "metadata": {},
   "outputs": [],
   "source": [
    "print_in_upper_case = lambda s: print(s.upper())\n",
    "print_in_upper_case('test')"
   ]
  },
  {
   "cell_type": "code",
   "execution_count": null,
   "id": "6fc90688-2fe0-4bc9-aa39-5aec94f6c567",
   "metadata": {},
   "outputs": [],
   "source": [
    "# Das Gleiche, ohne Lambda\n",
    "def print_in_Upper_case(s):\n",
    "    print(s.upper())"
   ]
  },
  {
   "cell_type": "code",
   "execution_count": null,
   "id": "62bccf6a-7897-4acf-a101-4f86bc99d23b",
   "metadata": {},
   "outputs": [],
   "source": [
    "set_callback(print_in_Upper_case)\n",
    "run() # soll 'APP IS RUNNING ...' ausgeben"
   ]
  },
  {
   "cell_type": "markdown",
   "id": "6e778c2e-db9a-445d-9d33-eaa177a73a95",
   "metadata": {},
   "source": [
    "***\n",
    "**Achtung**: Die Rolle einer Variable im Funktionsbody muss klar sein: Eine Variable kann nicht sowohl als lokale und globale Variable auftreten.\n",
    "***"
   ]
  },
  {
   "cell_type": "code",
   "execution_count": null,
   "id": "7d6175d7-22e1-492f-a421-caff9c891815",
   "metadata": {},
   "outputs": [],
   "source": [
    "def add_to_global_x(x):\n",
    "    '''Das Argument x ist eine lokale Variable'''\n",
    "    # deklariert x als globale Variable, Konflikt!\n",
    "    global x\n",
    "    x = x + x\n",
    "    print('local x:', x)"
   ]
  },
  {
   "cell_type": "code",
   "execution_count": null,
   "id": "aad43f8d-315e-4fc7-921b-c2a8ea3f7753",
   "metadata": {},
   "outputs": [],
   "source": [
    "# kein Konflik mehr\n",
    "def add_to_global_x(y):\n",
    "    global x\n",
    "    x = x + y\n",
    "    print('global x:', x)"
   ]
  },
  {
   "cell_type": "code",
   "execution_count": null,
   "id": "25b1c968-06ea-4a7c-9349-32eda8c73bd1",
   "metadata": {},
   "outputs": [],
   "source": [
    "# globale Variable x\n",
    "x = 0\n",
    "add_to_global_x(10)\n",
    "print('global x:', x) "
   ]
  },
  {
   "cell_type": "code",
   "execution_count": null,
   "id": "a6c43207-d404-4fe9-9e11-05a558459772",
   "metadata": {},
   "outputs": [],
   "source": [
    "# zum Vergleich, lokale Variable im Funktionsbody\n",
    "def set_local_x(y):\n",
    "    x = y\n",
    "    print('local x:', x)"
   ]
  },
  {
   "cell_type": "code",
   "execution_count": null,
   "id": "ca108c59-8bcc-40a9-9b36-2257231e890c",
   "metadata": {},
   "outputs": [],
   "source": [
    "# globale Variable x\n",
    "x = 0\n",
    "set_local_x(10)\n",
    "print('global x:', x) "
   ]
  },
  {
   "cell_type": "code",
   "execution_count": null,
   "id": "7f534cc1-9873-4a40-846f-0061990fc3c0",
   "metadata": {},
   "outputs": [],
   "source": []
  }
 ],
 "metadata": {
  "kernelspec": {
   "display_name": "Python 3 (ipykernel)",
   "language": "python",
   "name": "python3"
  },
  "language_info": {
   "codemirror_mode": {
    "name": "ipython",
    "version": 3
   },
   "file_extension": ".py",
   "mimetype": "text/x-python",
   "name": "python",
   "nbconvert_exporter": "python",
   "pygments_lexer": "ipython3",
   "version": "3.9.10"
  }
 },
 "nbformat": 4,
 "nbformat_minor": 5
}
