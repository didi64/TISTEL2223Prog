{
 "cells": [
  {
   "cell_type": "markdown",
   "id": "01efa5e5-5252-4777-a391-98395da1954e",
   "metadata": {},
   "source": [
    "### Das Canvas-Widget\n",
    "[Offizielle Dokumentation zum Canvas-Widget](https://ipycanvas.readthedocs.io/en/latest/)  \n",
    "Ein Canvas-Objekt wird z.B. mit  \n",
    "`canvas = Canvas(width = 200, height=200)` erzeugt und mit  \n",
    "`display(canvas)` dargestellt.  \n",
    "Das Objekt `canvas` hat die Attribute  **`stroke_style`**, **`fill_style`** und **`line_width`**,\n",
    "welche festlegen, mit welcher Farbe gezeichnet bew. gef&uuml;llt wird;\n",
    "`line_width` legt die Linienbreite fest.\n",
    "<br>\n",
    "Einige Methoden:  \n",
    "- `canvas.stroke_lines(<list of tuples (x,y)>)`\n",
    "- `canvas.stroke_cirle(x, y, radius)`\n",
    "- `canvas.stroke_polygon(<list of tuples (x,y)>)`  \n",
    "  Ist der letzte Punkt verschieden von ersten, wird das Polygon automatisch geschlossen\n",
    "- `canvas.stroke_rect(<upperleft_x>, <upper_left_y>, width, height)`  \n",
    "\n",
    "Wird bei den letzten 3 Methoden `stroke` durch `fill` ersetzt, wird\n",
    "die Figure ausgef&uuml;llt.\n",
    "- `canvas.clear()`  \n",
    "  Zeichnungen auf Canvas werden gel&ouml;scht\n",
    "- `canvas.clear_rect(<upperleft_x>, <upper_left_y>, width, height)`  \n",
    "  Rechteck wird von Canvas gel&ouml;scht"
   ]
  },
  {
   "cell_type": "code",
   "execution_count": 1,
   "id": "a75bf74b-8dc4-4f09-870a-c133af2000f5",
   "metadata": {},
   "outputs": [],
   "source": [
    "from ipycanvas import Canvas"
   ]
  },
  {
   "cell_type": "code",
   "execution_count": 2,
   "id": "1c42c273-0855-48e7-8416-1d0566ed19fd",
   "metadata": {},
   "outputs": [
    {
     "data": {
      "application/vnd.jupyter.widget-view+json": {
       "model_id": "7fb5608349a64973938c352fbb392528",
       "version_major": 2,
       "version_minor": 0
      },
      "text/plain": [
       "Canvas(height=200, layout=Layout(border='2px solid black'), width=200)"
      ]
     },
     "metadata": {},
     "output_type": "display_data"
    }
   ],
   "source": [
    "canvas = Canvas(width=200, height=200, \n",
    "                layout = {'border' : '2px solid black'}\n",
    "               )\n",
    "display(canvas)"
   ]
  },
  {
   "cell_type": "code",
   "execution_count": 3,
   "id": "89e0be70-912a-4879-bb8a-1a0d497b8f63",
   "metadata": {},
   "outputs": [
    {
     "data": {
      "text/plain": [
       "'black'"
      ]
     },
     "execution_count": 3,
     "metadata": {},
     "output_type": "execute_result"
    }
   ],
   "source": [
    "canvas.stroke_style"
   ]
  },
  {
   "cell_type": "code",
   "execution_count": 5,
   "id": "c0281f13-c3f6-4d6b-84b3-c6d2ffc8d0b7",
   "metadata": {},
   "outputs": [],
   "source": [
    "canvas.stroke_style = 'blue'\n",
    "canvas.line_width = 5\n",
    "canvas.stroke_circle(150, 150, radius = 20)"
   ]
  },
  {
   "cell_type": "code",
   "execution_count": 6,
   "id": "389562d6-8ba6-498b-90fe-d86723015f13",
   "metadata": {},
   "outputs": [],
   "source": [
    "canvas.fill_style = 'red'\n",
    "canvas.fill_circle(100, 100, 30)\n",
    "canvas.fill_style = 'orange'\n",
    "canvas.fill_polygon([(0, 100), (0, 200), (100, 100)])"
   ]
  },
  {
   "cell_type": "code",
   "execution_count": 7,
   "id": "3dfaf94d-9f76-46a1-80b8-b17be5460191",
   "metadata": {},
   "outputs": [],
   "source": [
    "canvas.stroke_style = 'blue'\n",
    "canvas.line_width = 10\n",
    "canvas.stroke_rect(0, 0, canvas.width, canvas.height)\n",
    "canvas.stroke_lines([(0, 0), (200, 200)])"
   ]
  },
  {
   "cell_type": "code",
   "execution_count": 8,
   "id": "4286af12-68f0-45c6-8373-ab15f494a3d5",
   "metadata": {},
   "outputs": [],
   "source": [
    "canvas.clear_rect(90, 100, 30, 20)"
   ]
  },
  {
   "cell_type": "code",
   "execution_count": 9,
   "id": "478de100-6f75-43b0-ad4c-7c25d30a373a",
   "metadata": {},
   "outputs": [],
   "source": [
    "canvas.clear()"
   ]
  },
  {
   "cell_type": "markdown",
   "id": "222bcbd7-21e8-4a09-a319-864fe09516d6",
   "metadata": {},
   "source": [
    "***\n",
    "**Canvas Konfiguration lesen und schreiben**:  \n",
    "Attribute eines Objekts k&ouml;nnen auch mit\n",
    "`getattr` und `setattr` gelesen und gesetzt werden:\n",
    "\n",
    "- `foo = getattr(canvas, fill_style)`  macht dasselbe wie  \n",
    "  `foo = canvas.fill_style`, und\n",
    "- `setattr(canvas, fill_style, foo)` macht dasselbe wie  \n",
    "  `canvas.fill_style = foo`\n",
    "***"
   ]
  },
  {
   "cell_type": "code",
   "execution_count": null,
   "id": "b850088c-1f5d-4641-8f82-ef94a9be1830",
   "metadata": {},
   "outputs": [],
   "source": [
    "def get_canvas_config(canvas):\n",
    "    keys = ['line_width', 'stroke_style', 'fill_style']\n",
    "    return {key: getattr(canvas, key) for key in keys}\n",
    "\n",
    "def set_canvas_config(canvas, kwargs):\n",
    "    keys = ['line_width', 'stroke_style', 'fill_style']\n",
    "    for key in keys:\n",
    "        if key in kwargs:\n",
    "            setattr(canvas, key, kwargs[key])              "
   ]
  },
  {
   "cell_type": "code",
   "execution_count": null,
   "id": "5b62f26e-29f7-401c-9c6d-092a641f2567",
   "metadata": {},
   "outputs": [],
   "source": [
    "cfg = get_canvas_config(canvas)\n",
    "cfg"
   ]
  },
  {
   "cell_type": "code",
   "execution_count": null,
   "id": "bea3ed80-aba5-46d0-a39e-fb611fec48fe",
   "metadata": {},
   "outputs": [],
   "source": [
    "config = {'line_width': 2, 'fill_style': 'red'}\n",
    "set_canvas_config(canvas, config)\n",
    "get_canvas_config(canvas)"
   ]
  },
  {
   "cell_type": "markdown",
   "id": "1b4aba97-524b-48f9-8861-f9987c021a14",
   "metadata": {},
   "source": [
    "***\n",
    "**Aufgabe**  \n",
    "Vervollst&auml;ndige nachstehende Funktionen.\n",
    "Benutze dabei `set_canvas_config`. Z.B.  \n",
    "```python\n",
    "draw_line(canvas, [(0, 0), (100, 100)], line_width = 2, stroke_style = 'orange')\n",
    "```\n",
    "soll eine  2-Pixel breite orange Linie zeichnen.\n",
    "***"
   ]
  },
  {
   "cell_type": "code",
   "execution_count": null,
   "id": "fc8b836f-5e94-4146-a25a-e8818fe67b81",
   "metadata": {},
   "outputs": [],
   "source": [
    "def draw_line(canvas, pts, **kwargs):\n",
    "    '''draws a line on canvas through the points in the list points\n",
    "    \n",
    "       pts: list of points [(10,20), ...(100,100)]\n",
    "    '''   \n",
    "    # save\n",
    "    cfg = get_canvas_config(canvas)\n",
    "    ...\n",
    "    # restore\n",
    "    set_canvas_config(cfg)\n",
    "    \n",
    "def draw_points(canvas, pts, r=2, **kwargs):\n",
    "    '''draws the points in the list pts on the canvas\n",
    "    \n",
    "       r: radius of point\n",
    "       pts: list of points [(10,20), ...(100,100)]\n",
    "    '''   \n",
    "    # save\n",
    "    cfg = get_canvas_config(canvas)\n",
    "    ...\n",
    "    # restore\n",
    "    set_canvas_config(cfg)"
   ]
  },
  {
   "cell_type": "code",
   "execution_count": null,
   "id": "2b13a6f4-fe70-402f-89f6-1416d1dab6de",
   "metadata": {},
   "outputs": [],
   "source": []
  },
  {
   "cell_type": "code",
   "execution_count": null,
   "id": "2688d00a-0b7d-4543-a67d-bdffe309393f",
   "metadata": {},
   "outputs": [],
   "source": [
    "from ipycanvas import Canvas\n",
    "canvas1 = Canvas(width=200, height=200, \n",
    "                 layout = {'border' : '2px solid black'}\n",
    "                )\n",
    "display(canvas1)"
   ]
  },
  {
   "cell_type": "code",
   "execution_count": null,
   "id": "836ab31e-1fcc-4b32-8c4c-ce5a44046b6d",
   "metadata": {},
   "outputs": [],
   "source": [
    "import solutions_canvas_I as S"
   ]
  },
  {
   "cell_type": "code",
   "execution_count": null,
   "id": "a42a55bc-15db-4765-99f3-d38550dcd299",
   "metadata": {},
   "outputs": [],
   "source": [
    "pts = [ (20 * i, 20 + 100 * (i % 2)) for i in range (11)]\n",
    "S.draw_line(canvas1, pts, line_width = 5, stroke_style = 'blue')\n",
    "S.draw_points(canvas1, pts, r = 2, line_width = 2, fill_style = 'red')"
   ]
  },
  {
   "cell_type": "code",
   "execution_count": null,
   "id": "cdefc2e3-2070-409a-ba0b-235538caa555",
   "metadata": {},
   "outputs": [],
   "source": [
    "canvas1.clear()"
   ]
  },
  {
   "cell_type": "code",
   "execution_count": null,
   "id": "58eecfcb-60f1-447a-b1b0-5e13426aa608",
   "metadata": {},
   "outputs": [],
   "source": []
  }
 ],
 "metadata": {
  "kernelspec": {
   "display_name": "Python 3 (ipykernel)",
   "language": "python",
   "name": "python3"
  },
  "language_info": {
   "codemirror_mode": {
    "name": "ipython",
    "version": 3
   },
   "file_extension": ".py",
   "mimetype": "text/x-python",
   "name": "python",
   "nbconvert_exporter": "python",
   "pygments_lexer": "ipython3",
   "version": "3.9.10"
  }
 },
 "nbformat": 4,
 "nbformat_minor": 5
}
