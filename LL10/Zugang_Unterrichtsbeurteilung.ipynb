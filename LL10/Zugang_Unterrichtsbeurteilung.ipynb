{
 "cells": [
  {
   "cell_type": "markdown",
   "id": "14725771-6936-4199-9afe-d1c7847f4c48",
   "metadata": {},
   "source": [
    "### Zugang Unterrichtsbeurteilung\n",
    "\n",
    "Unterrichtsbeurteilung: \n",
    "[https://umfrage-zuerich.y4ms.net/](https://umfrage-zuerich.y4ms.net/)  \n",
    "Benutzer: zhstud  \n",
    "Passwort: ready-for-feedback  \n",
    "Freigabecode: ????"
   ]
  },
  {
   "cell_type": "code",
   "execution_count": null,
   "id": "bbc84ee6-fa2d-4578-ac76-c8248d9df7be",
   "metadata": {},
   "outputs": [],
   "source": []
  }
 ],
 "metadata": {
  "kernelspec": {
   "display_name": "Python 3 (ipykernel)",
   "language": "python",
   "name": "python3"
  },
  "language_info": {
   "codemirror_mode": {
    "name": "ipython",
    "version": 3
   },
   "file_extension": ".py",
   "mimetype": "text/x-python",
   "name": "python",
   "nbconvert_exporter": "python",
   "pygments_lexer": "ipython3",
   "version": "3.9.10"
  }
 },
 "nbformat": 4,
 "nbformat_minor": 5
}
