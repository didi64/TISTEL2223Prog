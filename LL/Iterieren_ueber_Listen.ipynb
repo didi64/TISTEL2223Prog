{
 "cells": [
  {
   "cell_type": "markdown",
   "id": "2713f052-8b02-4423-a8c7-615f2a80db14",
   "metadata": {},
   "source": [
    "# Iterieren &uuml;ber Listen\n",
    "H&auml;ufige Verwendungsweisen:\n",
    "- alle Elemente durchlaufen\n",
    "- alle Paare (Index, Element) durchlaufen\n",
    "- &uuml;ber mehrere Listen simultan iterieren (Reissverschluss)"
   ]
  },
  {
   "cell_type": "code",
   "execution_count": 2,
   "id": "0aad3083-e568-40e2-b47e-cb8a4eee4fc2",
   "metadata": {},
   "outputs": [],
   "source": [
    "fruits = ['apple', 'banana', 'cherry', 'apple', 'cherry']"
   ]
  },
  {
   "cell_type": "markdown",
   "id": "3065abff-ac94-4634-8240-9f0e6d101575",
   "metadata": {},
   "source": [
    "In vielen Programmiersprachen iteriert man so durch diese Liste:"
   ]
  },
  {
   "cell_type": "code",
   "execution_count": 3,
   "id": "901a8921-2ba9-43b7-94d7-d8e380134e24",
   "metadata": {},
   "outputs": [
    {
     "name": "stdout",
     "output_type": "stream",
     "text": [
      "apple, banana, cherry, apple, cherry, "
     ]
    }
   ],
   "source": [
    "n = len(fruits) # Laenge der Liste\n",
    "for i in range(n):\n",
    "    print(fruits[i], end=', ')"
   ]
  },
  {
   "cell_type": "markdown",
   "id": "423e296e-8056-45e1-ae67-80622c788301",
   "metadata": {},
   "source": [
    "**In Python** macht man das **besser so**:"
   ]
  },
  {
   "cell_type": "code",
   "execution_count": 4,
   "id": "eb89f6be-1c9e-49ce-b4dc-74b69c778e42",
   "metadata": {},
   "outputs": [
    {
     "name": "stdout",
     "output_type": "stream",
     "text": [
      "apple, banana, cherry, apple, cherry, "
     ]
    }
   ],
   "source": [
    "for fruit in fruits:\n",
    "    print(fruit, end=', ')"
   ]
  },
  {
   "cell_type": "markdown",
   "id": "a6b8a362-d0a9-4bc7-b9b5-5abca844900c",
   "metadata": {},
   "source": [
    "Oft braucht man auch den Index der Elemente.    \n",
    "In vielen Sprachen macht man das so:"
   ]
  },
  {
   "cell_type": "code",
   "execution_count": 5,
   "id": "8483aeb9-a970-4fc3-8bbb-3554e18ba4f5",
   "metadata": {},
   "outputs": [
    {
     "name": "stdout",
     "output_type": "stream",
     "text": [
      "0 ---> apple\n",
      "1 ---> banana\n",
      "2 ---> cherry\n",
      "3 ---> apple\n",
      "4 ---> cherry\n"
     ]
    }
   ],
   "source": [
    "n = len(fruits) # Laenge der Liste\n",
    "for i in range(n):\n",
    "    print(i, '--->', fruits[i])"
   ]
  },
  {
   "cell_type": "markdown",
   "id": "be00cf96-103d-4b22-992f-a741594f7142",
   "metadata": {},
   "source": [
    "**In Python** macht man das **besser so**:"
   ]
  },
  {
   "cell_type": "code",
   "execution_count": 3,
   "id": "e6e42fa5-e727-4184-8b06-b4656d75d912",
   "metadata": {},
   "outputs": [
    {
     "name": "stdout",
     "output_type": "stream",
     "text": [
      "0 ---> apple\n",
      "1 ---> banana\n",
      "2 ---> cherry\n",
      "3 ---> apple\n",
      "4 ---> cherry\n"
     ]
    }
   ],
   "source": [
    "for i, fruit in enumerate(fruits):\n",
    "    print(i, '--->', fruit)"
   ]
  },
  {
   "cell_type": "markdown",
   "id": "e48caafc-068c-45ef-a31f-c59d28c712a1",
   "metadata": {},
   "source": [
    "Oft muss man simultan &uuml;ber mehrere Listen iterieren.  \n",
    "In vielen Sprachen macht man das so:"
   ]
  },
  {
   "cell_type": "code",
   "execution_count": 1,
   "id": "a6649fb6-181f-45f5-a7a5-8957da5ca848",
   "metadata": {},
   "outputs": [
    {
     "name": "stdout",
     "output_type": "stream",
     "text": [
      "1 ---> one\n",
      "2 ---> two\n",
      "3 ---> three\n"
     ]
    }
   ],
   "source": [
    "number_list = [1, 2, 3, 4]\n",
    "str_list = ['one', 'two', 'three']\n",
    "\n",
    "len1 = len(number_list)\n",
    "len2 = len(str_list)\n",
    "n = min(len1, len2)\n",
    "for i in range(n):\n",
    "    print(number_list[i], '--->', str_list[i])"
   ]
  },
  {
   "cell_type": "markdown",
   "id": "96c1069c-9ef3-4d7e-be3d-2cdcf5587a90",
   "metadata": {},
   "source": [
    "**In Python** macht man das **besser so**:"
   ]
  },
  {
   "cell_type": "code",
   "execution_count": 8,
   "id": "4afc84e5-5100-48bc-bc7e-8f85169fa97a",
   "metadata": {},
   "outputs": [
    {
     "name": "stdout",
     "output_type": "stream",
     "text": [
      "1 ---> one\n",
      "2 ---> two\n",
      "3 ---> three\n"
     ]
    }
   ],
   "source": [
    "for zahl, wort in zip(number_list, str_list): # zipper (englisch fuer Reissverschluss)\n",
    "    print(zahl, '--->', wort)"
   ]
  },
  {
   "cell_type": "code",
   "execution_count": null,
   "id": "a776792b-6fc9-4e6b-9ed9-f0f6b1388005",
   "metadata": {},
   "outputs": [],
   "source": []
  },
  {
   "cell_type": "markdown",
   "id": "f9bcdbfa-708e-408a-b059-eccfebfeeb6e",
   "metadata": {},
   "source": [
    "**Das geht auch f&uuml;r viele Listen**:"
   ]
  },
  {
   "cell_type": "code",
   "execution_count": 4,
   "id": "5406f2b2-949e-46e5-acbe-c0d5aabb6968",
   "metadata": {},
   "outputs": [
    {
     "name": "stdout",
     "output_type": "stream",
     "text": [
      "1 ---> one ---> ONE\n",
      "2 ---> two ---> TWO\n",
      "3 ---> three ---> THREE\n"
     ]
    }
   ],
   "source": [
    "number_list = [1, 2, 3, 4]\n",
    "str_list = ['one', 'two', 'three']\n",
    "str_LIST = ['ONE', 'TWO', 'THREE'] \n",
    "\n",
    "for zahl, wort, WORT in zip(number_list, str_list, str_LIST): # zipper (englisch fuer Reissverschluss)\n",
    "    print(zahl, '--->', wort, '--->', WORT)"
   ]
  },
  {
   "cell_type": "markdown",
   "id": "10f26fe0-1806-4e1a-bdf8-99602b4b862f",
   "metadata": {},
   "source": [
    "### Weitere Beispiele"
   ]
  },
  {
   "cell_type": "code",
   "execution_count": 12,
   "id": "6ae0f16b-5d69-4beb-a757-f608f96df50e",
   "metadata": {},
   "outputs": [
    {
     "data": {
      "text/plain": [
       "['aaaa ', 'bbbbbbbb  ', 'cccccc  ']"
      ]
     },
     "execution_count": 12,
     "metadata": {},
     "output_type": "execute_result"
    }
   ],
   "source": [
    "widths = (5, 10, 8)\n",
    "row   = (4*'a', 8*'b', 6*'c' )\n",
    "\n",
    "row_items = []\n",
    "for text, width in zip(row, widths):\n",
    "    row_items.append(text.ljust(width))\n",
    "\n",
    "row_items"
   ]
  },
  {
   "cell_type": "code",
   "execution_count": 10,
   "id": "fcc0c650-9dec-4872-a6fc-6978d78e50f7",
   "metadata": {},
   "outputs": [
    {
     "data": {
      "text/plain": [
       "[10, 9, 5]"
      ]
     },
     "execution_count": 10,
     "metadata": {},
     "output_type": "execute_result"
    }
   ],
   "source": [
    "header = ('First Name', 'Last Name', 'Email')\n",
    "widths = []\n",
    "for h in header:\n",
    "    widths.append(len(h))\n",
    "\n",
    "widths"
   ]
  },
  {
   "cell_type": "code",
   "execution_count": 11,
   "id": "e45665bf-72e0-4207-9d72-efe77f01e2aa",
   "metadata": {},
   "outputs": [
    {
     "data": {
      "text/plain": [
       "[10, 11, 28]"
      ]
     },
     "execution_count": 11,
     "metadata": {},
     "output_type": "execute_result"
    }
   ],
   "source": [
    "rows = [('Elias', 'Kopf', 'elias.kopf@edu.teko.ch'),\n",
    "         ('Jennifer', 'Müller', 'jennifer.mueller@edu.teko.ch'),\n",
    "         ('Oliver', 'Pfenniger', 'oliver.pfenniger@edu.teko.ch'),\n",
    "         ('René', 'Scheidegger', 'rene.scheidegger@edu.teko.ch'),\n",
    "         ('Jakob', 'Sutter', 'jakob.sutter@edu.teko.ch')]\n",
    "\n",
    "    \n",
    "widths = [10, 9, 5]\n",
    "# update widths\n",
    "for row in rows:\n",
    "        for i,item in enumerate(row):\n",
    "            # falls len(item) > width[i], dann \n",
    "            # widths[i] = len(item)\n",
    "            widths[i] = max(widths[i], len(item))\n",
    "            \n",
    "widths  "
   ]
  },
  {
   "cell_type": "code",
   "execution_count": null,
   "id": "db8f3b82-c997-4dc4-a584-daa3cf2aef8d",
   "metadata": {},
   "outputs": [],
   "source": []
  }
 ],
 "metadata": {
  "kernelspec": {
   "display_name": "Python 3 (ipykernel)",
   "language": "python",
   "name": "python3"
  },
  "language_info": {
   "codemirror_mode": {
    "name": "ipython",
    "version": 3
   },
   "file_extension": ".py",
   "mimetype": "text/x-python",
   "name": "python",
   "nbconvert_exporter": "python",
   "pygments_lexer": "ipython3",
   "version": "3.9.10"
  }
 },
 "nbformat": 4,
 "nbformat_minor": 5
}
