{
 "cells": [
  {
   "cell_type": "markdown",
   "id": "8d5b94e3-3c17-49e3-a42e-92c5707be985",
   "metadata": {},
   "source": [
    "### Teste ob ein Objekt in einem Iterable vorkommt\n",
    "- `obj in Iterable`  \n",
    "`True` falls `obj` ein Element von `Iterable` ist, sonst `False`."
   ]
  },
  {
   "cell_type": "code",
   "execution_count": null,
   "id": "f6be3993-a8fe-4e9e-a276-cdf006caca29",
   "metadata": {},
   "outputs": [],
   "source": [
    "'b' in 'abc',\\\n",
    "2 in range(5),\\\n",
    "5 in range(5),\\\n",
    "'Hans' in ('Hans', 'Muster'),\\\n",
    "(1,6) in  [(1,3),(1,4),(1,6)]"
   ]
  },
  {
   "cell_type": "code",
   "execution_count": null,
   "id": "a3ba9289-0838-4dd0-8bb3-e8329bc5b19b",
   "metadata": {},
   "outputs": [],
   "source": []
  },
  {
   "cell_type": "markdown",
   "id": "b3c3c12e-7d03-4f6b-a55f-63161681d37e",
   "metadata": {},
   "source": [
    "### Listcomprehension\n",
    "siehe auch\n",
    "https://www.w3schools.com/python/python_lists_comprehension.asp\n",
    "\n",
    "- Eine Liste kann man auch kreieren durch Aussondern von Elementen aus einem Iterable (range, String, Tuple , Liste).\n",
    "- `l = [<Ausdruck in x> for x in <iterable>]`  \n",
    "Kurzform f&uuml;r\n",
    "\n",
    "```python\n",
    "l = []\n",
    "for x in <iterable>:\n",
    "    item = <Ausdruck in x>\n",
    "    l.append(item)\n",
    "```\n",
    "- `l = [<Ausdruck in x> for x in <iterable> if <Bedingung>]`  \n",
    "Kurzform f&uuml;r\n",
    "\n",
    "```python\n",
    "l = []\n",
    "for x in <iterable>:\n",
    "    if <Bedingung>:\n",
    "        item = <Ausdruck in x>\n",
    "        l.append(item)\n",
    "```"
   ]
  },
  {
   "cell_type": "code",
   "execution_count": null,
   "id": "53836e3c-203f-4b10-9a45-e9246824f1f2",
   "metadata": {},
   "outputs": [],
   "source": [
    "[x for x in range(1,6)] # kreiert eine Liste mit den Zahlen 1 bis 5"
   ]
  },
  {
   "cell_type": "code",
   "execution_count": null,
   "id": "b8347034-052a-433d-b382-7b4492d6db5e",
   "metadata": {},
   "outputs": [],
   "source": [
    "l = []\n",
    "for x in range(1,6):\n",
    "    l.append(x)\n",
    "l    "
   ]
  },
  {
   "cell_type": "code",
   "execution_count": null,
   "id": "5c233188-af17-4def-a301-345dea4010bb",
   "metadata": {},
   "outputs": [],
   "source": [
    "[x.upper() for x in 'hallo'] "
   ]
  },
  {
   "cell_type": "code",
   "execution_count": null,
   "id": "52f4eace-e34e-4479-8634-8ec64a25a580",
   "metadata": {},
   "outputs": [],
   "source": [
    "l = []\n",
    "for x in 'hallo':\n",
    "    item = x.upper()\n",
    "    l.append(item)\n",
    "l   "
   ]
  },
  {
   "cell_type": "code",
   "execution_count": null,
   "id": "c19528e5-e64f-4f43-9aaf-13003999b6e5",
   "metadata": {},
   "outputs": [],
   "source": [
    "[x*2 for x in range(1,6)] "
   ]
  },
  {
   "cell_type": "code",
   "execution_count": null,
   "id": "c5be0d2f-7546-449d-aa49-bd24d0086b85",
   "metadata": {},
   "outputs": [],
   "source": [
    "l = []\n",
    "for x in range(1,6):\n",
    "    item = x*2\n",
    "    l.append(item)\n",
    "l   "
   ]
  },
  {
   "cell_type": "code",
   "execution_count": null,
   "id": "a47c8420-9c8e-4d3f-b038-8094c9c56ef8",
   "metadata": {},
   "outputs": [],
   "source": [
    "VOWELS ='AEIOU'\n",
    "word   = 'hallo'\n",
    "\n",
    "l = [ch for ch in word if ch.upper() in VOWELS]\n",
    "l"
   ]
  },
  {
   "cell_type": "code",
   "execution_count": null,
   "id": "b76263f9-7c9a-4763-99dc-a4b6f1af63bd",
   "metadata": {},
   "outputs": [],
   "source": [
    "VOWELS ='AEIOU'\n",
    "word   = 'hallo'\n",
    "\n",
    "l = []\n",
    "for x in word:\n",
    "    if x.upper() in VOWELS:\n",
    "        l.append(x)\n",
    "l        "
   ]
  },
  {
   "cell_type": "code",
   "execution_count": null,
   "id": "c0ee3ad8-0816-4c26-87ad-5b365622ca2e",
   "metadata": {},
   "outputs": [],
   "source": [
    "fractions = [(1,3),(1,4),(1,6)]\n",
    "['{}/{}'.format(*tp) for tp in fractions]"
   ]
  },
  {
   "cell_type": "code",
   "execution_count": null,
   "id": "aeb9e41a-a529-4922-94fa-94eb4899b11c",
   "metadata": {},
   "outputs": [],
   "source": [
    "# Kombiniert mit unpacking\n",
    "fractions = [(1,3),(1,4),(1,6)]\n",
    "['{}/{}'.format(x,y) for (x, y) in fractions]"
   ]
  },
  {
   "cell_type": "code",
   "execution_count": null,
   "id": "a1cabab7-ad2b-4611-98eb-048f8ef9adf3",
   "metadata": {},
   "outputs": [],
   "source": [
    "# Kombiniert mit unpacking\n",
    "fractions = [(1,3),(1,4),(1,6)]\n",
    "['{}/{}'.format(x,y) for x, y in fractions]"
   ]
  },
  {
   "cell_type": "markdown",
   "id": "917a672b-d110-4b93-9e8e-a691ef1b0188",
   "metadata": {},
   "source": [
    "### Tuple-comprehension\n",
    "Analog zu Listcomprehension. Z.B.  \n",
    "- `tp = tupel(<Ausdruck in x> for x in <iterable>)`  \n",
    "ist die Kurzform von\n",
    "\n",
    "```python\n",
    "tp = []\n",
    "for x in <iterable>:\n",
    "    item = <Ausdruck in x>\n",
    "    tp.append(item)\n",
    "```\n"
   ]
  },
  {
   "cell_type": "code",
   "execution_count": null,
   "id": "576f5e4e-9089-4d99-be8e-34e3dba35ab1",
   "metadata": {},
   "outputs": [],
   "source": [
    "tp = tuple(x**2 for x in range(5))\n",
    "tp"
   ]
  },
  {
   "cell_type": "code",
   "execution_count": null,
   "id": "e63c88c2-10b0-4e90-bb57-77d96c315fee",
   "metadata": {},
   "outputs": [],
   "source": [
    "tp = []\n",
    "for x in range(5):\n",
    "    item = x**2\n",
    "    tp.append(item)\n",
    "tp    "
   ]
  },
  {
   "cell_type": "markdown",
   "id": "2e16c76d-16a7-4185-9f83-3d502a95a146",
   "metadata": {},
   "source": [
    "### Aufgaben\n",
    "Vereinfache mit Listcomprehension:  \n",
    "\n",
    "```python  \n",
    "# 1)\n",
    "header = ('First Name', 'Last Name', 'Email')\n",
    "widhts = []\n",
    "for h in header:\n",
    "    widths.append(len(h))  \n",
    "\n",
    "widths\n",
    "\n",
    "# 2)\n",
    "header = ('First Name', 'Last Name', 'Email')\n",
    "width = 15\n",
    "hline = []\n",
    "for i in range(len(header)):\n",
    "    hline.append('=' * width) \n",
    "\n",
    "hline\n",
    "\n",
    "# 3)\n",
    "header = ('First Name', 'Last Name', 'Email')\n",
    "widths = [10, 9, 5]\n",
    "hline = []\n",
    "for i in widths:\n",
    "    hline.append('=' * i)\n",
    "    \n",
    "hline\n",
    "```  \n"
   ]
  },
  {
   "cell_type": "code",
   "execution_count": null,
   "id": "ed9284f2-1134-4030-b941-df9a6f02ceea",
   "metadata": {},
   "outputs": [],
   "source": []
  }
 ],
 "metadata": {
  "kernelspec": {
   "display_name": "Python 3 (ipykernel)",
   "language": "python",
   "name": "python3"
  },
  "language_info": {
   "codemirror_mode": {
    "name": "ipython",
    "version": 3
   },
   "file_extension": ".py",
   "mimetype": "text/x-python",
   "name": "python",
   "nbconvert_exporter": "python",
   "pygments_lexer": "ipython3",
   "version": "3.9.10"
  }
 },
 "nbformat": 4,
 "nbformat_minor": 5
}
