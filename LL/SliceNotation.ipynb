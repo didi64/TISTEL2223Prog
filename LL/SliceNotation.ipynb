{
 "cells": [
  {
   "cell_type": "markdown",
   "id": "ac25f6f0-f79b-48e5-820c-8b223e3d09e2",
   "metadata": {},
   "source": [
    "### Slice Notation\n",
    "- **Zugriff auf Element** eines Strings `s` der L&auml;nge n.\n",
    "  - Ist 0<= i < n, so liefert `s[i]` das i-te Zeichen von `s`, und  \n",
    "    `s[-i]` das (n-i)te Zeichen, z.B. `s[-1]` das letzte `s[-2]` das 2.-letzte  \n",
    "     F&uuml;r alle anderen Werte von i: `IndexError: string index out of range`  \n",
    "     \n",
    "     \n",
    "- **Slice Notation**: `s[von:bis_vor]` und `s[von:bis_vor:schrittweite]`  \n",
    "liefert einen **neuen** String bestehend aus den selektierten Elementen   \n",
    "    - `s[von:bis_vor]`. Fehlt `von` oder `bis_vor` \n",
    "     wird alles vom Anfang bez. bis zum Ende genommen. `s[:-1]` ist alles ausser das letzte Element\n",
    "    - `str[von:bis_vor:schrittweite]`. Gehe in Schritten von `schrittweite`\n",
    "    - Slice Notation funktioniert auch bei **Listen** und **Tupeln**.\n",
    "- **Slice-Zuweisungen** bei Listen    \n",
    "    - `lst[von:] = <Iterable>`  \n",
    "       Der Teil `lst[von:]` der Liste wird durch die Elemente des Iterables **ersetzt**\n",
    "    - `lst[von:bis] = <Iterable>`  \n",
    "       Sei `len(lst[von:bis]) = n`\n",
    "        - hat das `<Iterable>` n oder weniger Elemente, so\n",
    "        wird der Teil `lst[von:bis]` der Liste  durch die Elemente des Iterables **ersetzt**\n",
    "        - hat das `<Iterable>` mehr als n Elemente, so wird\n",
    "        der Teil `lst[von:]von+n` der Liste  durch die Elemente des Iterables **ersetzt**\n",
    "    - `lst[von:bis: schrittweite] = <Iterable>` mit schrittweite >1  \n",
    "        - haben `lst[von:bis: schrittweite]` und das `<Iterable>` gleichviele Elemente, so\n",
    "        wird `lst[von:bis: schrittweite]` mit den Elementen des Iterables **ersetzt**,\n",
    "        anderfalls wird ein `ValueError` erzeugt"
   ]
  },
  {
   "cell_type": "markdown",
   "id": "72bbe1c4-81dc-402a-9a39-a9a641f25436",
   "metadata": {},
   "source": [
    "### Beispiele f&uuml;r str[von:bis_vor]:"
   ]
  },
  {
   "cell_type": "code",
   "execution_count": null,
   "id": "03875ea2-4169-4a2a-afdb-fba45ef3d9fe",
   "metadata": {},
   "outputs": [],
   "source": [
    "s = '0123456789'\n",
    "print('s[3:5] =', s[3:5])\n",
    "print('s[3:] =',  s[3:])\n",
    "print('s[:7] =', s[3:7])\n",
    "print('s[:] =',   s[:])"
   ]
  },
  {
   "cell_type": "markdown",
   "id": "42ed3d61-dace-4f20-9bc1-58cc42085bac",
   "metadata": {},
   "source": [
    "### Z&auml;hlen vom Schluss her: -1,-2,..."
   ]
  },
  {
   "cell_type": "code",
   "execution_count": null,
   "id": "db6de536-8767-4816-97db-38492360da70",
   "metadata": {},
   "outputs": [],
   "source": [
    "s = list('0123456789')\n",
    "print('s[1:-1] =', s[1:-1])\n",
    "print('s[:-1] =', s[:-1])\n",
    "print('s[:-2] =', s[:-2])"
   ]
  },
  {
   "cell_type": "markdown",
   "id": "09bd44d1-bdd2-4af3-9a75-4054dd6c924b",
   "metadata": {},
   "source": [
    "### Beispiele f&uuml;r str[von:bis_vor:schrittweite]:"
   ]
  },
  {
   "cell_type": "code",
   "execution_count": null,
   "id": "0f0f5e93-ded1-4fba-a120-077e63114245",
   "metadata": {},
   "outputs": [],
   "source": [
    "s = '0123456789'\n",
    "print('s[1:9:2] =', s[1:9:2])\n",
    "print('s[::2] =', s[::2])\n",
    "print('s[9:1:-1] =', s[9:1:-1])\n",
    "print('s[::-1] =', s[::-1]) # Das wichtigste Beispiel in dieser Gruppe!"
   ]
  },
  {
   "cell_type": "markdown",
   "id": "cf08475f-e4e7-4441-8042-a7a3b32b71fd",
   "metadata": {},
   "source": [
    "### Zuweisungen mit Slice-Notation"
   ]
  },
  {
   "cell_type": "code",
   "execution_count": null,
   "id": "f828c2c7-06cc-4cde-affd-428597f1de41",
   "metadata": {},
   "outputs": [],
   "source": [
    "nbrs = [1, 2, 3, 4, 5]\n",
    "nbrs[2:] = [0,0]      \n",
    "nbrs"
   ]
  },
  {
   "cell_type": "code",
   "execution_count": null,
   "id": "cd33cd11-a0bd-41da-b334-79b2949047fe",
   "metadata": {},
   "outputs": [],
   "source": [
    "nbrs = [1, 2, 3, 4, 5]\n",
    "nbrs[2:3] = []      \n",
    "nbrs"
   ]
  },
  {
   "cell_type": "code",
   "execution_count": null,
   "id": "16a516aa-ed15-4c9a-80d8-99908832c25d",
   "metadata": {},
   "outputs": [],
   "source": [
    "nbrs = [1, 2, 3, 4, 5]\n",
    "nbrs[2:3] = [0,0,0]      \n",
    "nbrs"
   ]
  },
  {
   "cell_type": "code",
   "execution_count": null,
   "id": "b709492f-3fca-43a0-8e63-42940ef0a505",
   "metadata": {},
   "outputs": [],
   "source": [
    "nbrs = [1, 2, 3, 4, 5]\n",
    "nbrs[::2] = [0,0,0]      \n",
    "nbrs"
   ]
  },
  {
   "cell_type": "code",
   "execution_count": null,
   "id": "130d3f44-d309-4464-8b5a-9cadbce00e6c",
   "metadata": {},
   "outputs": [],
   "source": [
    "nbrs = [1, 2, 3, 4, 5]\n",
    "nbrs[::2] = [0,0]      \n",
    "nbrs"
   ]
  },
  {
   "cell_type": "markdown",
   "id": "59896a09-bb7e-41a2-9028-827747f653b3",
   "metadata": {},
   "source": [
    "### Aufgaben"
   ]
  },
  {
   "cell_type": "code",
   "execution_count": null,
   "id": "5818f05c-21f2-4b4e-a9d7-981f76ca8484",
   "metadata": {},
   "outputs": [],
   "source": [
    "# Zeichen einfuegen\n",
    "s = 'einszwei'\n",
    "i = s.index('z')\n",
    "s[?] + ' ' + s[?] # benuze den Wert i,\n",
    "                # erwarteter Output: 'eins zwei'"
   ]
  },
  {
   "cell_type": "code",
   "execution_count": null,
   "id": "bf74e399-4682-4b75-8d70-5606b351c628",
   "metadata": {},
   "outputs": [],
   "source": [
    "# Zeichen entfernen\n",
    "s = 'eins zwei'\n",
    "i = s.index(' ') # benuze den Wert i,\n",
    "s[?] + s[?]  # erwarteter Output: 'einszwei'"
   ]
  },
  {
   "cell_type": "code",
   "execution_count": null,
   "id": "b514f906-da03-4ebb-82fe-f7bb33977cf5",
   "metadata": {},
   "outputs": [],
   "source": [
    "# Slice-Zuweisung\n",
    "nbrs = list('12345678')\n",
    "nbrs[?] = ? # erwarteter Output\n",
    "nbrs        #  ['1', 'X', '3', 'X', '5', 'X', '7', 'X']"
   ]
  },
  {
   "cell_type": "code",
   "execution_count": null,
   "id": "01a0240d-5395-4700-b84c-ddda5f811d43",
   "metadata": {},
   "outputs": [],
   "source": [
    "# allg. Repetition, kein Bezug zur Slice-Notation\n",
    "l = ['1', 'X', '3', 'X', '5', 'X', '7', 'X']\n",
    "?  # erwarteter Output: '1X3X5X7X'"
   ]
  },
  {
   "cell_type": "code",
   "execution_count": null,
   "id": "c59e1f31-37dd-4410-a0b2-34e7898b7caa",
   "metadata": {},
   "outputs": [],
   "source": []
  }
 ],
 "metadata": {
  "kernelspec": {
   "display_name": "Python 3 (ipykernel)",
   "language": "python",
   "name": "python3"
  },
  "language_info": {
   "codemirror_mode": {
    "name": "ipython",
    "version": 3
   },
   "file_extension": ".py",
   "mimetype": "text/x-python",
   "name": "python",
   "nbconvert_exporter": "python",
   "pygments_lexer": "ipython3",
   "version": "3.9.10"
  }
 },
 "nbformat": 4,
 "nbformat_minor": 5
}
