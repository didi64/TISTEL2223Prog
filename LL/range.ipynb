{
 "cells": [
  {
   "cell_type": "markdown",
   "id": "98168b2b-af4d-4dc5-b6e0-e748eb9157bc",
   "metadata": {
    "tags": []
   },
   "source": [
    "### Die Funktion range\n",
    "- ```range(100)``` kreiert ein **iterierbares Objekt**.  \n",
    "  Die **Elemente** 0,..,99 werden **erst bei Bedarf erzeugt**.  \n",
    "  Typische Verwendungsweisen:\n",
    "  - `for i in range(5):`\n",
    "  - `list(range(5)) `     \n",
    "- `range` kann auch mit 2 oder 3 Argumenten aufgerufen werden:  \n",
    "  `range(von, bis_vor)` und `range(von, bis_vor, schrittweite)`  \n",
    "  `schrittweite` darf negativ sein (falls `von < bis_vor`)"
   ]
  },
  {
   "cell_type": "code",
   "execution_count": 14,
   "id": "155de976-1f26-4c41-a13d-2a973e64fedf",
   "metadata": {},
   "outputs": [
    {
     "name": "stdout",
     "output_type": "stream",
     "text": [
      "0, 1, 2, 3, 4, 5, "
     ]
    }
   ],
   "source": [
    "for i in range(1000000000): # erstellt KEINE sehr lange Liste\n",
    "    print(i, end=', ')\n",
    "    if i == 5:\n",
    "        break"
   ]
  },
  {
   "cell_type": "code",
   "execution_count": 1,
   "id": "48b1d6e0-0bf4-439b-8a29-aa9fe922c21e",
   "metadata": {},
   "outputs": [
    {
     "data": {
      "text/plain": [
       "[0, 1, 2, 3, 4]"
      ]
     },
     "execution_count": 1,
     "metadata": {},
     "output_type": "execute_result"
    }
   ],
   "source": [
    "list(range(5))"
   ]
  },
  {
   "cell_type": "code",
   "execution_count": 2,
   "id": "5311a182-7c64-4dfc-a39c-beec06e9e248",
   "metadata": {},
   "outputs": [
    {
     "data": {
      "text/plain": [
       "[1, 2, 3, 4, 5, 6, 7, 8, 9]"
      ]
     },
     "execution_count": 2,
     "metadata": {},
     "output_type": "execute_result"
    }
   ],
   "source": [
    "list(range(1,5)) "
   ]
  },
  {
   "cell_type": "code",
   "execution_count": 3,
   "id": "281972d0-98e8-4f97-84b1-fd6b54b32bcd",
   "metadata": {},
   "outputs": [
    {
     "data": {
      "text/plain": [
       "[1, 3, 5, 7, 9]"
      ]
     },
     "execution_count": 3,
     "metadata": {},
     "output_type": "execute_result"
    }
   ],
   "source": [
    "list(range(1,10,2))"
   ]
  },
  {
   "cell_type": "code",
   "execution_count": 4,
   "id": "5582d9e7-d09d-4785-a10d-a739f23e5346",
   "metadata": {},
   "outputs": [
    {
     "data": {
      "text/plain": [
       "[10, 9, 8, 7, 6, 5, 4, 3, 2, 1]"
      ]
     },
     "execution_count": 4,
     "metadata": {},
     "output_type": "execute_result"
    }
   ],
   "source": [
    "list(range(10,0,-1))"
   ]
  },
  {
   "cell_type": "code",
   "execution_count": null,
   "id": "11c61c3e-6c33-45a2-b3e6-ba44edb33ad9",
   "metadata": {},
   "outputs": [],
   "source": [
    "list(range(9,-1,-1))"
   ]
  },
  {
   "cell_type": "markdown",
   "id": "24b18670-bcfa-4795-a4d0-98d1f9aa138e",
   "metadata": {},
   "source": [
    "### Erzeuge eine Liste mit allen geraden Zahlen von 2 bis und mit 100."
   ]
  },
  {
   "cell_type": "code",
   "execution_count": null,
   "id": "42e56c01-4f5f-44b8-8896-56e3708da187",
   "metadata": {
    "tags": []
   },
   "outputs": [],
   "source": [
    "list(range(2,101,2))"
   ]
  },
  {
   "cell_type": "markdown",
   "id": "854ce774-56d3-43c7-b109-ada4d2bdfdb2",
   "metadata": {},
   "source": [
    "### Erzeuge eine Liste mit allen ungeraden Zahlen von 1 bis und mit 99."
   ]
  },
  {
   "cell_type": "code",
   "execution_count": null,
   "id": "ddbe5385-3c43-4f6d-84e3-867d33b0ee90",
   "metadata": {
    "tags": []
   },
   "outputs": [],
   "source": [
    "list(range(1,100,2))"
   ]
  },
  {
   "cell_type": "markdown",
   "id": "7a32007b-3657-4863-bf5f-44e8d865cd6f",
   "metadata": {},
   "source": [
    "### Berechne die Summe 2+4+...+100"
   ]
  },
  {
   "cell_type": "code",
   "execution_count": null,
   "id": "02304d0d-5720-4b44-accb-12b412a6a9f2",
   "metadata": {
    "tags": []
   },
   "outputs": [],
   "source": [
    "Variante 1\n",
    "res = 0\n",
    "for i in range(2,101,2):\n",
    "    res = res + i\n",
    "\n",
    "print(res)    "
   ]
  },
  {
   "cell_type": "code",
   "execution_count": null,
   "id": "3d5e076d-528e-426e-9f5e-27f600fea5fc",
   "metadata": {},
   "outputs": [],
   "source": [
    "# Variante 2\n",
    "sum(list(range(2,101,2)))"
   ]
  },
  {
   "cell_type": "markdown",
   "id": "c58880ef-781a-49d1-9538-84376a52b1e9",
   "metadata": {},
   "source": [
    "### Berechne die Summe 1+3+...+99"
   ]
  },
  {
   "cell_type": "code",
   "execution_count": null,
   "id": "5ffa4682-71e4-4b6f-936a-3e2d234bbace",
   "metadata": {},
   "outputs": [],
   "source": [
    "sum(list(range(1,100,2)))"
   ]
  }
 ],
 "metadata": {
  "kernelspec": {
   "display_name": "Python 3 (ipykernel)",
   "language": "python",
   "name": "python3"
  },
  "language_info": {
   "codemirror_mode": {
    "name": "ipython",
    "version": 3
   },
   "file_extension": ".py",
   "mimetype": "text/x-python",
   "name": "python",
   "nbconvert_exporter": "python",
   "pygments_lexer": "ipython3",
   "version": "3.9.10"
  }
 },
 "nbformat": 4,
 "nbformat_minor": 5
}
