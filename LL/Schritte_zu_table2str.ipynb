{
 "cells": [
  {
   "cell_type": "markdown",
   "id": "93de5585-11d9-447d-b34a-aa83bfc6b063",
   "metadata": {},
   "source": [
    "###  Eine Funktion zur `table2str`\n",
    "Ziel ist es, eine Funktion  `table2str(header, rows)` \n",
    "zu schreiben, die Folgendes macht:  \n",
    "- `header` ist ein Tuple mit den Eintr&auml;gen der Kopfzeile der Tabelle,\n",
    "z.B. `('Vorname', 'Nachname')`\n",
    "- `rows` ist eine Liste von Tuples mit Eintr&auml;gen der Tabellenzeilen,\n",
    "z.B.  \n",
    "\n",
    "```python\n",
    "rows = [('Anna',  'Meier'), \n",
    "        ('Hans', 'Mustermann'),\n",
    "       ] \n",
    "```\n",
    "- die Funktion `table2str(header, rows)`  soll diesen Output produzieren:\n",
    "\n",
    "```\n",
    "| Vorname | Name       |\n",
    "| ======= | ========== |\n",
    "| Anna    | Meier      |\n",
    "| Hans    | Mustermann |\n",
    "```"
   ]
  },
  {
   "cell_type": "markdown",
   "id": "dd89ecca-55f4-4b37-9d62-66efb640a3ab",
   "metadata": {},
   "source": [
    "### 1 Tabellarischer Output"
   ]
  },
  {
   "cell_type": "code",
   "execution_count": 92,
   "id": "bce8a620-5ea9-448a-a5b0-3fc998dda880",
   "metadata": {},
   "outputs": [
    {
     "name": "stdout",
     "output_type": "stream",
     "text": [
      "| Vorname         | Nachname        |\n",
      "| =============== | =============== |\n",
      "| Hans            | Muster          |\n"
     ]
    }
   ],
   "source": [
    "COL_WIDTH = 15\n",
    "print('| {} | {} |'.format('Vorname'.ljust(COL_WIDTH) , 'Nachname'.ljust(COL_WIDTH) ))\n",
    "print('| {} | {} |'.format(COL_WIDTH * '=', COL_WIDTH  * '='))\n",
    "print('| {} | {} |'.format('Hans'.ljust(COL_WIDTH) , 'Muster'.ljust(COL_WIDTH) ))"
   ]
  },
  {
   "cell_type": "markdown",
   "id": "316644ca-ec5a-4628-877f-73bcd17c8d75",
   "metadata": {},
   "source": [
    "***\n",
    "**DRY**: Don't repeat yourself\n",
    "***"
   ]
  },
  {
   "cell_type": "code",
   "execution_count": 14,
   "id": "0f0025a6-aff6-42a2-96c3-a2373fffe9ad",
   "metadata": {},
   "outputs": [
    {
     "name": "stdout",
     "output_type": "stream",
     "text": [
      "| Vorname         | Nachname        |\n",
      "| =============== | =============== |\n",
      "| Anna            | Meier           |\n"
     ]
    }
   ],
   "source": [
    "def pad_cols(cols):\n",
    "    'pad strings in tuple col'\n",
    "    res = []\n",
    "    for col in cols:\n",
    "        res.append(col.ljust(COL_WIDTH))\n",
    "    return res\n",
    "\n",
    "COL_WIDTH = 15\n",
    "FSTRING = '| {} | {} |'\n",
    "\n",
    "header = pad_cols(('Vorname', 'Nachname'))\n",
    "hline = pad_cols(('=' * COL_WIDTH, '=' * COL_WIDTH))\n",
    "row = pad_cols(('Anna',  'Meier'))\n",
    "\n",
    "print(FSTRING.format(*header))\n",
    "print(FSTRING.format(*hline))\n",
    "print(FSTRING.format(*row))"
   ]
  },
  {
   "cell_type": "code",
   "execution_count": 15,
   "id": "55e112a3-1c8b-4fa4-a6e3-38a9c74e45a4",
   "metadata": {},
   "outputs": [
    {
     "name": "stdout",
     "output_type": "stream",
     "text": [
      "| Vorname         | Nachname        |\n",
      "| =============== | =============== |\n",
      "| Anna            | Meier           |\n"
     ]
    }
   ],
   "source": [
    "COL_WIDTH = 15\n",
    "FSTRING = '| {} | {} |'\n",
    "\n",
    "def pad_cols(cols):\n",
    "    'pad strings in tuple col'\n",
    "    res = []\n",
    "    for col in cols:\n",
    "        res.append(col.ljust(COL_WIDTH))\n",
    "    return res\n",
    "\n",
    "headers = pad_cols(('Vorname', 'Nachname'))\n",
    "hlines = pad_cols(('=' * COL_WIDTH, '=' * COL_WIDTH))\n",
    "row = pad_cols(('Anna',  'Meier'))\n",
    "\n",
    "rows = [headers, hlines, row]\n",
    "for row in rows:\n",
    "    print(FSTRING.format(*row))"
   ]
  },
  {
   "cell_type": "code",
   "execution_count": 27,
   "id": "f455396b-519d-452d-b1d7-03ed75ad32ef",
   "metadata": {},
   "outputs": [
    {
     "name": "stdout",
     "output_type": "stream",
     "text": [
      "| Vorname         | Nachname        |\n",
      "| =============== | =============== |\n",
      "| Anna            | Meier           |\n",
      "| Hans            | Mustermann      |\n"
     ]
    }
   ],
   "source": [
    "COL_WIDTH = 15\n",
    "FSTRING = '| {} | {} |'\n",
    "\n",
    "def pad_cols(cols):\n",
    "    'pad strings in tuple col'\n",
    "    res = []\n",
    "    for col in cols:\n",
    "        res.append(col.ljust(COL_WIDTH))\n",
    "    return res\n",
    "\n",
    "headers = ('Vorname', 'Nachname')\n",
    "hlines = ('=' * COL_WIDTH, '=' * COL_WIDTH)\n",
    "data_rows = [('Anna',  'Meier'), \n",
    "             ('Hans', 'Mustermann'),\n",
    "            ] \n",
    "\n",
    "rows = [headers, hlines] +  data_rows\n",
    "padded_rows = [pad_cols(col) for col in rows]\n",
    "\n",
    "for row in padded_rows:\n",
    "    print(FSTRING.format(*row))"
   ]
  },
  {
   "cell_type": "code",
   "execution_count": 29,
   "id": "786818d8-0d3e-4ce6-9939-e92a1fd537d5",
   "metadata": {},
   "outputs": [
    {
     "name": "stdout",
     "output_type": "stream",
     "text": [
      "| Vorname         | Nachname        |\n",
      "| =============== | =============== |\n",
      "| Anna            | Meier           |\n",
      "| Hans            | Mustermann      |\n"
     ]
    }
   ],
   "source": [
    "COL_WIDTH = 15\n",
    "FSTRING = '| {:<15} | {:<15} |'\n",
    "\n",
    "headers = ('Vorname', 'Nachname')\n",
    "hlines = ('=' * COL_WIDTH, '=' * COL_WIDTH)\n",
    "data_rows = [('Anna',  'Meier'), \n",
    "             ('Hans', 'Mustermann'),\n",
    "            ] \n",
    "\n",
    "rows = [headers, hlines] +  data_rows\n",
    "for row in rows:\n",
    "    print(FSTRING.format(*row))"
   ]
  },
  {
   "cell_type": "markdown",
   "id": "7de86a20-83d2-4dac-afb5-06e78f4a1af0",
   "metadata": {},
   "source": [
    "***\n",
    "**Geschweifte Klammern in Strings mit Platzhaltern**:  \n",
    "- `'{'` wird als &ouml;ffnende Klammer eines Platzhalters interpretiert, und muss mit `'}'` wieder geschlossen werden.  \n",
    "- `'{{'` und `'}}'` stellen die Zeichen `'{'` und `'}'` dar.\n",
    "***"
   ]
  },
  {
   "cell_type": "code",
   "execution_count": 87,
   "id": "86574164-1227-4752-894c-e3bf8bd1f0e4",
   "metadata": {},
   "outputs": [],
   "source": [
    "def get_fstring(ncols, width):    \n",
    "    fstring_col = ' {{:<{width}}} '.format(width = width)\n",
    "    fstring = '|'.join([''] + [fstring_col] * ncols + ['']) \n",
    "    return fstring"
   ]
  },
  {
   "cell_type": "code",
   "execution_count": 88,
   "id": "032334dc-6df9-440a-b6d5-2b67f5a31e27",
   "metadata": {},
   "outputs": [
    {
     "data": {
      "text/plain": [
       "'| {:<15} | {:<15} | {:<15} |'"
      ]
     },
     "execution_count": 88,
     "metadata": {},
     "output_type": "execute_result"
    }
   ],
   "source": [
    "get_fstring(3, 15)"
   ]
  },
  {
   "cell_type": "code",
   "execution_count": 91,
   "id": "9c401c72-9303-4987-88ab-9229e6be88f8",
   "metadata": {},
   "outputs": [
    {
     "name": "stdout",
     "output_type": "stream",
     "text": [
      "| Vorname         | Nachname        |\n",
      "| =============== | =============== |\n",
      "| Anna            | Meier           |\n",
      "| Hans            | Mustermann      |\n"
     ]
    }
   ],
   "source": [
    "COL_WIDTH = 15\n",
    "\n",
    "header = ('Vorname', 'Nachname')\n",
    "hlines = ('=' * COL_WIDTH, '=' * COL_WIDTH)\n",
    "data_rows = [('Anna',  'Meier'), \n",
    "             ('Hans', 'Mustermann'),\n",
    "            ] \n",
    "\n",
    "\n",
    "fstring = get_fstring(len(header), COL_WIDTH)\n",
    "rows = [header, hlines] +  data_rows\n",
    "for row in rows:\n",
    "    print(fstring.format(*row))"
   ]
  },
  {
   "cell_type": "code",
   "execution_count": 70,
   "id": "18cef300-b0f8-4527-b3b8-54f27c336656",
   "metadata": {},
   "outputs": [],
   "source": [
    "def f(header, data_rows, width):\n",
    "    hlines = ('=' * width, ) * len(header)\n",
    "    fstring = '|' + ' {{:<{width}}} '.format(width = width) * len(header) + '|'\n",
    "    rows = [header, hlines] +  data_rows\n",
    "    for row in rows:\n",
    "        print(fstring.format(*row))"
   ]
  },
  {
   "cell_type": "code",
   "execution_count": 71,
   "id": "d0d2a97a-e410-4520-908e-7d4f7912e8cf",
   "metadata": {},
   "outputs": [
    {
     "name": "stdout",
     "output_type": "stream",
     "text": [
      "| Vorname          Nachname        |\n",
      "| ===============  =============== |\n",
      "| Anna             Meier           |\n",
      "| Hans             Mustermann      |\n"
     ]
    }
   ],
   "source": [
    "header = ('Vorname', 'Nachname')\n",
    "data_rows = [('Anna',  'Meier'), \n",
    "             ('Hans', 'Mustermann'),\n",
    "            ] \n",
    "\n",
    "f(header, data_rows, 15)      "
   ]
  },
  {
   "cell_type": "code",
   "execution_count": 73,
   "id": "d9c6a1a2-8e73-4b09-a665-446a17ba7607",
   "metadata": {},
   "outputs": [
    {
     "name": "stdout",
     "output_type": "stream",
     "text": [
      "| Vorname               Nachname              Email                |\n",
      "| ====================  ====================  ==================== |\n",
      "| Anna                  Meier                 Anna.Meier@foo.ch    |\n",
      "| Hans                  Mustermann            Hans.Mustermann@foo.ch |\n"
     ]
    }
   ],
   "source": [
    "header = ('Vorname', 'Nachname', 'Email')\n",
    "data_rows = [('Anna',  'Meier', 'Anna.Meier@foo.ch'), \n",
    "             ('Hans', 'Mustermann', 'Hans.Mustermann@foo.ch'),\n",
    "            ] \n",
    "\n",
    "f(header, data_rows, 20)      "
   ]
  },
  {
   "cell_type": "code",
   "execution_count": null,
   "id": "e3a0aab4-0dd5-44e7-9e61-d7722856c0fb",
   "metadata": {},
   "outputs": [],
   "source": []
  },
  {
   "cell_type": "markdown",
   "id": "6cc77883-2244-462f-acb2-1794071b3746",
   "metadata": {},
   "source": [
    "### 3 Delegiere Ausgabe an Funktion "
   ]
  },
  {
   "cell_type": "code",
   "execution_count": 3,
   "id": "49de13a2-b20e-4521-b1e1-18d5407bc9c1",
   "metadata": {},
   "outputs": [
    {
     "name": "stdout",
     "output_type": "stream",
     "text": [
      "|First Name     |Last Name      |\n",
      "|===============|===============|\n",
      "|Hans           |Muster         |\n"
     ]
    }
   ],
   "source": [
    "# Benutze die Funktion row2str(row, width)\n",
    "\n",
    "def row2str1(row, width):\n",
    "    s1, s2 = row\n",
    "    s1 = s1.ljust(width)\n",
    "    s2 = s2.ljust(width)\n",
    "    return '|{}|{}|'.format(s1, s2)    \n",
    "\n",
    "# Table layout\n",
    "COL_WIDTH = 15\n",
    "HEADER    = ('First Name', 'Last Name')\n",
    "FSTRING   = '|{}|{}|'\n",
    "HCHAR     = '='\n",
    "\n",
    "# horizontal line, table row(s)\n",
    "hline  = (HCHAR * COL_WIDTH, HCHAR * COL_WIDTH)\n",
    "name   = ('Hans', 'Muster')\n",
    "\n",
    "# print header\n",
    "print(row2str1(HEADER, COL_WIDTH))\n",
    "\n",
    "# print horizontal line\n",
    "print(row2str1(hline, COL_WIDTH))\n",
    "\n",
    "# print name\n",
    "print(row2str1(name, COL_WIDTH))"
   ]
  },
  {
   "cell_type": "markdown",
   "id": "590a8361-67ac-467c-90fb-d500956d349e",
   "metadata": {},
   "source": [
    "### 4 Benutze For-Schleife"
   ]
  },
  {
   "cell_type": "code",
   "execution_count": 4,
   "id": "fe179389-9a02-4266-b023-452acade0aab",
   "metadata": {},
   "outputs": [
    {
     "name": "stdout",
     "output_type": "stream",
     "text": [
      "|First Name     |Last Name      |\n",
      "|===============|===============|\n",
      "|Elias          |Kopf           |\n",
      "|Jennifer       |Müller         |\n",
      "|Oliver         |Pfenniger      |\n",
      "|René           |Scheidegger    |\n",
      "|Jakob          |Sutter         |\n"
     ]
    }
   ],
   "source": [
    "# Benutze die Funktion row2str(row, width)\n",
    "# Benutze For-Schleife um rows auszugeben\n",
    "COL_WIDTH = 15\n",
    "HEADER    = ('First Name', 'Last Name')\n",
    "FSTRING   = '|{}|{}|'\n",
    "HCHAR     = '='\n",
    "\n",
    "# horizontal line, table row(s)\n",
    "hline  = (HCHAR * COL_WIDTH, HCHAR * COL_WIDTH)\n",
    "names = [('Elias', 'Kopf'),\n",
    "         ('Jennifer', 'Müller'),\n",
    "         ('Oliver', 'Pfenniger'),\n",
    "         ('René', 'Scheidegger'),\n",
    "         ('Jakob', 'Sutter')]\n",
    "\n",
    "rows = [HEADER, hline] + names\n",
    "for row in rows:\n",
    "    s = row2str1(row, COL_WIDTH)\n",
    "    print(s)"
   ]
  },
  {
   "cell_type": "markdown",
   "id": "a2ce0ae9-7b8b-49b7-a538-4ee3d7c98d99",
   "metadata": {},
   "source": [
    "### Variable Anzahl Spalten"
   ]
  },
  {
   "cell_type": "code",
   "execution_count": 5,
   "id": "b14677e4-f030-4aa9-8403-2e62538f62a0",
   "metadata": {},
   "outputs": [
    {
     "name": "stdout",
     "output_type": "stream",
     "text": [
      "|First Name     |Last Name      |Email          |\n",
      "|===============|===============|===============|\n",
      "|Elias          |Kopf           |elias.kopf@edu.teko.ch|\n",
      "|Jennifer       |Müller         |jennifer.mueller@edu.teko.ch|\n",
      "|Oliver         |Pfenniger      |oliver.pfenniger@edu.teko.ch|\n",
      "|René           |Scheidegger    |rene.scheidegger@edu.teko.ch|\n",
      "|Jakob          |Sutter         |jakob.sutter@edu.teko.ch|\n"
     ]
    }
   ],
   "source": [
    "# variable Anzahl Spalten, Width immer gleich\n",
    "\n",
    "def row2str2(row, width):   \n",
    "    # fstring abhaengig von Anzahl Spalten\n",
    "    fstring = '|' + '{}|' * len(row)\n",
    "    # Argumente fuer fstring.format\n",
    "    args = []\n",
    "    \n",
    "    for s in row:\n",
    "        s = s.ljust(width)\n",
    "        args.append(s)\n",
    "   \n",
    "    return fstring.format(*args) \n",
    "\n",
    "HEADER = ('First Name', 'Last Name', 'Email')\n",
    "COL_WIDTH = 15\n",
    "\n",
    "hline  = ['=' * COL_WIDTH for h in HEADER]\n",
    "names = [('Elias', 'Kopf', 'elias.kopf@edu.teko.ch'),\n",
    "         ('Jennifer', 'Müller', 'jennifer.mueller@edu.teko.ch'),\n",
    "         ('Oliver', 'Pfenniger', 'oliver.pfenniger@edu.teko.ch'),\n",
    "         ('René', 'Scheidegger', 'rene.scheidegger@edu.teko.ch'),\n",
    "         ('Jakob', 'Sutter', 'jakob.sutter@edu.teko.ch')]\n",
    "\n",
    "rows = [HEADER, hline] + names\n",
    "for row in rows:\n",
    "    s = row2str2(row, COL_WIDTH)\n",
    "    print(s)"
   ]
  },
  {
   "cell_type": "markdown",
   "id": "e722c2be-8eca-4cf9-b615-06dc699f69c4",
   "metadata": {},
   "source": [
    "### 5 Unterschliedliche Spaltenbreiten, Automatische Bestimmung der Spaltenbreite"
   ]
  },
  {
   "cell_type": "code",
   "execution_count": 2,
   "id": "f7a60a2d-d6cf-48ec-9974-bf6bbe14c0b2",
   "metadata": {},
   "outputs": [
    {
     "name": "stdout",
     "output_type": "stream",
     "text": [
      "|First Name|Last Name  |Email                       |\n",
      "|==========|===========|============================|\n",
      "|Elias     |Kopf       |elias.kopf@edu.teko.ch      |\n",
      "|Jennifer  |Müller     |jennifer.mueller@edu.teko.ch|\n",
      "|Oliver    |Pfenniger  |oliver.pfenniger@edu.teko.ch|\n",
      "|René      |Scheidegger|rene.scheidegger@edu.teko.ch|\n",
      "|Jakob     |Sutter     |jakob.sutter@edu.teko.ch    |\n"
     ]
    }
   ],
   "source": [
    "# Unterschliedliche Spaltenbreite\n",
    "# Benutze die Funktion row2str(row, widths)\n",
    "# Benutze For-Schleife um rows auszugeben\n",
    "\n",
    "\n",
    "def get_widths(header, rows):\n",
    "    widths = [len(h) for h in header]\n",
    "    \n",
    "    for row in rows:\n",
    "        for i,item in enumerate(row):\n",
    "            widths[i] = max(widths[i], len(item))\n",
    "    return widths  \n",
    "\n",
    "def row2str3(row, widths):    \n",
    "    fstring = '|' + '{}|' * len(row)\n",
    "    args = []\n",
    "    \n",
    "    for s, w in zip(row, widths):\n",
    "        s = s.ljust(w)\n",
    "        args.append(s)\n",
    "   \n",
    "    return fstring.format(*args)\n",
    "\n",
    "HEADER = ('First Name', 'Last Name', 'Email')\n",
    "names = [('Elias', 'Kopf', 'elias.kopf@edu.teko.ch'),\n",
    "         ('Jennifer', 'Müller', 'jennifer.mueller@edu.teko.ch'),\n",
    "         ('Oliver', 'Pfenniger', 'oliver.pfenniger@edu.teko.ch'),\n",
    "         ('René', 'Scheidegger', 'rene.scheidegger@edu.teko.ch'),\n",
    "         ('Jakob', 'Sutter', 'jakob.sutter@edu.teko.ch')]\n",
    "\n",
    "widths = get_widths(HEADER, names)\n",
    "hline  = ['=' * i for i in widths]\n",
    "\n",
    "rows = [HEADER, hline] + names\n",
    "for row in rows:\n",
    "    s = row2str3(row, widths)\n",
    "    print(s)"
   ]
  },
  {
   "cell_type": "markdown",
   "id": "a3f7c725-62b4-451f-88ba-efa4c193156d",
   "metadata": {},
   "source": [
    "### 6 Ausgabe der Tabelle mit Funktion `print_table`"
   ]
  },
  {
   "cell_type": "code",
   "execution_count": 2,
   "id": "7e2128c5-7021-4b44-b8f8-fdf47c08bd2d",
   "metadata": {},
   "outputs": [
    {
     "name": "stdout",
     "output_type": "stream",
     "text": [
      "|First Name|Last Name  |Email                       |\n",
      "|==========|===========|============================|\n",
      "|Elias     |Kopf       |elias.kopf@edu.teko.ch      |\n",
      "|Jennifer  |Müller     |jennifer.mueller@edu.teko.ch|\n",
      "|Oliver    |Pfenniger  |oliver.pfenniger@edu.teko.ch|\n",
      "|René      |Scheidegger|rene.scheidegger@edu.teko.ch|\n",
      "|Jakob     |Sutter     |jakob.sutter@edu.teko.ch    |\n"
     ]
    }
   ],
   "source": [
    "# Automatische Bestimmung der Spaltenbreite\n",
    "# Funktion zur Ausgabe der Table\n",
    "def get_widths(header, rows):\n",
    "    widths = [len(h) for h in header]\n",
    "    \n",
    "    for row in rows:\n",
    "        for i,item in enumerate(row):\n",
    "            widths[i] = max(widths[i], len(item))\n",
    "    return widths      \n",
    "\n",
    "def print_table(header, rows):    \n",
    "    widths = get_widths(header, rows)\n",
    "    hline = ['=' * i for i in widths]\n",
    "    \n",
    "    for row in [header, hline] + rows:\n",
    "        print(row2str3(row, widths))\n",
    "\n",
    "HEADER = ('First Name', 'Last Name', 'Email')\n",
    "names = [('Elias', 'Kopf', 'elias.kopf@edu.teko.ch'),\n",
    "         ('Jennifer', 'Müller', 'jennifer.mueller@edu.teko.ch'),\n",
    "         ('Oliver', 'Pfenniger', 'oliver.pfenniger@edu.teko.ch'),\n",
    "         ('René', 'Scheidegger', 'rene.scheidegger@edu.teko.ch'),\n",
    "         ('Jakob', 'Sutter', 'jakob.sutter@edu.teko.ch')]\n",
    "\n",
    "print_table(HEADER, names)"
   ]
  },
  {
   "cell_type": "markdown",
   "id": "f4df06d3-d21a-4d20-9c55-821929fe7296",
   "metadata": {},
   "source": [
    "### 7 Tabelle zu String konvertieren, statt direkt auszugeben"
   ]
  },
  {
   "cell_type": "code",
   "execution_count": 3,
   "id": "6d50516a-fd44-4722-a643-3a58aae9f87d",
   "metadata": {},
   "outputs": [
    {
     "name": "stdout",
     "output_type": "stream",
     "text": [
      "|First Name|Last Name  |Email                       |\n",
      "|==========|===========|============================|\n",
      "|Elias     |Kopf       |elias.kopf@edu.teko.ch      |\n",
      "|Jennifer  |Müller     |jennifer.mueller@edu.teko.ch|\n",
      "|Oliver    |Pfenniger  |oliver.pfenniger@edu.teko.ch|\n",
      "|René      |Scheidegger|rene.scheidegger@edu.teko.ch|\n",
      "|Jakob     |Sutter     |jakob.sutter@edu.teko.ch    |\n"
     ]
    }
   ],
   "source": [
    "def get_widths(header, rows):\n",
    "    widths = [len(h) for h in header]\n",
    "    \n",
    "    for row in rows:\n",
    "        for i,item in enumerate(row):\n",
    "            widths[i] = max(widths[i], len(item))\n",
    "            \n",
    "    return widths      \n",
    "\n",
    "def table2str(header, rows):    \n",
    "    res = []\n",
    "    \n",
    "    widths = get_widths(header, rows)\n",
    "    hline = ['=' * w for w in widths]\n",
    "   \n",
    "    for row in [header, hline] + rows:\n",
    "        res.append(row2str3(row, widths))\n",
    "        \n",
    "    return '\\n'.join(res)  \n",
    "\n",
    "HEADER = ('First Name', 'Last Name', 'Email')\n",
    "names = [('Elias', 'Kopf', 'elias.kopf@edu.teko.ch'),\n",
    "         ('Jennifer', 'Müller', 'jennifer.mueller@edu.teko.ch'),\n",
    "         ('Oliver', 'Pfenniger', 'oliver.pfenniger@edu.teko.ch'),\n",
    "         ('René', 'Scheidegger', 'rene.scheidegger@edu.teko.ch'),\n",
    "         ('Jakob', 'Sutter', 'jakob.sutter@edu.teko.ch')]\n",
    "\n",
    "s = table2str(HEADER, names)\n",
    "print(s)"
   ]
  },
  {
   "cell_type": "code",
   "execution_count": null,
   "id": "22d3ee4b-f29d-48f4-9632-2d62ded947f9",
   "metadata": {},
   "outputs": [],
   "source": []
  },
  {
   "cell_type": "code",
   "execution_count": 4,
   "id": "f6c9cbcb-1c22-4fb2-a901-8b0db598d293",
   "metadata": {},
   "outputs": [],
   "source": [
    "header = ('Vorname', 'Name')\n",
    "rows = [('Anna',  'Meier'), \n",
    "        ('Hans', 'Mustermann'),\n",
    "       ] \n"
   ]
  },
  {
   "cell_type": "code",
   "execution_count": 5,
   "id": "11e7773d-11ba-4846-b868-4db97416226a",
   "metadata": {},
   "outputs": [
    {
     "name": "stdout",
     "output_type": "stream",
     "text": [
      "|Vorname|Name      |\n",
      "|=======|==========|\n",
      "|Anna   |Meier     |\n",
      "|Hans   |Mustermann|\n"
     ]
    }
   ],
   "source": [
    "s = table2str(header, rows)\n",
    "print(s)"
   ]
  },
  {
   "cell_type": "code",
   "execution_count": null,
   "id": "bacff660-d847-4289-ad38-f138dfdba862",
   "metadata": {},
   "outputs": [],
   "source": []
  }
 ],
 "metadata": {
  "kernelspec": {
   "display_name": "Python 3 (ipykernel)",
   "language": "python",
   "name": "python3"
  },
  "language_info": {
   "codemirror_mode": {
    "name": "ipython",
    "version": 3
   },
   "file_extension": ".py",
   "mimetype": "text/x-python",
   "name": "python",
   "nbconvert_exporter": "python",
   "pygments_lexer": "ipython3",
   "version": "3.9.10"
  }
 },
 "nbformat": 4,
 "nbformat_minor": 5
}
