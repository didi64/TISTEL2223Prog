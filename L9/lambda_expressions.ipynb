{
 "cells": [
  {
   "cell_type": "markdown",
   "id": "b859460e-e6ee-498f-be1e-3b556da7b75a",
   "metadata": {
    "tags": []
   },
   "source": [
    "### Lambda-Funktionen (von [$\\lambda$-Calculus](https://en.wikipedia.org/wiki/Lambda_calculus))\n",
    "Ein Lambda-Ausdruck (lambda expression) erlaubt es, kompakt eine anonyme Funktion zu definieren.\n",
    "- `f = lambda <arguments>: <expression>` ist die Kurzform von\n",
    "\n",
    "```python\n",
    "\n",
    "def fun(<arguments>):\n",
    "    return <expression>\n",
    "\n",
    "f = fun\n",
    "```\n",
    "Eine Funktionsdefinition mit `def f(<arguments>)` ist ein **statement**,\n",
    "der Lambda-Ausdruck ist ein **expression** und kann somit z.B. einer Funktion als Argument &uuml;bergeben werden:  \n",
    "\n",
    "```python\n",
    "students = [('John', 'A', 15), ('Jane', 'B', 12), ('Dave', 'B', 10)]\n",
    "sorted(students, key = lambda x:x[2]) #sortiere nach Zahl im Tupel\n",
    "```\n",
    "\n",
    "\n",
    "- Die `<arguments>` des Lambda-Ausdrucks sind exakt gleich wie bei normalen Funktionsdefinitionen,\n",
    "    z.B. **keyword argumets** sind ok: `lambda x, y=1: x+y`\n",
    "\n",
    "\n",
    "\n",
    "\n",
    "***\n",
    "**Beachte**: \n",
    "- `x=3` und `if x>2: print('too big')` sind  **statements**, keine **expressions**  \n",
    "und sind in Lambda-Ausdr&uuml;cken nicht erlaubt\n",
    "\n",
    "**Tricks**:\n",
    "- `<expression1> if <expression> else <expression2>` ist ein **Expression**.  \n",
    "Sein Wert ist  \n",
    "`<expression1>` falls `bool(expression)` gleich `True`, sonst `<expression2>`\n",
    "- `(a:=<expression>)` ist ein **Expression** (siehe [Walrus Operator](https://docs.python.org/3/whatsnew/3.8.html))  \n",
    "Der Wert dieses Ausdrucks ist der Wert von `<expression>`. Gleichzeitig wird dieser Wert \n",
    "der Variable `a` zugewiesen\n",
    "- Verwende [logische Operatoren](./LogischeOperatoren.ipynb) statt `if-else` Anweisungen:\n",
    "\n",
    "```python\n",
    "\n",
    "<exp1> and <EXP1> or <exp2> and <EXP2> or <EXP3>  \n",
    "\n",
    "```\n",
    "\n",
    "ist &auml;quivalent zu  \n",
    "(**beachte**: `and` hat h&ouml;here Priorit&auml;t als `or`)  \n",
    "\n",
    "```python\n",
    "\n",
    "if <exp1>:\n",
    "    return <EXP1>\n",
    "elif <exp2>:\n",
    "    return <EXP2>  \n",
    "else:\n",
    "    return <EXP3>  \n",
    "            \n",
    "```\n"
   ]
  },
  {
   "cell_type": "markdown",
   "id": "fa6d1389-be5c-4793-b292-9c945e5ad23f",
   "metadata": {},
   "source": [
    "### Erste Beispiele"
   ]
  },
  {
   "cell_type": "code",
   "execution_count": null,
   "id": "9dd7e581-5339-425d-8ee1-757a29c772fb",
   "metadata": {},
   "outputs": [],
   "source": [
    "say_hello = lambda x: print('Hello {}'.format(x))\n",
    "say_hello('Bob')"
   ]
  },
  {
   "cell_type": "code",
   "execution_count": null,
   "id": "b8ac0a72-c6f5-4ca3-a3bc-8fd9f336a051",
   "metadata": {},
   "outputs": [],
   "source": [
    "# Tipp: Klicke auf 'sorted' und druecke shift-tab\n",
    "students = [('John', 'A', 15), ('Jane', 'B', 12), ('Dave', 'B', 10)]\n",
    "sorted(students, key = lambda x:x[2])"
   ]
  },
  {
   "cell_type": "code",
   "execution_count": null,
   "id": "5c71e5fb-8e7c-45b5-bc78-c95921d7d9b7",
   "metadata": {},
   "outputs": [],
   "source": [
    "sign = lambda x: x<0 and -1 or x>0 and 1 or 0\n",
    "[sign(x) for x in (-2,0,5)]"
   ]
  },
  {
   "cell_type": "code",
   "execution_count": null,
   "id": "c2d4888c-a57a-413e-bd2c-bcd0a2443164",
   "metadata": {},
   "outputs": [],
   "source": [
    "eval_guess = lambda guess, nbr: (comments := {1: 'too big', 0: 'correct', -1:'too small'})\\\n",
    "              and comments[sign(guess-nbr)]\n",
    "\n",
    "[eval_guess(x, nbr=4) for x in (1,4,5)]"
   ]
  },
  {
   "cell_type": "markdown",
   "id": "a2d20a1b-742d-4b92-a822-7bc888e15b6c",
   "metadata": {},
   "source": [
    "### Argument einer Funktion fixieren\n",
    "\n",
    "Man hat zum Beispiel eine Funktion `print_to_canvas(obj, text)`, welche Text auf einem Canvas-Objekt `obj` ausgibt.\n",
    "Weiter habe man eine Anwendung, welche Text mit einer zu spezifizierenden Callback-Funktion `callback(text)` ausgibt, welche jedoch nur ein Argument erwartet.  \n",
    "Zudem sei `canvas` eine Instanz eines Canvas-Widgets.\n",
    "\n",
    "```python\n",
    "lambda text: print_to_canvas(canvas, text)\n",
    "```\n",
    "ist dann eine Funktion mit nur einem Argument `text`, welches an `print_to_canvas` weitergereicht wird.\n",
    "Das erste Arguement von `print_to_canvas` wird auf `canvas` fixiert.\n",
    "\n",
    "\n",
    "\n",
    "\n",
    "\n",
    "\n",
    "\n"
   ]
  },
  {
   "cell_type": "code",
   "execution_count": null,
   "id": "4a3aee0a-84b4-4de3-b93a-2b940c34afe7",
   "metadata": {},
   "outputs": [],
   "source": [
    "import app\n",
    "app.callback = print\n",
    "app.run()"
   ]
  },
  {
   "cell_type": "code",
   "execution_count": null,
   "id": "40fa6ea3-b507-43a8-af77-27684128d0fb",
   "metadata": {},
   "outputs": [],
   "source": [
    "def print_to_canvas(canvas, text):\n",
    "    canvas.stroke_text(text, 10, 20)"
   ]
  },
  {
   "cell_type": "code",
   "execution_count": null,
   "id": "98e62f76-d055-4093-b423-9bcdd28874ad",
   "metadata": {},
   "outputs": [],
   "source": [
    "from ipycanvas import Canvas\n",
    "canvas = Canvas(width = 200, height = 100, \n",
    "                layout = {'border' : '2px solid black'}\n",
    "               )\n",
    "\n",
    "\n",
    "app.callback = lambda text:print_to_canvas(canvas, text)\n",
    "\n",
    "# Code der das gleiche macht\n",
    "# def callback(text):\n",
    "#     return canvas.stroke_text(text, 10, 20)\n",
    "\n",
    "# app.callback = callback\n",
    "\n",
    "\n",
    "display(canvas)\n",
    "app.run()"
   ]
  },
  {
   "cell_type": "markdown",
   "id": "a9308174-4a3b-4b9b-8606-fe4bca4c0a02",
   "metadata": {},
   "source": [
    "### Late Binding \n",
    "Ein Python-Verhalten, das im Zusammenhang mit Lambda-Ausdr&uuml;cken zu &Uuml;berrachungen f&uuml;hren kann\n",
    "```python\n",
    "funs = [] #Liste von Funktionen\n",
    "for i in range(3):\n",
    "    f = lambda: print(i)\n",
    "    funs.append(f)\n",
    "```\n",
    "\n",
    "**Achtung**: Python erstellt im Wesentliche eine Liste mit den Ausdr&uuml;cken  \n",
    "`[lambda: print(i), lambda: print(i), lambda: print(i)]` \n",
    "\n",
    "Erst nach Verlassen der Schleife wird die Variable `i` and den Wert `3` gebunden!\n",
    "\n",
    "**Ausweg**: Default Argumente verwenden!  \n",
    "Das Default Argument `x` erh&auml;lt den Wert von `i` zum\n",
    "Zeitpunkt seiner Kreation.\n",
    "\n",
    "```python\n",
    "funs = []\n",
    "for i in range(3):\n",
    "    f = lambda x=i: print(x)\n",
    "    funs.append(f)\n",
    "```\n",
    "\n"
   ]
  },
  {
   "cell_type": "code",
   "execution_count": null,
   "id": "2ba3f7ec-cdd6-4456-8de7-363c8c32e44b",
   "metadata": {},
   "outputs": [],
   "source": [
    "# \n",
    "names = ['Alice', 'Bob', 'Carl']\n",
    "funs1 = [] # list of functions\n",
    "\n",
    "for name in names: \n",
    "    f = lambda: print('Hello {}'.format(name))\n",
    "    funs1.append(f)\n",
    "    \n",
    "for f in funs1: f()   "
   ]
  },
  {
   "cell_type": "code",
   "execution_count": null,
   "id": "9eee756b-dc6f-495f-b0e6-5381cee98ee9",
   "metadata": {},
   "outputs": [],
   "source": [
    "names = ['Alice', 'Bob', 'Carl']\n",
    "funs2 = [lambda: print('Hello {}'.format(name)) for name in names]\n",
    "for f in funs2: f()"
   ]
  },
  {
   "cell_type": "markdown",
   "id": "df57785c-741f-47bf-b2db-b2201a79ab61",
   "metadata": {},
   "source": [
    "**Ausweg**: Default Argumente verwenden (`lambda x=name:...`)"
   ]
  },
  {
   "cell_type": "code",
   "execution_count": null,
   "id": "9faab4e5-fa6e-41f3-8b21-4892fd7d907a",
   "metadata": {},
   "outputs": [],
   "source": [
    "names = ['Alice', 'Bob', 'Carl']\n",
    "funs = [lambda x=name: print('Hello {}'.format(x)) for name in names]\n",
    "\n",
    "for f in funs: f()"
   ]
  },
  {
   "cell_type": "markdown",
   "id": "de82f3c3-a7fe-40e0-9609-c4802699b8ed",
   "metadata": {},
   "source": [
    "**Alternative**: Funktionsfabrik"
   ]
  },
  {
   "cell_type": "code",
   "execution_count": null,
   "id": "c96c5ac7-0a13-40ff-9f0e-8ce88a69f65e",
   "metadata": {},
   "outputs": [],
   "source": [
    "names = ['Alice', 'Bob', 'Carl']\n",
    "def make_fun(name):\n",
    "    def f():\n",
    "        print('Hello {}'.format(name))\n",
    "    return f\n",
    "\n",
    "funs3 = [make_fun(name) for name in names]\n",
    "for f in funs3: f()"
   ]
  }
 ],
 "metadata": {
  "kernelspec": {
   "display_name": "Python 3 (ipykernel)",
   "language": "python",
   "name": "python3"
  },
  "language_info": {
   "codemirror_mode": {
    "name": "ipython",
    "version": 3
   },
   "file_extension": ".py",
   "mimetype": "text/x-python",
   "name": "python",
   "nbconvert_exporter": "python",
   "pygments_lexer": "ipython3",
   "version": "3.9.10"
  }
 },
 "nbformat": 4,
 "nbformat_minor": 5
}
