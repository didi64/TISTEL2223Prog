{
 "cells": [
  {
   "cell_type": "markdown",
   "id": "b859460e-e6ee-498f-be1e-3b556da7b75a",
   "metadata": {
    "tags": []
   },
   "source": [
    "### Lambda-Funktionen (von [$\\lambda$-Calculus](https://en.wikipedia.org/wiki/Lambda_calculus))  \n",
    "(siehe auch [hier](https://www.w3schools.com/python/python_lambda.asp))  \n",
    "Ein Lambda-Ausdruck (lambda expression) erlaubt es, **inline** eine einfache anonyme Funktion zu definieren.\n",
    "- `f = lambda <arguments>: <expression>` ist die Kurzform von\n",
    "\n",
    "```python\n",
    "\n",
    "def fun(<arguments>):\n",
    "    return <expression>\n",
    "\n",
    "f = fun\n",
    "```\n",
    "Eine Funktionsdefinition mit `def f(<arguments>)` ist ein **statement**,\n",
    "der Lambda-Ausdruck ist ein **expression** und kann somit z.B. einer Funktion als Argument &uuml;bergeben werden:  \n",
    "\n",
    "```python\n",
    "modify_iterable(lambda x: x.upper(), 'abc')\n",
    "```\n",
    "\n",
    "\n",
    "- Die `<arguments>` des Lambda-Ausdrucks sind exakt gleich wie bei normalen Funktionsdefinitionen,\n",
    "    z.B. **Default-Argumete** sind ok, ebenso k&ouml;nnen Lambda-Ausdr&uuml;cke **variadische Funktionen** definieren:  \n",
    "  - `lambda x, y=1: x+y`  \n",
    "  - `lambda *args, **kwargs: print(*args, **kwargs)`\n",
    "\n",
    "\n",
    "\n",
    "\n",
    "***\n",
    "**Beachte**: \n",
    "- z.B. `x = 3` und `if x > 2: print('too big')` sind  **statements**, keine **expressions**, und\n",
    "sind in Lambda-Ausdr&uuml;cken nicht erlaubt.\n",
    "\n"
   ]
  },
  {
   "cell_type": "markdown",
   "id": "fa6d1389-be5c-4793-b292-9c945e5ad23f",
   "metadata": {},
   "source": [
    "### Erste Beispiele"
   ]
  },
  {
   "cell_type": "code",
   "execution_count": 30,
   "id": "9dd7e581-5339-425d-8ee1-757a29c772fb",
   "metadata": {},
   "outputs": [
    {
     "name": "stdout",
     "output_type": "stream",
     "text": [
      "Test\n",
      "Hello Bob\n"
     ]
    }
   ],
   "source": [
    "print_word = lambda word: print(word)\n",
    "say_hello = lambda x: print('Hello {}'.format(x))\n",
    "\n",
    "print_word('Test')\n",
    "say_hello('Bob')"
   ]
  },
  {
   "cell_type": "code",
   "execution_count": 26,
   "id": "35300231-335e-42ab-a797-f5821662adcd",
   "metadata": {},
   "outputs": [
    {
     "name": "stdout",
     "output_type": "stream",
     "text": [
      "1-2-3."
     ]
    }
   ],
   "source": [
    "print_stuff = lambda *args, **kwargs: print(*args, **kwargs)\n",
    "print_stuff(1, 2, 3, sep = '-', end ='.')"
   ]
  },
  {
   "cell_type": "code",
   "execution_count": 16,
   "id": "dd3cfd15-335c-451d-8ee4-1d1a009de8bf",
   "metadata": {},
   "outputs": [],
   "source": [
    "def modify_iterable(modifier, iterable):\n",
    "    return [modifier(item) for item in iterable]"
   ]
  },
  {
   "cell_type": "code",
   "execution_count": 19,
   "id": "b8ac0a72-c6f5-4ca3-a3bc-8fd9f336a051",
   "metadata": {},
   "outputs": [
    {
     "data": {
      "text/plain": [
       "['John', 'Jane', 'Dave']"
      ]
     },
     "execution_count": 19,
     "metadata": {},
     "output_type": "execute_result"
    }
   ],
   "source": [
    "students = [('John', 'A.', 2000), ('Jane', 'B.', 2001), ('Dave', 'C.', 1999)]\n",
    "modify_iterable(lambda x:x[0], students)"
   ]
  },
  {
   "cell_type": "code",
   "execution_count": 22,
   "id": "e016eda7-7cdf-43c8-a892-ac564f2a329c",
   "metadata": {},
   "outputs": [
    {
     "data": {
      "text/plain": [
       "['Aa', 'Bb', 'Cc']"
      ]
     },
     "execution_count": 22,
     "metadata": {},
     "output_type": "execute_result"
    }
   ],
   "source": [
    "modify_iterable(lambda x:x.upper() + x, 'abc')"
   ]
  },
  {
   "cell_type": "markdown",
   "id": "8260b565-3dbb-48a5-877f-11a1f8fc6519",
   "metadata": {},
   "source": [
    "**Bemerkung**:  \n",
    "Python's built-in Funktion [map](https://docs.python.org/3/library/functions.html#map) macht im Wesentlichen das Gleiche wie `modify_iterable`, nur das anstelle einer Liste ein Iterator zur&uuml;ckgebegen wird (ein Objekt wie `range`  &uuml;ber das man iterieren, oder das man z.B. in eine Liste umwandeln kann."
   ]
  },
  {
   "cell_type": "code",
   "execution_count": 31,
   "id": "7933e12f-04bc-4211-b0c1-f18cd472aa99",
   "metadata": {},
   "outputs": [
    {
     "name": "stdout",
     "output_type": "stream",
     "text": [
      "John, Jane, Dave, "
     ]
    }
   ],
   "source": [
    "for name in map(lambda x:x[0], students):\n",
    "    print(name, end = ', ')"
   ]
  },
  {
   "cell_type": "code",
   "execution_count": 12,
   "id": "5c71e5fb-8e7c-45b5-bc78-c95921d7d9b7",
   "metadata": {},
   "outputs": [
    {
     "data": {
      "text/plain": [
       "['John', 'Jane', 'Dave']"
      ]
     },
     "execution_count": 12,
     "metadata": {},
     "output_type": "execute_result"
    }
   ],
   "source": [
    "list(map(lambda x:x[0], students))"
   ]
  },
  {
   "cell_type": "markdown",
   "id": "a2d20a1b-742d-4b92-a822-7bc888e15b6c",
   "metadata": {},
   "source": [
    "### Argument einer Funktion fixieren\n",
    "\n",
    "Man hat zum Beispiel eine Funktion `print_to_canvas(obj, text)`, welche Text auf einem Canvas-Objekt `obj` ausgibt.\n",
    "Weiter habe man eine Anwendung, welche Text mit einer zu spezifizierenden Callback-Funktion `callback(text)` ausgibt, welche jedoch nur ein Argument erwartet.  \n",
    "Zudem sei `canvas` eine Instanz eines Canvas-Widgets.\n",
    "\n",
    "```python\n",
    "lambda text: print_to_canvas(canvas, text)\n",
    "```\n",
    "ist dann eine Funktion mit nur einem Argument `text`, welches an `print_to_canvas` weitergereicht wird.\n",
    "Das erste Arguement von `print_to_canvas` wird auf `canvas` fixiert.\n",
    "\n",
    "\n",
    "\n",
    "\n",
    "\n",
    "\n",
    "\n"
   ]
  },
  {
   "cell_type": "code",
   "execution_count": 28,
   "id": "4a3aee0a-84b4-4de3-b93a-2b940c34afe7",
   "metadata": {},
   "outputs": [
    {
     "name": "stdout",
     "output_type": "stream",
     "text": [
      "App is running ...\n"
     ]
    }
   ],
   "source": [
    "import app\n",
    "app.callback = print\n",
    "app.run()"
   ]
  },
  {
   "cell_type": "code",
   "execution_count": 29,
   "id": "40fa6ea3-b507-43a8-af77-27684128d0fb",
   "metadata": {},
   "outputs": [],
   "source": [
    "# Funktion, die auf canvas schreibt,\n",
    "# vorausgesetzt canvas ist tatsaechlich ein Canvas-Objekt\n",
    "def print_to_canvas(canvas, text):\n",
    "    canvas.stroke_text(text, 10, 20)"
   ]
  },
  {
   "cell_type": "code",
   "execution_count": 33,
   "id": "98e62f76-d055-4093-b423-9bcdd28874ad",
   "metadata": {},
   "outputs": [
    {
     "data": {
      "application/vnd.jupyter.widget-view+json": {
       "model_id": "d8df66f566574a3ab23c00776ce53f84",
       "version_major": 2,
       "version_minor": 0
      },
      "text/plain": [
       "Canvas(height=100, layout=Layout(border='2px solid black'), width=200)"
      ]
     },
     "metadata": {},
     "output_type": "display_data"
    }
   ],
   "source": [
    "from ipycanvas import Canvas\n",
    "# Canvas-Widget erstellen\n",
    "canvas = Canvas(width = 200, height = 100, \n",
    "                layout = {'border' : '2px solid black'}\n",
    "               )\n",
    "\n",
    "# app-callback setzen\n",
    "app.callback = lambda text:print_to_canvas(canvas, text)\n",
    "\n",
    "# Canvas anzeigen\n",
    "display(canvas)\n",
    "\n",
    "# app starten\n",
    "app.run()"
   ]
  },
  {
   "cell_type": "markdown",
   "id": "6729029d-3225-40b7-8534-ebde60f3a022",
   "metadata": {},
   "source": [
    "### Aufgabe  \n",
    "Ersetze in obiger Zelle `app.callback = ...` durch Code, der das Gleiche macht, aber keine Lambda-Ausdr&uuml;cke verwendet."
   ]
  },
  {
   "cell_type": "code",
   "execution_count": null,
   "id": "e28d5f78-41a0-4121-910f-ae1f51e889d2",
   "metadata": {},
   "outputs": [],
   "source": []
  }
 ],
 "metadata": {
  "kernelspec": {
   "display_name": "Python 3 (ipykernel)",
   "language": "python",
   "name": "python3"
  },
  "language_info": {
   "codemirror_mode": {
    "name": "ipython",
    "version": 3
   },
   "file_extension": ".py",
   "mimetype": "text/x-python",
   "name": "python",
   "nbconvert_exporter": "python",
   "pygments_lexer": "ipython3",
   "version": "3.9.10"
  }
 },
 "nbformat": 4,
 "nbformat_minor": 5
}
