{
 "cells": [
  {
   "cell_type": "markdown",
   "id": "4cfcc4cb-c39c-474c-9d54-01dfe4e1a9a7",
   "metadata": {
    "tags": []
   },
   "source": [
    "### Pythons [Built-in Funktionen](https://docs.python.org/3/library/functions.html)  \n",
    "**Diese solltst du kennen**:\n",
    "- Information zu einem Modul, Klasse, Funktion oder Methode    \n",
    "  -`help()`  \n",
    "- Eingabe/Ausgabe  \n",
    "  -`input(), print(), format()`  \n",
    "- Typeinfo, teste ob ein Objekt Instanz eines Types ist:     \n",
    "  -`type(), isinstance()`  \n",
    "- Casts (Umwandeln in einen anderen Typ)   \n",
    "  -`bool(), dict(), float(), int(), list(), set(), str(), tuple()`  \n",
    "- Range kreieren, iterierbares Objekt modifizieren    \n",
    "  -`range(), enumerate(), reversed(), zip()`  \n",
    "- Absolutwert einer Zahl, L&auml;nge (Anzahl Elemente) eines Iterables    \n",
    "  -`abs(), len()`  \n",
    "- Maximum und Minimun von **Werten** und Elementen von **Iterables**    \n",
    "  -`max(), min()`  \n",
    "- Summe von Elementen eines Iterables   \n",
    "  -`sum()`  \n",
    "- Teste ob f&uuml;r **alle**, bez. f&uuml;r **mindestens ein** Element `x` eines Iterables\n",
    "`bool(x) = True`   \n",
    "  -`all(), any()`  \n",
    "- Attribut eines Objekts lesen, bez. setzen  \n",
    "  - `getattr(obj, attribute)`  \n",
    "  - `setattr(obj, attribute, value)`"
   ]
  },
  {
   "cell_type": "code",
   "execution_count": null,
   "id": "7fa9466b-c17d-4427-9c81-0e0ab3311aa8",
   "metadata": {},
   "outputs": [],
   "source": [
    "# type\n",
    "x = '123'\n",
    "type(x)"
   ]
  },
  {
   "cell_type": "code",
   "execution_count": null,
   "id": "e6924b17-c243-465b-835d-f2f7c5df1853",
   "metadata": {},
   "outputs": [],
   "source": [
    "# isinstance(x, int)\n",
    "isinstance(x, str)"
   ]
  },
  {
   "cell_type": "code",
   "execution_count": null,
   "id": "d1193af8-b1e9-4b9e-b84b-b44cd262411f",
   "metadata": {},
   "outputs": [],
   "source": [
    "# casts\n",
    "list('abd'),\\\n",
    "bool([]),\\\n",
    "bool(''),\\\n",
    "bool(0)"
   ]
  },
  {
   "cell_type": "code",
   "execution_count": null,
   "id": "ab18fd41-00f4-4f09-9154-2cb549e8cf5b",
   "metadata": {},
   "outputs": [],
   "source": [
    "for i in range(3):\n",
    "    print(i, end=', ')\n",
    "print()\n",
    "for i,ch in enumerate('abc'):\n",
    "    print(i,ch, end=', ')\n",
    "print()    \n",
    "for x,y in zip('aaa', 'bbb'):\n",
    "    print(x,y, end=', ')\n",
    "print()\n",
    "for i, (x,y) in enumerate(zip('aaa', 'bbb')):\n",
    "    print(i,x,y, end=', ')    \n",
    "print()\n",
    "for ch in reversed('abc'):\n",
    "    print(ch, end=', ')"
   ]
  },
  {
   "cell_type": "code",
   "execution_count": null,
   "id": "d80c5bb8-e0c5-4197-9b1c-d099181d9a3f",
   "metadata": {},
   "outputs": [],
   "source": [
    "abs(-3),\\\n",
    "abs(-3.2),\\\n",
    "len('abc'),\\\n",
    "len([1,2]),\\\n",
    "len(range(5))"
   ]
  },
  {
   "cell_type": "code",
   "execution_count": null,
   "id": "be252472-079f-4db2-abac-8d610d51b5d1",
   "metadata": {},
   "outputs": [],
   "source": [
    "max(1,2)\n",
    "max(1,2,3)\n",
    "min((1,2,3))"
   ]
  },
  {
   "cell_type": "code",
   "execution_count": null,
   "id": "21ad24da-5c24-4fbf-896d-9aa8d9c20f30",
   "metadata": {},
   "outputs": [],
   "source": [
    "# sum(1,2) # TypeError: 'int' object is not iterable\n",
    "sum([1,2,3])"
   ]
  },
  {
   "cell_type": "code",
   "execution_count": null,
   "id": "06aef86a-29c2-4548-a000-97421ed09c86",
   "metadata": {},
   "outputs": [],
   "source": [
    "l1 = []\n",
    "l2 = [1]\n",
    "l3 = [1,2]\n",
    "\n",
    "print('bool(l1):', bool(l1))\n",
    "print('bool(l2):', bool(l2))"
   ]
  },
  {
   "cell_type": "code",
   "execution_count": null,
   "id": "fb6235eb-8c16-4325-bdf2-b8a9aaa5419d",
   "metadata": {},
   "outputs": [],
   "source": [
    "#all(1,2) #TypeError: any() takes exactly one argument (3 given)\n",
    "any(['',[],0]), all([1,[2],'0'])"
   ]
  },
  {
   "cell_type": "markdown",
   "id": "bf4c7f24-75eb-45e4-b808-a69435554377",
   "metadata": {},
   "source": [
    "### Vergleichsoperatoren und Memership-Tests:\n",
    "- `==` (gleich), `!=` (ungleich), `<` (keiner), `<=` (kleiner gleich), `>` (gr&ouml;sser), `>=` (gr&ouml;sser gleich)\n",
    "- `in`, `not in`"
   ]
  },
  {
   "cell_type": "code",
   "execution_count": 1,
   "id": "2f41f858-ae06-4daf-83a4-bb56aea07045",
   "metadata": {},
   "outputs": [
    {
     "data": {
      "text/plain": [
       "(False, True, False, True)"
      ]
     },
     "execution_count": 1,
     "metadata": {},
     "output_type": "execute_result"
    }
   ],
   "source": [
    "2 < 1,\\\n",
    "2 in [1,2,3],\\\n",
    "2 not in [1,2,3],\\\n",
    "4 not in [1,2,3]"
   ]
  },
  {
   "cell_type": "markdown",
   "id": "f821ab01-04cc-4c74-b4b6-ccd2c5bc92a5",
   "metadata": {},
   "source": [
    "### Aufgabe: \n",
    "Benutze `reversed` um einen String `s` umzudrehen.  \n",
    "Teste, ob dein Resultat  gleich `s[::-1]` ist."
   ]
  },
  {
   "cell_type": "code",
   "execution_count": 5,
   "id": "8240bccf-c936-4f92-b495-9decb75970c5",
   "metadata": {},
   "outputs": [
    {
     "data": {
      "text/plain": [
       "True"
      ]
     },
     "execution_count": 5,
     "metadata": {},
     "output_type": "execute_result"
    }
   ],
   "source": [
    "s = 'blabla'\n",
    "''.join(reversed(s)) ==s[::-1]"
   ]
  }
 ],
 "metadata": {
  "kernelspec": {
   "display_name": "Python 3 (ipykernel)",
   "language": "python",
   "name": "python3"
  },
  "language_info": {
   "codemirror_mode": {
    "name": "ipython",
    "version": 3
   },
   "file_extension": ".py",
   "mimetype": "text/x-python",
   "name": "python",
   "nbconvert_exporter": "python",
   "pygments_lexer": "ipython3",
   "version": "3.9.10"
  }
 },
 "nbformat": 4,
 "nbformat_minor": 5
}
