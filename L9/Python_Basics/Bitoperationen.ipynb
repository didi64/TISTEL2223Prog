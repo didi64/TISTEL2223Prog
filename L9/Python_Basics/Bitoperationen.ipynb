{
 "cells": [
  {
   "cell_type": "markdown",
   "id": "e084dfe9-fb1f-4f00-91ed-79676d8e5751",
   "metadata": {},
   "source": [
    "### Bin&auml;r-, Oktal, Dezimal- und Hexadezimalzahlen\n",
    "Das Dezimalsystem verwendet die Ziffern 0 bis 9, und es gilt\n",
    "\n",
    "$$1234 = 1 \\cdot 1000 + 2 \\cdot 100 + 3 \\cdot 10 + 4\\cdot 1 =\n",
    "  1 \\cdot 10^3 + 2 \\cdot 10^2 + 3 \\cdot 10^1 + 4\\cdot 10^0.$$  \n",
    "\n",
    "Das Bin&auml;rsystem verwendet entsprechend nur die Ziffern 0 und 1.\n",
    "Der Pr&auml;fix 0b zeigt an, dass eine Zahl als bin&auml;re Zahl zu interpretieren ist,\n",
    "also\n",
    "\n",
    "$$0b1011 = 1 \\cdot 2^3 +  0 \\cdot 2^2 + 1 \\cdot 2^1 + 1\\cdot 2^0 = 11$$\n",
    "\n",
    "als Dezimalzahl.  \n",
    "\n",
    "Das Oktalsystem verwendet die Ziffern 0 is 7, und der Pr&auml;fix 0o zeigt an, \n",
    "dass eine Zahl als oktale Zahl zu interpretieren ist, also\n",
    " \n",
    "$$ 0o1234 = 1\\cdot 8^3+2\\cdot 8^2+3\\cdot 8 + 4 = 512+2*64+3\\cdot 8 +4 = 668.$$\n",
    "\n",
    "\n",
    "Das Hexadezimalsystem verwendet die Zeichen 0,1,...,9,A,B,C,D,E,F, wobei A,..,F f&uuml;r 10,...,15 stehen. Oft werden auch a,...f anstelle von A,...,F verwendet.\n",
    "Der Pr&auml;fix 0x zeigt an, \n",
    "dass eine Zahl als  Hexadezimalzahl zu interpretieren ist, also z.B.\n",
    "\n",
    "$$ 0xCAFE = 12\\cdot 16^3+10\\cdot 16^2+15\\cdot 16 + 14 = 51966.$$"
   ]
  },
  {
   "cell_type": "code",
   "execution_count": 167,
   "id": "2e61b17e-de96-4f11-950b-931442c8453f",
   "metadata": {},
   "outputs": [
    {
     "name": "stdout",
     "output_type": "stream",
     "text": [
      "11, 668, 51966\n"
     ]
    }
   ],
   "source": [
    "x = 0b1011\n",
    "y = 0o1234\n",
    "z = 0xCAFE\n",
    "print(x,y,z, sep = ', ')"
   ]
  },
  {
   "cell_type": "markdown",
   "id": "ef1e2f6c-54cd-4688-bc67-ad22c98e492e",
   "metadata": {},
   "source": [
    "***\n",
    "Zahl als Bin&auml;r-, Oktal- oder Hexadezimalzahl ausgegen:\n",
    "***"
   ]
  },
  {
   "cell_type": "code",
   "execution_count": 170,
   "id": "9d5fd587-3974-4a9e-ab94-b19f9bb83544",
   "metadata": {},
   "outputs": [
    {
     "name": "stdout",
     "output_type": "stream",
     "text": [
      "1011\n",
      "1234\n",
      "cafe\n"
     ]
    }
   ],
   "source": [
    "print('{:b}'.format(11))\n",
    "print('{:o}'.format(668))\n",
    "print('{:x}'.format(51966))"
   ]
  },
  {
   "cell_type": "markdown",
   "id": "dd8e1a02-b49c-431e-aa48-824dd8b19db9",
   "metadata": {},
   "source": [
    "***\n",
    "Wieso verwechseln Informatiker Helloween mit Weihnachten?\n",
    "***"
   ]
  },
  {
   "cell_type": "code",
   "execution_count": 173,
   "id": "23b72c58-f6dc-4157-be8a-85077106f458",
   "metadata": {},
   "outputs": [
    {
     "data": {
      "text/plain": [
       "True"
      ]
     },
     "execution_count": 173,
     "metadata": {},
     "output_type": "execute_result"
    }
   ],
   "source": [
    "0o31 == 25 # 31oct(tal) gleich 25 dez(imal)"
   ]
  },
  {
   "cell_type": "markdown",
   "id": "0d921e1e-1ef0-4311-9954-9b8a0bea6d77",
   "metadata": {},
   "source": [
    "### Bitoperationen  \n",
    "(siehe auch [hier](https://python-reference.readthedocs.io/en/latest/docs/operators/#bitwise-operators))  \n",
    "Die Operatoren `&` (bitweises **and**) `|` (bitweises **or**) und `^` (bitweises \n",
    "**xor**) verkn&uuml;pfen zwei Zahlen bitweise: Das i-te Bit des Resultats ist\n",
    "das Resultat der entsprechenden Verkn&uuml;pfung der i-ten Bits der beiden Zahlen.\n",
    "\n",
    "```\n",
    "1100 &              1100 |            1100 ^  \n",
    "1010                1010              1010 \n",
    "----                ----              ----\n",
    "1000                1110              0110 \n",
    "```\n",
    "\n",
    "Die bitshift Operatoren `<<` und `>>` schieben die Bits in der Bin&auml;rdarstellung \n",
    "nach link oder rechts, z.B. `1011 << 2 = 101100` und `1011 >> 2 = 10`.\n",
    "\n",
    "Um zu testen ob das i-te Bit einer Zahl `x` gesetzt ist,\n",
    "verwendet man die Operation `1 << i & x`: Das i-te Bit ist gesetzt, falls dieser\n",
    "Ausdruch ungleich 0 ist, genauer, gleich `1 << i`.\n",
    "Z.B. ist bei der Zahl `11=0b1011` das 2. Bit gesetzt, das 1. Bit jedoch nicht (wobei das rechteste Bit das 0. Bit ist).\n",
    " \n",
    "\n",
    "```\n",
    "1011 &          1011 &\n",
    "1000            0100\n",
    "----            ----\n",
    "1000 = 1<<3        0\n",
    "```"
   ]
  },
  {
   "cell_type": "code",
   "execution_count": 183,
   "id": "966cf26e-06a9-4f0d-925e-706617e7dd85",
   "metadata": {},
   "outputs": [
    {
     "name": "stdout",
     "output_type": "stream",
     "text": [
      "1000\n",
      "1110\n",
      "0110\n"
     ]
    }
   ],
   "source": [
    "# '{:04b}': gib Zahl als Binaerzahl aus. \n",
    "# Fuege fuehrende Nullen hinzu falls weniger als 4 ZIffern\n",
    "\n",
    "print('{:04b}'.format(0b1100 & 0b1010))\n",
    "print('{:04b}'.format(0b1100 | 0b1010))\n",
    "print('{:04b}'.format(0b1100 ^ 0b1010))"
   ]
  },
  {
   "cell_type": "code",
   "execution_count": 187,
   "id": "49c9b140-0be4-4e62-bb34-e3ff91e0219c",
   "metadata": {},
   "outputs": [
    {
     "name": "stdout",
     "output_type": "stream",
     "text": [
      "8\n",
      "True\n",
      "0\n"
     ]
    }
   ],
   "source": [
    "print(1 << 3 & 11)\n",
    "print(1 << 3 & 11 == 1 << 3)\n",
    "print(1 << 2 & 11)"
   ]
  },
  {
   "cell_type": "code",
   "execution_count": 18,
   "id": "2952ad35-ffa6-4ebe-af54-116c09fb4ff1",
   "metadata": {},
   "outputs": [],
   "source": [
    "def is_ith_bit_set(i, n):\n",
    "    'return 1<<i if ith bit is set else 0'\n",
    "    return 1 << i & n"
   ]
  },
  {
   "cell_type": "code",
   "execution_count": 189,
   "id": "e8071b9b-31ef-42af-9fec-21b5d76ae580",
   "metadata": {},
   "outputs": [
    {
     "data": {
      "text/plain": [
       "True"
      ]
     },
     "execution_count": 189,
     "metadata": {},
     "output_type": "execute_result"
    }
   ],
   "source": [
    "is_ith_bit_set(2, 15)"
   ]
  },
  {
   "cell_type": "code",
   "execution_count": 197,
   "id": "6af6eda5-d359-4c7f-b16d-bc01d1ee64e9",
   "metadata": {},
   "outputs": [],
   "source": [
    "def dec2bin(n):\n",
    "    'ith digit is 1 if ith bit is set, else 0'\n",
    "    digits = {True: '1', False: '0'}\n",
    "    res = ''\n",
    "    for i in range(n.bit_length()):\n",
    "        ith_bit = bool(is_ith_bit_set(i, n))\n",
    "        digit = digits[ith_bit]\n",
    "        res += digit\n",
    "    return res     "
   ]
  },
  {
   "cell_type": "code",
   "execution_count": 196,
   "id": "d042aed4-77b8-4725-ac3c-d2e8b63fda39",
   "metadata": {},
   "outputs": [
    {
     "data": {
      "text/plain": [
       "'1101'"
      ]
     },
     "execution_count": 196,
     "metadata": {},
     "output_type": "execute_result"
    }
   ],
   "source": [
    "dec2bin(11)"
   ]
  },
  {
   "cell_type": "code",
   "execution_count": 3,
   "id": "3bd8a674-b9ef-4c64-8668-26622b13c2eb",
   "metadata": {},
   "outputs": [
    {
     "data": {
      "text/plain": [
       "'1011'"
      ]
     },
     "execution_count": 3,
     "metadata": {},
     "output_type": "execute_result"
    }
   ],
   "source": [
    "'{:04b}'.format(11)"
   ]
  },
  {
   "cell_type": "code",
   "execution_count": null,
   "id": "16aecb4e-5d4c-4500-b971-40196aeb8a6f",
   "metadata": {},
   "outputs": [],
   "source": []
  }
 ],
 "metadata": {
  "kernelspec": {
   "display_name": "Python 3 (ipykernel)",
   "language": "python",
   "name": "python3"
  },
  "language_info": {
   "codemirror_mode": {
    "name": "ipython",
    "version": 3
   },
   "file_extension": ".py",
   "mimetype": "text/x-python",
   "name": "python",
   "nbconvert_exporter": "python",
   "pygments_lexer": "ipython3",
   "version": "3.9.10"
  }
 },
 "nbformat": 4,
 "nbformat_minor": 5
}
