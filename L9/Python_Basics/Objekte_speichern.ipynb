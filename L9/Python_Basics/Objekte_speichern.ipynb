{
 "cells": [
  {
   "cell_type": "markdown",
   "id": "ec396c53-b679-45f9-9542-6e70ee90ce0f",
   "metadata": {},
   "source": [
    "### Python Objekte als bin&auml;re Datei speichern\n",
    "Das Modul `pickle` erlaubt es, Python Objekte wie Listen, Dictionary, ... \n",
    "mittels **`pickle.dump`**  in einem File als **bin&auml;re** Daten zu speicher und dann mit **`pickle.load`** wieder zu laden.  \n",
    "Zu diesem Zweck ist das File im Modus **wb** (write binary) bez. **rb** (read binary) zu &ouml;ffnen.\n",
    "\n",
    "```python\n",
    "import pickle\n",
    "# Python Objekt zum speichern\n",
    "obj = {'foo': 'bar'}\n",
    "\n",
    "# obj im File obj.pkl speichern\n",
    "with open('obj.pkl', 'wb') as f:\n",
    "    pickle.dump(obj, f)\n",
    "\n",
    "# In File obj.pkl gespeichertes Objekt laden\n",
    "with open('obj.pkl', 'rb') as f:\n",
    "    read_numbers = pickle.load(f)\n",
    "```    "
   ]
  },
  {
   "cell_type": "code",
   "execution_count": 1,
   "id": "5a3df84b-617e-4c1b-9292-dc0911cc7a2e",
   "metadata": {},
   "outputs": [],
   "source": [
    "import pickle"
   ]
  },
  {
   "cell_type": "code",
   "execution_count": 15,
   "id": "82674f37-175e-4525-8151-5190651944e4",
   "metadata": {},
   "outputs": [
    {
     "data": {
      "text/plain": [
       "[1, 2, 4, 8, 16, 32, 64, 128, 256, 512]"
      ]
     },
     "execution_count": 15,
     "metadata": {},
     "output_type": "execute_result"
    }
   ],
   "source": [
    "# Liste mit Zahlen generieren\n",
    "numbers = [2**i for i in range(1000)]\n",
    "numbers[:10]"
   ]
  },
  {
   "cell_type": "code",
   "execution_count": 16,
   "id": "d481e997-5a6f-4227-b222-924dc96a1f50",
   "metadata": {},
   "outputs": [],
   "source": [
    "# Liste speichern\n",
    "with open('square_numbers.pkl', 'wb') as f:\n",
    "    pickle.dump(numbers, f)"
   ]
  },
  {
   "cell_type": "code",
   "execution_count": 17,
   "id": "6a45fee5-8d90-4c7f-8724-dc8a5f32a4bc",
   "metadata": {},
   "outputs": [
    {
     "data": {
      "text/plain": [
       "[1, 2, 4, 8, 16, 32, 64, 128, 256, 512]"
      ]
     },
     "execution_count": 17,
     "metadata": {},
     "output_type": "execute_result"
    }
   ],
   "source": [
    "# Liste laden\n",
    "with open('square_numbers.pkl', 'rb') as f:\n",
    "    my_numbers = pickle.load(f)\n",
    "    \n",
    "my_numbers[:10]    "
   ]
  }
 ],
 "metadata": {
  "kernelspec": {
   "display_name": "Python 3 (ipykernel)",
   "language": "python",
   "name": "python3"
  },
  "language_info": {
   "codemirror_mode": {
    "name": "ipython",
    "version": 3
   },
   "file_extension": ".py",
   "mimetype": "text/x-python",
   "name": "python",
   "nbconvert_exporter": "python",
   "pygments_lexer": "ipython3",
   "version": "3.9.10"
  }
 },
 "nbformat": 4,
 "nbformat_minor": 5
}
