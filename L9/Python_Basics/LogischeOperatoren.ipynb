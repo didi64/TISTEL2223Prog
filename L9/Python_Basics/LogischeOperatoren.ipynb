{
 "cells": [
  {
   "cell_type": "markdown",
   "id": "97f0076a-06cb-44dc-b95a-dbf9e7e22353",
   "metadata": {},
   "source": [
    "## Logische Operatoren: `or, and, not`  \n",
    "(siehe auch [hier](https://python-reference.readthedocs.io/en/latest/docs/operators/#boolean-operators))  \n",
    "1. Verhalten der logischen Operatoren auf Objekten vom Typ `bool` (`True, False)`:\n",
    "    - `x and y` ist `True` genau dann wenn `x` und `y` `True` sind, sonst ```False```\n",
    "    - `x or y` ist `True` genau dann wenn `x` oder  `y` `True` ist, sonst `False`\n",
    "    - `not True` ist `False` und `not False` ist `True`    \n",
    "    \n",
    "<br> \n",
    "\n",
    "2. Verhalten der logischen Operatoren auf beliebigen Objekten:\n",
    "- $$\\texttt{not x  = not bool(x)}$$\n",
    "\n",
    "\n",
    "- $$\\texttt{x and y} = \\begin{cases}\n",
    "\\texttt{x}&: \\text{falls }\\texttt{bool(x) == False},\\\\\n",
    "\\texttt{y}&: \\text{falls }\\texttt{bool(x) == True}.\\\\\n",
    "\\end{cases}$$  \n",
    "\n",
    "\n",
    "- $$\\texttt{x or  y} = \\begin{cases}\n",
    "\\texttt{x}&: \\text{falls }\\texttt{bool(x) == True},\\\\\n",
    "\\texttt{y}&: \\text{falls }\\texttt{bool(x) == False}.\\\\\n",
    "\\end{cases}$$      \n",
    "    \n",
    "**Aufgabe**: Verifiziere, dass die 2. Definition von `and, or, not` \n",
    "auf Objekten vom Typ `bool` die gleichen Resultate produziert wie die 1. Definition."
   ]
  },
  {
   "cell_type": "markdown",
   "id": "ecb4cf31-2504-4e32-bc0b-9caa214dfbd4",
   "metadata": {},
   "source": [
    "### Fallunterscheidungen mit `and` and `or`\n",
    "Betrachte folgendes Beispiel:"
   ]
  },
  {
   "cell_type": "code",
   "execution_count": null,
   "id": "ef9d446f-7931-4b4d-9fd0-5756d0d654fd",
   "metadata": {},
   "outputs": [],
   "source": [
    "# 2 Implementationen der sign-Funktion\n",
    "\n",
    "def sign1(x):\n",
    "    '''returns the sign of the number x'''\n",
    "    if x < 0:\n",
    "        return -1\n",
    "    if x > 0:\n",
    "        return 1\n",
    "    else:\n",
    "        return 0\n",
    "\n",
    "def sign(x):\n",
    "    '''returns the sign of the number x'''\n",
    "    return (x<0 and -1) or (x>0 and 1) or 0"
   ]
  },
  {
   "cell_type": "code",
   "execution_count": null,
   "id": "24738c4a-ed3f-4a03-a611-153101d4f59f",
   "metadata": {},
   "outputs": [],
   "source": [
    "# Teste, dass sich sign und sign1 gleich verhalten\n",
    "[sign(x) == sign1(x) for x in (-2, 0, 5)]"
   ]
  },
  {
   "cell_type": "markdown",
   "id": "d76b472d-1c3e-488c-a903-85dde8c6dbf9",
   "metadata": {},
   "source": [
    "### Aufgabe: T&uuml;cken von Fallunterscheidungen mit `and`, `or`\n",
    "Betrachte die n&auml;chste Zelle.  \n",
    "Da `bool([])` gleich `False`, scheint es, dass die Funktionen `f` und `g` f&uuml;r Listen beide\n",
    "das Gleiche tun.\n",
    "\n",
    "Finde Listen, wo dies nicht der Fall ist."
   ]
  },
  {
   "cell_type": "code",
   "execution_count": null,
   "id": "67f76854-a188-4fd5-892f-19d5bc26befe",
   "metadata": {},
   "outputs": [],
   "source": [
    "def f(lst):\n",
    "    if lst: # Liste nicht leer\n",
    "        print(lst[0])\n",
    "    else:\n",
    "        print('Liste ist leer!')\n",
    "    \n",
    "def g(lst):\n",
    "    print(lst and lst[0] or 'Liste ist leer!')"
   ]
  },
  {
   "cell_type": "code",
   "execution_count": null,
   "id": "4d3d6871-572a-4ee5-914c-a6c82cf7de70",
   "metadata": {},
   "outputs": [],
   "source": [
    "lst = []\n",
    "# lst = [1, 2, 3]\n",
    "# lst = ['foo', 'bar']\n",
    "\n",
    "f(lst)\n",
    "g(lst)"
   ]
  },
  {
   "cell_type": "code",
   "execution_count": null,
   "id": "88124023-2560-40a8-a67a-dd49651f141b",
   "metadata": {
    "jupyter": {
     "source_hidden": true
    },
    "tags": []
   },
   "outputs": [],
   "source": [
    "lsts = [[0], [()], [None], ['']]\n",
    "for lst in lsts:\n",
    "    f(lst)\n",
    "    g(lst)"
   ]
  },
  {
   "cell_type": "code",
   "execution_count": null,
   "id": "1dd70bca-a0a1-4d0e-89dc-bcf2c7b869ca",
   "metadata": {},
   "outputs": [],
   "source": []
  }
 ],
 "metadata": {
  "kernelspec": {
   "display_name": "Python 3 (ipykernel)",
   "language": "python",
   "name": "python3"
  },
  "language_info": {
   "codemirror_mode": {
    "name": "ipython",
    "version": 3
   },
   "file_extension": ".py",
   "mimetype": "text/x-python",
   "name": "python",
   "nbconvert_exporter": "python",
   "pygments_lexer": "ipython3",
   "version": "3.9.10"
  }
 },
 "nbformat": 4,
 "nbformat_minor": 5
}
