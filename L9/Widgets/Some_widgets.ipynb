{
 "cells": [
  {
   "cell_type": "markdown",
   "id": "a62c6de3-a2c3-47be-99f9-cf7b3cec6e35",
   "metadata": {},
   "source": [
    "### [Die wichtigsten Widgets](https://ipywidgets.readthedocs.io/en/latest/examples/Widget%20List.html)\n",
    "\n",
    "Mehr zum Output-Widget im Notebook [Output_Widget.ipynb](./Output_Widget.ipynb)"
   ]
  },
  {
   "cell_type": "code",
   "execution_count": null,
   "id": "9c83dd36-ed1a-45ef-b111-aa09085d1dcd",
   "metadata": {},
   "outputs": [],
   "source": [
    "import ipywidgets as widgets\n",
    "from toolbox import out_with_printer"
   ]
  },
  {
   "cell_type": "markdown",
   "id": "42e194bc-7841-4c98-9659-77971c6e86ca",
   "metadata": {},
   "source": [
    "***\n",
    "**Text-Widget**  \n",
    "- Registrierung eines Callbacks/Event-Handlers f&uuml;r das Submit-Event:  \n",
    "  `on_submit(callback)`  \n",
    "- Unregistrierung eines Callbacks/Event-Handlers f&uuml;r das Submit-Event:  \n",
    "  `on_submit(callback, remove = True)` \n",
    "***"
   ]
  },
  {
   "cell_type": "code",
   "execution_count": null,
   "id": "be9d27b1-2d81-44b2-acde-4e9afc04b65c",
   "metadata": {},
   "outputs": [],
   "source": [
    "def callback(tb):\n",
    "    print_to_out(tb.value)\n",
    "    tb.value = ''"
   ]
  },
  {
   "cell_type": "code",
   "execution_count": null,
   "id": "dc8a4363-53eb-464e-904a-e9162b4390da",
   "metadata": {},
   "outputs": [],
   "source": [
    "out, print_to_out = out_with_printer()\n",
    "textbox = widgets.Text(value = '', placeholder='Type something')\n",
    "textbox.on_submit(callback)\n",
    "display(textbox, out)"
   ]
  },
  {
   "cell_type": "markdown",
   "id": "203422ec-b2b2-4645-bc74-c183deb80a19",
   "metadata": {},
   "source": [
    "***\n",
    "**Das Select-Widget**  \n",
    "Das Select-Widget hat keine `on_sumbit` Methode, aber wie bei allen Widget, k&ouml;nnen\n",
    "Attribute beobachtet werden werden.  \n",
    "\n",
    "Die Methode **`observe(callback, names = name)`**\n",
    "registriert ein Callback, welches aufgerufen wird, falls das Attribute mit\n",
    "Namen `name` ge&auml;ndert wird.  `name` kann auch eine Liste von Attributnamen sein.  \n",
    "Dem Callback wird als Argument ein `Change-Objekt` &uuml;bergeben.   \n",
    "Das Callback macht davon oft keinen Gebrauch.\n",
    "\n",
    "\n",
    "Das `Change-Objekt` hat u.a. ein Attribut `owner`, welches eine Referenz auf das\n",
    "ge&auml;nderte Widget enth&auml;lt.  \n",
    "Mit  \n",
    "**`unobserve(callback, names = name)`**  \n",
    "kann ein Callback wieder entfernt werden. Mit  \n",
    "**`unobserve_all()`**  lassen sich alle mit `observe` registrieten Callbacks wieder unregistrieren.\n",
    "***"
   ]
  },
  {
   "cell_type": "code",
   "execution_count": null,
   "id": "88741eef-18bf-4c70-9315-3733aef523c3",
   "metadata": {},
   "outputs": [],
   "source": [
    "def report(change):\n",
    "    output = [change, change.owner, change.owner.value, selection.value]\n",
    "    fs = '\\n'.join([str(i+1) + ') {}' for i in range(4)])\n",
    "    print_to_out(fs.format(*output))"
   ]
  },
  {
   "cell_type": "code",
   "execution_count": null,
   "id": "9d14f247-62f3-4530-aa37-c40ce6b1c43e",
   "metadata": {},
   "outputs": [],
   "source": [
    "out, print_to_out = out_with_printer()\n",
    "selection  = widgets.Select(\n",
    "    options = ['Zürich', 'Bern', 'Luzern'],\n",
    "    value = 'Bern',\n",
    "    rows  = 5)\n",
    "\n",
    "selection.observe(report, names = 'value')\n",
    "display(selection, out)"
   ]
  },
  {
   "cell_type": "code",
   "execution_count": null,
   "id": "be39e480-d7be-4baa-ae29-37f50868f473",
   "metadata": {},
   "outputs": [],
   "source": [
    "selection.unobserve_all()"
   ]
  },
  {
   "cell_type": "markdown",
   "id": "fc32732a-7ba6-4716-950a-5f5d306a3062",
   "metadata": {},
   "source": [
    "***\n",
    "**Buttons**  \n",
    "Erlaut das Registrieren eines Event-Handlers f&uuml;r das `on_click`-Event mittels  \n",
    "`on_click(bt_callback)`  \n",
    "Im Button kann ein Icon angezeigt werden, z.B. mit  \n",
    "`widgets.Button(icon = 'arrow-right')`.    \n",
    "Genutzt werden k&ouml;nnen die Icons des [Fonts Awesome](https://fontawesome.com/v4/icons/)\n",
    "***"
   ]
  },
  {
   "cell_type": "code",
   "execution_count": null,
   "id": "2f404da9-2636-44be-ac56-91602e11e347",
   "metadata": {},
   "outputs": [],
   "source": [
    "layout_bt = {'border' : '5px solid red', \n",
    "             'width'  : '100px',\n",
    "             'height' : '30px',\n",
    "            }\n",
    "\n",
    "\n",
    "bt = widgets.Button(description = 'click me', layout = layout_bt)\n",
    "#bt = widgets.Button(icon = 'arrow-right', layout = layout_bt)\n",
    "bt.on_click(lambda bt:print_to_out('Button wurde geklickt!'))\n",
    "display(bt, out)"
   ]
  },
  {
   "cell_type": "code",
   "execution_count": null,
   "id": "c85fe110-2e9b-41bc-aa57-fb6154fad62c",
   "metadata": {},
   "outputs": [],
   "source": [
    "out.clear_output()"
   ]
  },
  {
   "cell_type": "markdown",
   "id": "25f7c236-c3fc-4788-8167-bff13fe453da",
   "metadata": {},
   "source": [
    "***\n",
    "Bordercolor obigen Buttons mit Hilfe des **Colorpicker**-Widgets &auml;ndern\n",
    "***"
   ]
  },
  {
   "cell_type": "code",
   "execution_count": null,
   "id": "61a68c68-9af1-456a-99f9-7ece9e75c463",
   "metadata": {},
   "outputs": [],
   "source": [
    "def set_border_color(change):\n",
    "    border = '5px solid {}'.format(colorpicker.value)\n",
    "    bt.layout.border = border\n",
    "    \n",
    "colorpicker = widgets.ColorPicker(description = 'Pick a color', value = 'blue')    \n",
    "colorpicker.observe(set_border_color, names ='value')\n",
    "display(colorpicker)"
   ]
  },
  {
   "cell_type": "markdown",
   "id": "1d22e108-41ce-42ee-ae84-6859cfd9656d",
   "metadata": {},
   "source": [
    "***\n",
    "**Dropdown-Widget**\n",
    "***"
   ]
  },
  {
   "cell_type": "code",
   "execution_count": null,
   "id": "6df7321d-8810-4bd8-8fa0-d3e35c6d197d",
   "metadata": {},
   "outputs": [],
   "source": [
    "widgets.Dropdown(\n",
    "    options=['1', '2', '3'],\n",
    "    value='2',\n",
    "    description='Number:',\n",
    "    disabled=False,\n",
    ")"
   ]
  },
  {
   "cell_type": "markdown",
   "id": "9d0dcb4e-4ba8-47b2-b3ac-05807cee033a",
   "metadata": {},
   "source": [
    "***\n",
    "**RadioButtons**\n",
    "***"
   ]
  },
  {
   "cell_type": "code",
   "execution_count": null,
   "id": "98fc7ddb-6a88-4f70-b972-2b2f604e0cb1",
   "metadata": {},
   "outputs": [],
   "source": [
    "choice = widgets.RadioButtons(\n",
    "    options=['pepperoni', 'pineapple', 'anchovies']\n",
    ")\n",
    "    \n",
    "choice"
   ]
  },
  {
   "cell_type": "code",
   "execution_count": null,
   "id": "9f2401c4-cf31-4263-aabb-afacd2d9c6be",
   "metadata": {},
   "outputs": [],
   "source": [
    "choice.value"
   ]
  },
  {
   "cell_type": "markdown",
   "id": "23dea46f-65af-46a4-a84c-b4a983f71d47",
   "metadata": {},
   "source": [
    "***\n",
    "**Checkbox**  \n",
    "`checkbox.value` ist `True` falls gecheckt, sonst `False`\n",
    "***"
   ]
  },
  {
   "cell_type": "code",
   "execution_count": null,
   "id": "204e81a5-1cdf-41c3-9bc6-7bab891fc215",
   "metadata": {},
   "outputs": [],
   "source": [
    "checkbox = widgets.Checkbox(\n",
    "    value=False,\n",
    "    description='Check me',\n",
    "    indent=False\n",
    ")\n",
    "checkbox"
   ]
  },
  {
   "cell_type": "code",
   "execution_count": null,
   "id": "56a556ee-daa3-4763-84f3-c8824c6f7438",
   "metadata": {},
   "outputs": [],
   "source": [
    "checkbox.value"
   ]
  },
  {
   "cell_type": "markdown",
   "id": "be475be9-99e2-4294-81b2-33a4cb78402b",
   "metadata": {},
   "source": [
    "***\n",
    "**IntSlider**\n",
    "***"
   ]
  },
  {
   "cell_type": "code",
   "execution_count": null,
   "id": "93d25b6c-fe94-4ea8-9b0d-0e7fdebbd557",
   "metadata": {},
   "outputs": [],
   "source": [
    "slider = widgets.IntSlider(\n",
    "    value=7,\n",
    "    min=1,\n",
    "    max=10,\n",
    "    step=1,\n",
    "    description='Pick a value:',\n",
    "    continuous_update=False,\n",
    "    orientation='horizontal',\n",
    ")\n",
    "slider"
   ]
  },
  {
   "cell_type": "code",
   "execution_count": null,
   "id": "f9a4e9a0-628b-47bc-b1fe-771bc3db2eda",
   "metadata": {},
   "outputs": [],
   "source": [
    "slider.value"
   ]
  },
  {
   "cell_type": "markdown",
   "id": "7ae171a6-b849-4c17-b431-bd4646478b6d",
   "metadata": {},
   "source": [
    "***\n",
    "**Container-Widgets HBox und VBox**  \n",
    "Container f&uuml;r andere Widgets  \n",
    "***"
   ]
  },
  {
   "cell_type": "code",
   "execution_count": null,
   "id": "39e94a0b-7fce-4ea7-8395-60e604da060e",
   "metadata": {},
   "outputs": [],
   "source": [
    "def add_option(tb):\n",
    "    new_options = selection.options + (tb.value,)\n",
    "    selection.options = new_options\n",
    "    tb.value = ''"
   ]
  },
  {
   "cell_type": "code",
   "execution_count": null,
   "id": "c7ff326e-6747-4bf6-9ad1-0b32bd43efa0",
   "metadata": {},
   "outputs": [],
   "source": [
    "out, print_to_out = out_with_printer()\n",
    "out.layout.width = '100%'\n",
    "\n",
    "textbox = widgets.Text(value = '', \n",
    "                       layout = {'width': '95%' }\n",
    "                      )\n",
    "\n",
    "selection = selection  = widgets.Select(\n",
    "    options = ['Zuerich', 'Bern', 'Luzern'],\n",
    "    value = 'Bern',\n",
    "    rows  = 5,\n",
    "    layout = {'width': '95%' },\n",
    ")\n",
    "\n",
    "textbox.on_submit(add_option)\n",
    "selection.observe(lambda change:print_to_out('Selected City: {}'.format(change.new)), \n",
    "                  names = 'value'\n",
    "                 )\n",
    "\n",
    "vbox = widgets.VBox(children = [textbox, selection])\n",
    "hbox_layout = {'width': '80%', 'height': '200px'}\n",
    "hbox = widgets.HBox(children = [vbox, out], layout=hbox_layout)\n",
    "display(hbox)"
   ]
  },
  {
   "cell_type": "code",
   "execution_count": null,
   "id": "1138d603-a2f7-4523-b668-e24d92423942",
   "metadata": {},
   "outputs": [],
   "source": []
  }
 ],
 "metadata": {
  "kernelspec": {
   "display_name": "Python 3 (ipykernel)",
   "language": "python",
   "name": "python3"
  },
  "language_info": {
   "codemirror_mode": {
    "name": "ipython",
    "version": 3
   },
   "file_extension": ".py",
   "mimetype": "text/x-python",
   "name": "python",
   "nbconvert_exporter": "python",
   "pygments_lexer": "ipython3",
   "version": "3.9.10"
  }
 },
 "nbformat": 4,
 "nbformat_minor": 5
}
