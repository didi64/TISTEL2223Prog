{
 "cells": [
  {
   "cell_type": "markdown",
   "id": "9b84a4f6-6578-4faf-9cf3-159d8b0dfd55",
   "metadata": {},
   "source": [
    "### Das Output-Widget\n",
    "[Weitere Beispiele aus der offiziellen Dokumentation](https://ipywidgets.readthedocs.io/en/latest/examples/Output%20Widget.html)  "
   ]
  },
  {
   "cell_type": "code",
   "execution_count": 1,
   "id": "22a1201d-745f-463e-8a2a-410605c08f60",
   "metadata": {},
   "outputs": [],
   "source": [
    "import ipywidgets as widgets"
   ]
  },
  {
   "cell_type": "markdown",
   "id": "a9fbaa1d-b98d-42f6-8793-de102c5d4e36",
   "metadata": {},
   "source": [
    "***\n",
    "**Output-Widgets erzeugen**\n",
    "***\n"
   ]
  },
  {
   "cell_type": "code",
   "execution_count": null,
   "id": "d68af0a2-e686-4587-be14-1db1bf57c79c",
   "metadata": {},
   "outputs": [],
   "source": [
    "out_layout ={'width': '100%', \n",
    "             'height': '100px', \n",
    "             'border': '2px solid black',\n",
    "             'overflow': 'scroll',\n",
    "            }\n",
    "                           \n",
    "out = widgets.Output(layout = out_layout)\n",
    "display(out)"
   ]
  },
  {
   "cell_type": "markdown",
   "id": "b705b931-cc98-4e95-b56f-bcaa87b318b1",
   "metadata": {},
   "source": [
    "***\n",
    "**Ausgaben in Output-Widgets umleiten**  \n",
    "Insbesondere k&ouml;nnen  Callbacks ihre Ausgabe in das Output-Widget umleiten.    \n",
    "Die Ausgabe erscheint im Output-Widget statt in der Log Console.\n",
    "***"
   ]
  },
  {
   "cell_type": "code",
   "execution_count": null,
   "id": "6c92abcf-524b-4905-a811-579781bbef65",
   "metadata": {},
   "outputs": [],
   "source": [
    "with out:\n",
    "    print('Hallo')    "
   ]
  },
  {
   "cell_type": "markdown",
   "id": "79304159-ba87-4f6f-986a-77f3dbc07267",
   "metadata": {},
   "source": [
    "***\n",
    "**Inhalt des Output-Widgets l&ouml;schen**\n",
    "***"
   ]
  },
  {
   "cell_type": "code",
   "execution_count": null,
   "id": "6b773f07-a6b2-4ab5-8dc5-84c4535f9a13",
   "metadata": {},
   "outputs": [],
   "source": [
    "out.clear_output()"
   ]
  },
  {
   "cell_type": "markdown",
   "id": "b11e7bd4-9b3d-49fb-ab8e-1d5b50976464",
   "metadata": {},
   "source": [
    "***\n",
    "**Callback schreibt in Output-Widget**\n",
    "***"
   ]
  },
  {
   "cell_type": "code",
   "execution_count": null,
   "id": "f54bbd81-1b32-4c2a-a9c4-348410de2a65",
   "metadata": {},
   "outputs": [],
   "source": [
    "def print_to_out(*args, **kwargs):\n",
    "    out.clear_output()\n",
    "    with out:\n",
    "        print(*args, **kwargs)"
   ]
  },
  {
   "cell_type": "code",
   "execution_count": null,
   "id": "849e16b8-b3e8-4c95-b6d1-bc09eedc10f1",
   "metadata": {},
   "outputs": [],
   "source": [
    "textbox = widgets.Text(placeholder = 'Type something', value = '')\n",
    "textbox.on_submit(print_to_out)\n",
    "\n",
    "button = widgets.Button(description = 'Clear Output',\n",
    "                        layout = {'border' : '2px solid red'}\n",
    "                       )\n",
    "          \n",
    "button.on_click(lambda bt:out.clear_output())\n",
    "display(textbox, button, out)"
   ]
  },
  {
   "cell_type": "markdown",
   "id": "09977665-0d04-402f-a0d3-0e43624922e2",
   "metadata": {},
   "source": [
    "### Output-Widget mit Printer\n",
    "\n",
    "Sehr oft ist es n&uuml;tzlich, ein Output-Widget sowie eine\n",
    "Funktion zu haben, die ins Output-Widget schreibt.  \n",
    "In der n&auml;chsten Zelle programmieren wir eine Funktion `out_with_printer`, \n",
    "die ein solches Paar zur&uuml;ck gibt.  \n",
    "\n",
    "Mittels\n",
    "```python\n",
    "from toolbox import out_with_printer\n",
    "```\n",
    "kann diese Funktion importiert werden."
   ]
  },
  {
   "cell_type": "code",
   "execution_count": null,
   "id": "4e486a5f-41e0-4a37-89bc-4e620efc51c6",
   "metadata": {},
   "outputs": [],
   "source": [
    "from ipywidgets import Output\n",
    "def out_with_printer(clear_output = True):\n",
    "    '''returns an Output-Widget and a function print_to_out\n",
    "       that behaves as print but prints to the Output-Widget\n",
    "    \n",
    "       clear_output: if False, Output-Widget is NOT cleared before printing to it\n",
    "    '''\n",
    "    out = Output(layout = {'border': '1px solid black'})\n",
    "    def printer(*args, **kwargs):\n",
    "        if clear_output:\n",
    "            out.clear_output()\n",
    "        with out:\n",
    "            print(*args, **kwargs)\n",
    "            \n",
    "    return out, printer"
   ]
  },
  {
   "cell_type": "code",
   "execution_count": null,
   "id": "7c309201-80a0-4643-871c-262bcbef0dcc",
   "metadata": {},
   "outputs": [],
   "source": [
    "out, print_to_out = out_with_printer()\n",
    "display(out)"
   ]
  },
  {
   "cell_type": "code",
   "execution_count": null,
   "id": "97e55d53-b8d6-45d0-b1d1-36ee140548f5",
   "metadata": {},
   "outputs": [],
   "source": [
    "print_to_out('test')"
   ]
  },
  {
   "cell_type": "code",
   "execution_count": null,
   "id": "a2d37e4e-5b4d-4082-a10e-3c4bd910fde6",
   "metadata": {},
   "outputs": [],
   "source": [
    "out.clear_output()"
   ]
  },
  {
   "cell_type": "code",
   "execution_count": null,
   "id": "b472d666-adcc-47c8-a29f-0eb25355432c",
   "metadata": {},
   "outputs": [],
   "source": [
    "from toolbox import out_with_printer as owp"
   ]
  },
  {
   "cell_type": "code",
   "execution_count": null,
   "id": "854d5dbe-b925-4fdf-a11b-309b46c5ec2e",
   "metadata": {},
   "outputs": [],
   "source": [
    "o, p = owp()\n",
    "display(o)"
   ]
  },
  {
   "cell_type": "code",
   "execution_count": null,
   "id": "99eb9334-83c4-441b-aa82-6b9160892260",
   "metadata": {},
   "outputs": [],
   "source": [
    "p('test')"
   ]
  }
 ],
 "metadata": {
  "kernelspec": {
   "display_name": "Python 3 (ipykernel)",
   "language": "python",
   "name": "python3"
  },
  "language_info": {
   "codemirror_mode": {
    "name": "ipython",
    "version": 3
   },
   "file_extension": ".py",
   "mimetype": "text/x-python",
   "name": "python",
   "nbconvert_exporter": "python",
   "pygments_lexer": "ipython3",
   "version": "3.9.10"
  }
 },
 "nbformat": 4,
 "nbformat_minor": 5
}
