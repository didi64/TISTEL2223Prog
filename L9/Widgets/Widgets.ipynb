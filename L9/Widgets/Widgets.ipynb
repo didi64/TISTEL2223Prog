{
 "cells": [
  {
   "cell_type": "markdown",
   "id": "133aa2ad-ce42-447e-8c02-0c1c6f500566",
   "metadata": {},
   "source": [
    "### Erster Blick auf Widgets\n",
    "Ein [Widget](https://de.wikipedia.org/wiki/Widget) ist eine Komponente eines grafischen Fenstersystems. Das Widget besteht zum einen aus dem Fenster, einem sichtbaren Bereich, der Maus- und/oder Tastaturereignisse empfängt.\n",
    "\n",
    "Widgets erlauben das Registrieren von Funktionen (**Callbacks**), die beim Eintreffen bestimmter Ereignisse (**Events**) aufgerufen werden.\n",
    "\n",
    "Die Widgets f&uuml;r Jupyterlab sind [hier](https://ipywidgets.readthedocs.io/en/latest/examples/Widget%20List.html) dokumentiert.\n",
    "Konsultiere auch das [Notebook](./Some_widgets.ipynb).\n",
    "\n",
    "\n",
    "\n",
    "**Bemerkung**:\n",
    "Mit `print` gemachte Ausgaben im Widget-Callbacks werden oft  in die\n",
    "Log Console umgeleitet (oder manchmal unterdr&uuml;ckt). Um diese anzuzeigen,\n",
    "klicke mit der rechten Maustaste in eine Zelle und dann **'Show Log Console'**, falls nicht bereits markiert. Widget-Callbacks **sollten** Ausgaben in ein Output-Widget schreiben, siehe [Output-Widget](./)"
   ]
  },
  {
   "cell_type": "code",
   "execution_count": null,
   "id": "5dd1c87b-4351-42b2-ab94-71fb7691c0bd",
   "metadata": {},
   "outputs": [],
   "source": [
    "import ipywidgets as widgets"
   ]
  },
  {
   "cell_type": "markdown",
   "id": "4cced482-02c7-4ba0-b635-5a531523f7ce",
   "metadata": {},
   "source": [
    "***\n",
    "**Textbox Widget**  \n",
    "Das Textbox-Widget dient zum Einlesen eines kurzen Textes.\n",
    "***"
   ]
  },
  {
   "cell_type": "code",
   "execution_count": null,
   "id": "46a930c8-01d2-4021-b480-80d6825aa4df",
   "metadata": {
    "tags": []
   },
   "outputs": [],
   "source": [
    "# Funktion, die wird dann dem Textbox-Widget als Callback fuer den Fall eines Submit-Events\n",
    "# (Enter dr&ucken im Textfeld) uebergeben.\n",
    "\n",
    "def print_to_log(tb):\n",
    "    '''gibt das uebergebene Textbox-Objekt aus,\n",
    "       sowie das Attribute 'value' des Textbox-Objekts\n",
    "    '''   \n",
    "    print(tb)\n",
    "    print(tb.value)\n",
    "    \n",
    "    # Text im Textbox-Widget loeschen\n",
    "    tb.value = ''"
   ]
  },
  {
   "cell_type": "code",
   "execution_count": null,
   "id": "b0c7aaec-0246-4268-9bdf-7adb783b79fb",
   "metadata": {},
   "outputs": [],
   "source": [
    "textbox = widgets.Text(value = '',\n",
    "                       placeholder = 'Tippe Etwas',\n",
    "                      )\n",
    "textbox.on_submit(lambda tb:print(tb.value))\n",
    "#textbox.on_submit(print_to_log)\n",
    "#textbox.on_submit(print)\n",
    "display(textbox)"
   ]
  },
  {
   "cell_type": "code",
   "execution_count": null,
   "id": "68ddc108-5c50-44b5-83aa-b49d7faaa427",
   "metadata": {},
   "outputs": [],
   "source": [
    "textbox.value"
   ]
  },
  {
   "cell_type": "markdown",
   "id": "2f48045b-c6f4-472e-8f82-a06a8540e435",
   "metadata": {},
   "source": [
    "***\n",
    "**Select-Widget**\n",
    "Das Select-Widget hilft eine Auswahl zu treffen.  \n",
    "Von mehreren Optionen kann eine ausgew&auml;hlt werden.  \n",
    "***"
   ]
  },
  {
   "cell_type": "code",
   "execution_count": null,
   "id": "2743c0b7-1332-4291-970c-9b80b74503d4",
   "metadata": {},
   "outputs": [],
   "source": [
    "options = ['Zuerich', 'Bern', 'Luzern']\n",
    "selection = widgets.Select(options = options, value = 'Bern', rows  = 5)\n",
    "selection.observe(lambda change: print(change.new), names = 'value')\n",
    "display(selection)"
   ]
  },
  {
   "cell_type": "code",
   "execution_count": null,
   "id": "3cd3ac4e-c0a3-4d45-a37f-3ad3a241a98a",
   "metadata": {},
   "outputs": [],
   "source": [
    "selection.value"
   ]
  },
  {
   "cell_type": "markdown",
   "id": "ce640dfd-24e2-44ac-a222-ba4bd2564e5c",
   "metadata": {},
   "source": [
    "***\n",
    "**Autocompletion mit Textbox und Selection**  \n",
    "Wenn Text in die Textbox getippt wird,\n",
    "dann suchen wir in der Liste `cities` nach\n",
    "St&auml;dten, die mit dem eingegebenen Text beginnen, \n",
    "sortieren diese und schlagen die ersten 5 zur Auswahl vor.\n",
    "***"
   ]
  },
  {
   "cell_type": "code",
   "execution_count": null,
   "id": "976f9554-1f6e-4a48-8588-123cdb370eac",
   "metadata": {},
   "outputs": [],
   "source": [
    "def get_candidates(prefix, n=5):\n",
    "    '''gib die ersten n Staedte die mit prefix beginnen \n",
    "       als Liste zurueck\n",
    "    '''    \n",
    "    candidates = [name for name in cities if name.startswith(prefix.capitalize())]\n",
    "    candidates.sort()\n",
    "    return candidates[:n]\n",
    "\n",
    "def on_submit(change):\n",
    "    # unregister callback on_select\n",
    "    # to not trigger the callback when changing the value to None\n",
    "    selection.unobserve(on_select, names = 'value')\n",
    "    \n",
    "    selection.value = None\n",
    "    selection.options = get_candidates(textbox.value)\n",
    "    # register callback again\n",
    "    selection.observe(on_select, names = 'value')\n",
    "\n",
    "# als Funktion, nicht als lambda-Ausdruck. Wollen Callback unregistrieren koennen\n",
    "def on_select(change):\n",
    "    print(change.new)"
   ]
  },
  {
   "cell_type": "code",
   "execution_count": null,
   "id": "ea4f2ab9-d327-4021-9c63-5221a1d00e62",
   "metadata": {},
   "outputs": [],
   "source": [
    "import pickle\n",
    "\n",
    "# Staedteliste laden\n",
    "with open('cities.pkl', mode ='rb') as f:\n",
    "    cities = list(pickle.load(f))\n",
    "\n",
    "# Text- und Selection-Widget erstellen\n",
    "textbox   = widgets.Text(value = '', placeholder = 'Enter a City')\n",
    "selection = widgets.Select(options = cities, \n",
    "                            value   = None, \n",
    "                            rows    = 5,\n",
    "                           )\n",
    "\n",
    "# Callbacks registrieren\n",
    "textbox.observe(on_submit, names = 'value')\n",
    "selection.observe(on_select, names = 'value')\n",
    "\n",
    "# Widgets anzeigen\n",
    "display(textbox, selection)"
   ]
  },
  {
   "cell_type": "code",
   "execution_count": null,
   "id": "fb06ad3f-bff2-47d9-808f-5865c130e22d",
   "metadata": {},
   "outputs": [],
   "source": [
    "selection.value\n"
   ]
  },
  {
   "cell_type": "code",
   "execution_count": null,
   "id": "2762b13d-b59d-4f84-b8c2-abbc25cee689",
   "metadata": {},
   "outputs": [],
   "source": []
  }
 ],
 "metadata": {
  "kernelspec": {
   "display_name": "Python 3 (ipykernel)",
   "language": "python",
   "name": "python3"
  },
  "language_info": {
   "codemirror_mode": {
    "name": "ipython",
    "version": 3
   },
   "file_extension": ".py",
   "mimetype": "text/x-python",
   "name": "python",
   "nbconvert_exporter": "python",
   "pygments_lexer": "ipython3",
   "version": "3.9.10"
  }
 },
 "nbformat": 4,
 "nbformat_minor": 5
}
