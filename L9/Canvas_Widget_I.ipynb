{
 "cells": [
  {
   "cell_type": "markdown",
   "id": "01efa5e5-5252-4777-a391-98395da1954e",
   "metadata": {},
   "source": [
    "### Das Canvas-Widget\n",
    "[Offizielle Dokumentation zum Canvas-Widget](https://ipycanvas.readthedocs.io/en/latest/)  \n",
    "Ein Canvas-Objekt wird z.B. mit  \n",
    "`canvas = Canvas(width = 200, height=200)` erzeugt und mit  \n",
    "`display(canvas)` dargestellt.  \n",
    "Das Objekt `canvas` hat die Attribute  **`stroke_style`**, **`fill_style`** und **`line_width`**,\n",
    "welche festlegen, mit welcher Farbe gezeichnet bew. gef&uuml;llt wird;\n",
    "`line_width` legt die Linienbreite fest.\n",
    "<br>\n",
    "Einige Methoden:  \n",
    "- `canvas.stroke_lines(<list of tuples (x,y)>)`\n",
    "- `canvas.stroke_cirle(x, y, radius)`\n",
    "- `canvas.stroke_polygon(<list of tuples (x,y)>)`  \n",
    "  Ist der letzte Punkt verschieden von ersten, wird das Polygon automatisch geschlossen\n",
    "- `canvas.stroke_rect(<upperleft_x>, <upper_left_y>, width, height)`  \n",
    "\n",
    "Wird bei den letzten 3 Methoden `stroke` durch `fill` ersetzt, wird\n",
    "die Figure ausgef&uuml;llt.\n",
    "- `canvas.clear()`  \n",
    "  Zeichnungen auf Canvas werden gel&ouml;scht\n",
    "- `canvas.clear_rect(<upperleft_x>, <upper_left_y>, width, height)`  \n",
    "  Rechteck wird von Canvas gel&ouml;scht"
   ]
  },
  {
   "cell_type": "code",
   "execution_count": 1,
   "id": "a75bf74b-8dc4-4f09-870a-c133af2000f5",
   "metadata": {},
   "outputs": [],
   "source": [
    "from ipycanvas import Canvas"
   ]
  },
  {
   "cell_type": "code",
   "execution_count": null,
   "id": "1c42c273-0855-48e7-8416-1d0566ed19fd",
   "metadata": {},
   "outputs": [
    {
     "data": {
      "application/vnd.jupyter.widget-view+json": {
       "model_id": "d8945c7146da47f48b78294cbc3d6ff4",
       "version_major": 2,
       "version_minor": 0
      },
      "text/plain": [
       "Canvas(height=200, width=200)"
      ]
     },
     "metadata": {},
     "output_type": "display_data"
    }
   ],
   "source": [
    "canvas = Canvas(width=200, height=200, \n",
    "                layout = {'border' : '2px solid black'}\n",
    "               )\n",
    "display(canvas)"
   ]
  },
  {
   "cell_type": "code",
   "execution_count": 3,
   "id": "89e0be70-912a-4879-bb8a-1a0d497b8f63",
   "metadata": {},
   "outputs": [
    {
     "data": {
      "text/plain": [
       "'black'"
      ]
     },
     "execution_count": 3,
     "metadata": {},
     "output_type": "execute_result"
    }
   ],
   "source": [
    "canvas.stroke_style"
   ]
  },
  {
   "cell_type": "code",
   "execution_count": 5,
   "id": "c0281f13-c3f6-4d6b-84b3-c6d2ffc8d0b7",
   "metadata": {},
   "outputs": [],
   "source": [
    "canvas.stroke_style = 'blue'\n",
    "canvas.line_width = 5\n",
    "canvas.stroke_circle(150, 150, radius = 20)"
   ]
  },
  {
   "cell_type": "code",
   "execution_count": 6,
   "id": "389562d6-8ba6-498b-90fe-d86723015f13",
   "metadata": {},
   "outputs": [],
   "source": [
    "canvas.fill_style = 'red'\n",
    "canvas.fill_circle(100, 100, 30)\n",
    "canvas.fill_style = 'orange'\n",
    "canvas.fill_polygon([(0, 100), (0, 200), (100, 100)])"
   ]
  },
  {
   "cell_type": "code",
   "execution_count": 7,
   "id": "3dfaf94d-9f76-46a1-80b8-b17be5460191",
   "metadata": {},
   "outputs": [],
   "source": [
    "canvas.stroke_style = 'blue'\n",
    "canvas.line_width = 10\n",
    "canvas.stroke_rect(0, 0, canvas.width, canvas.height)\n",
    "canvas.stroke_lines([(0, 0), (200, 200)])"
   ]
  },
  {
   "cell_type": "code",
   "execution_count": 8,
   "id": "4286af12-68f0-45c6-8373-ab15f494a3d5",
   "metadata": {},
   "outputs": [],
   "source": [
    "canvas.clear_rect(90, 100, 30, 20)"
   ]
  },
  {
   "cell_type": "code",
   "execution_count": 9,
   "id": "478de100-6f75-43b0-ad4c-7c25d30a373a",
   "metadata": {},
   "outputs": [],
   "source": [
    "canvas.clear()"
   ]
  },
  {
   "cell_type": "code",
   "execution_count": 15,
   "id": "8a7555a0-2ce7-4df1-b8d4-b37ccdc0649a",
   "metadata": {},
   "outputs": [
    {
     "data": {
      "text/plain": [
       "'  1234'"
      ]
     },
     "execution_count": 15,
     "metadata": {},
     "output_type": "execute_result"
    }
   ],
   "source": [
    "'{{:{}d}}'.format(6).format(1234)"
   ]
  },
  {
   "cell_type": "code",
   "execution_count": 18,
   "id": "343d2219-c446-4edb-b396-adaddf91d513",
   "metadata": {},
   "outputs": [
    {
     "data": {
      "text/plain": [
       "' 34.56'"
      ]
     },
     "execution_count": 18,
     "metadata": {},
     "output_type": "execute_result"
    }
   ],
   "source": [
    "'{{:{}.{}f}}'.format(6,2).format(34.56)"
   ]
  },
  {
   "cell_type": "code",
   "execution_count": null,
   "id": "8c60e777-f4ad-4448-8ac5-dd17a28e048b",
   "metadata": {},
   "outputs": [],
   "source": []
  }
 ],
 "metadata": {
  "kernelspec": {
   "display_name": "Python 3 (ipykernel)",
   "language": "python",
   "name": "python3"
  },
  "language_info": {
   "codemirror_mode": {
    "name": "ipython",
    "version": 3
   },
   "file_extension": ".py",
   "mimetype": "text/x-python",
   "name": "python",
   "nbconvert_exporter": "python",
   "pygments_lexer": "ipython3",
   "version": "3.9.10"
  }
 },
 "nbformat": 4,
 "nbformat_minor": 5
}
