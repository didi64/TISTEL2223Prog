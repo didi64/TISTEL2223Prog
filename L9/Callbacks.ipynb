{
 "cells": [
  {
   "cell_type": "markdown",
   "id": "24346f47-b586-4875-8677-f774db2402f3",
   "metadata": {},
   "source": [
    "### Callbacks / Event-Handlers\n",
    " \n",
    "- In Python sind **Funktionen** wie man sagt **first class citizens**. Funktionen sind Objekte wie alle anderen und k&ouml;nnen u.a. Variabeln zugewiesen werden oder (anderen) Funktionen als Argumente &uuml;bergeben werden.  \n",
    "\n",
    "- Eine Funktion, welche einer anderen Funktion als Argument &uuml;bergeben wird, wird **Callback** genannt.\n",
    "Oft wird diese Funktion beim Eintreffen eines sog. **Events** \n",
    "(Tastendruck, Mausklick, Mausklick auf Button, Ausw&auml;hlen einer Option in einem Menu,...) aufgerufen und dann auch **Event-Handler** genannt.  \n",
    "\n",
    "- Das Sicherstellen, dass der Callback \n",
    "zu einem sp&auml;teren Zeitpunkt z.B. von einem Button-Objekt aufgerufen wird, nennt sich auch **Registrierung des Callbacks**."
   ]
  },
  {
   "cell_type": "markdown",
   "id": "75e3f98c-b7c2-49c7-984a-c5cab340742c",
   "metadata": {},
   "source": [
    "***\n",
    "**Ein erstes Beispiel**\n",
    "***"
   ]
  },
  {
   "cell_type": "code",
   "execution_count": null,
   "id": "4bd718d1-5869-4e77-815d-abe986787de0",
   "metadata": {},
   "outputs": [],
   "source": [
    "def str2list(s, f):\n",
    "    '''trenne den String s beim ',' -> Liste\n",
    "       wende f auf Listenelemente an\n",
    "    '''   \n",
    "    lst = s.split(',')\n",
    "    return [f(x) for x in lst]\n",
    "\n",
    "# wird als Callback verwendet\n",
    "def double(x):\n",
    "    return x + x"
   ]
  },
  {
   "cell_type": "code",
   "execution_count": null,
   "id": "0b73879f-0c90-4ead-97bf-aa6a561a287c",
   "metadata": {},
   "outputs": [],
   "source": [
    "s = '1,2,3,4,5'\n",
    "str2list(s, double)"
   ]
  },
  {
   "cell_type": "markdown",
   "id": "e827de2c-b86f-4b6b-ba31-6f8ec297d960",
   "metadata": {},
   "source": [
    "***\n",
    "Anstelle einer Funktion kann auch ein Objekt `obj` f&uuml;r welches\n",
    "`obj(x)` syntaktisch korrekter Code ist (ein **Callable**) &uuml;bergeben werden.\n",
    "***"
   ]
  },
  {
   "cell_type": "code",
   "execution_count": null,
   "id": "74da037c-45c6-405a-89f6-c726330d4126",
   "metadata": {},
   "outputs": [],
   "source": [
    "s = '1,2,3,4,5'\n",
    "str2list(s, int)\n",
    "# str2list(s, list)"
   ]
  },
  {
   "cell_type": "markdown",
   "id": "f9acacab-8381-4d82-8a74-7f4be59c9fcd",
   "metadata": {},
   "source": [
    "### Ein Dictionary mit Callbacks\n",
    "Wir wollen Elemente einer Liste bearbeiten.\n",
    "Je nach Typ des Listenelements soll etwas mit dem Element gemacht werden.  \n",
    "\n",
    "Wir benutzen einen Dictionary `callbacks`. \n",
    "F&uuml;r einen Typ (z.b. `int`) ist\n",
    "`callbacks[int]` z.B. eine **Liste** mit Funktionen, welche\n",
    "der Reihe nach zum Modifizieren der Listenelemente dieses Typs verwendet werden sollen.\n",
    "Z.B. Integers sollen zuerst quadriert und dann in einen String umgewandelt werden."
   ]
  },
  {
   "cell_type": "code",
   "execution_count": null,
   "id": "507df3b5-345c-4e16-953e-218e2e551e4d",
   "metadata": {},
   "outputs": [],
   "source": [
    "def pick_and_apply_callbacks(item, callbacks):\n",
    "    '''wende die Funktionen in callbacks[type(item)] \n",
    "       der Reihe nach auf item an\n",
    "       \n",
    "       gibt item unveraendert zurueck falls type(item) kein Key im dict callbacks ist\n",
    "    '''\n",
    "    funs = callbacks.get(type(item), [])\n",
    "    for fun in funs:\n",
    "        item = fun(item)\n",
    "    return item  \n",
    "\n",
    "def process_list(lst, callbacks):\n",
    "    '''modifiziere die Elemente der Liste lst\n",
    "       mit den Funktionen im dict callbacks \n",
    "    '''\n",
    "    return [pick_and_apply_callbacks(item, callbacks) for item in lst]\n",
    "\n",
    "def square(x):\n",
    "    return x**2"
   ]
  },
  {
   "cell_type": "code",
   "execution_count": null,
   "id": "a762ca5e-071b-4775-b7e3-3cf03b998b63",
   "metadata": {},
   "outputs": [],
   "source": [
    "lst = [1, 2, 3, 'foo', 'bar']\n",
    "callbacks = {int: [square, double], \n",
    "             str: [double],\n",
    "            }\n",
    "process_list(lst, callbacks)"
   ]
  },
  {
   "cell_type": "code",
   "execution_count": null,
   "id": "10fef282-c825-4c1c-ab31-100851c2d0b8",
   "metadata": {},
   "outputs": [],
   "source": []
  }
 ],
 "metadata": {
  "kernelspec": {
   "display_name": "Python 3 (ipykernel)",
   "language": "python",
   "name": "python3"
  },
  "language_info": {
   "codemirror_mode": {
    "name": "ipython",
    "version": 3
   },
   "file_extension": ".py",
   "mimetype": "text/x-python",
   "name": "python",
   "nbconvert_exporter": "python",
   "pygments_lexer": "ipython3",
   "version": "3.9.10"
  }
 },
 "nbformat": 4,
 "nbformat_minor": 5
}
