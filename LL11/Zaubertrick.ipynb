{
 "cells": [
  {
   "cell_type": "markdown",
   "id": "e786221e-e56b-448f-b0da-ce70615b59e6",
   "metadata": {
    "tags": []
   },
   "source": [
    "### Zaubertrick\n",
    "Denke dir eine Zahl von 0 bis und mit 63.\n",
    "Dir werden dann Karten mit Zahlen gezeigt, und du wirst sechs Mal gefragt, ob deine Zahl auf der Karte zu sehen ist. Dann wird deine Zahl genannt.  \n",
    "\n",
    "**Erkl&auml;rung**:  \n",
    "Die erste Zahl auf den sechs Karten ist jeweils  \n",
    "\n",
    "$$ 1= 2^0, 2=2^1, 4= 2^2, 8=2^3, 16 = 2^4 \\text{ und } 32 = 3^5.$$  \n",
    "\n",
    "Jede Zahl von 0 bis 63 kann in der Form  \n",
    "\n",
    "$$0bz_5z_4z_3z_2z_1z_0 \\text{ mit } z_i \\text{ gleich 0 oder 1}$$ \n",
    "\n",
    "geschrieben werden, z.B. `11 = 0b001011`.\n",
    "Genau dann wenn z_i gleich 1 ist wird die Zahl auf der (i+1)-ten Karte gef&uuml;hrt (z.B.\n",
    "11 auf den Karten 1,2 und 4), und die Zahl ist die Summe der jeweils ersten Zahl auf diesen Karten."
   ]
  },
  {
   "cell_type": "code",
   "execution_count": 3,
   "id": "996b251f-3d9e-477e-ac14-8515c56d2728",
   "metadata": {},
   "outputs": [],
   "source": [
    "import ipywidgets as widgets\n",
    "from toolbox import out_with_printer "
   ]
  },
  {
   "cell_type": "code",
   "execution_count": 4,
   "id": "ba5b3633-242b-46fb-9f32-66fd436f5d70",
   "metadata": {},
   "outputs": [],
   "source": [
    "def card2str(card):\n",
    "    fs = '\\n'.join(['{:3d}'*n for n in (6, 6, 6, 6, 6, 2)])\n",
    "    return fs.format(*card)\n",
    "\n",
    "def zaubertrick(state, answer = False, new_game = False):\n",
    "    cards = [[n for n in range(64) if 1 << i & n] for i in range(6)]\n",
    "    N = len(cards)\n",
    "    \n",
    "    if not new_game and state['round'] > N:\n",
    "        print_to_out('Klicke \"Neues Spiel\"')\n",
    "        return\n",
    "    \n",
    "    if new_game:\n",
    "        state['round'] = 0\n",
    "        state['number'] = 0    \n",
    "    \n",
    "    delta = answer * cards[state['round'] - 1][0]\n",
    "    state['number'] += delta\n",
    "    \n",
    "    if state['round'] == N:\n",
    "        print_to_out('Deine Zahl ist', state['number'])  \n",
    "    else:\n",
    "        print_to_out('Ist deine Zahl zu sehen?\\n'\\\n",
    "                     + card2str(cards[state['round']]))\n",
    "        \n",
    "    state['round'] += 1"
   ]
  },
  {
   "cell_type": "code",
   "execution_count": null,
   "id": "5ebdb757-ffcb-4f6f-bc01-a2f064bbf236",
   "metadata": {},
   "outputs": [],
   "source": []
  },
  {
   "cell_type": "code",
   "execution_count": 5,
   "id": "482e03f2-e180-436e-86f9-1b553f0a7120",
   "metadata": {},
   "outputs": [
    {
     "data": {
      "application/vnd.jupyter.widget-view+json": {
       "model_id": "fc95b1a5645e4b56a7f7be245d55ce68",
       "version_major": 2,
       "version_minor": 0
      },
      "text/plain": [
       "Output(layout=Layout(border='1px solid black', height='150px', width='200px'))"
      ]
     },
     "metadata": {},
     "output_type": "display_data"
    },
    {
     "data": {
      "application/vnd.jupyter.widget-view+json": {
       "model_id": "f1e932208d08472ba4bc53b2b9dd96da",
       "version_major": 2,
       "version_minor": 0
      },
      "text/plain": [
       "Button(description='Neues Spiel', style=ButtonStyle())"
      ]
     },
     "metadata": {},
     "output_type": "display_data"
    },
    {
     "data": {
      "application/vnd.jupyter.widget-view+json": {
       "model_id": "6ff5639de128400d957a012fb47ee283",
       "version_major": 2,
       "version_minor": 0
      },
      "text/plain": [
       "Button(description='JA', style=ButtonStyle())"
      ]
     },
     "metadata": {},
     "output_type": "display_data"
    },
    {
     "data": {
      "application/vnd.jupyter.widget-view+json": {
       "model_id": "dbb6360c102541659ee8253fc5d6bd89",
       "version_major": 2,
       "version_minor": 0
      },
      "text/plain": [
       "Button(description='NEIN', style=ButtonStyle())"
      ]
     },
     "metadata": {},
     "output_type": "display_data"
    }
   ],
   "source": [
    "#Spielzustand\n",
    "state = {'round': 6, 'number': 0}\n",
    "\n",
    "# Output-Widget und printer\n",
    "out, print_to_out = out_with_printer()\n",
    "out.layout.width = '200px'\n",
    "out.layout.height = '150px'\n",
    "\n",
    "# Buttons\n",
    "new_game = widgets.Button(description = 'Neues Spiel')\n",
    "yes = widgets.Button(description = 'JA')\n",
    "no  = widgets.Button(description = 'NEIN')\n",
    "\n",
    "# Callbacks registrieren\n",
    "new_game.on_click(lambda bt:zaubertrick(state, new_game=True))\n",
    "yes.on_click(lambda bt:zaubertrick(state, answer = True))\n",
    "no.on_click(lambda bt:zaubertrick(state, answer = False))\n",
    "\n",
    "# Widgets anzeigen\n",
    "display(out, new_game, yes, no)"
   ]
  },
  {
   "cell_type": "code",
   "execution_count": null,
   "id": "34d83d35-b85c-4f1f-b95b-82b7be8d3ee0",
   "metadata": {},
   "outputs": [],
   "source": []
  },
  {
   "cell_type": "code",
   "execution_count": null,
   "id": "f70af53d-7988-4985-8f20-e8a3e9e45daf",
   "metadata": {},
   "outputs": [],
   "source": []
  },
  {
   "cell_type": "code",
   "execution_count": null,
   "id": "b6328996-92b6-4820-b6f1-312e6cffef3f",
   "metadata": {},
   "outputs": [],
   "source": []
  }
 ],
 "metadata": {
  "kernelspec": {
   "display_name": "Python 3 (ipykernel)",
   "language": "python",
   "name": "python3"
  },
  "language_info": {
   "codemirror_mode": {
    "name": "ipython",
    "version": 3
   },
   "file_extension": ".py",
   "mimetype": "text/x-python",
   "name": "python",
   "nbconvert_exporter": "python",
   "pygments_lexer": "ipython3",
   "version": "3.9.10"
  }
 },
 "nbformat": 4,
 "nbformat_minor": 5
}
