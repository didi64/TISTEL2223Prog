{
 "cells": [
  {
   "cell_type": "markdown",
   "id": "fdf43469-1235-45c7-a3d4-a6fe8f97cedd",
   "metadata": {},
   "source": [
    "### Die Funktion `table2str`\n",
    "Die Funktion hat die Argumente `header` und\n",
    "`data_rows`. `header` ist ein Tuple von Strings mit den\n",
    "Spaltentiteln, `data_rows` eine Liste mit Tupeln von Strings,\n",
    "den Spalteneintr&auml;gen der Tabellenzeilen.\n",
    "\n",
    "```python\n",
    "header    =  ('Vorname', 'Nachname', 'Email')\n",
    "data_rows = [('Anna', 'Meier', 'Anna.Meier@foo.ch'), \n",
    "             ('Hans', 'Mustermann', 'Hans.Mustermann@foo.ch'),\n",
    "            ] \n",
    "\n",
    "s = table2str(header, data_rows)\n",
    "print(s)\n",
    "```  \n",
    "\n",
    "Output:\n",
    "```\n",
    "|Vorname|Nachname  |Email                 |\n",
    "|=======|==========|======================|\n",
    "|Anna   |Meier     |Anna.Meier@foo.ch     |\n",
    "|Hans   |Mustermann|Hans.Mustermann@foo.ch|\n",
    "```"
   ]
  },
  {
   "cell_type": "code",
   "execution_count": 3,
   "id": "44543eda-6797-4702-9cc4-f54860956ac2",
   "metadata": {},
   "outputs": [],
   "source": [
    "def get_widths(header, data_rows):\n",
    "    '''gibt tuple mit den maximalen Spaltenbreiten \n",
    "       von header und data_rows zurueck\n",
    "    '''   \n",
    "    widths = [] \n",
    "    for row in header:\n",
    "        width = len(row)\n",
    "        widths.append(width)\n",
    "\n",
    "    for row in data_rows:\n",
    "        for i, item in enumerate(row):\n",
    "            new_width = max(widths[i], len(item))\n",
    "            widths[i] = new_width\n",
    "\n",
    "    return widths    \n",
    "\n",
    "def tuple2table_str(tp, widths):   \n",
    "    '''gib das tuple tp als Tabellenzeile aus \n",
    "    \n",
    "       widths: Tuple mit Spaltenbreiten\n",
    "    '''\n",
    "    \n",
    "    cols = []\n",
    "    for item, width in zip(tp, widths):\n",
    "        s = item.ljust(width)\n",
    "        cols.append(s)\n",
    "\n",
    "    s = '|'\n",
    "    for col in cols:\n",
    "        s = s + col + '|'\n",
    "    return s\n",
    "\n",
    "def table2str(header, data_rows):    \n",
    "    '''Gib header und data_rows in Tabellenform aus\n",
    "    \n",
    "       header: Tuple mit Spaltennamen\n",
    "       data_rows: Liste von Tupeln mit Spalteneintraegen \n",
    "    '''\n",
    "    \n",
    "    col_widths = get_widths(header, data_rows)\n",
    "\n",
    "    hline = []\n",
    "    for width in col_widths:\n",
    "        hline.append('=' * width)\n",
    "        \n",
    "    rows = [header] + [hline] + data_rows\n",
    " \n",
    "    lines = []\n",
    "    for row in rows:\n",
    "        line = tuple2table_str(row, col_widths)\n",
    "        lines.append(line)\n",
    "        \n",
    "    return '\\n'.join(lines)    "
   ]
  },
  {
   "cell_type": "code",
   "execution_count": 4,
   "id": "2032468e-c8b6-4239-9806-61802af50e75",
   "metadata": {},
   "outputs": [
    {
     "name": "stdout",
     "output_type": "stream",
     "text": [
      "|Vorname|Nachname  |Email                 |\n",
      "|=======|==========|======================|\n",
      "|Anna   |Meier     |Anna.Meier@foo.ch     |\n",
      "|Hans   |Mustermann|Hans.Mustermann@foo.ch|\n"
     ]
    }
   ],
   "source": [
    "header = ('Vorname', 'Nachname', 'Email')\n",
    "data_rows = [('Anna',  'Meier', 'Anna.Meier@foo.ch'), \n",
    "             ('Hans', 'Mustermann', 'Hans.Mustermann@foo.ch'),\n",
    "            ] \n",
    "\n",
    "\n",
    "s = table2str(header, data_rows)\n",
    "print(s)"
   ]
  },
  {
   "cell_type": "code",
   "execution_count": null,
   "id": "ceaeef33-fe5c-4a80-a28d-1110cec5c09f",
   "metadata": {},
   "outputs": [],
   "source": []
  }
 ],
 "metadata": {
  "kernelspec": {
   "display_name": "Python 3 (ipykernel)",
   "language": "python",
   "name": "python3"
  },
  "language_info": {
   "codemirror_mode": {
    "name": "ipython",
    "version": 3
   },
   "file_extension": ".py",
   "mimetype": "text/x-python",
   "name": "python",
   "nbconvert_exporter": "python",
   "pygments_lexer": "ipython3",
   "version": "3.9.10"
  }
 },
 "nbformat": 4,
 "nbformat_minor": 5
}
