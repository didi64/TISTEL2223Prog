{
 "cells": [
  {
   "cell_type": "markdown",
   "id": "e2cc67cc-c8a4-4701-9ba6-1e73807f106b",
   "metadata": {},
   "source": [
    "### Aufgaben 1\n",
    "While-Schlaufen, Funktionen, Indexnotation (`s[i]`), \n",
    "Slicenotation (`s[:i], s[i:], s[::-1]`).  \n",
    "L&ouml;sungen k&ouml;nnen bald mit `update Loesungen_Exercises_L6.ipynb` bez. `update Loesungen_Exercises_L6_all.ipynb`  (in Jupyterlab Terminal) geholt werden.\n",
    "\n",
    "F&uuml;hre nachstehende Zelle aus um Links zu relevanten Notebooks zu generieren."
   ]
  },
  {
   "cell_type": "code",
   "execution_count": 2,
   "id": "f58bdcd8-9585-4fcd-be2b-7cda68b1d92c",
   "metadata": {
    "tags": []
   },
   "outputs": [
    {
     "data": {
      "text/markdown": [
       "- [While-Schlaufen](../../TISTEL2223Prog/L3/For_und_While_Loops.ipynb)\n",
       "- [Funktionen](../../TISTEL2223Prog//L3/Funktionen_I.ipynb)\n",
       "- [Index- und Slicenotation](../../TISTEL2223Prog/L4/Indexing_und_Slicing.ipynb)"
      ],
      "text/plain": [
       "<IPython.core.display.Markdown object>"
      ]
     },
     "execution_count": 2,
     "metadata": {},
     "output_type": "execute_result"
    }
   ],
   "source": [
    "import hacks\n",
    "from IPython.display import Markdown\n",
    "notebooks = [('While-Schlaufen', 'L3/For_und_While_Loops.ipynb'), \n",
    "             ('Funktionen', '/L3/Funktionen_I.ipynb'),\n",
    "             ('Index- und Slicenotation', 'L4/Indexing_und_Slicing.ipynb'),\n",
    "            ]\n",
    "Markdown('\\n'.join(hacks.notebook_links(notebooks)))"
   ]
  },
  {
   "cell_type": "markdown",
   "id": "c52eb842-94c6-464f-855d-0bb3efb384e3",
   "metadata": {},
   "source": [
    "1. Benutze eine While-Schleife um zu z&auml;hlen, mit \n",
    "wievielen 'a's der String `'aaabca'` beginnt (3).\n",
    "2. Schreibe eine Funktion `count_leading_chars(s, ch)`, die angibt,  wie oft das Zeichen `ch` am Anfang von `s` steht. Z.B. `count_leading_chars('aaabca', 'a')` gibt `3`.\n",
    "3. Schreibe eine Funktion `count_trailing_chars(s, ch)`, die angibt,\n",
    "wie oft das Zeichen `ch` am Schluss von `s` steht.\n",
    "Z.B. `f('acbaaa', 'a')` gibt `3`.\n",
    "4. Mit wievielen Nullen endet die Zahl $11^{1000}-1$? (`11**1000 -1` als Pythonausdruck)  \n",
    "   **Hint**: Python kann mit beliebig grossen Integern rechnen. \n",
    "5. Sei `s = 'foofoofoobar'`.\n",
    "Benutze Slicenotation, um einen Anfangsabschnitt von  `s` der L&auml;nge 3 zu erstellen. Erzeuge ebenfalls das zugeh&ouml;rige Endst&uuml;ck. \n",
    "6. Schreibe eine Funktion `count_leading_substrings(s, word)`, die angibt, mit wievielen Kopien von `word`  der String von `s` beginnt. Z.B. `count_leading_substrings('foofoofoobar', 'foo')` ist `3`. "
   ]
  },
  {
   "cell_type": "markdown",
   "id": "6c332233-f011-4b24-b3df-a6bcffac488a",
   "metadata": {},
   "source": [
    "### Aufgaben 2\n",
    "For-Schleifen,\n",
    "Listen, Listcomprehension,\n",
    "`list.append`, `str.split`, `str.join`, `str.ljust`, `max`.\n",
    "\n",
    "F&uuml;hre nachstehende Zelle aus um Links zu relevanten Notebooks zu generieren."
   ]
  },
  {
   "cell_type": "code",
   "execution_count": 3,
   "id": "2f770254-d8d0-4c09-816a-a19034d92883",
   "metadata": {},
   "outputs": [
    {
     "data": {
      "text/markdown": [
       "- [Listcomprehension](../../TISTEL2223Prog/L5/Listcomprehension.ipynb)\n",
       "- [Die Stringmethoden join, split und strip](../../TISTEL2223Prog/L4/join_split_strip.ipynb)"
      ],
      "text/plain": [
       "<IPython.core.display.Markdown object>"
      ]
     },
     "execution_count": 3,
     "metadata": {},
     "output_type": "execute_result"
    }
   ],
   "source": [
    "notebooks = [('Listcomprehension', 'L5/Listcomprehension.ipynb'),\n",
    "             ('Die Stringmethoden join, split und strip', 'L4/join_split_strip.ipynb'),\n",
    "            ]  \n",
    "Markdown('\\n'.join(hacks.notebook_links(notebooks)))"
   ]
  },
  {
   "cell_type": "markdown",
   "id": "0340e331-9ff2-4919-b3f9-17727fdce535",
   "metadata": {
    "jp-MarkdownHeadingCollapsed": true,
    "tags": []
   },
   "source": [
    "1. Sei `words = ['foo', 'bar', 'baz']`. Gib von jedem Wort den 2. Buchstaben aus, trenne mit Buchstaben \n",
    "mit `' '` (`o a a`).\n",
    "\n",
    "2. Sei `s = 'foo bar baz'`.\n",
    "Schreibe eine Funktion `ith_letters(s, i)`, so dass\n",
    "`ith_letters(s, 0)` `'f b b'` ausgibt, \n",
    "`ith_letters(s, 1)` `'o a a'`, u.s.w.\n",
    "\n",
    "3. Benutze `ith_letters(s, i)` um `'foo bar baz'` in der Form  \n",
    "```python\n",
    "f b b \n",
    "o a a \n",
    "o r z\n",
    "```\n",
    "  auszugeben.\n",
    "4. Schreibe eine Funktion `print_vertically(s)`, welche einen String\n",
    "mit durch `' '` getrennter, gleichlanger W&ouml;rter wie oben vertikal ausgibt.\n",
    "5. Schreibe eine Funktion `max_len(words)`, welche die L&auml;nge des l&auml;ngsten Worts in der Liste `words` zur&uuml;ck gibt.\n",
    "6. Schreibe eine Funktion `make_same_length(words)`, welche \n",
    "die W&ouml;rter in der Liste `words` alle zu gleichlangen Strings macht durch anh&auml;ngen von Leerzeichen (benutze dazu `str.ljust`). Modifiziere die Funktion, so dass sie als 2. Wert noch die L&auml;nge der W&ouml;rter zur&uuml;ck gibt.\n",
    "7. Modifiziere nun die Funktion `print_vertically(s)`, so dass \n",
    "sie auch f&uuml;r  W&ouml;rter unterschiedlicher L&auml;nge das gew&uuml;nschte Resultat produziert."
   ]
  }
 ],
 "metadata": {
  "kernelspec": {
   "display_name": "Python 3 (ipykernel)",
   "language": "python",
   "name": "python3"
  },
  "language_info": {
   "codemirror_mode": {
    "name": "ipython",
    "version": 3
   },
   "file_extension": ".py",
   "mimetype": "text/x-python",
   "name": "python",
   "nbconvert_exporter": "python",
   "pygments_lexer": "ipython3",
   "version": "3.9.10"
  }
 },
 "nbformat": 4,
 "nbformat_minor": 5
}
