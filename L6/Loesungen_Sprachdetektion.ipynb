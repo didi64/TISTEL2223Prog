{
 "cells": [
  {
   "cell_type": "markdown",
   "id": "39f0173f-1ec1-4cbd-9846-67b6f6f2d006",
   "metadata": {},
   "source": [
    "### L&ouml;sungen Aufgaben Sprachdetektion"
   ]
  },
  {
   "cell_type": "markdown",
   "id": "d67ae0a4-fd13-4281-91e4-947ec36e73ed",
   "metadata": {},
   "source": [
    "***\n",
    "Nur Buchstaben z&auml;hlen\n",
    "***"
   ]
  },
  {
   "cell_type": "code",
   "execution_count": null,
   "id": "f2e1e36b-d5c1-4e87-83a5-7cfcbe0dcc0e",
   "metadata": {},
   "outputs": [],
   "source": [
    "LETTERS = 'ABCDEFGHIJKLMNOPQRSTUVWXYZ'"
   ]
  },
  {
   "cell_type": "code",
   "execution_count": null,
   "id": "c2a75f63-e0f8-4c58-978f-5890f5b29d58",
   "metadata": {},
   "outputs": [],
   "source": [
    "def count_letters(text):\n",
    "    d = {}\n",
    "    for ch in text.upper():\n",
    "        # zaehle nur Buchstaben\n",
    "        if ch in LETTERS:\n",
    "            d[ch] = d.get(ch, 0) + 1\n",
    "            \n",
    "    return d    "
   ]
  },
  {
   "cell_type": "code",
   "execution_count": null,
   "id": "2ce1e99b-281e-44ab-9c3d-9756a9389b0f",
   "metadata": {},
   "outputs": [],
   "source": [
    "text = '\"große, grüne Wiese?\"'\n",
    "print(text.upper())\n",
    "count_letters(text)"
   ]
  },
  {
   "cell_type": "markdown",
   "id": "9c0c656a-8657-42c0-831b-a732cdc6aa4e",
   "metadata": {},
   "source": [
    "***\n",
    "Umlaute ersetzen\n",
    "***"
   ]
  },
  {
   "cell_type": "code",
   "execution_count": 28,
   "id": "77e29516-4eb2-47a6-ae6e-e5769f8f5f3e",
   "metadata": {},
   "outputs": [],
   "source": [
    "def replace(text, substitutions):\n",
    "    '''Nimm im text nacheinander die in substitutions beschriebenen Ersetzungen vor\n",
    "       und gib den neuen String zurueck\n",
    "    \n",
    "       substitutions: dict der Form {alt: neu,...}\n",
    "    '''\n",
    "    for k, v in substitutions.items():\n",
    "        text = text.replace(k, v)\n",
    "    return text"
   ]
  },
  {
   "cell_type": "code",
   "execution_count": 32,
   "id": "5b1bcc46-644c-4b42-b7aa-ff8c61b4464d",
   "metadata": {},
   "outputs": [
    {
     "data": {
      "text/plain": [
       "'AE, OE, UE'"
      ]
     },
     "execution_count": 32,
     "metadata": {},
     "output_type": "execute_result"
    }
   ],
   "source": [
    "SUBSTITUTIONS = {'Ä': 'AE', 'Ö': 'OE', 'Ü': 'UE'}\n",
    "text = 'Ä, Ö, Ü'\n",
    "replace(text, SUBSTITUTIONS)"
   ]
  },
  {
   "cell_type": "markdown",
   "id": "bac18217-0640-4e60-9aeb-8edac1d64c43",
   "metadata": {},
   "source": [
    "***\n",
    "Von Anzahl Vorkommen zu relativen H&auml;ufigkeiten\n",
    "***"
   ]
  },
  {
   "cell_type": "code",
   "execution_count": null,
   "id": "3ad3f6bc-d8ee-41aa-ace2-7d3553adb69e",
   "metadata": {},
   "outputs": [],
   "source": [
    "def normalize(d):\n",
    "    ''' gib einen  a neuen dict zurueck mit den relativen Haeufigkeiten der Keys'''\n",
    "    new_dict = {}\n",
    "    total = sum(d.values())\n",
    "    for key in d:\n",
    "        d[key] = d[key] / total\n",
    "    return new_dict"
   ]
  },
  {
   "cell_type": "code",
   "execution_count": null,
   "id": "0f741eaf-579c-4bca-8fad-84f6641594de",
   "metadata": {},
   "outputs": [],
   "source": [
    "s = 'abcabaccc' \n",
    "letter_count = count_letters(s)\n",
    "letter_frequency = normalize(letter_count)\n",
    "\n",
    "print('letter_count:', letter_count)\n",
    "print('letter_freq:', letter_frequency)\n",
    "print('Summe der letter_frequency.values():', sum(letter_frequency.values()))"
   ]
  }
 ],
 "metadata": {
  "kernelspec": {
   "display_name": "Python 3 (ipykernel)",
   "language": "python",
   "name": "python3"
  },
  "language_info": {
   "codemirror_mode": {
    "name": "ipython",
    "version": 3
   },
   "file_extension": ".py",
   "mimetype": "text/x-python",
   "name": "python",
   "nbconvert_exporter": "python",
   "pygments_lexer": "ipython3",
   "version": "3.9.10"
  }
 },
 "nbformat": 4,
 "nbformat_minor": 5
}
