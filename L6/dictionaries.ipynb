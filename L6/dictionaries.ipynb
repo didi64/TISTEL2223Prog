{
 "cells": [
  {
   "cell_type": "markdown",
   "id": "0e7a0fca-44a6-4adf-ad58-b8a0c0006bfc",
   "metadata": {},
   "source": [
    "# Dictionaries\n",
    "Eine __Zuordnungstabelle__ oder **assoziierte Liste**, auf Englisch ein __Dictionary__, ist eine der wichtigsten und n&uuml;tzlichsten Datenstrukturen &uuml;berhaupt.\n",
    "- Dictionaires sind **mutable** und **iterable**\n",
    "- Dictionaries enthalten sog. Key-Value (Schl&uuml;ssel-Wert)  Paare:    \n",
    "  jedes **immutable** Objekt ist ein g&uuml;ltiger Key,  \n",
    "  **jedes** Objekt ist ein g&uuml;ltiger Value\n",
    "- Derselbe `Key` kann **nur einmal** im Dictionary vorkommen \n",
    "- Seit der Version 3.8 sind Dictionaries geordnet:\n",
    "  Die Schl&uuml;ssel bleiben immer in der Reihenfolge, in welcher sie in den Dictionary eingef&uuml;gt wurden\n",
    "- Ein dictionary `d` wird z.B. so kreiert:  \n",
    "  `d = {key1: value1, key2:, value2, ...}`, z.B.\n",
    "\n",
    "```python\n",
    "d = {'example': 'Beispiel', # Komma obligatorisch, Zeilenumbruch optional\n",
    "     'house':   'Haus',     \n",
    "     'three':   'drei',     # Komma optional\n",
    "    }\n",
    "```\n",
    "- **`k in d`** ist `True` falls k ein key des Dictionary ```d``` ist, sonst `False`\n",
    "- Falls ```k``` ein Key des Dictionary ```d``` ist, liefert ```d[k]``` den zugeh&ouml;rigen Wert,  \n",
    "andernfalls `KeyError`  \n",
    "- **`d[k] = val`** f&uuml;gt das key-value Paar `(k, val)` zum dict `d` hinzu.  \n",
    "  Ein ev. bereits vorhandenes key-value Paar `(k, val1)` wird &uuml;berschreiben.\n",
    "- Ist `k in d`, so l&ouml;scht **`del d[k]`** den key `k` mit zugeh&ouml;rigem Wert aus `d`."
   ]
  },
  {
   "cell_type": "markdown",
   "id": "fe2aef6a-c20c-46f4-b2f2-5335aae20e54",
   "metadata": {},
   "source": [
    "### Beispiel:"
   ]
  },
  {
   "cell_type": "code",
   "execution_count": 2,
   "id": "bfe4841e-4967-4500-a7ca-d84276abdce2",
   "metadata": {},
   "outputs": [
    {
     "data": {
      "text/plain": [
       "'drei'"
      ]
     },
     "execution_count": 2,
     "metadata": {},
     "output_type": "execute_result"
    }
   ],
   "source": [
    "d1 = {'example': 'Beispiel', # Komme obligatorisch!\n",
    "     'house': 'Haus',        # Komme obligatorisch!\n",
    "     'three': 'drei',        # Komma obtional\n",
    "    }\n",
    "\n",
    "d1['three'] "
   ]
  },
  {
   "cell_type": "code",
   "execution_count": 3,
   "id": "70ccadc8-c54a-4d5b-b397-8c9108928d0d",
   "metadata": {},
   "outputs": [
    {
     "data": {
      "text/plain": [
       "{'example': 'Beispiel', 'house': 'Haus', 'three': 'drei', 'cat': 'Katze'}"
      ]
     },
     "execution_count": 3,
     "metadata": {},
     "output_type": "execute_result"
    }
   ],
   "source": [
    "d1['cat'] = 'Katze'\n",
    "d1"
   ]
  },
  {
   "cell_type": "code",
   "execution_count": 4,
   "id": "cea118ba-82e7-4ae0-960e-06baec60013c",
   "metadata": {},
   "outputs": [
    {
     "data": {
      "text/plain": [
       "{'example': 'Beispiel', 'house': 'Haus', 'three': 'drei'}"
      ]
     },
     "execution_count": 4,
     "metadata": {},
     "output_type": "execute_result"
    }
   ],
   "source": [
    "del d1['cat'] \n",
    "d1"
   ]
  },
  {
   "cell_type": "code",
   "execution_count": 5,
   "id": "2d15f399-a270-4369-a8e9-c19f20e1a469",
   "metadata": {},
   "outputs": [
    {
     "ename": "KeyError",
     "evalue": "'cat'",
     "output_type": "error",
     "traceback": [
      "\u001b[0;31m---------------------------------------------------------------------------\u001b[0m",
      "\u001b[0;31mKeyError\u001b[0m                                  Traceback (most recent call last)",
      "Input \u001b[0;32mIn [5]\u001b[0m, in \u001b[0;36m<cell line: 1>\u001b[0;34m()\u001b[0m\n\u001b[0;32m----> 1\u001b[0m \u001b[43md1\u001b[49m\u001b[43m[\u001b[49m\u001b[38;5;124;43m'\u001b[39;49m\u001b[38;5;124;43mcat\u001b[39;49m\u001b[38;5;124;43m'\u001b[39;49m\u001b[43m]\u001b[49m\n",
      "\u001b[0;31mKeyError\u001b[0m: 'cat'"
     ]
    }
   ],
   "source": [
    "d1['cat']"
   ]
  },
  {
   "cell_type": "markdown",
   "id": "ad1e3d90-88eb-4e91-b6be-0a5b496ed26a",
   "metadata": {},
   "source": [
    "### Dictionary erstellen mit `dict(zip(keys, vals))`"
   ]
  },
  {
   "cell_type": "code",
   "execution_count": 6,
   "id": "d9a6b24b-2f5d-4c8d-92e9-a91bb82c66ca",
   "metadata": {},
   "outputs": [
    {
     "name": "stdout",
     "output_type": "stream",
     "text": [
      "['example', 'house', 'three']\n",
      "['Beispiel', 'Haus', 'drei']\n"
     ]
    },
    {
     "data": {
      "text/plain": [
       "True"
      ]
     },
     "execution_count": 6,
     "metadata": {},
     "output_type": "execute_result"
    }
   ],
   "source": [
    "keys = list(d1.keys())   # keys als Liste\n",
    "vals = list(d1.values()) # values als Liste\n",
    "print(keys)\n",
    "print(vals)\n",
    "\n",
    "d2 =  dict(zip(keys ,vals))\n",
    "\n",
    "d1 == d2 # True falls beide dicts die gleichen key-value Paare enthalten"
   ]
  },
  {
   "cell_type": "markdown",
   "id": "5c43414f-5102-4497-9adb-384bf2924117",
   "metadata": {},
   "source": [
    "### Iterieren &uuml;ber eine Dictionary `d`\n",
    "- Iterieren &uuml;ber **`keys`**: `for key in d:` **oder**   \n",
    "  `for key in d.keys():`\n",
    "- Iterieren &uuml;ber **`values`**: `for val in d.values():`\n",
    "- Iterieren &uuml;ber **key-value Paare**: `for k,v in d.items():`"
   ]
  },
  {
   "cell_type": "code",
   "execution_count": 7,
   "id": "25ecc5d2-b68c-4c1e-8671-76c23bab4107",
   "metadata": {},
   "outputs": [
    {
     "name": "stdout",
     "output_type": "stream",
     "text": [
      "example, house, three, "
     ]
    }
   ],
   "source": [
    "for key in d1.keys():\n",
    "   print(key, end = ', ')"
   ]
  },
  {
   "cell_type": "code",
   "execution_count": 8,
   "id": "f9bff2c8-f9fd-4dab-ab91-8979852b405a",
   "metadata": {},
   "outputs": [
    {
     "name": "stdout",
     "output_type": "stream",
     "text": [
      "example, house, three, "
     ]
    }
   ],
   "source": [
    "for key in d1:\n",
    "   print(key, end = ', ')"
   ]
  },
  {
   "cell_type": "code",
   "execution_count": 9,
   "id": "e58a5657-8ef8-41c1-b981-3285f7eef685",
   "metadata": {},
   "outputs": [
    {
     "name": "stdout",
     "output_type": "stream",
     "text": [
      "Beispiel\n",
      "Haus\n",
      "drei\n"
     ]
    }
   ],
   "source": [
    "for val in d1.values():\n",
    "    print(val)"
   ]
  },
  {
   "cell_type": "code",
   "execution_count": 11,
   "id": "e2fcc551-e50e-4b08-8b27-adc9564deb4e",
   "metadata": {},
   "outputs": [
    {
     "name": "stdout",
     "output_type": "stream",
     "text": [
      "example --> Beispiel, house --> Haus, three --> drei, "
     ]
    }
   ],
   "source": [
    "for key, val in d1.items():\n",
    "    print(key, '-->', val, end = ', ')"
   ]
  },
  {
   "cell_type": "markdown",
   "id": "47a6b20e-acb0-4391-aa29-a33d01c30c09",
   "metadata": {},
   "source": [
    "### Die Methoden `dict.get` und `dict.setdefault`\n",
    "**Die sichere Art, Key-Werte Paare nachzuschlagen oder zu &auml;ndern** (im Sinne der Errorvermeidung).  \n",
    "Sei `d` ein `dict`.\n",
    "  - `d.get(key, default=None)` liefert den Wert d[key] falls `key in d`, anderfalls `default`  \n",
    "    **`d.get(k)`** erzeugt **keinen Fehler** falls `k not in d`, sondern gibt`None` zur&uuml;ck.  \n",
    "    \n",
    "  - `d.setdefault(key, val)` macht folgendes:\n",
    "    - ist `key in d`, so wird `d[key]` zur&uuml;ckgegeben\n",
    "    - ist `key not in d`, so wird `d[key]=val` ausgef&uuml;hrt und dann  \n",
    "      `d[key]` zur&uuml;ckgegeben (also `val`)  \n",
    "      **`d.setdefault(key, val)`** f&uuml;gt nur neue Key-Wert Paare hinzu, **nie** wird der Wert eines existierenden Keys **&uuml;berschrieben**!\n",
    "      \n",
    "**Bemerkung**:  \n",
    "`setdefault` ist ev. nicht der beste Namen f&uuml;r diese Methode. Beschreibender w&auml;re z.B.\n",
    "`get_or_set_and_get` ."
   ]
  },
  {
   "cell_type": "code",
   "execution_count": 3,
   "id": "07a408cb-0fe8-481c-ad7b-28004cf8bb30",
   "metadata": {},
   "outputs": [
    {
     "name": "stdout",
     "output_type": "stream",
     "text": [
      "None\n"
     ]
    },
    {
     "data": {
      "text/plain": [
       "'Katze'"
      ]
     },
     "execution_count": 3,
     "metadata": {},
     "output_type": "execute_result"
    }
   ],
   "source": [
    "d = {}\n",
    "print(d.get('cat'))\n",
    "d.get('cat', 'Katze')"
   ]
  },
  {
   "cell_type": "code",
   "execution_count": 5,
   "id": "ecc17e0b-fc23-483a-90ff-82e81cc35463",
   "metadata": {},
   "outputs": [
    {
     "name": "stdout",
     "output_type": "stream",
     "text": [
      "Katze\n",
      "Katze\n"
     ]
    }
   ],
   "source": [
    "d = {}\n",
    "# 'cat' nock kein key: setze d['cat'] = 'Katze'\n",
    "# und gib 'Katze' zurueck\n",
    "print(d.setdefault('cat', 'Katze')) \n",
    "\n",
    "# 'cat' bereits key. Gib d['cat'] zurueck.\n",
    "print(d.setdefault('cat', 'Hund'))"
   ]
  },
  {
   "cell_type": "markdown",
   "id": "5a5c712c-d6e1-4c09-8afb-ac08bb211d1c",
   "metadata": {
    "tags": []
   },
   "source": [
    "### Aufgabe: **Zählen** mit einem Dictionary\n",
    "Geben sei ein String `s`.  \n",
    "  1. Erstelle einen Dictionary `d`,\n",
    "dessen Keys die Buchstaben des String sind und die \n",
    "zugeh&ouml;rigen Werte angeben, wie oft der Buchstabe in `s` vorkommt.     \n",
    "Bsp: Ist `s='abcaa'`, so `d = {'a': 3,'b': 1, 'c': 1}`.   \n",
    "Schreibe nun eine Funktion `count_chars(s)`, die\n",
    "einen String als Argument nimmt und eine solchen Dictionary zur&uuml;ck gibt.\n",
    "\n",
    "  2. Erstellen einen  Dictionary `d`, dessen Keys die Buchstaben des String sind und die \n",
    "zugeh&ouml;rigen Werte Listen sind, die angeben, wie an welchen  Positionen der Buchstabe in `s` auftritt.    \n",
    "Bsp: Ist `s='aba'`, so `d = {'a', [0,2], 'b': 1}` \n",
    "get_character_positions(s).\n",
    "Schreibe nun eine Funktion `get_character_positions(s)`, welche eine solchen Dictionary zur&uuml;ck gibt.\n",
    "\n",
    "  3. Die Methode `str.count` gibt an, wie oft ein Teilstring in einem String vorkommt.\n",
    "\n",
    "  \n",
    "L&ouml;se 1. mit `dict.get` und 2. mit `dict.setdefault`.   "
   ]
  },
  {
   "cell_type": "code",
   "execution_count": null,
   "id": "e5ab8d53-8e58-46f6-aad1-882986fcbabd",
   "metadata": {},
   "outputs": [],
   "source": [
    "# Vorkommen der Buchstaben zaehlen\n",
    "s = 'abcabaccc' \n",
    "character_count = {}\n",
    "\n",
    "for ch in s:\n",
    "    # <dein Code>\n",
    "    \n",
    "character_count   "
   ]
  },
  {
   "cell_type": "code",
   "execution_count": null,
   "id": "d9cfa258-4398-46af-85df-c3d7c5743652",
   "metadata": {},
   "outputs": [],
   "source": [
    "# Positionen der Buchstaben ermitteln\n",
    "s = 'abcabaccc' \n",
    "character_positions = {}\n",
    "\n",
    "for i, ch in enumerate(s):\n",
    "    # dein Code\n",
    "    \n",
    "character_positions "
   ]
  }
 ],
 "metadata": {
  "kernelspec": {
   "display_name": "Python 3 (ipykernel)",
   "language": "python",
   "name": "python3"
  },
  "language_info": {
   "codemirror_mode": {
    "name": "ipython",
    "version": 3
   },
   "file_extension": ".py",
   "mimetype": "text/x-python",
   "name": "python",
   "nbconvert_exporter": "python",
   "pygments_lexer": "ipython3",
   "version": "3.9.10"
  }
 },
 "nbformat": 4,
 "nbformat_minor": 5
}
