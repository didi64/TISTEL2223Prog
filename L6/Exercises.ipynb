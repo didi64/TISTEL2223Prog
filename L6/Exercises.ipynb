{
 "cells": [
  {
   "cell_type": "code",
   "execution_count": null,
   "id": "0211f8f7-cd40-4faa-91f3-71879f5f378c",
   "metadata": {},
   "outputs": [],
   "source": []
  },
  {
   "cell_type": "markdown",
   "id": "c52eb842-94c6-464f-855d-0bb3efb384e3",
   "metadata": {},
   "source": [
    "- Schreibe eine Funktion `f(s)`, die angibt, mit wievielen 'a's der String `s` beginnt. Z.B. `f('aaabc')=3`.\n",
    "- Schreibe eine Funktion `f(s)`, die angibt, mit wievielen 'a's der String `s` endet. Z.B. `f('cbaaa')=3`.\n",
    "- Mit wievielen Nullen endet die Zahl $11^{1000}-1$?   \n",
    "  **Hint**: Python kann mit beliebig grossen Integern rechnen. \n",
    "- Schreibe eine Funktion `f(s, word)`, die angibt, mit wievielen Kopien von `word`  der String von `s` beginnt. Z.B. `f('foofoofoobar', 'foo')=3`.  \n",
    "  **Hint**: Sei `s = 'foofoofoobar'`\n",
    "Benutze Slicenotation, um einen Anfansabschnitt von  `s` der L&auml;nge 3 zu erstellen. Erzeuge ebenfalls das zugeh&ouml;rige Endst&uuml;ck.\n",
    "\n"
   ]
  },
  {
   "cell_type": "code",
   "execution_count": null,
   "id": "a683df69-5cd1-42a3-83e7-dc310bcb2526",
   "metadata": {},
   "outputs": [],
   "source": []
  },
  {
   "cell_type": "code",
   "execution_count": 17,
   "id": "2aa7a422-f58f-456e-9503-2f1afd158602",
   "metadata": {},
   "outputs": [],
   "source": [
    "def f(s):\n",
    "    i = 0\n",
    "    while s[i] == 'a':\n",
    "        i = i + 1\n",
    "    return i    "
   ]
  },
  {
   "cell_type": "code",
   "execution_count": 18,
   "id": "e4f30976-2ff2-429f-af63-69aa50277449",
   "metadata": {},
   "outputs": [],
   "source": [
    "def g(s):\n",
    "    i = 1\n",
    "    while s[-i] == 'a':\n",
    "        i = i + 1\n",
    "    return i - 1    "
   ]
  },
  {
   "cell_type": "code",
   "execution_count": 19,
   "id": "06d7d2db-ec0e-42d4-b0be-36f0c0efac2b",
   "metadata": {},
   "outputs": [],
   "source": [
    "def h(s):\n",
    "    return f(s[::-1])"
   ]
  },
  {
   "cell_type": "code",
   "execution_count": 20,
   "id": "db436ef2-8d8a-412f-a131-d3675e25da15",
   "metadata": {},
   "outputs": [
    {
     "data": {
      "text/plain": [
       "2"
      ]
     },
     "execution_count": 20,
     "metadata": {},
     "output_type": "execute_result"
    }
   ],
   "source": [
    "h('bcaa')"
   ]
  },
  {
   "cell_type": "code",
   "execution_count": 27,
   "id": "815a784d-9c8e-4cb2-aef9-f85986d9d808",
   "metadata": {},
   "outputs": [],
   "source": [
    "def f(s, word):\n",
    "    n = len(word)\n",
    "    i = 0\n",
    "    while s[:n] == word:\n",
    "        i = i + 1\n",
    "        s = s[n:]\n",
    "    return i    "
   ]
  },
  {
   "cell_type": "code",
   "execution_count": 30,
   "id": "706b163e-9d4e-4bc9-b952-ecde1d469ace",
   "metadata": {},
   "outputs": [
    {
     "data": {
      "text/plain": [
       "3"
      ]
     },
     "execution_count": 30,
     "metadata": {},
     "output_type": "execute_result"
    }
   ],
   "source": [
    "f(3 * 'foo' + 'bar', 'foo')"
   ]
  },
  {
   "cell_type": "markdown",
   "id": "6b91f9aa-7281-40fd-a144-e4c35deceafc",
   "metadata": {},
   "source": [
    "### more"
   ]
  },
  {
   "cell_type": "code",
   "execution_count": null,
   "id": "ba7312e4-b4f7-4d77-aea5-cc46fc6846e5",
   "metadata": {},
   "outputs": [],
   "source": []
  },
  {
   "cell_type": "code",
   "execution_count": null,
   "id": "6c9dda4b-038e-49ed-8333-8907bc18f827",
   "metadata": {},
   "outputs": [],
   "source": []
  },
  {
   "cell_type": "markdown",
   "id": "0340e331-9ff2-4919-b3f9-17727fdce535",
   "metadata": {},
   "source": [
    "Gib 'foo bar baz' in der Form  \n",
    "```python\n",
    "f b b \n",
    "o a a \n",
    "o r z\n",
    "```\n",
    "aus. Benutze  `'foo bar baz'.split()`"
   ]
  },
  {
   "cell_type": "code",
   "execution_count": 33,
   "id": "86c41576-3f77-4298-8b86-c1367ee92f82",
   "metadata": {},
   "outputs": [
    {
     "data": {
      "text/plain": [
       "'f b b '"
      ]
     },
     "execution_count": 33,
     "metadata": {},
     "output_type": "execute_result"
    }
   ],
   "source": [
    "s = 'foo bar baz'\n",
    "res = ''\n",
    "words = s.split()\n",
    "for word in words:\n",
    "    res = res + word[0] + ' '\n",
    "res    "
   ]
  },
  {
   "cell_type": "code",
   "execution_count": 34,
   "id": "23441e91-8086-4c39-9dcc-03cf642110a3",
   "metadata": {},
   "outputs": [
    {
     "data": {
      "text/plain": [
       "'o a a '"
      ]
     },
     "execution_count": 34,
     "metadata": {},
     "output_type": "execute_result"
    }
   ],
   "source": [
    "s = 'foo bar baz'\n",
    "res = ''\n",
    "words = s.split()\n",
    "for word in words:\n",
    "    res = res + word[1] + ' '\n",
    "res    "
   ]
  },
  {
   "cell_type": "code",
   "execution_count": 38,
   "id": "b939375c-fccc-4e42-a29b-265bfeef2926",
   "metadata": {},
   "outputs": [],
   "source": [
    "def h(words, i):\n",
    "    res = ''\n",
    "    for word in words:\n",
    "        res = res + word[i] + ' '\n",
    "    return res   "
   ]
  },
  {
   "cell_type": "code",
   "execution_count": 46,
   "id": "57f08c25-e1ba-4fbd-9dfb-a79e5817cbc3",
   "metadata": {},
   "outputs": [],
   "source": [
    "def h(words, i):\n",
    "    res = []\n",
    "    for word in words:\n",
    "        res.append(word[i])\n",
    "    return ' '.join(res)  "
   ]
  },
  {
   "cell_type": "code",
   "execution_count": 48,
   "id": "ed13ccb1-9911-4604-8d0d-d74786c7055d",
   "metadata": {},
   "outputs": [
    {
     "name": "stdout",
     "output_type": "stream",
     "text": [
      "f b b\n",
      "o a a\n",
      "o r z\n"
     ]
    }
   ],
   "source": [
    "words = s.split()\n",
    "lines = [h(words,i) for i in range(3)]\n",
    "print('\\n'.join(lines))"
   ]
  },
  {
   "cell_type": "code",
   "execution_count": 45,
   "id": "2ed9e47f-b256-4f4f-b31f-6e7dc85f4c62",
   "metadata": {},
   "outputs": [
    {
     "name": "stdout",
     "output_type": "stream",
     "text": [
      "f o o \n",
      "b a r \n",
      "b a z \n"
     ]
    }
   ],
   "source": [
    "words = s.split()\n",
    "n = len(words[0]) # Annahme: alle Woerter gleich lang\n",
    "\n",
    "lines = []\n",
    "for i in range(len(words)):\n",
    "    row = ''\n",
    "    for j in range(n):\n",
    "        row = row + words[i][j] + ' '\n",
    "    lines.append(row)\n",
    "    \n",
    "print('\\n'.join(lines))"
   ]
  },
  {
   "cell_type": "code",
   "execution_count": null,
   "id": "fd0ada44-3011-43d7-95e6-0ef870a7d4fa",
   "metadata": {},
   "outputs": [],
   "source": [
    "words = s.split()\n",
    "n = len(words[0]) # Annahme: alle Woerter gleich lang\n",
    "\n",
    "lines = []\n",
    "for i in range(len(words)):\n",
    "   \n",
    "    \n",
    "print('\\n'.join(lines))"
   ]
  },
  {
   "cell_type": "code",
   "execution_count": null,
   "id": "0d17f344-c169-43eb-97ad-70521ee7c2e3",
   "metadata": {},
   "outputs": [],
   "source": [
    "def ith_letters(words, i):\n",
    "    res = []\n",
    "    for word in words:\n",
    "        res.append(word[i])\n",
    "    return ' '.join(res)  "
   ]
  },
  {
   "cell_type": "code",
   "execution_count": 55,
   "id": "b2c25971-65ab-4485-979a-98b22bd6925f",
   "metadata": {},
   "outputs": [],
   "source": [
    "def ith_letters(words, i):\n",
    "    return ' '.join([word[i] for word in words])"
   ]
  },
  {
   "cell_type": "code",
   "execution_count": 59,
   "id": "487df22a-70b9-4dfc-b9de-ba142d59f9f5",
   "metadata": {},
   "outputs": [],
   "source": [
    "def ith_letters(words, i):\n",
    "    return ' '.join([word.ljust(i+1)[i] for word in words])"
   ]
  },
  {
   "cell_type": "code",
   "execution_count": 63,
   "id": "ad06a887-c6ff-44c8-8ffd-5484e4a70fb4",
   "metadata": {},
   "outputs": [],
   "source": [
    "def ith_letters(words, i):\n",
    "    return ' '.join([word[i] if i < len(word) else ' '\\\n",
    "                     for word in words\n",
    "                    ]\n",
    "                   )"
   ]
  },
  {
   "cell_type": "code",
   "execution_count": 61,
   "id": "2932bbdf-4299-45ed-8711-a953bee101c1",
   "metadata": {},
   "outputs": [
    {
     "data": {
      "text/plain": [
       "'o   r'"
      ]
     },
     "execution_count": 61,
     "metadata": {},
     "output_type": "execute_result"
    }
   ],
   "source": [
    "ith_letters(['foo', 'ba', 'bzr'], 2)"
   ]
  },
  {
   "cell_type": "code",
   "execution_count": 42,
   "id": "b1229c4b-23dc-4f8e-8461-dee5302cf8d7",
   "metadata": {},
   "outputs": [],
   "source": [
    "def make_same_length(words):\n",
    "    n = max(len(word) for word in words)\n",
    "    return [word.ljust(n) for word in words]"
   ]
  },
  {
   "cell_type": "code",
   "execution_count": null,
   "id": "2780f4a5-737f-4d9c-ba76-1b15a9f36517",
   "metadata": {},
   "outputs": [],
   "source": []
  },
  {
   "cell_type": "code",
   "execution_count": null,
   "id": "f67a9297-49e9-4055-989e-9667c22c1a5f",
   "metadata": {},
   "outputs": [],
   "source": []
  },
  {
   "cell_type": "code",
   "execution_count": 43,
   "id": "f55d4858-cbad-41ba-b7f0-1a663a39e299",
   "metadata": {},
   "outputs": [
    {
     "data": {
      "text/plain": [
       "['a  ', 'bb ', 'ccc']"
      ]
     },
     "execution_count": 43,
     "metadata": {},
     "output_type": "execute_result"
    }
   ],
   "source": [
    "make_same_length(['a', 'bb','ccc'])"
   ]
  },
  {
   "cell_type": "code",
   "execution_count": 51,
   "id": "1700e284-8fc1-4069-8d91-f74486be6b04",
   "metadata": {},
   "outputs": [
    {
     "name": "stdout",
     "output_type": "stream",
     "text": [
      "f b b\n",
      "o a a\n",
      "o r z\n"
     ]
    }
   ],
   "source": [
    "for x,y,z in zip('foo', 'bar', 'baz'):\n",
    "    print(x, y, z)"
   ]
  },
  {
   "cell_type": "code",
   "execution_count": 52,
   "id": "0cebc3b8-d5c3-4c7d-9a89-548779677347",
   "metadata": {},
   "outputs": [
    {
     "name": "stdout",
     "output_type": "stream",
     "text": [
      "f b b\n",
      "o a a\n",
      "o r z\n"
     ]
    }
   ],
   "source": [
    "for tp in zip('foo', 'bar', 'baz'):\n",
    "    print(tp[0], tp[1], tp[2])"
   ]
  },
  {
   "cell_type": "code",
   "execution_count": 53,
   "id": "2a65e33f-0704-44fc-a32c-6e68fd34b858",
   "metadata": {},
   "outputs": [
    {
     "name": "stdout",
     "output_type": "stream",
     "text": [
      "f b b\n",
      "o a a\n",
      "o r z\n"
     ]
    }
   ],
   "source": [
    "for tp in zip('foo', 'bar', 'baz'):\n",
    "    x, y, z = tp\n",
    "    print(x, y, z)"
   ]
  },
  {
   "cell_type": "code",
   "execution_count": 54,
   "id": "d0e2e304-9184-453b-b4d7-33f8258f0981",
   "metadata": {},
   "outputs": [
    {
     "name": "stdout",
     "output_type": "stream",
     "text": [
      "f b b\n",
      "o a a\n",
      "o r z\n"
     ]
    }
   ],
   "source": [
    "for tp in zip('foo', 'bar', 'baz'):\n",
    "    print(*tp)"
   ]
  },
  {
   "cell_type": "code",
   "execution_count": 49,
   "id": "65dcb221-2024-4ea4-8a9e-f702a0fb9ad1",
   "metadata": {},
   "outputs": [],
   "source": [
    "def printer(text):\n",
    "    '''print words vertically'''\n",
    "    words = text.split()\n",
    "    max_len = max(len(word) for word in words)\n",
    "    \n",
    "    words = [word.ljust(max_len) for word in words]\n",
    "    for tp in zip(*words):\n",
    "        print(' '.join(tp))\n"
   ]
  },
  {
   "cell_type": "code",
   "execution_count": 75,
   "id": "30693f7d-b762-4eb9-a3cf-70bf811dcef6",
   "metadata": {},
   "outputs": [],
   "source": [
    "def printer(text):\n",
    "    '''print words vertically'''\n",
    "    words = text.split()\n",
    "    max_len = max(len(word) for word in words)\n",
    "    lines = [ith_letters(words, i) for i in range(max_len)]\n",
    "    print('\\n'.join(lines))                                           "
   ]
  },
  {
   "cell_type": "code",
   "execution_count": 76,
   "id": "671b3eb3-0507-4a3b-b8e8-1759d5d67f91",
   "metadata": {},
   "outputs": [
    {
     "name": "stdout",
     "output_type": "stream",
     "text": [
      "f b b\n",
      "o a a\n",
      "o r z\n",
      "  r  \n"
     ]
    }
   ],
   "source": [
    "printer('foo barr baz')"
   ]
  },
  {
   "cell_type": "code",
   "execution_count": null,
   "id": "20d97f7c-a4e7-4381-a365-9b141ed35f7f",
   "metadata": {},
   "outputs": [],
   "source": [
    "def printer(text):\n",
    "    '''print words vertically'''\n",
    "    words = text.split()\n",
    "    max_len = max(len(word) for word in words)\n",
    "    lines = [ith_letters(words, i) for i in range(max_len)]\n",
    "    print('\\n'.join(lines))        "
   ]
  }
 ],
 "metadata": {
  "kernelspec": {
   "display_name": "Python 3 (ipykernel)",
   "language": "python",
   "name": "python3"
  },
  "language_info": {
   "codemirror_mode": {
    "name": "ipython",
    "version": 3
   },
   "file_extension": ".py",
   "mimetype": "text/x-python",
   "name": "python",
   "nbconvert_exporter": "python",
   "pygments_lexer": "ipython3",
   "version": "3.9.10"
  }
 },
 "nbformat": 4,
 "nbformat_minor": 5
}
