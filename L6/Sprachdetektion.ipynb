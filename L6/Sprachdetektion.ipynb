{
 "cells": [
  {
   "cell_type": "markdown",
   "id": "04466a2f-e127-4695-b15f-73a11434ee44",
   "metadata": {
    "tags": []
   },
   "source": [
    "### Welche Sprache: Deutsch oder Englisch?\n",
    "- Wir bestimmen mit Hilfe eines Dictionaries die relativen H&auml;ufigkeiten der Buchstaben eines Texts.\n",
    "- Dann testen wir, ob diese H&auml;ufigkeiten n&auml;her bei denen der englischen oder deutschen Sprache sind.  \n",
    "(Als Distanzmass verwenden wir die Wurzel der mittleren quadratischen Abweichung,\n",
    "welche die Funktion `distance` im Modul `data.letterfrequencies` berechnet.\n",
    ")\n",
    "- Die relativen H&auml;ufigkeiten der Buchstaben eines deutschen bez. englischen Texts sind in den Dictionaries `letter_frequencies['de']` bez. `letter_frequencies['en']`\n",
    "im Module `data.letterfrequencies` gespeichert.\n",
    "\n",
    "<!--\n",
    "- **Mass f&uuml;r die Distanz zweier Dicts mit Buchstabenh&auml;ufigkeiten**  \n",
    "Die Distanz zwischen 2 Punkten `pt1 = (4,7)` und `pt2 = (1,3)` in der Ebene ist nach Pythagoras $$\\sqrt{(\\texttt{pt1}[0]-\\texttt{pt2}[0])^2 + (\\texttt{pt1}[1]-\\texttt{pt2}[1])^2}=5,$$\n",
    "also\n",
    "$$\\sqrt{(4-1)^2 + (7-3)^2}=5.$$\n",
    "  Die Distanz zwischen 2  H&auml;ufigkeitsdictionaries $d_1$ und $d_2$ mit \n",
    "Keys `[A,...,Z]` ist entsprechend \n",
    "$$\\sqrt{\\Sigma_{k \\in [A,\\ldots,Z]}(d_1[k]-d_2[k])^2}.$$\n",
    "-->\n"
   ]
  },
  {
   "cell_type": "code",
   "execution_count": 1,
   "id": "c10f4ab7-987c-422a-9b7a-7c05d24c4bc6",
   "metadata": {},
   "outputs": [],
   "source": [
    "# importiere Dictionaries mit den Haeufigkeiten der Buchstaben\n",
    "import data.letterfrequencies as lf"
   ]
  },
  {
   "cell_type": "code",
   "execution_count": 28,
   "id": "37be097b-a216-4472-8e73-5a57e321e96c",
   "metadata": {},
   "outputs": [],
   "source": [
    "# oeffne das Modul lf in dieser Zelle\n",
    "# %load $lf.__file__"
   ]
  },
  {
   "cell_type": "code",
   "execution_count": 3,
   "id": "67f22146-47cf-40b6-927a-1533d6eb1672",
   "metadata": {},
   "outputs": [],
   "source": [
    "# help(lf)"
   ]
  },
  {
   "cell_type": "code",
   "execution_count": 3,
   "id": "e148f621-85e9-4f52-a785-818ccf6ba8e5",
   "metadata": {},
   "outputs": [],
   "source": [
    "# lf.letter_frequencies['de']\n",
    "# lf.letter_frequencies['en']"
   ]
  },
  {
   "cell_type": "code",
   "execution_count": 9,
   "id": "7d7927c7-0310-447a-94dc-8ea1b4b32c27",
   "metadata": {
    "tags": []
   },
   "outputs": [],
   "source": [
    "def replace_umlaute(text, substitutions):\n",
    "    '''Nimm im text nacheinander die in substitutions beschriebenen Ersetzungen vor\n",
    "       und gib den neuen String zurueck\n",
    "    \n",
    "       substitutions: dict der Form {alt: neu,...}\n",
    "    '''\n",
    "    for k,v in substitutions.items():\n",
    "        text = text.replace(k, v)\n",
    "    return text\n",
    "\n",
    "def count_letters(text):\n",
    "    '''Wie oft kommt ein Buchstabe (gross oder klein)\n",
    "       in text vor\n",
    "      \n",
    "       gibt dict der Form {'A': 2,...,'Z': 0} zurueck \n",
    "    '''\n",
    "    letters = 'ABCDEFGHIJKLMNOPQRSTUVWXYZ'\n",
    "    d = {}\n",
    "    for ch in text.upper():\n",
    "        # zaehle nur Buchstaben\n",
    "        if ch in letters:\n",
    "            d[ch] = d.get(ch, 0) + 1\n",
    "            \n",
    "    return d    \n",
    "\n",
    "def normalize(d):\n",
    "    ''' gib einen neuen dict zurueck mit den relativen Haeufigkeiten der Keys'''\n",
    "    new_dict = {}\n",
    "    total = sum(d.values())\n",
    "    for k in d:\n",
    "        new_dict[k] = d[k]/total\n",
    "    return new_dict\n",
    "\n",
    "def which_lang(text):\n",
    "    '''returns a pair (<language>, <conficence>)\n",
    "       <language> is 'Deutsch' or 'English'\n",
    "    '''\n",
    "    substitutions = {'Ä': 'AE', 'Ö': 'OE', 'Ü': 'UE'}\n",
    "    text_gross_ohne_umlaute = replace_umlaute(text.upper(), substitutions)\n",
    "    letter_count = count_letters(text_gross_ohne_umlaute)\n",
    "    letter_freq = normalize(letter_count)\n",
    "    \n",
    "    dist_en = lf.distance(letter_freq, 'en')\n",
    "    dist_de = lf.distance(letter_freq, 'de')\n",
    "  \n",
    "    if dist_de <= dist_en:\n",
    "        return 'Deutsch', dist_en/dist_de\n",
    "    else:\n",
    "        return 'Englisch', dist_de/dist_en"
   ]
  },
  {
   "cell_type": "markdown",
   "id": "40df0b5f-5fec-493b-9895-f735498efa96",
   "metadata": {},
   "source": [
    "***\n",
    "Textbeispiel (Peter und der Wolf, von Sergei Prokofiev)\n",
    "***"
   ]
  },
  {
   "cell_type": "code",
   "execution_count": 25,
   "id": "db7645c3-2a9c-42d6-85a2-6fe6ce60740f",
   "metadata": {
    "tags": []
   },
   "outputs": [],
   "source": [
    "# copy paste some text\n",
    "text1 = '''\\\n",
    "Peter und der Wolf\n",
    "\n",
    "Eines Morgens öffnete Peter die Gartentür und \n",
    "trat hinaus auf die große, grüne Wiese. \n",
    "Auf einem Ast eines großen Baumes saß Peters Freund, \n",
    "ein kleiner Vogel. \"Wie still es ist!\" zwitscherte\n",
    "der Vogel voller Fröhlichkeit. \n",
    "Da kam die Ente daher gewatschelt. \n",
    "Sie freute sich, dass Peter die Gartentür offen\n",
    "gelassen hatte und beschloss  in dem tiefen \n",
    "Teich auf der Wiese schwimmen zu gehen. \n",
    "Als der kleine Vogel die Ente sah, flog er hinunter, \n",
    "setzte sich neben sie ins Gras und plusterte \n",
    "sich auf. \n",
    "\"Was bist du für ein Vogel, wenn du nicht fliegen kannst?\" \n",
    "sagte er. Und die Ente erwiderte: \n",
    "\"Was bist du für ein Vogel, wenn du nicht schwimmen kannst?\" \n",
    "und stieg ins Wasser. \n",
    "So stritten sie miteinander; die Ente schwamm auf dem Teich \n",
    "und der kleine Vogel hüpfte an dem Ufer auf und ab.\n",
    "'''\n",
    "\n",
    "text2 = '''\\\n",
    "The Story of Peter and the Wolf\n",
    "\n",
    "Early one morning, Peter opened the gate and\n",
    "walked out into the big green meadow.\n",
    "On a branch of a big tree sat a little\n",
    "bird, Peter's friend. \"All is quiet\"\n",
    "chirped the bird happily.\n",
    "Just then a\n",
    "duck came waddling\n",
    "round. She was glad that\n",
    "Peter had not closed the\n",
    "gate and decided to take a\n",
    "nice swim in the deep\n",
    "pond in the meadow.\n",
    "Seeing the duck, the little bird flew down upon\n",
    "on the grass, settled next to her and shrugged\n",
    "his shoulders. \"What kind of bird are you if\n",
    "you can't fly?\" said he. To this the duck replied\n",
    "\"What kind of bird are you if you can't swim?\"\n",
    "and dived into the pond.\n",
    "They argued and argued, the duck swimming\n",
    "in the pond and the little bird hopping along\n",
    "the shore.\n",
    "'''"
   ]
  },
  {
   "cell_type": "code",
   "execution_count": 26,
   "id": "db8389dc-d933-4469-9dae-2f5814808771",
   "metadata": {
    "tags": []
   },
   "outputs": [],
   "source": [
    "def detect_lang(text):\n",
    "    lang, confidence = which_lang(text)\n",
    "    print('{}, confidence: {:.2f}'\\\n",
    "          .format(lang, confidence)\n",
    "         ) "
   ]
  },
  {
   "cell_type": "code",
   "execution_count": 27,
   "id": "4e799895-abf0-47b5-bf45-6c2956269235",
   "metadata": {
    "tags": []
   },
   "outputs": [
    {
     "name": "stdout",
     "output_type": "stream",
     "text": [
      "Peter und der Wolf\n",
      "Deutsch, confidence: 6.04\n",
      "\n",
      "The Story of Peter and the Wolf\n",
      "Englisch, confidence: 2.99\n",
      "\n"
     ]
    }
   ],
   "source": [
    "for text in [text1, text2]:\n",
    "    print(text[:text.find('\\n')])\n",
    "    detect_lang(text)\n",
    "    print()"
   ]
  }
 ],
 "metadata": {
  "kernelspec": {
   "display_name": "Python 3 (ipykernel)",
   "language": "python",
   "name": "python3"
  },
  "language_info": {
   "codemirror_mode": {
    "name": "ipython",
    "version": 3
   },
   "file_extension": ".py",
   "mimetype": "text/x-python",
   "name": "python",
   "nbconvert_exporter": "python",
   "pygments_lexer": "ipython3",
   "version": "3.9.10"
  }
 },
 "nbformat": 4,
 "nbformat_minor": 5
}
