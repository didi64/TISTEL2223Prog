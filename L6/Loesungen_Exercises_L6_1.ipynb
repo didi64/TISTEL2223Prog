{
 "cells": [
  {
   "cell_type": "markdown",
   "id": "c52eb842-94c6-464f-855d-0bb3efb384e3",
   "metadata": {},
   "source": [
    "### Aufgaben 1\n",
    "While-Schlaufen, Funktionen, Indexnotation (`s[i]`), \n",
    "Slicenotation (`s[:i], s[i:], s[::-1]`)\n",
    "\n",
    "1. Benutze eine While-Schleife um zu z&auml;hlen, mit \n",
    "wievielen 'a's der String `'aaabca'` beginnt (3).\n",
    "2. Schreibe eine Funktion `count_leading_chars(s, ch)`, die angibt,  wie oft das Zeichen `ch` am Anfang von `s` steht. Z.B. `count_leading_chars('aaabca', 'a')` gibt `3`.\n",
    "3. Schreibe eine Funktion `count_trailing_chars(s, ch)`, die angibt,\n",
    "wie oft das Zeichen `ch` am Schluss von `s` steht.\n",
    "Z.B. zur&uuml;ck. `f('acbaaa', 'a')` gibt `3`.\n",
    "4. Mit wievielen Nullen endet die Zahl $11^{1000}-1$? (`11**1000 -1` als Pythonausdruck)     \n",
    "   **Hint**: Python kann mit beliebig grossen Integern rechnen. \n",
    "5. Sei `s = 'foofoofoobar'`.\n",
    "Benutze Slicenotation, um einen Anfansabschnitt von  `s` der L&auml;nge 3 zu erstellen. Erzeuge ebenfalls das zugeh&ouml;rige Endst&uuml;ck. \n",
    "6. Schreibe eine Funktion `count_leading_substrings(s, word)`, die angibt, mit wievielen Kopien von `word`  der String von `s` beginnt. Z.B. `count_leading_substrings('foofoofoobar', 'foo')` ist `3`. "
   ]
  },
  {
   "cell_type": "code",
   "execution_count": null,
   "id": "a683df69-5cd1-42a3-83e7-dc310bcb2526",
   "metadata": {},
   "outputs": [],
   "source": [
    "# 1.\n",
    "s = 'aaabca'\n",
    "i = 0\n",
    "while s[i] == 'a':\n",
    "    i = i + 1\n",
    "i"
   ]
  },
  {
   "cell_type": "code",
   "execution_count": null,
   "id": "2aa7a422-f58f-456e-9503-2f1afd158602",
   "metadata": {},
   "outputs": [],
   "source": [
    "# 2.\n",
    "def count_leading_chars(s, ch):\n",
    "    i = 0\n",
    "    while s[i] == ch:\n",
    "        i = i + 1\n",
    "    return i    "
   ]
  },
  {
   "cell_type": "code",
   "execution_count": null,
   "id": "dbd96a2c-42b2-40a1-9f02-3a31d451eedc",
   "metadata": {},
   "outputs": [],
   "source": [
    "count_leading_chars(s, 'a')"
   ]
  },
  {
   "cell_type": "code",
   "execution_count": null,
   "id": "e4f30976-2ff2-429f-af63-69aa50277449",
   "metadata": {},
   "outputs": [],
   "source": [
    "# 3, Variante I\n",
    "def count_trailing_chars(s, ch):\n",
    "    i = 1\n",
    "    while s[-i] == ch:\n",
    "        i = i + 1\n",
    "    return i - 1    "
   ]
  },
  {
   "cell_type": "code",
   "execution_count": null,
   "id": "ad6c2cec-a79c-4733-8368-6f3182717b85",
   "metadata": {},
   "outputs": [],
   "source": [
    "count_trailing_chars('xyxx', 'x')"
   ]
  },
  {
   "cell_type": "code",
   "execution_count": null,
   "id": "06d7d2db-ec0e-42d4-b0be-36f0c0efac2b",
   "metadata": {},
   "outputs": [],
   "source": [
    "# 3, Variante II\n",
    "def count_trailing_chars(s, ch):\n",
    "    return count_leading_chars(s[::-1], ch)"
   ]
  },
  {
   "cell_type": "code",
   "execution_count": null,
   "id": "580f8d1f-4b2b-4255-8114-392b9376c6d3",
   "metadata": {},
   "outputs": [],
   "source": [
    "count_trailing_chars('xyxx', 'x')"
   ]
  },
  {
   "cell_type": "code",
   "execution_count": null,
   "id": "d8355702-7dfc-48b0-8594-dac1164a6a64",
   "metadata": {},
   "outputs": [],
   "source": [
    "# 4\n",
    "count_trailing_chars(str(11**1000 - 1), '0')"
   ]
  },
  {
   "cell_type": "code",
   "execution_count": null,
   "id": "db436ef2-8d8a-412f-a131-d3675e25da15",
   "metadata": {},
   "outputs": [],
   "source": [
    "# 5\n",
    "s = 'foofoofoobar'\n",
    "\n",
    "head = s[:3]\n",
    "tail = s[3:]\n",
    "print(head, tail)"
   ]
  },
  {
   "cell_type": "code",
   "execution_count": null,
   "id": "815a784d-9c8e-4cb2-aef9-f85986d9d808",
   "metadata": {},
   "outputs": [],
   "source": [
    "# 6\n",
    "def count_leading_substrings(s, word):\n",
    "    n = len(word)\n",
    "    i = 0\n",
    "    while s[:n] == word:\n",
    "        i = i + 1\n",
    "        s = s[n:]\n",
    "    return i    "
   ]
  },
  {
   "cell_type": "code",
   "execution_count": null,
   "id": "706b163e-9d4e-4bc9-b952-ecde1d469ace",
   "metadata": {},
   "outputs": [],
   "source": [
    "head = 'foo'\n",
    "tail = 'bar'\n",
    "s = 3 * head + tail\n",
    "count_leading_substrings(s, head)"
   ]
  },
  {
   "cell_type": "code",
   "execution_count": null,
   "id": "76508d8a-82f5-47e6-a184-4a77bb99df45",
   "metadata": {},
   "outputs": [],
   "source": []
  }
 ],
 "metadata": {
  "kernelspec": {
   "display_name": "Python 3 (ipykernel)",
   "language": "python",
   "name": "python3"
  },
  "language_info": {
   "codemirror_mode": {
    "name": "ipython",
    "version": 3
   },
   "file_extension": ".py",
   "mimetype": "text/x-python",
   "name": "python",
   "nbconvert_exporter": "python",
   "pygments_lexer": "ipython3",
   "version": "3.9.10"
  }
 },
 "nbformat": 4,
 "nbformat_minor": 5
}
