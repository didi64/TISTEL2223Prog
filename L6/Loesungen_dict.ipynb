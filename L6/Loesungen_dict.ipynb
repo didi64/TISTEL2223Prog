{
 "cells": [
  {
   "cell_type": "markdown",
   "id": "5e3b7c54-19ab-43c6-bd83-1fa30dd51201",
   "metadata": {},
   "source": [
    "### L&ouml;sungen Aufgaben Dictionary"
   ]
  },
  {
   "cell_type": "markdown",
   "id": "18813823-d397-4d83-8ef4-7111cfb3c6ea",
   "metadata": {},
   "source": [
    "***\n",
    "Buchstaben z&auml;hlen\n",
    "***"
   ]
  },
  {
   "cell_type": "code",
   "execution_count": null,
   "id": "e2bdc26c-51d0-4239-91ef-74f5f58fdf4a",
   "metadata": {},
   "outputs": [],
   "source": [
    "# Vorkommen der Buchstaben zaehlen\n",
    "s = 'abcabaccc' \n",
    "character_count = {}\n",
    "\n",
    "for ch in s:\n",
    "    if ch not in character_count:\n",
    "        character_count[ch] = 1\n",
    "    else:    \n",
    "        character_count[ch] += 1\n",
    "    \n",
    "character_count   "
   ]
  },
  {
   "cell_type": "code",
   "execution_count": 28,
   "id": "06109782-d2fd-4b7e-b77f-d2c294c8fc20",
   "metadata": {},
   "outputs": [
    {
     "data": {
      "text/plain": [
       "{'a': 3, 'b': 2, 'c': 4}"
      ]
     },
     "execution_count": 28,
     "metadata": {},
     "output_type": "execute_result"
    }
   ],
   "source": [
    "# Mit dict.get\n",
    "s = 'abcabaccc' \n",
    "character_count = {}\n",
    "\n",
    "for ch in s:\n",
    "    character_count[ch] = character_count.get(ch, 0) + 1\n",
    "    \n",
    "character_count   "
   ]
  },
  {
   "cell_type": "code",
   "execution_count": 1,
   "id": "0b691d0d-a879-46bd-8f54-165aa20a4afc",
   "metadata": {},
   "outputs": [],
   "source": [
    "def count_chars(s):\n",
    "    character_count = {}\n",
    "    for ch in s:\n",
    "        character_count[ch] = character_count.get(ch, 0) + 1\n",
    "    \n",
    "    return character_count"
   ]
  },
  {
   "cell_type": "markdown",
   "id": "2d1a81a7-0e2e-4df4-bbe6-a669e7b6ff20",
   "metadata": {},
   "source": [
    "***\n",
    "Positionen der Buchstaben ermitteln\n",
    "***"
   ]
  },
  {
   "cell_type": "code",
   "execution_count": null,
   "id": "b7eb767b-8c78-4d9d-89ef-d9cc5e04a412",
   "metadata": {},
   "outputs": [],
   "source": [
    "s = 'abcabaccc' \n",
    "character_positions = {}\n",
    "\n",
    "for i, ch in enumerate(s):\n",
    "    # ch noch kein key, \n",
    "    if ch not in character_positions:\n",
    "        character_positions[ch] = [i]\n",
    "    # ch bereits key, haenge i an Positionsliste an    \n",
    "    else:\n",
    "        character_positions[ch].append(i)\n",
    "    \n",
    "character_positions "
   ]
  },
  {
   "cell_type": "code",
   "execution_count": 30,
   "id": "653dc09d-f97c-40b8-9214-3d438d620458",
   "metadata": {},
   "outputs": [
    {
     "data": {
      "text/plain": [
       "{'a': [0, 3, 5], 'b': [1, 4], 'c': [2, 6, 7, 8]}"
      ]
     },
     "execution_count": 30,
     "metadata": {},
     "output_type": "execute_result"
    }
   ],
   "source": [
    "# mit dict.setdefault\n",
    "s = 'abcabaccc' \n",
    "character_positions = {}\n",
    "\n",
    "for i, ch in enumerate(s):\n",
    "    character_positions.setdefault(ch, []).append(i)\n",
    "    \n",
    "character_positions "
   ]
  },
  {
   "cell_type": "code",
   "execution_count": 2,
   "id": "f95e7520-f49c-4097-b005-f65d53940354",
   "metadata": {},
   "outputs": [],
   "source": [
    "def get_character_positions(s):\n",
    "    character_positions = {}\n",
    "    for i, ch in enumerate(s):\n",
    "        character_positions.setdefault(ch, []).append(i)\n",
    "    \n",
    "    return character_positions "
   ]
  }
 ],
 "metadata": {
  "kernelspec": {
   "display_name": "Python 3 (ipykernel)",
   "language": "python",
   "name": "python3"
  },
  "language_info": {
   "codemirror_mode": {
    "name": "ipython",
    "version": 3
   },
   "file_extension": ".py",
   "mimetype": "text/x-python",
   "name": "python",
   "nbconvert_exporter": "python",
   "pygments_lexer": "ipython3",
   "version": "3.9.10"
  }
 },
 "nbformat": 4,
 "nbformat_minor": 5
}
