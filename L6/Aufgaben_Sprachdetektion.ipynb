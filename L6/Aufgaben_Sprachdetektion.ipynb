{
 "cells": [
  {
   "cell_type": "markdown",
   "id": "4c712bf2-9ec7-4609-b994-09267c1a9d16",
   "metadata": {},
   "source": [
    "### Aufgaben Sprachdetektion\n",
    "Hier entwickeln wir Teile eines Programms, welches aufgrund der Buchstabenh&auml;ufigkeiten in einem Text dessen Sprache erraten kann.  \n",
    "Wir benutzen die Stringmethoden `str.upper`, `str.lower` und `str.replace`"
   ]
  },
  {
   "cell_type": "code",
   "execution_count": 8,
   "id": "84309614-24fe-47b7-b019-b142909aefa1",
   "metadata": {},
   "outputs": [
    {
     "name": "stdout",
     "output_type": "stream",
     "text": [
      "Help on method_descriptor:\n",
      "\n",
      "upper(self, /)\n",
      "    Return a copy of the string converted to uppercase.\n",
      "\n"
     ]
    }
   ],
   "source": [
    "help(str.upper)\n",
    "# help(str.lower)"
   ]
  },
  {
   "cell_type": "code",
   "execution_count": 5,
   "id": "29d82b97-b4b5-4ea4-8076-2c20380c2df6",
   "metadata": {},
   "outputs": [
    {
     "name": "stdout",
     "output_type": "stream",
     "text": [
      "A, 2, *, SS, Ö, "
     ]
    }
   ],
   "source": [
    "chars = ['a', '2', '*', 'ß', 'ö']\n",
    "for ch in chars:\n",
    "    print(ch.upper(), end = ', ')"
   ]
  },
  {
   "cell_type": "code",
   "execution_count": null,
   "id": "9e4e2a36-f8f6-492b-91af-c5493202f9aa",
   "metadata": {},
   "outputs": [],
   "source": [
    "# help(str.replace)"
   ]
  },
  {
   "cell_type": "code",
   "execution_count": null,
   "id": "4736945b-2068-46f4-a6c5-4e4a27dd8846",
   "metadata": {},
   "outputs": [],
   "source": [
    "# Teilstring ersetzen\n",
    "'für, über'.replace('ü','ue')"
   ]
  },
  {
   "cell_type": "markdown",
   "id": "e2eabbd1-6a84-42d0-818a-91807efe96eb",
   "metadata": {},
   "source": [
    "### 1 ) Z&auml;hlen mit einem Dictionary\n",
    "Gegeben sei ein String.\n",
    "\n",
    "Wir wollen eine Funktion `count_letters(s)`, welche nur Buchstaben z&auml;hlt, und dabei nicht zwischen Gross- und Kleinbuchstaben unterscheidet.  \n",
    "\n",
    "Beispiel: `count_letters('*ab A1')` liefert  `{'A': 2, 'B': 1}`\n",
    "\n",
    "**Hinweis**:\n",
    "Iteriere &uuml;ber die Zeichen im String `s.upper()` und\n",
    "teste, ob das Zeichens im String `LETTERS` enthalten ist.  \n",
    "Falls ja, f&uuml;ge ggf. diesen Grossbuchstaben als Key zum Dictionary hinzu, bez. inkrementiere den zugeh&ouml;rigen Wert."
   ]
  },
  {
   "cell_type": "markdown",
   "id": "368ac32b-674d-4d71-ac56-67c39a134c5d",
   "metadata": {},
   "source": [
    "### 2) Umlaute ersetzen\n",
    "Schreibe eine Funktion `replace(text, substitutions)`, die als Argumente eine String\n",
    "`text` und einen Dictionary `substitutions` nimmt, der Ersetzungen beschreibt, z.B.\n",
    "`{'Ä': 'AE', 'Ö': 'OE', 'Ü': 'UE'}`.\n",
    "Die Funktion nimmt alle diese Ersetzungen vor und gibt das Resultat zur&uuml;ck.  \n",
    "**Hinweis**:\n",
    "- Iteriere mit `k,v in substitutions.items():`  \n",
    "&uuml;ber die key-value Paare des Dict.\n",
    "- Ersetze nun jeweils `k` durch `v` und `k.lower()` durch `v.lower()`  \n",
    "\n",
    "Beispiel: `replace('Z.B.', {'Z.': 'Zum ', 'B.': 'Beispiel '})` lieferT `'Zum Beispiel '`"
   ]
  },
  {
   "cell_type": "markdown",
   "id": "a4aba5a3-e86f-4eec-a336-2dc2041f60f9",
   "metadata": {},
   "source": [
    "### 3) Dictionary mit  Buchstabenhäufigkeiten\n",
    "Die Funktion `count_letters(s)` liefert uns einen dict `d`, der uns sagt, wie oft ein Buchstabe im String `s` vorkommt. Wir m&ouml;chten nun einen Dictionary mit den relativen\n",
    "Häufigkeiten der Buchstaben.  \n",
    "\n",
    "Schreibe eine Funktion `normalize(d)`, welche den Dictionary `d` wie folgt modifiziert:\n",
    "jeden Wert von wird `d` durch die totale Anzahl gez&auml;hlter Buchstaben dividiert.\n",
    "Teste, ob die Summe der Werte im modifizierten Dict tats&auml;chlich 1 ergibt.\n",
    "\n",
    "Beispiel:  \n",
    "Vorkommen: `{'a': 2,'b': 1, 'c': 1}`  \n",
    "relativen Häufigkeiten: `{'a': 0.5,'b': 0.25, 'c': 0.25}`  \n",
    "\n",
    "\n"
   ]
  }
 ],
 "metadata": {
  "kernelspec": {
   "display_name": "Python 3 (ipykernel)",
   "language": "python",
   "name": "python3"
  },
  "language_info": {
   "codemirror_mode": {
    "name": "ipython",
    "version": 3
   },
   "file_extension": ".py",
   "mimetype": "text/x-python",
   "name": "python",
   "nbconvert_exporter": "python",
   "pygments_lexer": "ipython3",
   "version": "3.9.10"
  }
 },
 "nbformat": 4,
 "nbformat_minor": 5
}
