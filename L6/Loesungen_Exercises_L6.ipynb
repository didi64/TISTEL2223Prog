{
 "cells": [
  {
   "cell_type": "markdown",
   "id": "c52eb842-94c6-464f-855d-0bb3efb384e3",
   "metadata": {},
   "source": [
    "### Aufgaben 1\n",
    "While-Schlaufen, Funktionen, Indexnotation (`s[i]`), \n",
    "Slicenotation (`s[:i], s[i:], s[::-1]`)\n",
    "\n",
    "1. Benutze eine While-Schleife um zu z&auml;hlen, mit \n",
    "wievielen 'a's der String `'aaabca'` beginnt (3).\n",
    "2. Schreibe eine Funktion `count_leading_chars(s, ch)`, die angibt,  wie oft das Zeichen `ch` am Anfang von `s` steht. Z.B. `count_leading_chars('aaabca', 'a')` gibt `3`.\n",
    "3. Schreibe eine Funktion `count_trailing_chars(s, ch)`, die angibt,\n",
    "wie oft das Zeichen `ch` am Schluss von `s` steht.\n",
    "Z.B. zur&uuml;ck. `f('acbaaa', 'a')` gibt `3`.\n",
    "4. Mit wievielen Nullen endet die Zahl $11^{1000}-1$? (`11**1000 -1` als Pythonausdruck)     \n",
    "   **Hint**: Python kann mit beliebig grossen Integern rechnen. \n",
    "5. Sei `s = 'foofoofoobar'`.\n",
    "Benutze Slicenotation, um einen Anfansabschnitt von  `s` der L&auml;nge 3 zu erstellen. Erzeuge ebenfalls das zugeh&ouml;rige Endst&uuml;ck. \n",
    "6. Schreibe eine Funktion `count_leading_substrings(s, word)`, die angibt, mit wievielen Kopien von `word`  der String von `s` beginnt. Z.B. `count_leading_substrings('foofoofoobar', 'foo')` ist `3`. "
   ]
  },
  {
   "cell_type": "code",
   "execution_count": null,
   "id": "a683df69-5cd1-42a3-83e7-dc310bcb2526",
   "metadata": {},
   "outputs": [],
   "source": [
    "# 1.\n",
    "s = 'aaabca'\n",
    "i = 0\n",
    "while s[i] == 'a':\n",
    "    i = i + 1\n",
    "i"
   ]
  },
  {
   "cell_type": "code",
   "execution_count": null,
   "id": "2aa7a422-f58f-456e-9503-2f1afd158602",
   "metadata": {},
   "outputs": [],
   "source": [
    "# 2.\n",
    "def count_leading_chars(s, ch):\n",
    "    i = 0\n",
    "    while s[i] == ch:\n",
    "        i = i + 1\n",
    "    return i    "
   ]
  },
  {
   "cell_type": "code",
   "execution_count": null,
   "id": "dbd96a2c-42b2-40a1-9f02-3a31d451eedc",
   "metadata": {},
   "outputs": [],
   "source": [
    "count_leading_chars(s, 'a')"
   ]
  },
  {
   "cell_type": "code",
   "execution_count": null,
   "id": "e4f30976-2ff2-429f-af63-69aa50277449",
   "metadata": {},
   "outputs": [],
   "source": [
    "# 3, Variante I\n",
    "def count_trailing_chars(s, ch):\n",
    "    i = 1\n",
    "    while s[-i] == ch:\n",
    "        i = i + 1\n",
    "    return i - 1    "
   ]
  },
  {
   "cell_type": "code",
   "execution_count": null,
   "id": "ad6c2cec-a79c-4733-8368-6f3182717b85",
   "metadata": {},
   "outputs": [],
   "source": [
    "count_trailing_chars('xyxx', 'x')"
   ]
  },
  {
   "cell_type": "code",
   "execution_count": null,
   "id": "06d7d2db-ec0e-42d4-b0be-36f0c0efac2b",
   "metadata": {},
   "outputs": [],
   "source": [
    "# 3, Variante II\n",
    "def count_trailing_chars(s, ch):\n",
    "    return count_leading_chars(s[::-1], ch)"
   ]
  },
  {
   "cell_type": "code",
   "execution_count": null,
   "id": "580f8d1f-4b2b-4255-8114-392b9376c6d3",
   "metadata": {},
   "outputs": [],
   "source": [
    "count_trailing_chars('xyxx', 'x')"
   ]
  },
  {
   "cell_type": "code",
   "execution_count": null,
   "id": "d8355702-7dfc-48b0-8594-dac1164a6a64",
   "metadata": {},
   "outputs": [],
   "source": [
    "# 4\n",
    "count_trailing_chars(str(11**1000 - 1), '0')"
   ]
  },
  {
   "cell_type": "code",
   "execution_count": null,
   "id": "db436ef2-8d8a-412f-a131-d3675e25da15",
   "metadata": {},
   "outputs": [],
   "source": [
    "# 5\n",
    "s = 'foofoofoobar'\n",
    "\n",
    "head = s[:3]\n",
    "tail = s[3:]\n",
    "print(head, tail)"
   ]
  },
  {
   "cell_type": "code",
   "execution_count": null,
   "id": "815a784d-9c8e-4cb2-aef9-f85986d9d808",
   "metadata": {},
   "outputs": [],
   "source": [
    "# 6\n",
    "def count_leading_substrings(s, word):\n",
    "    n = len(word)\n",
    "    i = 0\n",
    "    while s[:n] == word:\n",
    "        i = i + 1\n",
    "        s = s[n:]\n",
    "    return i    "
   ]
  },
  {
   "cell_type": "code",
   "execution_count": null,
   "id": "706b163e-9d4e-4bc9-b952-ecde1d469ace",
   "metadata": {},
   "outputs": [],
   "source": [
    "head = 'foo'\n",
    "tail = 'bar'\n",
    "s = 3 * head + tail\n",
    "count_leading_substrings(s, head)"
   ]
  },
  {
   "cell_type": "markdown",
   "id": "0340e331-9ff2-4919-b3f9-17727fdce535",
   "metadata": {},
   "source": [
    "### Aufgaben 2\n",
    "For-Schleifen,\n",
    "Listen, Listcomprehension,\n",
    "`list.append`, `str.split`, `str.join`, `str.ljust`, `max`.\n",
    "\n",
    "1. Sei `words = ['foo' 'bar' 'baz']`. Gib von jedem Wort den 2. Buchstaben aus, also\n",
    "`o a a`.\n",
    "\n",
    "2. Sei `s = 'foo, bar, baz'`.\n",
    "Schreibe eine Funktion `ith_letters(s, i)`, so dass\n",
    "`ith_letters(s, 0)` `'f b b'` ausgibt, \n",
    "`ith_letters(s, 1)` `'o a a'`, u.s.w.\n",
    "\n",
    "3. Benutze `ith_letters(s, i)` um `'foo bar baz'` in der Form  \n",
    "```python\n",
    "f b b \n",
    "o a a \n",
    "o r z\n",
    "```\n",
    "  auszugeben.\n",
    "4. Schreibe eine Funktion `print_vertically(s)`, welche einen String\n",
    "mit durch `' '` getrennter, gleichlanger W&ouml;rter wie oben vertikal ausgibt.\n",
    "5. Schreibe eine Funktion `max_len(words)`, welche die L&auml;nge des l&auml;ngsten Worts in der Liste `words` zur&uuml;ck gibt.\n",
    "6. Schreibe eine Funktion `make_same_length(words)`, welche \n",
    "die W&ouml;rter in der Liste `words` alle zu gleichlangen Strings macht durch anh&auml;ngen von Leerzeichen (benutze dazu `str.ljust`). Modifiziere die Funktion, so dass sie als 2. Wert noch die L&auml;nge der W&ouml;rter zur&uuml;ck gibt.\n",
    "7. Modifiziere nun die Funktion `print_vertically(s)`, so dass \n",
    "sie auch f&uuml;r W&ouml;rter unterschiedlicher L&auml;nge das gew&uuml;nschte Resultat produziert."
   ]
  },
  {
   "cell_type": "code",
   "execution_count": null,
   "id": "d4352b7e-e741-41c8-b026-14d1e22c3b2c",
   "metadata": {},
   "outputs": [],
   "source": [
    "# 1\n",
    "words = ['foo', 'bar', 'baz']\n",
    "print(words[0][1], words[1][1], words[2][1])"
   ]
  },
  {
   "cell_type": "code",
   "execution_count": null,
   "id": "b9e85287-0773-4fe8-a2d9-408e4695fb94",
   "metadata": {},
   "outputs": [],
   "source": [
    "# 2 Vorbereitung, jeweils 1ten Buchstaben ausgeben\n",
    "words = ['foo', 'bar', 'baz']\n",
    "chars = []\n",
    "for word in words:\n",
    "    chars.append(word[1])\n",
    "' '.join(chars)   "
   ]
  },
  {
   "cell_type": "code",
   "execution_count": null,
   "id": "3f185fb2-7ccc-4a5a-82df-773c2928e8c6",
   "metadata": {},
   "outputs": [],
   "source": [
    "# diesmal mit Listcomprehension\n",
    "words = ['foo', 'bar', 'baz']\n",
    "chars = [word[1] for word in words]\n",
    "' '.join(chars)"
   ]
  },
  {
   "cell_type": "code",
   "execution_count": null,
   "id": "57f08c25-e1ba-4fbd-9dfb-a79e5817cbc3",
   "metadata": {},
   "outputs": [],
   "source": [
    "# 2\n",
    "def ith_letters(words, i):\n",
    "    chars = [word[i] for word in words]\n",
    "    return ' '.join(chars)"
   ]
  },
  {
   "cell_type": "code",
   "execution_count": null,
   "id": "58ef686c-769d-45c5-934c-57a20afd9d88",
   "metadata": {},
   "outputs": [],
   "source": [
    "ith_letters(words, 1)"
   ]
  },
  {
   "cell_type": "code",
   "execution_count": null,
   "id": "6942052f-746c-4558-b78c-85cca575b711",
   "metadata": {},
   "outputs": [],
   "source": [
    "# 3\n",
    "s = 'foo bar baz'\n",
    "words = s.split()\n",
    "n_chars = len(words[0]) # Annahme: alle Woerter gleich lang\n",
    "lines = []\n",
    "for i in range(n_chars):\n",
    "    line = ith_letters(words, i) \n",
    "    lines.append(line)\n",
    "print('\\n'.join(lines))"
   ]
  },
  {
   "cell_type": "code",
   "execution_count": null,
   "id": "ed13ccb1-9911-4604-8d0d-d74786c7055d",
   "metadata": {},
   "outputs": [],
   "source": [
    "# 3, mit Listcomprehension\n",
    "words = s.split()\n",
    "n_chars = len(words[0]) # Annahme: alle Woerter gleich lang\n",
    "lines = [ith_letters(words, i) for i in range(n_chars)]\n",
    "print('\\n'.join(lines))"
   ]
  },
  {
   "cell_type": "code",
   "execution_count": null,
   "id": "dc8a016d-d565-4f24-b523-7edbe35c60da",
   "metadata": {},
   "outputs": [],
   "source": [
    "# 4\n",
    "def print_vertically(text):\n",
    "    words = text.split()\n",
    "    word_len = len(words[0])\n",
    "    lines = [ith_letters(words, i) for i in range(word_len)]\n",
    "    print('\\n'.join(lines))      "
   ]
  },
  {
   "cell_type": "code",
   "execution_count": null,
   "id": "f51107d7-a20a-4bad-b09d-ba987d4d9bb5",
   "metadata": {},
   "outputs": [],
   "source": [
    "print_vertically('abc def ghi')"
   ]
  },
  {
   "cell_type": "code",
   "execution_count": null,
   "id": "63d12c70-0826-4b44-b31b-262fac08f1ce",
   "metadata": {},
   "outputs": [],
   "source": [
    "# 5\n",
    "def max_len(words):\n",
    "    return max(len(word) for word in words)"
   ]
  },
  {
   "cell_type": "code",
   "execution_count": null,
   "id": "2fe53a30-5efe-4ab7-8693-781311ac802d",
   "metadata": {},
   "outputs": [],
   "source": [
    "max_len(['a', 'bb', 'ccc'])"
   ]
  },
  {
   "cell_type": "code",
   "execution_count": null,
   "id": "b1229c4b-23dc-4f8e-8461-dee5302cf8d7",
   "metadata": {},
   "outputs": [],
   "source": [
    "# 6\n",
    "def make_same_length(words):\n",
    "    n = max_len(words)\n",
    "    return [word.ljust(n) for word in words], n"
   ]
  },
  {
   "cell_type": "code",
   "execution_count": null,
   "id": "f55d4858-cbad-41ba-b7f0-1a663a39e299",
   "metadata": {},
   "outputs": [],
   "source": [
    "make_same_length(['a', 'bb','ccc'])"
   ]
  },
  {
   "cell_type": "code",
   "execution_count": null,
   "id": "112fdec3-3b12-4492-9825-b2d5f897e0b9",
   "metadata": {},
   "outputs": [],
   "source": [
    "# 7\n",
    "def print_vertically(text):\n",
    "    words = text.split()\n",
    "    words, len_words = make_same_length(words)\n",
    "    lines = [ith_letters(words, i) for i in range(len_words)]\n",
    "    print('\\n'.join(lines))      "
   ]
  },
  {
   "cell_type": "code",
   "execution_count": null,
   "id": "0e3b3ca5-3a6c-4d08-b48f-f6d4e07622b7",
   "metadata": {},
   "outputs": [],
   "source": [
    "print_vertically('Gib von jedem Wort den 2. Buchstaben aus')"
   ]
  },
  {
   "cell_type": "code",
   "execution_count": null,
   "id": "6efbd851-ed87-479a-b230-c86e049effed",
   "metadata": {},
   "outputs": [],
   "source": []
  },
  {
   "cell_type": "code",
   "execution_count": null,
   "id": "76508d8a-82f5-47e6-a184-4a77bb99df45",
   "metadata": {},
   "outputs": [],
   "source": []
  }
 ],
 "metadata": {
  "kernelspec": {
   "display_name": "Python 3 (ipykernel)",
   "language": "python",
   "name": "python3"
  },
  "language_info": {
   "codemirror_mode": {
    "name": "ipython",
    "version": 3
   },
   "file_extension": ".py",
   "mimetype": "text/x-python",
   "name": "python",
   "nbconvert_exporter": "python",
   "pygments_lexer": "ipython3",
   "version": "3.9.10"
  }
 },
 "nbformat": 4,
 "nbformat_minor": 5
}
