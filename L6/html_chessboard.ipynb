{
 "cells": [
  {
   "cell_type": "markdown",
   "id": "c12b8c9a-292a-4db7-9696-993ef6aeeb03",
   "metadata": {},
   "source": [
    "### Jupyterlab unterst&uuml;tzt HTML"
   ]
  },
  {
   "cell_type": "code",
   "execution_count": null,
   "id": "3a76dd7b-4b5d-4c7c-b10c-f3ee2917c871",
   "metadata": {},
   "outputs": [],
   "source": [
    "from IPython.display import  HTML\n",
    "url = 'https://jupyterlab.readthedocs.io/en/stable/user/file_formats.html'\n",
    "html = '<a href = {url}>HTML in Zelle ausgeben</a>'.format(url=url)\n",
    "display(HTML(html))\n",
    "\n",
    "text = '''\n",
    "Letzter Ausdruck in Codezelle wird \n",
    "automatisch mittels der Funktion \"display\" ausgegeben.\n",
    "'''\n",
    "HTML('<b>{}</b>'.format(text))"
   ]
  },
  {
   "cell_type": "code",
   "execution_count": null,
   "id": "0d1bcd60-3ca9-46c4-b45d-d6d56cd68162",
   "metadata": {},
   "outputs": [],
   "source": [
    "html_table =  '''\n",
    "<div>\n",
    "<table>\n",
    "  <tr>\n",
    "    <td>A</td><td></td>\n",
    "  </tr>\n",
    "  <tr>\n",
    "    <td></td><td>B</td>\n",
    "  </tr>\n",
    "</table>\n",
    "</div>\n",
    "'''\n",
    "HTML(html_table)"
   ]
  },
  {
   "cell_type": "code",
   "execution_count": null,
   "id": "528ede88-3480-429a-8a96-dedd9cc41a2b",
   "metadata": {
    "jupyter": {
     "source_hidden": true
    },
    "tags": []
   },
   "outputs": [],
   "source": [
    "COLORS = {0: '#F0D9B5', 1: '#B48762'} # helle und dunkle Felder\n",
    "html_table =  '''\n",
    "<div>\n",
    "<table>\n",
    "  <tr>\n",
    "    <td style=\"background-color:{0};\">A</td>\n",
    "    <td style=\"background-color:{1};\"></td>\n",
    "  </tr>\n",
    "  <tr>\n",
    "    <td style=\"background-color:{1};\"></td>\n",
    "    <td style=\"background-color:{0};\">B</td>\n",
    "  </tr>\n",
    "</table>\n",
    "</div>\n",
    "'''.format(COLORS[0], COLORS[1])\n",
    "HTML(html_table)"
   ]
  },
  {
   "cell_type": "code",
   "execution_count": null,
   "id": "58fe8341-7f13-4978-a8bd-140dee99940b",
   "metadata": {},
   "outputs": [],
   "source": [
    "def td(color):\n",
    "    return '''<td class=\"chessboard\" style=\"background-color:{color};\">\n",
    "    {{}}\n",
    "              </td>\n",
    "           '''.format(color = color)\n",
    "\n",
    "def tr(color, ncols):\n",
    "    tds  = [td(COLORS[(color + i) % len(COLORS)]) for i in range(ncols)]\n",
    "    body = ''.join(tds)\n",
    "    return '<tr class=\"chessboard\" >{body}</tr>'.format(body = body)\n",
    "\n",
    "def table(nrow, ncol):\n",
    "    trs = [tr(i % 2, ncol) for i in range(nrow)]\n",
    "    body = '\\n'.join(trs)\n",
    "    return '<table class=\"chessboard\" >{body}</table>'.format(body = body)       "
   ]
  },
  {
   "cell_type": "code",
   "execution_count": null,
   "id": "0825354d-530b-4aeb-bbdb-97b99ec12561",
   "metadata": {},
   "outputs": [],
   "source": [
    "chessboard = '<div>{table}</div>'.format(table = table(8,8))\n",
    "HTML(chessboard)"
   ]
  },
  {
   "cell_type": "markdown",
   "id": "6168998d-25b7-4f47-9f13-0460eaef96ea",
   "metadata": {},
   "source": [
    "***\n",
    "Tabellemstyle definieren:  \n",
    "```python\n",
    "style = '<style> ...</style>'\n",
    "```\n",
    "***"
   ]
  },
  {
   "cell_type": "code",
   "execution_count": null,
   "id": "584afdc7-882f-4f6a-9b7f-d1fe2d6fe8bf",
   "metadata": {
    "jupyter": {
     "source_hidden": true
    },
    "tags": []
   },
   "outputs": [],
   "source": [
    "style = '''\n",
    "<style>\n",
    "table.chessboard {\n",
    "    position: relative;\n",
    "    left: 10px;\n",
    "    top:  10px;\n",
    "  \n",
    "    table-layout: fixed;\n",
    "    border-collapse: collapse;\n",
    "    border: 0px solid black;\n",
    "}\n",
    "\n",
    "tr.chessboard {\n",
    "    border: 0px solid black;\n",
    "}\n",
    "\n",
    "td.chessboard  {\n",
    "    border: 2px solid black;\n",
    "    margin: 0;\n",
    "    padding: 0; \n",
    "    height: 20px;\n",
    "    width:  20px;\n",
    "    vertical-align: middle;\n",
    "    text-align:center\n",
    "    color: black;\n",
    "}\n",
    "</style>\n",
    "''' "
   ]
  },
  {
   "cell_type": "code",
   "execution_count": null,
   "id": "682f4c57-b408-4228-ae31-602fe430baba",
   "metadata": {
    "tags": []
   },
   "outputs": [],
   "source": [
    "display(HTML(style))\n",
    "chessboard = '<div>{table}</div>'.format(table = table(8,8))\n",
    "HTML(chessboard)"
   ]
  },
  {
   "cell_type": "code",
   "execution_count": null,
   "id": "902269ed-ce56-4e47-90fb-7371fd21cc06",
   "metadata": {},
   "outputs": [],
   "source": [
    "position = 'rnbqkbnr'\\\n",
    "           'pppppppp'\\\n",
    "           '        '\\\n",
    "           '        '\\\n",
    "           '        '\\\n",
    "           '        '\\\n",
    "           'PPPPPPPP'\\\n",
    "           'RNBQKBNR'                "
   ]
  },
  {
   "cell_type": "code",
   "execution_count": null,
   "id": "47f15f07-e08f-444c-9be3-265878ab69a6",
   "metadata": {},
   "outputs": [],
   "source": [
    "position"
   ]
  },
  {
   "cell_type": "code",
   "execution_count": null,
   "id": "c65044f1-8875-46e5-b46b-387f439b40ce",
   "metadata": {},
   "outputs": [],
   "source": [
    "HTML(chessboard.format(*position))"
   ]
  },
  {
   "cell_type": "code",
   "execution_count": null,
   "id": "c2e1459b-767e-41fa-91c4-4b8df5c14a1a",
   "metadata": {},
   "outputs": [],
   "source": [
    "PIECES = {ch:chr(9812+i) for i,ch in enumerate('KQRBNPkqrbnp')}\n",
    "PIECES"
   ]
  },
  {
   "cell_type": "code",
   "execution_count": null,
   "id": "191945cc-75e1-431d-9428-303af2dfd198",
   "metadata": {},
   "outputs": [],
   "source": [
    "pretty_position = ''.join(PIECES.get(key, key) for key in position)"
   ]
  },
  {
   "cell_type": "code",
   "execution_count": null,
   "id": "6d3e37dd-a8f4-4b25-9f5f-3b716ff8bb3b",
   "metadata": {},
   "outputs": [],
   "source": [
    "HTML(chessboard.format(*pretty_position))"
   ]
  }
 ],
 "metadata": {
  "kernelspec": {
   "display_name": "Python 3 (ipykernel)",
   "language": "python",
   "name": "python3"
  },
  "language_info": {
   "codemirror_mode": {
    "name": "ipython",
    "version": 3
   },
   "file_extension": ".py",
   "mimetype": "text/x-python",
   "name": "python",
   "nbconvert_exporter": "python",
   "pygments_lexer": "ipython3",
   "version": "3.9.10"
  }
 },
 "nbformat": 4,
 "nbformat_minor": 5
}
