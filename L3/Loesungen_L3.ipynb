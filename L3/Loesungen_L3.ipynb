{
 "cells": [
  {
   "cell_type": "markdown",
   "id": "dfeec295-2037-401e-a087-9771ade85b6d",
   "metadata": {},
   "source": [
    "### L&ouml;sungen L3"
   ]
  },
  {
   "cell_type": "markdown",
   "id": "e427826d-acee-4b73-95f4-82cd9027f122",
   "metadata": {},
   "source": [
    "### Funktionen"
   ]
  },
  {
   "cell_type": "code",
   "execution_count": null,
   "id": "510be3d2-77a9-4ad2-9575-5b5e11233ea5",
   "metadata": {},
   "outputs": [],
   "source": [
    "YEAR = 2022\n",
    "name = input('Name: ')\n",
    "jg   = input('Jahrgang: ')\n",
    "alter = YEAR - int(jg)\n",
    "print('{name} ist {alter} alt'.format(name=name, alter = alter))"
   ]
  },
  {
   "cell_type": "code",
   "execution_count": null,
   "id": "a47db31a-2643-42ab-b5a7-0bbfb5d401d4",
   "metadata": {},
   "outputs": [],
   "source": [
    "YEAR = 2022\n",
    "def f():\n",
    "    name = input('Name: ')\n",
    "    jg   = input('Jahrgang: ')\n",
    "    alter = YEAR - int(jg)\n",
    "    print('{name} ist {alter} alt.'.format(name=name, alter = alter))"
   ]
  },
  {
   "cell_type": "code",
   "execution_count": null,
   "id": "7cfa902a-4f0d-425b-ab66-931cd344b9c6",
   "metadata": {},
   "outputs": [],
   "source": [
    "f()"
   ]
  },
  {
   "cell_type": "markdown",
   "id": "9d21dafc-e048-401a-bb0e-0e0a1aa783a3",
   "metadata": {},
   "source": [
    "### For-Loops"
   ]
  },
  {
   "cell_type": "code",
   "execution_count": null,
   "id": "6d4f8568-aa88-47d4-979c-df97407c33b4",
   "metadata": {},
   "outputs": [],
   "source": [
    "# Addiere die Zahlen 1 bis und mit 100\n",
    "res = 0\n",
    "for i in range(1,101):\n",
    "   res = res + i\n",
    "print(res)"
   ]
  },
  {
   "cell_type": "code",
   "execution_count": null,
   "id": "bf9432b1-b619-416c-9fd1-fc5bc1a3f239",
   "metadata": {},
   "outputs": [],
   "source": [
    "# Bestimme die Laenge des laengsten Wortes\n",
    "words = ['asdf', 'asd', 'd', 'asdfasf']\n",
    "max_len = 0\n",
    "for w in words:\n",
    "    max_len = max(max_len, len(w))\n",
    "print(max_len)"
   ]
  },
  {
   "cell_type": "code",
   "execution_count": null,
   "id": "3c2ad87e-3035-4501-a92a-7b2f94906ed2",
   "metadata": {},
   "outputs": [],
   "source": [
    "# gib Index und Zeichen aus, ohne enumerate\n",
    "i = 0\n",
    "for ch in 'abc':\n",
    "    print('Index: {}, Zeichen: {}'.format(i, ch))\n",
    "    i = i +1"
   ]
  },
  {
   "cell_type": "markdown",
   "id": "7e01ac6b-9efb-41cc-9517-14ddd5daec10",
   "metadata": {},
   "source": [
    "### If then else"
   ]
  },
  {
   "cell_type": "code",
   "execution_count": null,
   "id": "a886533c-89de-4697-831d-863685e33a02",
   "metadata": {},
   "outputs": [],
   "source": [
    "def fizzbuzz(n):\n",
    "    if  n % 5 == 0 and n % 3 ==0:\n",
    "        return 'fizzbuzz'\n",
    "    elif n % 5 == 0:\n",
    "        return 'buzz'\n",
    "    elif n % 3 == 0:\n",
    "        return 'fizz'\n",
    "    else:\n",
    "        return str(n)"
   ]
  },
  {
   "cell_type": "code",
   "execution_count": null,
   "id": "5358ca4f-6bb3-4dbb-8590-33a07d445420",
   "metadata": {},
   "outputs": [],
   "source": [
    "def sign(n):\n",
    "    '''returns the sign of the number n'''\n",
    "    if n < 0:\n",
    "        return -1\n",
    "    elif n > 0:\n",
    "        return 1\n",
    "    else:\n",
    "        return 0  \n",
    "    \n",
    "sign(-2), sign(0), sign(2)    "
   ]
  },
  {
   "cell_type": "code",
   "execution_count": null,
   "id": "902e004b-0918-4669-ba35-7281519bb425",
   "metadata": {},
   "outputs": [],
   "source": [
    "def eval_guess(guess, n):\n",
    "    return sign(guess - n)"
   ]
  },
  {
   "cell_type": "code",
   "execution_count": null,
   "id": "873ab80c-304b-42cc-bfc6-0baa3ab480ba",
   "metadata": {},
   "outputs": [],
   "source": [
    "def eval_guess(guess, n):\n",
    "    '''returns a tuple (is_ok, comment)\n",
    "    \n",
    "       is_ok: True, if guess equals n\n",
    "       comment: 'too big', 'correct' or 'too small'\n",
    "    '''\n",
    "    comments = {1: 'too big', \n",
    "                0: 'correct', \n",
    "                -1:'too small',\n",
    "               }\n",
    "    \n",
    "    is_ok = guess == n\n",
    "    key = sign(guess - n)\n",
    "    \n",
    "    return is_ok, comments[key]"
   ]
  },
  {
   "cell_type": "markdown",
   "id": "8fe99f45-9479-4018-8915-88e813b924f8",
   "metadata": {},
   "source": [
    "### While-Loops"
   ]
  },
  {
   "cell_type": "code",
   "execution_count": null,
   "id": "8e555bea-2857-4765-bd02-70ff6237220f",
   "metadata": {},
   "outputs": [],
   "source": [
    "number = 5\n",
    "\n",
    "nbr = None\n",
    "while nbr != number: \n",
    "    nbr = input('Gib {} ein:'.format(number))\n",
    "    nbr = int(nbr)\n",
    "print('ok, got', nbr)    "
   ]
  },
  {
   "cell_type": "code",
   "execution_count": null,
   "id": "877fd779-a15e-44b2-8ce4-8da0545066a1",
   "metadata": {},
   "outputs": [],
   "source": [
    "def read_number(number):\n",
    "    nbr = None\n",
    "    while nbr != number: \n",
    "        nbr = input('Gib {} ein:'.format(number))\n",
    "        nbr = int(nbr)\n",
    "    print('ok, got', nbr)    "
   ]
  },
  {
   "cell_type": "code",
   "execution_count": null,
   "id": "993a3e4b-9847-4525-9f9f-8f12a3869059",
   "metadata": {},
   "outputs": [],
   "source": [
    "def read_number_(number):\n",
    "    nbr = None\n",
    "    while True: \n",
    "        nbr = input('Gib {} ein:'.format(number))\n",
    "        if number  == int(nbr):\n",
    "            break\n",
    "    print('ok, got', nbr)    "
   ]
  },
  {
   "cell_type": "code",
   "execution_count": null,
   "id": "2d6f5b82-9dd5-4ede-9809-2424a62abb7f",
   "metadata": {},
   "outputs": [],
   "source": [
    "s = 'abcd'\n",
    "ch = 'c'\n",
    "\n",
    "i = 0\n",
    "while i < len(s) and s[i] != ch:\n",
    "    i = i + 1\n",
    "\n",
    "if i == len(s):\n",
    "    print(-1)\n",
    "else:\n",
    "    print(i)"
   ]
  },
  {
   "cell_type": "code",
   "execution_count": null,
   "id": "7b37fcd7-0dbf-4902-8bb6-8163876c4bf4",
   "metadata": {},
   "outputs": [],
   "source": [
    "def find_first(s, ch):\n",
    "    i = 0\n",
    "    while i < len(s) and s[i] != ch:\n",
    "        i = i + 1\n",
    "\n",
    "    if i == len(s):\n",
    "        return -1\n",
    "    else:\n",
    "        return i"
   ]
  },
  {
   "cell_type": "code",
   "execution_count": null,
   "id": "99908aff-69df-4ad9-8726-f257c5f2bf74",
   "metadata": {},
   "outputs": [],
   "source": [
    "def find_first1(s, ch):\n",
    "    i = 0\n",
    "    while i < len(s):\n",
    "        if s[i] == ch:\n",
    "            return i\n",
    "        i = i + 1\n",
    "        \n",
    "    return -1     "
   ]
  },
  {
   "cell_type": "code",
   "execution_count": null,
   "id": "964ebe40-91d4-4b5d-931e-7034ae5327ae",
   "metadata": {},
   "outputs": [],
   "source": [
    "def find_first2(s, ch):\n",
    "    i = 0\n",
    "    while True: \n",
    "        if i >= len(s):\n",
    "            return -1\n",
    "        if s[i] == ch:\n",
    "            return i\n",
    "        \n",
    "        i = i + 1"
   ]
  }
 ],
 "metadata": {
  "kernelspec": {
   "display_name": "Python 3 (ipykernel)",
   "language": "python",
   "name": "python3"
  },
  "language_info": {
   "codemirror_mode": {
    "name": "ipython",
    "version": 3
   },
   "file_extension": ".py",
   "mimetype": "text/x-python",
   "name": "python",
   "nbconvert_exporter": "python",
   "pygments_lexer": "ipython3",
   "version": "3.9.10"
  }
 },
 "nbformat": 4,
 "nbformat_minor": 5
}
