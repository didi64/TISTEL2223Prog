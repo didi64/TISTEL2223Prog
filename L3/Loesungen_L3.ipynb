{
 "cells": [
  {
   "cell_type": "markdown",
   "id": "dfeec295-2037-401e-a087-9771ade85b6d",
   "metadata": {},
   "source": [
    "### L&ouml;sungen L4"
   ]
  },
  {
   "cell_type": "markdown",
   "id": "e427826d-acee-4b73-95f4-82cd9027f122",
   "metadata": {},
   "source": [
    "### Funktionen"
   ]
  },
  {
   "cell_type": "code",
   "execution_count": null,
   "id": "7cfa902a-4f0d-425b-ab66-931cd344b9c6",
   "metadata": {},
   "outputs": [],
   "source": [
    "# Name, Alter\n",
    "YEAR = 2022\n",
    "def f():\n",
    "    name = input('Name: ')\n",
    "    jg   = input('Jahrgang: ')\n",
    "    return YEAR - int(jg)\n",
    "\n",
    "f()"
   ]
  },
  {
   "cell_type": "code",
   "execution_count": null,
   "id": "85fa5b99-de73-4da4-9f69-c81d99026489",
   "metadata": {},
   "outputs": [],
   "source": [
    "# Name, Alter\n",
    "YEAR = 2022\n",
    "data = []\n",
    "def f():\n",
    "    name = input('Name: ')\n",
    "    jg   = input('Jahrgang: ')\n",
    "    age  = YEAR - int(jg)\n",
    "    data.append((name, age))"
   ]
  },
  {
   "cell_type": "code",
   "execution_count": null,
   "id": "3c84fb7b-e7ce-43f5-87c1-528d75d45e7c",
   "metadata": {},
   "outputs": [],
   "source": [
    "f()\n",
    "data"
   ]
  },
  {
   "cell_type": "code",
   "execution_count": null,
   "id": "c8f40779-fd63-4915-9c3e-9c821048ea36",
   "metadata": {},
   "outputs": [],
   "source": [
    "counter = counter + 1 # ist ein schreibzugriff."
   ]
  },
  {
   "cell_type": "code",
   "execution_count": 81,
   "id": "2844c2b0-d924-48c2-90ab-f4e4c18056a8",
   "metadata": {},
   "outputs": [
    {
     "data": {
      "text/plain": [
       "(4.0, 3.0, 5.0)"
      ]
     },
     "execution_count": 81,
     "metadata": {},
     "output_type": "execute_result"
    }
   ],
   "source": [
    "A = (3,3)\n",
    "B = (3,7)\n",
    "C = (6,3)\n",
    "\n",
    "def dist(x1, y1, x2, y2):\n",
    "    '''returns distance from (x1,y1) to (x2,y2)'''\n",
    "    return ((x1-x2)**2 + (y1-y2)**2)**(1/2)\n",
    "\n",
    "dist(*A,*B), dist(*A,*C), dist(*B,*C)"
   ]
  },
  {
   "cell_type": "code",
   "execution_count": 87,
   "id": "7b5e8b7f-04ca-4d76-835f-f40c0229d0e9",
   "metadata": {},
   "outputs": [
    {
     "name": "stdout",
     "output_type": "stream",
     "text": [
      "Liebe Anna,\n",
      " \n",
      "danke fuer deine rasch Anwort.\n",
      " \n",
      "Mit freundlichen Grüssen,\n",
      "Your Name\n",
      "\n"
     ]
    }
   ],
   "source": [
    "customers = [{'name'   : 'Anna',\n",
    "              'anrede' : 'Liebe',\n",
    "              'gruss'  : 'Mit freundlichen Grüssen',\n",
    "             },\n",
    "            ]\n",
    "            \n",
    "email = '''\\\n",
    "{anrede} {name},\n",
    " \n",
    "{msg}\n",
    " \n",
    "{gruss},\n",
    "{absender}\n",
    "''' \n",
    "\n",
    "def f(msg, customer, template, absender='Your Name'):\n",
    "    return template.format(msg=msg, absender=absender, **customer)\n",
    "\n",
    "msg = 'danke fuer deine rasch Anwort.'\n",
    "print(f(msg, customers[0], template = email))  "
   ]
  },
  {
   "cell_type": "markdown",
   "id": "7e01ac6b-9efb-41cc-9517-14ddd5daec10",
   "metadata": {},
   "source": [
    "### Kontrollstrukturen"
   ]
  },
  {
   "cell_type": "markdown",
   "id": "c8f18d0a-90ee-4153-943a-ae0b6720d3cf",
   "metadata": {},
   "source": [
    "### For-Loop"
   ]
  },
  {
   "cell_type": "code",
   "execution_count": 95,
   "id": "fed02834-20db-4708-888a-e177a01a1746",
   "metadata": {},
   "outputs": [
    {
     "name": "stdout",
     "output_type": "stream",
     "text": [
      "5050\n"
     ]
    }
   ],
   "source": [
    "res = 0\n",
    "for i in range(1,101):\n",
    "   res = res + i\n",
    "print(res)"
   ]
  },
  {
   "cell_type": "code",
   "execution_count": 96,
   "id": "5a12fd4e-bc20-4557-aae2-cc3f8cb23492",
   "metadata": {},
   "outputs": [
    {
     "name": "stdout",
     "output_type": "stream",
     "text": [
      "7\n"
     ]
    }
   ],
   "source": [
    "words = ['asdf', 'asd', 'd', 'asdfasf']\n",
    "max_len = 0\n",
    "for w in words:\n",
    "   max_len = max(max_len, len(w))\n",
    "print(max_len)"
   ]
  },
  {
   "cell_type": "code",
   "execution_count": 97,
   "id": "4374cc6f-1314-42bf-91cc-3d3fda5f690f",
   "metadata": {},
   "outputs": [
    {
     "name": "stdout",
     "output_type": "stream",
     "text": [
      "0 a\n",
      "1 b\n",
      "2 c\n"
     ]
    }
   ],
   "source": [
    "i = 0\n",
    "for ch in 'abc':\n",
    "    print(i,ch)\n",
    "    i = i + 1"
   ]
  },
  {
   "cell_type": "code",
   "execution_count": 98,
   "id": "a50c58b6-3610-4687-b3b2-f1aac9123133",
   "metadata": {},
   "outputs": [
    {
     "name": "stdout",
     "output_type": "stream",
     "text": [
      "0 a\n",
      "1 b\n",
      "2 c\n"
     ]
    }
   ],
   "source": [
    "for i,c in zip(range(3),'abc'):\n",
    "    print(i,c)"
   ]
  },
  {
   "cell_type": "markdown",
   "id": "8e5326b5-a394-4754-b660-942d7d167169",
   "metadata": {},
   "source": [
    "### While-Loop"
   ]
  },
  {
   "cell_type": "code",
   "execution_count": null,
   "id": "7c7f26b7-1b1a-422b-85f9-69e9ff2470ea",
   "metadata": {},
   "outputs": [],
   "source": [
    "# Variante 1\n",
    "NBR = 5\n",
    "while True:\n",
    "    n = input('Zahl: ')\n",
    "    n = int(n)\n",
    "    \n",
    "    if n == NBR:\n",
    "        break"
   ]
  },
  {
   "cell_type": "code",
   "execution_count": null,
   "id": "ef95a25e-a642-4fb5-9244-beb4ab0135a2",
   "metadata": {},
   "outputs": [],
   "source": [
    "NBR = 5\n",
    "n = None\n",
    "\n",
    "while n != NBR:\n",
    "    n = input('Zahl: ')\n",
    "    n = int(n)\n",
    " "
   ]
  },
  {
   "cell_type": "code",
   "execution_count": 112,
   "id": "c94deac2-c329-4d52-a003-d666dcf871ea",
   "metadata": {},
   "outputs": [],
   "source": [
    "import random\n",
    "def play_game(lower=0, upper=10):\n",
    "    '''guess a random Integer between lower and upper,\n",
    "       lower and upper are included\n",
    "    '''   \n",
    "    nbr = random.randint(lower, upper)\n",
    "    history = []\n",
    "    \n",
    "    is_correct = False\n",
    "    while not is_correct:\n",
    "        n = input('Zahl zwischen {a} und {b}? '.format(a=lower, b=upper))\n",
    "        n = int(n)\n",
    "        \n",
    "        is_correct, comment = eval_guess(n, nbr)\n",
    "        \n",
    "        history.append((n, comment))    \n",
    "        print(comment)\n",
    "        \n",
    "    table = history2table(history)\n",
    "    print('Congrats! You guessed the number {N} in {n} tries.'.format(N=nbr, n=len(history)))\n",
    "    print(table)    "
   ]
  },
  {
   "cell_type": "code",
   "execution_count": 114,
   "id": "18e10618-1dbb-41d0-a1ae-b3e760ce0276",
   "metadata": {},
   "outputs": [
    {
     "name": "stdin",
     "output_type": "stream",
     "text": [
      "Zahl zwischen 1 und 5?  2\n"
     ]
    },
    {
     "name": "stdout",
     "output_type": "stream",
     "text": [
      "too big\n"
     ]
    },
    {
     "name": "stdin",
     "output_type": "stream",
     "text": [
      "Zahl zwischen 1 und 5?  3\n"
     ]
    },
    {
     "name": "stdout",
     "output_type": "stream",
     "text": [
      "too big\n"
     ]
    },
    {
     "name": "stdin",
     "output_type": "stream",
     "text": [
      "Zahl zwischen 1 und 5?  4\n"
     ]
    },
    {
     "name": "stdout",
     "output_type": "stream",
     "text": [
      "too big\n"
     ]
    },
    {
     "name": "stdin",
     "output_type": "stream",
     "text": [
      "Zahl zwischen 1 und 5?  5\n"
     ]
    },
    {
     "name": "stdout",
     "output_type": "stream",
     "text": [
      "too big\n"
     ]
    },
    {
     "name": "stdin",
     "output_type": "stream",
     "text": [
      "Zahl zwischen 1 und 5?  6\n"
     ]
    },
    {
     "name": "stdout",
     "output_type": "stream",
     "text": [
      "too big\n"
     ]
    },
    {
     "name": "stdin",
     "output_type": "stream",
     "text": [
      "Zahl zwischen 1 und 5?  1\n"
     ]
    },
    {
     "name": "stdout",
     "output_type": "stream",
     "text": [
      "correct\n",
      "Congrats! You guessed the number 1 in 6 tries.\n",
      "|Nr.|guess|comment|\n",
      "|===|=====|=======|\n",
      "|0  |2    |too big|\n",
      "|1  |3    |too big|\n",
      "|2  |4    |too big|\n",
      "|3  |5    |too big|\n",
      "|4  |6    |too big|\n",
      "|5  |1    |correct|\n"
     ]
    }
   ],
   "source": [
    "play_game(1,5)"
   ]
  },
  {
   "cell_type": "code",
   "execution_count": null,
   "id": "25c6e6bb-f410-4477-9d79-6bbe59167c97",
   "metadata": {},
   "outputs": [],
   "source": []
  }
 ],
 "metadata": {
  "kernelspec": {
   "display_name": "Python 3 (ipykernel)",
   "language": "python",
   "name": "python3"
  },
  "language_info": {
   "codemirror_mode": {
    "name": "ipython",
    "version": 3
   },
   "file_extension": ".py",
   "mimetype": "text/x-python",
   "name": "python",
   "nbconvert_exporter": "python",
   "pygments_lexer": "ipython3",
   "version": "3.9.10"
  }
 },
 "nbformat": 4,
 "nbformat_minor": 5
}
