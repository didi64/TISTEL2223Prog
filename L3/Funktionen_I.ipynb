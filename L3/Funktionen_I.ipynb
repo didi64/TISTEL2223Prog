{
 "cells": [
  {
   "cell_type": "markdown",
   "id": "b768fa49-f920-4ede-a1dc-0dc655920813",
   "metadata": {},
   "source": [
    "### Funktionen\n",
    "- eine Funktion erlaubt es,  einer Variable (eine Referenz auf einen) Codeblock (Folge von Anweisungen) zuzuweisen und bei Bedarf auszuf&uuml;hren. Der Funktion k&ouml;nnen \n",
    "(Referenzen auf) Objekte &uuml;bergeben werden, auf welche die Funktion Zugriff hat.  Eine Funktion `f()` gibt ein Objekt zur&uuml;ck, der Wert der Ausdrucks `f()`, welcher\n",
    "mittels `x = f()` der Variable `x` zugewiesen werden.\n",
    "\n",
    "- Funktionen erm&ouml;glichen es, ein Programm zu strukturieren, d.h.    Programmteile als Funktionen auszulagern.\n",
    " \n",
    " \n",
    "  \n",
    "- Eine **Funktionsdefinition** hat die Form  \n",
    "\n",
    "```python\n",
    "def <functionname>(<variable(s)>):\n",
    "    '''Hilfstext zur Funktion\n",
    "       Kann mehrere Zeilen lang sein und\n",
    "       wird \"docstring\" genannt.\n",
    "       \n",
    "       help(<functionname>) gibt den docstring aus\n",
    "    '''\n",
    "    <statements> \n",
    "    return <expression(s)> # optional\n",
    "\n",
    "```\n",
    "\n",
    "> Der einger&uuml;ckte Codeblock wird auch **function body** oder kurz **body** genannt.\n",
    "- Eine **Funktionsaufruf** hat die Form  \n",
    "\n",
    "```python\n",
    "<functionname>(<expression(s)>)\n",
    "```  \n",
    "> Die Werte der ```<expression(s)>``` werden den ```<variable(s)>``` an den entsprechenden Positionen in der Funktionsdefinition zugewiesen.\n",
    "\n",
    "\n",
    "- Der Docstring wird z.B. durch ```help(<functionname>)``` ausgegeben.\n",
    "Er soll die Funktion kurz dokumentieren.\n",
    "\n",
    "- Gibt eine Funktion ```f()``` mehrere Werte zur&uuml;ck, \n",
    "werden diese automatisch in ein Tupel gepackt. Fehlt das return-Statement, wird automatisch `None` zur&uuml;ckgegeben.\n",
    "   \n",
    "```python\n",
    "def f():\n",
    "    <statements>\n",
    "    return x, y ,z # aequivalent zu return (x, y, z)\n",
    "```\n",
    "\n",
    "**Bemerkungen**\n",
    "- Funktionen sind Objekte wie alle anderen und k&ouml;nnen z.B. einer anderen FUnktion als Argument &uuml;ergeben werden (**functions** are **first class citizens**)\n",
    "- Die Funktion hat ihre eigenen lokalen (**local**) Variabeln.   \n",
    "  Variabeln, die im Funktionsbody definiert werden, &uuml;berschreiben \n",
    "  ausserhalb der Funktion definierte Variablen nicht.\n",
    "  Nach der Ausf&uuml;hrung der Funktion werden die lokalen Variabeln wieder gel&ouml;scht (**garbage collection**)\n",
    "\n",
    "- Im Funktionsbody hat man **Lesezugriff** auf ausserhalb der Funktion definierte Variabeln, sofern diese nicht durch lokale Variabeln verdeckt (**shadowed**) sind."
   ]
  },
  {
   "cell_type": "markdown",
   "id": "25d409db-6899-4bab-bd3a-7109ba0c8980",
   "metadata": {},
   "source": [
    "### Beispiele"
   ]
  },
  {
   "cell_type": "code",
   "execution_count": null,
   "id": "8850e9c6-2bec-4cf8-a211-eece93bb4e9c",
   "metadata": {},
   "outputs": [],
   "source": [
    "# die einfachste Funktion in Python, tut nichts und gibt None zurueck\n",
    "def do_nothing():\n",
    "    '''tut nichts, gibt None zurueck'''\n",
    "    pass\n",
    "\n",
    "print(do_nothing())\n",
    "help(do_nothing)"
   ]
  },
  {
   "cell_type": "code",
   "execution_count": null,
   "id": "e8a08880-5e2d-478c-b450-7264839491c5",
   "metadata": {},
   "outputs": [],
   "source": [
    "def return_args(x, y):\n",
    "    '''gibt das Tuple (x, y) zurueck'''\n",
    "    return x, y\n",
    "\n",
    "# help(return_args)\n",
    "t = return_args(1, 2)\n",
    "print(type(t), t, sep = ', ') \n",
    "\n",
    "x, y = return_args('first', 'second') \n",
    "print('1. Argument: {}\\n2. Argument: {}'.format(x, y))"
   ]
  },
  {
   "cell_type": "code",
   "execution_count": null,
   "id": "741f998f-a1d7-4d15-a7e2-72249b65c87d",
   "metadata": {},
   "outputs": [],
   "source": [
    "def say_hello(name):\n",
    "    print('Hello ' + name)\n",
    "\n",
    "say_hello('Bob')    "
   ]
  },
  {
   "cell_type": "markdown",
   "id": "5837dec2-c85e-4359-9d2f-dee5e9eb6d01",
   "metadata": {},
   "source": [
    "***\n",
    "Functions are first class citizens\n",
    "***"
   ]
  },
  {
   "cell_type": "code",
   "execution_count": null,
   "id": "0a6b396e-2364-4dcd-b967-740d15c3e4a6",
   "metadata": {},
   "outputs": [],
   "source": [
    "def apply_fun(f, x):\n",
    "    '''fuehrt  f(x) aus'''\n",
    "    f(x)\n",
    "    \n",
    "apply_fun(say_hello, 'Alice')    "
   ]
  },
  {
   "cell_type": "markdown",
   "id": "fad43bbe-f6f2-4ed5-878f-3825200a75da",
   "metadata": {},
   "source": [
    "### Aufgabe\n",
    "Schreibe eine Funktion, die nach Name und Jahrgang fr&auml;gt, und Name und Alter ausgibt.  "
   ]
  },
  {
   "cell_type": "code",
   "execution_count": null,
   "id": "03e68fc6-c656-4079-9f41-d5188160a2e4",
   "metadata": {},
   "outputs": [],
   "source": [
    "YEAR = 2022\n",
    "def f():\n",
    "    # <dein Code>\n",
    "\n",
    "# f()"
   ]
  },
  {
   "cell_type": "markdown",
   "id": "cf6a2f6b-d434-4e60-85e6-c17bb493859f",
   "metadata": {},
   "source": [
    "### Lesezugriff auf globale Variabeln, lokale Variablen"
   ]
  },
  {
   "cell_type": "code",
   "execution_count": null,
   "id": "b0ad5c1b-0835-48dd-827e-9b137729ad1a",
   "metadata": {},
   "outputs": [],
   "source": [
    "x  = 1 # (globales x)\n",
    "def read_global_x():\n",
    "    print('read_global_x says: x = {}'.format(x)) \n",
    "    \n",
    "def shadow_x():\n",
    "    x = 0     # erstellt lokale Variable x\n",
    "    print('local x = {}'.format(x))  # lokales x verdeckt (shadows) globales x\n",
    "\n",
    "print('global x =', x)    \n",
    "read_global_x()\n",
    "shadow_x()\n",
    "print('global x =', x)"
   ]
  },
  {
   "cell_type": "code",
   "execution_count": null,
   "id": "a227b4e5-2b02-49c9-9010-804ffa309c7d",
   "metadata": {},
   "outputs": [],
   "source": [
    "def g():\n",
    "    local_y = 0\n",
    "    print(local_y)\n",
    "    \n",
    "g()\n",
    "# print(local_y) # NameError: name 'local_y' is not defined"
   ]
  },
  {
   "cell_type": "code",
   "execution_count": null,
   "id": "d3d4829b-c066-40e6-8c1a-e476021ec755",
   "metadata": {},
   "outputs": [],
   "source": [
    "x = 1\n",
    "def f(x):\n",
    "    print('local x:', x) # x is a local variable \n",
    "    \n",
    "f(10)    \n",
    "print('global x:', x)"
   ]
  },
  {
   "cell_type": "code",
   "execution_count": null,
   "id": "2c799303-29a2-4c36-81db-8ca8fd121bc0",
   "metadata": {},
   "outputs": [],
   "source": [
    "lst = [1,2]\n",
    "def append_to_list(item):\n",
    "    lst.append(item) # Lesezugriff auf Methode append von lst\n",
    "    \n",
    "print(lst)    \n",
    "append_to_list(3)\n",
    "lst"
   ]
  },
  {
   "cell_type": "code",
   "execution_count": null,
   "id": "deaa22a8-92e0-4eed-8be7-9e0034032e80",
   "metadata": {},
   "outputs": [],
   "source": [
    "lst = [1,2]\n",
    "def modify_list():\n",
    "    lst[0] = 'changed' # kein Schreibzugriff,\n",
    "                       # Lesezugriff auf Methode __setitem__\n",
    "                       # ruft lst.__setitem__(0, 'changed') auf\n",
    "\n",
    "print(lst)\n",
    "modify_list()\n",
    "lst"
   ]
  },
  {
   "cell_type": "markdown",
   "id": "192d2b1f-93d6-494b-8e39-39898a3ab433",
   "metadata": {},
   "source": [
    "### Aufgabe\n",
    "Wieso funktioniert nur die eine Variante?  \n",
    "Hinweise: Bei Zahlen und Strings ist ```x += 1``` ist das gleiche wie ```x = x + 1```. \n",
    "\n",
    "**Variante 1**\n",
    "```python\n",
    "counter = 0\n",
    "def f():\n",
    "    counter += 1\n",
    "    \n",
    "f()\n",
    "print(counter)   \n",
    "```\n",
    "\n",
    "**Variante 2**\n",
    "```python\n",
    "counters = [0]\n",
    "def g():\n",
    "    counters[0] += 1\n",
    "    \n",
    "g()\n",
    "print(counters[0])   \n",
    "```"
   ]
  },
  {
   "cell_type": "markdown",
   "id": "9aa473f7-7745-4f74-9308-ad354e1067ea",
   "metadata": {},
   "source": [
    "***\n",
    "Die **Rolle** eines Variablenamens innerhalb einer Funktion **muss \n",
    "eindeutig** sein:  \n",
    "Wird einer Variable im Funktionsbody ein Wert zugewiesen, so kann diese Variable nicht an anderer Stelle im \n",
    "Funktionsbody als globale Variable verwendet werden\n",
    "***"
   ]
  },
  {
   "cell_type": "code",
   "execution_count": null,
   "id": "2ce64a94-9dfa-472d-b202-39360bef6b35",
   "metadata": {},
   "outputs": [],
   "source": [
    "x = 0\n",
    "def f():\n",
    "    print('global x is', x) \n",
    "    # x = 2 # x wird nun im ganzen Funktionsbody als\n",
    "          # lokale Variable behandelt\n",
    "\n",
    "f()"
   ]
  },
  {
   "cell_type": "code",
   "execution_count": null,
   "id": "d81a880f-100a-4c46-9cb7-108f87804573",
   "metadata": {},
   "outputs": [],
   "source": []
  }
 ],
 "metadata": {
  "kernelspec": {
   "display_name": "Python 3 (ipykernel)",
   "language": "python",
   "name": "python3"
  },
  "language_info": {
   "codemirror_mode": {
    "name": "ipython",
    "version": 3
   },
   "file_extension": ".py",
   "mimetype": "text/x-python",
   "name": "python",
   "nbconvert_exporter": "python",
   "pygments_lexer": "ipython3",
   "version": "3.9.10"
  }
 },
 "nbformat": 4,
 "nbformat_minor": 5
}
