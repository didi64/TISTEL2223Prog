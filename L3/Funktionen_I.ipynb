{
 "cells": [
  {
   "cell_type": "markdown",
   "id": "b768fa49-f920-4ede-a1dc-0dc655920813",
   "metadata": {},
   "source": [
    "### Funktionen\n",
    "- eine Funktion erlaubt es,  einer Variable (eine Referenz auf einen) Codeblock (Folge von Anweisungen) zuzuweisen und bei Bedarf auszuf&uuml;hren. Der Funktion k&ouml;nnen \n",
    "(Referenzen auf) Objekte &uuml;bergeben werden, auf welche die Funktion Zugriff hat.  Eine Funktion `f()` kann (Referenzen auf) Objekte zur&uuml;ckgeben, der Wert der Ausdrucks `f()`, welcher\n",
    "mittels\n",
    "`x = f()`\n",
    "der Variable `x` zugewiesen werden.\n",
    "\n",
    "- Funktionen erm&ouml;glichen es, ein Programm zu strukturieren, d.h.    Programmteile als Funktionen auszulagern.\n",
    " \n",
    " \n",
    "  \n",
    "- Eine Funktionsdefinition hat die Form  \n",
    "\n",
    "```python\n",
    "def <functionname>(<variable(s)>):\n",
    "    '''Hilfstext zur Funktion''' # docstring\n",
    "    <statements> \n",
    "    return <expression(s)> # optional\n",
    "\n",
    "```\n",
    "- Eine Funktionsaufruf hat die Form  \n",
    "\n",
    "```python\n",
    "<functionname>(<expression(s)>)\n",
    "```\n",
    "Die Werte der ```<expression(s)>``` werden den ```<variable(s)>``` an den entsprechenden Positionen in der Funktionsdefinition zugewiesen.\n",
    "\n",
    "\n",
    "- Der Docstring wird z.B. durch ```help(<functionname>)``` ausgegeben.\n",
    "Er soll die Funktion kurz dokumentieren.\n",
    "\n",
    "Der einger&uuml;ckte Codeblock wird auch **function body** oder kurz **body** genannt.\n",
    "- Gibt eine Funktion ```f()``` mehrere Werte zur&uuml;ck, werden diese\n",
    "   automatisch in ein Tupel gepackt.  \n",
    "   Fehlt das return-Statement, wird automatisch `None` zur&uuml;ckgegeben.\n",
    "   \n",
    "**Bemerkungen**\n",
    "- Die Funktion hat ihre eigenen lokalen (**local**) Variabeln.   \n",
    "  Variabeln, die im Funktionsbody definiert werden, &uuml;berschreiben \n",
    "  ausserhalb der Funktion definierte Variablen nicht.\n",
    "  Nach der Ausf&uuml;hrung der Funktion werden die lokalen Variabeln wieder gel&ouml;scht (**garbage collection**)\n",
    "\n",
    "- Im Funktionsbody hat man **Lesezugriff** auf ausserhalb der Funktion definierte Variabeln, sofern diese nicht durch lokale Variabeln verdeckt (**shadowed**) sind."
   ]
  },
  {
   "cell_type": "markdown",
   "id": "25d409db-6899-4bab-bd3a-7109ba0c8980",
   "metadata": {},
   "source": [
    "### Beispiele"
   ]
  },
  {
   "cell_type": "code",
   "execution_count": 1,
   "id": "8850e9c6-2bec-4cf8-a211-eece93bb4e9c",
   "metadata": {},
   "outputs": [
    {
     "name": "stdout",
     "output_type": "stream",
     "text": [
      "None\n",
      "Help on function do_nothing in module __main__:\n",
      "\n",
      "do_nothing()\n",
      "    tut nichts, gibt None zurueck\n",
      "\n"
     ]
    }
   ],
   "source": [
    "# die einfachste Funktion in Python, tut nichts und gibt None zurueck\n",
    "def do_nothing():\n",
    "    '''tut nichts, gibt None zurueck'''\n",
    "    pass\n",
    "\n",
    "print(do_nothing())\n",
    "help(do_nothing)"
   ]
  },
  {
   "cell_type": "code",
   "execution_count": 2,
   "id": "e8a08880-5e2d-478c-b450-7264839491c5",
   "metadata": {},
   "outputs": [
    {
     "name": "stdout",
     "output_type": "stream",
     "text": [
      "Help on function return_args in module __main__:\n",
      "\n",
      "return_args(x, y)\n",
      "    gibt x,y wieder zurueck\n",
      "\n",
      "(1, 2)\n",
      "a b\n"
     ]
    }
   ],
   "source": [
    "def return_args(x, y):\n",
    "    '''gibt x,y wieder zurueck'''\n",
    "    return x, y\n",
    "\n",
    "help(return_args)\n",
    "t = return_args(1, 2)\n",
    "print(t) # tuple, die 2 Ruckgabewerte werden in Tuple gepackt\n",
    "\n",
    "x, y = return_args('a', 'b') \n",
    "print(x, y)"
   ]
  },
  {
   "cell_type": "code",
   "execution_count": 3,
   "id": "741f998f-a1d7-4d15-a7e2-72249b65c87d",
   "metadata": {},
   "outputs": [
    {
     "name": "stdout",
     "output_type": "stream",
     "text": [
      "hello Bob\n"
     ]
    }
   ],
   "source": [
    "def prefix_with_hello(name):\n",
    "    '''prints 'hello ' + name'''\n",
    "    print('hello ' + name)\n",
    "\n",
    "prefix_with_hello('Bob')    "
   ]
  },
  {
   "cell_type": "code",
   "execution_count": 4,
   "id": "0a6b396e-2364-4dcd-b967-740d15c3e4a6",
   "metadata": {},
   "outputs": [
    {
     "name": "stdout",
     "output_type": "stream",
     "text": [
      "hello Alice\n"
     ]
    }
   ],
   "source": [
    "def call_fun(f, x):\n",
    "    '''fuehrt  f(x) aus'''\n",
    "    f(x)\n",
    "    \n",
    "call_fun(prefix_with_hello, 'Alice')    "
   ]
  },
  {
   "cell_type": "markdown",
   "id": "fad43bbe-f6f2-4ed5-878f-3825200a75da",
   "metadata": {},
   "source": [
    "### Aufgabe\n",
    "- Schreibe eine Funktion, die nach Name und Jahrgang fr&auml;gt, und Name und Alter ausgibt.  \n",
    "- Modifiziere die Funktion so, dass das Tuple (Name, Alter) an eine  Liste anh&auml;ngt wird."
   ]
  },
  {
   "cell_type": "code",
   "execution_count": null,
   "id": "03e68fc6-c656-4079-9f41-d5188160a2e4",
   "metadata": {},
   "outputs": [],
   "source": [
    "YEAR = 2022\n",
    "data = []\n",
    "def f():\n",
    "    # <dein Code>\n",
    "\n",
    "# f()"
   ]
  },
  {
   "cell_type": "markdown",
   "id": "cf6a2f6b-d434-4e60-85e6-c17bb493859f",
   "metadata": {},
   "source": [
    "### Lesezugriff auf globale Variabeln, lokale Variablen"
   ]
  },
  {
   "cell_type": "code",
   "execution_count": null,
   "id": "b0ad5c1b-0835-48dd-827e-9b137729ad1a",
   "metadata": {},
   "outputs": [],
   "source": [
    "x  = 1 # (globales x)\n",
    "def read_x():\n",
    "    print(x) \n",
    "    \n",
    "def shadow_x():\n",
    "    x = 0     # erstellt lokale Variable x\n",
    "    print('local x:', x)  # lokales x verdeckt (shadows) globales x\n",
    "\n",
    "read_x()\n",
    "shadow_x()\n",
    "print('global x still the same:', x)"
   ]
  },
  {
   "cell_type": "code",
   "execution_count": null,
   "id": "a227b4e5-2b02-49c9-9010-804ffa309c7d",
   "metadata": {},
   "outputs": [],
   "source": [
    "def local_var():\n",
    "    local_y = 0\n",
    "    print(local_y)\n",
    "    \n",
    "local_var()\n",
    "# print(local_y) # NameError: name 'local_y' is not defined"
   ]
  },
  {
   "cell_type": "code",
   "execution_count": null,
   "id": "d3d4829b-c066-40e6-8c1a-e476021ec755",
   "metadata": {},
   "outputs": [],
   "source": [
    "x = 1\n",
    "def f(x):\n",
    "    print('local x:', x) # x is a local variable \n",
    "    \n",
    "f(10)    \n",
    "print('global x still the same:', x)"
   ]
  },
  {
   "cell_type": "code",
   "execution_count": null,
   "id": "2c799303-29a2-4c36-81db-8ca8fd121bc0",
   "metadata": {},
   "outputs": [],
   "source": [
    "l = [1,2]\n",
    "def append_to_l():\n",
    "    l.append(3) #Lesezugriff auf Methode append von l\n",
    "    \n",
    "append_to_l()\n",
    "l"
   ]
  },
  {
   "cell_type": "code",
   "execution_count": null,
   "id": "deaa22a8-92e0-4eed-8be7-9e0034032e80",
   "metadata": {},
   "outputs": [],
   "source": [
    "l = [1,2]\n",
    "def modify_l():\n",
    "    l[0] = 'changed' # Lesezugriff, ok \n",
    "                     # (Lesezugriff auf Methode __setitem__\n",
    "                     #  ruft l.__setitem__(0, 'changed') auf)\n",
    "    \n",
    "modify_l()\n",
    "l"
   ]
  },
  {
   "cell_type": "markdown",
   "id": "192d2b1f-93d6-494b-8e39-39898a3ab433",
   "metadata": {},
   "source": [
    "### Aufgaben\n",
    "- Wieso funktioniert nur die eine Variante?  \n",
    "Hinweise: ```x += 1``` ist das gleiche wie ```x = x + 1``` bei Zahlen und Strings. \n",
    "\n",
    "**Variante 1**\n",
    "```python\n",
    "counter = 0\n",
    "def f():\n",
    "    counter += 1\n",
    "    \n",
    "for i in range(10):\n",
    "    f()\n",
    "print(counter)   \n",
    "```\n",
    "\n",
    "**Variante 2**\n",
    "```python\n",
    "counters = [0]\n",
    "def g():\n",
    "    counters[0] += 1\n",
    "    \n",
    "for i in range(10):\n",
    "    g()\n",
    "print(counters[0])   \n",
    "```"
   ]
  }
 ],
 "metadata": {
  "kernelspec": {
   "display_name": "Python 3 (ipykernel)",
   "language": "python",
   "name": "python3"
  },
  "language_info": {
   "codemirror_mode": {
    "name": "ipython",
    "version": 3
   },
   "file_extension": ".py",
   "mimetype": "text/x-python",
   "name": "python",
   "nbconvert_exporter": "python",
   "pygments_lexer": "ipython3",
   "version": "3.9.10"
  }
 },
 "nbformat": 4,
 "nbformat_minor": 5
}
