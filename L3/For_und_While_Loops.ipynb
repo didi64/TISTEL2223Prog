{
 "cells": [
  {
   "cell_type": "markdown",
   "id": "29838a57-3e93-4f3e-a455-3262bc99fc8b",
   "metadata": {},
   "source": [
    "### Kontrollstrukturen\n",
    "\n",
    "Kontrollstrukturen (**Schleifen** und **bedingte Anweisung**) steuern den \n",
    "Ablauf eines Programms.\n",
    "- bedingte Anweisung: Programmteile werden nur unter bestimmten Bedingungen ausgef&uuml;hrt \n",
    "- Schleifen: Programmteile werden wiederholt ausgef&uuml;hrt"
   ]
  },
  {
   "cell_type": "markdown",
   "id": "d5bc4549-62b8-4981-8cc6-f2e0b8496865",
   "metadata": {},
   "source": [
    "### For-Schleifen\n",
    "```python\n",
    "for <loop_variable(s)> in <iterable>:\n",
    "    <statements>\n",
    "```\n",
    "**Erl&auml;uterung**:  \n",
    "Beim 1. Schleifendurchlauf wird das 1. Element (nennen wir es `item1`) des `<iterable>` (z.B eine Liste) den `<loop_variable(s)>` zugewiesen. \n",
    "Gibt es nur eine Schleifenvariable, so referenziert diese nun `item1`.\n",
    "Hat man mehrere Schleifenvariablen, z.B. `x` und `y`, \n",
    "so wird das Element ausgepackt:\n",
    "> `x, y = item1`    \n",
    "  \n",
    "Beim 2. Schleifendurchlauf wird das 2. Objekt des Iterables den Schleifenvariablen  zugewiesen, u.s.w. \n",
    "\n",
    "**Bemerkungen**:\n",
    "- For-Schleifen **terminieren** immer\n",
    "- Die Schleifenvariablen **sollten** im Body des For-Loops **nicht** modifiziert werden (undefiniertes Verhalten!)\n",
    "\n",
    "\n",
    "**zip** und **enumerate**:  \n",
    "Mittels **`enumerate`** und **`zip`** kann man aus einem `<iterable>` ein neues `<iterable>` kreiern.\n",
    "\n",
    "Sei `lst = ['Anna', 'Bob'], s='AB'`   \n",
    "- `enumerate(lst)` verh&auml;lt sich  wie `[(0, 'Anna'), (1, 'Bob')]`   \n",
    "   (die Elemente des Iterables werden erst bei Bedarf erzeugt)\n",
    "- zip wie zipper (Reissverschluss)  \n",
    "  `zip(s, lst)` verh&auml;lt sich  wie `[('A', 'Anna'), ('B', 'Bob')]`  \n",
    "  (die Elemente des Iterables werden erst bei Bedarf erzeugt).  \n",
    "  Die Elemente der beiden Iterables werden **reissverschussartig** \n",
    "  in Tuples gepackt.  \n",
    "  `zip` kann auf mehr als 2 Iterables angewendet werden.\n",
    " `zip(...)` liefert soviele Elemente wie das k&uuml;rzeste Argument Argument.\n",
    "  \n",
    "  "
   ]
  },
  {
   "cell_type": "code",
   "execution_count": null,
   "id": "f116dc4e-7e56-49a7-810d-a1997d7835d8",
   "metadata": {},
   "outputs": [],
   "source": [
    "# i durchlaeuft 0,1,2\n",
    "for i in range(3):\n",
    "    print('i = {}'.format(i))"
   ]
  },
  {
   "cell_type": "code",
   "execution_count": null,
   "id": "b0fb21f1-e76d-48ea-b66b-d68ef23ce458",
   "metadata": {},
   "outputs": [],
   "source": [
    "# i durchlauft 5, 6, 7\n",
    "for i in range(5, 8):\n",
    "    print(i, end = ', ')"
   ]
  },
  {
   "cell_type": "code",
   "execution_count": null,
   "id": "d4584abb-68ad-4c5a-a419-d5c13eb29f6c",
   "metadata": {},
   "outputs": [],
   "source": [
    "names = ['Alice', 'Bob', 'Carl']\n",
    "for name in names:\n",
    "    print(name, end = ', ')\n",
    "    "
   ]
  },
  {
   "cell_type": "markdown",
   "id": "f155d9c2-1b9a-4c8b-bbea-9308ce47b263",
   "metadata": {},
   "source": [
    "***\n",
    "enumerate\n",
    "***"
   ]
  },
  {
   "cell_type": "code",
   "execution_count": null,
   "id": "05a62ebe-70ca-4641-b010-83e9191abd61",
   "metadata": {},
   "outputs": [],
   "source": [
    "names = ('Alice', 'Bob', 'Carl')\n",
    "for tp in enumerate(names):  \n",
    "    print(tp)\n",
    "    \n",
    "# iterable in Liste umwandeln und ausgeben    \n",
    "print(list(enumerate(names)))    "
   ]
  },
  {
   "cell_type": "code",
   "execution_count": null,
   "id": "b44a7c01-d892-4ede-b52c-f4c0daf4b976",
   "metadata": {},
   "outputs": [],
   "source": [
    "names = ['Alice', 'Bob', 'Carl']\n",
    "for i, name in enumerate(names):\n",
    "    print(i, name)"
   ]
  },
  {
   "cell_type": "markdown",
   "id": "12ec19c7-11e1-45cc-a94c-35f4e2357fbb",
   "metadata": {},
   "source": [
    "***\n",
    "zip\n",
    "***"
   ]
  },
  {
   "cell_type": "code",
   "execution_count": null,
   "id": "2334a7a3-caca-481b-9a37-dbbad33a88fd",
   "metadata": {},
   "outputs": [],
   "source": [
    "names = ['Alice', 'Bob', 'Carl']\n",
    "last_names = ['Anderson', 'Baker', 'Carter']\n",
    "\n",
    "for name in zip(names, last_names):\n",
    "    print(name, end = ', ')\n",
    "    \n",
    "print()    \n",
    "\n",
    "for fn, ln in zip(names, last_names):\n",
    "     print(fn, ln, end = ', ')     "
   ]
  },
  {
   "cell_type": "code",
   "execution_count": null,
   "id": "4bc66287-4f5e-4407-8615-1a7c3963f51c",
   "metadata": {},
   "outputs": [],
   "source": [
    "names = ['Alice', 'Bob', 'Carl']\n",
    "last_names = ['Anderson', 'Baker', 'Carter']\n",
    "numbers = (1, 2)\n",
    "\n",
    "iterable = zip(numbers, names, last_names)\n",
    "list(iterable)"
   ]
  },
  {
   "cell_type": "markdown",
   "id": "284a478e-bc73-484c-8212-308ebadc60de",
   "metadata": {},
   "source": [
    "***\n",
    "zip und enumerate kombiniert\n",
    "***"
   ]
  },
  {
   "cell_type": "code",
   "execution_count": null,
   "id": "93707101-65c0-48dc-9dcb-85ab30596cfc",
   "metadata": {},
   "outputs": [],
   "source": [
    "for i, (fn, ln) in enumerate(zip(names, last_names)):\n",
    "     print(i, fn, ln)          "
   ]
  },
  {
   "cell_type": "markdown",
   "id": "950a20a3-fa35-4ece-9fdb-de210a996c67",
   "metadata": {},
   "source": [
    "### Aufgaben\n",
    "- Z&auml;hle die Zahlen von 1 bis 100 zusammen.  \n",
    "\n",
    "```python\n",
    "res = 0\n",
    "for i in ?:\n",
    "   # modifiziere res\n",
    "print(res)\n",
    "```\n",
    "\n",
    "- Gegeben sei eine Liste `words` mit W&ouml;rtern.\n",
    "  Bestimme die  L&auml;nge des l&auml;ngsten Wortes.  \n",
    "  **Hinweise**:\n",
    "  - `len('abc')` liefert die L&auml;nge des Strings `abc`.  \n",
    "  - `max(2, 5)` liefert das Maximum 2er Zahlen.\n",
    "  \n",
    "```python\n",
    "max_len = 0\n",
    "for w in words:\n",
    "   # modifiziere max_len\n",
    "print(max_len)\n",
    "```\n",
    "- Schreibe Code der  das gleiche macht ohne enumerate zu verwenden:\n",
    "```python\n",
    "for i, ch in enumerate('abc'):\n",
    "    print('Index: {}, Zeichen: {}'.format(i, ch))\n",
    "```  "
   ]
  },
  {
   "cell_type": "markdown",
   "id": "cf25c4db-8458-43f6-89ba-4f573f73b203",
   "metadata": {},
   "source": [
    "### While-Schleifen\n",
    "```python\n",
    "while <expression>:\n",
    "    <statements>\n",
    "```\n",
    "**Er&auml;uterung**:  \n",
    "Die ```<statements>``` im Codeblock werden wiederholt, solange ```<expression>``` wahr ist.  \n",
    "Genauer, solange ```bool(<expression>) == True```.\n",
    "\n",
    "**Bemerkungen**:\n",
    "- While-Schleifen k&ouml;nnen (oft unbeabsichtigt) **Endlosschleifen** sein!  \n",
    "  (Mit Interrupt Kernel im Kernel Menu ist die Zelle zu stoppen)  \n",
    "    \n",
    "- aus while-Schleifen kann man mit ```break``` ausbrechen.  \n",
    "  Oft werden while-Schleifen so gebraucht:\n",
    "    \n",
    "```python\n",
    "while True:\n",
    "    <statements>\n",
    "    if <expression>:\n",
    "        break\n",
    "```   \n",
    "\n",
    "- aus einer while-Schleifen innerhalb einer Funktion kann man auch mit `return` verlassen (und die Funktion damit)\n",
    "\n",
    "```python\n",
    "def f():\n",
    "    while True:\n",
    "        <statements>\n",
    "        if <expression>:\n",
    "            return\n",
    "```  "
   ]
  },
  {
   "cell_type": "markdown",
   "id": "7d15eb02-ec16-4b13-9a9b-e9e08a2ed427",
   "metadata": {},
   "source": [
    "***\n",
    "Beispiele\n",
    "***"
   ]
  },
  {
   "cell_type": "code",
   "execution_count": null,
   "id": "3fed437f-a6c5-4664-889b-79fc751fd5bb",
   "metadata": {},
   "outputs": [],
   "source": [
    "counter = 3\n",
    "while counter > 0:\n",
    "    print(counter, end=', ')\n",
    "    counter -= 1"
   ]
  },
  {
   "cell_type": "code",
   "execution_count": null,
   "id": "043424e0-db8b-4519-be76-91eb6e755f8c",
   "metadata": {},
   "outputs": [],
   "source": [
    "counter = 3\n",
    "while True:\n",
    "    print(counter, end=', ')\n",
    "    counter -= 1\n",
    "    \n",
    "    if counter <= 0:\n",
    "        break"
   ]
  },
  {
   "cell_type": "code",
   "execution_count": null,
   "id": "4c65d5c5-581b-4b2a-ba57-9cd0a92d7b12",
   "metadata": {},
   "outputs": [],
   "source": [
    "names = ['Alice', 'Bob', 'Carl']\n",
    "while names:\n",
    "    name = names.pop()\n",
    "    print(name)"
   ]
  },
  {
   "cell_type": "markdown",
   "id": "ddbbe3e4-806b-4100-852a-0062b2f037c4",
   "metadata": {},
   "source": [
    "### Aufgaben"
   ]
  },
  {
   "cell_type": "markdown",
   "id": "37211fa5-4a71-461a-b641-b103b82bc03c",
   "metadata": {},
   "source": [
    "- Schreibe eine Funktion `read_number(number)`, \n",
    "die solange nach einer   Zahl fr&auml;gt, bis die Zahl number eingegeben wird.\n",
    " \n",
    "- Schreibe eine Funktion `find_first(s, ch)`, \n",
    "die im String s die Position des ersten Auftretens des Zeichens ch findet und zur&uuml;ck gibt. Kommt ch nicht im String vor, wird -1 zur&uuml;ckgegeben."
   ]
  }
 ],
 "metadata": {
  "kernelspec": {
   "display_name": "Python 3 (ipykernel)",
   "language": "python",
   "name": "python3"
  },
  "language_info": {
   "codemirror_mode": {
    "name": "ipython",
    "version": 3
   },
   "file_extension": ".py",
   "mimetype": "text/x-python",
   "name": "python",
   "nbconvert_exporter": "python",
   "pygments_lexer": "ipython3",
   "version": "3.9.10"
  }
 },
 "nbformat": 4,
 "nbformat_minor": 5
}
