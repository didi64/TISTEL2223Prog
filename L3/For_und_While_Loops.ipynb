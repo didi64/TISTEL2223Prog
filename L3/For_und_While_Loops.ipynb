{
 "cells": [
  {
   "cell_type": "markdown",
   "id": "29838a57-3e93-4f3e-a455-3262bc99fc8b",
   "metadata": {},
   "source": [
    "### Kontrollstrukturen\n",
    "\n",
    "Kontrollstrukturen (**Schleifen** und **bedingte Anweisung**) steuern den \n",
    "Ablauf eines Programms.\n",
    "- bedingte Anweisung: Programmteile werden nur unter bestimmten Bedingungen ausgef&uuml;hrt \n",
    "- Schleifen: Programmteile werden wiederholt ausgef&uuml;hrt"
   ]
  },
  {
   "cell_type": "markdown",
   "id": "d5bc4549-62b8-4981-8cc6-f2e0b8496865",
   "metadata": {},
   "source": [
    "### For-Schleifen\n",
    "```\n",
    "for <loop_variable(s)> in <iterable>:\n",
    "    <statements> # body der for-Schleife\n",
    "```\n",
    "**Erl&auml;uterung**:  \n",
    "Beim 1. Schleifendurchlauf wird das 1. Element (nennen wir es `item1`) des `<iterable>` (z.B eine Liste) den `<loop_variable(s)>` zugewiesen. \n",
    "Gibt es nur eine Schleifenvariable, so referenziert diese nun `item1`.\n",
    "Hat man mehrere Schleifenvariablen, z.B. `x` und `y`, \n",
    "so wird das Element ausgepackt\n",
    "> `x, y = item1`    \n",
    "  \n",
    "Beim 2. Schleifendurchlauf wird das 2. Objekt des Iterables den Schleifenvariablen  zugewiesen, u.s.w. \n",
    "\n",
    "**Bemerkungen**:\n",
    "- For-Schleifen **terminieren** immer\n",
    "- Die Schleifenvariablen **sollten** im Body des For-Loops **nicht** modifiziert werden (undefiniertes Verhalten!)\n",
    "\n",
    "\n",
    "**zip und enumerate**:  \n",
    "Mittels **`enumerate`** und **`zip`** kann man aus einem `<iterable>` ein neues `<iterable>` erzeugen.\n",
    "\n",
    "Sei `l = ['Anna', 'Bob'], s='AB'`   \n",
    "- `enumerate(l)` verh&auml;lt sich  wie `[(0, 'Anna'), (1, 'Bob')]` \n",
    "- zip wie zipper (Reissverschluss)  \n",
    "  `zip(s,l)` verh&auml;lt sich  wie `[('A', 'Anna'), ('B', 'Bob')]`"
   ]
  },
  {
   "cell_type": "code",
   "execution_count": null,
   "id": "f116dc4e-7e56-49a7-810d-a1997d7835d8",
   "metadata": {},
   "outputs": [],
   "source": [
    "# i durchlaeuft 0,1,2\n",
    "for i in range(3):\n",
    "    print('hallo zum {}. Mal'.format(i))"
   ]
  },
  {
   "cell_type": "code",
   "execution_count": null,
   "id": "b0fb21f1-e76d-48ea-b66b-d68ef23ce458",
   "metadata": {},
   "outputs": [],
   "source": [
    "# i durchlauft 5, 6, 7\n",
    "for i in range(5, 8):\n",
    "    print(i, end = ', ')"
   ]
  },
  {
   "cell_type": "code",
   "execution_count": null,
   "id": "d4584abb-68ad-4c5a-a419-d5c13eb29f6c",
   "metadata": {},
   "outputs": [],
   "source": [
    "names = ['Alice', 'Bob', 'Carl']\n",
    "for name in names:\n",
    "    print(name, end = ', ')\n",
    "    "
   ]
  },
  {
   "cell_type": "code",
   "execution_count": null,
   "id": "05a62ebe-70ca-4641-b010-83e9191abd61",
   "metadata": {},
   "outputs": [],
   "source": [
    "names = ['Alice', 'Bob', 'Carl']\n",
    "for t in enumerate(names):  \n",
    "    print(t, end = ', ')"
   ]
  },
  {
   "cell_type": "code",
   "execution_count": null,
   "id": "b44a7c01-d892-4ede-b52c-f4c0daf4b976",
   "metadata": {},
   "outputs": [],
   "source": [
    "# enumerate\n",
    "names = ['Alice', 'Bob', 'Carl']\n",
    "for i, name in enumerate(names):\n",
    "    print(i, name)"
   ]
  },
  {
   "cell_type": "code",
   "execution_count": null,
   "id": "2334a7a3-caca-481b-9a37-dbbad33a88fd",
   "metadata": {},
   "outputs": [],
   "source": [
    "#zip, enumerate\n",
    "names = ['Alice', 'Bob', 'Carl']\n",
    "last_names = ['Anderson', 'Baker', 'Carter']\n",
    "\n",
    "for name in zip(names, last_names):\n",
    "    print(name, end = ', ')\n",
    "print()    \n",
    "\n",
    "for fn, ln in zip(names, last_names):\n",
    "     print(fn, ln, end = ', ')  \n",
    "print()       \n",
    "\n",
    "for i, (fn, ln) in enumerate(zip(names, last_names)):\n",
    "     print(i, fn, ln, end = ', ')          "
   ]
  },
  {
   "cell_type": "markdown",
   "id": "950a20a3-fa35-4ece-9fdb-de210a996c67",
   "metadata": {},
   "source": [
    "### Aufgaben\n",
    "- Z&auml;hle die zahlen von 1 bis 100 zusammen.  \n",
    "\n",
    "```python\n",
    "res = 0\n",
    "for i in ?:\n",
    "   update res\n",
    "print(res)\n",
    "```\n",
    "\n",
    "- Gegeben sei eine Liste `words` mit W&ouml;rtern.\n",
    "  Bestimme die  L&auml;nge des l&auml;ngsten Wortes.  \n",
    "  **Hinweise**:\n",
    "  - `len('abc')` liefert die L&auml;nge des Strings `abc`.  \n",
    "  - `max(2, 5)` liefert das Maximum 2er Zahlen.\n",
    "  \n",
    "```python\n",
    "max_len = 0\n",
    "for w in words:\n",
    "   benutze len und max um den Wert von max_len zu aktuallisieren\n",
    "print(max_len)\n",
    "```\n",
    "- Schreibe Code der  das gleiche macht wie\n",
    "```python\n",
    "for i, ch in enumerate('abc'):\n",
    "    print(i, ch)\n",
    "```  \n",
    "  - ohne enumerate\n",
    "  - mit zip statt enumerate  "
   ]
  },
  {
   "cell_type": "markdown",
   "id": "cf25c4db-8458-43f6-89ba-4f573f73b203",
   "metadata": {},
   "source": [
    "### While-Schleifen\n",
    "```\n",
    "while <expression>:\n",
    "    <statements>\n",
    "```\n",
    "**Er&auml;uterung**:  \n",
    "Die ```<statements>``` im Codeblock werden wiederholt, solange ```<expression>``` wahr ist.  \n",
    "Genauer, solange ```bool(<expression>) == True```.\n",
    "\n",
    "**Bemerkungen**:\n",
    "- While-Schleifen k&ouml;nnen (oft unbeabsichtigt) **Endlosschleifen** sein!  \n",
    "  (Mit Interrupt Kernel im Kernel Menu ist die Zelle zu stoppen)  \n",
    "    \n",
    "- aus while-Schleifen kann man mit ```break``` ausbrechen.  \n",
    "  Oft werden while-Schleifen so gebraucht:\n",
    "    \n",
    "```\n",
    "while True:\n",
    "    <statements>\n",
    "    if <condition>:\n",
    "        break\n",
    "```   "
   ]
  },
  {
   "cell_type": "code",
   "execution_count": null,
   "id": "3fed437f-a6c5-4664-889b-79fc751fd5bb",
   "metadata": {},
   "outputs": [],
   "source": [
    "counter = 3\n",
    "while counter > 0:\n",
    "    print(counter, end=', ')\n",
    "    counter -= 1"
   ]
  },
  {
   "cell_type": "code",
   "execution_count": null,
   "id": "043424e0-db8b-4519-be76-91eb6e755f8c",
   "metadata": {},
   "outputs": [],
   "source": [
    "counter = 3\n",
    "while True:\n",
    "    print(counter, end=', ')\n",
    "    counter -= 1\n",
    "    \n",
    "    if counter <= 0:\n",
    "        break"
   ]
  },
  {
   "cell_type": "code",
   "execution_count": null,
   "id": "4c65d5c5-581b-4b2a-ba57-9cd0a92d7b12",
   "metadata": {},
   "outputs": [],
   "source": [
    "names = ['Alice', 'Bob', 'Carl']\n",
    "while names:\n",
    "    name = names.pop()\n",
    "    print(name)"
   ]
  },
  {
   "cell_type": "markdown",
   "id": "73bdbce7-58aa-4d4b-a5f0-54c4bf19bf23",
   "metadata": {},
   "source": [
    "### Aufgabe\n",
    "Schreibe Code, der solange nach einer Zahl frägt, bis die Zahl NBR eingegeben wird.\n",
    "\n",
    "- Variante 1\n",
    "```python\n",
    "NBR = 5\n",
    "while True:\n",
    "    <n einlesen, ...>\n",
    "    \n",
    "    if n == NBR:\n",
    "        break\n",
    "```  \n",
    "\n",
    "\n",
    "- Variante 2\n",
    "```python\n",
    "NBR = 5\n",
    "n = None\n",
    "while n != NBR: # True falls n ungleich NBR\n",
    "    <dein Code>\n",
    "```\n",
    "        "
   ]
  },
  {
   "cell_type": "markdown",
   "id": "ddbbe3e4-806b-4100-852a-0062b2f037c4",
   "metadata": {},
   "source": [
    "### Aufgaben"
   ]
  },
  {
   "cell_type": "markdown",
   "id": "37211fa5-4a71-461a-b641-b103b82bc03c",
   "metadata": {},
   "source": [
    "- Schreibe eine Funktion [fizzbuzz(n)](https://en.wikipedia.org/wiki/Fizz_buzz)    \n",
    "  - ist `n` durch 3 teilbar und nicht durch 5, gib 'fizz' aus,\n",
    "  - ist `n` durch 5 teilbar und nicht durch 3, gib 'buzz' aus,\n",
    "  - ist `n` durch 3 und 5 teilbar, gib 'fizzbuzz' aus,\n",
    "  - ist `n` weder durch 3 noch durch 5 teilbar, gib die Zahl als **String** aus.  \n",
    "  - **Hints**: Ganzzahl Division und Division mit Rest\n",
    "      - `x % y` gibt den ganzzahligen Rest der Division x/y zur&uuml;ck (```11 % 3 = 2```) \n",
    "    - `x // y` gibt `x/y` als Integer (abgerundet) zur&uuml;ck (```11 // 3 = 3```).  \n",
    "\n",
    "- Programmiere die Funktion \n",
    "$$\\text{sign}(x) = \\begin{cases}\n",
    "1&: \\text{falls }x>0,\\\\\n",
    "0&: \\text{falls }x=0,\\\\\n",
    "-1&:\\text{falls } x<0.\n",
    "\\end{cases}$$  \n",
    "\n",
    "- Benutze die Funktion ```sign``` um eine Funktion ```eval_guess(guess, nbr)``` zu schreiben, welche \n",
    "0, 1, oder -1 zur&uuml;ck gibt, je nachdem ob guess gleich nbr, guess zu gross oder zu klein ist.\n",
    "\n",
    "\n",
    "- Modifiziere ```eval_guess(guess, nbr)``` so, dass sie\n",
    "nun 2 Werte zur&uuml;ck gibt:\n",
    "Der 1. Wert ist entweder ```True``` oder ```False```, der 2. Wert wie gehabt.\n",
    "\n",
    "- Benutze den Dictionary\n",
    "```python\n",
    "comments = {1: 'too big', \n",
    "            0: 'correct', \n",
    "            -1:'too small',\n",
    "           }\n",
    "```\n",
    "um eine neue Version von ```eval_guess(guess, nbr)``` zu schreiben, welche nun als 2. Wert\n",
    "'correct', 'too big' und 'too small' anstelle von 0,1,-1 zur&uuml;ck gibt.\n",
    "\n",
    "- Schreibe Code, der solange nach einer Zahl fr&auml;gt, bis 5 eingegeben wird.\n",
    "  Gib jeweils aus, ob die eingegebene Zahl 'too big', 'correct' oder 'too small' ist.\n",
    "  \n",
    "- Schreibe eine Funktion ```play_game(lower, upper)```, welche eine Zufallszahl zwischen lower und upper erraten l&auml;sst. Benutze ```eval_guess(guess, nbr)```.\n",
    "\n",
    "- Erweitere ```play_game(lower, upper)```, so dass  f&uuml;r jeden Versuch ein Tupel\n",
    "der Form ```(5, 'too small')``` zu einer \n",
    "Liste ```history``` hinzugef&uuml;gt wird.\n",
    "Gib Anzahl Versuche und die ```history``` aus."
   ]
  },
  {
   "cell_type": "code",
   "execution_count": null,
   "id": "3451454d-b66a-48d6-896b-3df9649b14ae",
   "metadata": {},
   "outputs": [],
   "source": [
    "def sign(n):\n",
    "    '''returns the sign of the number n'''\n",
    "    \n",
    "    \n",
    "    return res"
   ]
  },
  {
   "cell_type": "code",
   "execution_count": null,
   "id": "0a187e97-afc7-4a78-ace1-7ebb56b04f97",
   "metadata": {},
   "outputs": [],
   "source": [
    "def eval_guess(guess, nbr):\n",
    "    # betrachte Vorzeichen von guess - n\n",
    "    "
   ]
  },
  {
   "cell_type": "code",
   "execution_count": null,
   "id": "3f5da4aa-4e90-46c8-9db2-17dfd86781cc",
   "metadata": {},
   "outputs": [],
   "source": [
    "def eval_guess(guess, n):\n",
    "    '''returns a tuple (is_ok, comment)\n",
    "       is_ok: True, if guess equals n\n",
    "       comment: 'too big', 'correct' or 'too small'\n",
    "    '''\n",
    "    comments = {1: 'too big', \n",
    "                0: 'correct', \n",
    "                -1:'too small',\n",
    "               }\n",
    "    \n",
    "    # berechne key\n",
    "    return is_ok, comments[key]"
   ]
  },
  {
   "cell_type": "code",
   "execution_count": null,
   "id": "a0ea4a0b-4124-41f6-9219-06a44b835da7",
   "metadata": {},
   "outputs": [],
   "source": [
    "# Nach Zahl fragen, bis 5 eingegeben wird\n",
    "LOWER = 1\n",
    "UPPER = 10\n",
    "NBR   = 5\n",
    "\n",
    "n = None\n",
    "while n != NBR: # n ungleich NBR"
   ]
  },
  {
   "cell_type": "code",
   "execution_count": null,
   "id": "1980021e-ba6e-4caf-ab23-d07fe99872f8",
   "metadata": {},
   "outputs": [],
   "source": [
    "# play_game(lower, upper)\n",
    "import random\n",
    "def play_game(lower=0, upper=10):\n",
    "    nbr = random.randint(lower, upper)\n",
    "   \n",
    "    n = None\n",
    "    while n != NBR:       \n",
    "        # <dein Code> "
   ]
  },
  {
   "cell_type": "code",
   "execution_count": 2,
   "id": "40d968ce-7c5d-4405-928c-d9bd1c9b86f8",
   "metadata": {},
   "outputs": [],
   "source": [
    "import random\n",
    "def play_game(lower=0, upper=10):\n",
    "    nbr = random.randint(lower, upper)\n",
    "    history = []\n",
    "    # <dein Code>\n",
    "    print(history)    "
   ]
  }
 ],
 "metadata": {
  "kernelspec": {
   "display_name": "Python 3 (ipykernel)",
   "language": "python",
   "name": "python3"
  },
  "language_info": {
   "codemirror_mode": {
    "name": "ipython",
    "version": 3
   },
   "file_extension": ".py",
   "mimetype": "text/x-python",
   "name": "python",
   "nbconvert_exporter": "python",
   "pygments_lexer": "ipython3",
   "version": "3.9.10"
  }
 },
 "nbformat": 4,
 "nbformat_minor": 5
}
