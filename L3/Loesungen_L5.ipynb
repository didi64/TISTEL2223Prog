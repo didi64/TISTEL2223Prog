{
 "cells": [
  {
   "cell_type": "markdown",
   "id": "e5e6e8ae-20ce-4934-9eb9-53bcbc63898a",
   "metadata": {},
   "source": [
    "### L&ouml;sungen 5"
   ]
  },
  {
   "cell_type": "code",
   "execution_count": null,
   "id": "b0f7ea56-442c-4b45-83d9-55cbcf9447b3",
   "metadata": {},
   "outputs": [],
   "source": [
    "# Listcomprehension 1\n",
    "header = ('First Name', 'Last Name', 'Email')\n",
    "widths = [len(h) for h in header]\n",
    "widths"
   ]
  },
  {
   "cell_type": "code",
   "execution_count": null,
   "id": "4e807040-9321-437c-a9c5-0952d9bef0fb",
   "metadata": {},
   "outputs": [],
   "source": [
    "# Listcomprehension 2, Variante 1\n",
    "header = ('First Name', 'Last Name', 'Email')\n",
    "width = 15\n",
    "hline = ['=' * width for h in header]\n",
    "hline"
   ]
  },
  {
   "cell_type": "code",
   "execution_count": null,
   "id": "158cf451-4fa8-4bff-8976-c6d9d84e1ebb",
   "metadata": {},
   "outputs": [],
   "source": [
    "# Listcomprehension 2, Variante 2\n",
    "header = ('First Name', 'Last Name', 'Email')\n",
    "width = 15\n",
    "hline = ['=' * width for i in range(len(header))]\n",
    "hline"
   ]
  },
  {
   "cell_type": "code",
   "execution_count": null,
   "id": "3b0c8f90-0992-4596-bcb4-821f74ea2aee",
   "metadata": {},
   "outputs": [],
   "source": [
    "# Listcomprehension 3\n",
    "header = ('First Name', 'Last Name', 'Email')\n",
    "widths = [10, 9, 5]\n",
    "hline = ['=' * i for i in widths]\n",
    "hline"
   ]
  },
  {
   "cell_type": "markdown",
   "id": "a7cb673a-91e6-4246-b056-21ed072e7b61",
   "metadata": {},
   "source": [
    "### if elif else"
   ]
  },
  {
   "cell_type": "code",
   "execution_count": null,
   "id": "b279cdf4-1b11-40dd-8ce1-603a2afddb95",
   "metadata": {},
   "outputs": [],
   "source": [
    "# Fizzbuzz\n",
    "def fizzbuzz(n):\n",
    "    if  n % 5 == 0 and n % 3 ==0:\n",
    "        return 'fizzbuzz'\n",
    "    elif n % 5 == 0:\n",
    "        return 'buzz'\n",
    "    elif n % 3 == 0:\n",
    "        return 'fizz'\n",
    "    else:\n",
    "        return str(n)"
   ]
  },
  {
   "cell_type": "code",
   "execution_count": null,
   "id": "3feb22f8-6a51-4cbc-a564-3bd3a9de3ff1",
   "metadata": {},
   "outputs": [],
   "source": [
    "def sign(n):\n",
    "    '''returns the sign of the number n'''\n",
    "    if n < 0:\n",
    "        return -1\n",
    "    elif n > 0:\n",
    "        return 1\n",
    "    else:\n",
    "        return 0  \n",
    "    \n",
    "sign(-2), sign(0), sign(2)    "
   ]
  },
  {
   "cell_type": "code",
   "execution_count": null,
   "id": "55aff2ae-303e-4e31-990f-a28708626bb2",
   "metadata": {},
   "outputs": [],
   "source": [
    "# ist guess groesser, gleich oder kleiner als n,\n",
    "# gib 1,0 oder -1 zurueck\n",
    "def eval_guess(guess, n):\n",
    "    return sign(guess - n)\n",
    "\n",
    "eval_guess(guess=5, n=4), eval_guess(guess=3, n=4), eval_guess(guess=4, n=4)"
   ]
  },
  {
   "cell_type": "code",
   "execution_count": null,
   "id": "47e79ea6-8394-4ace-96db-3be77645d4ae",
   "metadata": {},
   "outputs": [],
   "source": [
    "# eval guess, 2 Rueckgabewerte\n",
    "def eval_guess(guess, n):\n",
    "    return guess == n, sign(guess - n)\n",
    "\n",
    "eval_guess(guess=5, n=4), eval_guess(guess=3, n=4),eval_guess(guess=4, n=4)"
   ]
  },
  {
   "cell_type": "code",
   "execution_count": null,
   "id": "6116d8e8-63b3-46c0-897b-3e74baab8c9f",
   "metadata": {},
   "outputs": [],
   "source": [
    "# eval guess, 2 Rueckgabewerte, (True/False, Kommentar)\n",
    "def eval_guess(guess, n):\n",
    "    '''returns a tuple (is_ok, comment)\n",
    "       is_ok: True, if guess equals n\n",
    "       comment: 'too big', 'correct' or 'too small'\n",
    "    '''\n",
    "    comments = {1: 'too big', \n",
    "                0: 'correct', \n",
    "                -1:'too small',\n",
    "               }\n",
    "    \n",
    "    is_ok = guess == n\n",
    "    key = sign(guess - n)\n",
    "    return is_ok, comments[key]\n",
    "\n",
    "eval_guess(guess=5, n=4), eval_guess(guess=3, n=4),eval_guess(guess=4, n=4)"
   ]
  },
  {
   "cell_type": "markdown",
   "id": "5f5373df-5d73-4ebc-84a5-8a85c682d87f",
   "metadata": {},
   "source": [
    "### Frage nach Zahl"
   ]
  },
  {
   "cell_type": "code",
   "execution_count": null,
   "id": "7322734e-3575-444b-95a0-0036fbd7b5de",
   "metadata": {},
   "outputs": [],
   "source": [
    "# Frage nach Zahl, bis 5 eingegeben wird\n",
    "# Variante 1, aus While-loop ausbrechen\n",
    "LOWER = 1\n",
    "UPPER = 10\n",
    "NBR = 5\n",
    "\n",
    "while True:\n",
    "    n = input('Zahl zwischen {a} und {b}?'.format(a=LOWER, b=UPPER))\n",
    "    n = int(n)\n",
    "    \n",
    "    is_ok, comment = eval_guess(n, NBR)\n",
    "    print(comment)\n",
    "    \n",
    "    if is_ok:\n",
    "        break"
   ]
  },
  {
   "cell_type": "code",
   "execution_count": null,
   "id": "5c125a5e-5909-49cc-8e07-375a4b7a60c6",
   "metadata": {},
   "outputs": [],
   "source": [
    "# Frage nach Zahl, bis 5 eingegeben wird\n",
    "# Variante 2\n",
    "\n",
    "LOWER = 1\n",
    "UPPER = 10\n",
    "NBR = 5\n",
    "\n",
    "n = None\n",
    "\n",
    "while  n != NBR:\n",
    "    n = input('Zahl zwischen {a} und {b}?'.format(a=LOWER, b=UPPER))\n",
    "    n = int(n)\n",
    "    \n",
    "    is_ok, comment = eval_guess(n, NBR)\n",
    "    print(comment) "
   ]
  },
  {
   "cell_type": "markdown",
   "id": "f1a0dc03-8c1a-4b03-831e-7ba913c496ee",
   "metadata": {},
   "source": [
    "### Ratespiel"
   ]
  },
  {
   "cell_type": "code",
   "execution_count": null,
   "id": "ebf33ac2-ac23-4c35-8410-54d410d14513",
   "metadata": {},
   "outputs": [],
   "source": [
    "import random\n",
    "def play_game(lower=0, upper=10):\n",
    "    nbr = random.randint(lower, upper)\n",
    "    history = []\n",
    "    \n",
    "    n = None\n",
    "    while n != nbr:\n",
    "        n = input('Zahl zwischen {a} und {b}? '.format(a=lower, b=upper))\n",
    "        n = int(n)\n",
    "        \n",
    "        is_correct, comment = eval_guess(n, nbr)\n",
    "        history.append((n, comment))    \n",
    "        print(comment)\n",
    "        \n",
    "    print('Congrats! You guessed the number {N} in {n} tries.'.\\\n",
    "          format(N=nbr, n=len(history)))\n",
    "    print(history)"
   ]
  },
  {
   "cell_type": "code",
   "execution_count": null,
   "id": "a337f0d2-eb15-4eaa-9f12-203df717e12e",
   "metadata": {},
   "outputs": [],
   "source": [
    "play_game(1,5)"
   ]
  },
  {
   "cell_type": "markdown",
   "id": "b330ab05-7e3d-41ae-b031-e9182411cc4d",
   "metadata": {},
   "source": [
    "### Die Funktion `history2table`"
   ]
  },
  {
   "cell_type": "code",
   "execution_count": 7,
   "id": "2941bb7f-8ccc-4e79-9283-6f76b33c02f6",
   "metadata": {},
   "outputs": [],
   "source": [
    "# Zum Ausfuehren, kopiere die Funktion ins Notebook guessing_game.ipynb\n",
    "import sys\n",
    "if '/home/jovyan/work/NIA22Prog/src' not in sys.path:\n",
    "    sys.path.insert(0, '/home/jovyan/work/NIA22Prog/src') \n",
    "    \n",
    "from toolbox import table2str\n",
    "\n",
    "def history2table(tuples):\n",
    "    header = ('Nr.', 'guess', 'comment')\n",
    "    rows = []\n",
    "    for i, (n, c) in enumerate(tuples):\n",
    "        row = (str(i+1), str(n), c)\n",
    "        rows.append(row)\n",
    "    \n",
    "    return table2str(header, rows)"
   ]
  },
  {
   "cell_type": "code",
   "execution_count": 9,
   "id": "b0fd6bf1-2f5d-4036-ad1c-0455d1d00cb9",
   "metadata": {},
   "outputs": [
    {
     "name": "stdout",
     "output_type": "stream",
     "text": [
      " │ Nr. │ guess │ comment   │ \n",
      " │ ━━━ │ ━━━━━ │ ━━━━━━━━━ │ \n",
      " │ 1   │ 4     │ too big   │ \n",
      " │ 2   │ 2     │ too small │ \n",
      " │ 3   │ 3     │ correct   │ \n"
     ]
    }
   ],
   "source": [
    "tuples = [(4, 'too big'), (2, 'too small'),(3, 'correct')]\n",
    "s = history2table(tuples)\n",
    "print(s)"
   ]
  },
  {
   "cell_type": "code",
   "execution_count": null,
   "id": "d28eaed7-ab48-4f73-a10b-7d0f668ae6ce",
   "metadata": {},
   "outputs": [],
   "source": []
  }
 ],
 "metadata": {
  "kernelspec": {
   "display_name": "Python 3 (ipykernel)",
   "language": "python",
   "name": "python3"
  },
  "language_info": {
   "codemirror_mode": {
    "name": "ipython",
    "version": 3
   },
   "file_extension": ".py",
   "mimetype": "text/x-python",
   "name": "python",
   "nbconvert_exporter": "python",
   "pygments_lexer": "ipython3",
   "version": "3.9.10"
  }
 },
 "nbformat": 4,
 "nbformat_minor": 5
}
