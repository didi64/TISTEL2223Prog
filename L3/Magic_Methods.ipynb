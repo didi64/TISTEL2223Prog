{
 "cells": [
  {
   "cell_type": "markdown",
   "id": "81256b46-d622-47d3-b68b-d0a744e905f0",
   "metadata": {},
   "source": [
    "### Magic-Methods (auch dunder-Methods genannt)\n",
    "Sind `v` und `w` Instanzen einer Klasse `Foo` (siehe nachfolgendes Beispiel), dann wird der Ausdruck `v + w` wie folgt ausgewertet:\n",
    "> Falls die Klasse `Foo` eine Methode `__add__(x, y)` hat, wird\n",
    "  `Foo.__add__(v, w)` (bez. `v.__add__(w)`) aufgerufen, andernfalls  wird ein `TypeError` ausgel&ouml;st.\n",
    "\n",
    "Ist `v` eine Instanz der Klasse `Foo` und `x` ein Objekt eines anderen Types ( oder Instanz einer anderen Klasse), dann wird der Ausdruck `x + v` wie folgt ausgewertet:\n",
    "> hat der Typ oder die Klasse von `x` eine Methode `__add__`  wird `x.__add__(v)` aufgerufen. Sonst, falls\n",
    "`Foo` eine Methode `__radd__` hat, so wird\n",
    "`v.__radd(v, x)` aufgerufen, andernfalls  ein `TypeError` ausgel&ouml;st.\n",
    "\n",
    "`Foo.__repr__(v)` wird aufgerufen, wenn `str(v)` ausgewertet wird, oder falls `v` letzter Ausdruck einer Code-Zelle ist."
   ]
  },
  {
   "cell_type": "code",
   "execution_count": 28,
   "id": "f4244f75-81b1-41e8-b1a8-44beac5c2d1d",
   "metadata": {},
   "outputs": [
    {
     "name": "stdout",
     "output_type": "stream",
     "text": [
      "eine Instanz der Klasse A\n",
      "String-Repraesentation von a: eine Instanz der Klasse A\n"
     ]
    },
    {
     "data": {
      "text/plain": [
       "eine Instanz der Klasse A"
      ]
     },
     "execution_count": 28,
     "metadata": {},
     "output_type": "execute_result"
    }
   ],
   "source": [
    "class A:\n",
    "    def __repr__(self):\n",
    "        return 'eine Instanz der Klasse A'\n",
    "    \n",
    "a = A()\n",
    "\n",
    "print(a)\n",
    "print('String-Repraesentation von a: {}'.format(a))\n",
    "a"
   ]
  },
  {
   "cell_type": "code",
   "execution_count": 29,
   "id": "af875f61-f7ae-4d02-ab51-d339891478b6",
   "metadata": {},
   "outputs": [
    {
     "ename": "TypeError",
     "evalue": "unsupported operand type(s) for +: 'A' and 'A'",
     "output_type": "error",
     "traceback": [
      "\u001b[0;31m---------------------------------------------------------------------------\u001b[0m",
      "\u001b[0;31mTypeError\u001b[0m                                 Traceback (most recent call last)",
      "Input \u001b[0;32mIn [29]\u001b[0m, in \u001b[0;36m<cell line: 1>\u001b[0;34m()\u001b[0m\n\u001b[0;32m----> 1\u001b[0m \u001b[43ma\u001b[49m\u001b[43m \u001b[49m\u001b[38;5;241;43m+\u001b[39;49m\u001b[43m \u001b[49m\u001b[43ma\u001b[49m\n",
      "\u001b[0;31mTypeError\u001b[0m: unsupported operand type(s) for +: 'A' and 'A'"
     ]
    }
   ],
   "source": [
    "a + a"
   ]
  },
  {
   "cell_type": "code",
   "execution_count": 30,
   "id": "578f7ffc-9584-4462-ac10-1cb5774a2bf3",
   "metadata": {},
   "outputs": [
    {
     "data": {
      "text/plain": [
       "'Addiere foo zu eine Instanz der Klasse A'"
      ]
     },
     "execution_count": 30,
     "metadata": {},
     "output_type": "execute_result"
    }
   ],
   "source": [
    "class B:\n",
    "    def __init__(self, name):\n",
    "        self.name = name\n",
    "        \n",
    "    def __add__(self, other):\n",
    "        return '{} plus {}'.format(self.name, other.name)\n",
    "    \n",
    "    def __radd__(self, other):\n",
    "        return 'Addiere {} zu {}'.format(self.name, other)\n",
    "    \n",
    "b = B('foo')\n",
    "b\n",
    "# b + b\n",
    "# a + b"
   ]
  },
  {
   "cell_type": "markdown",
   "id": "611f9c97-6e80-4ba3-8649-016d1ad5daa5",
   "metadata": {},
   "source": [
    "***\n",
    "Beispiel\n",
    "***"
   ]
  },
  {
   "cell_type": "code",
   "execution_count": 31,
   "id": "176f83fd-d70c-42a3-b27c-e8d1962682e4",
   "metadata": {},
   "outputs": [],
   "source": [
    "class Vector(object):\n",
    "    \"\"\"A 2 dimensional vector class.\n",
    "       implements the operations +, -, * on vectors, \n",
    "       and multiplication of vectors with numbers\n",
    "    \"\"\"\n",
    "    def __init__(self, x, y):\n",
    "        '''x and y coordinates of the point'''\n",
    "        self.x = x\n",
    "        self.y = y\n",
    "        \n",
    "    def __add__(self, other):\n",
    "        '''v + w triggers Vector.__add__(v, w)'''\n",
    "        return Vector(self.x+other.x, self.y+other.y)   \n",
    "    \n",
    "    def __sub__(self, other):\n",
    "        '''v - w triggers Vector.__sub__(v, w)'''\n",
    "        return Vector(self.x-other.x, self.y-other.y)    \n",
    "    \n",
    "    def __mul__(self, other):\n",
    "        '''v * x triggers Vector.__sub__(v, x)'''\n",
    "        if isinstance(other, Vector):\n",
    "            return self.x * other.x + self.y * other.y   \n",
    "        elif isinstance(other, int) or isinstance(other, float):    \n",
    "            return Vector(self.x * other, self.y * other)   \n",
    "        \n",
    "    def __rmul__(self, other):  \n",
    "        '''x * v triggers Vector__rmul__(v, x)'''\n",
    "        return self * other\n",
    "    \n",
    "    def __repr__(self):\n",
    "        return 'Vector({:.2f}, {:.2f})'.format(self.x, self.y)   \n",
    "    \n",
    "    "
   ]
  },
  {
   "cell_type": "code",
   "execution_count": 32,
   "id": "6100a632-92f0-46bb-8ed8-009dba7edda8",
   "metadata": {},
   "outputs": [
    {
     "data": {
      "text/plain": [
       "Vector(6.00, 1.00)"
      ]
     },
     "execution_count": 32,
     "metadata": {},
     "output_type": "execute_result"
    }
   ],
   "source": [
    "punkt_1 = Vector(1, 2/3)\n",
    "punkt_2 = Vector(5, 1/3)\n",
    "punkt_1 + punkt_2"
   ]
  },
  {
   "cell_type": "code",
   "execution_count": 33,
   "id": "673eb5e6-9429-4ff1-a0f2-d752bc92774a",
   "metadata": {},
   "outputs": [
    {
     "data": {
      "text/plain": [
       "Vector(15.00, 1.00)"
      ]
     },
     "execution_count": 33,
     "metadata": {},
     "output_type": "execute_result"
    }
   ],
   "source": [
    "punkt_2 * 3"
   ]
  },
  {
   "cell_type": "code",
   "execution_count": 34,
   "id": "35806f24-df03-407d-a8b2-d2b36d2de127",
   "metadata": {},
   "outputs": [
    {
     "data": {
      "text/plain": [
       "Vector(15.00, 1.00)"
      ]
     },
     "execution_count": 34,
     "metadata": {},
     "output_type": "execute_result"
    }
   ],
   "source": [
    "3 * punkt_2"
   ]
  }
 ],
 "metadata": {
  "kernelspec": {
   "display_name": "Python 3 (ipykernel)",
   "language": "python",
   "name": "python3"
  },
  "language_info": {
   "codemirror_mode": {
    "name": "ipython",
    "version": 3
   },
   "file_extension": ".py",
   "mimetype": "text/x-python",
   "name": "python",
   "nbconvert_exporter": "python",
   "pygments_lexer": "ipython3",
   "version": "3.9.10"
  }
 },
 "nbformat": 4,
 "nbformat_minor": 5
}
