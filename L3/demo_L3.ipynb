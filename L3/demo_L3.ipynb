{
 "cells": [
  {
   "cell_type": "markdown",
   "id": "fdf43469-1235-45c7-a3d4-a6fe8f97cedd",
   "metadata": {},
   "source": [
    "### Funktionen programmieren\n",
    "Das Finden und Korrigieren syntaktischer und sematischer Fehler in fehlerhaftem Code ist\n",
    "zeitaufw&auml;ndig. Es empfiehlt sich, eine Funktion inkrementell zu erstellen, d.h. kleine, geteste Codefragmente sukzessive zu erweitern und in Funktionen zu packen.  \n",
    "\n",
    "Nachstehend entwickeln wir eine Funktion  \n",
    "`print_as_table(header, data_rows)`,  \n",
    "die folgenden Output produziert: \n",
    "\n",
    "```python\n",
    "header    =  ('Vorname', 'Nachname', 'Email')\n",
    "data_rows = [('Anna', 'Meier', 'Anna.Meier@foo.ch'), \n",
    "             ('Hans', 'Mustermann', 'Hans.Mustermann@foo.ch'),\n",
    "            ] \n",
    "\n",
    "print_as_table(header, data_rows)\n",
    "```  \n",
    "\n",
    "Erwarteter Output:\n",
    "```\n",
    "|Vorname|Nachname  |Email                 |\n",
    "|=======|==========|======================|\n",
    "|Anna   |Meier     |Anna.Meier@foo.ch     |\n",
    "|Hans   |Mustermann|Hans.Mustermann@foo.ch|\n",
    "```"
   ]
  },
  {
   "cell_type": "markdown",
   "id": "097d2ac4-efb7-4ac6-87c3-8754c3c398b5",
   "metadata": {},
   "source": [
    "***\n",
    "Beginne mit einer einfacherer Aufgabe:  \n",
    "Gib \n",
    "```\n",
    "|Vorname        |Nachname       |\n",
    "|===============|===============|\n",
    "|Hans           |Muster         |\n",
    "```\n",
    "aus.\n",
    "***"
   ]
  },
  {
   "cell_type": "markdown",
   "id": "48e4199a-08b1-4663-bbef-95931b673a61",
   "metadata": {},
   "source": [
    "***\n",
    "Einzelne Strings kreiert\n",
    "***"
   ]
  },
  {
   "cell_type": "code",
   "execution_count": null,
   "id": "26a37c55-50de-420e-a204-0993444e091e",
   "metadata": {},
   "outputs": [],
   "source": [
    "'=' * 15"
   ]
  },
  {
   "cell_type": "code",
   "execution_count": null,
   "id": "a2bbaafb-cae7-4e16-92d4-3dc982c8dd78",
   "metadata": {},
   "outputs": [],
   "source": [
    "'Vorname'.ljust(15)"
   ]
  },
  {
   "cell_type": "code",
   "execution_count": null,
   "id": "05a646c4-0dcd-4a76-a9a0-453f2bb1008c",
   "metadata": {},
   "outputs": [],
   "source": [
    "col1 = 'Vorname'.ljust(15)\n",
    "col2 = 'Nachname'.ljust(15)\n",
    "# print('|' + col1 + '|' + col2 + '|')\n",
    "print('|{}|{}|'.format(col1, col2))"
   ]
  },
  {
   "cell_type": "code",
   "execution_count": null,
   "id": "a7fd1998-aad3-4167-8155-53c850122360",
   "metadata": {},
   "outputs": [],
   "source": [
    "col1 = '=' * 15\n",
    "col2 = '=' * 15\n",
    "print('|{}|{}|'.format(col1, col2))"
   ]
  },
  {
   "cell_type": "code",
   "execution_count": null,
   "id": "94dfb113-f95c-4027-a5b5-179cfde12ce0",
   "metadata": {},
   "outputs": [],
   "source": [
    "col1 = 'Hans'.ljust(15)\n",
    "col2 = 'Muster'.ljust(15)\n",
    "print('|{}|{}|'.format(col1, col2))"
   ]
  },
  {
   "cell_type": "markdown",
   "id": "7e937d22-e2bf-473e-935e-f8aa251ef368",
   "metadata": {},
   "source": [
    "***\n",
    "Obiger Code wird mehrmals verwendet.  \n",
    "Wir machen daraus eine Funktion, die wir bei Bedarf aufrufen k&ouml;nnen.\n",
    "***"
   ]
  },
  {
   "cell_type": "code",
   "execution_count": null,
   "id": "eec83605-858c-4150-93ff-67cdf4c02050",
   "metadata": {},
   "outputs": [],
   "source": [
    "def pair2table_str(item1, item2):\n",
    "    '''print iten1 and item2 as columns in a table with\n",
    "       columnwidth = 15\n",
    "    '''\n",
    "    col1 = item1.ljust(15)\n",
    "    col2 = item2.ljust(15)\n",
    "    print('|{}|{}|'.format(col1, col2))"
   ]
  },
  {
   "cell_type": "code",
   "execution_count": null,
   "id": "2a289087-1031-4f57-ae9b-c8e6b347d107",
   "metadata": {},
   "outputs": [],
   "source": [
    "pair2table_str('Name', 'Vorname')\n",
    "pair2table_str('=' * 15, '=' * 15)\n",
    "pair2table_str('Hans', 'Mustermann')"
   ]
  },
  {
   "cell_type": "markdown",
   "id": "af2aeead-6f08-43e3-af8a-97033183e533",
   "metadata": {},
   "source": [
    "***\n",
    "Als n&auml;chstes wollen wir  eine variable Anzahl Spalten\n",
    "handhaben k&ouml;nnen.  \n",
    "Statt 2 Strings nimmt die Funktion nun ein Tuple von Strings als Argument.\n",
    "***"
   ]
  },
  {
   "cell_type": "code",
   "execution_count": null,
   "id": "545e0177-6b0c-4f0a-ad85-ba5c6082d593",
   "metadata": {},
   "outputs": [],
   "source": [
    "tp = ('Anna', 'Meyer')\n",
    "# tp = ('Anna', 'Meyer', 'anna.meier@foo.ch')\n",
    "\n",
    "cols = []\n",
    "for item in tp:\n",
    "    s = item.ljust(15)\n",
    "    cols.append(s)\n",
    "    \n",
    "# cols\n",
    "s = '|'\n",
    "for col in cols:\n",
    "    s = s + col + '|'\n",
    "print(s)    "
   ]
  },
  {
   "cell_type": "markdown",
   "id": "650005c3-90a2-4227-89bf-8565cb6e678a",
   "metadata": {},
   "source": [
    "***\n",
    "Obiger Code macht was er soll.  \n",
    "Machen wir daraus eine Funktion.\n",
    "***"
   ]
  },
  {
   "cell_type": "code",
   "execution_count": null,
   "id": "2617ab4a-7cb4-4d93-97ea-f8f9ad46b881",
   "metadata": {},
   "outputs": [],
   "source": [
    "def tuple2table_str(tp):    \n",
    "    '''gib tp als Tabellenzeile aus'''\n",
    "    \n",
    "    cols = []\n",
    "    for item in tp:\n",
    "        s = item.ljust(15)\n",
    "        cols.append(s)\n",
    "\n",
    "    s = '|'\n",
    "    for col in cols:\n",
    "        s = s + col + '|'\n",
    "    print(s)    "
   ]
  },
  {
   "cell_type": "code",
   "execution_count": null,
   "id": "f495787e-b880-411f-8877-13f0134750b3",
   "metadata": {},
   "outputs": [],
   "source": [
    "header = ('Name', 'Vorname')\n",
    "tuple2table_str(header)"
   ]
  },
  {
   "cell_type": "markdown",
   "id": "18348a33-c350-40b0-b381-f7dcac3ebf58",
   "metadata": {},
   "source": [
    "***\n",
    "Zus&auml;tzliches Argument `width` hinzuf&uuml;gen.\n",
    "***"
   ]
  },
  {
   "cell_type": "code",
   "execution_count": null,
   "id": "dfefe5ef-92d9-4771-8781-ca46e1b7191c",
   "metadata": {},
   "outputs": [],
   "source": [
    "def tuple2table_str(tp, width):  \n",
    "    '''gib tp als Tabellenzeile aus mit Spaltenbreite width'''  \n",
    "    cols = []\n",
    "    for item in tp:\n",
    "        s = item.ljust(width)\n",
    "        cols.append(s)\n",
    "\n",
    "    # cols\n",
    "    s = '|'\n",
    "    for col in cols:\n",
    "        s = s + col + '|'\n",
    "    print(s)    "
   ]
  },
  {
   "cell_type": "code",
   "execution_count": null,
   "id": "7e5e3763-f583-4033-a61a-f61d349622d0",
   "metadata": {},
   "outputs": [],
   "source": [
    "header = ('Name', 'Vorname')\n",
    "tuple2table_str(header, 15)"
   ]
  },
  {
   "cell_type": "code",
   "execution_count": null,
   "id": "227ae9b9-5750-4bcf-a59e-f334ac4d71a9",
   "metadata": {},
   "outputs": [],
   "source": []
  },
  {
   "cell_type": "code",
   "execution_count": null,
   "id": "af251ad9-441b-4f9b-8e53-ea9511fddbe1",
   "metadata": {},
   "outputs": [],
   "source": [
    "COL_WIDTH = 15\n",
    "header = ('Name', 'Vorname')\n",
    "hline = ('=' * COL_WIDTH, ) * 2\n",
    "name1 = ('Anna', 'Meyer')\n",
    "\n",
    "tuple2table_str(header, COL_WIDTH)    \n",
    "tuple2table_str(hline, COL_WIDTH)    \n",
    "tuple2table_str(name1, COL_WIDTH)   "
   ]
  },
  {
   "cell_type": "markdown",
   "id": "3c3393ba-b59a-403c-b4d6-8a81d2a0c4e7",
   "metadata": {},
   "source": [
    "***\n",
    "Der mehrmalige Aufruf von `tuple2table_str` erfolgt nun in einem For-Loop:\n",
    "***"
   ]
  },
  {
   "cell_type": "code",
   "execution_count": null,
   "id": "5a7e2d38-16a7-41a2-b360-f72f1bb65a94",
   "metadata": {},
   "outputs": [],
   "source": [
    "COL_WIDTH = 15\n",
    "header = ('Vorname', 'Nachname', 'Email')\n",
    "data_rows = [('Anna',  'Meier', 'Anna.Meier@foo.ch'), \n",
    "             ('Hans', 'Mustermann', 'Hans.Mustermann@foo.ch'),\n",
    "            ] \n",
    "\n",
    "hline = ('=' * COL_WIDTH, ) * len(header)\n",
    "\n",
    "rows = [header] + [hline] + data_rows\n",
    "for row in rows:\n",
    "    tuple2table_str(row, COL_WIDTH)"
   ]
  },
  {
   "cell_type": "markdown",
   "id": "b0f19efc-9737-495c-963a-fc5a0a3052a8",
   "metadata": {},
   "source": [
    "***\n",
    "Breite f&uuml;r jede Spalte separat festlegen. Statt einer Konstante WIDTH benutzen wir ein Tuple von Integern. Um die Liste `cols` zu erstellen iterieren wir &uuml;ber `zip(tp, widths)` statt `tp`.\n",
    "- `WIDTH: int -> widths: tuple[int]`\n",
    "- `for item in tp: --> for item, width in zip(tp, widths):`\n",
    "***"
   ]
  },
  {
   "cell_type": "code",
   "execution_count": null,
   "id": "3fc234e0-fdff-4c3e-ad16-c48341d39133",
   "metadata": {},
   "outputs": [],
   "source": [
    "tp = ('Anna', 'Meyer')\n",
    "widths = (5, 10)\n",
    "\n",
    "cols = []\n",
    "for item, width in zip(tp, widths):\n",
    "    s = item.ljust(width)\n",
    "    cols.append(s)\n",
    "    \n",
    "cols    "
   ]
  },
  {
   "cell_type": "code",
   "execution_count": null,
   "id": "c60ee84d-75c7-4ef9-86dc-d35bea767701",
   "metadata": {},
   "outputs": [],
   "source": [
    "def tuple2table_str(tp, widths):   \n",
    "    '''gib tp als Tabellenzeile aus \n",
    "    \n",
    "       widths: Tuple mit Spaltenbreiten\n",
    "    '''\n",
    "    \n",
    "    cols = []\n",
    "    for item, width in zip(tp, widths):\n",
    "        s = item.ljust(width)\n",
    "        cols.append(s)\n",
    "\n",
    "    s = '|'\n",
    "    for col in cols:\n",
    "        s = s + col + '|'\n",
    "    print(s) "
   ]
  },
  {
   "cell_type": "code",
   "execution_count": null,
   "id": "3cb12df3-373b-4bf4-a6d0-b7693bd36ab1",
   "metadata": {},
   "outputs": [],
   "source": [
    "col_widths = (15, 15, 25)\n",
    "header = ('Vorname', 'Nachname', 'Email')\n",
    "data_rows = [('Anna',  'Meier', 'Anna.Meier@foo.ch'), \n",
    "             ('Hans', 'Mustermann', 'Hans.Mustermann@foo.ch'),\n",
    "            ] \n",
    "\n",
    "hline = tuple('=' * width for width in col_widths) \n",
    "\n",
    "rows = [header] + [hline] + data_rows\n",
    "for row in rows:\n",
    "    tuple2table_str(row, col_widths)"
   ]
  },
  {
   "cell_type": "markdown",
   "id": "843101dd-36c9-43a4-9f3c-96e0d8efe07e",
   "metadata": {},
   "source": [
    "***\n",
    "Ermittle maximale Spaltenbreite.  \n",
    "**Annahme**: alle Zeilen haben gleich viele Spalten wie die erste Zeile\n",
    "***"
   ]
  },
  {
   "cell_type": "code",
   "execution_count": null,
   "id": "0d4f5c2f-474c-47df-974f-60f8e24f1172",
   "metadata": {},
   "outputs": [],
   "source": [
    "header = ('Vorname', 'Nachname', 'Email')\n",
    "data_rows = [('Anna',  'Meier', 'Anna.Meier@foo.ch'), \n",
    "             ('Hans', 'Mustermann', 'Hans.Mustermann@foo.ch'),\n",
    "            ] \n",
    "\n",
    "\n",
    "\n",
    "widths = [] \n",
    "for row in header:\n",
    "    width = len(row)\n",
    "    widths.append(width)\n",
    "\n",
    "for row in data_rows:\n",
    "    for i, item in enumerate(row):\n",
    "        new_width = max(widths[i], len(item))\n",
    "        widths[i] = new_width\n",
    "            \n",
    "widths    "
   ]
  },
  {
   "cell_type": "code",
   "execution_count": null,
   "id": "340378fd-a964-4033-9c8f-c59d33702692",
   "metadata": {},
   "outputs": [],
   "source": [
    "def get_widths(header, data_rows):\n",
    "    '''gibt tuple mit den maximalen Spaltenbreiten \n",
    "       von header und data_rows zurueck\n",
    "    '''   \n",
    "    widths = [] \n",
    "    for row in header:\n",
    "        width = len(row)\n",
    "        widths.append(width)\n",
    "\n",
    "    for row in data_rows:\n",
    "        for i, item in enumerate(row):\n",
    "            new_width = max(widths[i], len(item))\n",
    "            widths[i] = new_width\n",
    "\n",
    "    return widths    "
   ]
  },
  {
   "cell_type": "code",
   "execution_count": null,
   "id": "9ea4a52f-28dc-49f1-931b-568540fff4a1",
   "metadata": {},
   "outputs": [],
   "source": [
    "get_widths(header, data_rows)"
   ]
  },
  {
   "cell_type": "code",
   "execution_count": null,
   "id": "909fc168-86c9-44dc-b1e7-1fb22db3c2d7",
   "metadata": {},
   "outputs": [],
   "source": [
    "header = ('Vorname', 'Nachname', 'Email')\n",
    "data_rows = [('Anna',  'Meier', 'Anna.Meier@foo.ch'), \n",
    "             ('Hans', 'Mustermann', 'Hans.Mustermann@foo.ch'),\n",
    "            ] \n",
    "\n",
    "col_widths = get_widths(header, data_rows)\n",
    "\n",
    "hline = []\n",
    "for width in col_widths:\n",
    "    hline.append('=' * width)\n",
    "# hline \n",
    "\n",
    "hline = tuple(hline)\n",
    "rows = [header] + [hline] + data_rows\n",
    "\n",
    "for row in rows:\n",
    "    tuple2table_str(row, col_widths)"
   ]
  },
  {
   "cell_type": "markdown",
   "id": "901582c5-390a-4857-b49b-72a771c6f779",
   "metadata": {},
   "source": [
    "***\n",
    "Code macht was er soll, machen wir daraus eine Funktion\n",
    "***"
   ]
  },
  {
   "cell_type": "code",
   "execution_count": null,
   "id": "44543eda-6797-4702-9cc4-f54860956ac2",
   "metadata": {},
   "outputs": [],
   "source": [
    "def print_table(header, data_rows):    \n",
    "    '''Gib header und data_rows in Tabellenform aus\n",
    "    \n",
    "       header: Tuple mit Spaltennamen\n",
    "       data_rows: Liste von Tupeln mit Spalteneintraegen \n",
    "    '''\n",
    "    \n",
    "    col_widths = get_widths(header, data_rows)\n",
    "\n",
    "    hline = []\n",
    "    for width in col_widths:\n",
    "        hline.append('=' * width)\n",
    "        \n",
    "    rows = [header] + [hline] + data_rows\n",
    "\n",
    "    for row in rows:\n",
    "        tuple2table_str(row, col_widths)"
   ]
  },
  {
   "cell_type": "code",
   "execution_count": null,
   "id": "2032468e-c8b6-4239-9806-61802af50e75",
   "metadata": {},
   "outputs": [],
   "source": [
    "header = ('Vorname', 'Nachname', 'Email')\n",
    "data_rows = [('Anna',  'Meier', 'Anna.Meier@foo.ch'), \n",
    "             ('Hans', 'Mustermann', 'Hans.Mustermann@foo.ch'),\n",
    "            ] \n",
    "\n",
    "\n",
    "print_table(header, data_rows)"
   ]
  },
  {
   "cell_type": "code",
   "execution_count": null,
   "id": "55c942c6-1c20-4d67-a9f7-ce55d571dd7d",
   "metadata": {},
   "outputs": [],
   "source": [
    "isinstance"
   ]
  }
 ],
 "metadata": {
  "kernelspec": {
   "display_name": "Python 3 (ipykernel)",
   "language": "python",
   "name": "python3"
  },
  "language_info": {
   "codemirror_mode": {
    "name": "ipython",
    "version": 3
   },
   "file_extension": ".py",
   "mimetype": "text/x-python",
   "name": "python",
   "nbconvert_exporter": "python",
   "pygments_lexer": "ipython3",
   "version": "3.9.10"
  }
 },
 "nbformat": 4,
 "nbformat_minor": 5
}
