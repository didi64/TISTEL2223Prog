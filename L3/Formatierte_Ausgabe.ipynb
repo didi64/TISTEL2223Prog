{
 "cells": [
  {
   "cell_type": "markdown",
   "id": "63d74f9e-ca5f-43db-91d4-ad442cc9828f",
   "metadata": {},
   "source": [
    "### Beispiele zu Strings mit Platzhaltern"
   ]
  },
  {
   "cell_type": "code",
   "execution_count": null,
   "id": "98f35db9-5d87-4388-ba49-0f558be744f0",
   "metadata": {},
   "outputs": [],
   "source": [
    "# anonyme Platzhalter\n",
    "'{}, {}'.format('a', 'b')"
   ]
  },
  {
   "cell_type": "code",
   "execution_count": null,
   "id": "7a24315c-6949-4275-8bad-df2a9193c5ae",
   "metadata": {},
   "outputs": [],
   "source": [
    "# benamste Platzhalter\n",
    "fstring = '{prefix}{root1}{suffix}, {prefix}{root2}{suffix}'\n",
    "fstring.format(root1='agree', root2='place', prefix='dis', suffix='able')"
   ]
  },
  {
   "cell_type": "code",
   "execution_count": null,
   "id": "88d172a8-3f63-4502-9a7e-2413989ae2af",
   "metadata": {},
   "outputs": [],
   "source": [
    "# Mischform ist erlaubt\n",
    "# anonyme Argumente muessen den benamsten vorangehen\n",
    "\n",
    "fstring='{prefix}{}{suffix}, {prefix}{}{suffix}'\n",
    "fstring.format('agree', 'place', prefix='dis', suffix='able', )"
   ]
  },
  {
   "cell_type": "code",
   "execution_count": null,
   "id": "589fa7f4-8f69-4c53-b712-c0ed490274d6",
   "metadata": {},
   "outputs": [],
   "source": [
    "# programmatisch ersteller String mit Platzhaltern\n",
    "fstring = '{}|' * 3\n",
    "print(fstring)\n",
    "fstring.format('a','b', 'c')"
   ]
  },
  {
   "cell_type": "code",
   "execution_count": null,
   "id": "f25b3588-e5e5-4ad8-a1a3-b64b65641411",
   "metadata": {},
   "outputs": [],
   "source": [
    "# programmatisch ersteller String mit Platzhaltern\n",
    "# unpacking with *\n",
    "chars = 'abc'\n",
    "fstring = '{}|' * len(chars)\n",
    "fstring.format(*chars) # '*' unpacks chars: fstring.format('a','b', 'c')"
   ]
  },
  {
   "cell_type": "code",
   "execution_count": null,
   "id": "65aa35bc-1e5a-44a0-87d1-40fa226b5ed1",
   "metadata": {},
   "outputs": [],
   "source": [
    "# unpacking dictinaries with **\n",
    "fstring = '{prefix}{}{suffix}, {prefix}{}{suffix}'\n",
    "roots = ('agree', 'place')\n",
    "d = {'prefix': 'dis', 'suffix': 'able'}\n",
    "\n",
    "fstring.format(*roots, **d) # unpacks arguments: fstring.format('agree', 'place', prefix = 'dis', suffix = 'able')"
   ]
  },
  {
   "cell_type": "code",
   "execution_count": null,
   "id": "787b3652-20a2-4546-b4ad-fe3731f3fa5c",
   "metadata": {},
   "outputs": [],
   "source": []
  },
  {
   "cell_type": "markdown",
   "id": "f50c78bc-e032-438d-8639-623ce0c41dd4",
   "metadata": {},
   "source": [
    "### Beispiel vom letztem Mal"
   ]
  },
  {
   "cell_type": "code",
   "execution_count": null,
   "id": "17ad857d-c61d-4a4e-b77e-5e356992db29",
   "metadata": {},
   "outputs": [],
   "source": [
    "h1 = 'First Name'\n",
    "h2 = 'Last Name'\n",
    "\n",
    "first_name = 'Hans'\n",
    "last_name  = 'Muster'\n",
    "\n",
    "print('{h1}|{h2}'.format(h1=h1.ljust(15) , h2=h2.ljust(15) ))\n",
    "print(30 * '=')\n",
    "print('{fn}|{ln}'.format(fn=first_name.ljust(15), ln=last_name.ljust(15)))"
   ]
  },
  {
   "cell_type": "markdown",
   "id": "5c1a54f7-8715-4bc2-a4dd-8cdcb2aa9017",
   "metadata": {},
   "source": [
    "### Erste Verbesserungen:\n",
    "- Alle das Tabellenlayout betreffende Variablen sind an einem Ort als Konstanten definiert.  \n",
    "Modifikation des Layouts ist einfach.\n",
    "- Alle Tabellenzeilen sind an einem Ort definiert.  \n",
    "Zus&auml;tzliche Zeilen hinzuzuf&uuml;gen ist einfach.\n",
    "- &Auml;hnlicher Code beisammen.  \n",
    "  Erlaubt, Wiederholungen zu vermeiden, und die gemeinsame Aufgabe einer Funktion zu &uuml;bertragen.\n",
    "\n",
    "```python\n",
    "# Table layout\n",
    "COL_WIDTH = 15\n",
    "HEADER    = ('First Name', 'Last Name')\n",
    "FSTRING   = '|{}|{}|'\n",
    "HCHAR     = '='\n",
    "\n",
    "# horizontal line, table row(s)\n",
    "hline  = (HCHAR * COL_WIDTH, HCHAR * COL_WIDTH)\n",
    "name   = ('Hans', 'Muster')\n",
    "\n",
    "# print HEADER\n",
    "  <dein Code>\n",
    "\n",
    "# print hline\n",
    "  <dein Code>\n",
    "\n",
    "# print name\n",
    "  <dein Code>\n",
    "```\n",
    "\n",
    "Ersetze ```<dein Code>``` mit Code, der den gleichen Output wie der urspr&uuml;ngliche Code produziert."
   ]
  },
  {
   "cell_type": "markdown",
   "id": "e6c1b850-1c81-4618-9ac6-956a83e2852c",
   "metadata": {},
   "source": [
    "### Aufgabe an Funktion delegieren \n",
    "- ```<dein Code>``` im obigem Beispiel hat immer die gleiche Form.  \n",
    "  Schreibe eine Funktion  ```row2str(row, width)```, so dass   \n",
    "```<dein Code>``` jeweils durch\n",
    "```row2str(row, COL_WIDTH)``` ersetzt werden kann, wobei   \n",
    "```row``` entweder  ```HEADER, hline``` oder ```name``` ist.\n",
    "- Definiere nun eine Liste ```rows ``` und benutze eine For-Schleife, um\n",
    "```HEADER, hline``` und ```name``` auszugeben.  \n",
    "Konsultiere ev. das Notebook [Kontrollstrukturen](./Kontrollstrukturen.ipynb) (For-Schleifen).\n",
    "\n",
    "```python\n",
    "COL_WIDTH = 15\n",
    "HEADER = ('First Name', 'Last Name')\n",
    "hline  = ('=' * COL_WIDTH, '=' * COL_WIDTH)\n",
    "names = [('Elias', 'Kopf'),\n",
    "         ('Jennifer', 'Müller'),\n",
    "         ('Oliver', 'Pfenniger'),\n",
    "         ('René', 'Scheidegger'),\n",
    "         ('Jakob', 'Sutter')]\n",
    "\n",
    "rows = <dein Code>\n",
    "for row in rows:\n",
    "    print(row2str(row, COL_WIDTH))\n",
    "```\n",
    "\n",
    "**Erwarteter Output**:\n",
    "```\n",
    "|First Name     |Last Name      |\n",
    "|===============|===============|\n",
    "|Elias          |Kopf           |\n",
    "|Jennifer       |Müller         |\n",
    "|Oliver         |Pfenniger      |\n",
    "|René           |Scheidegger    |\n",
    "|Jakob          |Sutter         |\n",
    "```\n",
    "\n",
    "***Hinweis***:\n",
    "Listen kann man mit + zusammenh&auml;ngen."
   ]
  },
  {
   "cell_type": "markdown",
   "id": "90939bb4-b0bf-4e7b-afad-5822189ef92e",
   "metadata": {},
   "source": [
    "### W&uuml;nschenswerte Erweiterungen von ```row2str(row, width)```\n",
    "- n Spalten statt 2 Spalten \n",
    "  - fstring nun abh&auml;ngig von n:  \n",
    "  ```'|{}|{}|'``` -> ```'|' + '{}| * n```\n",
    "  - ```format(s1, s2)``` -> ```format(*args)```, wo ```args=(s1, ..., sn)```   \n",
    "  An Stelle von\n",
    "```python \n",
    "s1, s2 = row\n",
    "s1 = s1.ljust(width)\n",
    "s2 = s2.ljust(width),\n",
    "```      \n",
    "konstruiere die Liste ```args``` mit einer For-Schleife.\n",
    "  \n",
    "  \n",
    "- Spalten mit verschiedenen Breiten  \n",
    "  - ```width = 15``` -> ```widths = (15, 15, 30)```\n",
    "  -  Um die Liste ```args``` zu konstruieren, benutze  \n",
    "     ```for s, w in zip(row, widths):```"
   ]
  },
  {
   "cell_type": "code",
   "execution_count": null,
   "id": "d4fe19f7-01e8-45fc-94d4-f94f151c3f7d",
   "metadata": {},
   "outputs": [],
   "source": []
  }
 ],
 "metadata": {
  "kernelspec": {
   "display_name": "Python 3 (ipykernel)",
   "language": "python",
   "name": "python3"
  },
  "language_info": {
   "codemirror_mode": {
    "name": "ipython",
    "version": 3
   },
   "file_extension": ".py",
   "mimetype": "text/x-python",
   "name": "python",
   "nbconvert_exporter": "python",
   "pygments_lexer": "ipython3",
   "version": "3.9.10"
  }
 },
 "nbformat": 4,
 "nbformat_minor": 5
}
