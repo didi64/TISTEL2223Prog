{
 "cells": [
  {
   "cell_type": "markdown",
   "id": "29838a57-3e93-4f3e-a455-3262bc99fc8b",
   "metadata": {},
   "source": [
    "### Kontrollstrukturen\n",
    "\n",
    "Kontrollstrukturen (**Schleifen** und **bedingte Anweisung**) steuern den \n",
    "Ablauf eines Programms.\n",
    "- bedingte Anweisung: Programmteile werden nur unter bestimmten Bedingungen ausgef&uuml;hrt\n",
    "- Schleifen: Programmteile werden wiederholt ausgef&uuml;hrt"
   ]
  },
  {
   "cell_type": "markdown",
   "id": "e1fb4b1c-5dfa-4ae5-8ec6-9a7854a403c7",
   "metadata": {},
   "source": [
    "### Bedingte Anweisungen\n",
    "\n",
    "```python\n",
    "if  <expression>: \n",
    "    <statements>\n",
    "# optional, elif    \n",
    "elif <expression>:\n",
    "    <statements>\n",
    "# optional, weitere elif\n",
    "elif <expression>:\n",
    "    <statements>\n",
    "# optional\n",
    "else:\n",
    "    <statements>\n",
    "```\n",
    "Ist der Ausdruck ```<expression>``` nach ```if``` (oder ```elif```) wahr  (genauer: ```bool(<expression>) == True```), wird der nachfolgende Codeblock ausgef&uuml;hrt. Dann wird ans Ende des ganzen ```if, elif, ...,else```-Blocks gesprungen.\n",
    "Anderfalls wird zum n&auml;chsten ```elif```- oder ```else```-Block gesprungen. \n",
    "\n",
    "**Bemerkung**: Geschachtelte ```if-else```-Anweisungsbl&ouml;cke f&uuml;hren schnell zu schwer lesbarem Code und **sollten \n",
    "  vermieden** werden. Wir werden noch alternative Methoden zur Behandlung von Fallunterscheidungen kennen lernen. "
   ]
  },
  {
   "cell_type": "code",
   "execution_count": null,
   "id": "913f3623-cc04-405a-b8bd-6e961ecf2e5b",
   "metadata": {},
   "outputs": [],
   "source": [
    "x , y = 2, 0 \n",
    "if  x > y:\n",
    "    print('{} ist groesser als {}'.format(x,y))   \n",
    "elif x == y:\n",
    "    print('{} ist gleich als {}'.format(y,x))    \n",
    "else: \n",
    "    print('{} ist groesser als {}'.format(y,x))    "
   ]
  },
  {
   "cell_type": "markdown",
   "id": "ddbbe3e4-806b-4100-852a-0062b2f037c4",
   "metadata": {},
   "source": [
    "### Aufgaben"
   ]
  },
  {
   "cell_type": "markdown",
   "id": "37211fa5-4a71-461a-b641-b103b82bc03c",
   "metadata": {},
   "source": [
    "- Schreibe eine Funktion [fizzbuzz(n)](https://en.wikipedia.org/wiki/Fizz_buzz)    \n",
    "  - ist `n` durch 3 teilbar und nicht durch 5, gib 'fizz' aus,\n",
    "  - ist `n` durch 5 teilbar und nicht durch 3, gib 'buzz' aus,\n",
    "  - ist `n` durch 3 und 5 teilbar, gib 'fizzbuzz' aus,\n",
    "  - ist `n` weder durch 3 noch durch 5 teilbar, gib die Zahl als **String** aus.  \n",
    "  - **Hints**: Ganzzahl Division und Division mit Rest\n",
    "      - `x % y` gibt den ganzzahligen Rest der Division x/y zur&uuml;ck (```11 % 3 = 2```) \n",
    "    - `x // y` gibt `x/y` als Integer (abgerundet) zur&uuml;ck (```11 // 3 = 3```).  \n",
    "\n",
    "\n",
    "- Programmiere die Funktion  \n",
    "\n",
    "$$\\text{sign}(x) = \\begin{cases}\n",
    "1&: \\text{falls }x>0,\\\\\n",
    "0&: \\text{falls }x=0,\\\\\n",
    "-1&:\\text{falls } x<0.\n",
    "\\end{cases}$$  \n",
    "\n",
    "\n",
    "- Benutze die Funktion ```sign``` um eine Funktion ```eval_guess(guess, nbr)``` zu schreiben, welche \n",
    "0, 1, oder -1 zur&uuml;ck gibt, je nachdem ob guess gleich nbr, guess zu gross oder zu klein ist.\n",
    "\n",
    "\n",
    "- Modifiziere ```eval_guess(guess, nbr)``` so, dass \n",
    "nun (ein Tupel mit) 2 Werte zur&uuml;ckgegeben werden:\n",
    "Der 1. Wert ist entweder ```True``` oder ```False```, der 2. Wert 0, 1, oder -1 wie gehabt.\n",
    "\n",
    "- Benutze den Dictionary  \n",
    "\n",
    "```python  \n",
    "comments = {1:  'too big', \n",
    "            0:  'correct', \n",
    "            -1: 'too small',\n",
    "           }\n",
    "```\n",
    "um eine neue Version von ```eval_guess(guess, nbr)``` zu schreiben, welche nun als 2. Wert\n",
    "\"correct\", \"too big\" und \"too small\" anstelle von 0,1,-1 zur&uuml;ck gibt."
   ]
  },
  {
   "cell_type": "code",
   "execution_count": null,
   "id": "3451454d-b66a-48d6-896b-3df9649b14ae",
   "metadata": {},
   "outputs": [],
   "source": [
    "def sign(n):\n",
    "    '''returns the sign of the number n'''\n",
    "    # dein Code"
   ]
  },
  {
   "cell_type": "code",
   "execution_count": null,
   "id": "3f5da4aa-4e90-46c8-9db2-17dfd86781cc",
   "metadata": {},
   "outputs": [],
   "source": [
    "def eval_guess(guess, n):\n",
    "    '''returns a tuple (is_ok, comment)\n",
    "    \n",
    "       is_ok:   True, if guess equals n\n",
    "       comment: 'too big', 'correct' or 'too small'\n",
    "    '''\n",
    "    comments = {1:  'too big', \n",
    "                0:  'correct', \n",
    "                -1: 'too small',\n",
    "               }\n",
    "    \n",
    "    # berechne is_ok\n",
    "    # berechne key\n",
    "    \n",
    "    return is_ok, comments[key]"
   ]
  }
 ],
 "metadata": {
  "kernelspec": {
   "display_name": "Python 3 (ipykernel)",
   "language": "python",
   "name": "python3"
  },
  "language_info": {
   "codemirror_mode": {
    "name": "ipython",
    "version": 3
   },
   "file_extension": ".py",
   "mimetype": "text/x-python",
   "name": "python",
   "nbconvert_exporter": "python",
   "pygments_lexer": "ipython3",
   "version": "3.9.10"
  }
 },
 "nbformat": 4,
 "nbformat_minor": 5
}
