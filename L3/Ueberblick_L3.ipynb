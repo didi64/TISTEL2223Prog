{
 "cells": [
  {
   "cell_type": "markdown",
   "id": "a355e44e-db5e-4f5b-8b90-8e9ff03a4378",
   "metadata": {},
   "source": [
    "### Lektion 3, &Uuml;berblick und weitere Resourcen\n",
    "\n",
    "- Funktionen  \n",
    "  [w3schools.com, Functions](https://www.w3schools.com/python/python_functions.asp)  \n",
    "- Bedingte Anweisugngen  \n",
    "  [w3schools.com, if-then-else](https://www.w3schools.com/python/python_conditions.asp)  \n",
    "  \n",
    "- For-Loops  \n",
    "  [w3schools.com, for-loops](https://www.w3schools.com/python/python_for_loops.asp)  \n",
    "  \n",
    "- While-Loops  \n",
    "  [w3schools.com, while-loops](https://www.w3schools.com/python/python_while_loops.asp)\n",
    "- zip und enumerate  \n",
    "  [w3schools.com, zip](https://www.w3schools.com/python/ref_func_zip.asp)  \n",
    "  [w3schools.com, enumerate](https://www.w3schools.com/python/ref_func_enumerate.asp)\n",
    "\n"
   ]
  },
  {
   "cell_type": "code",
   "execution_count": null,
   "id": "5b471012-8631-4bfd-b9c4-3ac283444d62",
   "metadata": {},
   "outputs": [],
   "source": []
  }
 ],
 "metadata": {
  "kernelspec": {
   "display_name": "Python 3 (ipykernel)",
   "language": "python",
   "name": "python3"
  },
  "language_info": {
   "codemirror_mode": {
    "name": "ipython",
    "version": 3
   },
   "file_extension": ".py",
   "mimetype": "text/x-python",
   "name": "python",
   "nbconvert_exporter": "python",
   "pygments_lexer": "ipython3",
   "version": "3.9.10"
  }
 },
 "nbformat": 4,
 "nbformat_minor": 5
}
