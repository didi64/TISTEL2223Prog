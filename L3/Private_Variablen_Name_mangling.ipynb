{
 "cells": [
  {
   "cell_type": "markdown",
   "id": "8c1a5e89-5e1b-4342-9470-990b0668751e",
   "metadata": {},
   "source": [
    "### Private Variabeln und Name-Mangling  \n",
    "(siehe auch [docs.python.org](https://docs.python.org/3/tutorial/classes.html#private-variables))\n",
    "\n",
    "Raymond Hettinger (Python core developer):\n",
    "\n",
    ">Python has no locked doors; it's a consenting adults language. If you open a door you're responsible for what you see.\n",
    "\n",
    "**Private Variabeln**:\n",
    "Ein Paradigma der objektorientierten Programmierung ist die Datenkapselung: Auf die interne Datenstruktur eines Objekts soll nicht direkt von Aussen zugegriffen werden, sondern nur &uuml;ber definierte Schnittstellen. Auf diese Weise kann z.B. sichergestellt werden, dass mit einem Wert auch davon abh&auml;ngige Werte angepasst werden oder dass nur sinnvolle Werte zugewiesen werden k&ouml;nnen.\n",
    "\n",
    "In vielen Sprachen kann man Variablen als **privat** deklarieren und so denn Zugriff von Aussen unterbinden.  \n",
    "\n",
    "In Python sind normalerweise alle Klassenattribute **&ouml;ffentlich**, d.h. auch von ausserhalb der Klasse modifizierbar. Es liegt in der Verantwortung des Benutzers der Klasse, diese M&ouml;glichkeit vern&uuml;nftig zu nutzen.  \n",
    "\n",
    "M&ouml;chte der Programmierer der Klasse nicht, dass \n",
    "ein Attribut von Aussen eingesehen und/oder modifiziert wird, z.B. weil es in einer zuk&uuml;nftigen Version anders verwendet wird, so w&auml;hlt er f&uuml;r dieses Attribut einen mit einem '\\_' beginnenden Variablenamen. Es ist eine **Konvention**,\n",
    "mit '\\_' beginnende Variabeln nicht von ausserhalb der Klasse zu &auml;ndern, und an\n",
    "diese Konvention soll sich ein Programmierer halten.\n",
    "\n",
    "**Name-Mangling**:\n",
    "Beginnt der Name einer Variable, welche innerhalb einer Klasse definiert ist mit '__' (z.B. `__foo`), so\n",
    "wird dieser Name intern als `_<Klassenname>__foo` gespeichert.\n",
    "\n",
    "Das macht es umst&auml;ndlich, auf diese Variable von Aussen zuzugreifen, unterbindet dies aber nicht.  \n",
    "Name-Manging ist im Kontext von **Vererbung/Subclassing** n&uuml;tzlich und wurde zu diesem Zweck eingef&uuml;hrt, nicht um Variablen als privat zu markieren.\n",
    "\n"
   ]
  },
  {
   "cell_type": "markdown",
   "id": "073f535d-9b8f-41d1-bb1a-6f5c5fcbcb1e",
   "metadata": {},
   "source": [
    "***\n",
    "Name-Mangling\n",
    "***"
   ]
  },
  {
   "cell_type": "code",
   "execution_count": 119,
   "id": "560db325-0960-4465-9792-57ae0372a41a",
   "metadata": {},
   "outputs": [
    {
     "data": {
      "text/plain": [
       "'bar'"
      ]
     },
     "execution_count": 119,
     "metadata": {},
     "output_type": "execute_result"
    }
   ],
   "source": [
    "class A:\n",
    "    def __init__(self):\n",
    "        # aequivalent zu self._A__foo = 'bar'\n",
    "        self.__foo = 'bar'\n",
    "\n",
    "a = A()\n",
    "# a.__foo # AttributeError: 'A' object has no attribute '__foo'\n",
    "a._A__foo"
   ]
  },
  {
   "cell_type": "code",
   "execution_count": null,
   "id": "2b11401d-e81d-4191-8cb6-c707589a873e",
   "metadata": {},
   "outputs": [],
   "source": [
    "a._A__foo = 'bar'\n",
    "a._A__foo"
   ]
  },
  {
   "cell_type": "markdown",
   "id": "175da663-f41d-4065-9250-d45d50038b68",
   "metadata": {},
   "source": [
    "***\n",
    "Typische Python Klasse\n",
    "***"
   ]
  },
  {
   "cell_type": "code",
   "execution_count": 116,
   "id": "22ed413b-3952-499e-98a8-ec5845bc35f0",
   "metadata": {},
   "outputs": [
    {
     "name": "stdout",
     "output_type": "stream",
     "text": [
      "Person(name = 'bob', age = 99)\n",
      "Person(name = 'bob', age = 100)\n"
     ]
    },
    {
     "data": {
      "text/plain": [
       "Person(name = 'bob', age = 30)"
      ]
     },
     "execution_count": 116,
     "metadata": {},
     "output_type": "execute_result"
    }
   ],
   "source": [
    "class Person:\n",
    "    def __init__(self, name, age):\n",
    "        '''Initializer: initialisiert eine Instanz der\n",
    "           Klasse Person mit Namen <name> und Alter <age>\n",
    "        '''   \n",
    "        self.name = name\n",
    "        self.age = age\n",
    "       \n",
    "    def birthday(self):\n",
    "        '''increment age by one'''\n",
    "        self.age = self.age + 1\n",
    "        \n",
    "    def __repr__(self):\n",
    "        return 'Person(name = \\'{}\\', age = {})'\\\n",
    "               .format(self.name, self.age)\n",
    "    \n",
    "bob = Person('bob', 99)\n",
    "print(bob)\n",
    "\n",
    "bob.birthday()\n",
    "print(bob)\n",
    "\n",
    "bob.age = 30\n",
    "bob"
   ]
  },
  {
   "cell_type": "markdown",
   "id": "a2257c17-cfc7-4b5f-8873-bfb2620abd75",
   "metadata": {},
   "source": [
    "***\n",
    "Einziger Grund wieso Alter &auml;ndert sei \"Geburtstag haben\".  \n",
    "In der nachstehenden Version von Person ist das Attribut \n",
    "`_age` als privat markiert.\n",
    "***"
   ]
  },
  {
   "cell_type": "code",
   "execution_count": 82,
   "id": "47ce76ee-bb84-4106-889d-145d22b5c5ef",
   "metadata": {},
   "outputs": [
    {
     "name": "stdout",
     "output_type": "stream",
     "text": [
      "Person(name = 'bob', age = 99)\n",
      "Person(name = 'bob', age = 100)\n"
     ]
    },
    {
     "data": {
      "text/plain": [
       "Person(name = 'bob', age = 30)"
      ]
     },
     "execution_count": 82,
     "metadata": {},
     "output_type": "execute_result"
    }
   ],
   "source": [
    "class Person:\n",
    "    def __init__(self, name, age):\n",
    "        '''Initializer: erzeugt eine Instanze der\n",
    "           Klasse Person mit Namen <name> und Alter <age>\n",
    "        '''   \n",
    "        self.name = name\n",
    "        self._age = age\n",
    "        \n",
    "    def birthday(self):\n",
    "        '''increment age by one'''\n",
    "        self._age = self._age + 1\n",
    "        \n",
    "    def __repr__(self):\n",
    "        return 'Person(name = \\'{}\\', age = {})'.format(self.name, self._age)\n",
    "    \n",
    "bob = Person('bob', 99)\n",
    "print(bob)\n",
    "bob.birthday()\n",
    "print(bob)\n",
    "\n",
    "bob._age = 30 # Verstoesst gegen Konvention!\n",
    "bob"
   ]
  },
  {
   "cell_type": "markdown",
   "id": "507c1a5e-942f-42b9-a474-d9f24afb8069",
   "metadata": {},
   "source": [
    "***\n",
    "Falls n&ouml;tig, k&ouml;nnen in Python nachtr&auml;glich \n",
    "Getter- und Setterfunktionalit&auml;t zu einem Attribut hinzugef&uuml;gt werden, ohne bestehenden Code anpassen zu m&uuml;ssen.\n",
    "***"
   ]
  },
  {
   "cell_type": "code",
   "execution_count": 133,
   "id": "7ebbb081-ba82-4b45-9642-fd344411863d",
   "metadata": {},
   "outputs": [
    {
     "name": "stdout",
     "output_type": "stream",
     "text": [
      "Person(name = 'bob', age = 99)\n",
      "Person(name = 'bob', age = 100)\n"
     ]
    }
   ],
   "source": [
    "class Person:\n",
    "    def __init__(self, name, age):\n",
    "        '''Initializer: erzeugt eine Instanze der\n",
    "           Klasse Person mit Namen <name> und Alter <age>\n",
    "        '''   \n",
    "        self.name = name\n",
    "        self.age = age\n",
    "      \n",
    "    @property\n",
    "    def age(self):\n",
    "        return self._age\n",
    "    \n",
    "    @age.setter\n",
    "    def age(self, age):\n",
    "        '''checks if age is a number between 0 and 120,\n",
    "           stores age as a \"private\" attribute self._age\n",
    "        '''\n",
    "        if not isinstance(age, (int, float)):\n",
    "             raise TypeError('Expected age to be a number, got object of type \"{}\".'\\\n",
    "                             .format(type(age).__name__)                           \n",
    "                            )\n",
    "        if age < 0 or age > 120:\n",
    "            raise ValueError('Expected age in range(0,121), got {}.'\\\n",
    "                             .format(age)                            \n",
    "                            )\n",
    "        self._age = age\n",
    "        \n",
    "    def birthday(self):\n",
    "        '''increment age by one'''\n",
    "        self.age = self.age + 1\n",
    "        \n",
    "    def __repr__(self):\n",
    "        return 'Person(name = \\'{}\\', age = {})'\\\n",
    "               .format(self.name, self.age)\n",
    "    \n",
    "bob = Person('bob', 99)\n",
    "print(bob)\n",
    "\n",
    "bob.birthday()\n",
    "print(bob)"
   ]
  },
  {
   "cell_type": "code",
   "execution_count": 131,
   "id": "c8369155-850d-4b6b-83b5-8c26c5dbbe35",
   "metadata": {},
   "outputs": [
    {
     "data": {
      "text/plain": [
       "100"
      ]
     },
     "execution_count": 131,
     "metadata": {},
     "output_type": "execute_result"
    }
   ],
   "source": [
    "bob.age"
   ]
  },
  {
   "cell_type": "code",
   "execution_count": 129,
   "id": "6f14e528-7dcb-40f5-ab4b-b0bc0e7554af",
   "metadata": {},
   "outputs": [
    {
     "data": {
      "text/plain": [
       "Person(name = 'bob', age = 50)"
      ]
     },
     "execution_count": 129,
     "metadata": {},
     "output_type": "execute_result"
    }
   ],
   "source": [
    "bob.age = 50\n",
    "# bob.age = 130   # loest einen ValueError aus\n",
    "# bob.age = 'foo' # loest einen TypeError aus\n",
    "\n",
    "bob"
   ]
  }
 ],
 "metadata": {
  "kernelspec": {
   "display_name": "Python 3 (ipykernel)",
   "language": "python",
   "name": "python3"
  },
  "language_info": {
   "codemirror_mode": {
    "name": "ipython",
    "version": 3
   },
   "file_extension": ".py",
   "mimetype": "text/x-python",
   "name": "python",
   "nbconvert_exporter": "python",
   "pygments_lexer": "ipython3",
   "version": "3.9.10"
  }
 },
 "nbformat": 4,
 "nbformat_minor": 5
}
