{
 "cells": [
  {
   "cell_type": "markdown",
   "id": "b768fa49-f920-4ede-a1dc-0dc655920813",
   "metadata": {},
   "source": [
    "### Mehr zu Funktionen\n",
    "- **Non-Default Arguments** und  **Default Arguments**\n",
    "- **Positional Arguments** und **Keyword Arguments**  \n",
    "- **Auspacken** von **Iterables** und **Dictionaries** beim Funktionsaufruf, Funktionen mit variabler Anzahl von Argumenten (**variadic** functions)"
   ]
  },
  {
   "cell_type": "markdown",
   "id": "c78f9aa7-dad4-4a2f-919c-8cdaaf6bcd56",
   "metadata": {},
   "source": [
    "**Non-Default Arguments** und  **Default Arguments**\n",
    "- Non-Default Arguments: ```def f(x, y):```  \n",
    "  Beim Funktionsaufruf **m&uuml;ssen** allen non-default Argumenten Werte &uuml;bergeben werden.\n",
    "  \n",
    "- Default Arguments: ```def f(x = 2, y = 'test'):```\n",
    "  Beim Funktionsaufruf **k&ouml;nnen** diesen  Argumenten Werte &uuml;bergeben werden.\n",
    "\n",
    "- Mischform: ```def f(x, y = 'test'):```  \n",
    "  Alle **non-default Arguments** m&uuml;ssen **vor** den **default Arguments** stehen."
   ]
  },
  {
   "cell_type": "code",
   "execution_count": null,
   "id": "4256038d-11f4-4b97-9b05-26be57aa3df2",
   "metadata": {},
   "outputs": [],
   "source": [
    "def f(x, y = 2, z):\n",
    "    pass"
   ]
  },
  {
   "cell_type": "markdown",
   "id": "58f33052-b252-4e7f-9fbc-58bddc646e90",
   "metadata": {},
   "source": [
    "**Positional Arguments** und **Keyword Arguments**\n",
    "Betrachte die Funktionsdefinition ```def f(x, y, z = 3):```  \n",
    "\n",
    "Beim Funktionsaufruf k&ouml;nnen Argumente sowohl\n",
    "by position  (**positional arguments**) als auch als key-value Paare\n",
    "(**keyword arguments**) &uuml;bergeben werden.\n",
    "Alle Argumente, die **by position** &uuml;bergeben werden, \n",
    "**m&uuml;ssen vor** den **key-value** Paaren stehen.  \n",
    "\n",
    "- erlaubt:\n",
    "```python\n",
    "f(2, 3)\n",
    "f(2, 3, 4)\n",
    "f(2, y=3, z=4)\n",
    "f(2, z=4, y=3)\n",
    "```\n",
    "- veboten:\n",
    "```python\n",
    "f(x=2, 3)\n",
    "```\n",
    "\n",
    "**Bemerkung**:  \n",
    "Manche Funktionen erlauben nur positional Arguments (z.B. ```str.ljust```).  \n",
    "Ersichtlich aus der Signatur der Funktion ```ljust(self, width, fillchar=' ', /)```.  \n",
    "Argumente vor dem **/** k&ouml;nnen nur **by position** &uuml;bergeben werden\n",
    "\n",
    "```\n",
    "Help on method_descriptor:\n",
    "\n",
    "ljust(self, width, fillchar=' ', /)\n",
    "    Return a left-justified string of length width.\n",
    "```"
   ]
  },
  {
   "cell_type": "code",
   "execution_count": null,
   "id": "da846c70-d55b-40f1-8502-ff477347ac6c",
   "metadata": {},
   "outputs": [],
   "source": [
    "'abc'.ljust(width=10)"
   ]
  },
  {
   "cell_type": "markdown",
   "id": "85dd8bb0-8459-4167-8017-e0f109d5843d",
   "metadata": {},
   "source": [
    "**Auspacken von Iterables und Dictionaries beim Funktionsaufruf**\n",
    "- Unpacking eines Iterables mit ```*<iterable>```:  \n",
    "  - ```f(*[1, 2, 3])``` wird zu ```f(1, 2, 3)```.  \n",
    "  -  ```f(*'abc')``` zu ```f('a', 'b', 'c')```.   \n",
    "  Der Operator __*__ packt die Elemente des Iterable aus.  \n",
    " \n",
    "- Unpacking eines Dictionaries  mit ```**<dict>```:    \n",
    "- ```f(**{'x': 1, 'y': 4})``` wird zu  ```f(x=1, y=4)```.      \n",
    "    Der Operator __**__ packt die Elemente des Dictionaries aus.  \n",
    "    \n",
    " "
   ]
  },
  {
   "cell_type": "code",
   "execution_count": null,
   "id": "69fcd46d-8792-496c-a329-9f6cc9eaf739",
   "metadata": {},
   "outputs": [],
   "source": [
    "s = 'abc'\n",
    "d = {'end': ', '}\n",
    "print(*s) # print('a','b', 'c')\n",
    "print(*s, **d) # print('a','b', 'c', end = ', ')"
   ]
  },
  {
   "cell_type": "markdown",
   "id": "d4abf07a-00e5-46df-b02c-3f0b8384c9c9",
   "metadata": {},
   "source": [
    "### Aufgabe 1\n",
    "Benutze den unpacking operator *, um mit der Funktion ```dist``` die Seitenl&auml;ngen des Dreiecks mit Ecken A,B,C zu berechnen.\n",
    "```python\n",
    "A = (3,3)\n",
    "B = (3,7)\n",
    "C = (6,3)\n",
    "\n",
    "def dist(x1, y1, x2, y2):\n",
    "    '''returns distance from (x1,y1) to (x2,y2)'''\n",
    "    return ((x1-x2)**2 + (y1-y2)**2)**(1/2)\n",
    "```"
   ]
  },
  {
   "cell_type": "markdown",
   "id": "1e0e8157-8a20-4383-a315-f55c2e75b062",
   "metadata": {
    "tags": []
   },
   "source": [
    "### Aufgabe 2\n",
    "Erg&auml;nze die Funktion ```f``` im nachstehende Codeblock, so dass der gew&uuml;nschte Output produziert wird.\n",
    "\n",
    "\n",
    "```python\n",
    "customers = [{'name'   : 'Anna',\n",
    "              'anrede' : 'Liebe',\n",
    "              'gruss'  : 'Mit freundlichen Grüssen',\n",
    "             },\n",
    "            ]\n",
    "            \n",
    "email = '''\\\n",
    "{anrede} {name},\n",
    " \n",
    "{msg}\n",
    " \n",
    "{gruss},\n",
    "{absender}\n",
    "''' \n",
    "\n",
    "def f(msg, customer, template, absender='Your Name'):\n",
    "    return template.format(<ergaenze>)\n",
    "```\n",
    "\n",
    "Erwarterer Output:\n",
    "```python    \n",
    "msg = 'danke fuer deine rasch Anwort.'\n",
    "print(f(msg, customers[0], template = email))  \n",
    "```\n",
    "Liebe Anna,\n",
    " \n",
    "danke fuer deine rasch Anwort.\n",
    " \n",
    "Mit freundlichen Grüssen,  \n",
    "Your Name"
   ]
  },
  {
   "cell_type": "code",
   "execution_count": null,
   "id": "3b388bf8-ecc6-4f7f-bedd-89d0359f1907",
   "metadata": {},
   "outputs": [],
   "source": []
  }
 ],
 "metadata": {
  "kernelspec": {
   "display_name": "Python 3 (ipykernel)",
   "language": "python",
   "name": "python3"
  },
  "language_info": {
   "codemirror_mode": {
    "name": "ipython",
    "version": 3
   },
   "file_extension": ".py",
   "mimetype": "text/x-python",
   "name": "python",
   "nbconvert_exporter": "python",
   "pygments_lexer": "ipython3",
   "version": "3.9.10"
  }
 },
 "nbformat": 4,
 "nbformat_minor": 5
}
