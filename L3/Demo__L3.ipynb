{
 "cells": [
  {
   "cell_type": "markdown",
   "id": "fdf43469-1235-45c7-a3d4-a6fe8f97cedd",
   "metadata": {},
   "source": [
    "### Funktionen programmieren\n",
    "Das Finden und Korrigieren syntaktischer und sematischer Fehler in fehlerhaftem Code ist\n",
    "zeitaufw&auml;ndig. Es empfiehlt sich, eine Funktion inkrementell zu erstellen, d.h. kleine, geteste Codefragmente sukzessive zu erweitern und in Funktionen zu packen.  \n",
    "\n",
    "Nachstehend entwickeln wir eine Funktion  \n",
    "`print_as_table(header, data_rows)`,  \n",
    "die folgenden Output produziert: \n",
    "\n",
    "```python\n",
    "header    =  ('Vorname', 'Nachname', 'Email')\n",
    "data_rows = [('Anna', 'Meier', 'Anna.Meier@foo.ch'), \n",
    "             ('Hans', 'Mustermann', 'Hans.Mustermann@foo.ch'),\n",
    "            ] \n",
    "\n",
    "print_as_table(header, data_rows)\n",
    "```  \n",
    "\n",
    "Erwarteter Output:\n",
    "```\n",
    "|Vorname|Nachname  |Email                 |\n",
    "|=======|==========|======================|\n",
    "|Anna   |Meier     |Anna.Meier@foo.ch     |\n",
    "|Hans   |Mustermann|Hans.Mustermann@foo.ch|\n",
    "```"
   ]
  },
  {
   "cell_type": "markdown",
   "id": "097d2ac4-efb7-4ac6-87c3-8754c3c398b5",
   "metadata": {},
   "source": [
    "***\n",
    "Beginne mit einer einfacherer Aufgabe:  \n",
    "Gib \n",
    "```\n",
    "|Vorname        |Nachname       |\n",
    "|===============|===============|\n",
    "|Hans           |Muster         |\n",
    "```\n",
    "aus.\n",
    "***"
   ]
  },
  {
   "cell_type": "markdown",
   "id": "48e4199a-08b1-4663-bbef-95931b673a61",
   "metadata": {},
   "source": [
    "***\n",
    "Einzelne Strings kreieren\n",
    "***"
   ]
  },
  {
   "cell_type": "code",
   "execution_count": null,
   "id": "0c4d430b-2e66-40d9-882a-93171f00ad89",
   "metadata": {},
   "outputs": [],
   "source": [
    "'=' * 15"
   ]
  },
  {
   "cell_type": "code",
   "execution_count": null,
   "id": "10ed1372-76a8-4f2c-9d15-67b85c263fe6",
   "metadata": {},
   "outputs": [],
   "source": [
    "col1 = 'Vorname'.ljust(15)\n",
    "col2 = 'Nachname'.ljust(15)\n",
    "# print('|' + col1 + '|' + col2 + '|')\n",
    "print('|{}|{}|'.format(col1, col2))"
   ]
  },
  {
   "cell_type": "code",
   "execution_count": null,
   "id": "37a196f0-a331-4ce3-aa4f-9ad7aceae49f",
   "metadata": {},
   "outputs": [],
   "source": [
    "col1 = '=' * 15\n",
    "col2 = '=' * 15\n",
    "print('|{}|{}|'.format(col1, col2))"
   ]
  },
  {
   "cell_type": "code",
   "execution_count": null,
   "id": "90336dcd-fc61-422b-9160-e7657328a1b4",
   "metadata": {},
   "outputs": [],
   "source": [
    "col1 = 'Hans'.ljust(15)\n",
    "col2 = 'Muster'.ljust(15)\n",
    "print('|{}|{}|'.format(col1, col2))"
   ]
  },
  {
   "cell_type": "markdown",
   "id": "7e937d22-e2bf-473e-935e-f8aa251ef368",
   "metadata": {},
   "source": [
    "***\n",
    "Obiger Code wird mehrmals verwendet.  \n",
    "Wir machen daraus eine Funktion, die wir bei Bedarf aufrufen k&ouml;nnen.\n",
    "***"
   ]
  },
  {
   "cell_type": "code",
   "execution_count": null,
   "id": "5e01d566-fbcc-4ad2-b01e-4cc7a408ad78",
   "metadata": {},
   "outputs": [],
   "source": [
    "def print_pair(item1, item2):\n",
    "    '''print item1 and item2 as columns in a table with\n",
    "       columnwidth = 15\n",
    "    '''\n",
    "    col1 = item1.ljust(15)\n",
    "    col2 = item2.ljust(15)\n",
    "    print('|{}|{}|'.format(col1, col2))"
   ]
  },
  {
   "cell_type": "code",
   "execution_count": null,
   "id": "eec83605-858c-4150-93ff-67cdf4c02050",
   "metadata": {},
   "outputs": [],
   "source": [
    "print_pair('Name', 'Vorname')\n",
    "print_pair('=' * 15, '=' * 15)\n",
    "print_pair('Hans', 'Mustermann')"
   ]
  },
  {
   "cell_type": "markdown",
   "id": "af2aeead-6f08-43e3-af8a-97033183e533",
   "metadata": {},
   "source": [
    "***\n",
    "Als n&auml;chstes wollen wir  eine variable Anzahl Spalten\n",
    "handhaben k&ouml;nnen.  \n",
    "Statt 2 Strings nimmt die Funktion nun ein Tuple von Strings als Argument.\n",
    "***"
   ]
  },
  {
   "cell_type": "code",
   "execution_count": null,
   "id": "545e0177-6b0c-4f0a-ad85-ba5c6082d593",
   "metadata": {},
   "outputs": [],
   "source": [
    "tp = ('Anna', 'Meyer')\n",
    "# tp = ('Anna', 'Meyer', 'anna.meier@foo.ch')\n",
    "\n",
    "cols = []\n",
    "for item in tp:\n",
    "    s = item.ljust(15)\n",
    "    cols.append(s)\n",
    "    \n",
    "# cols\n",
    "s = '|'\n",
    "for col in cols:\n",
    "    s = s + col + '|'\n",
    "print(s)    "
   ]
  },
  {
   "cell_type": "markdown",
   "id": "650005c3-90a2-4227-89bf-8565cb6e678a",
   "metadata": {},
   "source": [
    "***\n",
    "Obiger Code macht was er soll.  \n",
    "Machen wir daraus eine Funktion.\n",
    "***"
   ]
  },
  {
   "cell_type": "code",
   "execution_count": null,
   "id": "2617ab4a-7cb4-4d93-97ea-f8f9ad46b881",
   "metadata": {},
   "outputs": [],
   "source": [
    "def print_tuple(tp):  \n",
    "    '''gib tp als Tabellenzeile aus mit Spaltenbreite width'''  \n",
    "    cols = []\n",
    "    for item in tp:\n",
    "        s = item.ljust(15)\n",
    "        cols.append(s)\n",
    "\n",
    "    s = '|'\n",
    "    for col in cols:\n",
    "        s = s + col + '|'\n",
    "    print(s)    "
   ]
  },
  {
   "cell_type": "code",
   "execution_count": null,
   "id": "ffbc9c7d-4c0e-4455-ace4-6c94c10ef5c3",
   "metadata": {},
   "outputs": [],
   "source": [
    "header = ('Name', 'Vorname', 'Email')\n",
    "print_tuple(header)    "
   ]
  },
  {
   "cell_type": "markdown",
   "id": "18348a33-c350-40b0-b381-f7dcac3ebf58",
   "metadata": {},
   "source": [
    "***\n",
    "Zus&auml;tzliches Argument `width` hinzuf&uuml;gen.\n",
    "***"
   ]
  },
  {
   "cell_type": "code",
   "execution_count": null,
   "id": "dfefe5ef-92d9-4771-8781-ca46e1b7191c",
   "metadata": {},
   "outputs": [],
   "source": [
    "def print_tuple(tp, width):  \n",
    "    '''gib tp als Tabellenzeile aus mit Spaltenbreite width'''  \n",
    "    cols = []\n",
    "    for item in tp:\n",
    "        s = item.ljust(width)\n",
    "        cols.append(s)\n",
    "\n",
    "    s = '|'\n",
    "    for col in cols:\n",
    "        s = s + col + '|'\n",
    "    print(s)    "
   ]
  },
  {
   "cell_type": "code",
   "execution_count": null,
   "id": "3e5caf93-c5f5-4afc-9404-1e4c9f99f108",
   "metadata": {},
   "outputs": [],
   "source": [
    "header = ('Name', 'Vorname', 'Email')\n",
    "print_tuple(header, 15)    "
   ]
  },
  {
   "cell_type": "markdown",
   "id": "3c3393ba-b59a-403c-b4d6-8a81d2a0c4e7",
   "metadata": {},
   "source": [
    "***\n",
    "Der mehrmalige Aufruf von `print_tuple` erfolgt nun in einem For-Loop:\n",
    "***"
   ]
  },
  {
   "cell_type": "code",
   "execution_count": null,
   "id": "5a7e2d38-16a7-41a2-b360-f72f1bb65a94",
   "metadata": {},
   "outputs": [],
   "source": [
    "COL_WIDTH = 15\n",
    "header    = ('Name', 'Vorname', 'Email')\n",
    "data_rows = [('Anna', 'Meier', 'Anna.Meier@foo.ch'), \n",
    "             ('Hans', 'Mustermann', 'Hans.Mustermann@foo.ch'),\n",
    "            ] \n",
    "hline = ('=' * COL_WIDTH, ) * len(header)\n",
    "\n",
    "\n",
    "rows = [header, hline] + data_rows\n",
    "for row in rows:\n",
    "    print_tuple(row, COL_WIDTH)    "
   ]
  },
  {
   "cell_type": "markdown",
   "id": "b0f19efc-9737-495c-963a-fc5a0a3052a8",
   "metadata": {},
   "source": [
    "***\n",
    "Breite f&uuml;r jede Spalte separat festlegen. Statt einer Konstante WIDTH benutzen wir ein Tuple von Integern. Um die Liste `cols` zu erstellen iterieren wir &uuml;ber `zip(tp, widths)` statt `tp`.\n",
    "- `WIDTH: int -> widths: tuple[int]`\n",
    "- `for item in tp: --> for item, width in zip(tp, widths):`\n",
    "***"
   ]
  },
  {
   "cell_type": "code",
   "execution_count": null,
   "id": "c7753973-5051-4efc-92e1-7697a19fba4f",
   "metadata": {},
   "outputs": [],
   "source": [
    "def print_as_tuple(tp, widths):  \n",
    "    '''gib tp als Tabellenzeile aus mit Spaltenbreite width'''  \n",
    "    cols = []\n",
    "    for item, width in zip(tp, widths):\n",
    "        s = item.ljust(width)\n",
    "        cols.append(s)\n",
    "\n",
    "    s = '|'\n",
    "    for col in cols:\n",
    "        s = s + col + '|'\n",
    "    print(s)    "
   ]
  },
  {
   "cell_type": "markdown",
   "id": "843101dd-36c9-43a4-9f3c-96e0d8efe07e",
   "metadata": {},
   "source": [
    "***\n",
    "Ermittle maximale Spaltenbreite mit einer Funktion `get_widths`.   \n",
    "**Annahme**: alle Zeilen haben gleich viele Spalten wie die erste Zeile\n",
    "***"
   ]
  },
  {
   "cell_type": "code",
   "execution_count": null,
   "id": "0d4f5c2f-474c-47df-974f-60f8e24f1172",
   "metadata": {},
   "outputs": [],
   "source": [
    "def get_widths(header, data_rows):\n",
    "    '''gibt tuple mit den maximalen Spaltenbreiten \n",
    "       von header und data_rows zurueck\n",
    "    '''   \n",
    "\n",
    "    widths = [] \n",
    "    for row in header:\n",
    "        width = len(row)\n",
    "        widths.append(width)\n",
    "\n",
    "    for row in data_rows:\n",
    "        for i, item in enumerate(row):\n",
    "            new_width = max(widths[i], len(item))\n",
    "            widths[i] = new_width\n",
    "\n",
    "    return widths    "
   ]
  },
  {
   "cell_type": "code",
   "execution_count": null,
   "id": "c1bac973-ee6b-4c60-be29-4b5e88b8f8b5",
   "metadata": {},
   "outputs": [],
   "source": [
    "get_widths(header, data_rows)"
   ]
  },
  {
   "cell_type": "markdown",
   "id": "c3029b9c-8186-4be7-95f0-9bd45ec0eb58",
   "metadata": {},
   "source": [
    "***\n",
    "Verwende nun die Funktion `get_widths`\n",
    "***"
   ]
  },
  {
   "cell_type": "code",
   "execution_count": null,
   "id": "a49ebcdd-7bae-4be4-a809-2742722f3ad2",
   "metadata": {},
   "outputs": [],
   "source": []
  },
  {
   "cell_type": "markdown",
   "id": "901582c5-390a-4857-b49b-72a771c6f779",
   "metadata": {},
   "source": [
    "***\n",
    "Code macht was er soll, machen wir daraus eine Funktion\n",
    "***"
   ]
  },
  {
   "cell_type": "code",
   "execution_count": null,
   "id": "9e9f7a9a-7cca-43bb-abbd-1fdf79b7de33",
   "metadata": {},
   "outputs": [],
   "source": [
    "def print_as_table(header, data_rows):    \n",
    "    '''Gib header und data_rows in Tabellenform aus\n",
    "    \n",
    "       header: Tuple mit Spaltennamen\n",
    "       data_rows: Liste von Tupeln mit Spalteneintraegen \n",
    "    '''\n",
    "    pass"
   ]
  },
  {
   "cell_type": "code",
   "execution_count": null,
   "id": "44543eda-6797-4702-9cc4-f54860956ac2",
   "metadata": {},
   "outputs": [],
   "source": [
    "print_as_table(header, data_rows)"
   ]
  },
  {
   "cell_type": "markdown",
   "id": "0b6c7a32-2643-420d-9723-c3cee80e5fbd",
   "metadata": {},
   "source": [
    "***\n",
    "Funktion `print_as_table` mit Hilfsfunktionen in einer Zelle  \n",
    "Dann Zelle in ein File schreiben mit  \n",
    "`%%file <filename>`\n",
    "***"
   ]
  },
  {
   "cell_type": "code",
   "execution_count": null,
   "id": "4de196a9-146d-4f01-99b4-27b993a9203e",
   "metadata": {},
   "outputs": [],
   "source": [
    "# %%file ~/work/modules/tools.py"
   ]
  }
 ],
 "metadata": {
  "kernelspec": {
   "display_name": "Python 3 (ipykernel)",
   "language": "python",
   "name": "python3"
  },
  "language_info": {
   "codemirror_mode": {
    "name": "ipython",
    "version": 3
   },
   "file_extension": ".py",
   "mimetype": "text/x-python",
   "name": "python",
   "nbconvert_exporter": "python",
   "pygments_lexer": "ipython3",
   "version": "3.9.10"
  }
 },
 "nbformat": 4,
 "nbformat_minor": 5
}
