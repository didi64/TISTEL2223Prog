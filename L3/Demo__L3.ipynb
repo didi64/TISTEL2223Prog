{
 "cells": [
  {
   "cell_type": "markdown",
   "id": "fdf43469-1235-45c7-a3d4-a6fe8f97cedd",
   "metadata": {},
   "source": [
    "### Funktionen programmieren\n",
    "Das Finden und Korrigieren syntaktischer und sematischer Fehler in fehlerhaftem Code ist\n",
    "zeitaufw&auml;ndig. Es empfiehlt sich, eine Funktion inkrementell zu erstellen, d.h. kleine, geteste Codefragmente sukzessive zu erweitern und in Funktionen zu packen.  \n",
    "\n",
    "Nachstehend entwickeln wir eine Funktion  \n",
    "`print_as_table(header, data_rows)`,  \n",
    "die folgenden Output produziert: \n",
    "\n",
    "```python\n",
    "header    =  ('Vorname', 'Nachname', 'Email')\n",
    "data_rows = [('Anna', 'Meier', 'Anna.Meier@foo.ch'), \n",
    "             ('Hans', 'Mustermann', 'Hans.Mustermann@foo.ch'),\n",
    "            ] \n",
    "\n",
    "print_as_table(header, data_rows)\n",
    "```  \n",
    "\n",
    "Erwarteter Output:\n",
    "```\n",
    "|Vorname|Nachname  |Email                 |\n",
    "|=======|==========|======================|\n",
    "|Anna   |Meier     |Anna.Meier@foo.ch     |\n",
    "|Hans   |Mustermann|Hans.Mustermann@foo.ch|\n",
    "```"
   ]
  },
  {
   "cell_type": "markdown",
   "id": "097d2ac4-efb7-4ac6-87c3-8754c3c398b5",
   "metadata": {},
   "source": [
    "***\n",
    "Beginne mit einer einfacherer Aufgabe:  \n",
    "Gib \n",
    "```\n",
    "|Vorname        |Nachname       |\n",
    "|===============|===============|\n",
    "|Hans           |Muster         |\n",
    "```\n",
    "aus.\n",
    "***"
   ]
  },
  {
   "cell_type": "markdown",
   "id": "48e4199a-08b1-4663-bbef-95931b673a61",
   "metadata": {},
   "source": [
    "***\n",
    "Einzelne Strings kreieren\n",
    "***"
   ]
  },
  {
   "cell_type": "code",
   "execution_count": null,
   "id": "0c4d430b-2e66-40d9-882a-93171f00ad89",
   "metadata": {},
   "outputs": [],
   "source": []
  },
  {
   "cell_type": "markdown",
   "id": "7e937d22-e2bf-473e-935e-f8aa251ef368",
   "metadata": {},
   "source": [
    "***\n",
    "Obiger Code wird mehrmals verwendet.  \n",
    "Wir machen daraus eine Funktion, die wir bei Bedarf aufrufen k&ouml;nnen.\n",
    "***"
   ]
  },
  {
   "cell_type": "code",
   "execution_count": null,
   "id": "5e01d566-fbcc-4ad2-b01e-4cc7a408ad78",
   "metadata": {},
   "outputs": [],
   "source": []
  },
  {
   "cell_type": "code",
   "execution_count": null,
   "id": "eec83605-858c-4150-93ff-67cdf4c02050",
   "metadata": {},
   "outputs": [],
   "source": []
  },
  {
   "cell_type": "markdown",
   "id": "af2aeead-6f08-43e3-af8a-97033183e533",
   "metadata": {},
   "source": [
    "***\n",
    "Als n&auml;chstes wollen wir  eine variable Anzahl Spalten\n",
    "handhaben k&ouml;nnen.  \n",
    "Statt 2 Strings nimmt die Funktion nun ein Tuple von Strings als Argument.\n",
    "***"
   ]
  },
  {
   "cell_type": "code",
   "execution_count": null,
   "id": "545e0177-6b0c-4f0a-ad85-ba5c6082d593",
   "metadata": {},
   "outputs": [],
   "source": []
  },
  {
   "cell_type": "markdown",
   "id": "650005c3-90a2-4227-89bf-8565cb6e678a",
   "metadata": {},
   "source": [
    "***\n",
    "Obiger Code macht was er soll.  \n",
    "Machen wir daraus eine Funktion.\n",
    "***"
   ]
  },
  {
   "cell_type": "code",
   "execution_count": null,
   "id": "2617ab4a-7cb4-4d93-97ea-f8f9ad46b881",
   "metadata": {},
   "outputs": [],
   "source": []
  },
  {
   "cell_type": "markdown",
   "id": "18348a33-c350-40b0-b381-f7dcac3ebf58",
   "metadata": {},
   "source": [
    "***\n",
    "Zus&auml;tzliches Argument `width` hinzuf&uuml;gen.\n",
    "***"
   ]
  },
  {
   "cell_type": "code",
   "execution_count": null,
   "id": "dfefe5ef-92d9-4771-8781-ca46e1b7191c",
   "metadata": {},
   "outputs": [],
   "source": []
  },
  {
   "cell_type": "code",
   "execution_count": null,
   "id": "af251ad9-441b-4f9b-8e53-ea9511fddbe1",
   "metadata": {},
   "outputs": [],
   "source": [
    "COL_WIDTH = 15\n",
    "header = ('Name', 'Vorname')\n",
    "hline = ('=' * COL_WIDTH, ) * 2\n",
    "name1 = ('Anna', 'Meyer')\n",
    "\n",
    "tuple2table_str(header, COL_WIDTH)    \n",
    "tuple2table_str(hline, COL_WIDTH)    \n",
    "tuple2table_str(name1, COL_WIDTH)   "
   ]
  },
  {
   "cell_type": "markdown",
   "id": "3c3393ba-b59a-403c-b4d6-8a81d2a0c4e7",
   "metadata": {},
   "source": [
    "***\n",
    "Der mehrmalige Aufruf von `tuple2table_str` erfolgt nun in einem For-Loop:\n",
    "***"
   ]
  },
  {
   "cell_type": "code",
   "execution_count": null,
   "id": "5a7e2d38-16a7-41a2-b360-f72f1bb65a94",
   "metadata": {},
   "outputs": [],
   "source": []
  },
  {
   "cell_type": "markdown",
   "id": "b0f19efc-9737-495c-963a-fc5a0a3052a8",
   "metadata": {},
   "source": [
    "***\n",
    "Breite f&uuml;r jede Spalte separat festlegen. Statt einer Konstante WIDTH benutzen wir ein Tuple von Integern. Um die Liste `cols` zu erstellen iterieren wir &uuml;ber `zip(tp, widths)` statt `tp`.\n",
    "- `WIDTH: int -> widths: tuple[int]`\n",
    "- `for item in tp: --> for item, width in zip(tp, widths):`\n",
    "***"
   ]
  },
  {
   "cell_type": "code",
   "execution_count": null,
   "id": "c7753973-5051-4efc-92e1-7697a19fba4f",
   "metadata": {},
   "outputs": [],
   "source": []
  },
  {
   "cell_type": "markdown",
   "id": "843101dd-36c9-43a4-9f3c-96e0d8efe07e",
   "metadata": {},
   "source": [
    "***\n",
    "Ermittle maximale Spaltenbreite.  \n",
    "**Annahme**: alle Zeilen haben gleich viele Spalten wie die erste Zeile\n",
    "***"
   ]
  },
  {
   "cell_type": "code",
   "execution_count": null,
   "id": "0d4f5c2f-474c-47df-974f-60f8e24f1172",
   "metadata": {},
   "outputs": [],
   "source": []
  },
  {
   "cell_type": "markdown",
   "id": "c3029b9c-8186-4be7-95f0-9bd45ec0eb58",
   "metadata": {},
   "source": [
    "***\n",
    "Verwende nun die Funktion `get_widths`\n",
    "***"
   ]
  },
  {
   "cell_type": "markdown",
   "id": "901582c5-390a-4857-b49b-72a771c6f779",
   "metadata": {},
   "source": [
    "***\n",
    "Code macht was er soll, machen wir daraus eine Funktion\n",
    "***"
   ]
  },
  {
   "cell_type": "code",
   "execution_count": 39,
   "id": "44543eda-6797-4702-9cc4-f54860956ac2",
   "metadata": {},
   "outputs": [],
   "source": []
  },
  {
   "cell_type": "markdown",
   "id": "0b6c7a32-2643-420d-9723-c3cee80e5fbd",
   "metadata": {},
   "source": [
    "***\n",
    "Funktion `print_as_table` testen\n",
    "***"
   ]
  },
  {
   "cell_type": "code",
   "execution_count": null,
   "id": "0c4be335-3153-4ea2-8117-5e4c31ea2610",
   "metadata": {},
   "outputs": [],
   "source": []
  }
 ],
 "metadata": {
  "kernelspec": {
   "display_name": "Python 3 (ipykernel)",
   "language": "python",
   "name": "python3"
  },
  "language_info": {
   "codemirror_mode": {
    "name": "ipython",
    "version": 3
   },
   "file_extension": ".py",
   "mimetype": "text/x-python",
   "name": "python",
   "nbconvert_exporter": "python",
   "pygments_lexer": "ipython3",
   "version": "3.9.10"
  }
 },
 "nbformat": 4,
 "nbformat_minor": 5
}
