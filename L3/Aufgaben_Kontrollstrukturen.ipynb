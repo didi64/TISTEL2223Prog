{
 "cells": [
  {
   "cell_type": "markdown",
   "id": "d104e482-d426-4071-a810-84e7e1a8fc5b",
   "metadata": {},
   "source": [
    "### Aufgaben\n",
    "- Schreibe Code, der solange nach einer Zahl fr&auml;gt, bis 5 eingegeben wird.\n",
    "  Gib jeweils aus, ob die eingegebene Zahl 'too big', 'correct' oder 'too small' ist.\n",
    "  \n",
    "- Schreibe eine Funktion ```play_game(lower, upper)```, welche eine Zufallszahl zwischen lower und upper erraten l&auml;sst. Benutze ```eval_guess(guess, nbr)```.\n",
    "\n",
    "- Erweitere ```play_game(lower, upper)```, so dass  f&uuml;r jeden Versuch ein Tupel\n",
    "der Form ```(5, 'too small')``` zu einer \n",
    "Liste ```history``` hinzugef&uuml;gt wird.\n",
    "Gib Anzahl Versuche und die ```history``` aus."
   ]
  },
  {
   "cell_type": "code",
   "execution_count": null,
   "id": "951e5b6e-a92b-4a53-a40c-39bd76aaae48",
   "metadata": {},
   "outputs": [],
   "source": [
    "# Nach Zahl fragen, bis 5 eingegeben wird\n",
    "LOWER = 1\n",
    "UPPER = 10\n",
    "NBR   = 5\n",
    "\n",
    "n = None\n",
    "while n != NBR: # n ungleich NBR"
   ]
  },
  {
   "cell_type": "code",
   "execution_count": null,
   "id": "0b546537-a60c-4690-933f-b7bc8cd5222c",
   "metadata": {},
   "outputs": [],
   "source": [
    "# play_game(lower, upper)\n",
    "import random\n",
    "def play_game(lower=0, upper=10):\n",
    "    nbr = random.randint(lower, upper)\n",
    "   \n",
    "    n = None\n",
    "    while n != NBR:       \n",
    "        # <dein Code> "
   ]
  },
  {
   "cell_type": "code",
   "execution_count": null,
   "id": "6fb1d2e8-010d-47bd-aadd-5e88ef1525ec",
   "metadata": {},
   "outputs": [],
   "source": [
    "import random\n",
    "def play_game(lower=0, upper=10):\n",
    "    nbr = random.randint(lower, upper)\n",
    "    history = []\n",
    "    # <dein Code>\n",
    "    print(history)    "
   ]
  }
 ],
 "metadata": {
  "kernelspec": {
   "display_name": "Python 3 (ipykernel)",
   "language": "python",
   "name": "python3"
  },
  "language_info": {
   "codemirror_mode": {
    "name": "ipython",
    "version": 3
   },
   "file_extension": ".py",
   "mimetype": "text/x-python",
   "name": "python",
   "nbconvert_exporter": "python",
   "pygments_lexer": "ipython3",
   "version": "3.9.10"
  }
 },
 "nbformat": 4,
 "nbformat_minor": 5
}
