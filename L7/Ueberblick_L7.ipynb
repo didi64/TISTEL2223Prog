{
 "cells": [
  {
   "cell_type": "markdown",
   "id": "88df95fd-5506-478c-9b42-818827d7504f",
   "metadata": {
    "tags": []
   },
   "source": [
    "### Lektion 6, &Uuml;berblick und weitere Resourcen\n",
    "\n",
    "- Repetition zu Listcomprehension, sowie den Funktionen str.split, str.join, str.ljust und max anhand von &Uuml;bungsaufgaben\n",
    "- Mit Hilfe von einem Dictionaries die Sprache eines Textes aufgrund der Buchstabenh&auml;ufigkeit erkennen\n",
    "- Textfiles lesen und schreiben  \n",
    "[python.org/3/tutorial, Files](https://docs.python.org/3/tutorial/inputoutput.html#reading-and-writing-files)\n",
    "- Dictionaries aus Text(files) erstellen."
   ]
  },
  {
   "cell_type": "code",
   "execution_count": null,
   "id": "57bfec6b-ac0e-4a1b-aeba-fdd80da8864e",
   "metadata": {},
   "outputs": [],
   "source": []
  }
 ],
 "metadata": {
  "kernelspec": {
   "display_name": "Python 3 (ipykernel)",
   "language": "python",
   "name": "python3"
  },
  "language_info": {
   "codemirror_mode": {
    "name": "ipython",
    "version": 3
   },
   "file_extension": ".py",
   "mimetype": "text/x-python",
   "name": "python",
   "nbconvert_exporter": "python",
   "pygments_lexer": "ipython3",
   "version": "3.9.10"
  }
 },
 "nbformat": 4,
 "nbformat_minor": 5
}
