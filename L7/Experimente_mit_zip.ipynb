{
 "cells": [
  {
   "cell_type": "markdown",
   "id": "47932de1-a613-477e-b66f-10df1395d707",
   "metadata": {},
   "source": [
    "### Experimente mit zip"
   ]
  },
  {
   "cell_type": "code",
   "execution_count": null,
   "id": "9b520d4f-e05f-456c-b7a9-6351443acac4",
   "metadata": {},
   "outputs": [],
   "source": []
  },
  {
   "cell_type": "code",
   "execution_count": null,
   "id": "5292cd5a-c97e-4dee-a714-f1b810492674",
   "metadata": {},
   "outputs": [],
   "source": [
    "for x,y,z in zip('foo', 'bar', 'baz'):\n",
    "    print(x, y, z)"
   ]
  },
  {
   "cell_type": "code",
   "execution_count": null,
   "id": "a8358608-57b5-4df8-826f-8e0d160ea6e8",
   "metadata": {},
   "outputs": [],
   "source": [
    "for tp in zip('foo', 'bar', 'baz'):\n",
    "    print(tp[0], tp[1], tp[2])"
   ]
  },
  {
   "cell_type": "code",
   "execution_count": null,
   "id": "9023cc08-d06b-428e-9912-3aa9841fb0c2",
   "metadata": {},
   "outputs": [],
   "source": [
    "for tp in zip('foo', 'bar', 'baz'):\n",
    "    x, y, z = tp\n",
    "    print(x, y, z)"
   ]
  },
  {
   "cell_type": "code",
   "execution_count": null,
   "id": "27390490-6b09-4260-a654-51703b0d8746",
   "metadata": {},
   "outputs": [],
   "source": [
    "for tp in zip('foo', 'bar', 'baz'):\n",
    "    print(*tp)"
   ]
  },
  {
   "cell_type": "code",
   "execution_count": null,
   "id": "256c27fd-b2a8-4e8b-9613-91e32f5b66fc",
   "metadata": {},
   "outputs": [],
   "source": [
    "def print_vertically(text):\n",
    "    '''print words vertically'''\n",
    "    words = text.split()\n",
    "    max_len = max(len(word) for word in words)\n",
    "    \n",
    "    words = [word.ljust(max_len) for word in words]\n",
    "    for tp in zip(*words):\n",
    "        print(' '.join(tp))"
   ]
  }
 ],
 "metadata": {
  "kernelspec": {
   "display_name": "Python 3 (ipykernel)",
   "language": "python",
   "name": "python3"
  },
  "language_info": {
   "codemirror_mode": {
    "name": "ipython",
    "version": 3
   },
   "file_extension": ".py",
   "mimetype": "text/x-python",
   "name": "python",
   "nbconvert_exporter": "python",
   "pygments_lexer": "ipython3",
   "version": "3.9.10"
  }
 },
 "nbformat": 4,
 "nbformat_minor": 5
}
