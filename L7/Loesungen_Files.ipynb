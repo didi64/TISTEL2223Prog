{
 "cells": [
  {
   "cell_type": "markdown",
   "id": "b08f22f4-85af-46f3-b633-2b1e640c2dc0",
   "metadata": {},
   "source": [
    "### L&ouml;sungen Aufgaben Files"
   ]
  },
  {
   "cell_type": "code",
   "execution_count": null,
   "id": "939fb064-44cf-4352-a4a5-390870b7bec8",
   "metadata": {},
   "outputs": [],
   "source": [
    "# File Zeilenweise einlesen\n",
    "fn = 'superleague21_22.txt'\n",
    "with open(fn, mode = 'r') as f:\n",
    "    lines = f.readlines()\n",
    "lines    "
   ]
  },
  {
   "cell_type": "code",
   "execution_count": null,
   "id": "7b3dc8f7-29e8-415e-b1f8-d71ee45a028d",
   "metadata": {},
   "outputs": [],
   "source": [
    "# Hilfsfunktion line2tuple\n",
    "def line2list(line):\n",
    "    return [item.strip() for item in line.split(',')]"
   ]
  },
  {
   "cell_type": "code",
   "execution_count": null,
   "id": "fbe73d6c-c53e-48b9-9b8f-2ee79be11833",
   "metadata": {
    "jupyter": {
     "source_hidden": true
    },
    "tags": []
   },
   "outputs": [],
   "source": [
    "# Hilfsfunktion line2tuple, ohne Listcomprehension\n",
    "def line2list(line):\n",
    "    res = []\n",
    "    items = line.split(',')\n",
    "    for item in items:\n",
    "        item_stripped = item.strip()\n",
    "        res.append(item_stripped)\n",
    "        \n",
    "    return res"
   ]
  },
  {
   "cell_type": "code",
   "execution_count": null,
   "id": "da279917-590a-43d6-9a16-1c0ebe6a6bd8",
   "metadata": {},
   "outputs": [],
   "source": [
    "line2list('Mannschaft,Sp., S,U ,V,Tore,Diff.,Pkt')"
   ]
  },
  {
   "cell_type": "code",
   "execution_count": null,
   "id": "bd4de52d-e3b2-40c3-b8f0-6c89837210a1",
   "metadata": {},
   "outputs": [],
   "source": [
    "# Tabelle mit print_as_table ausgeben\n",
    "import toolbox\n",
    "help(toolbox)"
   ]
  },
  {
   "cell_type": "code",
   "execution_count": null,
   "id": "20ffd14a-7620-43d7-81fa-27e98cfe5fd3",
   "metadata": {},
   "outputs": [],
   "source": [
    "header = line2list(lines[1])\n",
    "datarows = [line2list(line) for line in lines[2:]]\n",
    "toolbox.print_as_table(header, datarows)"
   ]
  },
  {
   "cell_type": "markdown",
   "id": "4c2c37e5-8895-46e8-9997-0476f9101884",
   "metadata": {},
   "source": [
    "### Cast Strings zu Integers wo angebracht"
   ]
  },
  {
   "cell_type": "code",
   "execution_count": null,
   "id": "ea42527e-dbf8-4e20-bcda-a06f2aa936c9",
   "metadata": {},
   "outputs": [],
   "source": [
    "def as_str_or_int(s):\n",
    "    if s.isnumeric() or s[0] == '-' and s[1:].isnumeric():\n",
    "        return int(s)\n",
    "    else:\n",
    "        return s"
   ]
  },
  {
   "cell_type": "code",
   "execution_count": null,
   "id": "ac951981-e5db-4f2d-823f-f3ffcf216f0b",
   "metadata": {},
   "outputs": [],
   "source": [
    "def line2list(line):\n",
    "    return [as_str_or_int(item.strip()) for item in line.split(',')]"
   ]
  },
  {
   "cell_type": "code",
   "execution_count": null,
   "id": "946cb384-b135-480b-9707-bc3cfa02abb6",
   "metadata": {},
   "outputs": [],
   "source": []
  }
 ],
 "metadata": {
  "kernelspec": {
   "display_name": "Python 3 (ipykernel)",
   "language": "python",
   "name": "python3"
  },
  "language_info": {
   "codemirror_mode": {
    "name": "ipython",
    "version": 3
   },
   "file_extension": ".py",
   "mimetype": "text/x-python",
   "name": "python",
   "nbconvert_exporter": "python",
   "pygments_lexer": "ipython3",
   "version": "3.9.10"
  }
 },
 "nbformat": 4,
 "nbformat_minor": 5
}
