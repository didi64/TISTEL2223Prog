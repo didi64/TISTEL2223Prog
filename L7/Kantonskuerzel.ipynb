{
 "cells": [
  {
   "cell_type": "markdown",
   "id": "bc707d56-5db3-48e0-8424-c596ccdb30ad",
   "metadata": {},
   "source": [
    "### Dictionary erstellen, der zum Kantonsk&uuml;rzel den Kantonsnamen liefert\n",
    "Wir m&ouml;chten einen Dictionary dessen Keys Kantonsk&uuml;rzel sind.\n",
    "Die zugeh&ouml;rigen Werte sind die Kantonsnamen.\n",
    "\n",
    "Copy/Paste [Kantonsk&uuml;rzel](https://www.ortsnamen.ch/de/daten/anleitungen/abk-kantone) in eine Codezelle. Weise diese Zeilen einem String zu, und verwandle diesen in einen Dictionary der Form `{AG: 'Aargau', ...}`\n",
    "\n",
    "Benutze `str.split` und `str.strip`.  "
   ]
  },
  {
   "cell_type": "code",
   "execution_count": null,
   "id": "91f60757-b2ce-47f2-acd0-6480aeb2d3b3",
   "metadata": {
    "jupyter": {
     "source_hidden": true
    },
    "tags": []
   },
   "outputs": [],
   "source": [
    "# Kantonskuerzel von \n",
    "text = '''\\\n",
    "AG \tAargau\n",
    "AI \tAppenzell Innerrhoden\n",
    "AR \tAppenzell Ausserrhoden\n",
    "BE \tBern\n",
    "BL \tBasel-Landschaft\n",
    "BS \tBasel-Stadt\n",
    "FR \tFreiburg\n",
    "GE \tGenf\n",
    "GL \tGlarus\n",
    "GR \tGraubünden\n",
    "JU \tJura\n",
    "LU \tLuzern\n",
    "NE \tNeuenburg\n",
    "NW \tNidwalden\n",
    "OW \tObwalden\n",
    "SG \tSt. Gallen\n",
    "SH \tSchaffhausen\n",
    "SO \tSolothurn\n",
    "SZ \tSchwyz\n",
    "TG \tThurgau\n",
    "TI \tTessin\n",
    "UR \tUri\n",
    "VD \tWaadt\n",
    "VS \tWallis\n",
    "ZG \tZug\n",
    "ZH \tZürich\\\n",
    "'''"
   ]
  },
  {
   "cell_type": "code",
   "execution_count": null,
   "id": "baa87854-cc3c-496d-825a-f54bd1105f74",
   "metadata": {},
   "outputs": [],
   "source": [
    "lines = text.split('\\n')\n",
    "lines[:2]"
   ]
  },
  {
   "cell_type": "code",
   "execution_count": null,
   "id": "6a34e517-850b-44b0-a183-49a26e776e48",
   "metadata": {},
   "outputs": [],
   "source": [
    "lines[-2:]"
   ]
  },
  {
   "cell_type": "code",
   "execution_count": null,
   "id": "0fa97181-6cc7-4363-ac15-6259943f3ca4",
   "metadata": {},
   "outputs": [],
   "source": [
    "line1 = lines[1]\n",
    "line1"
   ]
  },
  {
   "cell_type": "code",
   "execution_count": null,
   "id": "deb0473c-d024-4ecb-8536-b06acb67545d",
   "metadata": {},
   "outputs": [],
   "source": [
    "words = line1.split('\\t')\n",
    "words"
   ]
  },
  {
   "cell_type": "code",
   "execution_count": null,
   "id": "04df6372-b4a2-480f-a3c0-99203d941e78",
   "metadata": {},
   "outputs": [],
   "source": [
    "key, val = words\n",
    "key, val"
   ]
  },
  {
   "cell_type": "code",
   "execution_count": null,
   "id": "f70fdda1-9cdb-4be2-8805-b38b1bdc93fb",
   "metadata": {},
   "outputs": [],
   "source": [
    "kuerzel_kanton = {}\n",
    "kuerzel_kanton[key] = val\n",
    "kuerzel_kanton"
   ]
  },
  {
   "cell_type": "code",
   "execution_count": null,
   "id": "2a7d4b67-84b2-4a96-91da-780f65e30853",
   "metadata": {},
   "outputs": [],
   "source": [
    "kuerzel_kanton['AI']"
   ]
  },
  {
   "cell_type": "code",
   "execution_count": null,
   "id": "cea90fbd-fb9f-4749-a131-45515f3179bb",
   "metadata": {},
   "outputs": [],
   "source": [
    "words"
   ]
  },
  {
   "cell_type": "code",
   "execution_count": null,
   "id": "bf2ec362-0023-447e-8516-cd5d4c017107",
   "metadata": {},
   "outputs": [],
   "source": [
    "words = [word.strip() for word in words]\n",
    "words"
   ]
  },
  {
   "cell_type": "code",
   "execution_count": null,
   "id": "c9a77e14-a0f0-41e9-abc2-3c125568e304",
   "metadata": {},
   "outputs": [],
   "source": [
    "kuerzel_kanton = {}\n",
    "for line in lines:\n",
    "    words = line.split('\\t')\n",
    "    words = [word.strip() for word in words]\n",
    "    key, val = words\n",
    "    kuerzel_kanton[key] = val\n",
    "    \n",
    "kuerzel_kanton['BE']    "
   ]
  },
  {
   "cell_type": "markdown",
   "id": "fb5c29f4-caf5-4ae6-a931-8096ff7da7ba",
   "metadata": {},
   "source": [
    "**Zur Erinnerung**:  \n",
    "`list(kuerzel_kanton)` gibt ebenso wie  \n",
    "`list(kuerzel_kanton.keys())` eine Liste mit den keys des Dictionaries `kuerzel_kanton`"
   ]
  },
  {
   "cell_type": "code",
   "execution_count": null,
   "id": "ac78eb08-e9f2-4e1e-85c8-f9fd67f7bf29",
   "metadata": {},
   "outputs": [],
   "source": [
    "{k:kuerzel_kanton[k] for k in list(kuerzel_kanton)[:2]}"
   ]
  },
  {
   "cell_type": "code",
   "execution_count": null,
   "id": "89208a36-f6d2-4eae-b610-cad8bf744cd2",
   "metadata": {},
   "outputs": [],
   "source": [
    "{k:kuerzel_kanton[k] for k in list(kuerzel_kanton)[-2:]}"
   ]
  },
  {
   "cell_type": "code",
   "execution_count": null,
   "id": "43de5692-6f38-451b-8cb0-e2b0023456de",
   "metadata": {},
   "outputs": [],
   "source": [
    "kuerzel_kanton"
   ]
  },
  {
   "cell_type": "code",
   "execution_count": null,
   "id": "28ef258a-e319-4581-90e2-632b8b556b41",
   "metadata": {},
   "outputs": [],
   "source": []
  }
 ],
 "metadata": {
  "kernelspec": {
   "display_name": "Python 3 (ipykernel)",
   "language": "python",
   "name": "python3"
  },
  "language_info": {
   "codemirror_mode": {
    "name": "ipython",
    "version": 3
   },
   "file_extension": ".py",
   "mimetype": "text/x-python",
   "name": "python",
   "nbconvert_exporter": "python",
   "pygments_lexer": "ipython3",
   "version": "3.9.10"
  }
 },
 "nbformat": 4,
 "nbformat_minor": 5
}
