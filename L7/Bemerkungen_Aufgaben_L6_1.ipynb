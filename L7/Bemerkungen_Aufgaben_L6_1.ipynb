{
 "cells": [
  {
   "cell_type": "markdown",
   "id": "c10729c6-ee92-4d5f-84c3-b77f7ed9f5db",
   "metadata": {},
   "source": [
    "### Bemerkungen zu Aufgaben 1 (Lektion 6)\n",
    "- **Einr&uuml;cken ist Teil der Sprache**!  \n",
    "Der Code in den folgenden beiden Zellen macht nicht das Gleiche!  \n",
    "In der 2. Zelle geh&ouml;rt das `else` zum `for`, siehe\n",
    "[for_else](https://www.w3schools.com/python/gloss_python_for_else.asp) oder \n",
    "[Beispiel am Ende dieses Notebooks](#standardbeispiel).\n",
    "- **Es ist wesentlich**, ob eine Variable ausserhalb oder innerhalb der Funktion definiert ist! "
   ]
  },
  {
   "cell_type": "code",
   "execution_count": null,
   "id": "2fe85567-b91a-4748-b39f-0f833a2c8d9b",
   "metadata": {},
   "outputs": [],
   "source": [
    "# Generiert Links zu Notebooks\n",
    "import hacks\n",
    "from IPython.display import Markdown\n",
    "notebooks = [('Funktionen', '/L3/Funktionen_I.ipynb')]\n",
    "Markdown('\\n'.join(hacks.notebook_links(notebooks)))"
   ]
  },
  {
   "cell_type": "code",
   "execution_count": null,
   "id": "7fe1e9f0-478b-489b-b9ec-b649b53df319",
   "metadata": {},
   "outputs": [],
   "source": [
    "# Buchstaben im String s zaehlen\n",
    "s = 'abcaa'\n",
    "d = {}\n",
    "for ch in s:\n",
    "    if ch not in d:\n",
    "        d[ch] = 1\n",
    "    else:\n",
    "        d[ch] = d[ch]+ 1\n",
    "        \n",
    "print(d)"
   ]
  },
  {
   "cell_type": "code",
   "execution_count": null,
   "id": "2497d7a3-e187-42ce-b39b-d749f98b3811",
   "metadata": {},
   "outputs": [],
   "source": [
    "# else NICHT in gleicher Spalte wie if\n",
    "s = 'abcaa'\n",
    "d = {}\n",
    "for ch in s:\n",
    "    if ch not in d:\n",
    "        d[ch] = 1\n",
    "else:\n",
    "        d[ch] = d[ch]+ 1\n",
    "        \n",
    "print(d)"
   ]
  },
  {
   "cell_type": "code",
   "execution_count": null,
   "id": "b10d7ab3-53ab-475b-ab2f-3a39c7ef7fd1",
   "metadata": {},
   "outputs": [],
   "source": [
    "# Korrekt\n",
    "def count_chars(s):\n",
    "    '''gib dictionary zurueck mit Buchstabencounts'''\n",
    "    d = {} # locales d, wird bei jedem Funktionsaufruf neu erstellt\n",
    "    for ch in s:\n",
    "        if ch not in d:\n",
    "            d[ch] = 1\n",
    "        else:\n",
    "            d[ch] = d[ch]+ 1\n",
    "    return d   "
   ]
  },
  {
   "cell_type": "code",
   "execution_count": null,
   "id": "7617a545-fc3e-445d-a655-1ef682ea5d87",
   "metadata": {},
   "outputs": [],
   "source": [
    "count_chars('abb')"
   ]
  },
  {
   "cell_type": "code",
   "execution_count": null,
   "id": "ee7459be-4272-47c5-99d1-9b61e97776b2",
   "metadata": {},
   "outputs": [],
   "source": [
    "count_chars('bcc')"
   ]
  },
  {
   "cell_type": "code",
   "execution_count": null,
   "id": "133ee152-a4f3-45cb-a064-749daa3692c2",
   "metadata": {},
   "outputs": [],
   "source": [
    "# Falsch\n",
    "d = {} # globales d, wird von Funktion modifiziert\n",
    "def count_chars(s):\n",
    "    '''aendert globalen dict d und gibt diesen zurueck'''\n",
    "    for ch in s:\n",
    "        if ch not in d:\n",
    "            d[ch] = 1\n",
    "        else:\n",
    "            d[ch] = d[ch]+ 1\n",
    "    return d   "
   ]
  },
  {
   "cell_type": "code",
   "execution_count": null,
   "id": "72a1e327-8309-4cfe-8d8e-b80470132fad",
   "metadata": {},
   "outputs": [],
   "source": [
    "# modifiziert globales d\n",
    "count_chars('abb')"
   ]
  },
  {
   "cell_type": "code",
   "execution_count": null,
   "id": "15d76bdb-8f2e-40f7-bbb0-185196ef8188",
   "metadata": {},
   "outputs": [],
   "source": [
    "# modifiziert globales d\n",
    "count_chars('bcc')"
   ]
  },
  {
   "cell_type": "markdown",
   "id": "747a1d62-4e39-4989-b409-ae0690db4afd",
   "metadata": {},
   "source": [
    "<a id='standardbeispiel'></a>\n",
    "**Standardbeispiel zu** `for-else`:\n",
    "```python\n",
    "for <variable(s)> in <iterable>:\n",
    "    <statements>\n",
    "else:\n",
    "    <statements>\n",
    "```\n",
    "Liste nach Element durchsuchen:"
   ]
  },
  {
   "cell_type": "code",
   "execution_count": null,
   "id": "667b8b1c-4e7d-4616-a56d-8ab9c94957a3",
   "metadata": {},
   "outputs": [],
   "source": [
    "# suche nach x in der Liste lst\n",
    "x = 35\n",
    "lst = [1,34,100]\n",
    "\n",
    "for item in lst:\n",
    "    if item == x:\n",
    "        print('Element {} found in {}'.format(x, lst))\n",
    "        break # for-Schleife verlassen\n",
    "        \n",
    "else:\n",
    "    print('Element {} NOT found in {}'.format(x, lst)) "
   ]
  },
  {
   "cell_type": "code",
   "execution_count": null,
   "id": "13b19698-45a1-455b-ae93-8a5aad6b33ae",
   "metadata": {},
   "outputs": [],
   "source": []
  }
 ],
 "metadata": {
  "kernelspec": {
   "display_name": "Python 3 (ipykernel)",
   "language": "python",
   "name": "python3"
  },
  "language_info": {
   "codemirror_mode": {
    "name": "ipython",
    "version": 3
   },
   "file_extension": ".py",
   "mimetype": "text/x-python",
   "name": "python",
   "nbconvert_exporter": "python",
   "pygments_lexer": "ipython3",
   "version": "3.9.10"
  }
 },
 "nbformat": 4,
 "nbformat_minor": 5
}
